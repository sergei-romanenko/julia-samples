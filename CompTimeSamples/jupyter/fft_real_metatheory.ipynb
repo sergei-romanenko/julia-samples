{
 "cells": [
  {
   "cell_type": "code",
   "execution_count": 1,
   "metadata": {},
   "outputs": [],
   "source": [
    "using FFTW, Random, Test\n",
    "using MacroTools: prettify"
   ]
  },
  {
   "cell_type": "code",
   "execution_count": 2,
   "metadata": {},
   "outputs": [],
   "source": [
    "Random.seed!(1234)\n",
    "sample_vector_input = rand(32);\n",
    "sample_tuple_input = Tuple(sample_vector_input);"
   ]
  },
  {
   "cell_type": "code",
   "execution_count": 3,
   "metadata": {},
   "outputs": [
    {
     "data": {
      "text/plain": [
       "test_fft (generic function with 1 method)"
      ]
     },
     "metadata": {},
     "output_type": "display_data"
    }
   ],
   "source": [
    "function test_fft(fft)\n",
    "    @test FFTW.fft(sample_vector_input) ≈ fft(sample_tuple_input)\n",
    "end"
   ]
  },
  {
   "cell_type": "markdown",
   "metadata": {},
   "source": [
    "## Работа с комплексными числами"
   ]
  },
  {
   "cell_type": "code",
   "execution_count": 4,
   "metadata": {},
   "outputs": [
    {
     "data": {
      "text/plain": [
       "fft_rec_c (generic function with 1 method)"
      ]
     },
     "metadata": {},
     "output_type": "display_data"
    }
   ],
   "source": [
    "function fft_rec_c(a)\n",
    "    n = length(a)\n",
    "    @assert n > 0 && ispow2(n)\n",
    "\n",
    "    b = Vector{Complex{Float64}}(undef, n)\n",
    "\n",
    "    if isone(n)\n",
    "        b[1] = a[1]\n",
    "        return b\n",
    "    end\n",
    "\n",
    "    n2 = n ÷ 2\n",
    "    w = exp(-2 * pi * im / n)\n",
    "\n",
    "    a1 = [a[k] for k in 1:2:n]\n",
    "    a2 = [a[k] for k in 2:2:n]\n",
    "    y1 = fft_rec_c(a1)\n",
    "    y2 = fft_rec_c(a2)\n",
    "    for k in 1:n2\n",
    "        t = w^(k - 1) * y2[k]\n",
    "        b[k] = y1[k] + t\n",
    "        b[k+n2] = y1[k] - t\n",
    "    end\n",
    "    return b\n",
    "end"
   ]
  },
  {
   "cell_type": "code",
   "execution_count": 5,
   "metadata": {},
   "outputs": [
    {
     "data": {
      "text/plain": [
       "4-element Vector{ComplexF64}:\n",
       " 100.0 + 0.0im\n",
       " -20.0 + 20.0im\n",
       " -20.0 + 0.0im\n",
       " -20.0 - 20.0im"
      ]
     },
     "metadata": {},
     "output_type": "display_data"
    }
   ],
   "source": [
    "fft_rec_c((10.0, 20.0, 30.0, 40.0))"
   ]
  },
  {
   "cell_type": "code",
   "execution_count": 6,
   "metadata": {},
   "outputs": [
    {
     "data": {
      "text/plain": [
       "\u001b[32m\u001b[1mTest Passed\u001b[22m\u001b[39m"
      ]
     },
     "metadata": {},
     "output_type": "display_data"
    }
   ],
   "source": [
    "test_fft(fft_rec_c)"
   ]
  },
  {
   "cell_type": "markdown",
   "metadata": {},
   "source": [
    "## Переход к действительным числам"
   ]
  },
  {
   "cell_type": "code",
   "execution_count": 7,
   "metadata": {},
   "outputs": [
    {
     "data": {
      "text/plain": [
       "fft_rec_ (generic function with 1 method)"
      ]
     },
     "metadata": {},
     "output_type": "display_data"
    }
   ],
   "source": [
    "function fft_rec_(a)\n",
    "    n = length(a)\n",
    "    b_r = Vector{Float64}(undef, n)\n",
    "    b_i = Vector{Float64}(undef, n)\n",
    "\n",
    "    if isone(n)\n",
    "        b_r[1] = a[1]\n",
    "        b_i[1] = 0.0\n",
    "        return b_r, b_i\n",
    "    end\n",
    "\n",
    "    n2 = n ÷ 2\n",
    "\n",
    "    a1 = [a[k] for k in 1:2:n]\n",
    "    a2 = [a[k] for k in 2:2:n]\n",
    "    y1_r, y1_i = fft_rec_(a1)\n",
    "    y2_r, y2_i = fft_rec_(a2)\n",
    "\n",
    "    for k in 1:n2\n",
    "        theta = -2 * (k - 1) * pi / n\n",
    "        wk_r, wk_i = cos(theta), sin(theta)\n",
    "\n",
    "        t_r = wk_r * y2_r[k] - wk_i * y2_i[k]\n",
    "        t_i = wk_r * y2_i[k] + wk_i * y2_r[k]\n",
    "        b_r[k] = y1_r[k] + t_r\n",
    "        b_i[k] = y1_i[k] + t_i\n",
    "        b_r[k+n2] = y1_r[k] - t_r\n",
    "        b_i[k+n2] = y1_i[k] - t_i\n",
    "    end\n",
    "    return b_r, b_i\n",
    "end"
   ]
  },
  {
   "cell_type": "code",
   "execution_count": 8,
   "metadata": {},
   "outputs": [
    {
     "data": {
      "text/plain": [
       "fft_rec (generic function with 1 method)"
      ]
     },
     "metadata": {},
     "output_type": "display_data"
    }
   ],
   "source": [
    "function fft_rec(a)\n",
    "    n = length(a)\n",
    "    @assert n > 0 && ispow2(n)\n",
    "    b_r, b_i = fft_rec_(a)\n",
    "    return [complex(b_r[k], b_i[k]) for k in 1:n]\n",
    "end"
   ]
  },
  {
   "cell_type": "code",
   "execution_count": 9,
   "metadata": {},
   "outputs": [
    {
     "data": {
      "text/plain": [
       "4-element Vector{ComplexF64}:\n",
       " 100.0 + 0.0im\n",
       " -20.0 + 20.0im\n",
       " -20.0 + 0.0im\n",
       " -20.0 - 20.0im"
      ]
     },
     "metadata": {},
     "output_type": "display_data"
    }
   ],
   "source": [
    "fft_rec((10.0, 20.0, 30.0, 40.0))"
   ]
  },
  {
   "cell_type": "code",
   "execution_count": 10,
   "metadata": {},
   "outputs": [
    {
     "data": {
      "text/plain": [
       "\u001b[32m\u001b[1mTest Passed\u001b[22m\u001b[39m"
      ]
     },
     "metadata": {},
     "output_type": "display_data"
    }
   ],
   "source": [
    "test_fft(fft_rec)"
   ]
  },
  {
   "cell_type": "markdown",
   "metadata": {},
   "source": [
    "## Переделываем вычислитель в генератор"
   ]
  },
  {
   "cell_type": "code",
   "execution_count": 11,
   "metadata": {},
   "outputs": [
    {
     "data": {
      "text/plain": [
       "fft_gen_impl1! (generic function with 1 method)"
      ]
     },
     "metadata": {},
     "output_type": "display_data"
    }
   ],
   "source": [
    "function fft_gen_impl1!(a, es, m)\n",
    "    n = length(a)\n",
    "\n",
    "    b_r = [Symbol(\"b_r_\", m[], \"_\", k) for k in 1:n]\n",
    "    b_i = [Symbol(\"b_i_\", m[], \"_\", k) for k in 1:n]\n",
    "    m[] += 1\n",
    "\n",
    "    if isone(n)\n",
    "        append!(es, (\n",
    "            :($(b_r[1]) = $(a[1])),\n",
    "            :($(b_i[1]) = 0.0)\n",
    "        ))\n",
    "        return b_r, b_i\n",
    "    end\n",
    "\n",
    "    n2 = n ÷ 2\n",
    "    a1 = [a[k] for k in 1:2:n]\n",
    "    a2 = [a[k] for k in 2:2:n]\n",
    "    y1_r, y1_i = fft_gen_impl1!(a1, es, m)\n",
    "    y2_r, y2_i = fft_gen_impl1!(a2, es, m)\n",
    "\n",
    "    w = exp(-2 * pi * im / n)\n",
    "\n",
    "    for k in 1:n2\n",
    "        t_r = Symbol(\"t_r_\", m[])\n",
    "        t_i = Symbol(\"t_i_\", m[])\n",
    "        m[] += 1\n",
    "\n",
    "        theta = -2 * (k - 1) * pi / n\n",
    "        wk_r, wk_i = cos(theta), sin(theta)\n",
    "\n",
    "        append!(es, (\n",
    "            :($t_r = $wk_r * $(y2_r[k]) - $wk_i * $(y2_i[k])),\n",
    "            :($t_i = $wk_r * $(y2_i[k]) + $wk_i * $(y2_r[k])),\n",
    "            :($(b_r[k]) = $(y1_r[k]) + $t_r),\n",
    "            :($(b_i[k]) = $(y1_i[k]) + $t_i),\n",
    "            :($(b_r[k+n2]) = $(y1_r[k]) - $t_r),\n",
    "            :($(b_i[k+n2]) = $(y1_i[k]) - $(t_i))\n",
    "        ))\n",
    "    end\n",
    "\n",
    "\n",
    "    return b_r, b_i\n",
    "end"
   ]
  },
  {
   "cell_type": "code",
   "execution_count": 12,
   "metadata": {},
   "outputs": [
    {
     "data": {
      "text/plain": [
       "fft_gen_impl1 (generic function with 1 method)"
      ]
     },
     "metadata": {},
     "output_type": "display_data"
    }
   ],
   "source": [
    "function fft_gen_impl1(n)\n",
    "    @assert n > 0 && ispow2(n)\n",
    "\n",
    "    a = [:(a[$k]) for k in 1:n]\n",
    "    es = Expr[]\n",
    "    m = Ref(1)\n",
    "    b_r, b_i = fft_gen_impl1!(a, es, m)\n",
    "\n",
    "    b = [:(complex($(b_r[k]), $(b_i[k]))) for k in 1:n]\n",
    "    quote\n",
    "        $(es...)\n",
    "        return $(Expr(:vect, b...))\n",
    "    end\n",
    "\n",
    "end"
   ]
  },
  {
   "cell_type": "code",
   "execution_count": 13,
   "metadata": {},
   "outputs": [
    {
     "data": {
      "text/plain": [
       "quote\n",
       "    b_r_3_1 = a[1]\n",
       "    b_i_3_1 = 0.0\n",
       "    b_r_4_1 = a[3]\n",
       "    b_i_4_1 = 0.0\n",
       "    t_r_5 = 1.0b_r_4_1 - 0.0b_i_4_1\n",
       "    t_i_5 = 1.0b_i_4_1 + 0.0b_r_4_1\n",
       "    b_r_2_1 = b_r_3_1 + t_r_5\n",
       "    b_i_2_1 = b_i_3_1 + t_i_5\n",
       "    b_r_2_2 = b_r_3_1 - t_r_5\n",
       "    b_i_2_2 = b_i_3_1 - t_i_5\n",
       "    b_r_7_1 = a[2]\n",
       "    b_i_7_1 = 0.0\n",
       "    b_r_8_1 = a[4]\n",
       "    b_i_8_1 = 0.0\n",
       "    t_r_9 = 1.0b_r_8_1 - 0.0b_i_8_1\n",
       "    t_i_9 = 1.0b_i_8_1 + 0.0b_r_8_1\n",
       "    b_r_6_1 = b_r_7_1 + t_r_9\n",
       "    b_i_6_1 = b_i_7_1 + t_i_9\n",
       "    b_r_6_2 = b_r_7_1 - t_r_9\n",
       "    b_i_6_2 = b_i_7_1 - t_i_9\n",
       "    t_r_10 = 1.0b_r_6_1 - 0.0b_i_6_1\n",
       "    t_i_10 = 1.0b_i_6_1 + 0.0b_r_6_1\n",
       "    b_r_1_1 = b_r_2_1 + t_r_10\n",
       "    b_i_1_1 = b_i_2_1 + t_i_10\n",
       "    b_r_1_3 = b_r_2_1 - t_r_10\n",
       "    b_i_1_3 = b_i_2_1 - t_i_10\n",
       "    t_r_11 = 6.123233995736766e-17b_r_6_2 - -1.0b_i_6_2\n",
       "    t_i_11 = 6.123233995736766e-17b_i_6_2 + -1.0b_r_6_2\n",
       "    b_r_1_2 = b_r_2_2 + t_r_11\n",
       "    b_i_1_2 = b_i_2_2 + t_i_11\n",
       "    b_r_1_4 = b_r_2_2 - t_r_11\n",
       "    b_i_1_4 = b_i_2_2 - t_i_11\n",
       "    return [complex(b_r_1_1, b_i_1_1), complex(b_r_1_2, b_i_1_2), complex(b_r_1_3, b_i_1_3), complex(b_r_1_4, b_i_1_4)]\n",
       "end"
      ]
     },
     "metadata": {},
     "output_type": "display_data"
    }
   ],
   "source": [
    "fft_gen_impl1(4) |> prettify"
   ]
  },
  {
   "cell_type": "code",
   "execution_count": 14,
   "metadata": {},
   "outputs": [
    {
     "data": {
      "text/plain": [
       "fft_gen1 (generic function with 1 method)"
      ]
     },
     "metadata": {},
     "output_type": "display_data"
    }
   ],
   "source": [
    "@generated function fft_gen1(a::NTuple{N,Float64}) where {N}\n",
    "    fft_gen_impl1(N)\n",
    "end"
   ]
  },
  {
   "cell_type": "code",
   "execution_count": 15,
   "metadata": {},
   "outputs": [
    {
     "data": {
      "text/plain": [
       "4-element Vector{ComplexF64}:\n",
       " 100.0 + 0.0im\n",
       " -20.0 + 20.0im\n",
       " -20.0 + 0.0im\n",
       " -20.0 - 20.0im"
      ]
     },
     "metadata": {},
     "output_type": "display_data"
    }
   ],
   "source": [
    "fft_gen1((10.0, 20.0, 30.0, 40.0))"
   ]
  },
  {
   "cell_type": "code",
   "execution_count": 16,
   "metadata": {},
   "outputs": [
    {
     "data": {
      "text/plain": [
       "\u001b[32m\u001b[1mTest Passed\u001b[22m\u001b[39m"
      ]
     },
     "metadata": {},
     "output_type": "display_data"
    }
   ],
   "source": [
    "test_fft(fft_gen1)"
   ]
  },
  {
   "cell_type": "markdown",
   "metadata": {},
   "source": [
    "## Замена приближенных числе на точные.</br>Обеспечение того, чтобы $sin (π / 4) = cos (π / 4)$."
   ]
  },
  {
   "cell_type": "code",
   "execution_count": 17,
   "metadata": {},
   "outputs": [
    {
     "data": {
      "text/plain": [
       "wp (generic function with 1 method)"
      ]
     },
     "metadata": {},
     "output_type": "display_data"
    }
   ],
   "source": [
    "function wp(n, j)\n",
    "    if j == 0\n",
    "        (1.0, 0.0)\n",
    "    elseif 2 * j == n\n",
    "        (-1.0, 0.0)\n",
    "    elseif 4 * j == n\n",
    "        (0.0, -1.0)\n",
    "    elseif 4 * j == 3 * n\n",
    "        (0.0, 1.0)\n",
    "    elseif mod(8 * j, n) == 0\n",
    "        @assert isodd((8 * j) ÷ n)\n",
    "        quadrant = 4 - ((((8 * j) ÷ n) - 1) ÷ 2)\n",
    "        cos_signs = 1.0, -1.0, -1.0, 1.0\n",
    "        sin_signs = 1.0, 1.0, -1.0, -1.0\n",
    "        csh = cos(pi / 4.0)\n",
    "        csh * cos_signs[quadrant], csh * sin_signs[quadrant]\n",
    "    else\n",
    "        theta = (-2 * j) * pi / n\n",
    "        cos(theta), sin(theta)\n",
    "    end\n",
    "end"
   ]
  },
  {
   "cell_type": "code",
   "execution_count": 18,
   "metadata": {},
   "outputs": [
    {
     "data": {
      "text/plain": [
       "16-element Vector{Tuple{Float64, Float64}}:\n",
       " (1.0, 0.0)\n",
       " (0.9238795325112867, -0.3826834323650898)\n",
       " (0.7071067811865476, -0.7071067811865476)\n",
       " (0.38268343236508984, -0.9238795325112867)\n",
       " (0.0, -1.0)\n",
       " (-0.3826834323650897, -0.9238795325112867)\n",
       " (-0.7071067811865476, -0.7071067811865476)\n",
       " (-0.9238795325112867, -0.3826834323650899)\n",
       " (-1.0, 0.0)\n",
       " (-0.9238795325112868, 0.38268343236508967)\n",
       " (-0.7071067811865476, 0.7071067811865476)\n",
       " (-0.38268343236509034, 0.9238795325112865)\n",
       " (0.0, 1.0)\n",
       " (0.38268343236509, 0.9238795325112866)\n",
       " (0.7071067811865476, 0.7071067811865476)\n",
       " (0.9238795325112865, 0.3826834323650904)"
      ]
     },
     "metadata": {},
     "output_type": "display_data"
    }
   ],
   "source": [
    "[wp(16, j) for j in 0:15]"
   ]
  },
  {
   "cell_type": "code",
   "execution_count": 19,
   "metadata": {},
   "outputs": [
    {
     "data": {
      "text/plain": [
       "fft_gen_impl2! (generic function with 1 method)"
      ]
     },
     "metadata": {},
     "output_type": "display_data"
    }
   ],
   "source": [
    "function fft_gen_impl2!(a, es, m)\n",
    "    n = length(a)\n",
    "\n",
    "    b_r = [Symbol(\"b_r_\", m[], \"_\", k) for k in 1:n]\n",
    "    b_i = [Symbol(\"b_i_\", m[], \"_\", k) for k in 1:n]\n",
    "    m[] += 1\n",
    "\n",
    "    if isone(n)\n",
    "        append!(es, (\n",
    "            :($(b_r[1]) = $(a[1])),\n",
    "            :($(b_i[1]) = 0.0)\n",
    "        ))\n",
    "        return b_r, b_i\n",
    "    end\n",
    "\n",
    "    n2 = n ÷ 2\n",
    "    a1 = [a[k] for k in 1:2:n]\n",
    "    a2 = [a[k] for k in 2:2:n]\n",
    "    y1_r, y1_i = fft_gen_impl2!(a1, es, m)\n",
    "    y2_r, y2_i = fft_gen_impl2!(a2, es, m)\n",
    "\n",
    "    for k in 1:n2\n",
    "        t_r = Symbol(\"t_r_\", m[])\n",
    "        t_i = Symbol(\"t_i_\", m[])\n",
    "        m[] += 1\n",
    "\n",
    "        wk_r, wk_i = wp(n, k - 1)\n",
    "        append!(es, (\n",
    "            :($t_r = $wk_r * $(y2_r[k]) - $wk_i * $(y2_i[k])),\n",
    "            :($t_i = $wk_r * $(y2_i[k]) + $wk_i * $(y2_r[k])),\n",
    "            :($(b_r[k]) = $(y1_r[k]) + $t_r),\n",
    "            :($(b_i[k]) = $(y1_i[k]) + $t_i),\n",
    "            :($(b_r[k+n2]) = $(y1_r[k]) - $t_r),\n",
    "            :($(b_i[k+n2]) = $(y1_i[k]) - $(t_i))\n",
    "        ))\n",
    "    end\n",
    "\n",
    "    return b_r, b_i\n",
    "end"
   ]
  },
  {
   "cell_type": "code",
   "execution_count": 20,
   "metadata": {},
   "outputs": [
    {
     "data": {
      "text/plain": [
       "fft_gen_impl2 (generic function with 1 method)"
      ]
     },
     "metadata": {},
     "output_type": "display_data"
    }
   ],
   "source": [
    "function fft_gen_impl2(n)\n",
    "    @assert n > 0 && ispow2(n)\n",
    "\n",
    "    es = Expr[]\n",
    "    m = Ref(1)\n",
    "    a = [:(a[$k]) for k in 1:n]\n",
    "    b_r, b_i = fft_gen_impl2!(a, es, m)\n",
    "\n",
    "    b = [:(complex($(b_r[k]), $(b_i[k]))) for k in 1:n]\n",
    "    quote\n",
    "        $(es...)\n",
    "        return $(Expr(:vect, b...))\n",
    "    end\n",
    "\n",
    "end"
   ]
  },
  {
   "cell_type": "code",
   "execution_count": 21,
   "metadata": {},
   "outputs": [
    {
     "data": {
      "text/plain": [
       "quote\n",
       "    b_r_3_1 = a[1]\n",
       "    b_i_3_1 = 0.0\n",
       "    b_r_4_1 = a[3]\n",
       "    b_i_4_1 = 0.0\n",
       "    t_r_5 = 1.0b_r_4_1 - 0.0b_i_4_1\n",
       "    t_i_5 = 1.0b_i_4_1 + 0.0b_r_4_1\n",
       "    b_r_2_1 = b_r_3_1 + t_r_5\n",
       "    b_i_2_1 = b_i_3_1 + t_i_5\n",
       "    b_r_2_2 = b_r_3_1 - t_r_5\n",
       "    b_i_2_2 = b_i_3_1 - t_i_5\n",
       "    b_r_7_1 = a[2]\n",
       "    b_i_7_1 = 0.0\n",
       "    b_r_8_1 = a[4]\n",
       "    b_i_8_1 = 0.0\n",
       "    t_r_9 = 1.0b_r_8_1 - 0.0b_i_8_1\n",
       "    t_i_9 = 1.0b_i_8_1 + 0.0b_r_8_1\n",
       "    b_r_6_1 = b_r_7_1 + t_r_9\n",
       "    b_i_6_1 = b_i_7_1 + t_i_9\n",
       "    b_r_6_2 = b_r_7_1 - t_r_9\n",
       "    b_i_6_2 = b_i_7_1 - t_i_9\n",
       "    t_r_10 = 1.0b_r_6_1 - 0.0b_i_6_1\n",
       "    t_i_10 = 1.0b_i_6_1 + 0.0b_r_6_1\n",
       "    b_r_1_1 = b_r_2_1 + t_r_10\n",
       "    b_i_1_1 = b_i_2_1 + t_i_10\n",
       "    b_r_1_3 = b_r_2_1 - t_r_10\n",
       "    b_i_1_3 = b_i_2_1 - t_i_10\n",
       "    t_r_11 = 0.0b_r_6_2 - -1.0b_i_6_2\n",
       "    t_i_11 = 0.0b_i_6_2 + -1.0b_r_6_2\n",
       "    b_r_1_2 = b_r_2_2 + t_r_11\n",
       "    b_i_1_2 = b_i_2_2 + t_i_11\n",
       "    b_r_1_4 = b_r_2_2 - t_r_11\n",
       "    b_i_1_4 = b_i_2_2 - t_i_11\n",
       "    return [complex(b_r_1_1, b_i_1_1), complex(b_r_1_2, b_i_1_2), complex(b_r_1_3, b_i_1_3), complex(b_r_1_4, b_i_1_4)]\n",
       "end"
      ]
     },
     "metadata": {},
     "output_type": "display_data"
    }
   ],
   "source": [
    "fft_gen_impl2(4) |> prettify"
   ]
  },
  {
   "cell_type": "code",
   "execution_count": 22,
   "metadata": {},
   "outputs": [
    {
     "data": {
      "text/plain": [
       "fft_gen2 (generic function with 1 method)"
      ]
     },
     "metadata": {},
     "output_type": "display_data"
    }
   ],
   "source": [
    "@generated function fft_gen2(a::NTuple{N,Float64}) where {N}\n",
    "    fft_gen_impl2(N)\n",
    "end"
   ]
  },
  {
   "cell_type": "code",
   "execution_count": 23,
   "metadata": {},
   "outputs": [
    {
     "data": {
      "text/plain": [
       "4-element Vector{ComplexF64}:\n",
       " 100.0 + 0.0im\n",
       " -20.0 + 20.0im\n",
       " -20.0 + 0.0im\n",
       " -20.0 - 20.0im"
      ]
     },
     "metadata": {},
     "output_type": "display_data"
    }
   ],
   "source": [
    "fft_gen2((10.0, 20.0, 30.0, 40.0))"
   ]
  },
  {
   "cell_type": "code",
   "execution_count": 24,
   "metadata": {},
   "outputs": [
    {
     "data": {
      "text/plain": [
       "\u001b[32m\u001b[1mTest Passed\u001b[22m\u001b[39m"
      ]
     },
     "metadata": {},
     "output_type": "display_data"
    }
   ],
   "source": [
    "test_fft(fft_gen2)"
   ]
  },
  {
   "cell_type": "markdown",
   "metadata": {},
   "source": [
    "## Упрощение выражений через переписывание (Metatheory.jl)"
   ]
  },
  {
   "cell_type": "code",
   "execution_count": 25,
   "metadata": {},
   "outputs": [],
   "source": [
    "using Metatheory, Metatheory.Rewriters"
   ]
  },
  {
   "cell_type": "code",
   "execution_count": 26,
   "metadata": {},
   "outputs": [],
   "source": [
    "opt_rules = @theory c c1 c2 x y begin\n",
    "\n",
    "    x::Float64 + y::Float64 => x + y\n",
    "    x + 0.0 --> x\n",
    "    0.0 + y --> y\n",
    "\n",
    "    x::Float64 - y::Float64 => x - y\n",
    "    x - 0.0 --> x\n",
    "    0.0 - y --> -y\n",
    "\n",
    "    x::Float64 * y::Float64 => x * y\n",
    "    x * 0.0 --> 0.0\n",
    "    0.0 * y --> 0.0\n",
    "\n",
    "    x * 1.0 --> x\n",
    "    1.0 * y --> y\n",
    "    x * -1.0 --> -x\n",
    "    -1.0 * y --> -y\n",
    "\n",
    "    x + (-y) --> x - y\n",
    "    x - (-y) --> x + y\n",
    "\n",
    "    c::Float64 * x + c::Float64 * y --> c * (x + y)\n",
    "    c::Float64 * x - c::Float64 * y --> c * (x - y)\n",
    "\n",
    "    c1::Float64 * x + c2::Float64 * y => :($c1 * ($x - $y)) where {c1==-c2}\n",
    "    c1::Float64 * x - c2::Float64 * y => :($c1 * ($x + $y)) where {c1==-c2}\n",
    "\n",
    "    c1::Float64 * x + c2::Float64 * y => :($c1 * ($x + $(c2 / c1) * $y))\n",
    "    c1::Float64 * x - c2::Float64 * y => :($c1 * ($x - $(c2 / c1) * $y))\n",
    "\n",
    "end;"
   ]
  },
  {
   "cell_type": "code",
   "execution_count": 27,
   "metadata": {},
   "outputs": [
    {
     "data": {
      "text/plain": [
       "opt_expr (generic function with 1 method)"
      ]
     },
     "metadata": {},
     "output_type": "display_data"
    }
   ],
   "source": [
    "strategy = (#= Fixpoint ∘ =# Postwalk ∘ Chain)\n",
    "opt_expr(e) = strategy(opt_rules)(e)"
   ]
  },
  {
   "cell_type": "code",
   "execution_count": 28,
   "metadata": {},
   "outputs": [
    {
     "data": {
      "text/plain": [
       "\u001b[32m\u001b[1mTest Passed\u001b[22m\u001b[39m"
      ]
     },
     "metadata": {},
     "output_type": "display_data"
    }
   ],
   "source": [
    "@test opt_expr(:(2.0 + 3.0)) == 5.0\n",
    "@test opt_expr(:(u + 0.0)) == :u\n",
    "@test opt_expr(:(0.0 + v)) == :v\n",
    "@test opt_expr(:(2.0 - 3.0)) == -1.0\n",
    "@test opt_expr(:(u - 0.0)) == :u\n",
    "@test opt_expr(:(0.0 - v)) == :(-v)\n",
    "@test opt_expr(:(2.0 * 3.0)) == 6.0\n",
    "@test opt_expr(:(u * 0.0)) == 0.0\n",
    "@test opt_expr(:(0.0 * v)) == 0.0\n",
    "@test opt_expr(:(u * 1.0)) == :u\n",
    "@test opt_expr(:(1.0 * v)) == :v\n",
    "@test opt_expr(:(u * -1.0)) == :(-u)\n",
    "@test opt_expr(:(-1.0 * v)) == :(-v)\n",
    "@test opt_expr(:(u + (-v))) == :(u - v)\n",
    "@test opt_expr(:(u - (-v))) == :(u + v)\n",
    "@test opt_expr(:(10.0 * u + 10.0 * v)) == :(10.0 * (u + v))\n",
    "@test opt_expr(:(10.0 * u - 10.0 * v)) == :(10.0 * (u - v))\n",
    "@test opt_expr(:(10.0 * u + -10.0 * v)) == :(10.0 * (u - v))\n",
    "@test opt_expr(:(10.0 * u - -10.0 * v)) == :(10.0 * (u + v))\n",
    "@test opt_expr(:(10.0 * u + 20.0 * v)) == :(10.0 * (u + 2.0 * v))\n",
    "@test opt_expr(:(10.0 * u - 20.0 * v)) == :(10.0 * (u - 2.0 * v))"
   ]
  },
  {
   "cell_type": "code",
   "execution_count": 29,
   "metadata": {},
   "outputs": [
    {
     "data": {
      "text/plain": [
       "do_ass_o! (generic function with 3 methods)"
      ]
     },
     "metadata": {},
     "output_type": "display_data"
    }
   ],
   "source": [
    "function do_ass_o!(es, d, s::Symbol, c::Float64)\n",
    "    d[s] = c\n",
    "end\n",
    "\n",
    "function do_ass_o!(es, d, s::Symbol, u::Symbol)\n",
    "    d[s] = u\n",
    "end\n",
    "\n",
    "function do_ass_o!(es, d, s::Symbol, e)\n",
    "    d[s] = s\n",
    "    push!(es, :($s = $e))\n",
    "end"
   ]
  },
  {
   "cell_type": "code",
   "execution_count": 30,
   "metadata": {},
   "outputs": [
    {
     "data": {
      "text/plain": [
       "ass_o! (generic function with 1 method)"
      ]
     },
     "metadata": {},
     "output_type": "display_data"
    }
   ],
   "source": [
    "function ass_o!(es, d, s::Symbol, e)\n",
    "    do_ass_o!(es, d, s, opt_expr(e))\n",
    "end"
   ]
  },
  {
   "cell_type": "code",
   "execution_count": 31,
   "metadata": {},
   "outputs": [
    {
     "data": {
      "text/plain": [
       "fft_gen_impl_o! (generic function with 1 method)"
      ]
     },
     "metadata": {},
     "output_type": "display_data"
    }
   ],
   "source": [
    "function fft_gen_impl_o!(a, d, es, m)\n",
    "    n = length(a)\n",
    "\n",
    "    b_r = [Symbol(\"b_r_\", m[], \"_\", k) for k in 1:n]\n",
    "    b_i = [Symbol(\"b_i_\", m[], \"_\", k) for k in 1:n]\n",
    "    m[] += 1\n",
    "\n",
    "    if isone(n)\n",
    "        ass_o!(es, d, b_r[1], a[1])\n",
    "        ass_o!(es, d, b_i[1], 0.0)\n",
    "        return [d[b_r[1]]], [d[b_i[1]]]\n",
    "    end\n",
    "\n",
    "    n2 = n ÷ 2\n",
    "    a1 = [a[k] for k in 1:2:n]\n",
    "    a2 = [a[k] for k in 2:2:n]\n",
    "\n",
    "    y1_r, y1_i = fft_gen_impl_o!(a1, d, es, m)\n",
    "    y2_r, y2_i = fft_gen_impl_o!(a2, d, es, m)\n",
    "\n",
    "    for k in 1:n2\n",
    "        t_r = Symbol(\"t_r_\", m[])\n",
    "        t_i = Symbol(\"t_i_\", m[])\n",
    "        m[] += 1\n",
    "\n",
    "        (wk_r, wk_i) = wp(n, k - 1)\n",
    "        ass_o!(es, d, t_r,\n",
    "            :($wk_r * $(y2_r[k]) - $wk_i * $(y2_i[k])))\n",
    "        ass_o!(es, d, t_i,\n",
    "            :($wk_r * $(y2_i[k]) + $wk_i * $(y2_r[k])))\n",
    "        ass_o!(es, d, b_r[k],\n",
    "            :($(y1_r[k]) + $(d[t_r])))\n",
    "        ass_o!(es, d, b_i[k],\n",
    "            :($(y1_i[k]) + $(d[t_i])))\n",
    "        ass_o!(es, d, b_r[k+n2],\n",
    "            :($(y1_r[k]) - $(d[t_r])))\n",
    "        ass_o!(es, d, b_i[k+n2],\n",
    "            :($(y1_i[k]) - $(d[t_i])))\n",
    "    end\n",
    "\n",
    "    d_b_r = [d[b_r[k]] for k in 1:n]\n",
    "    d_b_i = [d[b_i[k]] for k in 1:n]\n",
    "    return d_b_r, d_b_i\n",
    "end"
   ]
  },
  {
   "cell_type": "code",
   "execution_count": 32,
   "metadata": {},
   "outputs": [
    {
     "data": {
      "text/plain": [
       "fft_gen_impl_o (generic function with 1 method)"
      ]
     },
     "metadata": {},
     "output_type": "display_data"
    }
   ],
   "source": [
    "function fft_gen_impl_o(n)\n",
    "    @assert n > 0 && ispow2(n)\n",
    "\n",
    "    a = [:(a[$k]) for k in 1:n]\n",
    "    d = Dict{Symbol,Any}()\n",
    "    es = Expr[]\n",
    "    m = Ref(1)\n",
    "\n",
    "    b_r, b_i = fft_gen_impl_o!(a, d, es, m)\n",
    "\n",
    "    b = [:(complex($(b_r[k]), $(b_i[k]))) for k in 1:n]\n",
    "\n",
    "    quote\n",
    "        $(es...)\n",
    "        return $(Expr(:vect, b...))\n",
    "    end\n",
    "end"
   ]
  },
  {
   "cell_type": "code",
   "execution_count": 33,
   "metadata": {},
   "outputs": [
    {
     "data": {
      "text/plain": [
       "quote\n",
       "    b_r_5_1 = a[1]\n",
       "    b_r_6_1 = a[9]\n",
       "    b_r_4_1 = b_r_5_1 + b_r_6_1\n",
       "    b_r_4_2 = b_r_5_1 - b_r_6_1\n",
       "    b_r_9_1 = a[5]\n",
       "    b_r_10_1 = a[13]\n",
       "    b_r_8_1 = b_r_9_1 + b_r_10_1\n",
       "    b_r_8_2 = b_r_9_1 - b_r_10_1\n",
       "    b_r_3_1 = b_r_4_1 + b_r_8_1\n",
       "    b_r_3_3 = b_r_4_1 - b_r_8_1\n",
       "    t_i_13 = -b_r_8_2\n",
       "    b_i_3_4 = -t_i_13\n",
       "    b_r_16_1 = a[3]\n",
       "    b_r_17_1 = a[11]\n",
       "    b_r_15_1 = b_r_16_1 + b_r_17_1\n",
       "    b_r_15_2 = b_r_16_1 - b_r_17_1\n",
       "    b_r_20_1 = a[7]\n",
       "    b_r_21_1 = a[15]\n",
       "    b_r_19_1 = b_r_20_1 + b_r_21_1\n",
       "    b_r_19_2 = b_r_20_1 - b_r_21_1\n",
       "    b_r_14_1 = b_r_15_1 + b_r_19_1\n",
       "    b_r_14_3 = b_r_15_1 - b_r_19_1\n",
       "    t_i_24 = -b_r_19_2\n",
       "    b_i_14_4 = -t_i_24\n",
       "    b_r_2_1 = b_r_3_1 + b_r_14_1\n",
       "    b_r_2_5 = b_r_3_1 - b_r_14_1\n",
       "    t_r_26 = 0.7071067811865476 * (b_r_15_2 + t_i_24)\n",
       "    t_i_26 = 0.7071067811865476 * (t_i_24 - b_r_15_2)\n",
       "    b_r_2_2 = b_r_4_2 + t_r_26\n",
       "    b_i_2_2 = t_i_13 + t_i_26\n",
       "    b_r_2_6 = b_r_4_2 - t_r_26\n",
       "    b_i_2_6 = t_i_13 - t_i_26\n",
       "    t_i_27 = -b_r_14_3\n",
       "    b_i_2_7 = -t_i_27\n",
       "    t_r_28 = -0.7071067811865476 * (b_r_15_2 - b_i_14_4)\n",
       "    t_i_28 = -0.7071067811865476 * (b_i_14_4 + b_r_15_2)\n",
       "    b_r_2_4 = b_r_4_2 + t_r_28\n",
       "    b_i_2_4 = b_i_3_4 + t_i_28\n",
       "    b_r_2_8 = b_r_4_2 - t_r_28\n",
       "    b_i_2_8 = b_i_3_4 - t_i_28\n",
       "    b_r_32_1 = a[2]\n",
       "    b_r_33_1 = a[10]\n",
       "    b_r_31_1 = b_r_32_1 + b_r_33_1\n",
       "    b_r_31_2 = b_r_32_1 - b_r_33_1\n",
       "    b_r_36_1 = a[6]\n",
       "    b_r_37_1 = a[14]\n",
       "    b_r_35_1 = b_r_36_1 + b_r_37_1\n",
       "    b_r_35_2 = b_r_36_1 - b_r_37_1\n",
       "    b_r_30_1 = b_r_31_1 + b_r_35_1\n",
       "    b_r_30_3 = b_r_31_1 - b_r_35_1\n",
       "    t_i_40 = -b_r_35_2\n",
       "    b_i_30_4 = -t_i_40\n",
       "    b_r_43_1 = a[4]\n",
       "    b_r_44_1 = a[12]\n",
       "    b_r_42_1 = b_r_43_1 + b_r_44_1\n",
       "    b_r_42_2 = b_r_43_1 - b_r_44_1\n",
       "    b_r_47_1 = a[8]\n",
       "    b_r_48_1 = a[16]\n",
       "    b_r_46_1 = b_r_47_1 + b_r_48_1\n",
       "    b_r_46_2 = b_r_47_1 - b_r_48_1\n",
       "    b_r_41_1 = b_r_42_1 + b_r_46_1\n",
       "    b_r_41_3 = b_r_42_1 - b_r_46_1\n",
       "    t_i_51 = -b_r_46_2\n",
       "    b_i_41_4 = -t_i_51\n",
       "    b_r_29_1 = b_r_30_1 + b_r_41_1\n",
       "    b_r_29_5 = b_r_30_1 - b_r_41_1\n",
       "    t_r_53 = 0.7071067811865476 * (b_r_42_2 + t_i_51)\n",
       "    t_i_53 = 0.7071067811865476 * (t_i_51 - b_r_42_2)\n",
       "    b_r_29_2 = b_r_31_2 + t_r_53\n",
       "    b_i_29_2 = t_i_40 + t_i_53\n",
       "    b_r_29_6 = b_r_31_2 - t_r_53\n",
       "    b_i_29_6 = t_i_40 - t_i_53\n",
       "    t_i_54 = -b_r_41_3\n",
       "    b_i_29_7 = -t_i_54\n",
       "    t_r_55 = -0.7071067811865476 * (b_r_42_2 - b_i_41_4)\n",
       "    t_i_55 = -0.7071067811865476 * (b_i_41_4 + b_r_42_2)\n",
       "    b_r_29_4 = b_r_31_2 + t_r_55\n",
       "    b_i_29_4 = b_i_30_4 + t_i_55\n",
       "    b_r_29_8 = b_r_31_2 - t_r_55\n",
       "    b_i_29_8 = b_i_30_4 - t_i_55\n",
       "    b_r_1_1 = b_r_2_1 + b_r_29_1\n",
       "    b_r_1_9 = b_r_2_1 - b_r_29_1\n",
       "    t_r_57 = 0.9238795325112867 * (b_r_29_2 - -0.4142135623730951b_i_29_2)\n",
       "    t_i_57 = 0.9238795325112867 * (b_i_29_2 + -0.4142135623730951b_r_29_2)\n",
       "    b_r_1_2 = b_r_2_2 + t_r_57\n",
       "    b_i_1_2 = b_i_2_2 + t_i_57\n",
       "    b_r_1_10 = b_r_2_2 - t_r_57\n",
       "    b_i_1_10 = b_i_2_2 - t_i_57\n",
       "    t_r_58 = 0.7071067811865476 * (b_r_30_3 + t_i_54)\n",
       "    t_i_58 = 0.7071067811865476 * (t_i_54 - b_r_30_3)\n",
       "    b_r_1_3 = b_r_3_3 + t_r_58\n",
       "    b_i_1_3 = t_i_27 + t_i_58\n",
       "    b_r_1_11 = b_r_3_3 - t_r_58\n",
       "    b_i_1_11 = t_i_27 - t_i_58\n",
       "    t_r_59 = 0.38268343236508984 * (b_r_29_4 - -2.4142135623730945b_i_29_4)\n",
       "    t_i_59 = 0.38268343236508984 * (b_i_29_4 + -2.4142135623730945b_r_29_4)\n",
       "    b_r_1_4 = b_r_2_4 + t_r_59\n",
       "    b_i_1_4 = b_i_2_4 + t_i_59\n",
       "    b_r_1_12 = b_r_2_4 - t_r_59\n",
       "    b_i_1_12 = b_i_2_4 - t_i_59\n",
       "    t_i_60 = -b_r_29_5\n",
       "    b_i_1_13 = -t_i_60\n",
       "    t_r_61 = -0.3826834323650897 * (b_r_29_6 - 2.4142135623730954b_i_29_6)\n",
       "    t_i_61 = -0.3826834323650897 * (b_i_29_6 + 2.4142135623730954b_r_29_6)\n",
       "    b_r_1_6 = b_r_2_6 + t_r_61\n",
       "    b_i_1_6 = b_i_2_6 + t_i_61\n",
       "    b_r_1_14 = b_r_2_6 - t_r_61\n",
       "    b_i_1_14 = b_i_2_6 - t_i_61\n",
       "    t_r_62 = -0.7071067811865476 * (b_r_30_3 - b_i_29_7)\n",
       "    t_i_62 = -0.7071067811865476 * (b_i_29_7 + b_r_30_3)\n",
       "    b_r_1_7 = b_r_3_3 + t_r_62\n",
       "    b_i_1_7 = b_i_2_7 + t_i_62\n",
       "    b_r_1_15 = b_r_3_3 - t_r_62\n",
       "    b_i_1_15 = b_i_2_7 - t_i_62\n",
       "    t_r_63 = -0.9238795325112867 * (b_r_29_8 - 0.4142135623730952b_i_29_8)\n",
       "    t_i_63 = -0.9238795325112867 * (b_i_29_8 + 0.4142135623730952b_r_29_8)\n",
       "    b_r_1_8 = b_r_2_8 + t_r_63\n",
       "    b_i_1_8 = b_i_2_8 + t_i_63\n",
       "    b_r_1_16 = b_r_2_8 - t_r_63\n",
       "    b_i_1_16 = b_i_2_8 - t_i_63\n",
       "    return [complex(b_r_1_1, 0.0), complex(b_r_1_2, b_i_1_2), complex(b_r_1_3, b_i_1_3), complex(b_r_1_4, b_i_1_4), complex(b_r_2_5, t_i_60), complex(b_r_1_6, b_i_1_6), complex(b_r_1_7, b_i_1_7), complex(b_r_1_8, b_i_1_8), complex(b_r_1_9, 0.0), complex(b_r_1_10, b_i_1_10), complex(b_r_1_11, b_i_1_11), complex(b_r_1_12, b_i_1_12), complex(b_r_2_5, b_i_1_13), complex(b_r_1_14, b_i_1_14), complex(b_r_1_15, b_i_1_15), complex(b_r_1_16, b_i_1_16)]\n",
       "end"
      ]
     },
     "metadata": {},
     "output_type": "display_data"
    }
   ],
   "source": [
    "fft_gen_impl_o(16) |> prettify"
   ]
  },
  {
   "cell_type": "code",
   "execution_count": 34,
   "metadata": {},
   "outputs": [
    {
     "data": {
      "text/plain": [
       "fft_gen_o (generic function with 1 method)"
      ]
     },
     "metadata": {},
     "output_type": "display_data"
    }
   ],
   "source": [
    "@generated function fft_gen_o(a::NTuple{N,Float64}) where {N}\n",
    "    fft_gen_impl_o(N)\n",
    "end"
   ]
  },
  {
   "cell_type": "code",
   "execution_count": 35,
   "metadata": {},
   "outputs": [
    {
     "data": {
      "text/plain": [
       "4-element Vector{ComplexF64}:\n",
       " 100.0 + 0.0im\n",
       " -20.0 + 20.0im\n",
       " -20.0 + 0.0im\n",
       " -20.0 - 20.0im"
      ]
     },
     "metadata": {},
     "output_type": "display_data"
    }
   ],
   "source": [
    "fft_gen_o((10.0, 20.0, 30.0, 40.0))"
   ]
  },
  {
   "cell_type": "code",
   "execution_count": 36,
   "metadata": {},
   "outputs": [
    {
     "data": {
      "text/plain": [
       "\u001b[32m\u001b[1mTest Passed\u001b[22m\u001b[39m"
      ]
     },
     "metadata": {},
     "output_type": "display_data"
    }
   ],
   "source": [
    "test_fft(fft_gen_o)"
   ]
  }
 ],
 "metadata": {
  "kernelspec": {
   "display_name": "Julia 1.10.5",
   "language": "julia",
   "name": "julia-1.10"
  },
  "language_info": {
   "file_extension": ".jl",
   "mimetype": "application/julia",
   "name": "julia",
   "version": "1.10.5"
  }
 },
 "nbformat": 4,
 "nbformat_minor": 2
}
