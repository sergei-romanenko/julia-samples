{
 "cells": [
  {
   "cell_type": "code",
   "execution_count": 1,
   "metadata": {},
   "outputs": [],
   "source": [
    "using CompTime, InteractiveUtils, MacroTools"
   ]
  },
  {
   "cell_type": "code",
   "execution_count": 2,
   "metadata": {},
   "outputs": [
    {
     "data": {
      "text/plain": [
       "MacroTools.flatten ∘ Base.remove_linenums!"
      ]
     },
     "metadata": {},
     "output_type": "display_data"
    }
   ],
   "source": [
    "cleanup = MacroTools.flatten ∘ Base.remove_linenums!"
   ]
  },
  {
   "cell_type": "markdown",
   "metadata": {},
   "source": [
    "Polynomial:\n",
    "\n",
    "$p(x) = a_1 + a_2 x + \\cdots + a_n x^{n-1}$\n"
   ]
  },
  {
   "cell_type": "markdown",
   "metadata": {},
   "source": [
    "Horner's method:\n",
    "\n",
    "$p(x) = (((a_n x  + a_{n-1}) x + a_{n-2}) x + \\cdots + a_{2})x + a_{1}$\n"
   ]
  },
  {
   "cell_type": "code",
   "execution_count": 3,
   "metadata": {},
   "outputs": [
    {
     "data": {
      "text/plain": [
       "horner (generic function with 1 method)"
      ]
     },
     "metadata": {},
     "output_type": "display_data"
    }
   ],
   "source": [
    "\"\"\"\n",
    "Evaluate a polynomial whose coefficients are given in ascending\n",
    "order in `c`, at the point `x`, using Horner's rule.\n",
    "\"\"\"\n",
    "\n",
    "function horner(a, x)\n",
    "    n = length(a)\n",
    "    y = a[n]\n",
    "\n",
    "    for k in n-1:-1:1\n",
    "        y = x * y + a[k]\n",
    "    end\n",
    "\n",
    "    return y\n",
    "end"
   ]
  },
  {
   "cell_type": "code",
   "execution_count": 4,
   "metadata": {},
   "outputs": [
    {
     "data": {
      "text/plain": [
       "4-element Vector{Int64}:\n",
       " 11\n",
       " 12\n",
       " 13\n",
       " 14"
      ]
     },
     "metadata": {},
     "output_type": "display_data"
    }
   ],
   "source": [
    "a = [11, 12, 13, 14]"
   ]
  },
  {
   "cell_type": "code",
   "execution_count": 5,
   "metadata": {},
   "outputs": [
    {
     "data": {
      "text/plain": [
       "15431"
      ]
     },
     "metadata": {},
     "output_type": "display_data"
    }
   ],
   "source": [
    "horner(a, 10)"
   ]
  },
  {
   "cell_type": "code",
   "execution_count": 6,
   "metadata": {},
   "outputs": [
    {
     "data": {
      "text/plain": [
       "CodeInfo(\n",
       "\u001b[90m1 ─\u001b[39m       n = Main.length(a)\n",
       "\u001b[90m│  \u001b[39m       y = Base.getindex(a, n)\n",
       "\u001b[90m│  \u001b[39m %3  = n - 1\n",
       "\u001b[90m│  \u001b[39m %4  = %3:-1:1\n",
       "\u001b[90m│  \u001b[39m       @_4 = Base.iterate(%4)\n",
       "\u001b[90m│  \u001b[39m %6  = @_4 === nothing\n",
       "\u001b[90m│  \u001b[39m %7  = Base.not_int(%6)\n",
       "\u001b[90m└──\u001b[39m       goto #4 if not %7\n",
       "\u001b[90m2 ┄\u001b[39m %9  = @_4\n",
       "\u001b[90m│  \u001b[39m       k = Core.getfield(%9, 1)\n",
       "\u001b[90m│  \u001b[39m %11 = Core.getfield(%9, 2)\n",
       "\u001b[90m│  \u001b[39m %12 = x * y\n",
       "\u001b[90m│  \u001b[39m %13 = Base.getindex(a, k)\n",
       "\u001b[90m│  \u001b[39m       y = %12 + %13\n",
       "\u001b[90m│  \u001b[39m       @_4 = Base.iterate(%4, %11)\n",
       "\u001b[90m│  \u001b[39m %16 = @_4 === nothing\n",
       "\u001b[90m│  \u001b[39m %17 = Base.not_int(%16)\n",
       "\u001b[90m└──\u001b[39m       goto #4 if not %17\n",
       "\u001b[90m3 ─\u001b[39m       goto #2\n",
       "\u001b[90m4 ┄\u001b[39m       return y\n",
       ")"
      ]
     },
     "metadata": {},
     "output_type": "display_data"
    }
   ],
   "source": [
    "@code_lowered horner(a, 10)"
   ]
  },
  {
   "cell_type": "code",
   "execution_count": 7,
   "metadata": {},
   "outputs": [
    {
     "data": {
      "text/plain": [
       "horner_tuple (generic function with 1 method)"
      ]
     },
     "metadata": {},
     "output_type": "display_data"
    }
   ],
   "source": [
    "function horner_tuple(c::NTuple{N,T}, x::T) where {N,T}\n",
    "    y = c[N]\n",
    "\n",
    "    for k in N-1:-1:1\n",
    "        y = x * y + c[k]\n",
    "    end\n",
    "\n",
    "    return y\n",
    "end"
   ]
  },
  {
   "cell_type": "code",
   "execution_count": 8,
   "metadata": {},
   "outputs": [
    {
     "data": {
      "text/plain": [
       "(11, 12, 13, 14)"
      ]
     },
     "metadata": {},
     "output_type": "display_data"
    }
   ],
   "source": [
    "t = (11, 12, 13, 14)"
   ]
  },
  {
   "cell_type": "code",
   "execution_count": 9,
   "metadata": {},
   "outputs": [
    {
     "data": {
      "text/plain": [
       "15431"
      ]
     },
     "metadata": {},
     "output_type": "display_data"
    }
   ],
   "source": [
    "horner_tuple(t, 10)"
   ]
  },
  {
   "cell_type": "code",
   "execution_count": 10,
   "metadata": {},
   "outputs": [
    {
     "data": {
      "text/plain": [
       "CodeInfo(\n",
       "\u001b[90m1 ─\u001b[39m       y = Base.getindex(c, $(Expr(:static_parameter, 1)))\n",
       "\u001b[90m│  \u001b[39m %2  = $(Expr(:static_parameter, 1)) - 1\n",
       "\u001b[90m│  \u001b[39m %3  = %2:-1:1\n",
       "\u001b[90m│  \u001b[39m       @_4 = Base.iterate(%3)\n",
       "\u001b[90m│  \u001b[39m %5  = @_4 === nothing\n",
       "\u001b[90m│  \u001b[39m %6  = Base.not_int(%5)\n",
       "\u001b[90m└──\u001b[39m       goto #4 if not %6\n",
       "\u001b[90m2 ┄\u001b[39m %8  = @_4\n",
       "\u001b[90m│  \u001b[39m       k = Core.getfield(%8, 1)\n",
       "\u001b[90m│  \u001b[39m %10 = Core.getfield(%8, 2)\n",
       "\u001b[90m│  \u001b[39m %11 = x * y\n",
       "\u001b[90m│  \u001b[39m %12 = Base.getindex(c, k)\n",
       "\u001b[90m│  \u001b[39m       y = %11 + %12\n",
       "\u001b[90m│  \u001b[39m       @_4 = Base.iterate(%3, %10)\n",
       "\u001b[90m│  \u001b[39m %15 = @_4 === nothing\n",
       "\u001b[90m│  \u001b[39m %16 = Base.not_int(%15)\n",
       "\u001b[90m└──\u001b[39m       goto #4 if not %16\n",
       "\u001b[90m3 ─\u001b[39m       goto #2\n",
       "\u001b[90m4 ┄\u001b[39m       return y\n",
       ")"
      ]
     },
     "metadata": {},
     "output_type": "display_data"
    }
   ],
   "source": [
    "@code_lowered horner_tuple(t, 10)"
   ]
  },
  {
   "cell_type": "code",
   "execution_count": 11,
   "metadata": {},
   "outputs": [
    {
     "data": {
      "text/plain": [
       "horner_gen_expr (generic function with 1 method)"
      ]
     },
     "metadata": {},
     "output_type": "display_data"
    }
   ],
   "source": [
    "@generated function horner_gen_expr(c::NTuple{N,T}, x::T) where {N,T}\n",
    "    y = :(c[$N])\n",
    "\n",
    "    for k in N-1:-1:1\n",
    "        y = :(x * $y + c[$k])\n",
    "    end\n",
    "\n",
    "    Core.println(string(y))\n",
    "    return y\n",
    "end"
   ]
  },
  {
   "cell_type": "code",
   "execution_count": 12,
   "metadata": {},
   "outputs": [
    {
     "name": "stdout",
     "output_type": "stream",
     "text": [
      "x * (x * (x * c[4] + c[3]) + c[2]) + c[1]\n"
     ]
    },
    {
     "data": {
      "text/plain": [
       "15431"
      ]
     },
     "metadata": {},
     "output_type": "display_data"
    }
   ],
   "source": [
    "horner_gen_expr(t, 10)"
   ]
  },
  {
   "cell_type": "code",
   "execution_count": 13,
   "metadata": {},
   "outputs": [
    {
     "data": {
      "text/plain": [
       "horner_gen (generic function with 1 method)"
      ]
     },
     "metadata": {},
     "output_type": "display_data"
    }
   ],
   "source": [
    "@generated function horner_gen(c::NTuple{N,T}, x::T) where {N,T}\n",
    "    r = Expr[]\n",
    "    push!(r, :(y = c[$N]))\n",
    "\n",
    "    for k in N-1:-1:1\n",
    "        push!(r, :(y = x * y + c[$k]))\n",
    "    end\n",
    " \n",
    "    r = :(begin $(r...) end)\n",
    "    Core.println(string(cleanup(r)))\n",
    "    return r\n",
    "end"
   ]
  },
  {
   "cell_type": "code",
   "execution_count": 14,
   "metadata": {},
   "outputs": [
    {
     "name": "stdout",
     "output_type": "stream",
     "text": [
      "begin\n",
      "    y = c[4]\n",
      "    y = x * y + c[3]\n",
      "    y = x * y + c[2]\n",
      "    y = x * y + c[1]\n",
      "end\n"
     ]
    },
    {
     "data": {
      "text/plain": [
       "15431"
      ]
     },
     "metadata": {},
     "output_type": "display_data"
    }
   ],
   "source": [
    "horner_gen(t, 10)"
   ]
  },
  {
   "cell_type": "code",
   "execution_count": 15,
   "metadata": {},
   "outputs": [
    {
     "data": {
      "text/plain": [
       "runtime (generic function with 1 method)"
      ]
     },
     "metadata": {},
     "output_type": "display_data"
    }
   ],
   "source": [
    "@ct_enable function horner_ct(c::NTuple{N,T}, x::T) where {N,T}\n",
    "    y = c[@ct(N)]\n",
    "\n",
    "    @ct_ctrl for k in N-1:-1:1\n",
    "        y = x * y + c[@ct(k)]\n",
    "    end\n",
    "\n",
    "    return y\n",
    "end"
   ]
  },
  {
   "cell_type": "code",
   "execution_count": 16,
   "metadata": {},
   "outputs": [
    {
     "data": {
      "text/plain": [
       "15431"
      ]
     },
     "metadata": {},
     "output_type": "display_data"
    }
   ],
   "source": [
    "horner_ct(t, 10)"
   ]
  },
  {
   "cell_type": "code",
   "execution_count": 17,
   "metadata": {},
   "outputs": [
    {
     "data": {
      "text/plain": [
       "quote\n",
       "    y = c[4]\n",
       "    y = x * y + c[3]\n",
       "    y = x * y + c[2]\n",
       "    y = x * y + c[1]\n",
       "    return y\n",
       "end"
      ]
     },
     "metadata": {},
     "output_type": "display_data"
    }
   ],
   "source": [
    "debug(horner_ct, t, 10) |> cleanup"
   ]
  },
  {
   "cell_type": "code",
   "execution_count": 18,
   "metadata": {},
   "outputs": [
    {
     "data": {
      "text/plain": [
       "horner_gen_expr2 (generic function with 1 method)"
      ]
     },
     "metadata": {},
     "output_type": "display_data"
    }
   ],
   "source": [
    "@generated function horner_gen_expr2(::Val{c}, x) where {c}\n",
    "    N = length(c)\n",
    "    r = :($(c[N]))\n",
    "\n",
    "    for k in N-1:-1:1\n",
    "        r = :(x * $r + $(c[k]))\n",
    "    end\n",
    "\n",
    "    Core.println(string(r))\n",
    "    return r\n",
    "end"
   ]
  },
  {
   "cell_type": "code",
   "execution_count": 19,
   "metadata": {},
   "outputs": [
    {
     "name": "stdout",
     "output_type": "stream",
     "text": [
      "x * (x * (x * 14 + 13) + 12) + 11\n"
     ]
    },
    {
     "data": {
      "text/plain": [
       "15431"
      ]
     },
     "metadata": {},
     "output_type": "display_data"
    }
   ],
   "source": [
    "horner_gen_expr2(Val(t), 10)"
   ]
  },
  {
   "cell_type": "code",
   "execution_count": 20,
   "metadata": {},
   "outputs": [
    {
     "data": {
      "text/plain": [
       "horner_gen2 (generic function with 1 method)"
      ]
     },
     "metadata": {},
     "output_type": "display_data"
    }
   ],
   "source": [
    "@generated function horner_gen2(::Val{c}, x) where {c}\n",
    "    N = length(c)\n",
    "    r = Expr[]\n",
    "    push!(r, :(y = $(c[N])))\n",
    "\n",
    "    for k in N-1:-1:1\n",
    "        push!(r, :(y = x * y + $(c[k])))\n",
    "    end\n",
    " \n",
    "    r = :(begin $(r...) end)\n",
    "    Core.println(string(cleanup(r)))\n",
    "    return r\n",
    "end"
   ]
  },
  {
   "cell_type": "code",
   "execution_count": 21,
   "metadata": {},
   "outputs": [
    {
     "name": "stdout",
     "output_type": "stream",
     "text": [
      "begin\n",
      "    y = 14\n",
      "    y = x * y + 13\n",
      "    y = x * y + 12\n",
      "    y = x * y + 11\n",
      "end\n"
     ]
    },
    {
     "data": {
      "text/plain": [
       "15431"
      ]
     },
     "metadata": {},
     "output_type": "display_data"
    }
   ],
   "source": [
    "horner_gen2(Val(t), 10)"
   ]
  },
  {
   "cell_type": "code",
   "execution_count": 22,
   "metadata": {},
   "outputs": [
    {
     "data": {
      "text/plain": [
       "runtime (generic function with 2 methods)"
      ]
     },
     "metadata": {},
     "output_type": "display_data"
    }
   ],
   "source": [
    "@ct_enable function horner_ct2(@ct(c), x)\n",
    "    @ct(N = length(c))\n",
    "    y = @ct(c[N])\n",
    "\n",
    "    @ct_ctrl for k in N-1:-1:1\n",
    "        y = x * y + @ct(c[k])\n",
    "    end\n",
    "\n",
    "    return y\n",
    "end"
   ]
  },
  {
   "cell_type": "code",
   "execution_count": 23,
   "metadata": {},
   "outputs": [
    {
     "data": {
      "text/plain": [
       "15431"
      ]
     },
     "metadata": {},
     "output_type": "display_data"
    }
   ],
   "source": [
    "runtime(horner_ct2, t, 10)"
   ]
  },
  {
   "cell_type": "code",
   "execution_count": 24,
   "metadata": {},
   "outputs": [
    {
     "data": {
      "text/plain": [
       "CodeInfo(\n",
       "\u001b[90m1 ─\u001b[39m       N = Main.length(c)\n",
       "\u001b[90m│  \u001b[39m       y = Base.getindex(c, N)\n",
       "\u001b[90m│  \u001b[39m %3  = N - 1\n",
       "\u001b[90m│  \u001b[39m %4  = %3:-1:1\n",
       "\u001b[90m│  \u001b[39m       @_5 = Base.iterate(%4)\n",
       "\u001b[90m│  \u001b[39m %6  = @_5 === nothing\n",
       "\u001b[90m│  \u001b[39m %7  = Base.not_int(%6)\n",
       "\u001b[90m└──\u001b[39m       goto #4 if not %7\n",
       "\u001b[90m2 ┄\u001b[39m %9  = @_5\n",
       "\u001b[90m│  \u001b[39m       k = Core.getfield(%9, 1)\n",
       "\u001b[90m│  \u001b[39m %11 = Core.getfield(%9, 2)\n",
       "\u001b[90m│  \u001b[39m %12 = x * y\n",
       "\u001b[90m│  \u001b[39m %13 = Base.getindex(c, k)\n",
       "\u001b[90m│  \u001b[39m       y = %12 + %13\n",
       "\u001b[90m│  \u001b[39m       @_5 = Base.iterate(%4, %11)\n",
       "\u001b[90m│  \u001b[39m %16 = @_5 === nothing\n",
       "\u001b[90m│  \u001b[39m %17 = Base.not_int(%16)\n",
       "\u001b[90m└──\u001b[39m       goto #4 if not %17\n",
       "\u001b[90m3 ─\u001b[39m       goto #2\n",
       "\u001b[90m4 ┄\u001b[39m       return y\n",
       ")"
      ]
     },
     "metadata": {},
     "output_type": "display_data"
    }
   ],
   "source": [
    "@code_lowered runtime(horner_ct2, t, 10)"
   ]
  },
  {
   "cell_type": "code",
   "execution_count": 25,
   "metadata": {},
   "outputs": [
    {
     "data": {
      "text/plain": [
       "quote\n",
       "    4\n",
       "    y = 14\n",
       "    y = x * y + 13\n",
       "    y = x * y + 12\n",
       "    y = x * y + 11\n",
       "    return y\n",
       "end"
      ]
     },
     "metadata": {},
     "output_type": "display_data"
    }
   ],
   "source": [
    "debug(horner_ct2, Val{t}, 10) |> cleanup"
   ]
  }
 ],
 "metadata": {
  "kernelspec": {
   "display_name": "Julia 1.10.2",
   "language": "julia",
   "name": "julia-1.10"
  },
  "language_info": {
   "file_extension": ".jl",
   "mimetype": "application/julia",
   "name": "julia",
   "version": "1.10.2"
  }
 },
 "nbformat": 4,
 "nbformat_minor": 2
}
