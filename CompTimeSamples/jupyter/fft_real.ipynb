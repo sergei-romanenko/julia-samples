{
 "cells": [
  {
   "cell_type": "code",
   "execution_count": 1,
   "metadata": {},
   "outputs": [],
   "source": [
    "using FFTW, Random, Test\n",
    "\n",
    "include(\"MacroUtils.jl\")\n",
    "using .MacroUtils: cleanup"
   ]
  },
  {
   "cell_type": "code",
   "execution_count": 2,
   "metadata": {},
   "outputs": [],
   "source": [
    "Random.seed!(1234)\n",
    "sample_vector_input = rand(32);\n",
    "sample_tuple_input = Tuple(sample_vector_input);"
   ]
  },
  {
   "cell_type": "code",
   "execution_count": 3,
   "metadata": {},
   "outputs": [
    {
     "data": {
      "text/plain": [
       "test_fft (generic function with 1 method)"
      ]
     },
     "metadata": {},
     "output_type": "display_data"
    }
   ],
   "source": [
    "function test_fft(fft)\n",
    "    @test FFTW.fft(sample_vector_input) ≈ fft(sample_tuple_input)\n",
    "end"
   ]
  },
  {
   "cell_type": "code",
   "execution_count": 4,
   "metadata": {},
   "outputs": [
    {
     "data": {
      "text/plain": [
       "fft_rec_c (generic function with 1 method)"
      ]
     },
     "metadata": {},
     "output_type": "display_data"
    }
   ],
   "source": [
    "function fft_rec_c(a, p, b, m)\n",
    "    n = length(p)\n",
    "    isone(n) && (b[1] = a[p[1]]; return m)\n",
    "    n2 = n ÷ 2\n",
    "    w = exp(-2 * pi * im / n)\n",
    "\n",
    "    p1 = [p[k] for k in 1:2:n]\n",
    "    p2 = [p[k] for k in 2:2:n]\n",
    "    y1 = Vector{Complex{Float64}}(undef, n2)\n",
    "    y2 = Vector{Complex{Float64}}(undef, n2)\n",
    "    m += 1\n",
    "    m = fft_rec_c(a, p1, y1, m)\n",
    "    m = fft_rec_c(a, p2, y2, m)\n",
    "    for k in 1:n2\n",
    "        t = w^(k - 1) * y2[k]\n",
    "        b[k] = y1[k] + t\n",
    "        b[k+n2] = y1[k] - t\n",
    "    end\n",
    "    return m\n",
    "end"
   ]
  },
  {
   "cell_type": "code",
   "execution_count": 5,
   "metadata": {},
   "outputs": [
    {
     "data": {
      "text/plain": [
       "fft_rec_c (generic function with 2 methods)"
      ]
     },
     "metadata": {},
     "output_type": "display_data"
    }
   ],
   "source": [
    "function fft_rec_c(a)\n",
    "    n = length(a)\n",
    "    @assert ispow2(n)\n",
    "    p = [k for k in 1:n]\n",
    "    b = Vector{Complex{Float64}}(undef, n)\n",
    "    m = fft_rec_c(a, p, b, 1)\n",
    "    return b\n",
    "end"
   ]
  },
  {
   "cell_type": "code",
   "execution_count": 6,
   "metadata": {},
   "outputs": [
    {
     "data": {
      "text/plain": [
       "4-element Vector{ComplexF64}:\n",
       " 100.0 + 0.0im\n",
       " -20.0 + 20.0im\n",
       " -20.0 + 0.0im\n",
       " -20.0 - 20.0im"
      ]
     },
     "metadata": {},
     "output_type": "display_data"
    }
   ],
   "source": [
    "fft_rec_c((10.0, 20.0, 30.0, 40.0))"
   ]
  },
  {
   "cell_type": "code",
   "execution_count": 7,
   "metadata": {},
   "outputs": [
    {
     "data": {
      "text/plain": [
       "\u001b[32m\u001b[1mTest Passed\u001b[22m\u001b[39m"
      ]
     },
     "metadata": {},
     "output_type": "display_data"
    }
   ],
   "source": [
    "test_fft(fft_rec_c)"
   ]
  },
  {
   "cell_type": "code",
   "execution_count": 8,
   "metadata": {},
   "outputs": [
    {
     "data": {
      "text/plain": [
       "mult_i (generic function with 1 method)"
      ]
     },
     "metadata": {},
     "output_type": "display_data"
    }
   ],
   "source": [
    "mult_r(x_r::T, x_i::T, y_r::T, y_i::T) where {T} =\n",
    "    x_r * y_r - x_i * y_i\n",
    "mult_i(x_r::T, x_i::T, y_r::T, y_i::T) where {T} =\n",
    "    x_r * y_i + x_i * y_r"
   ]
  },
  {
   "cell_type": "code",
   "execution_count": 9,
   "metadata": {},
   "outputs": [
    {
     "data": {
      "text/plain": [
       "fft_rec (generic function with 1 method)"
      ]
     },
     "metadata": {},
     "output_type": "display_data"
    }
   ],
   "source": [
    "function fft_rec(a, p, b_r, b_i, m)\n",
    "    n = length(p)\n",
    "    isone(n) && begin\n",
    "        b_r[1] = a[p[1]]\n",
    "        b_i[1] = 0.0\n",
    "        return m\n",
    "    end\n",
    "    n2 = n ÷ 2\n",
    "    w = exp(-2 * pi * im / n)\n",
    "\n",
    "    p1 = [p[k] for k in 1:2:n]\n",
    "    p2 = [p[k] for k in 2:2:n]\n",
    "    y1_r = Vector{Float64}(undef, n2)\n",
    "    y1_i = Vector{Float64}(undef, n2)\n",
    "    y2_r = Vector{Float64}(undef, n2)\n",
    "    y2_i = Vector{Float64}(undef, n2)\n",
    "    m += 1\n",
    "    m = fft_rec(a, p1, y1_r, y1_i, m)\n",
    "    m = fft_rec(a, p2, y2_r, y2_i, m)\n",
    "    for k in 1:n2\n",
    "        wk = w^(k - 1)\n",
    "        t_r = mult_r(real(wk), imag(wk), y2_r[k], y2_i[k])\n",
    "        t_i = mult_i(real(wk), imag(wk), y2_r[k], y2_i[k])\n",
    "        b_r[k] = y1_r[k] + t_r\n",
    "        b_i[k] = y1_i[k] + t_i\n",
    "        b_r[k+n2] = y1_r[k] - t_r\n",
    "        b_i[k+n2] = y1_i[k] - t_i\n",
    "    end\n",
    "    return m\n",
    "end"
   ]
  },
  {
   "cell_type": "code",
   "execution_count": 10,
   "metadata": {},
   "outputs": [
    {
     "data": {
      "text/plain": [
       "fft_rec (generic function with 2 methods)"
      ]
     },
     "metadata": {},
     "output_type": "display_data"
    }
   ],
   "source": [
    "function fft_rec(a)\n",
    "    n = length(a)\n",
    "    @assert ispow2(n)\n",
    "    p = [k for k in 1:n]\n",
    "    b_r = Vector{Float64}(undef, n)\n",
    "    b_i = Vector{Float64}(undef, n)\n",
    "    m = fft_rec(a, p, b_r, b_i, 1)\n",
    "    return [complex(b_r[k], b_i[k]) for k in 1:n]\n",
    "end"
   ]
  },
  {
   "cell_type": "code",
   "execution_count": 11,
   "metadata": {},
   "outputs": [
    {
     "data": {
      "text/plain": [
       "4-element Vector{ComplexF64}:\n",
       " 100.0 + 0.0im\n",
       " -20.0 + 20.0im\n",
       " -20.0 + 0.0im\n",
       " -20.0 - 20.0im"
      ]
     },
     "metadata": {},
     "output_type": "display_data"
    }
   ],
   "source": [
    "fft_rec((10.0, 20.0, 30.0, 40.0))"
   ]
  },
  {
   "cell_type": "code",
   "execution_count": 12,
   "metadata": {},
   "outputs": [
    {
     "data": {
      "text/plain": [
       "\u001b[32m\u001b[1mTest Passed\u001b[22m\u001b[39m"
      ]
     },
     "metadata": {},
     "output_type": "display_data"
    }
   ],
   "source": [
    "test_fft(fft_rec)"
   ]
  },
  {
   "cell_type": "code",
   "execution_count": 13,
   "metadata": {},
   "outputs": [
    {
     "data": {
      "text/plain": [
       "mult_i_gen1 (generic function with 1 method)"
      ]
     },
     "metadata": {},
     "output_type": "display_data"
    }
   ],
   "source": [
    "mult_r_gen1(x_r, x_i, y_r, y_i) =\n",
    "    :($x_r * $y_r - $x_i * $y_i)\n",
    "mult_i_gen1(x_r, x_i, y_r, y_i) =\n",
    "    :($x_r * $y_i + $x_i * $y_r)"
   ]
  },
  {
   "cell_type": "code",
   "execution_count": 14,
   "metadata": {},
   "outputs": [
    {
     "data": {
      "text/plain": [
       "fft_gen_impl1 (generic function with 1 method)"
      ]
     },
     "metadata": {},
     "output_type": "display_data"
    }
   ],
   "source": [
    "function fft_gen_impl1(p, b_r, b_i, m)\n",
    "    n = length(p)\n",
    "    es = Expr[]\n",
    "\n",
    "    if isone(n)\n",
    "        append!(es, (\n",
    "            :($(b_r[1]) = a[$(p[1])]),\n",
    "            :($(b_i[1]) = 0.0)\n",
    "        ))\n",
    "        return es, m\n",
    "    end\n",
    "\n",
    "    n2 = n ÷ 2\n",
    "    p1 = [p[k] for k in 1:2:n]\n",
    "    p2 = [p[k] for k in 2:2:n]\n",
    "\n",
    "    y1_r = [Symbol(\"y1_r_\", m, \"_\", k) for k in 1:n2]\n",
    "    y1_i = [Symbol(\"y1_i_\", m, \"_\", k) for k in 1:n2]\n",
    "    y2_r = [Symbol(\"y2_r_\", m, \"_\", k) for k in 1:n2]\n",
    "    y2_i = [Symbol(\"y2_i_\", m, \"_\", k) for k in 1:n2]\n",
    "    m += 1\n",
    "\n",
    "    es1, m = fft_gen_impl1(p1, y1_r, y1_i, m)\n",
    "    es2, m = fft_gen_impl1(p2, y2_r, y2_i, m)\n",
    "    append!(es, es1, es2)\n",
    "\n",
    "    w = exp(-2 * pi * im / n)\n",
    "\n",
    "    for k in 1:n2\n",
    "        wk = w^(k - 1)\n",
    "        t_r = Symbol(\"t_r_\", m)\n",
    "        t_i = Symbol(\"t_i_\", m)\n",
    "        m += 1\n",
    "\n",
    "        append!(es, (\n",
    "            :($t_r = $(mult_r_gen1(real(wk), imag(wk), y2_r[k], y2_i[k]))),\n",
    "            :($t_i = $(mult_i_gen1(real(wk), imag(wk), y2_r[k], y2_i[k]))),\n",
    "            :($(b_r[k]) = $(y1_r[k]) + $t_r),\n",
    "            :($(b_i[k]) = $(y1_i[k]) + $t_i),\n",
    "            :($(b_r[k+n2]) = $(y1_r[k]) - $t_r),\n",
    "            :($(b_i[k+n2]) = $(y1_i[k]) - $(t_i))\n",
    "        ))\n",
    "    end\n",
    "\n",
    "\n",
    "    return es, m\n",
    "end"
   ]
  },
  {
   "cell_type": "code",
   "execution_count": 15,
   "metadata": {},
   "outputs": [
    {
     "data": {
      "text/plain": [
       "fft_gen_impl1 (generic function with 2 methods)"
      ]
     },
     "metadata": {},
     "output_type": "display_data"
    }
   ],
   "source": [
    "function fft_gen_impl1(n)\n",
    "    @assert (n >= 1 && ispow2(n))\n",
    "\n",
    "    p = [k for k in 1:n]\n",
    "    b_r = [Symbol(\"y0_r_\", k) for k in 1:n]\n",
    "    b_i = [Symbol(\"y0_i_\", k) for k in 1:n]\n",
    "    es, m = fft_gen_impl1(p, b_r, b_i, 1)\n",
    "\n",
    "    b = [:(complex($(b_r[k]), $(b_i[k]))) for k in 1:n]\n",
    "    quote\n",
    "        $(es...)\n",
    "        return $(Expr(:vect, b...))\n",
    "    end\n",
    "\n",
    "end"
   ]
  },
  {
   "cell_type": "code",
   "execution_count": 16,
   "metadata": {},
   "outputs": [
    {
     "data": {
      "text/plain": [
       "quote\n",
       "    y1_r_2_1 = a[1]\n",
       "    y1_i_2_1 = 0.0\n",
       "    y2_r_2_1 = a[3]\n",
       "    y2_i_2_1 = 0.0\n",
       "    t_r_3 = 1.0y2_r_2_1 - 0.0y2_i_2_1\n",
       "    t_i_3 = 1.0y2_i_2_1 + 0.0y2_r_2_1\n",
       "    y1_r_1_1 = y1_r_2_1 + t_r_3\n",
       "    y1_i_1_1 = y1_i_2_1 + t_i_3\n",
       "    y1_r_1_2 = y1_r_2_1 - t_r_3\n",
       "    y1_i_1_2 = y1_i_2_1 - t_i_3\n",
       "    y1_r_4_1 = a[2]\n",
       "    y1_i_4_1 = 0.0\n",
       "    y2_r_4_1 = a[4]\n",
       "    y2_i_4_1 = 0.0\n",
       "    t_r_5 = 1.0y2_r_4_1 - 0.0y2_i_4_1\n",
       "    t_i_5 = 1.0y2_i_4_1 + 0.0y2_r_4_1\n",
       "    y2_r_1_1 = y1_r_4_1 + t_r_5\n",
       "    y2_i_1_1 = y1_i_4_1 + t_i_5\n",
       "    y2_r_1_2 = y1_r_4_1 - t_r_5\n",
       "    y2_i_1_2 = y1_i_4_1 - t_i_5\n",
       "    t_r_6 = 1.0y2_r_1_1 - 0.0y2_i_1_1\n",
       "    t_i_6 = 1.0y2_i_1_1 + 0.0y2_r_1_1\n",
       "    y0_r_1 = y1_r_1_1 + t_r_6\n",
       "    y0_i_1 = y1_i_1_1 + t_i_6\n",
       "    y0_r_3 = y1_r_1_1 - t_r_6\n",
       "    y0_i_3 = y1_i_1_1 - t_i_6\n",
       "    t_r_7 = 6.123233995736766e-17y2_r_1_2 - -1.0y2_i_1_2\n",
       "    t_i_7 = 6.123233995736766e-17y2_i_1_2 + -1.0y2_r_1_2\n",
       "    y0_r_2 = y1_r_1_2 + t_r_7\n",
       "    y0_i_2 = y1_i_1_2 + t_i_7\n",
       "    y0_r_4 = y1_r_1_2 - t_r_7\n",
       "    y0_i_4 = y1_i_1_2 - t_i_7\n",
       "    return [complex(y0_r_1, y0_i_1), complex(y0_r_2, y0_i_2), complex(y0_r_3, y0_i_3), complex(y0_r_4, y0_i_4)]\n",
       "end"
      ]
     },
     "metadata": {},
     "output_type": "display_data"
    }
   ],
   "source": [
    "fft_gen_impl1(4) |> cleanup"
   ]
  },
  {
   "cell_type": "code",
   "execution_count": 17,
   "metadata": {},
   "outputs": [
    {
     "data": {
      "text/plain": [
       "fft_gen1 (generic function with 1 method)"
      ]
     },
     "metadata": {},
     "output_type": "display_data"
    }
   ],
   "source": [
    "@generated function fft_gen1(a::NTuple{N,Float64}) where {N}\n",
    "    fft_gen_impl1(N)\n",
    "end"
   ]
  },
  {
   "cell_type": "code",
   "execution_count": 18,
   "metadata": {},
   "outputs": [
    {
     "data": {
      "text/plain": [
       "4-element Vector{ComplexF64}:\n",
       " 100.0 + 0.0im\n",
       " -20.0 + 20.0im\n",
       " -20.0 + 0.0im\n",
       " -20.0 - 20.0im"
      ]
     },
     "metadata": {},
     "output_type": "display_data"
    }
   ],
   "source": [
    "fft_gen1((10.0, 20.0, 30.0, 40.0))"
   ]
  },
  {
   "cell_type": "code",
   "execution_count": 19,
   "metadata": {},
   "outputs": [
    {
     "data": {
      "text/plain": [
       "\u001b[32m\u001b[1mTest Passed\u001b[22m\u001b[39m"
      ]
     },
     "metadata": {},
     "output_type": "display_data"
    }
   ],
   "source": [
    "test_fft(fft_gen1)"
   ]
  },
  {
   "cell_type": "markdown",
   "metadata": {},
   "source": [
    "Абстрактная интерпретация (метавычисления)."
   ]
  },
  {
   "cell_type": "code",
   "execution_count": 20,
   "metadata": {},
   "outputs": [],
   "source": [
    "abstract type MVal end\n",
    "\n",
    "struct MCst <: MVal\n",
    "    v::Float64\n",
    "end\n",
    "\n",
    "struct MAny <: MVal\n",
    "    v\n",
    "end"
   ]
  },
  {
   "cell_type": "code",
   "execution_count": 21,
   "metadata": {},
   "outputs": [],
   "source": [
    "Base.hash(x::MCst, h::UInt) = hash(x.v, hash(MCst, h))\n",
    "Base.hash(x::MAny, h::UInt) = hash(x.v, hash(MAny, h))\n",
    "\n",
    "Base.:(==)(x::MVal, y::MVal) = x.v == y.v"
   ]
  },
  {
   "cell_type": "code",
   "execution_count": 22,
   "metadata": {},
   "outputs": [
    {
     "data": {
      "text/plain": [
       "add_s (generic function with 4 methods)"
      ]
     },
     "metadata": {},
     "output_type": "display_data"
    }
   ],
   "source": [
    "add_s(x::MVal, y::MVal) = MAny(:($(x.v) + $(y.v)))\n",
    "\n",
    "add_s(x::MCst, y::MCst) = MCst(x.v + y.v)\n",
    "\n",
    "function add_s(x::MCst, y::MAny)\n",
    "    if x.v == 0.0\n",
    "        y\n",
    "    else\n",
    "        MAny(:($(x.v) + $(y.v)))\n",
    "    end\n",
    "end\n",
    "\n",
    "function add_s(x::MAny, y::MCst)\n",
    "    if y.v == 0.0\n",
    "        x\n",
    "    else\n",
    "        MAny(:($(x.v) + $(y.v)))\n",
    "    end\n",
    "end"
   ]
  },
  {
   "cell_type": "code",
   "execution_count": 23,
   "metadata": {},
   "outputs": [
    {
     "data": {
      "text/plain": [
       "sub_m (generic function with 4 methods)"
      ]
     },
     "metadata": {},
     "output_type": "display_data"
    }
   ],
   "source": [
    "sub_m(x::MVal, y::MVal) = MAny(:($(x.v) - $(y.v)))\n",
    "\n",
    "sub_m(x::MCst, y::MCst) = MCst(x.v - y.v)\n",
    "\n",
    "function sub_m(x::MCst, y::MAny)\n",
    "    if x.v == 0.0\n",
    "        MAny(:(- $(y.v)))\n",
    "    else\n",
    "        MAny(:($(x.v) - $(y.v)))\n",
    "    end\n",
    "end\n",
    "\n",
    "function sub_m(x::MAny, y::MCst)\n",
    "    if y.v == 0.0\n",
    "        x\n",
    "    else\n",
    "        MAny(:($(x.v) - $(y.v)))\n",
    "    end\n",
    "end"
   ]
  },
  {
   "cell_type": "code",
   "execution_count": 24,
   "metadata": {},
   "outputs": [
    {
     "data": {
      "text/plain": [
       "mult_m (generic function with 4 methods)"
      ]
     },
     "metadata": {},
     "output_type": "display_data"
    }
   ],
   "source": [
    "mult_m(x::MVal, y::MVal) = MAny(:($(x.v) * $(y.v)))\n",
    "\n",
    "mult_m(x::MCst, y::MCst) = MCst(:($(x.v * y.v)))\n",
    "\n",
    "function mult_m(x::MCst, y::MAny)\n",
    "    if x.v == 0.0\n",
    "        MCst(0.0)\n",
    "    elseif x.v == 1.0\n",
    "        y\n",
    "    elseif x.v == -1.0\n",
    "        MAny(:(-$(y.v)))\n",
    "    else\n",
    "        MAny(:($(x.v) * $(y.v)))\n",
    "    end\n",
    "end\n",
    "\n",
    "function mult_m(x::MAny, y::MCst)\n",
    "    if y.v == 0.0\n",
    "        MCst(0.0)\n",
    "    elseif y.v == 1.0\n",
    "        x\n",
    "    elseif y.v == -1.0\n",
    "        MAny(:(-$(x.v)))\n",
    "    else\n",
    "        MAny(:($(x.v) * $(y.v)))\n",
    "    end\n",
    "end"
   ]
  },
  {
   "cell_type": "code",
   "execution_count": 25,
   "metadata": {},
   "outputs": [
    {
     "data": {
      "text/plain": [
       "MAny(:(10.0x))"
      ]
     },
     "metadata": {},
     "output_type": "display_data"
    }
   ],
   "source": [
    "mult_m(MCst(10.0), MAny(:x))"
   ]
  },
  {
   "cell_type": "code",
   "execution_count": 26,
   "metadata": {},
   "outputs": [
    {
     "data": {
      "text/plain": [
       "\u001b[32m\u001b[1mTest Passed\u001b[22m\u001b[39m"
      ]
     },
     "metadata": {},
     "output_type": "display_data"
    }
   ],
   "source": [
    "@test mult_m(MCst(2.0), MCst(3.0)) == MCst(6.0)\n",
    "@test mult_m(MCst(10.0), MAny(:x)) == MAny(:(10.0 * x))\n",
    "@test mult_m(MCst(0.0), MAny(:x)) == MCst(0.0)\n",
    "@test mult_m(MCst(1.0), MAny(:x)) == MAny(:x)\n",
    "@test mult_m(MCst(-1.0), MAny(:x)) == MAny(:(- x))\n",
    "@test mult_m(MAny(:x), MCst(20.0)) == MAny(:(x * 20.0))\n",
    "@test mult_m(MAny(:x), MCst(0.0)) == MCst(0.0)\n",
    "@test mult_m(MAny(:x), MCst(1.0)) == MAny(:x)\n",
    "@test mult_m(MAny(:x), MCst(-1.0)) == MAny(:(-x))\n",
    "@test mult_m(MAny(:x), MAny(:y)) == MAny(:(x * y))"
   ]
  },
  {
   "cell_type": "code",
   "execution_count": 27,
   "metadata": {},
   "outputs": [
    {
     "data": {
      "text/plain": [
       "mult_r_g (generic function with 1 method)"
      ]
     },
     "metadata": {},
     "output_type": "display_data"
    }
   ],
   "source": [
    "mult_r_g(x_r, x_i, y_r, y_i) =\n",
    "    sub_m(mult_m(x_r, y_r), mult_m(x_i, y_i))"
   ]
  },
  {
   "cell_type": "code",
   "execution_count": 28,
   "metadata": {},
   "outputs": [
    {
     "data": {
      "text/plain": [
       "mult_i_g (generic function with 1 method)"
      ]
     },
     "metadata": {},
     "output_type": "display_data"
    }
   ],
   "source": [
    "mult_i_g(x_r, x_i, y_r, y_i) =\n",
    "    add_m(mult_m(x_r, y_i), mult_m(x_i, y_r))"
   ]
  },
  {
   "cell_type": "code",
   "execution_count": 29,
   "metadata": {},
   "outputs": [
    {
     "data": {
      "text/plain": [
       "g (generic function with 2 methods)"
      ]
     },
     "metadata": {},
     "output_type": "display_data"
    }
   ],
   "source": [
    "g(::Symbol, x::MCst) = x\n",
    "g(s::Symbol, ::MAny) = MAny(s)"
   ]
  },
  {
   "cell_type": "code",
   "execution_count": 30,
   "metadata": {},
   "outputs": [
    {
     "data": {
      "text/plain": [
       "fft_gen_impl2 (generic function with 1 method)"
      ]
     },
     "metadata": {},
     "output_type": "display_data"
    }
   ],
   "source": [
    "function fft_gen_impl2(p, b_r, b_i, d, m)\n",
    "    n = length(p)\n",
    "    es = Expr[]\n",
    "\n",
    "    if isone(n)\n",
    "        d[b_r[1]] = MAny(:(a[$(p[1])]))\n",
    "        d[b_i[1]] = MCst(0.0)\n",
    "        append!(es, (\n",
    "            :($(b_r[1]) = $(d[b_r[1]].v)),\n",
    "            :($(b_i[1]) = $(d[b_i[1]].v))\n",
    "        ))\n",
    "        return es, m\n",
    "    end\n",
    "\n",
    "    n2 = n ÷ 2\n",
    "    p1 = [p[k] for k in 1:2:n]\n",
    "    p2 = [p[k] for k in 2:2:n]\n",
    "\n",
    "    y1_r = [Symbol(\"y1_r_\", m, \"_\", k) for k in 1:n2]\n",
    "    y1_i = [Symbol(\"y1_i_\", m, \"_\", k) for k in 1:n2]\n",
    "    y2_r = [Symbol(\"y2_r_\", m, \"_\", k) for k in 1:n2]\n",
    "    y2_i = [Symbol(\"y2_i_\", m, \"_\", k) for k in 1:n2]\n",
    "    m += 1\n",
    "\n",
    "    es1, m = fft_gen_impl2(p1, y1_r, y1_i, d, m)\n",
    "    es2, m = fft_gen_impl2(p2, y2_r, y2_i, d, m)\n",
    "    append!(es, es1, es2)\n",
    "\n",
    "    w = exp(-2 * pi * im / n)\n",
    "\n",
    "    for k in 1:n2\n",
    "        wk = w^(k - 1)\n",
    "        t_r = Symbol(\"t_r_\", m)\n",
    "        t_i = Symbol(\"t_i_\", m)\n",
    "        m += 1\n",
    "\n",
    "        t_r_m = mult_r_g(MCst(real(wk)), MCst(imag(wk)), d[y2_r[k]], d[y2_i[k]])\n",
    "        t_i_m = mult_i_g(MCst(real(wk)), MCst(imag(wk)), d[y2_r[k]], d[y2_i[k]])\n",
    "        b_r1_m = add_m(d[y1_r[k]], g(t_r, t_r_m))\n",
    "        d[b_r[k]] = g(b_r[k], b_r1_m)\n",
    "        b_i1_m = add_m(d[y1_i[k]], g(t_i, t_i_m))\n",
    "        d[b_i[k]] = g(b_i[k], b_i1_m)\n",
    "        b_r2_m = sub_m(d[y1_r[k]], g(t_r, t_r_m))\n",
    "        d[b_r[k+n2]] = g(b_r[k+n2], b_r2_m)\n",
    "        b_i2_m = sub_m(d[y1_i[k]], g(t_i, t_i_m))\n",
    "        d[b_i[k+n2]] = g(b_i[k+n2], b_i2_m)\n",
    "\n",
    "        append!(es, (\n",
    "            :($t_r = $(t_r_m.v)),\n",
    "            :($t_i = $(t_i_m.v)),\n",
    "            :($(b_r[k]) = $(b_r1_m.v)),\n",
    "            :($(b_i[k]) = $(b_i1_m.v)),\n",
    "            :($(b_r[k+n2]) = $(b_r2_m.v)),\n",
    "            :($(b_i[k+n2]) = $(b_i2_m.v))\n",
    "        ))\n",
    "    end\n",
    "\n",
    "    return es, m\n",
    "end"
   ]
  },
  {
   "cell_type": "code",
   "execution_count": 31,
   "metadata": {},
   "outputs": [
    {
     "data": {
      "text/plain": [
       "fft_gen_impl2 (generic function with 2 methods)"
      ]
     },
     "metadata": {},
     "output_type": "display_data"
    }
   ],
   "source": [
    "function fft_gen_impl2(n)\n",
    "    @assert (n >= 1 && ispow2(n))\n",
    "\n",
    "    p = [k for k in 1:n]\n",
    "    b_r = [Symbol(\"y0_r_\", k) for k in 1:n]\n",
    "    b_i = [Symbol(\"y0_i_\", k) for k in 1:n]\n",
    "    d = Dict{Symbol,MVal}()\n",
    "    es, m = fft_gen_impl2(p, b_r, b_i, d, 1)\n",
    "\n",
    "    b = [:(complex($(b_r[k]), $(b_i[k]))) for k in 1:n]\n",
    "    # println(d)\n",
    "    quote\n",
    "        $(es...)\n",
    "        return $(Expr(:vect, b...))\n",
    "    end\n",
    "\n",
    "end"
   ]
  },
  {
   "cell_type": "code",
   "execution_count": 32,
   "metadata": {},
   "outputs": [
    {
     "ename": "UndefVarError",
     "evalue": "UndefVarError: `add_m` not defined",
     "output_type": "error",
     "traceback": [
      "UndefVarError: `add_m` not defined\n",
      "\n",
      "Stacktrace:\n",
      " [1] mult_i_g(x_r::MCst, x_i::MCst, y_r::MAny, y_i::MCst)\n",
      "   @ Main ~/devel/Julia/julia-samples/CompTimeSamples/jupyter/jl_notebook_cell_df34fa98e69747e1a8f8a730347b8e2f_X41sZmlsZQ==.jl:1\n",
      " [2] fft_gen_impl2(p::Vector{Int64}, b_r::Vector{Symbol}, b_i::Vector{Symbol}, d::Dict{Symbol, MVal}, m::Int64)\n",
      "   @ Main ~/devel/Julia/julia-samples/CompTimeSamples/jupyter/jl_notebook_cell_df34fa98e69747e1a8f8a730347b8e2f_X43sZmlsZQ==.jl:38\n",
      " [3] fft_gen_impl2(p::Vector{Int64}, b_r::Vector{Symbol}, b_i::Vector{Symbol}, d::Dict{Symbol, MVal}, m::Int64)\n",
      "   @ Main ~/devel/Julia/julia-samples/CompTimeSamples/jupyter/jl_notebook_cell_df34fa98e69747e1a8f8a730347b8e2f_X43sZmlsZQ==.jl:25\n",
      " [4] fft_gen_impl2(n::Int64)\n",
      "   @ Main ~/devel/Julia/julia-samples/CompTimeSamples/jupyter/jl_notebook_cell_df34fa98e69747e1a8f8a730347b8e2f_X44sZmlsZQ==.jl:8\n",
      " [5] top-level scope\n",
      "   @ ~/devel/Julia/julia-samples/CompTimeSamples/jupyter/jl_notebook_cell_df34fa98e69747e1a8f8a730347b8e2f_X45sZmlsZQ==.jl:1"
     ]
    }
   ],
   "source": [
    "fft_gen_impl2(4) |> cleanup"
   ]
  },
  {
   "cell_type": "code",
   "execution_count": 33,
   "metadata": {},
   "outputs": [
    {
     "data": {
      "text/plain": [
       "fft_gen2 (generic function with 1 method)"
      ]
     },
     "metadata": {},
     "output_type": "display_data"
    }
   ],
   "source": [
    "@generated function fft_gen2(a::NTuple{N,Float64}) where {N}\n",
    "    fft_gen_impl2(N)\n",
    "end"
   ]
  },
  {
   "cell_type": "code",
   "execution_count": 34,
   "metadata": {},
   "outputs": [
    {
     "ename": "UndefVarError",
     "evalue": "UndefVarError: `add_m` not defined",
     "output_type": "error",
     "traceback": [
      "UndefVarError: `add_m` not defined\n",
      "\n",
      "Stacktrace:\n",
      " [1] mult_i_g(x_r::MCst, x_i::MCst, y_r::MAny, y_i::MCst)\n",
      "   @ Main ~/devel/Julia/julia-samples/CompTimeSamples/jupyter/jl_notebook_cell_df34fa98e69747e1a8f8a730347b8e2f_X41sZmlsZQ==.jl:1\n",
      " [2] fft_gen_impl2(p::Vector{Int64}, b_r::Vector{Symbol}, b_i::Vector{Symbol}, d::Dict{Symbol, MVal}, m::Int64)\n",
      "   @ Main ~/devel/Julia/julia-samples/CompTimeSamples/jupyter/jl_notebook_cell_df34fa98e69747e1a8f8a730347b8e2f_X43sZmlsZQ==.jl:38\n",
      " [3] fft_gen_impl2(p::Vector{Int64}, b_r::Vector{Symbol}, b_i::Vector{Symbol}, d::Dict{Symbol, MVal}, m::Int64)\n",
      "   @ Main ~/devel/Julia/julia-samples/CompTimeSamples/jupyter/jl_notebook_cell_df34fa98e69747e1a8f8a730347b8e2f_X43sZmlsZQ==.jl:25\n",
      " [4] fft_gen_impl2(n::Int64)\n",
      "   @ Main ~/devel/Julia/julia-samples/CompTimeSamples/jupyter/jl_notebook_cell_df34fa98e69747e1a8f8a730347b8e2f_X44sZmlsZQ==.jl:8\n",
      " [5] #s74#58\n",
      "   @ ~/devel/Julia/julia-samples/CompTimeSamples/jupyter/jl_notebook_cell_df34fa98e69747e1a8f8a730347b8e2f_X46sZmlsZQ==.jl:2 [inlined]\n",
      " [6] var\"#s74#58\"(N::Any, ::Any, a::Any)\n",
      "   @ Main ./none:0\n",
      " [7] (::Core.GeneratedFunctionStub)(::UInt64, ::LineNumberNode, ::Any, ::Vararg{Any})\n",
      "   @ Core ./boot.jl:602\n",
      " [8] top-level scope\n",
      "   @ ~/devel/Julia/julia-samples/CompTimeSamples/jupyter/jl_notebook_cell_df34fa98e69747e1a8f8a730347b8e2f_X50sZmlsZQ==.jl:1"
     ]
    }
   ],
   "source": [
    "fft_gen2((10.0, 20.0, 30.0, 40.0))"
   ]
  },
  {
   "cell_type": "code",
   "execution_count": 35,
   "metadata": {},
   "outputs": [
    {
     "name": "stdout",
     "output_type": "stream",
     "text": [
      "\u001b[91m\u001b[1mError During Test\u001b[22m\u001b[39m at \u001b[39m\u001b[1m/home/roman/devel/Julia/julia-samples/CompTimeSamples/jupyter/jl_notebook_cell_df34fa98e69747e1a8f8a730347b8e2f_W2sZmlsZQ==.jl:2\u001b[22m\n",
      "  Test threw exception\n",
      "  Expression: FFTW.fft(sample_vector_input) ≈ fft(sample_tuple_input)\n",
      "  UndefVarError: `add_m` not defined\n",
      "  Stacktrace:\n",
      "   [1] \u001b[0m\u001b[1mmult_i_g\u001b[22m\u001b[0m\u001b[1m(\u001b[22m\u001b[90mx_r\u001b[39m::\u001b[0mMCst, \u001b[90mx_i\u001b[39m::\u001b[0mMCst, \u001b[90my_r\u001b[39m::\u001b[0mMAny, \u001b[90my_i\u001b[39m::\u001b[0mMCst\u001b[0m\u001b[1m)\u001b[22m\n",
      "  \u001b[90m   @\u001b[39m \u001b[35mMain\u001b[39m \u001b[90m~/devel/Julia/julia-samples/CompTimeSamples/jupyter/\u001b[39m\u001b[90m\u001b[4mjl_notebook_cell_df34fa98e69747e1a8f8a730347b8e2f_X41sZmlsZQ==.jl:1\u001b[24m\u001b[39m\n",
      "   [2] \u001b[0m\u001b[1mfft_gen_impl2\u001b[22m\u001b[0m\u001b[1m(\u001b[22m\u001b[90mp\u001b[39m::\u001b[0mVector\u001b[90m{Int64}\u001b[39m, \u001b[90mb_r\u001b[39m::\u001b[0mVector\u001b[90m{Symbol}\u001b[39m, \u001b[90mb_i\u001b[39m::\u001b[0mVector\u001b[90m{Symbol}\u001b[39m, \u001b[90md\u001b[39m::\u001b[0mDict\u001b[90m{Symbol, MVal}\u001b[39m, \u001b[90mm\u001b[39m::\u001b[0mInt64\u001b[0m\u001b[1m)\u001b[22m\n",
      "  \u001b[90m   @\u001b[39m \u001b[35mMain\u001b[39m \u001b[90m~/devel/Julia/julia-samples/CompTimeSamples/jupyter/\u001b[39m\u001b[90m\u001b[4mjl_notebook_cell_df34fa98e69747e1a8f8a730347b8e2f_X43sZmlsZQ==.jl:38\u001b[24m\u001b[39m\n",
      "   [3] \u001b[0m\u001b[1mfft_gen_impl2\u001b[22m\u001b[0m\u001b[1m(\u001b[22m\u001b[90mp\u001b[39m::\u001b[0mVector\u001b[90m{Int64}\u001b[39m, \u001b[90mb_r\u001b[39m::\u001b[0mVector\u001b[90m{Symbol}\u001b[39m, \u001b[90mb_i\u001b[39m::\u001b[0mVector\u001b[90m{Symbol}\u001b[39m, \u001b[90md\u001b[39m::\u001b[0mDict\u001b[90m{Symbol, MVal}\u001b[39m, \u001b[90mm\u001b[39m::\u001b[0mInt64\u001b[0m\u001b[1m)\u001b[22m\u001b[90m (repeats 4 times)\u001b[39m\n",
      "  \u001b[90m   @\u001b[39m \u001b[35mMain\u001b[39m \u001b[90m~/devel/Julia/julia-samples/CompTimeSamples/jupyter/\u001b[39m\u001b[90m\u001b[4mjl_notebook_cell_df34fa98e69747e1a8f8a730347b8e2f_X43sZmlsZQ==.jl:25\u001b[24m\u001b[39m\n",
      "   [4] \u001b[0m\u001b[1mfft_gen_impl2\u001b[22m\u001b[0m\u001b[1m(\u001b[22m\u001b[90mn\u001b[39m::\u001b[0mInt64\u001b[0m\u001b[1m)\u001b[22m\n",
      "  \u001b[90m   @\u001b[39m \u001b[35mMain\u001b[39m \u001b[90m~/devel/Julia/julia-samples/CompTimeSamples/jupyter/\u001b[39m\u001b[90m\u001b[4mjl_notebook_cell_df34fa98e69747e1a8f8a730347b8e2f_X44sZmlsZQ==.jl:8\u001b[24m\u001b[39m\n",
      "   [5] \u001b[0m\u001b[1m#s74#58\u001b[22m\n",
      "  \u001b[90m   @\u001b[39m \u001b[90m~/devel/Julia/julia-samples/CompTimeSamples/jupyter/\u001b[39m\u001b[90m\u001b[4mjl_notebook_cell_df34fa98e69747e1a8f8a730347b8e2f_X46sZmlsZQ==.jl:2\u001b[24m\u001b[39m\u001b[90m [inlined]\u001b[39m\n",
      "   [6] \u001b[0m\u001b[1mvar\"#s74#58\"\u001b[22m\u001b[0m\u001b[1m(\u001b[22m\u001b[90mN\u001b[39m::\u001b[0mAny, ::\u001b[0mAny, \u001b[90ma\u001b[39m::\u001b[0mAny\u001b[0m\u001b[1m)\u001b[22m\n",
      "  \u001b[90m   @\u001b[39m \u001b[35mMain\u001b[39m \u001b[90m./\u001b[39m\u001b[90m\u001b[4mnone:0\u001b[24m\u001b[39m\n",
      "   [7] \u001b[0m\u001b[1m(::Core.GeneratedFunctionStub)\u001b[22m\u001b[0m\u001b[1m(\u001b[22m::\u001b[0mUInt64, ::\u001b[0mLineNumberNode, ::\u001b[0mAny, ::\u001b[0mVararg\u001b[90m{Any}\u001b[39m\u001b[0m\u001b[1m)\u001b[22m\n",
      "  \u001b[90m   @\u001b[39m \u001b[90mCore\u001b[39m \u001b[90m./\u001b[39m\u001b[90m\u001b[4mboot.jl:602\u001b[24m\u001b[39m\n",
      "   [8] \u001b[0m\u001b[1mmacro expansion\u001b[22m\n",
      "  \u001b[90m   @\u001b[39m \u001b[90m~/.julia/juliaup/julia-1.10.4+0.x64.linux.gnu/share/julia/stdlib/v1.10/Test/src/\u001b[39m\u001b[90m\u001b[4mTest.jl:669\u001b[24m\u001b[39m\u001b[90m [inlined]\u001b[39m\n",
      "   [9] \u001b[0m\u001b[1mtest_fft\u001b[22m\u001b[0m\u001b[1m(\u001b[22m\u001b[90mfft\u001b[39m::\u001b[0mtypeof(fft_gen2)\u001b[0m\u001b[1m)\u001b[22m\n",
      "  \u001b[90m   @\u001b[39m \u001b[35mMain\u001b[39m \u001b[90m~/devel/Julia/julia-samples/CompTimeSamples/jupyter/\u001b[39m\u001b[90m\u001b[4mjl_notebook_cell_df34fa98e69747e1a8f8a730347b8e2f_W2sZmlsZQ==.jl:2\u001b[24m\u001b[39m\n"
     ]
    },
    {
     "ename": "Test.FallbackTestSetException",
     "evalue": "Test.FallbackTestSetException(\"There was an error during testing\")",
     "output_type": "error",
     "traceback": [
      "Test.FallbackTestSetException(\"There was an error during testing\")\n",
      "\n",
      "Stacktrace:\n",
      " [1] record(ts::Test.FallbackTestSet, t::Union{Test.Error, Test.Fail})\n",
      "   @ Test ~/.julia/juliaup/julia-1.10.4+0.x64.linux.gnu/share/julia/stdlib/v1.10/Test/src/Test.jl:1000\n",
      " [2] do_test(result::Test.ExecutionResult, orig_expr::Any)\n",
      "   @ Test ~/.julia/juliaup/julia-1.10.4+0.x64.linux.gnu/share/julia/stdlib/v1.10/Test/src/Test.jl:705\n",
      " [3] macro expansion\n",
      "   @ ~/.julia/juliaup/julia-1.10.4+0.x64.linux.gnu/share/julia/stdlib/v1.10/Test/src/Test.jl:672 [inlined]\n",
      " [4] test_fft(fft::typeof(fft_gen2))\n",
      "   @ Main ~/devel/Julia/julia-samples/CompTimeSamples/jupyter/jl_notebook_cell_df34fa98e69747e1a8f8a730347b8e2f_W2sZmlsZQ==.jl:2\n",
      " [5] top-level scope\n",
      "   @ ~/devel/Julia/julia-samples/CompTimeSamples/jupyter/jl_notebook_cell_df34fa98e69747e1a8f8a730347b8e2f_X51sZmlsZQ==.jl:1"
     ]
    }
   ],
   "source": [
    "test_fft(fft_gen2)"
   ]
  },
  {
   "cell_type": "markdown",
   "metadata": {},
   "source": [
    "## Без `MCst` и `MAny`\n",
    "\n",
    "Можно различать константы и без `MCst` и `MAny`.\n",
    "\n",
    "Но при этом (чуть-чуть) нарушается принцип, что \"нельзя заглядывать в генерируемый код\"."
   ]
  },
  {
   "cell_type": "code",
   "execution_count": 36,
   "metadata": {},
   "outputs": [
    {
     "data": {
      "text/plain": [
       "add_s (generic function with 8 methods)"
      ]
     },
     "metadata": {},
     "output_type": "display_data"
    }
   ],
   "source": [
    "add_s(x, y) = :($x + $y)\n",
    "\n",
    "add_s(x::Float64, y::Float64) = :($(x + y))\n",
    "\n",
    "function add_s(x::Float64, y)\n",
    "    if x == 0.0\n",
    "        y\n",
    "    else\n",
    "        :($x + $y)\n",
    "    end\n",
    "end\n",
    "\n",
    "function add_s(x, y::Float64)\n",
    "    if y == 0.0\n",
    "        x\n",
    "    else\n",
    "        :($x + $y)\n",
    "    end\n",
    "end"
   ]
  },
  {
   "cell_type": "code",
   "execution_count": 37,
   "metadata": {},
   "outputs": [
    {
     "data": {
      "text/plain": [
       "\u001b[32m\u001b[1mTest Passed\u001b[22m\u001b[39m"
      ]
     },
     "metadata": {},
     "output_type": "display_data"
    }
   ],
   "source": [
    "@test add_s(:(2.0), :(3.0)) == :(5.0)\n",
    "@test add_s(:(2.0), :(x)) == :(2.0 + x)\n",
    "@test add_s(:(0.0), :(x)) == :(x)\n",
    "@test add_s(:(x), :(2.0)) == :(x + 2.0)\n",
    "@test add_s(:(x), :(0.0)) == :(x)\n",
    "@test add_s(:(x), :(y)) == :(x + y)"
   ]
  },
  {
   "cell_type": "code",
   "execution_count": 38,
   "metadata": {},
   "outputs": [
    {
     "data": {
      "text/plain": [
       "sub_s (generic function with 4 methods)"
      ]
     },
     "metadata": {},
     "output_type": "display_data"
    }
   ],
   "source": [
    "sub_s(x, y) = :($x - $y)\n",
    "\n",
    "sub_s(x::Float64, y::Float64) = :($(x - y))\n",
    "\n",
    "function sub_s(x::Float64, y)\n",
    "    if x == 0.0\n",
    "        :(- $y)\n",
    "    else\n",
    "        :($x - $y)\n",
    "    end\n",
    "end\n",
    "\n",
    "function sub_s(x, y::Float64)\n",
    "    if y == 0.0\n",
    "        x\n",
    "    else\n",
    "        :($x - $y)\n",
    "    end\n",
    "end"
   ]
  },
  {
   "cell_type": "code",
   "execution_count": 39,
   "metadata": {},
   "outputs": [
    {
     "data": {
      "text/plain": [
       "\u001b[32m\u001b[1mTest Passed\u001b[22m\u001b[39m"
      ]
     },
     "metadata": {},
     "output_type": "display_data"
    }
   ],
   "source": [
    "@test sub_s(:(5.0), :(2.0)) == :(3.0)\n",
    "@test sub_s(:(2.0), :(x)) == :(2.0 - x)\n",
    "@test sub_s(:(0.0), :(x)) == :(-x)\n",
    "@test sub_s(:(x), :(2.0)) == :(x - 2.0)\n",
    "@test sub_s(:(x), :(0.0)) == :(x)\n",
    "@test sub_s(:(x), :(y)) == :(x - y)"
   ]
  },
  {
   "cell_type": "code",
   "execution_count": 40,
   "metadata": {},
   "outputs": [
    {
     "data": {
      "text/plain": [
       "mult_s (generic function with 4 methods)"
      ]
     },
     "metadata": {},
     "output_type": "display_data"
    }
   ],
   "source": [
    "mult_s(x, y) = :($x * $y)\n",
    "\n",
    "mult_s(x::Float64, y::Float64) = :($(x * y))\n",
    "\n",
    "function mult_s(x::Float64, y)\n",
    "    if x == 0.0\n",
    "        :(0.0)\n",
    "    elseif x == 1.0\n",
    "        y\n",
    "    elseif x == -1.0\n",
    "        :(-$y)\n",
    "    else\n",
    "        :($x * $y)\n",
    "    end\n",
    "end\n",
    "\n",
    "function mult_s(x, y::Float64)\n",
    "    if y == 0.0\n",
    "        :(0.0)\n",
    "    elseif y == 1.0\n",
    "        x\n",
    "    elseif y == -1.0\n",
    "        :(-$x)\n",
    "    else\n",
    "        :($x * $y)\n",
    "    end\n",
    "end"
   ]
  },
  {
   "cell_type": "code",
   "execution_count": 41,
   "metadata": {},
   "outputs": [
    {
     "data": {
      "text/plain": [
       "\u001b[32m\u001b[1mTest Passed\u001b[22m\u001b[39m"
      ]
     },
     "metadata": {},
     "output_type": "display_data"
    }
   ],
   "source": [
    "@test mult_s(2.0, 3.0) == 6.0\n",
    "@test mult_s(10.0, :x) ==:(10.0 * x)\n",
    "@test mult_s(0.0, :x) == 0.0\n",
    "@test mult_s(1.0, :x) == :x\n",
    "@test mult_s(-1.0, :x) == :(- x)\n",
    "@test mult_s(:x, 20.0) == :(x * 20.0)\n",
    "@test mult_s(:x, 0.0) == 0.0\n",
    "@test mult_s(:x, 1.0) == :x\n",
    "@test mult_s(:x, -1.0) == :(-x)\n",
    "@test mult_s(:x, :y) == :(x * y)"
   ]
  },
  {
   "cell_type": "code",
   "execution_count": 42,
   "metadata": {},
   "outputs": [
    {
     "data": {
      "text/plain": [
       "mult_i_s (generic function with 1 method)"
      ]
     },
     "metadata": {},
     "output_type": "display_data"
    }
   ],
   "source": [
    "mult_r_s(x_r, x_i, y_r, y_i) =\n",
    "    sub_s(mult_s(x_r, y_r), mult_s(x_i, y_i))\n",
    "mult_i_s(x_r, x_i, y_r, y_i) =\n",
    "    add_s(mult_s(x_r, y_i), mult_s(x_i, y_r))"
   ]
  },
  {
   "cell_type": "code",
   "execution_count": 43,
   "metadata": {},
   "outputs": [
    {
     "data": {
      "text/plain": [
       "h (generic function with 2 methods)"
      ]
     },
     "metadata": {},
     "output_type": "display_data"
    }
   ],
   "source": [
    "h(::Symbol, x::Float64) = x\n",
    "h(s::Symbol, e) = s"
   ]
  },
  {
   "cell_type": "code",
   "execution_count": 44,
   "metadata": {},
   "outputs": [
    {
     "data": {
      "text/plain": [
       "fft_gen_impl3 (generic function with 1 method)"
      ]
     },
     "metadata": {},
     "output_type": "display_data"
    }
   ],
   "source": [
    "function fft_gen_impl3(p, b_r, b_i, d, m)\n",
    "    n = length(p)\n",
    "    es = Expr[]\n",
    "\n",
    "    if isone(n)\n",
    "        # d[b_r[1]] = :(a[$(p[1])])\n",
    "        d[b_r[1]] = b_r[1]\n",
    "        d[b_i[1]] = 0.0\n",
    "        append!(es, (\n",
    "            # :($(b_r[1]) = $(d[b_r[1]])),\n",
    "            # :($(b_i[1]) = $(d[b_i[1]]))\n",
    "            :($(b_r[1]) = a[$(p[1])]),\n",
    "            :($(b_i[1]) = 0.0)\n",
    "            ))\n",
    "        return es, m\n",
    "    end\n",
    "\n",
    "    n2 = n ÷ 2\n",
    "    p1 = [p[k] for k in 1:2:n]\n",
    "    p2 = [p[k] for k in 2:2:n]\n",
    "\n",
    "    y1_r = [Symbol(\"y1_r_\", m, \"_\", k) for k in 1:n2]\n",
    "    y1_i = [Symbol(\"y1_i_\", m, \"_\", k) for k in 1:n2]\n",
    "    y2_r = [Symbol(\"y2_r_\", m, \"_\", k) for k in 1:n2]\n",
    "    y2_i = [Symbol(\"y2_i_\", m, \"_\", k) for k in 1:n2]\n",
    "    m += 1\n",
    "\n",
    "    es1, m = fft_gen_impl3(p1, y1_r, y1_i, d, m)\n",
    "    es2, m = fft_gen_impl3(p2, y2_r, y2_i, d, m)\n",
    "    append!(es, es1, es2)\n",
    "\n",
    "    w = exp(-2 * pi * im / n)\n",
    "\n",
    "    for k in 1:n2\n",
    "        wk = w^(k - 1)\n",
    "        t_r = Symbol(\"t_r_\", m)\n",
    "        t_i = Symbol(\"t_i_\", m)\n",
    "        m += 1\n",
    "\n",
    "        t_r_m = mult_r_s(real(wk), imag(wk), d[y2_r[k]], d[y2_i[k]])\n",
    "        t_i_m = mult_i_s(real(wk), imag(wk), d[y2_r[k]], d[y2_i[k]])\n",
    "        b_r1_m = add_s(d[y1_r[k]], h(t_r, t_r_m))\n",
    "        d[b_r[k]] = h(b_r[k], b_r1_m)\n",
    "        b_i1_m = add_s(d[y1_i[k]], h(t_i, t_i_m))\n",
    "        d[b_i[k]] = h(b_i[k], b_i1_m)\n",
    "        b_r2_m = sub_s(d[y1_r[k]], h(t_r, t_r_m))\n",
    "        d[b_r[k+n2]] = h(b_r[k+n2], b_r2_m)\n",
    "        b_i2_m = sub_s(d[y1_i[k]], h(t_i, t_i_m))\n",
    "        d[b_i[k+n2]] = h(b_i[k+n2], b_i2_m)\n",
    "\n",
    "        append!(es, (\n",
    "            :($t_r = $t_r_m),\n",
    "            :($t_i = $t_i_m),\n",
    "            :($(b_r[k]) = $b_r1_m),\n",
    "            :($(b_i[k]) = $b_i1_m),\n",
    "            :($(b_r[k+n2]) = $b_r2_m),\n",
    "            :($(b_i[k+n2]) = $b_i2_m)\n",
    "        ))\n",
    "    end\n",
    "\n",
    "    return es, m\n",
    "end"
   ]
  },
  {
   "cell_type": "code",
   "execution_count": 45,
   "metadata": {},
   "outputs": [
    {
     "data": {
      "text/plain": [
       "fft_gen_impl3 (generic function with 2 methods)"
      ]
     },
     "metadata": {},
     "output_type": "display_data"
    }
   ],
   "source": [
    "function fft_gen_impl3(n)\n",
    "    @assert (n >= 1 && ispow2(n))\n",
    "\n",
    "    p = [k for k in 1:n]\n",
    "    b_r = [Symbol(\"y0_r_\", k) for k in 1:n]\n",
    "    b_i = [Symbol(\"y0_i_\", k) for k in 1:n]\n",
    "    d = Dict{Symbol,Any}()\n",
    "    es, m = fft_gen_impl3(p, b_r, b_i, d, 1)\n",
    "\n",
    "    b = [:(complex($(b_r[k]), $(b_i[k]))) for k in 1:n]\n",
    "    # println(d)\n",
    "    quote\n",
    "        $(es...)\n",
    "        return $(Expr(:vect, b...))\n",
    "    end\n",
    "\n",
    "end"
   ]
  },
  {
   "cell_type": "code",
   "execution_count": 46,
   "metadata": {},
   "outputs": [
    {
     "data": {
      "text/plain": [
       "quote\n",
       "    y1_r_2_1 = a[1]\n",
       "    y1_i_2_1 = 0.0\n",
       "    y2_r_2_1 = a[3]\n",
       "    y2_i_2_1 = 0.0\n",
       "    t_r_3 = y2_r_2_1\n",
       "    t_i_3 = 0.0\n",
       "    y1_r_1_1 = y1_r_2_1 + t_r_3\n",
       "    y1_i_1_1 = 0.0\n",
       "    y1_r_1_2 = y1_r_2_1 - t_r_3\n",
       "    y1_i_1_2 = 0.0\n",
       "    y1_r_4_1 = a[2]\n",
       "    y1_i_4_1 = 0.0\n",
       "    y2_r_4_1 = a[4]\n",
       "    y2_i_4_1 = 0.0\n",
       "    t_r_5 = y2_r_4_1\n",
       "    t_i_5 = 0.0\n",
       "    y2_r_1_1 = y1_r_4_1 + t_r_5\n",
       "    y2_i_1_1 = 0.0\n",
       "    y2_r_1_2 = y1_r_4_1 - t_r_5\n",
       "    y2_i_1_2 = 0.0\n",
       "    t_r_6 = y2_r_1_1\n",
       "    t_i_6 = 0.0\n",
       "    y0_r_1 = y1_r_1_1 + t_r_6\n",
       "    y0_i_1 = 0.0\n",
       "    y0_r_3 = y1_r_1_1 - t_r_6\n",
       "    y0_i_3 = 0.0\n",
       "    t_r_7 = 6.123233995736766e-17y2_r_1_2\n",
       "    t_i_7 = -y2_r_1_2\n",
       "    y0_r_2 = y1_r_1_2 + t_r_7\n",
       "    y0_i_2 = t_i_7\n",
       "    y0_r_4 = y1_r_1_2 - t_r_7\n",
       "    y0_i_4 = -t_i_7\n",
       "    return [complex(y0_r_1, y0_i_1), complex(y0_r_2, y0_i_2), complex(y0_r_3, y0_i_3), complex(y0_r_4, y0_i_4)]\n",
       "end"
      ]
     },
     "metadata": {},
     "output_type": "display_data"
    }
   ],
   "source": [
    "fft_gen_impl3(4) |> cleanup"
   ]
  },
  {
   "cell_type": "code",
   "execution_count": 47,
   "metadata": {},
   "outputs": [
    {
     "data": {
      "text/plain": [
       "fft_gen2 (generic function with 1 method)"
      ]
     },
     "metadata": {},
     "output_type": "display_data"
    }
   ],
   "source": [
    "@generated function fft_gen2(a::NTuple{N,Float64}) where {N}\n",
    "    fft_gen_impl3(N)\n",
    "end"
   ]
  },
  {
   "cell_type": "code",
   "execution_count": 48,
   "metadata": {},
   "outputs": [
    {
     "data": {
      "text/plain": [
       "4-element Vector{ComplexF64}:\n",
       " 100.0 + 0.0im\n",
       " -20.0 + 20.0im\n",
       " -20.0 + 0.0im\n",
       " -20.0 - 20.0im"
      ]
     },
     "metadata": {},
     "output_type": "display_data"
    }
   ],
   "source": [
    "fft_gen2((10.0, 20.0, 30.0, 40.0))"
   ]
  },
  {
   "cell_type": "code",
   "execution_count": 49,
   "metadata": {},
   "outputs": [
    {
     "data": {
      "text/plain": [
       "\u001b[32m\u001b[1mTest Passed\u001b[22m\u001b[39m"
      ]
     },
     "metadata": {},
     "output_type": "display_data"
    }
   ],
   "source": [
    "test_fft(fft_gen2)"
   ]
  }
 ],
 "metadata": {
  "kernelspec": {
   "display_name": "Julia 1.10.4",
   "language": "julia",
   "name": "julia-1.10"
  },
  "language_info": {
   "file_extension": ".jl",
   "mimetype": "application/julia",
   "name": "julia",
   "version": "1.10.4"
  }
 },
 "nbformat": 4,
 "nbformat_minor": 2
}
