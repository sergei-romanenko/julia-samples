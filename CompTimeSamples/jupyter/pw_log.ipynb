{
 "cells": [
  {
   "cell_type": "code",
   "execution_count": 1,
   "metadata": {},
   "outputs": [],
   "source": [
    "using CompTime, InteractiveUtils"
   ]
  },
  {
   "cell_type": "code",
   "execution_count": 2,
   "metadata": {},
   "outputs": [],
   "source": [
    "include(\"MacroUtils.jl\")\n",
    "using .MacroUtils: cleanup"
   ]
  },
  {
   "cell_type": "code",
   "execution_count": 3,
   "metadata": {},
   "outputs": [
    {
     "data": {
      "text/plain": [
       "pw_rec (generic function with 1 method)"
      ]
     },
     "metadata": {},
     "output_type": "display_data"
    }
   ],
   "source": [
    "function pw_rec(n, x::T) where {T}\n",
    "    if iszero(n)\n",
    "        one(T)\n",
    "    elseif isone(n)\n",
    "        x\n",
    "    elseif isodd(n)\n",
    "        x * pw_rec(n - 1, x)\n",
    "    else\n",
    "        pw_rec(n ÷ 2, x * x)\n",
    "    end\n",
    "end"
   ]
  },
  {
   "cell_type": "code",
   "execution_count": 4,
   "metadata": {},
   "outputs": [
    {
     "data": {
      "text/plain": [
       "(\"\", \"Abc\", \"AbcAbc\", \"AbcAbcAbc\", \"AbcAbcAbcAbc\", \"AbcAbcAbcAbcAbc\")"
      ]
     },
     "metadata": {},
     "output_type": "display_data"
    }
   ],
   "source": [
    "Tuple(pw_rec(n, \"Abc\") for n in 0:5)"
   ]
  },
  {
   "cell_type": "code",
   "execution_count": 5,
   "metadata": {},
   "outputs": [
    {
     "data": {
      "text/plain": [
       "pw_rec_pe (generic function with 1 method)"
      ]
     },
     "metadata": {},
     "output_type": "display_data"
    }
   ],
   "source": [
    "function pw_rec_pe(::Val{n}, x::T) where {n,T}\n",
    "    if iszero(n)\n",
    "        one(T)\n",
    "    elseif isone(n)\n",
    "        x\n",
    "    elseif isodd(n)\n",
    "        x * pw_rec_pe(Val(n - 1), x)\n",
    "    else\n",
    "        pw_rec_pe(Val(n ÷ 2), x * x)\n",
    "    end\n",
    "end"
   ]
  },
  {
   "cell_type": "code",
   "execution_count": 6,
   "metadata": {},
   "outputs": [
    {
     "data": {
      "text/plain": [
       "(\"\", \"Abc\", \"AbcAbc\", \"AbcAbcAbc\", \"AbcAbcAbcAbc\", \"AbcAbcAbcAbcAbc\")"
      ]
     },
     "metadata": {},
     "output_type": "display_data"
    }
   ],
   "source": [
    "Tuple(pw_rec_pe(Val(n), \"Abc\") for n in 0:5)"
   ]
  },
  {
   "cell_type": "code",
   "execution_count": 7,
   "metadata": {},
   "outputs": [
    {
     "data": {
      "text/plain": [
       "CodeInfo(\n",
       "\u001b[90m1 ─\u001b[39m      nothing\u001b[90m::Nothing\u001b[39m\n",
       "\u001b[90m│  \u001b[39m      nothing\u001b[90m::Nothing\u001b[39m\n",
       "\u001b[90m│  \u001b[39m %3 = Base.mul_int(x, x)\u001b[36m::Int64\u001b[39m\n",
       "\u001b[90m│  \u001b[39m %4 = Base.mul_int(%3, %3)\u001b[36m::Int64\u001b[39m\n",
       "\u001b[90m│  \u001b[39m %5 = Base.mul_int(x, %4)\u001b[36m::Int64\u001b[39m\n",
       "\u001b[90m└──\u001b[39m      return %5\n",
       ") => Int64"
      ]
     },
     "metadata": {},
     "output_type": "display_data"
    }
   ],
   "source": [
    "@code_typed pw_rec_pe(Val(5), 10)"
   ]
  },
  {
   "cell_type": "code",
   "execution_count": 8,
   "metadata": {},
   "outputs": [
    {
     "data": {
      "text/plain": [
       "pw_tail_rec (generic function with 1 method)"
      ]
     },
     "metadata": {},
     "output_type": "display_data"
    }
   ],
   "source": [
    "function pw_tail_rec(n, x::T) where {T}\n",
    "    if iszero(n)\n",
    "        one(x)\n",
    "    else\n",
    "        pw_tail_rec(n, one(x), x)\n",
    "    end\n",
    "end"
   ]
  },
  {
   "cell_type": "code",
   "execution_count": 9,
   "metadata": {},
   "outputs": [
    {
     "data": {
      "text/plain": [
       "pw_tail_rec (generic function with 2 methods)"
      ]
     },
     "metadata": {},
     "output_type": "display_data"
    }
   ],
   "source": [
    "function pw_tail_rec(n, r, x)\n",
    "    @assert !iszero(n)\n",
    "    if isone(n)\n",
    "        r * x\n",
    "    elseif isodd(n)\n",
    "        pw_tail_rec(n - 1, r * x, x)\n",
    "    else\n",
    "        pw_tail_rec(n ÷ 2, r, x * x)\n",
    "    end\n",
    "end"
   ]
  },
  {
   "cell_type": "code",
   "execution_count": 10,
   "metadata": {},
   "outputs": [
    {
     "data": {
      "text/plain": [
       "(\"\", \"Abc\", \"AbcAbc\", \"AbcAbcAbc\", \"AbcAbcAbcAbc\", \"AbcAbcAbcAbcAbc\")"
      ]
     },
     "metadata": {},
     "output_type": "display_data"
    }
   ],
   "source": [
    "Tuple(pw_tail_rec(n, \"Abc\") for n = 0:5)"
   ]
  },
  {
   "cell_type": "code",
   "execution_count": 11,
   "metadata": {},
   "outputs": [
    {
     "data": {
      "text/plain": [
       "pw_loop (generic function with 1 method)"
      ]
     },
     "metadata": {},
     "output_type": "display_data"
    }
   ],
   "source": [
    "function pw_loop(n, x::T) where {T}\n",
    "    if iszero(n)\n",
    "        return one(T)\n",
    "    else\n",
    "        r = one(T)\n",
    "\n",
    "        while n > 1\n",
    "            if isodd(n)\n",
    "                r = r * x\n",
    "                n = n - 1\n",
    "            else\n",
    "                x = x * x\n",
    "                n = n ÷ 2\n",
    "            end\n",
    "        end\n",
    "\n",
    "        return r * x\n",
    "    end\n",
    "end"
   ]
  },
  {
   "cell_type": "code",
   "execution_count": 12,
   "metadata": {},
   "outputs": [
    {
     "data": {
      "text/plain": [
       "(\"\", \"Abc\", \"AbcAbc\", \"AbcAbcAbc\", \"AbcAbcAbcAbc\", \"AbcAbcAbcAbcAbc\")"
      ]
     },
     "metadata": {},
     "output_type": "display_data"
    }
   ],
   "source": [
    "Tuple(pw_loop(n, \"Abc\") for n = 0:5)"
   ]
  },
  {
   "cell_type": "code",
   "execution_count": 13,
   "metadata": {},
   "outputs": [
    {
     "data": {
      "text/plain": [
       "pw_gen (generic function with 1 method)"
      ]
     },
     "metadata": {},
     "output_type": "display_data"
    }
   ],
   "source": [
    "@generated function pw_gen(::Val{n}, x::T) where {n,T}\n",
    "    b = Expr[]\n",
    "\n",
    "    if iszero(n)\n",
    "        push!(b, :(return $(one(T))))\n",
    "    else\n",
    "        push!(b, :(r = $(one(T))))\n",
    "        k = n\n",
    "\n",
    "        while k > 1\n",
    "            if isodd(k)\n",
    "                push!(b, :(r = r * x))\n",
    "                k = k - 1\n",
    "            else\n",
    "                push!(b, :(x = x * x))\n",
    "                k = k ÷ 2\n",
    "            end\n",
    "        end\n",
    "\n",
    "        push!(b, :(return r * x))\n",
    "\n",
    "    end\n",
    "\n",
    "    b = quote\n",
    "        $(b...)\n",
    "    end\n",
    "    Core.println(string(cleanup(b)))\n",
    "    return b\n",
    "end"
   ]
  },
  {
   "cell_type": "code",
   "execution_count": 14,
   "metadata": {},
   "outputs": [
    {
     "name": "stdout",
     "output_type": "stream",
     "text": [
      "begin\n",
      "    r = \"\"\n",
      "    r = r * x\n",
      "    x = x * x\n",
      "    r = r * x\n",
      "    x = x * x\n",
      "    return r * x\n",
      "end\n"
     ]
    },
    {
     "data": {
      "text/plain": [
       "\"AbcAbcAbcAbcAbcAbcAbc\""
      ]
     },
     "metadata": {},
     "output_type": "display_data"
    }
   ],
   "source": [
    "pw_gen(Val(7), \"Abc\")"
   ]
  },
  {
   "cell_type": "code",
   "execution_count": 15,
   "metadata": {},
   "outputs": [
    {
     "data": {
      "text/plain": [
       "runtime (generic function with 1 method)"
      ]
     },
     "metadata": {},
     "output_type": "display_data"
    }
   ],
   "source": [
    "@ct_enable function pw_ct(@ct(n), x::T) where {T}\n",
    "    @ct_ctrl if iszero(n)\n",
    "        return @ct(one(T))\n",
    "    else\n",
    "        r = @ct(one(T))\n",
    "        @ct(k = n)\n",
    "\n",
    "        @ct_ctrl while k > 1\n",
    "            @ct_ctrl if isodd(k)\n",
    "                r = r * x\n",
    "                @ct(k = k - 1)\n",
    "            else\n",
    "                x = x * x\n",
    "                @ct(k = k ÷ 2)\n",
    "            end\n",
    "        end\n",
    "\n",
    "        return r * x\n",
    "    end\n",
    "end"
   ]
  },
  {
   "cell_type": "code",
   "execution_count": 16,
   "metadata": {},
   "outputs": [
    {
     "data": {
      "text/plain": [
       "(\"\", \"Abc\", \"AbcAbc\", \"AbcAbcAbc\", \"AbcAbcAbcAbc\", \"AbcAbcAbcAbcAbc\")"
      ]
     },
     "metadata": {},
     "output_type": "display_data"
    }
   ],
   "source": [
    "Tuple(pw_ct(Val{n}, \"Abc\") for n = 0:5)"
   ]
  },
  {
   "cell_type": "code",
   "execution_count": 17,
   "metadata": {},
   "outputs": [
    {
     "data": {
      "text/plain": [
       "(\"\", \"Abc\", \"AbcAbc\", \"AbcAbcAbc\", \"AbcAbcAbcAbc\", \"AbcAbcAbcAbcAbc\")"
      ]
     },
     "metadata": {},
     "output_type": "display_data"
    }
   ],
   "source": [
    "Tuple(runtime(pw_ct, n, \"Abc\") for n = 0:5)"
   ]
  },
  {
   "cell_type": "code",
   "execution_count": 18,
   "metadata": {},
   "outputs": [
    {
     "data": {
      "text/plain": [
       "(\"\", \"Abc\", \"AbcAbc\", \"AbcAbcAbc\", \"AbcAbcAbcAbc\", \"AbcAbcAbcAbcAbc\")"
      ]
     },
     "metadata": {},
     "output_type": "display_data"
    }
   ],
   "source": [
    "Tuple(comptime(pw_ct, Val{n}, \"Abc\") for n = 0:5)"
   ]
  },
  {
   "cell_type": "code",
   "execution_count": 19,
   "metadata": {},
   "outputs": [
    {
     "data": {
      "text/plain": [
       "CodeInfo(\n",
       "\u001b[90m1 ─\u001b[39m %1 = Base.mul_int(1, x)\u001b[36m::Int64\u001b[39m\n",
       "\u001b[90m│  \u001b[39m %2 = Base.mul_int(x, x)\u001b[36m::Int64\u001b[39m\n",
       "\u001b[90m│  \u001b[39m %3 = Base.mul_int(%2, %2)\u001b[36m::Int64\u001b[39m\n",
       "\u001b[90m│  \u001b[39m %4 = Base.mul_int(%1, %3)\u001b[36m::Int64\u001b[39m\n",
       "\u001b[90m└──\u001b[39m      return %4\n",
       ") => Int64"
      ]
     },
     "metadata": {},
     "output_type": "display_data"
    }
   ],
   "source": [
    "@code_typed pw_ct(Val{5}, 10)"
   ]
  },
  {
   "cell_type": "code",
   "execution_count": 20,
   "metadata": {},
   "outputs": [
    {
     "data": {
      "text/plain": [
       "quote\n",
       "    r = 1\n",
       "    r = r * x\n",
       "    x = x * x\n",
       "    x = x * x\n",
       "    return r * x\n",
       "end"
      ]
     },
     "metadata": {},
     "output_type": "display_data"
    }
   ],
   "source": [
    "debug(pw_ct, Val{5}, 10) |> cleanup"
   ]
  },
  {
   "cell_type": "code",
   "execution_count": 21,
   "metadata": {},
   "outputs": [
    {
     "data": {
      "text/plain": [
       "runtime (generic function with 2 methods)"
      ]
     },
     "metadata": {},
     "output_type": "display_data"
    }
   ],
   "source": [
    "@ct_enable function pw_opt_ct(@ct(n), x::T) where {T}\n",
    "    @ct_ctrl if iszero(n)\n",
    "        return @ct(one(T))\n",
    "    else\n",
    "        @ct(r1 = true)\n",
    "        @ct(k = n)\n",
    "\n",
    "        @ct_ctrl while k > 1\n",
    "            @ct_ctrl if isodd(k)\n",
    "                @ct_ctrl if r1\n",
    "                    r = x\n",
    "                    @ct(r1 = false)\n",
    "                else\n",
    "                    r = r * x\n",
    "                end\n",
    "                @ct(k = k - 1)\n",
    "            else\n",
    "                x = x * x\n",
    "                @ct(k = k ÷ 2)\n",
    "            end\n",
    "        end\n",
    "\n",
    "        @ct_ctrl if r1\n",
    "            return x\n",
    "        else\n",
    "            return r * x\n",
    "        end\n",
    "    end\n",
    "end"
   ]
  },
  {
   "cell_type": "code",
   "execution_count": 22,
   "metadata": {},
   "outputs": [
    {
     "data": {
      "text/plain": [
       "(\"\", \"Abc\", \"AbcAbc\", \"AbcAbcAbc\", \"AbcAbcAbcAbc\", \"AbcAbcAbcAbcAbc\")"
      ]
     },
     "metadata": {},
     "output_type": "display_data"
    }
   ],
   "source": [
    "Tuple(pw_opt_ct(Val{n}, \"Abc\") for n in 0:5)"
   ]
  },
  {
   "cell_type": "code",
   "execution_count": 23,
   "metadata": {},
   "outputs": [
    {
     "data": {
      "text/plain": [
       "CodeInfo(\n",
       "\u001b[90m1 ─\u001b[39m %1 = Base.mul_int(x, x)\u001b[36m::Int64\u001b[39m\n",
       "\u001b[90m│  \u001b[39m %2 = Base.mul_int(%1, %1)\u001b[36m::Int64\u001b[39m\n",
       "\u001b[90m│  \u001b[39m %3 = Base.mul_int(x, %2)\u001b[36m::Int64\u001b[39m\n",
       "\u001b[90m└──\u001b[39m      return %3\n",
       ") => Int64"
      ]
     },
     "metadata": {},
     "output_type": "display_data"
    }
   ],
   "source": [
    "@code_typed pw_opt_ct(Val{5}, 10)"
   ]
  },
  {
   "cell_type": "code",
   "execution_count": 24,
   "metadata": {},
   "outputs": [
    {
     "data": {
      "text/plain": [
       ":(return 1)"
      ]
     },
     "metadata": {},
     "output_type": "display_data"
    }
   ],
   "source": [
    "debug(pw_opt_ct, Val{0}, 10) |> cleanup"
   ]
  },
  {
   "cell_type": "code",
   "execution_count": 25,
   "metadata": {},
   "outputs": [
    {
     "data": {
      "text/plain": [
       ":(return x)"
      ]
     },
     "metadata": {},
     "output_type": "display_data"
    }
   ],
   "source": [
    "debug(pw_opt_ct, Val{1}, 10) |> cleanup"
   ]
  },
  {
   "cell_type": "code",
   "execution_count": 26,
   "metadata": {},
   "outputs": [
    {
     "data": {
      "text/plain": [
       "quote\n",
       "    x = x * x\n",
       "    x = x * x\n",
       "    return x\n",
       "end"
      ]
     },
     "metadata": {},
     "output_type": "display_data"
    }
   ],
   "source": [
    "debug(pw_opt_ct, Val{4}, 10) |> cleanup"
   ]
  },
  {
   "cell_type": "code",
   "execution_count": 27,
   "metadata": {},
   "outputs": [
    {
     "data": {
      "text/plain": [
       "quote\n",
       "    r = x\n",
       "    x = x * x\n",
       "    x = x * x\n",
       "    return r * x\n",
       "end"
      ]
     },
     "metadata": {},
     "output_type": "display_data"
    }
   ],
   "source": [
    "debug(pw_opt_ct, Val{5}, 10) |> cleanup"
   ]
  },
  {
   "cell_type": "code",
   "execution_count": 28,
   "metadata": {},
   "outputs": [
    {
     "data": {
      "text/plain": [
       "quote\n",
       "    r = x\n",
       "    x = x * x\n",
       "    r = r * x\n",
       "    x = x * x\n",
       "    return r * x\n",
       "end"
      ]
     },
     "metadata": {},
     "output_type": "display_data"
    }
   ],
   "source": [
    "debug(pw_opt_ct, Val{7}, 10) |> cleanup"
   ]
  },
  {
   "cell_type": "code",
   "execution_count": 29,
   "metadata": {},
   "outputs": [
    {
     "data": {
      "text/plain": [
       "pw_loop2 (generic function with 1 method)"
      ]
     },
     "metadata": {},
     "output_type": "display_data"
    }
   ],
   "source": [
    "function pw_loop2(n, x::T) where {T}\n",
    "        r = one(T)\n",
    "\n",
    "        while n > 0\n",
    "            if isodd(n)\n",
    "                r = r * x\n",
    "                n = n - 1\n",
    "            else\n",
    "                x = x * x\n",
    "                n = n ÷ 2\n",
    "            end\n",
    "        end\n",
    "\n",
    "        return r\n",
    "end"
   ]
  },
  {
   "cell_type": "code",
   "execution_count": 30,
   "metadata": {},
   "outputs": [
    {
     "data": {
      "text/plain": [
       "(\"\", \"Abc\", \"AbcAbc\", \"AbcAbcAbc\", \"AbcAbcAbcAbc\", \"AbcAbcAbcAbcAbc\")"
      ]
     },
     "metadata": {},
     "output_type": "display_data"
    }
   ],
   "source": [
    "Tuple(pw_loop2(n, \"Abc\") for n = 0:5)"
   ]
  },
  {
   "cell_type": "code",
   "execution_count": 31,
   "metadata": {},
   "outputs": [
    {
     "data": {
      "text/plain": [
       "runtime (generic function with 3 methods)"
      ]
     },
     "metadata": {},
     "output_type": "display_data"
    }
   ],
   "source": [
    "@ct_enable function pw_ct2(@ct(n), x::T) where {T}\n",
    "    @ct(k = n)\n",
    "    r = @ct(one(T))\n",
    "\n",
    "    @ct_ctrl while k > 0\n",
    "        @ct_ctrl if isodd(k)\n",
    "            r = r * x\n",
    "            @ct(k = k - 1)\n",
    "        else\n",
    "            x = x * x\n",
    "            @ct(k = k ÷ 2)\n",
    "        end\n",
    "    end\n",
    "\n",
    "    return r\n",
    "end"
   ]
  },
  {
   "cell_type": "code",
   "execution_count": 32,
   "metadata": {},
   "outputs": [
    {
     "data": {
      "text/plain": [
       "\"AbcAbcAbcAbcAbc\""
      ]
     },
     "metadata": {},
     "output_type": "display_data"
    }
   ],
   "source": [
    "runtime(pw_ct2, 5, \"Abc\")"
   ]
  },
  {
   "cell_type": "code",
   "execution_count": 33,
   "metadata": {},
   "outputs": [
    {
     "data": {
      "text/plain": [
       "quote\n",
       "    r = 1\n",
       "    r = r * x\n",
       "    x = x * x\n",
       "    x = x * x\n",
       "    r = r * x\n",
       "    return r\n",
       "end"
      ]
     },
     "metadata": {},
     "output_type": "display_data"
    }
   ],
   "source": [
    "debug(pw_ct2, Val{5}, 10) |> cleanup"
   ]
  },
  {
   "cell_type": "code",
   "execution_count": 34,
   "metadata": {},
   "outputs": [
    {
     "data": {
      "text/plain": [
       "(\"\", \"Abc\", \"AbcAbc\", \"AbcAbcAbc\", \"AbcAbcAbcAbc\", \"AbcAbcAbcAbcAbc\")"
      ]
     },
     "metadata": {},
     "output_type": "display_data"
    }
   ],
   "source": [
    "Tuple(pw_ct2(Val{n}, \"Abc\") for n = 0:5)"
   ]
  },
  {
   "cell_type": "code",
   "execution_count": 35,
   "metadata": {},
   "outputs": [
    {
     "data": {
      "text/plain": [
       "pw_opt2 (generic function with 1 method)"
      ]
     },
     "metadata": {},
     "output_type": "display_data"
    }
   ],
   "source": [
    "function pw_opt2(n, x::T) where {T}\n",
    "    k = n\n",
    "    # r = one(T)\n",
    "    local r\n",
    "    r1 = true\n",
    "\n",
    "    while k > 0\n",
    "        if isodd(k)\n",
    "            if r1\n",
    "                r = x\n",
    "                r1 = false\n",
    "            else\n",
    "                r = r * x\n",
    "            end\n",
    "            k = k - 1\n",
    "        else\n",
    "            x = x * x\n",
    "            k = k ÷ 2\n",
    "        end\n",
    "    end\n",
    "\n",
    "    return r1 ? one(T) : r\n",
    "end"
   ]
  },
  {
   "cell_type": "code",
   "execution_count": 36,
   "metadata": {},
   "outputs": [
    {
     "data": {
      "text/plain": [
       "(\"\", \"Abc\", \"AbcAbc\", \"AbcAbcAbc\", \"AbcAbcAbcAbc\", \"AbcAbcAbcAbcAbc\")"
      ]
     },
     "metadata": {},
     "output_type": "display_data"
    }
   ],
   "source": [
    "Tuple(pw_opt2(n, \"Abc\") for n = 0:5)"
   ]
  },
  {
   "cell_type": "code",
   "execution_count": 37,
   "metadata": {},
   "outputs": [
    {
     "data": {
      "text/plain": [
       "runtime (generic function with 4 methods)"
      ]
     },
     "metadata": {},
     "output_type": "display_data"
    }
   ],
   "source": [
    "@ct_enable function pw_opt_ct2(@ct(n), x::T) where {T}\n",
    "    @ct k = n\n",
    "    # r = @ct(one(T))\n",
    "    local r\n",
    "    @ct r1 = true\n",
    "\n",
    "    @ct_ctrl while k > 0\n",
    "        @ct_ctrl if isodd(k)\n",
    "            @ct_ctrl if r1\n",
    "                r = x\n",
    "                @ct r1 = false\n",
    "            else\n",
    "                r = r * x\n",
    "            end\n",
    "            @ct k = k - 1\n",
    "        else\n",
    "            x = x * x\n",
    "            @ct k = k ÷ 2\n",
    "        end\n",
    "    end\n",
    "\n",
    "    return @ct_ctrl if r1\n",
    "        @ct(one(T))\n",
    "    else\n",
    "        r\n",
    "    end\n",
    "end"
   ]
  },
  {
   "cell_type": "code",
   "execution_count": 38,
   "metadata": {},
   "outputs": [
    {
     "data": {
      "text/plain": [
       "(\"\", \"Abc\", \"AbcAbc\", \"AbcAbcAbc\", \"AbcAbcAbcAbc\", \"AbcAbcAbcAbcAbc\")"
      ]
     },
     "metadata": {},
     "output_type": "display_data"
    }
   ],
   "source": [
    "Tuple(runtime(pw_opt_ct2, n, \"Abc\") for n = 0:5)"
   ]
  },
  {
   "cell_type": "code",
   "execution_count": 39,
   "metadata": {},
   "outputs": [
    {
     "data": {
      "text/plain": [
       "(\"\", \"Abc\", \"AbcAbc\", \"AbcAbcAbc\", \"AbcAbcAbcAbc\", \"AbcAbcAbcAbcAbc\")"
      ]
     },
     "metadata": {},
     "output_type": "display_data"
    }
   ],
   "source": [
    "Tuple(pw_opt_ct2(Val{n}, \"Abc\") for n = 0:5)"
   ]
  },
  {
   "cell_type": "code",
   "execution_count": 40,
   "metadata": {},
   "outputs": [
    {
     "data": {
      "text/plain": [
       "quote\n",
       "    local r\n",
       "    r = x\n",
       "    x = x * x\n",
       "    r = r * x\n",
       "    x = x * x\n",
       "    r = r * x\n",
       "    return r\n",
       "end"
      ]
     },
     "metadata": {},
     "output_type": "display_data"
    }
   ],
   "source": [
    "debug(pw_opt_ct2, Val{7}, 10) |> cleanup"
   ]
  }
 ],
 "metadata": {
  "kernelspec": {
   "display_name": "Julia 1.11.3",
   "language": "julia",
   "name": "julia-1.11"
  },
  "language_info": {
   "file_extension": ".jl",
   "mimetype": "application/julia",
   "name": "julia",
   "version": "1.11.3"
  }
 },
 "nbformat": 4,
 "nbformat_minor": 2
}
