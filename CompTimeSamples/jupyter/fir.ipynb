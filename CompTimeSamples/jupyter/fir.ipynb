{
 "cells": [
  {
   "cell_type": "markdown",
   "metadata": {},
   "source": [
    "$$y_i = \\sum_{k=1}^m {b_k * x_{i-(k-1)}}$$"
   ]
  },
  {
   "cell_type": "code",
   "execution_count": 1,
   "metadata": {},
   "outputs": [
    {
     "data": {
      "text/plain": [
       "fir (generic function with 1 method)"
      ]
     },
     "metadata": {},
     "output_type": "display_data"
    }
   ],
   "source": [
    "function fir(b, x)\n",
    "    m = length(b)\n",
    "    y = similar(x)\n",
    "\n",
    "    for i in 1:length(x)\n",
    "        if i < m\n",
    "            y[i] = x[i]\n",
    "        else\n",
    "            sum = 0.0\n",
    "            for k in 1:m\n",
    "                sum += b[k] * x[i-(k-1)]\n",
    "            end\n",
    "            y[i] = sum\n",
    "        end\n",
    "    end\n",
    "    return y\n",
    "end"
   ]
  },
  {
   "cell_type": "code",
   "execution_count": 2,
   "metadata": {},
   "outputs": [
    {
     "data": {
      "text/plain": [
       "impulses (generic function with 1 method)"
      ]
     },
     "metadata": {},
     "output_type": "display_data"
    }
   ],
   "source": [
    "function impulses(i, j, n)\n",
    "    x = zeros(n)\n",
    "    x[i] = 1.0\n",
    "    x[j] = 1.0\n",
    "    return x\n",
    "end"
   ]
  },
  {
   "cell_type": "code",
   "execution_count": 3,
   "metadata": {},
   "outputs": [
    {
     "data": {
      "text/plain": [
       "7-element Vector{Float64}:\n",
       " 0.0\n",
       " 0.0\n",
       " 1.0\n",
       " 0.0\n",
       " 0.0\n",
       " 0.0\n",
       " 0.0"
      ]
     },
     "metadata": {},
     "output_type": "display_data"
    }
   ],
   "source": [
    "x = impulses(3, 3, 7)"
   ]
  },
  {
   "cell_type": "code",
   "execution_count": 4,
   "metadata": {},
   "outputs": [
    {
     "data": {
      "text/plain": [
       "1×3 Matrix{Float64}:\n",
       " 0.5  0.3  0.2"
      ]
     },
     "metadata": {},
     "output_type": "display_data"
    }
   ],
   "source": [
    "b = [0.5 0.3 0.2]"
   ]
  },
  {
   "cell_type": "code",
   "execution_count": 5,
   "metadata": {},
   "outputs": [
    {
     "data": {
      "text/plain": [
       "7-element Vector{Float64}:\n",
       " 0.0\n",
       " 0.0\n",
       " 0.5\n",
       " 0.3\n",
       " 0.2\n",
       " 0.0\n",
       " 0.0"
      ]
     },
     "metadata": {},
     "output_type": "display_data"
    }
   ],
   "source": [
    "y = fir(b, x)"
   ]
  },
  {
   "cell_type": "code",
   "execution_count": 6,
   "metadata": {},
   "outputs": [],
   "source": [
    "using Plots"
   ]
  },
  {
   "cell_type": "code",
   "execution_count": 7,
   "metadata": {},
   "outputs": [
    {
     "data": {
      "image/png": "[encoded data removed]",
      "image/svg+xml": [
       "<?xml version=\"1.0\" encoding=\"utf-8\"?>\n",
       "<svg xmlns=\"http://www.w3.org/2000/svg\" xmlns:xlink=\"http://www.w3.org/1999/xlink\" width=\"600\" height=\"400\" viewBox=\"0 0 2400 1600\">\n",
       "<defs>\n",
       "  <clipPath id=\"clip510\">\n",
       "    <rect x=\"0\" y=\"0\" width=\"2400\" height=\"1600\"/>\n",
       "  </clipPath>\n",
       "</defs>\n",
       "<path clip-path=\"url(#clip510)\" d=\"M0 1600 L2400 1600 L2400 0 L0 0  Z\" fill=\"#ffffff\" fill-rule=\"evenodd\" fill-opacity=\"1\"/>\n",
       "<defs>\n",
       "  <clipPath id=\"clip511\">\n",
       "    <rect x=\"480\" y=\"0\" width=\"1681\" height=\"1600\"/>\n",
       "  </clipPath>\n",
       "</defs>\n",
       "<path clip-path=\"url(#clip510)\" d=\"M186.274 1486.45 L2352.76 1486.45 L2352.76 47.2441 L186.274 47.2441  Z\" fill=\"#ffffff\" fill-rule=\"evenodd\" fill-opacity=\"1\"/>\n",
       "<defs>\n",
       "  <clipPath id=\"clip512\">\n",
       "    <rect x=\"186\" y=\"47\" width=\"2167\" height=\"1440\"/>\n",
       "  </clipPath>\n",
       "</defs>\n",
       "<polyline clip-path=\"url(#clip512)\" style=\"stroke:#000000; stroke-linecap:round; stroke-linejoin:round; stroke-width:2; stroke-opacity:0.1; fill:none\" points=\"247.59,1486.45 247.59,47.2441 \"/>\n",
       "<polyline clip-path=\"url(#clip512)\" style=\"stroke:#000000; stroke-linecap:round; stroke-linejoin:round; stroke-width:2; stroke-opacity:0.1; fill:none\" points=\"588.231,1486.45 588.231,47.2441 \"/>\n",
       "<polyline clip-path=\"url(#clip512)\" style=\"stroke:#000000; stroke-linecap:round; stroke-linejoin:round; stroke-width:2; stroke-opacity:0.1; fill:none\" points=\"928.873,1486.45 928.873,47.2441 \"/>\n",
       "<polyline clip-path=\"url(#clip512)\" style=\"stroke:#000000; stroke-linecap:round; stroke-linejoin:round; stroke-width:2; stroke-opacity:0.1; fill:none\" points=\"1269.51,1486.45 1269.51,47.2441 \"/>\n",
       "<polyline clip-path=\"url(#clip512)\" style=\"stroke:#000000; stroke-linecap:round; stroke-linejoin:round; stroke-width:2; stroke-opacity:0.1; fill:none\" points=\"1610.16,1486.45 1610.16,47.2441 \"/>\n",
       "<polyline clip-path=\"url(#clip512)\" style=\"stroke:#000000; stroke-linecap:round; stroke-linejoin:round; stroke-width:2; stroke-opacity:0.1; fill:none\" points=\"1950.8,1486.45 1950.8,47.2441 \"/>\n",
       "<polyline clip-path=\"url(#clip512)\" style=\"stroke:#000000; stroke-linecap:round; stroke-linejoin:round; stroke-width:2; stroke-opacity:0.1; fill:none\" points=\"2291.44,1486.45 2291.44,47.2441 \"/>\n",
       "<polyline clip-path=\"url(#clip510)\" style=\"stroke:#000000; stroke-linecap:round; stroke-linejoin:round; stroke-width:4; stroke-opacity:1; fill:none\" points=\"186.274,1486.45 2352.76,1486.45 \"/>\n",
       "<polyline clip-path=\"url(#clip510)\" style=\"stroke:#000000; stroke-linecap:round; stroke-linejoin:round; stroke-width:4; stroke-opacity:1; fill:none\" points=\"247.59,1486.45 247.59,1467.55 \"/>\n",
       "<polyline clip-path=\"url(#clip510)\" style=\"stroke:#000000; stroke-linecap:round; stroke-linejoin:round; stroke-width:4; stroke-opacity:1; fill:none\" points=\"588.231,1486.45 588.231,1467.55 \"/>\n",
       "<polyline clip-path=\"url(#clip510)\" style=\"stroke:#000000; stroke-linecap:round; stroke-linejoin:round; stroke-width:4; stroke-opacity:1; fill:none\" points=\"928.873,1486.45 928.873,1467.55 \"/>\n",
       "<polyline clip-path=\"url(#clip510)\" style=\"stroke:#000000; stroke-linecap:round; stroke-linejoin:round; stroke-width:4; stroke-opacity:1; fill:none\" points=\"1269.51,1486.45 1269.51,1467.55 \"/>\n",
       "<polyline clip-path=\"url(#clip510)\" style=\"stroke:#000000; stroke-linecap:round; stroke-linejoin:round; stroke-width:4; stroke-opacity:1; fill:none\" points=\"1610.16,1486.45 1610.16,1467.55 \"/>\n",
       "<polyline clip-path=\"url(#clip510)\" style=\"stroke:#000000; stroke-linecap:round; stroke-linejoin:round; stroke-width:4; stroke-opacity:1; fill:none\" points=\"1950.8,1486.45 1950.8,1467.55 \"/>\n",
       "<polyline clip-path=\"url(#clip510)\" style=\"stroke:#000000; stroke-linecap:round; stroke-linejoin:round; stroke-width:4; stroke-opacity:1; fill:none\" points=\"2291.44,1486.45 2291.44,1467.55 \"/>\n",
       "<path clip-path=\"url(#clip510)\" d=\"M237.972 1544.91 L245.61 1544.91 L245.61 1518.55 L237.3 1520.21 L237.3 1515.95 L245.564 1514.29 L250.24 1514.29 L250.24 1544.91 L257.879 1544.91 L257.879 1548.85 L237.972 1548.85 L237.972 1544.91 Z\" fill=\"#000000\" fill-rule=\"nonzero\" fill-opacity=\"1\" /><path clip-path=\"url(#clip510)\" d=\"M582.884 1544.91 L599.203 1544.91 L599.203 1548.85 L577.259 1548.85 L577.259 1544.91 Q579.921 1542.16 584.505 1537.53 Q589.111 1532.88 590.292 1531.53 Q592.537 1529.01 593.416 1527.27 Q594.319 1525.51 594.319 1523.82 Q594.319 1521.07 592.375 1519.33 Q590.454 1517.6 587.352 1517.6 Q585.153 1517.6 582.699 1518.36 Q580.268 1519.13 577.491 1520.68 L577.491 1515.95 Q580.315 1514.82 582.768 1514.24 Q585.222 1513.66 587.259 1513.66 Q592.629 1513.66 595.824 1516.35 Q599.018 1519.03 599.018 1523.52 Q599.018 1525.65 598.208 1527.57 Q597.421 1529.47 595.315 1532.07 Q594.736 1532.74 591.634 1535.95 Q588.532 1539.15 582.884 1544.91 Z\" fill=\"#000000\" fill-rule=\"nonzero\" fill-opacity=\"1\" /><path clip-path=\"url(#clip510)\" d=\"M933.121 1530.21 Q936.477 1530.93 938.352 1533.2 Q940.25 1535.47 940.25 1538.8 Q940.25 1543.92 936.732 1546.72 Q933.213 1549.52 926.732 1549.52 Q924.556 1549.52 922.241 1549.08 Q919.95 1548.66 917.496 1547.81 L917.496 1543.29 Q919.44 1544.43 921.755 1545.01 Q924.07 1545.58 926.593 1545.58 Q930.991 1545.58 933.283 1543.85 Q935.598 1542.11 935.598 1538.8 Q935.598 1535.75 933.445 1534.03 Q931.315 1532.3 927.496 1532.3 L923.468 1532.3 L923.468 1528.45 L927.681 1528.45 Q931.13 1528.45 932.959 1527.09 Q934.787 1525.7 934.787 1523.11 Q934.787 1520.45 932.889 1519.03 Q931.014 1517.6 927.496 1517.6 Q925.575 1517.6 923.375 1518.01 Q921.176 1518.43 918.538 1519.31 L918.538 1515.14 Q921.2 1514.4 923.514 1514.03 Q925.852 1513.66 927.913 1513.66 Q933.237 1513.66 936.338 1516.09 Q939.44 1518.5 939.44 1522.62 Q939.44 1525.49 937.797 1527.48 Q936.153 1529.45 933.121 1530.21 Z\" fill=\"#000000\" fill-rule=\"nonzero\" fill-opacity=\"1\" /><path clip-path=\"url(#clip510)\" d=\"M1272.52 1518.36 L1260.72 1536.81 L1272.52 1536.81 L1272.52 1518.36 M1271.3 1514.29 L1277.18 1514.29 L1277.18 1536.81 L1282.11 1536.81 L1282.11 1540.7 L1277.18 1540.7 L1277.18 1548.85 L1272.52 1548.85 L1272.52 1540.7 L1256.92 1540.7 L1256.92 1536.19 L1271.3 1514.29 Z\" fill=\"#000000\" fill-rule=\"nonzero\" fill-opacity=\"1\" /><path clip-path=\"url(#clip510)\" d=\"M1600.43 1514.29 L1618.79 1514.29 L1618.79 1518.22 L1604.72 1518.22 L1604.72 1526.7 Q1605.74 1526.35 1606.75 1526.19 Q1607.77 1526 1608.79 1526 Q1614.58 1526 1617.96 1529.17 Q1621.34 1532.34 1621.34 1537.76 Q1621.34 1543.34 1617.87 1546.44 Q1614.39 1549.52 1608.07 1549.52 Q1605.9 1549.52 1603.63 1549.15 Q1601.38 1548.78 1598.98 1548.04 L1598.98 1543.34 Q1601.06 1544.47 1603.28 1545.03 Q1605.5 1545.58 1607.98 1545.58 Q1611.99 1545.58 1614.32 1543.48 Q1616.66 1541.37 1616.66 1537.76 Q1616.66 1534.15 1614.32 1532.04 Q1611.99 1529.94 1607.98 1529.94 Q1606.11 1529.94 1604.23 1530.35 Q1602.38 1530.77 1600.43 1531.65 L1600.43 1514.29 Z\" fill=\"#000000\" fill-rule=\"nonzero\" fill-opacity=\"1\" /><path clip-path=\"url(#clip510)\" d=\"M1951.2 1529.7 Q1948.06 1529.7 1946.2 1531.86 Q1944.37 1534.01 1944.37 1537.76 Q1944.37 1541.49 1946.2 1543.66 Q1948.06 1545.82 1951.2 1545.82 Q1954.35 1545.82 1956.18 1543.66 Q1958.03 1541.49 1958.03 1537.76 Q1958.03 1534.01 1956.18 1531.86 Q1954.35 1529.7 1951.2 1529.7 M1960.49 1515.05 L1960.49 1519.31 Q1958.73 1518.48 1956.92 1518.04 Q1955.14 1517.6 1953.38 1517.6 Q1948.75 1517.6 1946.3 1520.72 Q1943.87 1523.85 1943.52 1530.17 Q1944.88 1528.15 1946.94 1527.09 Q1949 1526 1951.48 1526 Q1956.69 1526 1959.7 1529.17 Q1962.73 1532.32 1962.73 1537.76 Q1962.73 1543.08 1959.58 1546.3 Q1956.44 1549.52 1951.2 1549.52 Q1945.21 1549.52 1942.04 1544.94 Q1938.87 1540.33 1938.87 1531.6 Q1938.87 1523.41 1942.75 1518.55 Q1946.64 1513.66 1953.19 1513.66 Q1954.95 1513.66 1956.74 1514.01 Q1958.54 1514.36 1960.49 1515.05 Z\" fill=\"#000000\" fill-rule=\"nonzero\" fill-opacity=\"1\" /><path clip-path=\"url(#clip510)\" d=\"M2280.33 1514.29 L2302.55 1514.29 L2302.55 1516.28 L2290.01 1548.85 L2285.12 1548.85 L2296.93 1518.22 L2280.33 1518.22 L2280.33 1514.29 Z\" fill=\"#000000\" fill-rule=\"nonzero\" fill-opacity=\"1\" /><polyline clip-path=\"url(#clip512)\" style=\"stroke:#000000; stroke-linecap:round; stroke-linejoin:round; stroke-width:2; stroke-opacity:0.1; fill:none\" points=\"186.274,1280.85 2352.76,1280.85 \"/>\n",
       "<polyline clip-path=\"url(#clip512)\" style=\"stroke:#000000; stroke-linecap:round; stroke-linejoin:round; stroke-width:2; stroke-opacity:0.1; fill:none\" points=\"186.274,1023.85 2352.76,1023.85 \"/>\n",
       "<polyline clip-path=\"url(#clip512)\" style=\"stroke:#000000; stroke-linecap:round; stroke-linejoin:round; stroke-width:2; stroke-opacity:0.1; fill:none\" points=\"186.274,766.846 2352.76,766.846 \"/>\n",
       "<polyline clip-path=\"url(#clip512)\" style=\"stroke:#000000; stroke-linecap:round; stroke-linejoin:round; stroke-width:2; stroke-opacity:0.1; fill:none\" points=\"186.274,509.845 2352.76,509.845 \"/>\n",
       "<polyline clip-path=\"url(#clip512)\" style=\"stroke:#000000; stroke-linecap:round; stroke-linejoin:round; stroke-width:2; stroke-opacity:0.1; fill:none\" points=\"186.274,252.845 2352.76,252.845 \"/>\n",
       "<polyline clip-path=\"url(#clip510)\" style=\"stroke:#000000; stroke-linecap:round; stroke-linejoin:round; stroke-width:4; stroke-opacity:1; fill:none\" points=\"186.274,1486.45 186.274,47.2441 \"/>\n",
       "<polyline clip-path=\"url(#clip510)\" style=\"stroke:#000000; stroke-linecap:round; stroke-linejoin:round; stroke-width:4; stroke-opacity:1; fill:none\" points=\"186.274,1280.85 205.172,1280.85 \"/>\n",
       "<polyline clip-path=\"url(#clip510)\" style=\"stroke:#000000; stroke-linecap:round; stroke-linejoin:round; stroke-width:4; stroke-opacity:1; fill:none\" points=\"186.274,1023.85 205.172,1023.85 \"/>\n",
       "<polyline clip-path=\"url(#clip510)\" style=\"stroke:#000000; stroke-linecap:round; stroke-linejoin:round; stroke-width:4; stroke-opacity:1; fill:none\" points=\"186.274,766.846 205.172,766.846 \"/>\n",
       "<polyline clip-path=\"url(#clip510)\" style=\"stroke:#000000; stroke-linecap:round; stroke-linejoin:round; stroke-width:4; stroke-opacity:1; fill:none\" points=\"186.274,509.845 205.172,509.845 \"/>\n",
       "<polyline clip-path=\"url(#clip510)\" style=\"stroke:#000000; stroke-linecap:round; stroke-linejoin:round; stroke-width:4; stroke-opacity:1; fill:none\" points=\"186.274,252.845 205.172,252.845 \"/>\n",
       "<path clip-path=\"url(#clip510)\" d=\"M62.9365 1266.65 Q59.3254 1266.65 57.4967 1270.21 Q55.6912 1273.75 55.6912 1280.88 Q55.6912 1287.99 57.4967 1291.55 Q59.3254 1295.09 62.9365 1295.09 Q66.5707 1295.09 68.3763 1291.55 Q70.205 1287.99 70.205 1280.88 Q70.205 1273.75 68.3763 1270.21 Q66.5707 1266.65 62.9365 1266.65 M62.9365 1262.94 Q68.7467 1262.94 71.8022 1267.55 Q74.8809 1272.13 74.8809 1280.88 Q74.8809 1289.61 71.8022 1294.22 Q68.7467 1298.8 62.9365 1298.8 Q57.1264 1298.8 54.0477 1294.22 Q50.9921 1289.61 50.9921 1280.88 Q50.9921 1272.13 54.0477 1267.55 Q57.1264 1262.94 62.9365 1262.94 Z\" fill=\"#000000\" fill-rule=\"nonzero\" fill-opacity=\"1\" /><path clip-path=\"url(#clip510)\" d=\"M83.0984 1292.25 L87.9827 1292.25 L87.9827 1298.13 L83.0984 1298.13 L83.0984 1292.25 Z\" fill=\"#000000\" fill-rule=\"nonzero\" fill-opacity=\"1\" /><path clip-path=\"url(#clip510)\" d=\"M108.168 1266.65 Q104.557 1266.65 102.728 1270.21 Q100.922 1273.75 100.922 1280.88 Q100.922 1287.99 102.728 1291.55 Q104.557 1295.09 108.168 1295.09 Q111.802 1295.09 113.608 1291.55 Q115.436 1287.99 115.436 1280.88 Q115.436 1273.75 113.608 1270.21 Q111.802 1266.65 108.168 1266.65 M108.168 1262.94 Q113.978 1262.94 117.033 1267.55 Q120.112 1272.13 120.112 1280.88 Q120.112 1289.61 117.033 1294.22 Q113.978 1298.8 108.168 1298.8 Q102.358 1298.8 99.2789 1294.22 Q96.2234 1289.61 96.2234 1280.88 Q96.2234 1272.13 99.2789 1267.55 Q102.358 1262.94 108.168 1262.94 Z\" fill=\"#000000\" fill-rule=\"nonzero\" fill-opacity=\"1\" /><path clip-path=\"url(#clip510)\" d=\"M138.33 1266.65 Q134.719 1266.65 132.89 1270.21 Q131.084 1273.75 131.084 1280.88 Q131.084 1287.99 132.89 1291.55 Q134.719 1295.09 138.33 1295.09 Q141.964 1295.09 143.769 1291.55 Q145.598 1287.99 145.598 1280.88 Q145.598 1273.75 143.769 1270.21 Q141.964 1266.65 138.33 1266.65 M138.33 1262.94 Q144.14 1262.94 147.195 1267.55 Q150.274 1272.13 150.274 1280.88 Q150.274 1289.61 147.195 1294.22 Q144.14 1298.8 138.33 1298.8 Q132.519 1298.8 129.441 1294.22 Q126.385 1289.61 126.385 1280.88 Q126.385 1272.13 129.441 1267.55 Q132.519 1262.94 138.33 1262.94 Z\" fill=\"#000000\" fill-rule=\"nonzero\" fill-opacity=\"1\" /><path clip-path=\"url(#clip510)\" d=\"M63.9319 1009.65 Q60.3208 1009.65 58.4921 1013.21 Q56.6865 1016.75 56.6865 1023.88 Q56.6865 1030.99 58.4921 1034.55 Q60.3208 1038.09 63.9319 1038.09 Q67.5661 1038.09 69.3717 1034.55 Q71.2004 1030.99 71.2004 1023.88 Q71.2004 1016.75 69.3717 1013.21 Q67.5661 1009.65 63.9319 1009.65 M63.9319 1005.94 Q69.742 1005.94 72.7976 1010.55 Q75.8763 1015.13 75.8763 1023.88 Q75.8763 1032.61 72.7976 1037.21 Q69.742 1041.8 63.9319 1041.8 Q58.1217 1041.8 55.043 1037.21 Q51.9875 1032.61 51.9875 1023.88 Q51.9875 1015.13 55.043 1010.55 Q58.1217 1005.94 63.9319 1005.94 Z\" fill=\"#000000\" fill-rule=\"nonzero\" fill-opacity=\"1\" /><path clip-path=\"url(#clip510)\" d=\"M84.0938 1035.25 L88.978 1035.25 L88.978 1041.13 L84.0938 1041.13 L84.0938 1035.25 Z\" fill=\"#000000\" fill-rule=\"nonzero\" fill-opacity=\"1\" /><path clip-path=\"url(#clip510)\" d=\"M103.191 1037.19 L119.51 1037.19 L119.51 1041.13 L97.566 1041.13 L97.566 1037.19 Q100.228 1034.44 104.811 1029.81 Q109.418 1025.15 110.598 1023.81 Q112.844 1021.29 113.723 1019.55 Q114.626 1017.79 114.626 1016.1 Q114.626 1013.35 112.682 1011.61 Q110.76 1009.88 107.658 1009.88 Q105.459 1009.88 103.006 1010.64 Q100.575 1011.4 97.7974 1012.96 L97.7974 1008.23 Q100.621 1007.1 103.075 1006.52 Q105.529 1005.94 107.566 1005.94 Q112.936 1005.94 116.131 1008.63 Q119.325 1011.31 119.325 1015.8 Q119.325 1017.93 118.515 1019.85 Q117.728 1021.75 115.621 1024.34 Q115.043 1025.02 111.941 1028.23 Q108.839 1031.43 103.191 1037.19 Z\" fill=\"#000000\" fill-rule=\"nonzero\" fill-opacity=\"1\" /><path clip-path=\"url(#clip510)\" d=\"M129.371 1006.57 L147.728 1006.57 L147.728 1010.5 L133.654 1010.5 L133.654 1018.97 Q134.672 1018.63 135.691 1018.46 Q136.709 1018.28 137.728 1018.28 Q143.515 1018.28 146.894 1021.45 Q150.274 1024.62 150.274 1030.04 Q150.274 1035.62 146.802 1038.72 Q143.33 1041.8 137.01 1041.8 Q134.834 1041.8 132.566 1041.43 Q130.32 1041.06 127.913 1040.32 L127.913 1035.62 Q129.996 1036.75 132.219 1037.31 Q134.441 1037.86 136.918 1037.86 Q140.922 1037.86 143.26 1035.76 Q145.598 1033.65 145.598 1030.04 Q145.598 1026.43 143.26 1024.32 Q140.922 1022.21 136.918 1022.21 Q135.043 1022.21 133.168 1022.63 Q131.316 1023.05 129.371 1023.93 L129.371 1006.57 Z\" fill=\"#000000\" fill-rule=\"nonzero\" fill-opacity=\"1\" /><path clip-path=\"url(#clip510)\" d=\"M62.9365 752.645 Q59.3254 752.645 57.4967 756.209 Q55.6912 759.751 55.6912 766.881 Q55.6912 773.987 57.4967 777.552 Q59.3254 781.094 62.9365 781.094 Q66.5707 781.094 68.3763 777.552 Q70.205 773.987 70.205 766.881 Q70.205 759.751 68.3763 756.209 Q66.5707 752.645 62.9365 752.645 M62.9365 748.941 Q68.7467 748.941 71.8022 753.547 Q74.8809 758.131 74.8809 766.881 Q74.8809 775.608 71.8022 780.214 Q68.7467 784.797 62.9365 784.797 Q57.1264 784.797 54.0477 780.214 Q50.9921 775.608 50.9921 766.881 Q50.9921 758.131 54.0477 753.547 Q57.1264 748.941 62.9365 748.941 Z\" fill=\"#000000\" fill-rule=\"nonzero\" fill-opacity=\"1\" /><path clip-path=\"url(#clip510)\" d=\"M83.0984 778.246 L87.9827 778.246 L87.9827 784.126 L83.0984 784.126 L83.0984 778.246 Z\" fill=\"#000000\" fill-rule=\"nonzero\" fill-opacity=\"1\" /><path clip-path=\"url(#clip510)\" d=\"M98.2141 749.566 L116.57 749.566 L116.57 753.501 L102.496 753.501 L102.496 761.973 Q103.515 761.626 104.534 761.464 Q105.552 761.279 106.571 761.279 Q112.358 761.279 115.737 764.45 Q119.117 767.621 119.117 773.038 Q119.117 778.617 115.645 781.719 Q112.172 784.797 105.853 784.797 Q103.677 784.797 101.409 784.427 Q99.1632 784.057 96.7558 783.316 L96.7558 778.617 Q98.8391 779.751 101.061 780.307 Q103.284 780.862 105.76 780.862 Q109.765 780.862 112.103 778.756 Q114.441 776.649 114.441 773.038 Q114.441 769.427 112.103 767.321 Q109.765 765.214 105.76 765.214 Q103.885 765.214 102.01 765.631 Q100.159 766.047 98.2141 766.927 L98.2141 749.566 Z\" fill=\"#000000\" fill-rule=\"nonzero\" fill-opacity=\"1\" /><path clip-path=\"url(#clip510)\" d=\"M138.33 752.645 Q134.719 752.645 132.89 756.209 Q131.084 759.751 131.084 766.881 Q131.084 773.987 132.89 777.552 Q134.719 781.094 138.33 781.094 Q141.964 781.094 143.769 777.552 Q145.598 773.987 145.598 766.881 Q145.598 759.751 143.769 756.209 Q141.964 752.645 138.33 752.645 M138.33 748.941 Q144.14 748.941 147.195 753.547 Q150.274 758.131 150.274 766.881 Q150.274 775.608 147.195 780.214 Q144.14 784.797 138.33 784.797 Q132.519 784.797 129.441 780.214 Q126.385 775.608 126.385 766.881 Q126.385 758.131 129.441 753.547 Q132.519 748.941 138.33 748.941 Z\" fill=\"#000000\" fill-rule=\"nonzero\" fill-opacity=\"1\" /><path clip-path=\"url(#clip510)\" d=\"M63.9319 495.644 Q60.3208 495.644 58.4921 499.209 Q56.6865 502.75 56.6865 509.88 Q56.6865 516.986 58.4921 520.551 Q60.3208 524.093 63.9319 524.093 Q67.5661 524.093 69.3717 520.551 Q71.2004 516.986 71.2004 509.88 Q71.2004 502.75 69.3717 499.209 Q67.5661 495.644 63.9319 495.644 M63.9319 491.94 Q69.742 491.94 72.7976 496.547 Q75.8763 501.13 75.8763 509.88 Q75.8763 518.607 72.7976 523.213 Q69.742 527.797 63.9319 527.797 Q58.1217 527.797 55.043 523.213 Q51.9875 518.607 51.9875 509.88 Q51.9875 501.13 55.043 496.547 Q58.1217 491.94 63.9319 491.94 Z\" fill=\"#000000\" fill-rule=\"nonzero\" fill-opacity=\"1\" /><path clip-path=\"url(#clip510)\" d=\"M84.0938 521.246 L88.978 521.246 L88.978 527.125 L84.0938 527.125 L84.0938 521.246 Z\" fill=\"#000000\" fill-rule=\"nonzero\" fill-opacity=\"1\" /><path clip-path=\"url(#clip510)\" d=\"M97.9826 492.565 L120.205 492.565 L120.205 494.556 L107.658 527.125 L102.774 527.125 L114.58 496.5 L97.9826 496.5 L97.9826 492.565 Z\" fill=\"#000000\" fill-rule=\"nonzero\" fill-opacity=\"1\" /><path clip-path=\"url(#clip510)\" d=\"M129.371 492.565 L147.728 492.565 L147.728 496.5 L133.654 496.5 L133.654 504.973 Q134.672 504.625 135.691 504.463 Q136.709 504.278 137.728 504.278 Q143.515 504.278 146.894 507.449 Q150.274 510.621 150.274 516.037 Q150.274 521.616 146.802 524.718 Q143.33 527.797 137.01 527.797 Q134.834 527.797 132.566 527.426 Q130.32 527.056 127.913 526.315 L127.913 521.616 Q129.996 522.75 132.219 523.306 Q134.441 523.861 136.918 523.861 Q140.922 523.861 143.26 521.755 Q145.598 519.648 145.598 516.037 Q145.598 512.426 143.26 510.32 Q140.922 508.213 136.918 508.213 Q135.043 508.213 133.168 508.63 Q131.316 509.047 129.371 509.926 L129.371 492.565 Z\" fill=\"#000000\" fill-rule=\"nonzero\" fill-opacity=\"1\" /><path clip-path=\"url(#clip510)\" d=\"M53.7467 266.189 L61.3856 266.189 L61.3856 239.824 L53.0754 241.491 L53.0754 237.231 L61.3393 235.565 L66.0152 235.565 L66.0152 266.189 L73.654 266.189 L73.654 270.125 L53.7467 270.125 L53.7467 266.189 Z\" fill=\"#000000\" fill-rule=\"nonzero\" fill-opacity=\"1\" /><path clip-path=\"url(#clip510)\" d=\"M83.0984 264.245 L87.9827 264.245 L87.9827 270.125 L83.0984 270.125 L83.0984 264.245 Z\" fill=\"#000000\" fill-rule=\"nonzero\" fill-opacity=\"1\" /><path clip-path=\"url(#clip510)\" d=\"M108.168 238.643 Q104.557 238.643 102.728 242.208 Q100.922 245.75 100.922 252.879 Q100.922 259.986 102.728 263.551 Q104.557 267.092 108.168 267.092 Q111.802 267.092 113.608 263.551 Q115.436 259.986 115.436 252.879 Q115.436 245.75 113.608 242.208 Q111.802 238.643 108.168 238.643 M108.168 234.94 Q113.978 234.94 117.033 239.546 Q120.112 244.129 120.112 252.879 Q120.112 261.606 117.033 266.213 Q113.978 270.796 108.168 270.796 Q102.358 270.796 99.2789 266.213 Q96.2234 261.606 96.2234 252.879 Q96.2234 244.129 99.2789 239.546 Q102.358 234.94 108.168 234.94 Z\" fill=\"#000000\" fill-rule=\"nonzero\" fill-opacity=\"1\" /><path clip-path=\"url(#clip510)\" d=\"M138.33 238.643 Q134.719 238.643 132.89 242.208 Q131.084 245.75 131.084 252.879 Q131.084 259.986 132.89 263.551 Q134.719 267.092 138.33 267.092 Q141.964 267.092 143.769 263.551 Q145.598 259.986 145.598 252.879 Q145.598 245.75 143.769 242.208 Q141.964 238.643 138.33 238.643 M138.33 234.94 Q144.14 234.94 147.195 239.546 Q150.274 244.129 150.274 252.879 Q150.274 261.606 147.195 266.213 Q144.14 270.796 138.33 270.796 Q132.519 270.796 129.441 266.213 Q126.385 261.606 126.385 252.879 Q126.385 244.129 129.441 239.546 Q132.519 234.94 138.33 234.94 Z\" fill=\"#000000\" fill-rule=\"nonzero\" fill-opacity=\"1\" /><circle clip-path=\"url(#clip512)\" cx=\"247.59\" cy=\"1280.85\" r=\"14.4\" fill=\"#009af9\" fill-rule=\"evenodd\" fill-opacity=\"1\" stroke=\"#000000\" stroke-opacity=\"1\" stroke-width=\"3.2\"/>\n",
       "<circle clip-path=\"url(#clip512)\" cx=\"588.231\" cy=\"1280.85\" r=\"14.4\" fill=\"#009af9\" fill-rule=\"evenodd\" fill-opacity=\"1\" stroke=\"#000000\" stroke-opacity=\"1\" stroke-width=\"3.2\"/>\n",
       "<circle clip-path=\"url(#clip512)\" cx=\"928.873\" cy=\"252.845\" r=\"14.4\" fill=\"#009af9\" fill-rule=\"evenodd\" fill-opacity=\"1\" stroke=\"#000000\" stroke-opacity=\"1\" stroke-width=\"3.2\"/>\n",
       "<circle clip-path=\"url(#clip512)\" cx=\"1269.51\" cy=\"1280.85\" r=\"14.4\" fill=\"#009af9\" fill-rule=\"evenodd\" fill-opacity=\"1\" stroke=\"#000000\" stroke-opacity=\"1\" stroke-width=\"3.2\"/>\n",
       "<circle clip-path=\"url(#clip512)\" cx=\"1610.16\" cy=\"1280.85\" r=\"14.4\" fill=\"#009af9\" fill-rule=\"evenodd\" fill-opacity=\"1\" stroke=\"#000000\" stroke-opacity=\"1\" stroke-width=\"3.2\"/>\n",
       "<circle clip-path=\"url(#clip512)\" cx=\"1950.8\" cy=\"1280.85\" r=\"14.4\" fill=\"#009af9\" fill-rule=\"evenodd\" fill-opacity=\"1\" stroke=\"#000000\" stroke-opacity=\"1\" stroke-width=\"3.2\"/>\n",
       "<circle clip-path=\"url(#clip512)\" cx=\"2291.44\" cy=\"1280.85\" r=\"14.4\" fill=\"#009af9\" fill-rule=\"evenodd\" fill-opacity=\"1\" stroke=\"#000000\" stroke-opacity=\"1\" stroke-width=\"3.2\"/>\n",
       "<path clip-path=\"url(#clip510)\" d=\"M2011.46 198.898 L2280.54 198.898 L2280.54 95.2176 L2011.46 95.2176  Z\" fill=\"#ffffff\" fill-rule=\"evenodd\" fill-opacity=\"1\"/>\n",
       "<polyline clip-path=\"url(#clip510)\" style=\"stroke:#000000; stroke-linecap:round; stroke-linejoin:round; stroke-width:4; stroke-opacity:1; fill:none\" points=\"2011.46,198.898 2280.54,198.898 2280.54,95.2176 2011.46,95.2176 2011.46,198.898 \"/>\n",
       "<circle clip-path=\"url(#clip510)\" cx=\"2107.75\" cy=\"147.058\" r=\"20.48\" fill=\"#009af9\" fill-rule=\"evenodd\" fill-opacity=\"1\" stroke=\"#000000\" stroke-opacity=\"1\" stroke-width=\"4.55111\"/>\n",
       "<path clip-path=\"url(#clip510)\" d=\"M2217.88 166.745 Q2216.07 171.375 2214.36 172.787 Q2212.65 174.199 2209.78 174.199 L2206.38 174.199 L2206.38 170.634 L2208.88 170.634 Q2210.63 170.634 2211.61 169.8 Q2212.58 168.967 2213.76 165.865 L2214.52 163.921 L2204.04 138.412 L2208.55 138.412 L2216.65 158.689 L2224.76 138.412 L2229.27 138.412 L2217.88 166.745 Z\" fill=\"#000000\" fill-rule=\"nonzero\" fill-opacity=\"1\" /><path clip-path=\"url(#clip510)\" d=\"M2236.56 160.402 L2244.2 160.402 L2244.2 134.037 L2235.89 135.703 L2235.89 131.444 L2244.15 129.778 L2248.83 129.778 L2248.83 160.402 L2256.47 160.402 L2256.47 164.338 L2236.56 164.338 L2236.56 160.402 Z\" fill=\"#000000\" fill-rule=\"nonzero\" fill-opacity=\"1\" /></svg>\n"
      ],
      "text/html": [
       "<?xml version=\"1.0\" encoding=\"utf-8\"?>\n",
       "<svg xmlns=\"http://www.w3.org/2000/svg\" xmlns:xlink=\"http://www.w3.org/1999/xlink\" width=\"600\" height=\"400\" viewBox=\"0 0 2400 1600\">\n",
       "<defs>\n",
       "  <clipPath id=\"clip560\">\n",
       "    <rect x=\"0\" y=\"0\" width=\"2400\" height=\"1600\"/>\n",
       "  </clipPath>\n",
       "</defs>\n",
       "<path clip-path=\"url(#clip560)\" d=\"M0 1600 L2400 1600 L2400 0 L0 0  Z\" fill=\"#ffffff\" fill-rule=\"evenodd\" fill-opacity=\"1\"/>\n",
       "<defs>\n",
       "  <clipPath id=\"clip561\">\n",
       "    <rect x=\"480\" y=\"0\" width=\"1681\" height=\"1600\"/>\n",
       "  </clipPath>\n",
       "</defs>\n",
       "<path clip-path=\"url(#clip560)\" d=\"M186.274 1486.45 L2352.76 1486.45 L2352.76 47.2441 L186.274 47.2441  Z\" fill=\"#ffffff\" fill-rule=\"evenodd\" fill-opacity=\"1\"/>\n",
       "<defs>\n",
       "  <clipPath id=\"clip562\">\n",
       "    <rect x=\"186\" y=\"47\" width=\"2167\" height=\"1440\"/>\n",
       "  </clipPath>\n",
       "</defs>\n",
       "<polyline clip-path=\"url(#clip562)\" style=\"stroke:#000000; stroke-linecap:round; stroke-linejoin:round; stroke-width:2; stroke-opacity:0.1; fill:none\" points=\"247.59,1486.45 247.59,47.2441 \"/>\n",
       "<polyline clip-path=\"url(#clip562)\" style=\"stroke:#000000; stroke-linecap:round; stroke-linejoin:round; stroke-width:2; stroke-opacity:0.1; fill:none\" points=\"588.231,1486.45 588.231,47.2441 \"/>\n",
       "<polyline clip-path=\"url(#clip562)\" style=\"stroke:#000000; stroke-linecap:round; stroke-linejoin:round; stroke-width:2; stroke-opacity:0.1; fill:none\" points=\"928.873,1486.45 928.873,47.2441 \"/>\n",
       "<polyline clip-path=\"url(#clip562)\" style=\"stroke:#000000; stroke-linecap:round; stroke-linejoin:round; stroke-width:2; stroke-opacity:0.1; fill:none\" points=\"1269.51,1486.45 1269.51,47.2441 \"/>\n",
       "<polyline clip-path=\"url(#clip562)\" style=\"stroke:#000000; stroke-linecap:round; stroke-linejoin:round; stroke-width:2; stroke-opacity:0.1; fill:none\" points=\"1610.16,1486.45 1610.16,47.2441 \"/>\n",
       "<polyline clip-path=\"url(#clip562)\" style=\"stroke:#000000; stroke-linecap:round; stroke-linejoin:round; stroke-width:2; stroke-opacity:0.1; fill:none\" points=\"1950.8,1486.45 1950.8,47.2441 \"/>\n",
       "<polyline clip-path=\"url(#clip562)\" style=\"stroke:#000000; stroke-linecap:round; stroke-linejoin:round; stroke-width:2; stroke-opacity:0.1; fill:none\" points=\"2291.44,1486.45 2291.44,47.2441 \"/>\n",
       "<polyline clip-path=\"url(#clip560)\" style=\"stroke:#000000; stroke-linecap:round; stroke-linejoin:round; stroke-width:4; stroke-opacity:1; fill:none\" points=\"186.274,1486.45 2352.76,1486.45 \"/>\n",
       "<polyline clip-path=\"url(#clip560)\" style=\"stroke:#000000; stroke-linecap:round; stroke-linejoin:round; stroke-width:4; stroke-opacity:1; fill:none\" points=\"247.59,1486.45 247.59,1467.55 \"/>\n",
       "<polyline clip-path=\"url(#clip560)\" style=\"stroke:#000000; stroke-linecap:round; stroke-linejoin:round; stroke-width:4; stroke-opacity:1; fill:none\" points=\"588.231,1486.45 588.231,1467.55 \"/>\n",
       "<polyline clip-path=\"url(#clip560)\" style=\"stroke:#000000; stroke-linecap:round; stroke-linejoin:round; stroke-width:4; stroke-opacity:1; fill:none\" points=\"928.873,1486.45 928.873,1467.55 \"/>\n",
       "<polyline clip-path=\"url(#clip560)\" style=\"stroke:#000000; stroke-linecap:round; stroke-linejoin:round; stroke-width:4; stroke-opacity:1; fill:none\" points=\"1269.51,1486.45 1269.51,1467.55 \"/>\n",
       "<polyline clip-path=\"url(#clip560)\" style=\"stroke:#000000; stroke-linecap:round; stroke-linejoin:round; stroke-width:4; stroke-opacity:1; fill:none\" points=\"1610.16,1486.45 1610.16,1467.55 \"/>\n",
       "<polyline clip-path=\"url(#clip560)\" style=\"stroke:#000000; stroke-linecap:round; stroke-linejoin:round; stroke-width:4; stroke-opacity:1; fill:none\" points=\"1950.8,1486.45 1950.8,1467.55 \"/>\n",
       "<polyline clip-path=\"url(#clip560)\" style=\"stroke:#000000; stroke-linecap:round; stroke-linejoin:round; stroke-width:4; stroke-opacity:1; fill:none\" points=\"2291.44,1486.45 2291.44,1467.55 \"/>\n",
       "<path clip-path=\"url(#clip560)\" d=\"M237.972 1544.91 L245.61 1544.91 L245.61 1518.55 L237.3 1520.21 L237.3 1515.95 L245.564 1514.29 L250.24 1514.29 L250.24 1544.91 L257.879 1544.91 L257.879 1548.85 L237.972 1548.85 L237.972 1544.91 Z\" fill=\"#000000\" fill-rule=\"nonzero\" fill-opacity=\"1\" /><path clip-path=\"url(#clip560)\" d=\"M582.884 1544.91 L599.203 1544.91 L599.203 1548.85 L577.259 1548.85 L577.259 1544.91 Q579.921 1542.16 584.505 1537.53 Q589.111 1532.88 590.292 1531.53 Q592.537 1529.01 593.416 1527.27 Q594.319 1525.51 594.319 1523.82 Q594.319 1521.07 592.375 1519.33 Q590.454 1517.6 587.352 1517.6 Q585.153 1517.6 582.699 1518.36 Q580.268 1519.13 577.491 1520.68 L577.491 1515.95 Q580.315 1514.82 582.768 1514.24 Q585.222 1513.66 587.259 1513.66 Q592.629 1513.66 595.824 1516.35 Q599.018 1519.03 599.018 1523.52 Q599.018 1525.65 598.208 1527.57 Q597.421 1529.47 595.315 1532.07 Q594.736 1532.74 591.634 1535.95 Q588.532 1539.15 582.884 1544.91 Z\" fill=\"#000000\" fill-rule=\"nonzero\" fill-opacity=\"1\" /><path clip-path=\"url(#clip560)\" d=\"M933.121 1530.21 Q936.477 1530.93 938.352 1533.2 Q940.25 1535.47 940.25 1538.8 Q940.25 1543.92 936.732 1546.72 Q933.213 1549.52 926.732 1549.52 Q924.556 1549.52 922.241 1549.08 Q919.95 1548.66 917.496 1547.81 L917.496 1543.29 Q919.44 1544.43 921.755 1545.01 Q924.07 1545.58 926.593 1545.58 Q930.991 1545.58 933.283 1543.85 Q935.598 1542.11 935.598 1538.8 Q935.598 1535.75 933.445 1534.03 Q931.315 1532.3 927.496 1532.3 L923.468 1532.3 L923.468 1528.45 L927.681 1528.45 Q931.13 1528.45 932.959 1527.09 Q934.787 1525.7 934.787 1523.11 Q934.787 1520.45 932.889 1519.03 Q931.014 1517.6 927.496 1517.6 Q925.575 1517.6 923.375 1518.01 Q921.176 1518.43 918.538 1519.31 L918.538 1515.14 Q921.2 1514.4 923.514 1514.03 Q925.852 1513.66 927.913 1513.66 Q933.237 1513.66 936.338 1516.09 Q939.44 1518.5 939.44 1522.62 Q939.44 1525.49 937.797 1527.48 Q936.153 1529.45 933.121 1530.21 Z\" fill=\"#000000\" fill-rule=\"nonzero\" fill-opacity=\"1\" /><path clip-path=\"url(#clip560)\" d=\"M1272.52 1518.36 L1260.72 1536.81 L1272.52 1536.81 L1272.52 1518.36 M1271.3 1514.29 L1277.18 1514.29 L1277.18 1536.81 L1282.11 1536.81 L1282.11 1540.7 L1277.18 1540.7 L1277.18 1548.85 L1272.52 1548.85 L1272.52 1540.7 L1256.92 1540.7 L1256.92 1536.19 L1271.3 1514.29 Z\" fill=\"#000000\" fill-rule=\"nonzero\" fill-opacity=\"1\" /><path clip-path=\"url(#clip560)\" d=\"M1600.43 1514.29 L1618.79 1514.29 L1618.79 1518.22 L1604.72 1518.22 L1604.72 1526.7 Q1605.74 1526.35 1606.75 1526.19 Q1607.77 1526 1608.79 1526 Q1614.58 1526 1617.96 1529.17 Q1621.34 1532.34 1621.34 1537.76 Q1621.34 1543.34 1617.87 1546.44 Q1614.39 1549.52 1608.07 1549.52 Q1605.9 1549.52 1603.63 1549.15 Q1601.38 1548.78 1598.98 1548.04 L1598.98 1543.34 Q1601.06 1544.47 1603.28 1545.03 Q1605.5 1545.58 1607.98 1545.58 Q1611.99 1545.58 1614.32 1543.48 Q1616.66 1541.37 1616.66 1537.76 Q1616.66 1534.15 1614.32 1532.04 Q1611.99 1529.94 1607.98 1529.94 Q1606.11 1529.94 1604.23 1530.35 Q1602.38 1530.77 1600.43 1531.65 L1600.43 1514.29 Z\" fill=\"#000000\" fill-rule=\"nonzero\" fill-opacity=\"1\" /><path clip-path=\"url(#clip560)\" d=\"M1951.2 1529.7 Q1948.06 1529.7 1946.2 1531.86 Q1944.37 1534.01 1944.37 1537.76 Q1944.37 1541.49 1946.2 1543.66 Q1948.06 1545.82 1951.2 1545.82 Q1954.35 1545.82 1956.18 1543.66 Q1958.03 1541.49 1958.03 1537.76 Q1958.03 1534.01 1956.18 1531.86 Q1954.35 1529.7 1951.2 1529.7 M1960.49 1515.05 L1960.49 1519.31 Q1958.73 1518.48 1956.92 1518.04 Q1955.14 1517.6 1953.38 1517.6 Q1948.75 1517.6 1946.3 1520.72 Q1943.87 1523.85 1943.52 1530.17 Q1944.88 1528.15 1946.94 1527.09 Q1949 1526 1951.48 1526 Q1956.69 1526 1959.7 1529.17 Q1962.73 1532.32 1962.73 1537.76 Q1962.73 1543.08 1959.58 1546.3 Q1956.44 1549.52 1951.2 1549.52 Q1945.21 1549.52 1942.04 1544.94 Q1938.87 1540.33 1938.87 1531.6 Q1938.87 1523.41 1942.75 1518.55 Q1946.64 1513.66 1953.19 1513.66 Q1954.95 1513.66 1956.74 1514.01 Q1958.54 1514.36 1960.49 1515.05 Z\" fill=\"#000000\" fill-rule=\"nonzero\" fill-opacity=\"1\" /><path clip-path=\"url(#clip560)\" d=\"M2280.33 1514.29 L2302.55 1514.29 L2302.55 1516.28 L2290.01 1548.85 L2285.12 1548.85 L2296.93 1518.22 L2280.33 1518.22 L2280.33 1514.29 Z\" fill=\"#000000\" fill-rule=\"nonzero\" fill-opacity=\"1\" /><polyline clip-path=\"url(#clip562)\" style=\"stroke:#000000; stroke-linecap:round; stroke-linejoin:round; stroke-width:2; stroke-opacity:0.1; fill:none\" points=\"186.274,1280.85 2352.76,1280.85 \"/>\n",
       "<polyline clip-path=\"url(#clip562)\" style=\"stroke:#000000; stroke-linecap:round; stroke-linejoin:round; stroke-width:2; stroke-opacity:0.1; fill:none\" points=\"186.274,1023.85 2352.76,1023.85 \"/>\n",
       "<polyline clip-path=\"url(#clip562)\" style=\"stroke:#000000; stroke-linecap:round; stroke-linejoin:round; stroke-width:2; stroke-opacity:0.1; fill:none\" points=\"186.274,766.846 2352.76,766.846 \"/>\n",
       "<polyline clip-path=\"url(#clip562)\" style=\"stroke:#000000; stroke-linecap:round; stroke-linejoin:round; stroke-width:2; stroke-opacity:0.1; fill:none\" points=\"186.274,509.845 2352.76,509.845 \"/>\n",
       "<polyline clip-path=\"url(#clip562)\" style=\"stroke:#000000; stroke-linecap:round; stroke-linejoin:round; stroke-width:2; stroke-opacity:0.1; fill:none\" points=\"186.274,252.845 2352.76,252.845 \"/>\n",
       "<polyline clip-path=\"url(#clip560)\" style=\"stroke:#000000; stroke-linecap:round; stroke-linejoin:round; stroke-width:4; stroke-opacity:1; fill:none\" points=\"186.274,1486.45 186.274,47.2441 \"/>\n",
       "<polyline clip-path=\"url(#clip560)\" style=\"stroke:#000000; stroke-linecap:round; stroke-linejoin:round; stroke-width:4; stroke-opacity:1; fill:none\" points=\"186.274,1280.85 205.172,1280.85 \"/>\n",
       "<polyline clip-path=\"url(#clip560)\" style=\"stroke:#000000; stroke-linecap:round; stroke-linejoin:round; stroke-width:4; stroke-opacity:1; fill:none\" points=\"186.274,1023.85 205.172,1023.85 \"/>\n",
       "<polyline clip-path=\"url(#clip560)\" style=\"stroke:#000000; stroke-linecap:round; stroke-linejoin:round; stroke-width:4; stroke-opacity:1; fill:none\" points=\"186.274,766.846 205.172,766.846 \"/>\n",
       "<polyline clip-path=\"url(#clip560)\" style=\"stroke:#000000; stroke-linecap:round; stroke-linejoin:round; stroke-width:4; stroke-opacity:1; fill:none\" points=\"186.274,509.845 205.172,509.845 \"/>\n",
       "<polyline clip-path=\"url(#clip560)\" style=\"stroke:#000000; stroke-linecap:round; stroke-linejoin:round; stroke-width:4; stroke-opacity:1; fill:none\" points=\"186.274,252.845 205.172,252.845 \"/>\n",
       "<path clip-path=\"url(#clip560)\" d=\"M62.9365 1266.65 Q59.3254 1266.65 57.4967 1270.21 Q55.6912 1273.75 55.6912 1280.88 Q55.6912 1287.99 57.4967 1291.55 Q59.3254 1295.09 62.9365 1295.09 Q66.5707 1295.09 68.3763 1291.55 Q70.205 1287.99 70.205 1280.88 Q70.205 1273.75 68.3763 1270.21 Q66.5707 1266.65 62.9365 1266.65 M62.9365 1262.94 Q68.7467 1262.94 71.8022 1267.55 Q74.8809 1272.13 74.8809 1280.88 Q74.8809 1289.61 71.8022 1294.22 Q68.7467 1298.8 62.9365 1298.8 Q57.1264 1298.8 54.0477 1294.22 Q50.9921 1289.61 50.9921 1280.88 Q50.9921 1272.13 54.0477 1267.55 Q57.1264 1262.94 62.9365 1262.94 Z\" fill=\"#000000\" fill-rule=\"nonzero\" fill-opacity=\"1\" /><path clip-path=\"url(#clip560)\" d=\"M83.0984 1292.25 L87.9827 1292.25 L87.9827 1298.13 L83.0984 1298.13 L83.0984 1292.25 Z\" fill=\"#000000\" fill-rule=\"nonzero\" fill-opacity=\"1\" /><path clip-path=\"url(#clip560)\" d=\"M108.168 1266.65 Q104.557 1266.65 102.728 1270.21 Q100.922 1273.75 100.922 1280.88 Q100.922 1287.99 102.728 1291.55 Q104.557 1295.09 108.168 1295.09 Q111.802 1295.09 113.608 1291.55 Q115.436 1287.99 115.436 1280.88 Q115.436 1273.75 113.608 1270.21 Q111.802 1266.65 108.168 1266.65 M108.168 1262.94 Q113.978 1262.94 117.033 1267.55 Q120.112 1272.13 120.112 1280.88 Q120.112 1289.61 117.033 1294.22 Q113.978 1298.8 108.168 1298.8 Q102.358 1298.8 99.2789 1294.22 Q96.2234 1289.61 96.2234 1280.88 Q96.2234 1272.13 99.2789 1267.55 Q102.358 1262.94 108.168 1262.94 Z\" fill=\"#000000\" fill-rule=\"nonzero\" fill-opacity=\"1\" /><path clip-path=\"url(#clip560)\" d=\"M138.33 1266.65 Q134.719 1266.65 132.89 1270.21 Q131.084 1273.75 131.084 1280.88 Q131.084 1287.99 132.89 1291.55 Q134.719 1295.09 138.33 1295.09 Q141.964 1295.09 143.769 1291.55 Q145.598 1287.99 145.598 1280.88 Q145.598 1273.75 143.769 1270.21 Q141.964 1266.65 138.33 1266.65 M138.33 1262.94 Q144.14 1262.94 147.195 1267.55 Q150.274 1272.13 150.274 1280.88 Q150.274 1289.61 147.195 1294.22 Q144.14 1298.8 138.33 1298.8 Q132.519 1298.8 129.441 1294.22 Q126.385 1289.61 126.385 1280.88 Q126.385 1272.13 129.441 1267.55 Q132.519 1262.94 138.33 1262.94 Z\" fill=\"#000000\" fill-rule=\"nonzero\" fill-opacity=\"1\" /><path clip-path=\"url(#clip560)\" d=\"M63.9319 1009.65 Q60.3208 1009.65 58.4921 1013.21 Q56.6865 1016.75 56.6865 1023.88 Q56.6865 1030.99 58.4921 1034.55 Q60.3208 1038.09 63.9319 1038.09 Q67.5661 1038.09 69.3717 1034.55 Q71.2004 1030.99 71.2004 1023.88 Q71.2004 1016.75 69.3717 1013.21 Q67.5661 1009.65 63.9319 1009.65 M63.9319 1005.94 Q69.742 1005.94 72.7976 1010.55 Q75.8763 1015.13 75.8763 1023.88 Q75.8763 1032.61 72.7976 1037.21 Q69.742 1041.8 63.9319 1041.8 Q58.1217 1041.8 55.043 1037.21 Q51.9875 1032.61 51.9875 1023.88 Q51.9875 1015.13 55.043 1010.55 Q58.1217 1005.94 63.9319 1005.94 Z\" fill=\"#000000\" fill-rule=\"nonzero\" fill-opacity=\"1\" /><path clip-path=\"url(#clip560)\" d=\"M84.0938 1035.25 L88.978 1035.25 L88.978 1041.13 L84.0938 1041.13 L84.0938 1035.25 Z\" fill=\"#000000\" fill-rule=\"nonzero\" fill-opacity=\"1\" /><path clip-path=\"url(#clip560)\" d=\"M103.191 1037.19 L119.51 1037.19 L119.51 1041.13 L97.566 1041.13 L97.566 1037.19 Q100.228 1034.44 104.811 1029.81 Q109.418 1025.15 110.598 1023.81 Q112.844 1021.29 113.723 1019.55 Q114.626 1017.79 114.626 1016.1 Q114.626 1013.35 112.682 1011.61 Q110.76 1009.88 107.658 1009.88 Q105.459 1009.88 103.006 1010.64 Q100.575 1011.4 97.7974 1012.96 L97.7974 1008.23 Q100.621 1007.1 103.075 1006.52 Q105.529 1005.94 107.566 1005.94 Q112.936 1005.94 116.131 1008.63 Q119.325 1011.31 119.325 1015.8 Q119.325 1017.93 118.515 1019.85 Q117.728 1021.75 115.621 1024.34 Q115.043 1025.02 111.941 1028.23 Q108.839 1031.43 103.191 1037.19 Z\" fill=\"#000000\" fill-rule=\"nonzero\" fill-opacity=\"1\" /><path clip-path=\"url(#clip560)\" d=\"M129.371 1006.57 L147.728 1006.57 L147.728 1010.5 L133.654 1010.5 L133.654 1018.97 Q134.672 1018.63 135.691 1018.46 Q136.709 1018.28 137.728 1018.28 Q143.515 1018.28 146.894 1021.45 Q150.274 1024.62 150.274 1030.04 Q150.274 1035.62 146.802 1038.72 Q143.33 1041.8 137.01 1041.8 Q134.834 1041.8 132.566 1041.43 Q130.32 1041.06 127.913 1040.32 L127.913 1035.62 Q129.996 1036.75 132.219 1037.31 Q134.441 1037.86 136.918 1037.86 Q140.922 1037.86 143.26 1035.76 Q145.598 1033.65 145.598 1030.04 Q145.598 1026.43 143.26 1024.32 Q140.922 1022.21 136.918 1022.21 Q135.043 1022.21 133.168 1022.63 Q131.316 1023.05 129.371 1023.93 L129.371 1006.57 Z\" fill=\"#000000\" fill-rule=\"nonzero\" fill-opacity=\"1\" /><path clip-path=\"url(#clip560)\" d=\"M62.9365 752.645 Q59.3254 752.645 57.4967 756.209 Q55.6912 759.751 55.6912 766.881 Q55.6912 773.987 57.4967 777.552 Q59.3254 781.094 62.9365 781.094 Q66.5707 781.094 68.3763 777.552 Q70.205 773.987 70.205 766.881 Q70.205 759.751 68.3763 756.209 Q66.5707 752.645 62.9365 752.645 M62.9365 748.941 Q68.7467 748.941 71.8022 753.547 Q74.8809 758.131 74.8809 766.881 Q74.8809 775.608 71.8022 780.214 Q68.7467 784.797 62.9365 784.797 Q57.1264 784.797 54.0477 780.214 Q50.9921 775.608 50.9921 766.881 Q50.9921 758.131 54.0477 753.547 Q57.1264 748.941 62.9365 748.941 Z\" fill=\"#000000\" fill-rule=\"nonzero\" fill-opacity=\"1\" /><path clip-path=\"url(#clip560)\" d=\"M83.0984 778.246 L87.9827 778.246 L87.9827 784.126 L83.0984 784.126 L83.0984 778.246 Z\" fill=\"#000000\" fill-rule=\"nonzero\" fill-opacity=\"1\" /><path clip-path=\"url(#clip560)\" d=\"M98.2141 749.566 L116.57 749.566 L116.57 753.501 L102.496 753.501 L102.496 761.973 Q103.515 761.626 104.534 761.464 Q105.552 761.279 106.571 761.279 Q112.358 761.279 115.737 764.45 Q119.117 767.621 119.117 773.038 Q119.117 778.617 115.645 781.719 Q112.172 784.797 105.853 784.797 Q103.677 784.797 101.409 784.427 Q99.1632 784.057 96.7558 783.316 L96.7558 778.617 Q98.8391 779.751 101.061 780.307 Q103.284 780.862 105.76 780.862 Q109.765 780.862 112.103 778.756 Q114.441 776.649 114.441 773.038 Q114.441 769.427 112.103 767.321 Q109.765 765.214 105.76 765.214 Q103.885 765.214 102.01 765.631 Q100.159 766.047 98.2141 766.927 L98.2141 749.566 Z\" fill=\"#000000\" fill-rule=\"nonzero\" fill-opacity=\"1\" /><path clip-path=\"url(#clip560)\" d=\"M138.33 752.645 Q134.719 752.645 132.89 756.209 Q131.084 759.751 131.084 766.881 Q131.084 773.987 132.89 777.552 Q134.719 781.094 138.33 781.094 Q141.964 781.094 143.769 777.552 Q145.598 773.987 145.598 766.881 Q145.598 759.751 143.769 756.209 Q141.964 752.645 138.33 752.645 M138.33 748.941 Q144.14 748.941 147.195 753.547 Q150.274 758.131 150.274 766.881 Q150.274 775.608 147.195 780.214 Q144.14 784.797 138.33 784.797 Q132.519 784.797 129.441 780.214 Q126.385 775.608 126.385 766.881 Q126.385 758.131 129.441 753.547 Q132.519 748.941 138.33 748.941 Z\" fill=\"#000000\" fill-rule=\"nonzero\" fill-opacity=\"1\" /><path clip-path=\"url(#clip560)\" d=\"M63.9319 495.644 Q60.3208 495.644 58.4921 499.209 Q56.6865 502.75 56.6865 509.88 Q56.6865 516.986 58.4921 520.551 Q60.3208 524.093 63.9319 524.093 Q67.5661 524.093 69.3717 520.551 Q71.2004 516.986 71.2004 509.88 Q71.2004 502.75 69.3717 499.209 Q67.5661 495.644 63.9319 495.644 M63.9319 491.94 Q69.742 491.94 72.7976 496.547 Q75.8763 501.13 75.8763 509.88 Q75.8763 518.607 72.7976 523.213 Q69.742 527.797 63.9319 527.797 Q58.1217 527.797 55.043 523.213 Q51.9875 518.607 51.9875 509.88 Q51.9875 501.13 55.043 496.547 Q58.1217 491.94 63.9319 491.94 Z\" fill=\"#000000\" fill-rule=\"nonzero\" fill-opacity=\"1\" /><path clip-path=\"url(#clip560)\" d=\"M84.0938 521.246 L88.978 521.246 L88.978 527.125 L84.0938 527.125 L84.0938 521.246 Z\" fill=\"#000000\" fill-rule=\"nonzero\" fill-opacity=\"1\" /><path clip-path=\"url(#clip560)\" d=\"M97.9826 492.565 L120.205 492.565 L120.205 494.556 L107.658 527.125 L102.774 527.125 L114.58 496.5 L97.9826 496.5 L97.9826 492.565 Z\" fill=\"#000000\" fill-rule=\"nonzero\" fill-opacity=\"1\" /><path clip-path=\"url(#clip560)\" d=\"M129.371 492.565 L147.728 492.565 L147.728 496.5 L133.654 496.5 L133.654 504.973 Q134.672 504.625 135.691 504.463 Q136.709 504.278 137.728 504.278 Q143.515 504.278 146.894 507.449 Q150.274 510.621 150.274 516.037 Q150.274 521.616 146.802 524.718 Q143.33 527.797 137.01 527.797 Q134.834 527.797 132.566 527.426 Q130.32 527.056 127.913 526.315 L127.913 521.616 Q129.996 522.75 132.219 523.306 Q134.441 523.861 136.918 523.861 Q140.922 523.861 143.26 521.755 Q145.598 519.648 145.598 516.037 Q145.598 512.426 143.26 510.32 Q140.922 508.213 136.918 508.213 Q135.043 508.213 133.168 508.63 Q131.316 509.047 129.371 509.926 L129.371 492.565 Z\" fill=\"#000000\" fill-rule=\"nonzero\" fill-opacity=\"1\" /><path clip-path=\"url(#clip560)\" d=\"M53.7467 266.189 L61.3856 266.189 L61.3856 239.824 L53.0754 241.491 L53.0754 237.231 L61.3393 235.565 L66.0152 235.565 L66.0152 266.189 L73.654 266.189 L73.654 270.125 L53.7467 270.125 L53.7467 266.189 Z\" fill=\"#000000\" fill-rule=\"nonzero\" fill-opacity=\"1\" /><path clip-path=\"url(#clip560)\" d=\"M83.0984 264.245 L87.9827 264.245 L87.9827 270.125 L83.0984 270.125 L83.0984 264.245 Z\" fill=\"#000000\" fill-rule=\"nonzero\" fill-opacity=\"1\" /><path clip-path=\"url(#clip560)\" d=\"M108.168 238.643 Q104.557 238.643 102.728 242.208 Q100.922 245.75 100.922 252.879 Q100.922 259.986 102.728 263.551 Q104.557 267.092 108.168 267.092 Q111.802 267.092 113.608 263.551 Q115.436 259.986 115.436 252.879 Q115.436 245.75 113.608 242.208 Q111.802 238.643 108.168 238.643 M108.168 234.94 Q113.978 234.94 117.033 239.546 Q120.112 244.129 120.112 252.879 Q120.112 261.606 117.033 266.213 Q113.978 270.796 108.168 270.796 Q102.358 270.796 99.2789 266.213 Q96.2234 261.606 96.2234 252.879 Q96.2234 244.129 99.2789 239.546 Q102.358 234.94 108.168 234.94 Z\" fill=\"#000000\" fill-rule=\"nonzero\" fill-opacity=\"1\" /><path clip-path=\"url(#clip560)\" d=\"M138.33 238.643 Q134.719 238.643 132.89 242.208 Q131.084 245.75 131.084 252.879 Q131.084 259.986 132.89 263.551 Q134.719 267.092 138.33 267.092 Q141.964 267.092 143.769 263.551 Q145.598 259.986 145.598 252.879 Q145.598 245.75 143.769 242.208 Q141.964 238.643 138.33 238.643 M138.33 234.94 Q144.14 234.94 147.195 239.546 Q150.274 244.129 150.274 252.879 Q150.274 261.606 147.195 266.213 Q144.14 270.796 138.33 270.796 Q132.519 270.796 129.441 266.213 Q126.385 261.606 126.385 252.879 Q126.385 244.129 129.441 239.546 Q132.519 234.94 138.33 234.94 Z\" fill=\"#000000\" fill-rule=\"nonzero\" fill-opacity=\"1\" /><circle clip-path=\"url(#clip562)\" cx=\"247.59\" cy=\"1280.85\" r=\"14.4\" fill=\"#009af9\" fill-rule=\"evenodd\" fill-opacity=\"1\" stroke=\"#000000\" stroke-opacity=\"1\" stroke-width=\"3.2\"/>\n",
       "<circle clip-path=\"url(#clip562)\" cx=\"588.231\" cy=\"1280.85\" r=\"14.4\" fill=\"#009af9\" fill-rule=\"evenodd\" fill-opacity=\"1\" stroke=\"#000000\" stroke-opacity=\"1\" stroke-width=\"3.2\"/>\n",
       "<circle clip-path=\"url(#clip562)\" cx=\"928.873\" cy=\"252.845\" r=\"14.4\" fill=\"#009af9\" fill-rule=\"evenodd\" fill-opacity=\"1\" stroke=\"#000000\" stroke-opacity=\"1\" stroke-width=\"3.2\"/>\n",
       "<circle clip-path=\"url(#clip562)\" cx=\"1269.51\" cy=\"1280.85\" r=\"14.4\" fill=\"#009af9\" fill-rule=\"evenodd\" fill-opacity=\"1\" stroke=\"#000000\" stroke-opacity=\"1\" stroke-width=\"3.2\"/>\n",
       "<circle clip-path=\"url(#clip562)\" cx=\"1610.16\" cy=\"1280.85\" r=\"14.4\" fill=\"#009af9\" fill-rule=\"evenodd\" fill-opacity=\"1\" stroke=\"#000000\" stroke-opacity=\"1\" stroke-width=\"3.2\"/>\n",
       "<circle clip-path=\"url(#clip562)\" cx=\"1950.8\" cy=\"1280.85\" r=\"14.4\" fill=\"#009af9\" fill-rule=\"evenodd\" fill-opacity=\"1\" stroke=\"#000000\" stroke-opacity=\"1\" stroke-width=\"3.2\"/>\n",
       "<circle clip-path=\"url(#clip562)\" cx=\"2291.44\" cy=\"1280.85\" r=\"14.4\" fill=\"#009af9\" fill-rule=\"evenodd\" fill-opacity=\"1\" stroke=\"#000000\" stroke-opacity=\"1\" stroke-width=\"3.2\"/>\n",
       "<path clip-path=\"url(#clip560)\" d=\"M2011.46 198.898 L2280.54 198.898 L2280.54 95.2176 L2011.46 95.2176  Z\" fill=\"#ffffff\" fill-rule=\"evenodd\" fill-opacity=\"1\"/>\n",
       "<polyline clip-path=\"url(#clip560)\" style=\"stroke:#000000; stroke-linecap:round; stroke-linejoin:round; stroke-width:4; stroke-opacity:1; fill:none\" points=\"2011.46,198.898 2280.54,198.898 2280.54,95.2176 2011.46,95.2176 2011.46,198.898 \"/>\n",
       "<circle clip-path=\"url(#clip560)\" cx=\"2107.75\" cy=\"147.058\" r=\"20.48\" fill=\"#009af9\" fill-rule=\"evenodd\" fill-opacity=\"1\" stroke=\"#000000\" stroke-opacity=\"1\" stroke-width=\"4.55111\"/>\n",
       "<path clip-path=\"url(#clip560)\" d=\"M2217.88 166.745 Q2216.07 171.375 2214.36 172.787 Q2212.65 174.199 2209.78 174.199 L2206.38 174.199 L2206.38 170.634 L2208.88 170.634 Q2210.63 170.634 2211.61 169.8 Q2212.58 168.967 2213.76 165.865 L2214.52 163.921 L2204.04 138.412 L2208.55 138.412 L2216.65 158.689 L2224.76 138.412 L2229.27 138.412 L2217.88 166.745 Z\" fill=\"#000000\" fill-rule=\"nonzero\" fill-opacity=\"1\" /><path clip-path=\"url(#clip560)\" d=\"M2236.56 160.402 L2244.2 160.402 L2244.2 134.037 L2235.89 135.703 L2235.89 131.444 L2244.15 129.778 L2248.83 129.778 L2248.83 160.402 L2256.47 160.402 L2256.47 164.338 L2236.56 164.338 L2236.56 160.402 Z\" fill=\"#000000\" fill-rule=\"nonzero\" fill-opacity=\"1\" /></svg>\n"
      ]
     },
     "metadata": {},
     "output_type": "display_data"
    }
   ],
   "source": [
    "p_x = scatter(1:7, x, ylimits=(-0.2, 1.2))"
   ]
  },
  {
   "cell_type": "code",
   "execution_count": 8,
   "metadata": {},
   "outputs": [
    {
     "data": {
      "image/png": "[encoded data removed]",
      "image/svg+xml": [
       "<?xml version=\"1.0\" encoding=\"utf-8\"?>\n",
       "<svg xmlns=\"http://www.w3.org/2000/svg\" xmlns:xlink=\"http://www.w3.org/1999/xlink\" width=\"600\" height=\"400\" viewBox=\"0 0 2400 1600\">\n",
       "<defs>\n",
       "  <clipPath id=\"clip600\">\n",
       "    <rect x=\"0\" y=\"0\" width=\"2400\" height=\"1600\"/>\n",
       "  </clipPath>\n",
       "</defs>\n",
       "<path clip-path=\"url(#clip600)\" d=\"M0 1600 L2400 1600 L2400 0 L0 0  Z\" fill=\"#ffffff\" fill-rule=\"evenodd\" fill-opacity=\"1\"/>\n",
       "<defs>\n",
       "  <clipPath id=\"clip601\">\n",
       "    <rect x=\"480\" y=\"0\" width=\"1681\" height=\"1600\"/>\n",
       "  </clipPath>\n",
       "</defs>\n",
       "<path clip-path=\"url(#clip600)\" d=\"M186.274 1486.45 L2352.76 1486.45 L2352.76 47.2441 L186.274 47.2441  Z\" fill=\"#ffffff\" fill-rule=\"evenodd\" fill-opacity=\"1\"/>\n",
       "<defs>\n",
       "  <clipPath id=\"clip602\">\n",
       "    <rect x=\"186\" y=\"47\" width=\"2167\" height=\"1440\"/>\n",
       "  </clipPath>\n",
       "</defs>\n",
       "<polyline clip-path=\"url(#clip602)\" style=\"stroke:#000000; stroke-linecap:round; stroke-linejoin:round; stroke-width:2; stroke-opacity:0.1; fill:none\" points=\"247.59,1486.45 247.59,47.2441 \"/>\n",
       "<polyline clip-path=\"url(#clip602)\" style=\"stroke:#000000; stroke-linecap:round; stroke-linejoin:round; stroke-width:2; stroke-opacity:0.1; fill:none\" points=\"588.231,1486.45 588.231,47.2441 \"/>\n",
       "<polyline clip-path=\"url(#clip602)\" style=\"stroke:#000000; stroke-linecap:round; stroke-linejoin:round; stroke-width:2; stroke-opacity:0.1; fill:none\" points=\"928.873,1486.45 928.873,47.2441 \"/>\n",
       "<polyline clip-path=\"url(#clip602)\" style=\"stroke:#000000; stroke-linecap:round; stroke-linejoin:round; stroke-width:2; stroke-opacity:0.1; fill:none\" points=\"1269.51,1486.45 1269.51,47.2441 \"/>\n",
       "<polyline clip-path=\"url(#clip602)\" style=\"stroke:#000000; stroke-linecap:round; stroke-linejoin:round; stroke-width:2; stroke-opacity:0.1; fill:none\" points=\"1610.16,1486.45 1610.16,47.2441 \"/>\n",
       "<polyline clip-path=\"url(#clip602)\" style=\"stroke:#000000; stroke-linecap:round; stroke-linejoin:round; stroke-width:2; stroke-opacity:0.1; fill:none\" points=\"1950.8,1486.45 1950.8,47.2441 \"/>\n",
       "<polyline clip-path=\"url(#clip602)\" style=\"stroke:#000000; stroke-linecap:round; stroke-linejoin:round; stroke-width:2; stroke-opacity:0.1; fill:none\" points=\"2291.44,1486.45 2291.44,47.2441 \"/>\n",
       "<polyline clip-path=\"url(#clip600)\" style=\"stroke:#000000; stroke-linecap:round; stroke-linejoin:round; stroke-width:4; stroke-opacity:1; fill:none\" points=\"186.274,1486.45 2352.76,1486.45 \"/>\n",
       "<polyline clip-path=\"url(#clip600)\" style=\"stroke:#000000; stroke-linecap:round; stroke-linejoin:round; stroke-width:4; stroke-opacity:1; fill:none\" points=\"247.59,1486.45 247.59,1467.55 \"/>\n",
       "<polyline clip-path=\"url(#clip600)\" style=\"stroke:#000000; stroke-linecap:round; stroke-linejoin:round; stroke-width:4; stroke-opacity:1; fill:none\" points=\"588.231,1486.45 588.231,1467.55 \"/>\n",
       "<polyline clip-path=\"url(#clip600)\" style=\"stroke:#000000; stroke-linecap:round; stroke-linejoin:round; stroke-width:4; stroke-opacity:1; fill:none\" points=\"928.873,1486.45 928.873,1467.55 \"/>\n",
       "<polyline clip-path=\"url(#clip600)\" style=\"stroke:#000000; stroke-linecap:round; stroke-linejoin:round; stroke-width:4; stroke-opacity:1; fill:none\" points=\"1269.51,1486.45 1269.51,1467.55 \"/>\n",
       "<polyline clip-path=\"url(#clip600)\" style=\"stroke:#000000; stroke-linecap:round; stroke-linejoin:round; stroke-width:4; stroke-opacity:1; fill:none\" points=\"1610.16,1486.45 1610.16,1467.55 \"/>\n",
       "<polyline clip-path=\"url(#clip600)\" style=\"stroke:#000000; stroke-linecap:round; stroke-linejoin:round; stroke-width:4; stroke-opacity:1; fill:none\" points=\"1950.8,1486.45 1950.8,1467.55 \"/>\n",
       "<polyline clip-path=\"url(#clip600)\" style=\"stroke:#000000; stroke-linecap:round; stroke-linejoin:round; stroke-width:4; stroke-opacity:1; fill:none\" points=\"2291.44,1486.45 2291.44,1467.55 \"/>\n",
       "<path clip-path=\"url(#clip600)\" d=\"M237.972 1544.91 L245.61 1544.91 L245.61 1518.55 L237.3 1520.21 L237.3 1515.95 L245.564 1514.29 L250.24 1514.29 L250.24 1544.91 L257.879 1544.91 L257.879 1548.85 L237.972 1548.85 L237.972 1544.91 Z\" fill=\"#000000\" fill-rule=\"nonzero\" fill-opacity=\"1\" /><path clip-path=\"url(#clip600)\" d=\"M582.884 1544.91 L599.203 1544.91 L599.203 1548.85 L577.259 1548.85 L577.259 1544.91 Q579.921 1542.16 584.505 1537.53 Q589.111 1532.88 590.292 1531.53 Q592.537 1529.01 593.416 1527.27 Q594.319 1525.51 594.319 1523.82 Q594.319 1521.07 592.375 1519.33 Q590.454 1517.6 587.352 1517.6 Q585.153 1517.6 582.699 1518.36 Q580.268 1519.13 577.491 1520.68 L577.491 1515.95 Q580.315 1514.82 582.768 1514.24 Q585.222 1513.66 587.259 1513.66 Q592.629 1513.66 595.824 1516.35 Q599.018 1519.03 599.018 1523.52 Q599.018 1525.65 598.208 1527.57 Q597.421 1529.47 595.315 1532.07 Q594.736 1532.74 591.634 1535.95 Q588.532 1539.15 582.884 1544.91 Z\" fill=\"#000000\" fill-rule=\"nonzero\" fill-opacity=\"1\" /><path clip-path=\"url(#clip600)\" d=\"M933.121 1530.21 Q936.477 1530.93 938.352 1533.2 Q940.25 1535.47 940.25 1538.8 Q940.25 1543.92 936.732 1546.72 Q933.213 1549.52 926.732 1549.52 Q924.556 1549.52 922.241 1549.08 Q919.95 1548.66 917.496 1547.81 L917.496 1543.29 Q919.44 1544.43 921.755 1545.01 Q924.07 1545.58 926.593 1545.58 Q930.991 1545.58 933.283 1543.85 Q935.598 1542.11 935.598 1538.8 Q935.598 1535.75 933.445 1534.03 Q931.315 1532.3 927.496 1532.3 L923.468 1532.3 L923.468 1528.45 L927.681 1528.45 Q931.13 1528.45 932.959 1527.09 Q934.787 1525.7 934.787 1523.11 Q934.787 1520.45 932.889 1519.03 Q931.014 1517.6 927.496 1517.6 Q925.575 1517.6 923.375 1518.01 Q921.176 1518.43 918.538 1519.31 L918.538 1515.14 Q921.2 1514.4 923.514 1514.03 Q925.852 1513.66 927.913 1513.66 Q933.237 1513.66 936.338 1516.09 Q939.44 1518.5 939.44 1522.62 Q939.44 1525.49 937.797 1527.48 Q936.153 1529.45 933.121 1530.21 Z\" fill=\"#000000\" fill-rule=\"nonzero\" fill-opacity=\"1\" /><path clip-path=\"url(#clip600)\" d=\"M1272.52 1518.36 L1260.72 1536.81 L1272.52 1536.81 L1272.52 1518.36 M1271.3 1514.29 L1277.18 1514.29 L1277.18 1536.81 L1282.11 1536.81 L1282.11 1540.7 L1277.18 1540.7 L1277.18 1548.85 L1272.52 1548.85 L1272.52 1540.7 L1256.92 1540.7 L1256.92 1536.19 L1271.3 1514.29 Z\" fill=\"#000000\" fill-rule=\"nonzero\" fill-opacity=\"1\" /><path clip-path=\"url(#clip600)\" d=\"M1600.43 1514.29 L1618.79 1514.29 L1618.79 1518.22 L1604.72 1518.22 L1604.72 1526.7 Q1605.74 1526.35 1606.75 1526.19 Q1607.77 1526 1608.79 1526 Q1614.58 1526 1617.96 1529.17 Q1621.34 1532.34 1621.34 1537.76 Q1621.34 1543.34 1617.87 1546.44 Q1614.39 1549.52 1608.07 1549.52 Q1605.9 1549.52 1603.63 1549.15 Q1601.38 1548.78 1598.98 1548.04 L1598.98 1543.34 Q1601.06 1544.47 1603.28 1545.03 Q1605.5 1545.58 1607.98 1545.58 Q1611.99 1545.58 1614.32 1543.48 Q1616.66 1541.37 1616.66 1537.76 Q1616.66 1534.15 1614.32 1532.04 Q1611.99 1529.94 1607.98 1529.94 Q1606.11 1529.94 1604.23 1530.35 Q1602.38 1530.77 1600.43 1531.65 L1600.43 1514.29 Z\" fill=\"#000000\" fill-rule=\"nonzero\" fill-opacity=\"1\" /><path clip-path=\"url(#clip600)\" d=\"M1951.2 1529.7 Q1948.06 1529.7 1946.2 1531.86 Q1944.37 1534.01 1944.37 1537.76 Q1944.37 1541.49 1946.2 1543.66 Q1948.06 1545.82 1951.2 1545.82 Q1954.35 1545.82 1956.18 1543.66 Q1958.03 1541.49 1958.03 1537.76 Q1958.03 1534.01 1956.18 1531.86 Q1954.35 1529.7 1951.2 1529.7 M1960.49 1515.05 L1960.49 1519.31 Q1958.73 1518.48 1956.92 1518.04 Q1955.14 1517.6 1953.38 1517.6 Q1948.75 1517.6 1946.3 1520.72 Q1943.87 1523.85 1943.52 1530.17 Q1944.88 1528.15 1946.94 1527.09 Q1949 1526 1951.48 1526 Q1956.69 1526 1959.7 1529.17 Q1962.73 1532.32 1962.73 1537.76 Q1962.73 1543.08 1959.58 1546.3 Q1956.44 1549.52 1951.2 1549.52 Q1945.21 1549.52 1942.04 1544.94 Q1938.87 1540.33 1938.87 1531.6 Q1938.87 1523.41 1942.75 1518.55 Q1946.64 1513.66 1953.19 1513.66 Q1954.95 1513.66 1956.74 1514.01 Q1958.54 1514.36 1960.49 1515.05 Z\" fill=\"#000000\" fill-rule=\"nonzero\" fill-opacity=\"1\" /><path clip-path=\"url(#clip600)\" d=\"M2280.33 1514.29 L2302.55 1514.29 L2302.55 1516.28 L2290.01 1548.85 L2285.12 1548.85 L2296.93 1518.22 L2280.33 1518.22 L2280.33 1514.29 Z\" fill=\"#000000\" fill-rule=\"nonzero\" fill-opacity=\"1\" /><polyline clip-path=\"url(#clip602)\" style=\"stroke:#000000; stroke-linecap:round; stroke-linejoin:round; stroke-width:2; stroke-opacity:0.1; fill:none\" points=\"186.274,1280.85 2352.76,1280.85 \"/>\n",
       "<polyline clip-path=\"url(#clip602)\" style=\"stroke:#000000; stroke-linecap:round; stroke-linejoin:round; stroke-width:2; stroke-opacity:0.1; fill:none\" points=\"186.274,1023.85 2352.76,1023.85 \"/>\n",
       "<polyline clip-path=\"url(#clip602)\" style=\"stroke:#000000; stroke-linecap:round; stroke-linejoin:round; stroke-width:2; stroke-opacity:0.1; fill:none\" points=\"186.274,766.846 2352.76,766.846 \"/>\n",
       "<polyline clip-path=\"url(#clip602)\" style=\"stroke:#000000; stroke-linecap:round; stroke-linejoin:round; stroke-width:2; stroke-opacity:0.1; fill:none\" points=\"186.274,509.845 2352.76,509.845 \"/>\n",
       "<polyline clip-path=\"url(#clip602)\" style=\"stroke:#000000; stroke-linecap:round; stroke-linejoin:round; stroke-width:2; stroke-opacity:0.1; fill:none\" points=\"186.274,252.845 2352.76,252.845 \"/>\n",
       "<polyline clip-path=\"url(#clip600)\" style=\"stroke:#000000; stroke-linecap:round; stroke-linejoin:round; stroke-width:4; stroke-opacity:1; fill:none\" points=\"186.274,1486.45 186.274,47.2441 \"/>\n",
       "<polyline clip-path=\"url(#clip600)\" style=\"stroke:#000000; stroke-linecap:round; stroke-linejoin:round; stroke-width:4; stroke-opacity:1; fill:none\" points=\"186.274,1280.85 205.172,1280.85 \"/>\n",
       "<polyline clip-path=\"url(#clip600)\" style=\"stroke:#000000; stroke-linecap:round; stroke-linejoin:round; stroke-width:4; stroke-opacity:1; fill:none\" points=\"186.274,1023.85 205.172,1023.85 \"/>\n",
       "<polyline clip-path=\"url(#clip600)\" style=\"stroke:#000000; stroke-linecap:round; stroke-linejoin:round; stroke-width:4; stroke-opacity:1; fill:none\" points=\"186.274,766.846 205.172,766.846 \"/>\n",
       "<polyline clip-path=\"url(#clip600)\" style=\"stroke:#000000; stroke-linecap:round; stroke-linejoin:round; stroke-width:4; stroke-opacity:1; fill:none\" points=\"186.274,509.845 205.172,509.845 \"/>\n",
       "<polyline clip-path=\"url(#clip600)\" style=\"stroke:#000000; stroke-linecap:round; stroke-linejoin:round; stroke-width:4; stroke-opacity:1; fill:none\" points=\"186.274,252.845 205.172,252.845 \"/>\n",
       "<path clip-path=\"url(#clip600)\" d=\"M62.9365 1266.65 Q59.3254 1266.65 57.4967 1270.21 Q55.6912 1273.75 55.6912 1280.88 Q55.6912 1287.99 57.4967 1291.55 Q59.3254 1295.09 62.9365 1295.09 Q66.5707 1295.09 68.3763 1291.55 Q70.205 1287.99 70.205 1280.88 Q70.205 1273.75 68.3763 1270.21 Q66.5707 1266.65 62.9365 1266.65 M62.9365 1262.94 Q68.7467 1262.94 71.8022 1267.55 Q74.8809 1272.13 74.8809 1280.88 Q74.8809 1289.61 71.8022 1294.22 Q68.7467 1298.8 62.9365 1298.8 Q57.1264 1298.8 54.0477 1294.22 Q50.9921 1289.61 50.9921 1280.88 Q50.9921 1272.13 54.0477 1267.55 Q57.1264 1262.94 62.9365 1262.94 Z\" fill=\"#000000\" fill-rule=\"nonzero\" fill-opacity=\"1\" /><path clip-path=\"url(#clip600)\" d=\"M83.0984 1292.25 L87.9827 1292.25 L87.9827 1298.13 L83.0984 1298.13 L83.0984 1292.25 Z\" fill=\"#000000\" fill-rule=\"nonzero\" fill-opacity=\"1\" /><path clip-path=\"url(#clip600)\" d=\"M108.168 1266.65 Q104.557 1266.65 102.728 1270.21 Q100.922 1273.75 100.922 1280.88 Q100.922 1287.99 102.728 1291.55 Q104.557 1295.09 108.168 1295.09 Q111.802 1295.09 113.608 1291.55 Q115.436 1287.99 115.436 1280.88 Q115.436 1273.75 113.608 1270.21 Q111.802 1266.65 108.168 1266.65 M108.168 1262.94 Q113.978 1262.94 117.033 1267.55 Q120.112 1272.13 120.112 1280.88 Q120.112 1289.61 117.033 1294.22 Q113.978 1298.8 108.168 1298.8 Q102.358 1298.8 99.2789 1294.22 Q96.2234 1289.61 96.2234 1280.88 Q96.2234 1272.13 99.2789 1267.55 Q102.358 1262.94 108.168 1262.94 Z\" fill=\"#000000\" fill-rule=\"nonzero\" fill-opacity=\"1\" /><path clip-path=\"url(#clip600)\" d=\"M138.33 1266.65 Q134.719 1266.65 132.89 1270.21 Q131.084 1273.75 131.084 1280.88 Q131.084 1287.99 132.89 1291.55 Q134.719 1295.09 138.33 1295.09 Q141.964 1295.09 143.769 1291.55 Q145.598 1287.99 145.598 1280.88 Q145.598 1273.75 143.769 1270.21 Q141.964 1266.65 138.33 1266.65 M138.33 1262.94 Q144.14 1262.94 147.195 1267.55 Q150.274 1272.13 150.274 1280.88 Q150.274 1289.61 147.195 1294.22 Q144.14 1298.8 138.33 1298.8 Q132.519 1298.8 129.441 1294.22 Q126.385 1289.61 126.385 1280.88 Q126.385 1272.13 129.441 1267.55 Q132.519 1262.94 138.33 1262.94 Z\" fill=\"#000000\" fill-rule=\"nonzero\" fill-opacity=\"1\" /><path clip-path=\"url(#clip600)\" d=\"M63.9319 1009.65 Q60.3208 1009.65 58.4921 1013.21 Q56.6865 1016.75 56.6865 1023.88 Q56.6865 1030.99 58.4921 1034.55 Q60.3208 1038.09 63.9319 1038.09 Q67.5661 1038.09 69.3717 1034.55 Q71.2004 1030.99 71.2004 1023.88 Q71.2004 1016.75 69.3717 1013.21 Q67.5661 1009.65 63.9319 1009.65 M63.9319 1005.94 Q69.742 1005.94 72.7976 1010.55 Q75.8763 1015.13 75.8763 1023.88 Q75.8763 1032.61 72.7976 1037.21 Q69.742 1041.8 63.9319 1041.8 Q58.1217 1041.8 55.043 1037.21 Q51.9875 1032.61 51.9875 1023.88 Q51.9875 1015.13 55.043 1010.55 Q58.1217 1005.94 63.9319 1005.94 Z\" fill=\"#000000\" fill-rule=\"nonzero\" fill-opacity=\"1\" /><path clip-path=\"url(#clip600)\" d=\"M84.0938 1035.25 L88.978 1035.25 L88.978 1041.13 L84.0938 1041.13 L84.0938 1035.25 Z\" fill=\"#000000\" fill-rule=\"nonzero\" fill-opacity=\"1\" /><path clip-path=\"url(#clip600)\" d=\"M103.191 1037.19 L119.51 1037.19 L119.51 1041.13 L97.566 1041.13 L97.566 1037.19 Q100.228 1034.44 104.811 1029.81 Q109.418 1025.15 110.598 1023.81 Q112.844 1021.29 113.723 1019.55 Q114.626 1017.79 114.626 1016.1 Q114.626 1013.35 112.682 1011.61 Q110.76 1009.88 107.658 1009.88 Q105.459 1009.88 103.006 1010.64 Q100.575 1011.4 97.7974 1012.96 L97.7974 1008.23 Q100.621 1007.1 103.075 1006.52 Q105.529 1005.94 107.566 1005.94 Q112.936 1005.94 116.131 1008.63 Q119.325 1011.31 119.325 1015.8 Q119.325 1017.93 118.515 1019.85 Q117.728 1021.75 115.621 1024.34 Q115.043 1025.02 111.941 1028.23 Q108.839 1031.43 103.191 1037.19 Z\" fill=\"#000000\" fill-rule=\"nonzero\" fill-opacity=\"1\" /><path clip-path=\"url(#clip600)\" d=\"M129.371 1006.57 L147.728 1006.57 L147.728 1010.5 L133.654 1010.5 L133.654 1018.97 Q134.672 1018.63 135.691 1018.46 Q136.709 1018.28 137.728 1018.28 Q143.515 1018.28 146.894 1021.45 Q150.274 1024.62 150.274 1030.04 Q150.274 1035.62 146.802 1038.72 Q143.33 1041.8 137.01 1041.8 Q134.834 1041.8 132.566 1041.43 Q130.32 1041.06 127.913 1040.32 L127.913 1035.62 Q129.996 1036.75 132.219 1037.31 Q134.441 1037.86 136.918 1037.86 Q140.922 1037.86 143.26 1035.76 Q145.598 1033.65 145.598 1030.04 Q145.598 1026.43 143.26 1024.32 Q140.922 1022.21 136.918 1022.21 Q135.043 1022.21 133.168 1022.63 Q131.316 1023.05 129.371 1023.93 L129.371 1006.57 Z\" fill=\"#000000\" fill-rule=\"nonzero\" fill-opacity=\"1\" /><path clip-path=\"url(#clip600)\" d=\"M62.9365 752.645 Q59.3254 752.645 57.4967 756.209 Q55.6912 759.751 55.6912 766.881 Q55.6912 773.987 57.4967 777.552 Q59.3254 781.094 62.9365 781.094 Q66.5707 781.094 68.3763 777.552 Q70.205 773.987 70.205 766.881 Q70.205 759.751 68.3763 756.209 Q66.5707 752.645 62.9365 752.645 M62.9365 748.941 Q68.7467 748.941 71.8022 753.547 Q74.8809 758.131 74.8809 766.881 Q74.8809 775.608 71.8022 780.214 Q68.7467 784.797 62.9365 784.797 Q57.1264 784.797 54.0477 780.214 Q50.9921 775.608 50.9921 766.881 Q50.9921 758.131 54.0477 753.547 Q57.1264 748.941 62.9365 748.941 Z\" fill=\"#000000\" fill-rule=\"nonzero\" fill-opacity=\"1\" /><path clip-path=\"url(#clip600)\" d=\"M83.0984 778.246 L87.9827 778.246 L87.9827 784.126 L83.0984 784.126 L83.0984 778.246 Z\" fill=\"#000000\" fill-rule=\"nonzero\" fill-opacity=\"1\" /><path clip-path=\"url(#clip600)\" d=\"M98.2141 749.566 L116.57 749.566 L116.57 753.501 L102.496 753.501 L102.496 761.973 Q103.515 761.626 104.534 761.464 Q105.552 761.279 106.571 761.279 Q112.358 761.279 115.737 764.45 Q119.117 767.621 119.117 773.038 Q119.117 778.617 115.645 781.719 Q112.172 784.797 105.853 784.797 Q103.677 784.797 101.409 784.427 Q99.1632 784.057 96.7558 783.316 L96.7558 778.617 Q98.8391 779.751 101.061 780.307 Q103.284 780.862 105.76 780.862 Q109.765 780.862 112.103 778.756 Q114.441 776.649 114.441 773.038 Q114.441 769.427 112.103 767.321 Q109.765 765.214 105.76 765.214 Q103.885 765.214 102.01 765.631 Q100.159 766.047 98.2141 766.927 L98.2141 749.566 Z\" fill=\"#000000\" fill-rule=\"nonzero\" fill-opacity=\"1\" /><path clip-path=\"url(#clip600)\" d=\"M138.33 752.645 Q134.719 752.645 132.89 756.209 Q131.084 759.751 131.084 766.881 Q131.084 773.987 132.89 777.552 Q134.719 781.094 138.33 781.094 Q141.964 781.094 143.769 777.552 Q145.598 773.987 145.598 766.881 Q145.598 759.751 143.769 756.209 Q141.964 752.645 138.33 752.645 M138.33 748.941 Q144.14 748.941 147.195 753.547 Q150.274 758.131 150.274 766.881 Q150.274 775.608 147.195 780.214 Q144.14 784.797 138.33 784.797 Q132.519 784.797 129.441 780.214 Q126.385 775.608 126.385 766.881 Q126.385 758.131 129.441 753.547 Q132.519 748.941 138.33 748.941 Z\" fill=\"#000000\" fill-rule=\"nonzero\" fill-opacity=\"1\" /><path clip-path=\"url(#clip600)\" d=\"M63.9319 495.644 Q60.3208 495.644 58.4921 499.209 Q56.6865 502.75 56.6865 509.88 Q56.6865 516.986 58.4921 520.551 Q60.3208 524.093 63.9319 524.093 Q67.5661 524.093 69.3717 520.551 Q71.2004 516.986 71.2004 509.88 Q71.2004 502.75 69.3717 499.209 Q67.5661 495.644 63.9319 495.644 M63.9319 491.94 Q69.742 491.94 72.7976 496.547 Q75.8763 501.13 75.8763 509.88 Q75.8763 518.607 72.7976 523.213 Q69.742 527.797 63.9319 527.797 Q58.1217 527.797 55.043 523.213 Q51.9875 518.607 51.9875 509.88 Q51.9875 501.13 55.043 496.547 Q58.1217 491.94 63.9319 491.94 Z\" fill=\"#000000\" fill-rule=\"nonzero\" fill-opacity=\"1\" /><path clip-path=\"url(#clip600)\" d=\"M84.0938 521.246 L88.978 521.246 L88.978 527.125 L84.0938 527.125 L84.0938 521.246 Z\" fill=\"#000000\" fill-rule=\"nonzero\" fill-opacity=\"1\" /><path clip-path=\"url(#clip600)\" d=\"M97.9826 492.565 L120.205 492.565 L120.205 494.556 L107.658 527.125 L102.774 527.125 L114.58 496.5 L97.9826 496.5 L97.9826 492.565 Z\" fill=\"#000000\" fill-rule=\"nonzero\" fill-opacity=\"1\" /><path clip-path=\"url(#clip600)\" d=\"M129.371 492.565 L147.728 492.565 L147.728 496.5 L133.654 496.5 L133.654 504.973 Q134.672 504.625 135.691 504.463 Q136.709 504.278 137.728 504.278 Q143.515 504.278 146.894 507.449 Q150.274 510.621 150.274 516.037 Q150.274 521.616 146.802 524.718 Q143.33 527.797 137.01 527.797 Q134.834 527.797 132.566 527.426 Q130.32 527.056 127.913 526.315 L127.913 521.616 Q129.996 522.75 132.219 523.306 Q134.441 523.861 136.918 523.861 Q140.922 523.861 143.26 521.755 Q145.598 519.648 145.598 516.037 Q145.598 512.426 143.26 510.32 Q140.922 508.213 136.918 508.213 Q135.043 508.213 133.168 508.63 Q131.316 509.047 129.371 509.926 L129.371 492.565 Z\" fill=\"#000000\" fill-rule=\"nonzero\" fill-opacity=\"1\" /><path clip-path=\"url(#clip600)\" d=\"M53.7467 266.189 L61.3856 266.189 L61.3856 239.824 L53.0754 241.491 L53.0754 237.231 L61.3393 235.565 L66.0152 235.565 L66.0152 266.189 L73.654 266.189 L73.654 270.125 L53.7467 270.125 L53.7467 266.189 Z\" fill=\"#000000\" fill-rule=\"nonzero\" fill-opacity=\"1\" /><path clip-path=\"url(#clip600)\" d=\"M83.0984 264.245 L87.9827 264.245 L87.9827 270.125 L83.0984 270.125 L83.0984 264.245 Z\" fill=\"#000000\" fill-rule=\"nonzero\" fill-opacity=\"1\" /><path clip-path=\"url(#clip600)\" d=\"M108.168 238.643 Q104.557 238.643 102.728 242.208 Q100.922 245.75 100.922 252.879 Q100.922 259.986 102.728 263.551 Q104.557 267.092 108.168 267.092 Q111.802 267.092 113.608 263.551 Q115.436 259.986 115.436 252.879 Q115.436 245.75 113.608 242.208 Q111.802 238.643 108.168 238.643 M108.168 234.94 Q113.978 234.94 117.033 239.546 Q120.112 244.129 120.112 252.879 Q120.112 261.606 117.033 266.213 Q113.978 270.796 108.168 270.796 Q102.358 270.796 99.2789 266.213 Q96.2234 261.606 96.2234 252.879 Q96.2234 244.129 99.2789 239.546 Q102.358 234.94 108.168 234.94 Z\" fill=\"#000000\" fill-rule=\"nonzero\" fill-opacity=\"1\" /><path clip-path=\"url(#clip600)\" d=\"M138.33 238.643 Q134.719 238.643 132.89 242.208 Q131.084 245.75 131.084 252.879 Q131.084 259.986 132.89 263.551 Q134.719 267.092 138.33 267.092 Q141.964 267.092 143.769 263.551 Q145.598 259.986 145.598 252.879 Q145.598 245.75 143.769 242.208 Q141.964 238.643 138.33 238.643 M138.33 234.94 Q144.14 234.94 147.195 239.546 Q150.274 244.129 150.274 252.879 Q150.274 261.606 147.195 266.213 Q144.14 270.796 138.33 270.796 Q132.519 270.796 129.441 266.213 Q126.385 261.606 126.385 252.879 Q126.385 244.129 129.441 239.546 Q132.519 234.94 138.33 234.94 Z\" fill=\"#000000\" fill-rule=\"nonzero\" fill-opacity=\"1\" /><circle clip-path=\"url(#clip602)\" cx=\"247.59\" cy=\"1280.85\" r=\"14.4\" fill=\"#009af9\" fill-rule=\"evenodd\" fill-opacity=\"1\" stroke=\"#000000\" stroke-opacity=\"1\" stroke-width=\"3.2\"/>\n",
       "<circle clip-path=\"url(#clip602)\" cx=\"588.231\" cy=\"1280.85\" r=\"14.4\" fill=\"#009af9\" fill-rule=\"evenodd\" fill-opacity=\"1\" stroke=\"#000000\" stroke-opacity=\"1\" stroke-width=\"3.2\"/>\n",
       "<circle clip-path=\"url(#clip602)\" cx=\"928.873\" cy=\"766.846\" r=\"14.4\" fill=\"#009af9\" fill-rule=\"evenodd\" fill-opacity=\"1\" stroke=\"#000000\" stroke-opacity=\"1\" stroke-width=\"3.2\"/>\n",
       "<circle clip-path=\"url(#clip602)\" cx=\"1269.51\" cy=\"972.447\" r=\"14.4\" fill=\"#009af9\" fill-rule=\"evenodd\" fill-opacity=\"1\" stroke=\"#000000\" stroke-opacity=\"1\" stroke-width=\"3.2\"/>\n",
       "<circle clip-path=\"url(#clip602)\" cx=\"1610.16\" cy=\"1075.25\" r=\"14.4\" fill=\"#009af9\" fill-rule=\"evenodd\" fill-opacity=\"1\" stroke=\"#000000\" stroke-opacity=\"1\" stroke-width=\"3.2\"/>\n",
       "<circle clip-path=\"url(#clip602)\" cx=\"1950.8\" cy=\"1280.85\" r=\"14.4\" fill=\"#009af9\" fill-rule=\"evenodd\" fill-opacity=\"1\" stroke=\"#000000\" stroke-opacity=\"1\" stroke-width=\"3.2\"/>\n",
       "<circle clip-path=\"url(#clip602)\" cx=\"2291.44\" cy=\"1280.85\" r=\"14.4\" fill=\"#009af9\" fill-rule=\"evenodd\" fill-opacity=\"1\" stroke=\"#000000\" stroke-opacity=\"1\" stroke-width=\"3.2\"/>\n",
       "<path clip-path=\"url(#clip600)\" d=\"M2011.46 198.898 L2280.54 198.898 L2280.54 95.2176 L2011.46 95.2176  Z\" fill=\"#ffffff\" fill-rule=\"evenodd\" fill-opacity=\"1\"/>\n",
       "<polyline clip-path=\"url(#clip600)\" style=\"stroke:#000000; stroke-linecap:round; stroke-linejoin:round; stroke-width:4; stroke-opacity:1; fill:none\" points=\"2011.46,198.898 2280.54,198.898 2280.54,95.2176 2011.46,95.2176 2011.46,198.898 \"/>\n",
       "<circle clip-path=\"url(#clip600)\" cx=\"2107.75\" cy=\"147.058\" r=\"20.48\" fill=\"#009af9\" fill-rule=\"evenodd\" fill-opacity=\"1\" stroke=\"#000000\" stroke-opacity=\"1\" stroke-width=\"4.55111\"/>\n",
       "<path clip-path=\"url(#clip600)\" d=\"M2217.88 166.745 Q2216.07 171.375 2214.36 172.787 Q2212.65 174.199 2209.78 174.199 L2206.38 174.199 L2206.38 170.634 L2208.88 170.634 Q2210.63 170.634 2211.61 169.8 Q2212.58 168.967 2213.76 165.865 L2214.52 163.921 L2204.04 138.412 L2208.55 138.412 L2216.65 158.689 L2224.76 138.412 L2229.27 138.412 L2217.88 166.745 Z\" fill=\"#000000\" fill-rule=\"nonzero\" fill-opacity=\"1\" /><path clip-path=\"url(#clip600)\" d=\"M2236.56 160.402 L2244.2 160.402 L2244.2 134.037 L2235.89 135.703 L2235.89 131.444 L2244.15 129.778 L2248.83 129.778 L2248.83 160.402 L2256.47 160.402 L2256.47 164.338 L2236.56 164.338 L2236.56 160.402 Z\" fill=\"#000000\" fill-rule=\"nonzero\" fill-opacity=\"1\" /></svg>\n"
      ],
      "text/html": [
       "<?xml version=\"1.0\" encoding=\"utf-8\"?>\n",
       "<svg xmlns=\"http://www.w3.org/2000/svg\" xmlns:xlink=\"http://www.w3.org/1999/xlink\" width=\"600\" height=\"400\" viewBox=\"0 0 2400 1600\">\n",
       "<defs>\n",
       "  <clipPath id=\"clip650\">\n",
       "    <rect x=\"0\" y=\"0\" width=\"2400\" height=\"1600\"/>\n",
       "  </clipPath>\n",
       "</defs>\n",
       "<path clip-path=\"url(#clip650)\" d=\"M0 1600 L2400 1600 L2400 0 L0 0  Z\" fill=\"#ffffff\" fill-rule=\"evenodd\" fill-opacity=\"1\"/>\n",
       "<defs>\n",
       "  <clipPath id=\"clip651\">\n",
       "    <rect x=\"480\" y=\"0\" width=\"1681\" height=\"1600\"/>\n",
       "  </clipPath>\n",
       "</defs>\n",
       "<path clip-path=\"url(#clip650)\" d=\"M186.274 1486.45 L2352.76 1486.45 L2352.76 47.2441 L186.274 47.2441  Z\" fill=\"#ffffff\" fill-rule=\"evenodd\" fill-opacity=\"1\"/>\n",
       "<defs>\n",
       "  <clipPath id=\"clip652\">\n",
       "    <rect x=\"186\" y=\"47\" width=\"2167\" height=\"1440\"/>\n",
       "  </clipPath>\n",
       "</defs>\n",
       "<polyline clip-path=\"url(#clip652)\" style=\"stroke:#000000; stroke-linecap:round; stroke-linejoin:round; stroke-width:2; stroke-opacity:0.1; fill:none\" points=\"247.59,1486.45 247.59,47.2441 \"/>\n",
       "<polyline clip-path=\"url(#clip652)\" style=\"stroke:#000000; stroke-linecap:round; stroke-linejoin:round; stroke-width:2; stroke-opacity:0.1; fill:none\" points=\"588.231,1486.45 588.231,47.2441 \"/>\n",
       "<polyline clip-path=\"url(#clip652)\" style=\"stroke:#000000; stroke-linecap:round; stroke-linejoin:round; stroke-width:2; stroke-opacity:0.1; fill:none\" points=\"928.873,1486.45 928.873,47.2441 \"/>\n",
       "<polyline clip-path=\"url(#clip652)\" style=\"stroke:#000000; stroke-linecap:round; stroke-linejoin:round; stroke-width:2; stroke-opacity:0.1; fill:none\" points=\"1269.51,1486.45 1269.51,47.2441 \"/>\n",
       "<polyline clip-path=\"url(#clip652)\" style=\"stroke:#000000; stroke-linecap:round; stroke-linejoin:round; stroke-width:2; stroke-opacity:0.1; fill:none\" points=\"1610.16,1486.45 1610.16,47.2441 \"/>\n",
       "<polyline clip-path=\"url(#clip652)\" style=\"stroke:#000000; stroke-linecap:round; stroke-linejoin:round; stroke-width:2; stroke-opacity:0.1; fill:none\" points=\"1950.8,1486.45 1950.8,47.2441 \"/>\n",
       "<polyline clip-path=\"url(#clip652)\" style=\"stroke:#000000; stroke-linecap:round; stroke-linejoin:round; stroke-width:2; stroke-opacity:0.1; fill:none\" points=\"2291.44,1486.45 2291.44,47.2441 \"/>\n",
       "<polyline clip-path=\"url(#clip650)\" style=\"stroke:#000000; stroke-linecap:round; stroke-linejoin:round; stroke-width:4; stroke-opacity:1; fill:none\" points=\"186.274,1486.45 2352.76,1486.45 \"/>\n",
       "<polyline clip-path=\"url(#clip650)\" style=\"stroke:#000000; stroke-linecap:round; stroke-linejoin:round; stroke-width:4; stroke-opacity:1; fill:none\" points=\"247.59,1486.45 247.59,1467.55 \"/>\n",
       "<polyline clip-path=\"url(#clip650)\" style=\"stroke:#000000; stroke-linecap:round; stroke-linejoin:round; stroke-width:4; stroke-opacity:1; fill:none\" points=\"588.231,1486.45 588.231,1467.55 \"/>\n",
       "<polyline clip-path=\"url(#clip650)\" style=\"stroke:#000000; stroke-linecap:round; stroke-linejoin:round; stroke-width:4; stroke-opacity:1; fill:none\" points=\"928.873,1486.45 928.873,1467.55 \"/>\n",
       "<polyline clip-path=\"url(#clip650)\" style=\"stroke:#000000; stroke-linecap:round; stroke-linejoin:round; stroke-width:4; stroke-opacity:1; fill:none\" points=\"1269.51,1486.45 1269.51,1467.55 \"/>\n",
       "<polyline clip-path=\"url(#clip650)\" style=\"stroke:#000000; stroke-linecap:round; stroke-linejoin:round; stroke-width:4; stroke-opacity:1; fill:none\" points=\"1610.16,1486.45 1610.16,1467.55 \"/>\n",
       "<polyline clip-path=\"url(#clip650)\" style=\"stroke:#000000; stroke-linecap:round; stroke-linejoin:round; stroke-width:4; stroke-opacity:1; fill:none\" points=\"1950.8,1486.45 1950.8,1467.55 \"/>\n",
       "<polyline clip-path=\"url(#clip650)\" style=\"stroke:#000000; stroke-linecap:round; stroke-linejoin:round; stroke-width:4; stroke-opacity:1; fill:none\" points=\"2291.44,1486.45 2291.44,1467.55 \"/>\n",
       "<path clip-path=\"url(#clip650)\" d=\"M237.972 1544.91 L245.61 1544.91 L245.61 1518.55 L237.3 1520.21 L237.3 1515.95 L245.564 1514.29 L250.24 1514.29 L250.24 1544.91 L257.879 1544.91 L257.879 1548.85 L237.972 1548.85 L237.972 1544.91 Z\" fill=\"#000000\" fill-rule=\"nonzero\" fill-opacity=\"1\" /><path clip-path=\"url(#clip650)\" d=\"M582.884 1544.91 L599.203 1544.91 L599.203 1548.85 L577.259 1548.85 L577.259 1544.91 Q579.921 1542.16 584.505 1537.53 Q589.111 1532.88 590.292 1531.53 Q592.537 1529.01 593.416 1527.27 Q594.319 1525.51 594.319 1523.82 Q594.319 1521.07 592.375 1519.33 Q590.454 1517.6 587.352 1517.6 Q585.153 1517.6 582.699 1518.36 Q580.268 1519.13 577.491 1520.68 L577.491 1515.95 Q580.315 1514.82 582.768 1514.24 Q585.222 1513.66 587.259 1513.66 Q592.629 1513.66 595.824 1516.35 Q599.018 1519.03 599.018 1523.52 Q599.018 1525.65 598.208 1527.57 Q597.421 1529.47 595.315 1532.07 Q594.736 1532.74 591.634 1535.95 Q588.532 1539.15 582.884 1544.91 Z\" fill=\"#000000\" fill-rule=\"nonzero\" fill-opacity=\"1\" /><path clip-path=\"url(#clip650)\" d=\"M933.121 1530.21 Q936.477 1530.93 938.352 1533.2 Q940.25 1535.47 940.25 1538.8 Q940.25 1543.92 936.732 1546.72 Q933.213 1549.52 926.732 1549.52 Q924.556 1549.52 922.241 1549.08 Q919.95 1548.66 917.496 1547.81 L917.496 1543.29 Q919.44 1544.43 921.755 1545.01 Q924.07 1545.58 926.593 1545.58 Q930.991 1545.58 933.283 1543.85 Q935.598 1542.11 935.598 1538.8 Q935.598 1535.75 933.445 1534.03 Q931.315 1532.3 927.496 1532.3 L923.468 1532.3 L923.468 1528.45 L927.681 1528.45 Q931.13 1528.45 932.959 1527.09 Q934.787 1525.7 934.787 1523.11 Q934.787 1520.45 932.889 1519.03 Q931.014 1517.6 927.496 1517.6 Q925.575 1517.6 923.375 1518.01 Q921.176 1518.43 918.538 1519.31 L918.538 1515.14 Q921.2 1514.4 923.514 1514.03 Q925.852 1513.66 927.913 1513.66 Q933.237 1513.66 936.338 1516.09 Q939.44 1518.5 939.44 1522.62 Q939.44 1525.49 937.797 1527.48 Q936.153 1529.45 933.121 1530.21 Z\" fill=\"#000000\" fill-rule=\"nonzero\" fill-opacity=\"1\" /><path clip-path=\"url(#clip650)\" d=\"M1272.52 1518.36 L1260.72 1536.81 L1272.52 1536.81 L1272.52 1518.36 M1271.3 1514.29 L1277.18 1514.29 L1277.18 1536.81 L1282.11 1536.81 L1282.11 1540.7 L1277.18 1540.7 L1277.18 1548.85 L1272.52 1548.85 L1272.52 1540.7 L1256.92 1540.7 L1256.92 1536.19 L1271.3 1514.29 Z\" fill=\"#000000\" fill-rule=\"nonzero\" fill-opacity=\"1\" /><path clip-path=\"url(#clip650)\" d=\"M1600.43 1514.29 L1618.79 1514.29 L1618.79 1518.22 L1604.72 1518.22 L1604.72 1526.7 Q1605.74 1526.35 1606.75 1526.19 Q1607.77 1526 1608.79 1526 Q1614.58 1526 1617.96 1529.17 Q1621.34 1532.34 1621.34 1537.76 Q1621.34 1543.34 1617.87 1546.44 Q1614.39 1549.52 1608.07 1549.52 Q1605.9 1549.52 1603.63 1549.15 Q1601.38 1548.78 1598.98 1548.04 L1598.98 1543.34 Q1601.06 1544.47 1603.28 1545.03 Q1605.5 1545.58 1607.98 1545.58 Q1611.99 1545.58 1614.32 1543.48 Q1616.66 1541.37 1616.66 1537.76 Q1616.66 1534.15 1614.32 1532.04 Q1611.99 1529.94 1607.98 1529.94 Q1606.11 1529.94 1604.23 1530.35 Q1602.38 1530.77 1600.43 1531.65 L1600.43 1514.29 Z\" fill=\"#000000\" fill-rule=\"nonzero\" fill-opacity=\"1\" /><path clip-path=\"url(#clip650)\" d=\"M1951.2 1529.7 Q1948.06 1529.7 1946.2 1531.86 Q1944.37 1534.01 1944.37 1537.76 Q1944.37 1541.49 1946.2 1543.66 Q1948.06 1545.82 1951.2 1545.82 Q1954.35 1545.82 1956.18 1543.66 Q1958.03 1541.49 1958.03 1537.76 Q1958.03 1534.01 1956.18 1531.86 Q1954.35 1529.7 1951.2 1529.7 M1960.49 1515.05 L1960.49 1519.31 Q1958.73 1518.48 1956.92 1518.04 Q1955.14 1517.6 1953.38 1517.6 Q1948.75 1517.6 1946.3 1520.72 Q1943.87 1523.85 1943.52 1530.17 Q1944.88 1528.15 1946.94 1527.09 Q1949 1526 1951.48 1526 Q1956.69 1526 1959.7 1529.17 Q1962.73 1532.32 1962.73 1537.76 Q1962.73 1543.08 1959.58 1546.3 Q1956.44 1549.52 1951.2 1549.52 Q1945.21 1549.52 1942.04 1544.94 Q1938.87 1540.33 1938.87 1531.6 Q1938.87 1523.41 1942.75 1518.55 Q1946.64 1513.66 1953.19 1513.66 Q1954.95 1513.66 1956.74 1514.01 Q1958.54 1514.36 1960.49 1515.05 Z\" fill=\"#000000\" fill-rule=\"nonzero\" fill-opacity=\"1\" /><path clip-path=\"url(#clip650)\" d=\"M2280.33 1514.29 L2302.55 1514.29 L2302.55 1516.28 L2290.01 1548.85 L2285.12 1548.85 L2296.93 1518.22 L2280.33 1518.22 L2280.33 1514.29 Z\" fill=\"#000000\" fill-rule=\"nonzero\" fill-opacity=\"1\" /><polyline clip-path=\"url(#clip652)\" style=\"stroke:#000000; stroke-linecap:round; stroke-linejoin:round; stroke-width:2; stroke-opacity:0.1; fill:none\" points=\"186.274,1280.85 2352.76,1280.85 \"/>\n",
       "<polyline clip-path=\"url(#clip652)\" style=\"stroke:#000000; stroke-linecap:round; stroke-linejoin:round; stroke-width:2; stroke-opacity:0.1; fill:none\" points=\"186.274,1023.85 2352.76,1023.85 \"/>\n",
       "<polyline clip-path=\"url(#clip652)\" style=\"stroke:#000000; stroke-linecap:round; stroke-linejoin:round; stroke-width:2; stroke-opacity:0.1; fill:none\" points=\"186.274,766.846 2352.76,766.846 \"/>\n",
       "<polyline clip-path=\"url(#clip652)\" style=\"stroke:#000000; stroke-linecap:round; stroke-linejoin:round; stroke-width:2; stroke-opacity:0.1; fill:none\" points=\"186.274,509.845 2352.76,509.845 \"/>\n",
       "<polyline clip-path=\"url(#clip652)\" style=\"stroke:#000000; stroke-linecap:round; stroke-linejoin:round; stroke-width:2; stroke-opacity:0.1; fill:none\" points=\"186.274,252.845 2352.76,252.845 \"/>\n",
       "<polyline clip-path=\"url(#clip650)\" style=\"stroke:#000000; stroke-linecap:round; stroke-linejoin:round; stroke-width:4; stroke-opacity:1; fill:none\" points=\"186.274,1486.45 186.274,47.2441 \"/>\n",
       "<polyline clip-path=\"url(#clip650)\" style=\"stroke:#000000; stroke-linecap:round; stroke-linejoin:round; stroke-width:4; stroke-opacity:1; fill:none\" points=\"186.274,1280.85 205.172,1280.85 \"/>\n",
       "<polyline clip-path=\"url(#clip650)\" style=\"stroke:#000000; stroke-linecap:round; stroke-linejoin:round; stroke-width:4; stroke-opacity:1; fill:none\" points=\"186.274,1023.85 205.172,1023.85 \"/>\n",
       "<polyline clip-path=\"url(#clip650)\" style=\"stroke:#000000; stroke-linecap:round; stroke-linejoin:round; stroke-width:4; stroke-opacity:1; fill:none\" points=\"186.274,766.846 205.172,766.846 \"/>\n",
       "<polyline clip-path=\"url(#clip650)\" style=\"stroke:#000000; stroke-linecap:round; stroke-linejoin:round; stroke-width:4; stroke-opacity:1; fill:none\" points=\"186.274,509.845 205.172,509.845 \"/>\n",
       "<polyline clip-path=\"url(#clip650)\" style=\"stroke:#000000; stroke-linecap:round; stroke-linejoin:round; stroke-width:4; stroke-opacity:1; fill:none\" points=\"186.274,252.845 205.172,252.845 \"/>\n",
       "<path clip-path=\"url(#clip650)\" d=\"M62.9365 1266.65 Q59.3254 1266.65 57.4967 1270.21 Q55.6912 1273.75 55.6912 1280.88 Q55.6912 1287.99 57.4967 1291.55 Q59.3254 1295.09 62.9365 1295.09 Q66.5707 1295.09 68.3763 1291.55 Q70.205 1287.99 70.205 1280.88 Q70.205 1273.75 68.3763 1270.21 Q66.5707 1266.65 62.9365 1266.65 M62.9365 1262.94 Q68.7467 1262.94 71.8022 1267.55 Q74.8809 1272.13 74.8809 1280.88 Q74.8809 1289.61 71.8022 1294.22 Q68.7467 1298.8 62.9365 1298.8 Q57.1264 1298.8 54.0477 1294.22 Q50.9921 1289.61 50.9921 1280.88 Q50.9921 1272.13 54.0477 1267.55 Q57.1264 1262.94 62.9365 1262.94 Z\" fill=\"#000000\" fill-rule=\"nonzero\" fill-opacity=\"1\" /><path clip-path=\"url(#clip650)\" d=\"M83.0984 1292.25 L87.9827 1292.25 L87.9827 1298.13 L83.0984 1298.13 L83.0984 1292.25 Z\" fill=\"#000000\" fill-rule=\"nonzero\" fill-opacity=\"1\" /><path clip-path=\"url(#clip650)\" d=\"M108.168 1266.65 Q104.557 1266.65 102.728 1270.21 Q100.922 1273.75 100.922 1280.88 Q100.922 1287.99 102.728 1291.55 Q104.557 1295.09 108.168 1295.09 Q111.802 1295.09 113.608 1291.55 Q115.436 1287.99 115.436 1280.88 Q115.436 1273.75 113.608 1270.21 Q111.802 1266.65 108.168 1266.65 M108.168 1262.94 Q113.978 1262.94 117.033 1267.55 Q120.112 1272.13 120.112 1280.88 Q120.112 1289.61 117.033 1294.22 Q113.978 1298.8 108.168 1298.8 Q102.358 1298.8 99.2789 1294.22 Q96.2234 1289.61 96.2234 1280.88 Q96.2234 1272.13 99.2789 1267.55 Q102.358 1262.94 108.168 1262.94 Z\" fill=\"#000000\" fill-rule=\"nonzero\" fill-opacity=\"1\" /><path clip-path=\"url(#clip650)\" d=\"M138.33 1266.65 Q134.719 1266.65 132.89 1270.21 Q131.084 1273.75 131.084 1280.88 Q131.084 1287.99 132.89 1291.55 Q134.719 1295.09 138.33 1295.09 Q141.964 1295.09 143.769 1291.55 Q145.598 1287.99 145.598 1280.88 Q145.598 1273.75 143.769 1270.21 Q141.964 1266.65 138.33 1266.65 M138.33 1262.94 Q144.14 1262.94 147.195 1267.55 Q150.274 1272.13 150.274 1280.88 Q150.274 1289.61 147.195 1294.22 Q144.14 1298.8 138.33 1298.8 Q132.519 1298.8 129.441 1294.22 Q126.385 1289.61 126.385 1280.88 Q126.385 1272.13 129.441 1267.55 Q132.519 1262.94 138.33 1262.94 Z\" fill=\"#000000\" fill-rule=\"nonzero\" fill-opacity=\"1\" /><path clip-path=\"url(#clip650)\" d=\"M63.9319 1009.65 Q60.3208 1009.65 58.4921 1013.21 Q56.6865 1016.75 56.6865 1023.88 Q56.6865 1030.99 58.4921 1034.55 Q60.3208 1038.09 63.9319 1038.09 Q67.5661 1038.09 69.3717 1034.55 Q71.2004 1030.99 71.2004 1023.88 Q71.2004 1016.75 69.3717 1013.21 Q67.5661 1009.65 63.9319 1009.65 M63.9319 1005.94 Q69.742 1005.94 72.7976 1010.55 Q75.8763 1015.13 75.8763 1023.88 Q75.8763 1032.61 72.7976 1037.21 Q69.742 1041.8 63.9319 1041.8 Q58.1217 1041.8 55.043 1037.21 Q51.9875 1032.61 51.9875 1023.88 Q51.9875 1015.13 55.043 1010.55 Q58.1217 1005.94 63.9319 1005.94 Z\" fill=\"#000000\" fill-rule=\"nonzero\" fill-opacity=\"1\" /><path clip-path=\"url(#clip650)\" d=\"M84.0938 1035.25 L88.978 1035.25 L88.978 1041.13 L84.0938 1041.13 L84.0938 1035.25 Z\" fill=\"#000000\" fill-rule=\"nonzero\" fill-opacity=\"1\" /><path clip-path=\"url(#clip650)\" d=\"M103.191 1037.19 L119.51 1037.19 L119.51 1041.13 L97.566 1041.13 L97.566 1037.19 Q100.228 1034.44 104.811 1029.81 Q109.418 1025.15 110.598 1023.81 Q112.844 1021.29 113.723 1019.55 Q114.626 1017.79 114.626 1016.1 Q114.626 1013.35 112.682 1011.61 Q110.76 1009.88 107.658 1009.88 Q105.459 1009.88 103.006 1010.64 Q100.575 1011.4 97.7974 1012.96 L97.7974 1008.23 Q100.621 1007.1 103.075 1006.52 Q105.529 1005.94 107.566 1005.94 Q112.936 1005.94 116.131 1008.63 Q119.325 1011.31 119.325 1015.8 Q119.325 1017.93 118.515 1019.85 Q117.728 1021.75 115.621 1024.34 Q115.043 1025.02 111.941 1028.23 Q108.839 1031.43 103.191 1037.19 Z\" fill=\"#000000\" fill-rule=\"nonzero\" fill-opacity=\"1\" /><path clip-path=\"url(#clip650)\" d=\"M129.371 1006.57 L147.728 1006.57 L147.728 1010.5 L133.654 1010.5 L133.654 1018.97 Q134.672 1018.63 135.691 1018.46 Q136.709 1018.28 137.728 1018.28 Q143.515 1018.28 146.894 1021.45 Q150.274 1024.62 150.274 1030.04 Q150.274 1035.62 146.802 1038.72 Q143.33 1041.8 137.01 1041.8 Q134.834 1041.8 132.566 1041.43 Q130.32 1041.06 127.913 1040.32 L127.913 1035.62 Q129.996 1036.75 132.219 1037.31 Q134.441 1037.86 136.918 1037.86 Q140.922 1037.86 143.26 1035.76 Q145.598 1033.65 145.598 1030.04 Q145.598 1026.43 143.26 1024.32 Q140.922 1022.21 136.918 1022.21 Q135.043 1022.21 133.168 1022.63 Q131.316 1023.05 129.371 1023.93 L129.371 1006.57 Z\" fill=\"#000000\" fill-rule=\"nonzero\" fill-opacity=\"1\" /><path clip-path=\"url(#clip650)\" d=\"M62.9365 752.645 Q59.3254 752.645 57.4967 756.209 Q55.6912 759.751 55.6912 766.881 Q55.6912 773.987 57.4967 777.552 Q59.3254 781.094 62.9365 781.094 Q66.5707 781.094 68.3763 777.552 Q70.205 773.987 70.205 766.881 Q70.205 759.751 68.3763 756.209 Q66.5707 752.645 62.9365 752.645 M62.9365 748.941 Q68.7467 748.941 71.8022 753.547 Q74.8809 758.131 74.8809 766.881 Q74.8809 775.608 71.8022 780.214 Q68.7467 784.797 62.9365 784.797 Q57.1264 784.797 54.0477 780.214 Q50.9921 775.608 50.9921 766.881 Q50.9921 758.131 54.0477 753.547 Q57.1264 748.941 62.9365 748.941 Z\" fill=\"#000000\" fill-rule=\"nonzero\" fill-opacity=\"1\" /><path clip-path=\"url(#clip650)\" d=\"M83.0984 778.246 L87.9827 778.246 L87.9827 784.126 L83.0984 784.126 L83.0984 778.246 Z\" fill=\"#000000\" fill-rule=\"nonzero\" fill-opacity=\"1\" /><path clip-path=\"url(#clip650)\" d=\"M98.2141 749.566 L116.57 749.566 L116.57 753.501 L102.496 753.501 L102.496 761.973 Q103.515 761.626 104.534 761.464 Q105.552 761.279 106.571 761.279 Q112.358 761.279 115.737 764.45 Q119.117 767.621 119.117 773.038 Q119.117 778.617 115.645 781.719 Q112.172 784.797 105.853 784.797 Q103.677 784.797 101.409 784.427 Q99.1632 784.057 96.7558 783.316 L96.7558 778.617 Q98.8391 779.751 101.061 780.307 Q103.284 780.862 105.76 780.862 Q109.765 780.862 112.103 778.756 Q114.441 776.649 114.441 773.038 Q114.441 769.427 112.103 767.321 Q109.765 765.214 105.76 765.214 Q103.885 765.214 102.01 765.631 Q100.159 766.047 98.2141 766.927 L98.2141 749.566 Z\" fill=\"#000000\" fill-rule=\"nonzero\" fill-opacity=\"1\" /><path clip-path=\"url(#clip650)\" d=\"M138.33 752.645 Q134.719 752.645 132.89 756.209 Q131.084 759.751 131.084 766.881 Q131.084 773.987 132.89 777.552 Q134.719 781.094 138.33 781.094 Q141.964 781.094 143.769 777.552 Q145.598 773.987 145.598 766.881 Q145.598 759.751 143.769 756.209 Q141.964 752.645 138.33 752.645 M138.33 748.941 Q144.14 748.941 147.195 753.547 Q150.274 758.131 150.274 766.881 Q150.274 775.608 147.195 780.214 Q144.14 784.797 138.33 784.797 Q132.519 784.797 129.441 780.214 Q126.385 775.608 126.385 766.881 Q126.385 758.131 129.441 753.547 Q132.519 748.941 138.33 748.941 Z\" fill=\"#000000\" fill-rule=\"nonzero\" fill-opacity=\"1\" /><path clip-path=\"url(#clip650)\" d=\"M63.9319 495.644 Q60.3208 495.644 58.4921 499.209 Q56.6865 502.75 56.6865 509.88 Q56.6865 516.986 58.4921 520.551 Q60.3208 524.093 63.9319 524.093 Q67.5661 524.093 69.3717 520.551 Q71.2004 516.986 71.2004 509.88 Q71.2004 502.75 69.3717 499.209 Q67.5661 495.644 63.9319 495.644 M63.9319 491.94 Q69.742 491.94 72.7976 496.547 Q75.8763 501.13 75.8763 509.88 Q75.8763 518.607 72.7976 523.213 Q69.742 527.797 63.9319 527.797 Q58.1217 527.797 55.043 523.213 Q51.9875 518.607 51.9875 509.88 Q51.9875 501.13 55.043 496.547 Q58.1217 491.94 63.9319 491.94 Z\" fill=\"#000000\" fill-rule=\"nonzero\" fill-opacity=\"1\" /><path clip-path=\"url(#clip650)\" d=\"M84.0938 521.246 L88.978 521.246 L88.978 527.125 L84.0938 527.125 L84.0938 521.246 Z\" fill=\"#000000\" fill-rule=\"nonzero\" fill-opacity=\"1\" /><path clip-path=\"url(#clip650)\" d=\"M97.9826 492.565 L120.205 492.565 L120.205 494.556 L107.658 527.125 L102.774 527.125 L114.58 496.5 L97.9826 496.5 L97.9826 492.565 Z\" fill=\"#000000\" fill-rule=\"nonzero\" fill-opacity=\"1\" /><path clip-path=\"url(#clip650)\" d=\"M129.371 492.565 L147.728 492.565 L147.728 496.5 L133.654 496.5 L133.654 504.973 Q134.672 504.625 135.691 504.463 Q136.709 504.278 137.728 504.278 Q143.515 504.278 146.894 507.449 Q150.274 510.621 150.274 516.037 Q150.274 521.616 146.802 524.718 Q143.33 527.797 137.01 527.797 Q134.834 527.797 132.566 527.426 Q130.32 527.056 127.913 526.315 L127.913 521.616 Q129.996 522.75 132.219 523.306 Q134.441 523.861 136.918 523.861 Q140.922 523.861 143.26 521.755 Q145.598 519.648 145.598 516.037 Q145.598 512.426 143.26 510.32 Q140.922 508.213 136.918 508.213 Q135.043 508.213 133.168 508.63 Q131.316 509.047 129.371 509.926 L129.371 492.565 Z\" fill=\"#000000\" fill-rule=\"nonzero\" fill-opacity=\"1\" /><path clip-path=\"url(#clip650)\" d=\"M53.7467 266.189 L61.3856 266.189 L61.3856 239.824 L53.0754 241.491 L53.0754 237.231 L61.3393 235.565 L66.0152 235.565 L66.0152 266.189 L73.654 266.189 L73.654 270.125 L53.7467 270.125 L53.7467 266.189 Z\" fill=\"#000000\" fill-rule=\"nonzero\" fill-opacity=\"1\" /><path clip-path=\"url(#clip650)\" d=\"M83.0984 264.245 L87.9827 264.245 L87.9827 270.125 L83.0984 270.125 L83.0984 264.245 Z\" fill=\"#000000\" fill-rule=\"nonzero\" fill-opacity=\"1\" /><path clip-path=\"url(#clip650)\" d=\"M108.168 238.643 Q104.557 238.643 102.728 242.208 Q100.922 245.75 100.922 252.879 Q100.922 259.986 102.728 263.551 Q104.557 267.092 108.168 267.092 Q111.802 267.092 113.608 263.551 Q115.436 259.986 115.436 252.879 Q115.436 245.75 113.608 242.208 Q111.802 238.643 108.168 238.643 M108.168 234.94 Q113.978 234.94 117.033 239.546 Q120.112 244.129 120.112 252.879 Q120.112 261.606 117.033 266.213 Q113.978 270.796 108.168 270.796 Q102.358 270.796 99.2789 266.213 Q96.2234 261.606 96.2234 252.879 Q96.2234 244.129 99.2789 239.546 Q102.358 234.94 108.168 234.94 Z\" fill=\"#000000\" fill-rule=\"nonzero\" fill-opacity=\"1\" /><path clip-path=\"url(#clip650)\" d=\"M138.33 238.643 Q134.719 238.643 132.89 242.208 Q131.084 245.75 131.084 252.879 Q131.084 259.986 132.89 263.551 Q134.719 267.092 138.33 267.092 Q141.964 267.092 143.769 263.551 Q145.598 259.986 145.598 252.879 Q145.598 245.75 143.769 242.208 Q141.964 238.643 138.33 238.643 M138.33 234.94 Q144.14 234.94 147.195 239.546 Q150.274 244.129 150.274 252.879 Q150.274 261.606 147.195 266.213 Q144.14 270.796 138.33 270.796 Q132.519 270.796 129.441 266.213 Q126.385 261.606 126.385 252.879 Q126.385 244.129 129.441 239.546 Q132.519 234.94 138.33 234.94 Z\" fill=\"#000000\" fill-rule=\"nonzero\" fill-opacity=\"1\" /><circle clip-path=\"url(#clip652)\" cx=\"247.59\" cy=\"1280.85\" r=\"14.4\" fill=\"#009af9\" fill-rule=\"evenodd\" fill-opacity=\"1\" stroke=\"#000000\" stroke-opacity=\"1\" stroke-width=\"3.2\"/>\n",
       "<circle clip-path=\"url(#clip652)\" cx=\"588.231\" cy=\"1280.85\" r=\"14.4\" fill=\"#009af9\" fill-rule=\"evenodd\" fill-opacity=\"1\" stroke=\"#000000\" stroke-opacity=\"1\" stroke-width=\"3.2\"/>\n",
       "<circle clip-path=\"url(#clip652)\" cx=\"928.873\" cy=\"766.846\" r=\"14.4\" fill=\"#009af9\" fill-rule=\"evenodd\" fill-opacity=\"1\" stroke=\"#000000\" stroke-opacity=\"1\" stroke-width=\"3.2\"/>\n",
       "<circle clip-path=\"url(#clip652)\" cx=\"1269.51\" cy=\"972.447\" r=\"14.4\" fill=\"#009af9\" fill-rule=\"evenodd\" fill-opacity=\"1\" stroke=\"#000000\" stroke-opacity=\"1\" stroke-width=\"3.2\"/>\n",
       "<circle clip-path=\"url(#clip652)\" cx=\"1610.16\" cy=\"1075.25\" r=\"14.4\" fill=\"#009af9\" fill-rule=\"evenodd\" fill-opacity=\"1\" stroke=\"#000000\" stroke-opacity=\"1\" stroke-width=\"3.2\"/>\n",
       "<circle clip-path=\"url(#clip652)\" cx=\"1950.8\" cy=\"1280.85\" r=\"14.4\" fill=\"#009af9\" fill-rule=\"evenodd\" fill-opacity=\"1\" stroke=\"#000000\" stroke-opacity=\"1\" stroke-width=\"3.2\"/>\n",
       "<circle clip-path=\"url(#clip652)\" cx=\"2291.44\" cy=\"1280.85\" r=\"14.4\" fill=\"#009af9\" fill-rule=\"evenodd\" fill-opacity=\"1\" stroke=\"#000000\" stroke-opacity=\"1\" stroke-width=\"3.2\"/>\n",
       "<path clip-path=\"url(#clip650)\" d=\"M2011.46 198.898 L2280.54 198.898 L2280.54 95.2176 L2011.46 95.2176  Z\" fill=\"#ffffff\" fill-rule=\"evenodd\" fill-opacity=\"1\"/>\n",
       "<polyline clip-path=\"url(#clip650)\" style=\"stroke:#000000; stroke-linecap:round; stroke-linejoin:round; stroke-width:4; stroke-opacity:1; fill:none\" points=\"2011.46,198.898 2280.54,198.898 2280.54,95.2176 2011.46,95.2176 2011.46,198.898 \"/>\n",
       "<circle clip-path=\"url(#clip650)\" cx=\"2107.75\" cy=\"147.058\" r=\"20.48\" fill=\"#009af9\" fill-rule=\"evenodd\" fill-opacity=\"1\" stroke=\"#000000\" stroke-opacity=\"1\" stroke-width=\"4.55111\"/>\n",
       "<path clip-path=\"url(#clip650)\" d=\"M2217.88 166.745 Q2216.07 171.375 2214.36 172.787 Q2212.65 174.199 2209.78 174.199 L2206.38 174.199 L2206.38 170.634 L2208.88 170.634 Q2210.63 170.634 2211.61 169.8 Q2212.58 168.967 2213.76 165.865 L2214.52 163.921 L2204.04 138.412 L2208.55 138.412 L2216.65 158.689 L2224.76 138.412 L2229.27 138.412 L2217.88 166.745 Z\" fill=\"#000000\" fill-rule=\"nonzero\" fill-opacity=\"1\" /><path clip-path=\"url(#clip650)\" d=\"M2236.56 160.402 L2244.2 160.402 L2244.2 134.037 L2235.89 135.703 L2235.89 131.444 L2244.15 129.778 L2248.83 129.778 L2248.83 160.402 L2256.47 160.402 L2256.47 164.338 L2236.56 164.338 L2236.56 160.402 Z\" fill=\"#000000\" fill-rule=\"nonzero\" fill-opacity=\"1\" /></svg>\n"
      ]
     },
     "metadata": {},
     "output_type": "display_data"
    }
   ],
   "source": [
    "p_y = scatter(1:7, y, ylimits=(-0.2, 1.2))"
   ]
  },
  {
   "cell_type": "code",
   "execution_count": 9,
   "metadata": {},
   "outputs": [
    {
     "data": {
      "text/plain": [
       "fir_ct1 (generic function with 1 method)"
      ]
     },
     "metadata": {},
     "output_type": "display_data"
    }
   ],
   "source": [
    "function fir_ct1(b::NTuple{m,T}, x::Vector{T}) where {m,T}\n",
    "    y = similar(x)\n",
    "\n",
    "    for i in 1:length(x)\n",
    "        if i < m\n",
    "            y[i] = x[i]\n",
    "        else\n",
    "            sum = 0.0\n",
    "            for k in 1:m\n",
    "                sum += b[k] * x[i-(k-1)]\n",
    "            end\n",
    "            y[i] = sum\n",
    "        end\n",
    "    end\n",
    "    return y\n",
    "end"
   ]
  },
  {
   "cell_type": "code",
   "execution_count": 10,
   "metadata": {},
   "outputs": [
    {
     "data": {
      "text/plain": [
       "(0.5, 0.3, 0.2)"
      ]
     },
     "metadata": {},
     "output_type": "display_data"
    }
   ],
   "source": [
    "bt = (0.5, 0.3, 0.2)"
   ]
  },
  {
   "cell_type": "code",
   "execution_count": 11,
   "metadata": {},
   "outputs": [
    {
     "data": {
      "text/plain": [
       "true"
      ]
     },
     "metadata": {},
     "output_type": "display_data"
    }
   ],
   "source": [
    "fir_ct1(bt, x) ≈ y"
   ]
  },
  {
   "cell_type": "code",
   "execution_count": 12,
   "metadata": {},
   "outputs": [],
   "source": [
    "using CompTime"
   ]
  },
  {
   "cell_type": "code",
   "execution_count": 13,
   "metadata": {},
   "outputs": [],
   "source": [
    "include(\"MacroUtils.jl\")\n",
    "using .MacroUtils: cleanup"
   ]
  },
  {
   "cell_type": "code",
   "execution_count": 14,
   "metadata": {},
   "outputs": [
    {
     "data": {
      "text/plain": [
       "runtime (generic function with 1 method)"
      ]
     },
     "metadata": {},
     "output_type": "display_data"
    }
   ],
   "source": [
    "@ct_enable function fir_ct2(b::NTuple{m, T}, x::Vector{T}) where {m, T}\n",
    "    y = similar(x)\n",
    "\n",
    "    for i in 1:length(x)\n",
    "        if i < m\n",
    "            y[i] = x[i]\n",
    "        else\n",
    "            sum = 0.0\n",
    "            for k in 1:m\n",
    "                sum += b[k] * x[i-(k-1)]\n",
    "            end\n",
    "            y[i] = sum\n",
    "        end\n",
    "    end\n",
    "    return y\n",
    "end"
   ]
  },
  {
   "cell_type": "code",
   "execution_count": 15,
   "metadata": {},
   "outputs": [
    {
     "data": {
      "text/plain": [
       "true"
      ]
     },
     "metadata": {},
     "output_type": "display_data"
    }
   ],
   "source": [
    "fir_ct2(bt, x) ≈ y"
   ]
  },
  {
   "cell_type": "code",
   "execution_count": 16,
   "metadata": {},
   "outputs": [
    {
     "data": {
      "text/plain": [
       "runtime (generic function with 2 methods)"
      ]
     },
     "metadata": {},
     "output_type": "display_data"
    }
   ],
   "source": [
    "@ct_enable function fir_ct3(b::NTuple{m, T}, x::Vector{T}) where {m, T}\n",
    "    y = similar(x)\n",
    "\n",
    "    for i in 1:length(x)\n",
    "        if i < m\n",
    "            y[i] = x[i]\n",
    "        else\n",
    "            sum = 0.0\n",
    "            @ct_ctrl for k in 1:m\n",
    "                sum += b[@ct k] * x[i- @ct(k-1)]\n",
    "            end\n",
    "            y[i] = sum\n",
    "        end\n",
    "    end\n",
    "    return y\n",
    "end"
   ]
  },
  {
   "cell_type": "code",
   "execution_count": 17,
   "metadata": {},
   "outputs": [
    {
     "data": {
      "text/plain": [
       "true"
      ]
     },
     "metadata": {},
     "output_type": "display_data"
    }
   ],
   "source": [
    "fir_ct3(bt, x) ≈ y"
   ]
  },
  {
   "cell_type": "code",
   "execution_count": 18,
   "metadata": {},
   "outputs": [
    {
     "data": {
      "text/plain": [
       "quote\n",
       "    y = similar(x)\n",
       "    for i = 1:length(x)\n",
       "        if i < m\n",
       "            y[i] = x[i]\n",
       "        else\n",
       "            sum = 0.0\n",
       "            sum += b[1] * x[i - 0]\n",
       "            sum += b[2] * x[i - 1]\n",
       "            sum += b[3] * x[i - 2]\n",
       "            y[i] = sum\n",
       "        end\n",
       "    end\n",
       "    return y\n",
       "end"
      ]
     },
     "metadata": {},
     "output_type": "display_data"
    }
   ],
   "source": [
    "debug(fir_ct3, bt, x) |> cleanup"
   ]
  },
  {
   "cell_type": "code",
   "execution_count": 19,
   "metadata": {},
   "outputs": [
    {
     "data": {
      "text/plain": [
       "runtime (generic function with 3 methods)"
      ]
     },
     "metadata": {},
     "output_type": "display_data"
    }
   ],
   "source": [
    "@ct_enable function fir_ct4(@ct(b), x)\n",
    "    @ct m = length(b)\n",
    "    y = similar(x)\n",
    "\n",
    "    for i in 1:length(x)\n",
    "        if i < @ct(m)\n",
    "            y[i] = x[i]\n",
    "        else\n",
    "            sum = 0.0\n",
    "            @ct_ctrl for k in 1:m\n",
    "                sum += @ct(b[k]) * x[i- @ct(k-1)]\n",
    "            end\n",
    "            y[i] = sum\n",
    "        end\n",
    "    end\n",
    "    return y\n",
    "end"
   ]
  },
  {
   "cell_type": "code",
   "execution_count": 20,
   "metadata": {},
   "outputs": [
    {
     "data": {
      "text/plain": [
       "true"
      ]
     },
     "metadata": {},
     "output_type": "display_data"
    }
   ],
   "source": [
    "fir_ct4(Val{bt}, x) ≈ y"
   ]
  },
  {
   "cell_type": "code",
   "execution_count": 21,
   "metadata": {},
   "outputs": [
    {
     "data": {
      "text/plain": [
       "quote\n",
       "    y = similar(x)\n",
       "    for i = 1:length(x)\n",
       "        if i < 3\n",
       "            y[i] = x[i]\n",
       "        else\n",
       "            sum = 0.0\n",
       "            sum += 0.5 * x[i - 0]\n",
       "            sum += 0.3 * x[i - 1]\n",
       "            sum += 0.2 * x[i - 2]\n",
       "            y[i] = sum\n",
       "        end\n",
       "    end\n",
       "    return y\n",
       "end"
      ]
     },
     "metadata": {},
     "output_type": "display_data"
    }
   ],
   "source": [
    "debug(fir_ct4, Val{bt}, x) |> cleanup"
   ]
  }
 ],
 "metadata": {
  "kernelspec": {
   "display_name": "Julia 1.11.3",
   "language": "julia",
   "name": "julia-1.11"
  },
  "language_info": {
   "file_extension": ".jl",
   "mimetype": "application/julia",
   "name": "julia",
   "version": "1.11.3"
  }
 },
 "nbformat": 4,
 "nbformat_minor": 2
}
