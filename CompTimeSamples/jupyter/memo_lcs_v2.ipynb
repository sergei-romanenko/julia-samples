{
 "cells": [
  {
   "cell_type": "markdown",
   "metadata": {},
   "source": [
    "# Longest Common Subsequence"
   ]
  },
  {
   "cell_type": "markdown",
   "metadata": {},
   "source": [
    "Заданы две строки s1 и s2. Требуется найти длину самой длинной общей подпоследовательности. Если общей подпоследовательности нет - выдать 0.\n",
    "\n",
    "Подпоследовательность - это строка, сгенерированная из исходной строки путем удаления 0 или более символов и без изменения относительного порядка остальных символов.\n",
    "\n",
    "Например, подпоследовательностями “ABC” являются “”, “A”, “B”, “C”, “AB”, “AC”, “BC” и “ABC”.\n",
    "\n",
    "В общем случае, строка длины $n$ имеет $2^n$ подпоследовательностей."
   ]
  },
  {
   "cell_type": "markdown",
   "metadata": {},
   "source": [
    "\"Наивный\" алгоритм. Время - $O(2^{\\min(m,n)})$, память - $O(\\min(m, n))$"
   ]
  },
  {
   "cell_type": "code",
   "execution_count": 1,
   "metadata": {},
   "outputs": [
    {
     "data": {
      "text/plain": [
       "lcs (generic function with 2 methods)"
      ]
     },
     "metadata": {},
     "output_type": "display_data"
    }
   ],
   "source": [
    "# A Naive recursive implementation of LCS problem\n",
    "\n",
    "# Returns length of LCS for s1[1:i], s2[1:j]\n",
    "function lcs(i, j, s1, s2)\n",
    "    if (i == 0 || j == 0)\n",
    "        0\n",
    "    elseif (s1[i] == s2[j])\n",
    "        1 + lcs(i - 1, j - 1, s1, s2)\n",
    "    else\n",
    "        max(lcs(i, j - 1, s1, s2), lcs(i - 1, j, s1, s2))\n",
    "    end\n",
    "end\n",
    "\n",
    "lcs(s1, s2) = lcs(length(s1), length(s2), s1, s2)"
   ]
  },
  {
   "cell_type": "code",
   "execution_count": 2,
   "metadata": {},
   "outputs": [],
   "source": [
    "using Test"
   ]
  },
  {
   "cell_type": "code",
   "execution_count": 3,
   "metadata": {},
   "outputs": [
    {
     "data": {
      "text/plain": [
       "\u001b[32m\u001b[1mTest Passed\u001b[22m\u001b[39m"
      ]
     },
     "metadata": {},
     "output_type": "display_data"
    }
   ],
   "source": [
    "\n",
    "@test lcs(\"ABC\", \"ACD\") == 2\n",
    "# The longest common subsequence is “GTAB”.\n",
    "@test lcs(\"AGGTAB\", \"GXTXAYB\") == 4\n",
    "@test lcs(\"ABC\", \"CBA\") == 1"
   ]
  },
  {
   "cell_type": "markdown",
   "metadata": {},
   "source": [
    "## Мемоизация"
   ]
  },
  {
   "cell_type": "markdown",
   "metadata": {},
   "source": [
    "Алгоритм с мемоизацией. Время - $O(m * n)$, память - $O(m * n)$."
   ]
  },
  {
   "cell_type": "code",
   "execution_count": 4,
   "metadata": {},
   "outputs": [
    {
     "data": {
      "text/plain": [
       "lcs_memo (generic function with 1 method)"
      ]
     },
     "metadata": {},
     "output_type": "display_data"
    }
   ],
   "source": [
    "# A recursive solution of LCS problem with memoization\n",
    "\n",
    "function lcs_memo(d, i, j, s1, s2)\n",
    "    haskey(d, (i, j)) && return d[(i, j)]\n",
    "\n",
    "    if (i == 0 || j == 0)\n",
    "        d[(i, j)] = 0\n",
    "    else\n",
    "        if (s1[i] == s2[j])\n",
    "            d[(i, j)] = 1 + lcs_memo(d, i - 1, j - 1, s1, s2)\n",
    "        else\n",
    "            d[(i, j)] = max(lcs_memo(d, i, j - 1, s1, s2), lcs_memo(d, i - 1, j, s1, s2))\n",
    "        end\n",
    "    end\n",
    "end"
   ]
  },
  {
   "cell_type": "code",
   "execution_count": 5,
   "metadata": {},
   "outputs": [
    {
     "data": {
      "text/plain": [
       "lcs_memo (generic function with 2 methods)"
      ]
     },
     "metadata": {},
     "output_type": "display_data"
    }
   ],
   "source": [
    "function lcs_memo(s1, s2)\n",
    "    d = Dict{Tuple{Int,Int},Int}()\n",
    "    lcs_memo(d, length(s1), length(s2), s1, s2)\n",
    "end"
   ]
  },
  {
   "cell_type": "code",
   "execution_count": 6,
   "metadata": {},
   "outputs": [
    {
     "data": {
      "text/plain": [
       "\u001b[32m\u001b[1mTest Passed\u001b[22m\u001b[39m"
      ]
     },
     "metadata": {},
     "output_type": "display_data"
    }
   ],
   "source": [
    "@test lcs_memo(\"ABC\", \"ACD\") == 2\n",
    "# The longest common subsequence is “GTAB”.\n",
    "@test lcs_memo(\"AGGTAB\", \"GXTXAYB\") == 4\n",
    "@test lcs_memo(\"ABC\", \"CBA\") == 1"
   ]
  },
  {
   "cell_type": "markdown",
   "metadata": {},
   "source": [
    "## Специализация по `i` и `j`"
   ]
  },
  {
   "cell_type": "markdown",
   "metadata": {},
   "source": [
    "- Peter Thiemann. 1999. **Combinators for program generation.** J. Funct. Program. 9, 5 (September 1999), 483–525. https://doi.org/10.1017/S0956796899003469\n",
    "\n",
    "- Kedar Swadi, Walid Taha, Oleg Kiselyov. 2005. **Staging dynamic programming algorithms**. Unpublished manuscript (April 2005), available from: <http://www.cs.rice.edu/~taha/publications.html>.\n",
    "\n",
    "- Yukiyoshi Kameyama, Oleg Kiselyov, and Chung-chieh Shan. 2009. **Shifting the stage: staging with delimited control.** In Proceedings of the 2009 ACM SIGPLAN workshop on Partial evaluation and program manipulation (PEPM '09). Association for Computing Machinery, New York, NY, USA, 111–120. <https://doi.org/10.1145/1480945.1480962>\n",
    "\n",
    "- Oleg Kiselyov. 2010. **Delimited control in OCaml, abstractly and concretely: system description.** In Proceedings of the 10th international conference on Functional and Logic Programming (FLOPS'10). Springer-Verlag, Berlin, Heidelberg, 304–320. https://doi.org/10.1007/978-3-642-12251-4_22"
   ]
  },
  {
   "cell_type": "code",
   "execution_count": 7,
   "metadata": {},
   "outputs": [],
   "source": [
    "using MacroTools: prettify"
   ]
  },
  {
   "cell_type": "markdown",
   "metadata": {},
   "source": [
    "\"Наивный\" генератор. Получается одно громадное выражение, в котором есть совпадающие подвыражения."
   ]
  },
  {
   "cell_type": "code",
   "execution_count": 8,
   "metadata": {},
   "outputs": [
    {
     "data": {
      "text/plain": [
       "lcs_gen_n (generic function with 1 method)"
      ]
     },
     "metadata": {},
     "output_type": "display_data"
    }
   ],
   "source": [
    "function lcs_gen_n(i, j)\n",
    "    if (i == 0 || j == 0)\n",
    "        0\n",
    "    else\n",
    "        quote\n",
    "            if (s1[$i] == s2[$j])\n",
    "                1 + $(lcs_gen_n(i - 1, j - 1))\n",
    "            else\n",
    "                max($(lcs_gen_n(i, j - 1)), $(lcs_gen_n(i - 1, j)))\n",
    "            end\n",
    "        end\n",
    "    end\n",
    "end"
   ]
  },
  {
   "cell_type": "code",
   "execution_count": 9,
   "metadata": {},
   "outputs": [
    {
     "data": {
      "text/plain": [
       ":(if s1[2] == s2[3]\n",
       "      1 + if s1[1] == s2[2]\n",
       "              1 + 0\n",
       "          else\n",
       "              max(if s1[1] == s2[1]\n",
       "                      1 + 0\n",
       "                  else\n",
       "                      max(0, 0)\n",
       "                  end, 0)\n",
       "          end\n",
       "  else\n",
       "      max(if s1[2] == s2[2]\n",
       "              1 + if s1[1] == s2[1]\n",
       "                      1 + 0\n",
       "                  else\n",
       "                      max(0, 0)\n",
       "                  end\n",
       "          else\n",
       "              max(if s1[2] == s2[1]\n",
       "                      1 + 0\n",
       "                  else\n",
       "                      max(0, if s1[1] == s2[1]\n",
       "                              1 + 0\n",
       "                          else\n",
       "                              max(0, 0)\n",
       "                          end)\n",
       "                  end, if s1[1] == s2[2]\n",
       "                      1 + 0\n",
       "                  else\n",
       "                      max(if s1[1] == s2[1]\n",
       "                              1 + 0\n",
       "                          else\n",
       "                              max(0, 0)\n",
       "                          end, 0)\n",
       "                  end)\n",
       "          end, if s1[1] == s2[3]\n",
       "              1 + 0\n",
       "          else\n",
       "              max(if s1[1] == s2[2]\n",
       "                      1 + 0\n",
       "                  else\n",
       "                      max(if s1[1] == s2[1]\n",
       "                              1 + 0\n",
       "                          else\n",
       "                              max(0, 0)\n",
       "                          end, 0)\n",
       "                  end, 0)\n",
       "          end)\n",
       "  end)"
      ]
     },
     "metadata": {},
     "output_type": "display_data"
    }
   ],
   "source": [
    "lcs_gen_n(2, 3) |> prettify"
   ]
  },
  {
   "cell_type": "markdown",
   "metadata": {},
   "source": [
    "Не очень хорошо, когда выражения получаются слишком большими. (Это может \"взорвать\" компилятор, и читать трудно.)\n",
    "\n",
    "Посему, введём переменные для промежуточных результатов.\n",
    "\n",
    "Ну, а ещё - введение переменных - это подготовка мемоизации."
   ]
  },
  {
   "cell_type": "markdown",
   "metadata": {},
   "source": [
    "## Присваивания для промежуточных результатов"
   ]
  },
  {
   "cell_type": "code",
   "execution_count": 10,
   "metadata": {},
   "outputs": [
    {
     "data": {
      "text/plain": [
       "ij2var (generic function with 1 method)"
      ]
     },
     "metadata": {},
     "output_type": "display_data"
    }
   ],
   "source": [
    "ij2var(i, j) = Symbol(\"r_\", i, \"_\", j)"
   ]
  },
  {
   "cell_type": "code",
   "execution_count": 11,
   "metadata": {},
   "outputs": [
    {
     "data": {
      "text/plain": [
       "lcs_gen_impl_v (generic function with 1 method)"
      ]
     },
     "metadata": {},
     "output_type": "display_data"
    }
   ],
   "source": [
    "function lcs_gen_impl_v(i, j)\n",
    "    if (i == 0 || j == 0)\n",
    "        0\n",
    "    else\n",
    "        r0 = ij2var(i - 1, j - 1)\n",
    "        r1 = ij2var(i, j - 1)\n",
    "        r2 = ij2var(i - 1, j)\n",
    "        quote\n",
    "            if (s1[$i] == s2[$j])\n",
    "                $r0 = $(lcs_gen_impl_v(i - 1, j - 1))\n",
    "                1 + $r0\n",
    "            else\n",
    "                $r1 = $(lcs_gen_impl_v(i, j - 1))\n",
    "                $r2 = $(lcs_gen_impl_v(i - 1, j))\n",
    "                max($r1, $r2)\n",
    "            end\n",
    "        end\n",
    "    end\n",
    "end"
   ]
  },
  {
   "cell_type": "code",
   "execution_count": 12,
   "metadata": {},
   "outputs": [
    {
     "data": {
      "text/plain": [
       ":(if s1[2] == s2[3]\n",
       "      r_1_2 = if s1[1] == s2[2]\n",
       "              r_0_1 = 0\n",
       "              1 + r_0_1\n",
       "          else\n",
       "              r_1_1 = if s1[1] == s2[1]\n",
       "                      r_0_0 = 0\n",
       "                      1 + r_0_0\n",
       "                  else\n",
       "                      r_1_0 = 0\n",
       "                      r_0_1 = 0\n",
       "                      max(r_1_0, r_0_1)\n",
       "                  end\n",
       "              r_0_2 = 0\n",
       "              max(r_1_1, r_0_2)\n",
       "          end\n",
       "      1 + r_1_2\n",
       "  else\n",
       "      r_2_2 = if s1[2] == s2[2]\n",
       "              r_1_1 = if s1[1] == s2[1]\n",
       "                      r_0_0 = 0\n",
       "                      1 + r_0_0\n",
       "                  else\n",
       "                      r_1_0 = 0\n",
       "                      r_0_1 = 0\n",
       "                      max(r_1_0, r_0_1)\n",
       "                  end\n",
       "              1 + r_1_1\n",
       "          else\n",
       "              r_2_1 = if s1[2] == s2[1]\n",
       "                      r_1_0 = 0\n",
       "                      1 + r_1_0\n",
       "                  else\n",
       "                      r_2_0 = 0\n",
       "                      r_1_1 = if s1[1] == s2[1]\n",
       "                              r_0_0 = 0\n",
       "                              1 + r_0_0\n",
       "                          else\n",
       "                              r_1_0 = 0\n",
       "                              r_0_1 = 0\n",
       "                              max(r_1_0, r_0_1)\n",
       "                          end\n",
       "                      max(r_2_0, r_1_1)\n",
       "                  end\n",
       "              r_1_2 = if s1[1] == s2[2]\n",
       "                      r_0_1 = 0\n",
       "                      1 + r_0_1\n",
       "                  else\n",
       "                      r_1_1 = if s1[1] == s2[1]\n",
       "                              r_0_0 = 0\n",
       "                              1 + r_0_0\n",
       "                          else\n",
       "                              r_1_0 = 0\n",
       "                              r_0_1 = 0\n",
       "                              max(r_1_0, r_0_1)\n",
       "                          end\n",
       "                      r_0_2 = 0\n",
       "                      max(r_1_1, r_0_2)\n",
       "                  end\n",
       "              max(r_2_1, r_1_2)\n",
       "          end\n",
       "      r_1_3 = if s1[1] == s2[3]\n",
       "              r_0_2 = 0\n",
       "              1 + r_0_2\n",
       "          else\n",
       "              r_1_2 = if s1[1] == s2[2]\n",
       "                      r_0_1 = 0\n",
       "                      1 + r_0_1\n",
       "                  else\n",
       "                      r_1_1 = if s1[1] == s2[1]\n",
       "                              r_0_0 = 0\n",
       "                              1 + r_0_0\n",
       "                          else\n",
       "                              r_1_0 = 0\n",
       "                              r_0_1 = 0\n",
       "                              max(r_1_0, r_0_1)\n",
       "                          end\n",
       "                      r_0_2 = 0\n",
       "                      max(r_1_1, r_0_2)\n",
       "                  end\n",
       "              r_0_3 = 0\n",
       "              max(r_1_2, r_0_3)\n",
       "          end\n",
       "      max(r_2_2, r_1_3)\n",
       "  end)"
      ]
     },
     "metadata": {},
     "output_type": "display_data"
    }
   ],
   "source": [
    "lcs_gen_impl_v(2, 3) |> prettify"
   ]
  },
  {
   "cell_type": "markdown",
   "metadata": {},
   "source": [
    "Недостаток сгенерированной программы в том, что одни и те же выражения повторяются в программе несколько раз."
   ]
  },
  {
   "cell_type": "code",
   "execution_count": 13,
   "metadata": {},
   "outputs": [
    {
     "data": {
      "text/plain": [
       "lcs_gen_v (generic function with 1 method)"
      ]
     },
     "metadata": {},
     "output_type": "display_data"
    }
   ],
   "source": [
    "@generated function lcs_gen_v(::Val{i}, ::Val{j}, s1, s2) where {i,j}\n",
    "    lcs_gen_impl_v(i, j)\n",
    "end"
   ]
  },
  {
   "cell_type": "code",
   "execution_count": 14,
   "metadata": {},
   "outputs": [
    {
     "data": {
      "text/plain": [
       "lcs_gen_v (generic function with 2 methods)"
      ]
     },
     "metadata": {},
     "output_type": "display_data"
    }
   ],
   "source": [
    "function lcs_gen_v(s1, s2)\n",
    "    lcs_gen_v(Val(length(s1)), Val(length(s2)), s1, s2)\n",
    "end"
   ]
  },
  {
   "cell_type": "code",
   "execution_count": 15,
   "metadata": {},
   "outputs": [
    {
     "data": {
      "text/plain": [
       "\u001b[32m\u001b[1mTest Passed\u001b[22m\u001b[39m"
      ]
     },
     "metadata": {},
     "output_type": "display_data"
    }
   ],
   "source": [
    "@test lcs_gen_v(\"ABC\", \"ACD\") == 2\n",
    "# The longest common subsequence is “GTAB”.\n",
    "# @test lcs_gen_v(\"AGGTAB\", \"GXTXAYB\") == 4\n",
    "@test lcs_gen_v(\"ABC\", \"CBA\") == 1"
   ]
  },
  {
   "cell_type": "markdown",
   "metadata": {},
   "source": [
    "Можно вынести присваивания из-под `if (s1[i] == s2[j])`. Тогда будут выполняться лишние вычисления, но асимптотика от этого не изменится."
   ]
  },
  {
   "cell_type": "code",
   "execution_count": 16,
   "metadata": {},
   "outputs": [
    {
     "data": {
      "text/plain": [
       "lcs_gen_impl_u (generic function with 1 method)"
      ]
     },
     "metadata": {},
     "output_type": "display_data"
    }
   ],
   "source": [
    "function lcs_gen_impl_u(i, j)\n",
    "    if (i == 0 || j == 0)\n",
    "        0\n",
    "    else\n",
    "        r0 = ij2var(i - 1, j - 1)\n",
    "        r1 = ij2var(i, j - 1)\n",
    "        r2 = ij2var(i - 1, j)\n",
    "        quote\n",
    "            if (s1[$i] == s2[$j])\n",
    "                $r0 = $(lcs_gen_impl_u(i - 1, j - 1))\n",
    "                1 + $r0\n",
    "            else\n",
    "                $r1 = $(lcs_gen_impl_u(i, j - 1))\n",
    "                $r2 = $(lcs_gen_impl_u(i - 1, j))\n",
    "                max($r1, $r2)\n",
    "            end\n",
    "        end\n",
    "    end\n",
    "end"
   ]
  },
  {
   "cell_type": "code",
   "execution_count": 17,
   "metadata": {},
   "outputs": [
    {
     "data": {
      "text/plain": [
       ":(if s1[2] == s2[3]\n",
       "      r_1_2 = if s1[1] == s2[2]\n",
       "              r_0_1 = 0\n",
       "              1 + r_0_1\n",
       "          else\n",
       "              r_1_1 = if s1[1] == s2[1]\n",
       "                      r_0_0 = 0\n",
       "                      1 + r_0_0\n",
       "                  else\n",
       "                      r_1_0 = 0\n",
       "                      r_0_1 = 0\n",
       "                      max(r_1_0, r_0_1)\n",
       "                  end\n",
       "              r_0_2 = 0\n",
       "              max(r_1_1, r_0_2)\n",
       "          end\n",
       "      1 + r_1_2\n",
       "  else\n",
       "      r_2_2 = if s1[2] == s2[2]\n",
       "              r_1_1 = if s1[1] == s2[1]\n",
       "                      r_0_0 = 0\n",
       "                      1 + r_0_0\n",
       "                  else\n",
       "                      r_1_0 = 0\n",
       "                      r_0_1 = 0\n",
       "                      max(r_1_0, r_0_1)\n",
       "                  end\n",
       "              1 + r_1_1\n",
       "          else\n",
       "              r_2_1 = if s1[2] == s2[1]\n",
       "                      r_1_0 = 0\n",
       "                      1 + r_1_0\n",
       "                  else\n",
       "                      r_2_0 = 0\n",
       "                      r_1_1 = if s1[1] == s2[1]\n",
       "                              r_0_0 = 0\n",
       "                              1 + r_0_0\n",
       "                          else\n",
       "                              r_1_0 = 0\n",
       "                              r_0_1 = 0\n",
       "                              max(r_1_0, r_0_1)\n",
       "                          end\n",
       "                      max(r_2_0, r_1_1)\n",
       "                  end\n",
       "              r_1_2 = if s1[1] == s2[2]\n",
       "                      r_0_1 = 0\n",
       "                      1 + r_0_1\n",
       "                  else\n",
       "                      r_1_1 = if s1[1] == s2[1]\n",
       "                              r_0_0 = 0\n",
       "                              1 + r_0_0\n",
       "                          else\n",
       "                              r_1_0 = 0\n",
       "                              r_0_1 = 0\n",
       "                              max(r_1_0, r_0_1)\n",
       "                          end\n",
       "                      r_0_2 = 0\n",
       "                      max(r_1_1, r_0_2)\n",
       "                  end\n",
       "              max(r_2_1, r_1_2)\n",
       "          end\n",
       "      r_1_3 = if s1[1] == s2[3]\n",
       "              r_0_2 = 0\n",
       "              1 + r_0_2\n",
       "          else\n",
       "              r_1_2 = if s1[1] == s2[2]\n",
       "                      r_0_1 = 0\n",
       "                      1 + r_0_1\n",
       "                  else\n",
       "                      r_1_1 = if s1[1] == s2[1]\n",
       "                              r_0_0 = 0\n",
       "                              1 + r_0_0\n",
       "                          else\n",
       "                              r_1_0 = 0\n",
       "                              r_0_1 = 0\n",
       "                              max(r_1_0, r_0_1)\n",
       "                          end\n",
       "                      r_0_2 = 0\n",
       "                      max(r_1_1, r_0_2)\n",
       "                  end\n",
       "              r_0_3 = 0\n",
       "              max(r_1_2, r_0_3)\n",
       "          end\n",
       "      max(r_2_2, r_1_3)\n",
       "  end)"
      ]
     },
     "metadata": {},
     "output_type": "display_data"
    }
   ],
   "source": [
    "lcs_gen_impl_u(2, 3) |> prettify"
   ]
  },
  {
   "cell_type": "markdown",
   "metadata": {},
   "source": [
    "## Распространение констант"
   ]
  },
  {
   "cell_type": "markdown",
   "metadata": {},
   "source": [
    "Теперь недостаток в том, что одно и то же выражение вычисляется и присваивается несколько раз.\n",
    "\n",
    "Кроме того, генерируются переменные, которым присваиваются константы.\n",
    "\n",
    "Можно решить эти две проблемы, заведя словарь, в котором будет регистрироваться, какие подвыражения уже вычислялись, а какие - нет.\n",
    "\n",
    "В результате получим асимптотику: время - $O(m * n)$, память - $O(m * n)$."
   ]
  },
  {
   "cell_type": "code",
   "execution_count": 18,
   "metadata": {},
   "outputs": [],
   "source": [
    "struct Ass!{xs2var, opt}\n",
    "    es::Vector{Expr}\n",
    "    d::Dict{Symbol, Any}\n",
    "    Ass!{xs2var, opt}() where {xs2var, opt} = new(Expr[], Dict{Symbol, Any}())\n",
    "end"
   ]
  },
  {
   "cell_type": "code",
   "execution_count": 19,
   "metadata": {},
   "outputs": [],
   "source": [
    "gen_ass!(es, s::Symbol, c::Int64) = c\n",
    "gen_ass!(es, s::Symbol, u::Symbol) = u\n",
    "\n",
    "function gen_ass!(es, s::Symbol, e::Expr)\n",
    "    push!(es, :($s = $e))\n",
    "    s\n",
    "end\n",
    "\n",
    "function (a::Ass!{xs2var, opt})(xs, e) where {xs2var, opt}\n",
    "    s = xs2var(xs...)\n",
    "    haskey(a.d, s) && return a.d[s]\n",
    "    a.d[s] = gen_ass!(a.es, s, opt(e))\n",
    "end"
   ]
  },
  {
   "cell_type": "code",
   "execution_count": 20,
   "metadata": {},
   "outputs": [
    {
     "data": {
      "text/plain": [
       "lcs_gen_impl! (generic function with 1 method)"
      ]
     },
     "metadata": {},
     "output_type": "display_data"
    }
   ],
   "source": [
    "function lcs_gen_impl!(a::Ass!, i, j)\n",
    "    if (i == 0 || j == 0)\n",
    "        a((i, j), 0)\n",
    "    else\n",
    "        a((i, j), :(\n",
    "            if s1[$i] == s2[$j]\n",
    "                1 + $(lcs_gen_impl!(a, i - 1, j - 1))\n",
    "            else\n",
    "                max($(lcs_gen_impl!(a, i, j - 1)),\n",
    "                    $(lcs_gen_impl!(a, i - 1, j)))\n",
    "            end\n",
    "        ))\n",
    "    end\n",
    "end"
   ]
  },
  {
   "cell_type": "code",
   "execution_count": 21,
   "metadata": {},
   "outputs": [
    {
     "data": {
      "text/plain": [
       "lcs_gen_impl (generic function with 1 method)"
      ]
     },
     "metadata": {},
     "output_type": "display_data"
    }
   ],
   "source": [
    "function lcs_gen_impl(a, i, j)\n",
    "    r = lcs_gen_impl!(a, i, j)\n",
    "    :($(a.es...); $r)\n",
    "end"
   ]
  },
  {
   "cell_type": "code",
   "execution_count": 22,
   "metadata": {},
   "outputs": [
    {
     "data": {
      "text/plain": [
       "quote\n",
       "    r_1_1 = if s1[1] == s2[1]\n",
       "            1 + 0\n",
       "        else\n",
       "            max(0, 0)\n",
       "        end\n",
       "    r_1_2 = if s1[1] == s2[2]\n",
       "            1 + 0\n",
       "        else\n",
       "            max(r_1_1, 0)\n",
       "        end\n",
       "    r_2_1 = if s1[2] == s2[1]\n",
       "            1 + 0\n",
       "        else\n",
       "            max(0, r_1_1)\n",
       "        end\n",
       "    r_2_2 = if s1[2] == s2[2]\n",
       "            1 + r_1_1\n",
       "        else\n",
       "            max(r_2_1, r_1_2)\n",
       "        end\n",
       "    r_1_3 = if s1[1] == s2[3]\n",
       "            1 + 0\n",
       "        else\n",
       "            max(r_1_2, 0)\n",
       "        end\n",
       "    r_2_3 = if s1[2] == s2[3]\n",
       "            1 + r_1_2\n",
       "        else\n",
       "            max(r_2_2, r_1_3)\n",
       "        end\n",
       "    r_2_3\n",
       "end"
      ]
     },
     "metadata": {},
     "output_type": "display_data"
    }
   ],
   "source": [
    "lcs_gen_impl(Ass!{ij2var, identity}(), 2, 3) |> prettify"
   ]
  },
  {
   "cell_type": "code",
   "execution_count": 23,
   "metadata": {},
   "outputs": [
    {
     "data": {
      "text/plain": [
       "lcs_gen_c (generic function with 2 methods)"
      ]
     },
     "metadata": {},
     "output_type": "display_data"
    }
   ],
   "source": [
    "@generated function lcs_gen_c(::Val{i}, ::Val{j}, s1, s2) where {i,j}\n",
    "    lcs_gen_impl(Ass!{ij2var,identity}(), i, j)\n",
    "end\n",
    "\n",
    "lcs_gen_c(s1, s2) = lcs_gen_c(Val(length(s1)), Val(length(s2)), s1, s2)"
   ]
  },
  {
   "cell_type": "code",
   "execution_count": 24,
   "metadata": {},
   "outputs": [
    {
     "data": {
      "text/plain": [
       "\u001b[32m\u001b[1mTest Passed\u001b[22m\u001b[39m"
      ]
     },
     "metadata": {},
     "output_type": "display_data"
    }
   ],
   "source": [
    "@test lcs_gen_c(\"ABC\", \"ACD\") == 2\n",
    "# The longest common subsequence is “GTAB”.\n",
    "@test lcs_gen_c(\"AGGTAB\", \"GXTXAYB\") == 4\n",
    "@test lcs_gen_c(\"ABC\", \"CBA\") == 1"
   ]
  },
  {
   "cell_type": "markdown",
   "metadata": {},
   "source": [
    "## Упрощение выражений через переписывание (Metatheory.jl)"
   ]
  },
  {
   "cell_type": "code",
   "execution_count": 25,
   "metadata": {},
   "outputs": [],
   "source": [
    "using Metatheory, Metatheory.Rewriters"
   ]
  },
  {
   "cell_type": "code",
   "execution_count": 26,
   "metadata": {},
   "outputs": [],
   "source": [
    "opt_rules = @theory x y begin\n",
    "\n",
    "    x::Int64 + y::Int64 => x + y\n",
    "\n",
    "    max(0, y) --> y\n",
    "    max(x, 0) --> x\n",
    "\n",
    "end;"
   ]
  },
  {
   "cell_type": "code",
   "execution_count": 27,
   "metadata": {},
   "outputs": [
    {
     "data": {
      "text/plain": [
       "opt_expr (generic function with 1 method)"
      ]
     },
     "metadata": {},
     "output_type": "display_data"
    }
   ],
   "source": [
    "strategy = (#= Fixpoint ∘ =# Postwalk ∘ Chain)\n",
    "opt_expr(e) = strategy(opt_rules)(e)"
   ]
  },
  {
   "cell_type": "code",
   "execution_count": 28,
   "metadata": {},
   "outputs": [
    {
     "data": {
      "text/plain": [
       "\u001b[32m\u001b[1mTest Passed\u001b[22m\u001b[39m"
      ]
     },
     "metadata": {},
     "output_type": "display_data"
    }
   ],
   "source": [
    "@test opt_expr(:(2 + 3)) == 5\n",
    "@test opt_expr(:(max(10, 0))) == 10\n",
    "@test opt_expr(:(max(0, 20))) == 20\n",
    "@test opt_expr(:(true ? 1 + 2 : 3 + 4)) == :(true ? 3 : 7)"
   ]
  },
  {
   "cell_type": "code",
   "execution_count": 29,
   "metadata": {},
   "outputs": [
    {
     "data": {
      "text/plain": [
       "quote\n",
       "    r_1_1 = if s1[1] == s2[1]\n",
       "            1\n",
       "        else\n",
       "            0\n",
       "        end\n",
       "    r_1_2 = if s1[1] == s2[2]\n",
       "            1\n",
       "        else\n",
       "            r_1_1\n",
       "        end\n",
       "    r_2_1 = if s1[2] == s2[1]\n",
       "            1\n",
       "        else\n",
       "            r_1_1\n",
       "        end\n",
       "    r_2_2 = if s1[2] == s2[2]\n",
       "            1 + r_1_1\n",
       "        else\n",
       "            max(r_2_1, r_1_2)\n",
       "        end\n",
       "    r_1_3 = if s1[1] == s2[3]\n",
       "            1\n",
       "        else\n",
       "            r_1_2\n",
       "        end\n",
       "    r_2_3 = if s1[2] == s2[3]\n",
       "            1 + r_1_2\n",
       "        else\n",
       "            max(r_2_2, r_1_3)\n",
       "        end\n",
       "    r_2_3\n",
       "end"
      ]
     },
     "metadata": {},
     "output_type": "display_data"
    }
   ],
   "source": [
    "lcs_gen_impl(Ass!{ij2var, opt_expr}(), 2, 3) |> prettify"
   ]
  },
  {
   "cell_type": "code",
   "execution_count": 30,
   "metadata": {},
   "outputs": [
    {
     "data": {
      "text/plain": [
       "lcs_gen_o (generic function with 2 methods)"
      ]
     },
     "metadata": {},
     "output_type": "display_data"
    }
   ],
   "source": [
    "@generated function lcs_gen_o(::Val{i}, ::Val{j}, s1, s2) where {i,j}\n",
    "    lcs_gen_impl(Ass!{ij2var,opt_expr}(), i, j)\n",
    "end\n",
    "\n",
    "lcs_gen_o(s1, s2) = lcs_gen_o(Val(length(s1)), Val(length(s2)), s1, s2)"
   ]
  },
  {
   "cell_type": "code",
   "execution_count": 31,
   "metadata": {},
   "outputs": [
    {
     "data": {
      "text/plain": [
       "\u001b[32m\u001b[1mTest Passed\u001b[22m\u001b[39m"
      ]
     },
     "metadata": {},
     "output_type": "display_data"
    }
   ],
   "source": [
    "@test lcs_gen_o(\"ABC\", \"ACD\") == 2\n",
    "# The longest common subsequence is “GTAB”.\n",
    "@test lcs_gen_o(\"AGGTAB\", \"GXTXAYB\") == 4\n",
    "@test lcs_gen_o(\"ABC\", \"CBA\") == 1"
   ]
  },
  {
   "cell_type": "markdown",
   "metadata": {},
   "source": [
    "## Использование комбинаторов для генерации программ\n",
    "\n",
    "- Можно отделить мемоизацию от генерации (\"разделение аспектов\").\n",
    "- Генератор можно заставить работать как с мемоизацией, так и без неё.\n",
    "- Реализацию мемоизации можно использовать для разных генераторов."
   ]
  },
  {
   "cell_type": "markdown",
   "metadata": {},
   "source": [
    "### Оператор неподвижной точки"
   ]
  },
  {
   "cell_type": "code",
   "execution_count": 32,
   "metadata": {},
   "outputs": [
    {
     "data": {
      "text/plain": [
       "lcs_gen_step (generic function with 1 method)"
      ]
     },
     "metadata": {},
     "output_type": "display_data"
    }
   ],
   "source": [
    "function lcs_gen_step(self, i, j)\n",
    "    if (i == 0 || j == 0)\n",
    "        0\n",
    "    else\n",
    "        :(\n",
    "            if s1[$i] == s2[$j]\n",
    "                1 + $(self(i - 1, j - 1))\n",
    "            else\n",
    "                max($(self(i, j - 1)), $(self(i - 1, j)))\n",
    "            end\n",
    "        )\n",
    "    end\n",
    "end"
   ]
  },
  {
   "cell_type": "code",
   "execution_count": 33,
   "metadata": {},
   "outputs": [
    {
     "data": {
      "text/plain": [
       "fix_gen (generic function with 1 method)"
      ]
     },
     "metadata": {},
     "output_type": "display_data"
    }
   ],
   "source": [
    "function fix_gen!(es, key, step, xs...)\n",
    "    e = step((ys...) -> fix_gen!(es, key, step, ys...), xs...)\n",
    "    r = key(xs...)\n",
    "    push!(es, :($r = $e))\n",
    "    r\n",
    "end\n",
    "\n",
    "function fix_gen(key, step, xs...)\n",
    "    es = Expr[]\n",
    "    e = fix_gen!(es, key, step, xs...)\n",
    "    quote $(es...); $e end\n",
    "end"
   ]
  },
  {
   "cell_type": "code",
   "execution_count": 34,
   "metadata": {},
   "outputs": [
    {
     "data": {
      "text/plain": [
       "quote\n",
       "    r_0_1 = 0\n",
       "    r_0_0 = 0\n",
       "    r_1_0 = 0\n",
       "    r_0_1 = 0\n",
       "    r_1_1 = if s1[1] == s2[1]\n",
       "            1 + r_0_0\n",
       "        else\n",
       "            max(r_1_0, r_0_1)\n",
       "        end\n",
       "    r_0_2 = 0\n",
       "    r_1_2 = if s1[1] == s2[2]\n",
       "            1 + r_0_1\n",
       "        else\n",
       "            max(r_1_1, r_0_2)\n",
       "        end\n",
       "    r_0_0 = 0\n",
       "    r_1_0 = 0\n",
       "    r_0_1 = 0\n",
       "    r_1_1 = if s1[1] == s2[1]\n",
       "            1 + r_0_0\n",
       "        else\n",
       "            max(r_1_0, r_0_1)\n",
       "        end\n",
       "    r_1_0 = 0\n",
       "    r_2_0 = 0\n",
       "    r_0_0 = 0\n",
       "    r_1_0 = 0\n",
       "    r_0_1 = 0\n",
       "    r_1_1 = if s1[1] == s2[1]\n",
       "            1 + r_0_0\n",
       "        else\n",
       "            max(r_1_0, r_0_1)\n",
       "        end\n",
       "    r_2_1 = if s1[2] == s2[1]\n",
       "            1 + r_1_0\n",
       "        else\n",
       "            max(r_2_0, r_1_1)\n",
       "        end\n",
       "    r_0_1 = 0\n",
       "    r_0_0 = 0\n",
       "    r_1_0 = 0\n",
       "    r_0_1 = 0\n",
       "    r_1_1 = if s1[1] == s2[1]\n",
       "            1 + r_0_0\n",
       "        else\n",
       "            max(r_1_0, r_0_1)\n",
       "        end\n",
       "    r_0_2 = 0\n",
       "    r_1_2 = if s1[1] == s2[2]\n",
       "            1 + r_0_1\n",
       "        else\n",
       "            max(r_1_1, r_0_2)\n",
       "        end\n",
       "    r_2_2 = if s1[2] == s2[2]\n",
       "            1 + r_1_1\n",
       "        else\n",
       "            max(r_2_1, r_1_2)\n",
       "        end\n",
       "    r_0_2 = 0\n",
       "    r_0_1 = 0\n",
       "    r_0_0 = 0\n",
       "    r_1_0 = 0\n",
       "    r_0_1 = 0\n",
       "    r_1_1 = if s1[1] == s2[1]\n",
       "            1 + r_0_0\n",
       "        else\n",
       "            max(r_1_0, r_0_1)\n",
       "        end\n",
       "    r_0_2 = 0\n",
       "    r_1_2 = if s1[1] == s2[2]\n",
       "            1 + r_0_1\n",
       "        else\n",
       "            max(r_1_1, r_0_2)\n",
       "        end\n",
       "    r_0_3 = 0\n",
       "    r_1_3 = if s1[1] == s2[3]\n",
       "            1 + r_0_2\n",
       "        else\n",
       "            max(r_1_2, r_0_3)\n",
       "        end\n",
       "    r_2_3 = if s1[2] == s2[3]\n",
       "            1 + r_1_2\n",
       "        else\n",
       "            max(r_2_2, r_1_3)\n",
       "        end\n",
       "    r_2_3\n",
       "end"
      ]
     },
     "metadata": {},
     "output_type": "display_data"
    }
   ],
   "source": [
    "fix_gen(ij2var, lcs_gen_step, 2, 3) |> prettify"
   ]
  },
  {
   "cell_type": "markdown",
   "metadata": {},
   "source": [
    "### Вынос мемоизации в комбинатор"
   ]
  },
  {
   "cell_type": "code",
   "execution_count": 35,
   "metadata": {},
   "outputs": [
    {
     "data": {
      "text/plain": [
       "ass! (generic function with 3 methods)"
      ]
     },
     "metadata": {},
     "output_type": "display_data"
    }
   ],
   "source": [
    "function ass!(es, d, s::Symbol, c::Int64)\n",
    "    d[s] = c\n",
    "end\n",
    "\n",
    "function ass!(es, d, s::Symbol, u::Symbol)\n",
    "    d[s] = u\n",
    "end\n",
    "\n",
    "function ass!(es, d, s::Symbol, e)\n",
    "    haskey(d, s) && return\n",
    "    push!(es, :($s = $e))\n",
    "    d[s] = s\n",
    "end"
   ]
  },
  {
   "cell_type": "code",
   "execution_count": 36,
   "metadata": {},
   "outputs": [
    {
     "data": {
      "text/plain": [
       "fix_gen_memo (generic function with 1 method)"
      ]
     },
     "metadata": {},
     "output_type": "display_data"
    }
   ],
   "source": [
    "function fix_gen_memo!(d, es, key, step, xs...)\n",
    "    r = key(xs...)\n",
    "    haskey(d, r) && return d[r]\n",
    "    e = step((ys...) -> fix_gen_memo!(d, es, key, step, ys...), xs...)\n",
    "    push!(es, :($r = $e))\n",
    "    d[r] = r\n",
    "end\n",
    "\n",
    "function fix_gen_memo(key, step, xs...)\n",
    "    es = Expr[]\n",
    "    e = fix_gen_memo!(Dict(), es, key, step, xs...)\n",
    "    :($(es...); $e)\n",
    "end"
   ]
  },
  {
   "cell_type": "code",
   "execution_count": 37,
   "metadata": {},
   "outputs": [
    {
     "data": {
      "text/plain": [
       "quote\n",
       "    r_0_1 = 0\n",
       "    r_0_0 = 0\n",
       "    r_1_0 = 0\n",
       "    r_1_1 = if s1[1] == s2[1]\n",
       "            1 + r_0_0\n",
       "        else\n",
       "            max(r_1_0, r_0_1)\n",
       "        end\n",
       "    r_0_2 = 0\n",
       "    r_1_2 = if s1[1] == s2[2]\n",
       "            1 + r_0_1\n",
       "        else\n",
       "            max(r_1_1, r_0_2)\n",
       "        end\n",
       "    r_2_0 = 0\n",
       "    r_2_1 = if s1[2] == s2[1]\n",
       "            1 + r_1_0\n",
       "        else\n",
       "            max(r_2_0, r_1_1)\n",
       "        end\n",
       "    r_2_2 = if s1[2] == s2[2]\n",
       "            1 + r_1_1\n",
       "        else\n",
       "            max(r_2_1, r_1_2)\n",
       "        end\n",
       "    r_0_3 = 0\n",
       "    r_1_3 = if s1[1] == s2[3]\n",
       "            1 + r_0_2\n",
       "        else\n",
       "            max(r_1_2, r_0_3)\n",
       "        end\n",
       "    r_2_3 = if s1[2] == s2[3]\n",
       "            1 + r_1_2\n",
       "        else\n",
       "            max(r_2_2, r_1_3)\n",
       "        end\n",
       "    r_2_3\n",
       "end"
      ]
     },
     "metadata": {},
     "output_type": "display_data"
    }
   ],
   "source": [
    "fix_gen_memo(ij2var, lcs_gen_step, 2, 3) |> prettify"
   ]
  },
  {
   "cell_type": "markdown",
   "metadata": {},
   "source": [
    "### Распространение констант"
   ]
  },
  {
   "cell_type": "code",
   "execution_count": 38,
   "metadata": {},
   "outputs": [
    {
     "data": {
      "text/plain": [
       "fix_gen_memo_c (generic function with 1 method)"
      ]
     },
     "metadata": {},
     "output_type": "display_data"
    }
   ],
   "source": [
    "function fix_gen_memo_c!(d, es, key, step, xs...)\n",
    "    r = key(xs...)\n",
    "    haskey(d, r) && return d[r]\n",
    "    e = step((ys...) -> fix_gen_memo_c!(d, es, key, step, ys...), xs...)\n",
    "    ass!(es, d, r, e)\n",
    "end\n",
    "\n",
    "function fix_gen_memo_c(key, step, xs...)\n",
    "    es = Expr[]\n",
    "    e = fix_gen_memo_c!(Dict(), es, key, step, xs...)\n",
    "    quote $(es...); $e end\n",
    "end"
   ]
  },
  {
   "cell_type": "code",
   "execution_count": 39,
   "metadata": {},
   "outputs": [
    {
     "data": {
      "text/plain": [
       "quote\n",
       "    r_1_1 = if s1[1] == s2[1]\n",
       "            1 + 0\n",
       "        else\n",
       "            max(0, 0)\n",
       "        end\n",
       "    r_1_2 = if s1[1] == s2[2]\n",
       "            1 + 0\n",
       "        else\n",
       "            max(r_1_1, 0)\n",
       "        end\n",
       "    r_2_1 = if s1[2] == s2[1]\n",
       "            1 + 0\n",
       "        else\n",
       "            max(0, r_1_1)\n",
       "        end\n",
       "    r_2_2 = if s1[2] == s2[2]\n",
       "            1 + r_1_1\n",
       "        else\n",
       "            max(r_2_1, r_1_2)\n",
       "        end\n",
       "    r_1_3 = if s1[1] == s2[3]\n",
       "            1 + 0\n",
       "        else\n",
       "            max(r_1_2, 0)\n",
       "        end\n",
       "    r_2_3 = if s1[2] == s2[3]\n",
       "            1 + r_1_2\n",
       "        else\n",
       "            max(r_2_2, r_1_3)\n",
       "        end\n",
       "    r_2_3\n",
       "end"
      ]
     },
     "metadata": {},
     "output_type": "display_data"
    }
   ],
   "source": [
    "fix_gen_memo_c(ij2var, lcs_gen_step, 2, 3) |> prettify"
   ]
  },
  {
   "cell_type": "markdown",
   "metadata": {},
   "source": [
    "### Оптимизация выражений"
   ]
  },
  {
   "cell_type": "code",
   "execution_count": 40,
   "metadata": {},
   "outputs": [
    {
     "data": {
      "text/plain": [
       "fix_gen_memo_o (generic function with 1 method)"
      ]
     },
     "metadata": {},
     "output_type": "display_data"
    }
   ],
   "source": [
    "function fix_gen_memo_o!(d, es, key, step, xs...)\n",
    "    r = key(xs...)\n",
    "    haskey(d, r) && return d[r]\n",
    "    e = step((ys...) -> fix_gen_memo_o!(d, es, key, step, ys...), xs...)\n",
    "    ass!(es, d, r, opt_expr(e))\n",
    "end\n",
    "\n",
    "function fix_gen_memo_o(key, step, xs...)\n",
    "    es = Expr[]\n",
    "    e = fix_gen_memo_o!(Dict(), es, key, step, xs...)\n",
    "    quote $(es...); $e end\n",
    "end"
   ]
  },
  {
   "cell_type": "code",
   "execution_count": 41,
   "metadata": {},
   "outputs": [
    {
     "data": {
      "text/plain": [
       "quote\n",
       "    r_1_1 = if s1[1] == s2[1]\n",
       "            1\n",
       "        else\n",
       "            0\n",
       "        end\n",
       "    r_1_2 = if s1[1] == s2[2]\n",
       "            1\n",
       "        else\n",
       "            r_1_1\n",
       "        end\n",
       "    r_2_1 = if s1[2] == s2[1]\n",
       "            1\n",
       "        else\n",
       "            r_1_1\n",
       "        end\n",
       "    r_2_2 = if s1[2] == s2[2]\n",
       "            1 + r_1_1\n",
       "        else\n",
       "            max(r_2_1, r_1_2)\n",
       "        end\n",
       "    r_1_3 = if s1[1] == s2[3]\n",
       "            1\n",
       "        else\n",
       "            r_1_2\n",
       "        end\n",
       "    r_2_3 = if s1[2] == s2[3]\n",
       "            1 + r_1_2\n",
       "        else\n",
       "            max(r_2_2, r_1_3)\n",
       "        end\n",
       "    r_2_3\n",
       "end"
      ]
     },
     "metadata": {},
     "output_type": "display_data"
    }
   ],
   "source": [
    "fix_gen_memo_o(ij2var, lcs_gen_step, 2, 3) |> prettify"
   ]
  },
  {
   "cell_type": "code",
   "execution_count": 42,
   "metadata": {},
   "outputs": [
    {
     "data": {
      "text/plain": [
       "lcs_fix_gen_o (generic function with 1 method)"
      ]
     },
     "metadata": {},
     "output_type": "display_data"
    }
   ],
   "source": [
    "@generated function lcs_fix_gen_o(::Val{i}, ::Val{j}, s1, s2) where {i,j}\n",
    "    fix_gen_memo_o(ij2var, lcs_gen_step, i, j)\n",
    "end"
   ]
  },
  {
   "cell_type": "code",
   "execution_count": 43,
   "metadata": {},
   "outputs": [
    {
     "data": {
      "text/plain": [
       "lcs_fix_gen_o (generic function with 2 methods)"
      ]
     },
     "metadata": {},
     "output_type": "display_data"
    }
   ],
   "source": [
    "function lcs_fix_gen_o(s1, s2)\n",
    "    lcs_fix_gen_o(Val(length(s1)), Val(length(s2)), s1, s2)\n",
    "end"
   ]
  },
  {
   "cell_type": "code",
   "execution_count": 44,
   "metadata": {},
   "outputs": [
    {
     "data": {
      "text/plain": [
       "\u001b[32m\u001b[1mTest Passed\u001b[22m\u001b[39m"
      ]
     },
     "metadata": {},
     "output_type": "display_data"
    }
   ],
   "source": [
    "@test lcs_fix_gen_o(\"ABC\", \"ACD\") == 2\n",
    "# # The longest common subsequence is “GTAB”.\n",
    "@test lcs_fix_gen_o(\"AGGTAB\", \"GXTXAYB\") == 4\n",
    "@test lcs_fix_gen_o(\"ABC\", \"CBA\") == 1"
   ]
  }
 ],
 "metadata": {
  "kernelspec": {
   "display_name": "Julia 1.11.4",
   "language": "julia",
   "name": "julia-1.11"
  },
  "language_info": {
   "file_extension": ".jl",
   "mimetype": "application/julia",
   "name": "julia",
   "version": "1.11.4"
  }
 },
 "nbformat": 4,
 "nbformat_minor": 2
}
