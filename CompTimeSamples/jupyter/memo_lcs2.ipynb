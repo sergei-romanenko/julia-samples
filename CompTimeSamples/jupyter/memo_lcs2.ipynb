{
 "cells": [
  {
   "cell_type": "markdown",
   "metadata": {},
   "source": [
    "# Longest Common Subsequence"
   ]
  },
  {
   "cell_type": "markdown",
   "metadata": {},
   "source": [
    "Заданы две строки s1 и s2. Требуется найти длину самой длинной общей подпоследовательности. Если общей подпоследовательности нет - выдать 0.\n",
    "\n",
    "Подпоследовательность - это строка, сгенерированная из исходной строки путем удаления 0 или более символов и без изменения относительного порядка остальных символов.\n",
    "\n",
    "Например, подпоследовательностями “ABC” являются “”, “A”, “B”, “C”, “AB”, “AC”, “BC” и “ABC”.\n",
    "\n",
    "В общем случае, строка длины $n$ имеет $2^n$ подпоследовательностей."
   ]
  },
  {
   "cell_type": "code",
   "execution_count": 1,
   "metadata": {},
   "outputs": [],
   "source": [
    "using Test"
   ]
  },
  {
   "cell_type": "markdown",
   "metadata": {},
   "source": [
    "\"Наивный\" алгоритм. Время - $O(2^{\\min(m,n)})$, память - $O(\\min(m, n))$"
   ]
  },
  {
   "cell_type": "code",
   "execution_count": 2,
   "metadata": {},
   "outputs": [
    {
     "data": {
      "text/plain": [
       "lcs (generic function with 2 methods)"
      ]
     },
     "metadata": {},
     "output_type": "display_data"
    }
   ],
   "source": [
    "# A Naive recursive solution of LCS problem\n",
    "\n",
    "# Returns positions of common characters for s1[1:i], s2[1:j]\n",
    "function lcs(i, j, s1, s2)\n",
    "    if (i == 0 || j == 0)\n",
    "        ((), ())\n",
    "    elseif (s1[i] == s2[j])\n",
    "        (p0, q0) = lcs(i - 1, j - 1, s1, s2)\n",
    "        ((p0..., i), (q0..., j))\n",
    "    else\n",
    "        (p1, q1) = lcs(i, j - 1, s1, s2)\n",
    "        (p2, q2) = lcs(i - 1, j, s1, s2)\n",
    "        length(p1) >= length(p2) ? (p1, q1) : (p2, q2)\n",
    "    end\n",
    "end\n",
    "\n",
    "lcs(s1, s2) = lcs(length(s1), length(s2), s1, s2)"
   ]
  },
  {
   "cell_type": "code",
   "execution_count": 3,
   "metadata": {},
   "outputs": [
    {
     "data": {
      "text/plain": [
       "\u001b[32m\u001b[1mTest Passed\u001b[22m\u001b[39m"
      ]
     },
     "metadata": {},
     "output_type": "display_data"
    }
   ],
   "source": [
    "@test lcs(\"ABC\", \"ACD\") == ((1, 3), (1, 2))\n",
    "@test lcs(\"AGGTAB\", \"GXTXAYB\") == ((3, 4, 5, 6), (1, 3, 5, 7))\n",
    "@test lcs(\"ABC\", \"CBA\") == ((3,), (1,))"
   ]
  },
  {
   "cell_type": "markdown",
   "metadata": {},
   "source": [
    "## Мемоизация"
   ]
  },
  {
   "cell_type": "markdown",
   "metadata": {},
   "source": [
    "Алгоритм с мемоизацией. Время - $O(m * n)$, память - $O(m * n)$."
   ]
  },
  {
   "cell_type": "code",
   "execution_count": 4,
   "metadata": {},
   "outputs": [
    {
     "data": {
      "text/plain": [
       "lcs_memo (generic function with 1 method)"
      ]
     },
     "metadata": {},
     "output_type": "display_data"
    }
   ],
   "source": [
    "# A recursive solution of LCS problem with memoization\n",
    "\n",
    "function lcs_memo(i, j, d, s1, s2)\n",
    "    if haskey(d, (i, j))\n",
    "        return d[(i, j)]\n",
    "    end\n",
    "\n",
    "    r =\n",
    "        if (i == 0 || j == 0)\n",
    "            ((), ())\n",
    "        else\n",
    "            if (s1[i] == s2[j])\n",
    "                (p0, q0) = lcs_memo(i - 1, j - 1, d, s1, s2)\n",
    "                ((p0..., i), (q0..., j))\n",
    "            else\n",
    "                (p1, q1) = lcs_memo(i, j - 1, d, s1, s2)\n",
    "                (p2, q2) = lcs_memo(i - 1, j, d, s1, s2)\n",
    "                length(p1) >= length(p2) ? (p1, q1) : (p2, q2)\n",
    "            end\n",
    "        end\n",
    "    d[(i, j)] = r\n",
    "    return r\n",
    "end"
   ]
  },
  {
   "cell_type": "code",
   "execution_count": 5,
   "metadata": {},
   "outputs": [
    {
     "data": {
      "text/plain": [
       "lcs_memo (generic function with 2 methods)"
      ]
     },
     "metadata": {},
     "output_type": "display_data"
    }
   ],
   "source": [
    "function lcs_memo(s1, s2)\n",
    "    d = Dict{Tuple{Int,Int},Tuple{Tuple{Vararg{Int}},Tuple{Vararg{Int}}}}()\n",
    "    lcs_memo(length(s1), length(s2), d, s1, s2)\n",
    "end"
   ]
  },
  {
   "cell_type": "code",
   "execution_count": 6,
   "metadata": {},
   "outputs": [
    {
     "data": {
      "text/plain": [
       "\u001b[32m\u001b[1mTest Passed\u001b[22m\u001b[39m"
      ]
     },
     "metadata": {},
     "output_type": "display_data"
    }
   ],
   "source": [
    "@test lcs_memo(\"ABC\", \"ACD\") == ((1, 3), (1, 2))\n",
    "@test lcs_memo(\"AGGTAB\", \"GXTXAYB\") == ((3, 4, 5, 6), (1, 3, 5, 7))\n",
    "@test lcs_memo(\"ABC\", \"CBA\") == ((3,), (1,))"
   ]
  },
  {
   "cell_type": "markdown",
   "metadata": {},
   "source": [
    "## Подготовка к генерации специализрованных программ"
   ]
  },
  {
   "cell_type": "markdown",
   "metadata": {},
   "source": [
    "При генерации специализированных программ мемоизация переносится с времени исполнения на время генерации.\n",
    "\n",
    "Чтобы не образовывались глубоко вложенные условные выражения, переупорядочим вычисления в \"наивном\" алгоритме. При этом получатся лишние вычисления, которые потом можно будет убрать с помощью мемоизации."
   ]
  },
  {
   "cell_type": "code",
   "execution_count": 7,
   "metadata": {},
   "outputs": [
    {
     "data": {
      "text/plain": [
       "lcs2 (generic function with 2 methods)"
      ]
     },
     "metadata": {},
     "output_type": "display_data"
    }
   ],
   "source": [
    "function lcs2(i, j, s1, s2)\n",
    "    local p, q\n",
    "    if (i == 0 || j == 0)\n",
    "        p = ()\n",
    "        q = ()\n",
    "    else\n",
    "        (p0, q0) = lcs2(i - 1, j - 1, s1, s2)\n",
    "        (p1, q1) = lcs2(i, j - 1, s1, s2)\n",
    "        (p2, q2) = lcs2(i - 1, j, s1, s2)\n",
    "\n",
    "        if (s1[i] == s2[j])\n",
    "            p = (p0..., i)\n",
    "            q = (q0..., j)\n",
    "        else\n",
    "            if length(p1) >= length(p2)\n",
    "                p = p1\n",
    "                q = q1\n",
    "            else\n",
    "                p = p2\n",
    "                q = q2\n",
    "            end\n",
    "        end\n",
    "    end\n",
    "    (p, q)\n",
    "end\n",
    "\n",
    "lcs2(s1, s2) = lcs2(length(s1), length(s2), s1, s2)"
   ]
  },
  {
   "cell_type": "code",
   "execution_count": 8,
   "metadata": {},
   "outputs": [
    {
     "data": {
      "text/plain": [
       "\u001b[32m\u001b[1mTest Passed\u001b[22m\u001b[39m"
      ]
     },
     "metadata": {},
     "output_type": "display_data"
    }
   ],
   "source": [
    "@test lcs2(\"ABC\", \"ACD\") == ((1, 3), (1, 2))\n",
    "@test lcs2(\"AGGTAB\", \"GXTXAYB\") == ((3, 4, 5, 6), (1, 3, 5, 7))\n",
    "@test lcs2(\"ABC\", \"CBA\") == ((3,), (1,))"
   ]
  },
  {
   "cell_type": "markdown",
   "metadata": {},
   "source": [
    "## Специализация по `i` и `j`"
   ]
  },
  {
   "cell_type": "markdown",
   "metadata": {},
   "source": [
    "- Peter Thiemann. 1999. **Combinators for program generation.** J. Funct. Program. 9, 5 (September 1999), 483–525. https://doi.org/10.1017/S0956796899003469\n",
    "\n",
    "- Kedar Swadi, Walid Taha, Oleg Kiselyov. 2005. **Staging dynamic programming algorithms**. Unpublished manuscript (April 2005), available from: <http://www.cs.rice.edu/~taha/publications.html>.\n",
    "\n",
    "- Yukiyoshi Kameyama, Oleg Kiselyov, and Chung-chieh Shan. 2009. **Shifting the stage: staging with delimited control.** In Proceedings of the 2009 ACM SIGPLAN workshop on Partial evaluation and program manipulation (PEPM '09). Association for Computing Machinery, New York, NY, USA, 111–120. <https://doi.org/10.1145/1480945.1480962>\n",
    "\n",
    "- Oleg Kiselyov. 2010. **Delimited control in OCaml, abstractly and concretely: system description.** In Proceedings of the 10th international conference on Functional and Logic Programming (FLOPS'10). Springer-Verlag, Berlin, Heidelberg, 304–320. https://doi.org/10.1007/978-3-642-12251-4_22"
   ]
  },
  {
   "cell_type": "code",
   "execution_count": 9,
   "metadata": {},
   "outputs": [],
   "source": [
    "using MacroTools: prettify"
   ]
  },
  {
   "cell_type": "markdown",
   "metadata": {},
   "source": [
    "\"Наивный\" генератор. Получается одно громадное выражение, в котором есть совпадающие подвыражения."
   ]
  },
  {
   "cell_type": "code",
   "execution_count": 10,
   "metadata": {},
   "outputs": [
    {
     "data": {
      "text/plain": [
       "lcs_gen_impl1 (generic function with 1 method)"
      ]
     },
     "metadata": {},
     "output_type": "display_data"
    }
   ],
   "source": [
    "function lcs_gen_impl1!(es, d, i, j)\n",
    "    p = Symbol(\"p_\", i, \"_\", j)\n",
    "    q = Symbol(\"q_\", i, \"_\", j)\n",
    "\n",
    "    if haskey(d, p)\n",
    "        return (d[p], d[q])\n",
    "    end\n",
    "\n",
    "    if (i == 0 || j == 0)\n",
    "        d[p] = :(())\n",
    "        d[q] = :(())\n",
    "    else\n",
    "        (p0, q0) = lcs_gen_impl1!(es, d, i - 1, j - 1)\n",
    "        (p1, q1) = lcs_gen_impl1!(es, d, i, j - 1)\n",
    "        (p2, q2) = lcs_gen_impl1!(es, d, i - 1, j)\n",
    "\n",
    "        push!(es, :(local $p, $q))\n",
    "        d[p] = p\n",
    "        d[q] = q\n",
    "\n",
    "        push!(es,\n",
    "            quote\n",
    "                if (s1[$i] == s2[$j])\n",
    "                    $p = ($p0..., $i)\n",
    "                    $q = ($q0..., $j)\n",
    "                else\n",
    "                    if length($p1) >= length($p2)\n",
    "                        $p = $p1\n",
    "                        $q = $q1\n",
    "                    else\n",
    "                        $p = $p2\n",
    "                        $q = $q2\n",
    "                    end\n",
    "                end\n",
    "            end)\n",
    "    end\n",
    "    (d[p], d[q])\n",
    "end\n",
    "\n",
    "function lcs_gen_impl1(i, j)\n",
    "    es = Expr[]\n",
    "    d = Dict{Symbol,Any}()\n",
    "    (p, q) = lcs_gen_impl1!(es, d, i, j)\n",
    "\n",
    "    quote\n",
    "        $(es...)\n",
    "        return ($p, $q)\n",
    "    end\n",
    "end"
   ]
  },
  {
   "cell_type": "code",
   "execution_count": 11,
   "metadata": {},
   "outputs": [
    {
     "data": {
      "text/plain": [
       "quote\n",
       "    local p_1_1, q_1_1\n",
       "    if s1[1] == s2[1]\n",
       "        p_1_1 = (()..., 1)\n",
       "        q_1_1 = (()..., 1)\n",
       "    else\n",
       "        if length(()) >= length(())\n",
       "            p_1_1 = ()\n",
       "            q_1_1 = ()\n",
       "        else\n",
       "            p_1_1 = ()\n",
       "            q_1_1 = ()\n",
       "        end\n",
       "    end\n",
       "    local p_1_2, q_1_2\n",
       "    if s1[1] == s2[2]\n",
       "        p_1_2 = (()..., 1)\n",
       "        q_1_2 = (()..., 2)\n",
       "    else\n",
       "        if length(p_1_1) >= length(())\n",
       "            p_1_2 = p_1_1\n",
       "            q_1_2 = q_1_1\n",
       "        else\n",
       "            p_1_2 = ()\n",
       "            q_1_2 = ()\n",
       "        end\n",
       "    end\n",
       "    local p_2_1, q_2_1\n",
       "    if s1[2] == s2[1]\n",
       "        p_2_1 = (()..., 2)\n",
       "        q_2_1 = (()..., 1)\n",
       "    else\n",
       "        if length(()) >= length(p_1_1)\n",
       "            p_2_1 = ()\n",
       "            q_2_1 = ()\n",
       "        else\n",
       "            p_2_1 = p_1_1\n",
       "            q_2_1 = q_1_1\n",
       "        end\n",
       "    end\n",
       "    local p_2_2, q_2_2\n",
       "    if s1[2] == s2[2]\n",
       "        p_2_2 = (p_1_1..., 2)\n",
       "        q_2_2 = (q_1_1..., 2)\n",
       "    else\n",
       "        if length(p_2_1) >= length(p_1_2)\n",
       "            p_2_2 = p_2_1\n",
       "            q_2_2 = q_2_1\n",
       "        else\n",
       "            p_2_2 = p_1_2\n",
       "            q_2_2 = q_1_2\n",
       "        end\n",
       "    end\n",
       "    local p_1_3, q_1_3\n",
       "    if s1[1] == s2[3]\n",
       "        p_1_3 = (()..., 1)\n",
       "        q_1_3 = (()..., 3)\n",
       "    else\n",
       "        if length(p_1_2) >= length(())\n",
       "            p_1_3 = p_1_2\n",
       "            q_1_3 = q_1_2\n",
       "        else\n",
       "            p_1_3 = ()\n",
       "            q_1_3 = ()\n",
       "        end\n",
       "    end\n",
       "    local p_2_3, q_2_3\n",
       "    if s1[2] == s2[3]\n",
       "        p_2_3 = (p_1_2..., 2)\n",
       "        q_2_3 = (q_1_2..., 3)\n",
       "    else\n",
       "        if length(p_2_2) >= length(p_1_3)\n",
       "            p_2_3 = p_2_2\n",
       "            q_2_3 = q_2_2\n",
       "        else\n",
       "            p_2_3 = p_1_3\n",
       "            q_2_3 = q_1_3\n",
       "        end\n",
       "    end\n",
       "    return (p_2_3, q_2_3)\n",
       "end"
      ]
     },
     "metadata": {},
     "output_type": "display_data"
    }
   ],
   "source": [
    "lcs_gen_impl1(2, 3) |> prettify"
   ]
  },
  {
   "cell_type": "code",
   "execution_count": 12,
   "metadata": {},
   "outputs": [
    {
     "data": {
      "text/plain": [
       "lcs_gen1 (generic function with 1 method)"
      ]
     },
     "metadata": {},
     "output_type": "display_data"
    }
   ],
   "source": [
    "@generated function lcs_gen1(::Val{i}, ::Val{j}, s1, s2) where {i,j}\n",
    "    lcs_gen_impl1(i, j)\n",
    "end"
   ]
  },
  {
   "cell_type": "code",
   "execution_count": 13,
   "metadata": {},
   "outputs": [
    {
     "data": {
      "text/plain": [
       "lcs_gen1 (generic function with 2 methods)"
      ]
     },
     "metadata": {},
     "output_type": "display_data"
    }
   ],
   "source": [
    "function lcs_gen1(s1, s2)\n",
    "    lcs_gen1(Val(length(s1)), Val(length(s2)), s1, s2)\n",
    "end"
   ]
  },
  {
   "cell_type": "code",
   "execution_count": 14,
   "metadata": {},
   "outputs": [
    {
     "data": {
      "text/plain": [
       "\u001b[32m\u001b[1mTest Passed\u001b[22m\u001b[39m"
      ]
     },
     "metadata": {},
     "output_type": "display_data"
    }
   ],
   "source": [
    "@test lcs_gen1(\"ABC\", \"ACD\") == ((1, 3), (1, 2))\n",
    "# The longest common subsequence is “GTAB”.\n",
    "@test lcs_gen1(\"AGGTAB\", \"GXTXAYB\") == ((3, 4, 5, 6), (1, 3, 5, 7))\n",
    "@test lcs_gen1(\"ABC\", \"CBA\") == ((3,), (1,))"
   ]
  },
  {
   "cell_type": "markdown",
   "metadata": {},
   "source": [
    "Теперь - оптимизируем выражения..."
   ]
  },
  {
   "cell_type": "markdown",
   "metadata": {},
   "source": [
    "## Упрощение выражений через переписывание (Metatheory.jl)"
   ]
  },
  {
   "cell_type": "code",
   "execution_count": 15,
   "metadata": {},
   "outputs": [],
   "source": [
    "using Metatheory, Metatheory.Rewriters"
   ]
  },
  {
   "cell_type": "code",
   "execution_count": 16,
   "metadata": {},
   "outputs": [],
   "source": [
    "opt_rules = @theory x y begin\n",
    "\n",
    "    (x, y) => :($y,) where {x==:(()...)}\n",
    "\n",
    "    length(x) >= length(()) --> true\n",
    "    length(()) >= length(y) --> y == ()\n",
    "\n",
    "    (true ? x : y) --> x\n",
    "\n",
    "end;"
   ]
  },
  {
   "cell_type": "code",
   "execution_count": 17,
   "metadata": {},
   "outputs": [
    {
     "data": {
      "text/plain": [
       "opt_expr (generic function with 1 method)"
      ]
     },
     "metadata": {},
     "output_type": "display_data"
    }
   ],
   "source": [
    "strategy = (#= Fixpoint ∘ =# Postwalk ∘ Chain)\n",
    "opt_expr(e) = strategy(opt_rules)(e)"
   ]
  },
  {
   "cell_type": "code",
   "execution_count": 18,
   "metadata": {},
   "outputs": [
    {
     "data": {
      "text/plain": [
       "\u001b[32m\u001b[1mTest Passed\u001b[22m\u001b[39m"
      ]
     },
     "metadata": {},
     "output_type": "display_data"
    }
   ],
   "source": [
    "@test opt_expr(:((()..., 10))) == :((10,))\n",
    "@test opt_expr(:(((1, 2)..., 10))) == :(((1, 2)..., 10))\n",
    "\n",
    "@test opt_expr(:(length((1, 2)) >= length(()))) == true\n",
    "@test opt_expr(:(length(()) >= length((1, 2)))) == :((1, 2) == ())\n",
    "\n",
    "@test opt_expr(:(true ? 10 : 20)) == 10"
   ]
  },
  {
   "cell_type": "code",
   "execution_count": 19,
   "metadata": {},
   "outputs": [
    {
     "data": {
      "text/plain": [
       "lcs_gen_impl2! (generic function with 1 method)"
      ]
     },
     "metadata": {},
     "output_type": "display_data"
    }
   ],
   "source": [
    "function lcs_gen_impl2!(es, d, i, j)\n",
    "    p = Symbol(\"p_\", i, \"_\", j)\n",
    "    q = Symbol(\"q_\", i, \"_\", j)\n",
    "\n",
    "    if haskey(d, p)\n",
    "        return (d[p], d[q])\n",
    "    end\n",
    "\n",
    "    if (i == 0 || j == 0)\n",
    "        d[p] = :(())\n",
    "        d[q] = :(())\n",
    "    else\n",
    "        (p0, q0) = lcs_gen_impl2!(es, d, i - 1, j - 1)\n",
    "        (p1, q1) = lcs_gen_impl2!(es, d, i, j - 1)\n",
    "        (p2, q2) = lcs_gen_impl2!(es, d, i - 1, j)\n",
    "\n",
    "        push!(es, :(local $p, $q))\n",
    "        d[p] = p\n",
    "        d[q] = q\n",
    "\n",
    "        push!(es, opt_expr(\n",
    "            quote\n",
    "                if (s1[$i] == s2[$j])\n",
    "                    $p = ($p0..., $i)\n",
    "                    $q = ($q0..., $j)\n",
    "                else\n",
    "                    if length($p1) >= length($p2)\n",
    "                        $p = $p1\n",
    "                        $q = $q1\n",
    "                    else\n",
    "                        $p = $p2\n",
    "                        $q = $q2\n",
    "                    end\n",
    "                end\n",
    "            end))\n",
    "    end\n",
    "    (d[p], d[q])\n",
    "end"
   ]
  },
  {
   "cell_type": "code",
   "execution_count": 20,
   "metadata": {},
   "outputs": [
    {
     "data": {
      "text/plain": [
       "lcs_gen_impl2 (generic function with 1 method)"
      ]
     },
     "metadata": {},
     "output_type": "display_data"
    }
   ],
   "source": [
    "function lcs_gen_impl2(i, j)\n",
    "    es = Expr[]\n",
    "    d = Dict{Symbol,Any}()\n",
    "    (p, q) = lcs_gen_impl2!(es, d, i, j)\n",
    "\n",
    "    quote\n",
    "        $(es...)\n",
    "        return ($p, $q)\n",
    "    end\n",
    "end"
   ]
  },
  {
   "cell_type": "code",
   "execution_count": 21,
   "metadata": {},
   "outputs": [
    {
     "data": {
      "text/plain": [
       "quote\n",
       "    local p_1_1, q_1_1\n",
       "    if s1[1] == s2[1]\n",
       "        p_1_1 = (1,)\n",
       "        q_1_1 = (1,)\n",
       "    else\n",
       "        p_1_1 = ()\n",
       "        q_1_1 = ()\n",
       "    end\n",
       "    local p_1_2, q_1_2\n",
       "    if s1[1] == s2[2]\n",
       "        p_1_2 = (1,)\n",
       "        q_1_2 = (2,)\n",
       "    else\n",
       "        p_1_2 = p_1_1\n",
       "        q_1_2 = q_1_1\n",
       "    end\n",
       "    local p_2_1, q_2_1\n",
       "    if s1[2] == s2[1]\n",
       "        p_2_1 = (2,)\n",
       "        q_2_1 = (1,)\n",
       "    else\n",
       "        if p_1_1 == ()\n",
       "            p_2_1 = ()\n",
       "            q_2_1 = ()\n",
       "        else\n",
       "            p_2_1 = p_1_1\n",
       "            q_2_1 = q_1_1\n",
       "        end\n",
       "    end\n",
       "    local p_2_2, q_2_2\n",
       "    if s1[2] == s2[2]\n",
       "        p_2_2 = (p_1_1..., 2)\n",
       "        q_2_2 = (q_1_1..., 2)\n",
       "    else\n",
       "        if length(p_2_1) >= length(p_1_2)\n",
       "            p_2_2 = p_2_1\n",
       "            q_2_2 = q_2_1\n",
       "        else\n",
       "            p_2_2 = p_1_2\n",
       "            q_2_2 = q_1_2\n",
       "        end\n",
       "    end\n",
       "    local p_1_3, q_1_3\n",
       "    if s1[1] == s2[3]\n",
       "        p_1_3 = (1,)\n",
       "        q_1_3 = (3,)\n",
       "    else\n",
       "        p_1_3 = p_1_2\n",
       "        q_1_3 = q_1_2\n",
       "    end\n",
       "    local p_2_3, q_2_3\n",
       "    if s1[2] == s2[3]\n",
       "        p_2_3 = (p_1_2..., 2)\n",
       "        q_2_3 = (q_1_2..., 3)\n",
       "    else\n",
       "        if length(p_2_2) >= length(p_1_3)\n",
       "            p_2_3 = p_2_2\n",
       "            q_2_3 = q_2_2\n",
       "        else\n",
       "            p_2_3 = p_1_3\n",
       "            q_2_3 = q_1_3\n",
       "        end\n",
       "    end\n",
       "    return (p_2_3, q_2_3)\n",
       "end"
      ]
     },
     "metadata": {},
     "output_type": "display_data"
    }
   ],
   "source": [
    "lcs_gen_impl2(2, 3) |> prettify"
   ]
  },
  {
   "cell_type": "code",
   "execution_count": 22,
   "metadata": {},
   "outputs": [
    {
     "data": {
      "text/plain": [
       "lcs_gen2 (generic function with 1 method)"
      ]
     },
     "metadata": {},
     "output_type": "display_data"
    }
   ],
   "source": [
    "@generated function lcs_gen2(::Val{i}, ::Val{j}, s1, s2) where {i,j}\n",
    "    lcs_gen_impl2(i, j)\n",
    "end"
   ]
  },
  {
   "cell_type": "code",
   "execution_count": 23,
   "metadata": {},
   "outputs": [
    {
     "data": {
      "text/plain": [
       "lcs_gen2 (generic function with 2 methods)"
      ]
     },
     "metadata": {},
     "output_type": "display_data"
    }
   ],
   "source": [
    "function lcs_gen2(s1, s2)\n",
    "    lcs_gen2(Val(length(s1)), Val(length(s2)), s1, s2)\n",
    "end"
   ]
  },
  {
   "cell_type": "code",
   "execution_count": 24,
   "metadata": {},
   "outputs": [
    {
     "data": {
      "text/plain": [
       "\u001b[32m\u001b[1mTest Passed\u001b[22m\u001b[39m"
      ]
     },
     "metadata": {},
     "output_type": "display_data"
    }
   ],
   "source": [
    "@test lcs_gen2(\"ABC\", \"ACD\") == ((1, 3), (1, 2))\n",
    "# The longest common subsequence is “GTAB”.\n",
    "@test lcs_gen2(\"AGGTAB\", \"GXTXAYB\") == ((3, 4, 5, 6), (1, 3, 5, 7))\n",
    "@test lcs_gen2(\"ABC\", \"CBA\") == ((3,), (1,))"
   ]
  }
 ],
 "metadata": {
  "kernelspec": {
   "display_name": "Julia 1.11.3",
   "language": "julia",
   "name": "julia-1.11"
  },
  "language_info": {
   "file_extension": ".jl",
   "mimetype": "application/julia",
   "name": "julia",
   "version": "1.11.3"
  }
 },
 "nbformat": 4,
 "nbformat_minor": 2
}
