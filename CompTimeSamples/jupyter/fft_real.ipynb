{
 "cells": [
  {
   "cell_type": "code",
   "execution_count": 1,
   "metadata": {},
   "outputs": [],
   "source": [
    "using FFTW, Random, Test\n",
    "\n",
    "include(\"MacroUtils.jl\")\n",
    "using .MacroUtils: cleanup"
   ]
  },
  {
   "cell_type": "code",
   "execution_count": 2,
   "metadata": {},
   "outputs": [],
   "source": [
    "Random.seed!(1234)\n",
    "sample_vector_input = rand(32);\n",
    "sample_tuple_input = Tuple(sample_vector_input);"
   ]
  },
  {
   "cell_type": "code",
   "execution_count": 3,
   "metadata": {},
   "outputs": [
    {
     "data": {
      "text/plain": [
       "test_fft (generic function with 1 method)"
      ]
     },
     "metadata": {},
     "output_type": "display_data"
    }
   ],
   "source": [
    "function test_fft(fft)\n",
    "    @test FFTW.fft(sample_vector_input) ≈ fft(sample_tuple_input)\n",
    "end"
   ]
  },
  {
   "cell_type": "code",
   "execution_count": 4,
   "metadata": {},
   "outputs": [
    {
     "data": {
      "text/plain": [
       "fft_rec_c (generic function with 1 method)"
      ]
     },
     "metadata": {},
     "output_type": "display_data"
    }
   ],
   "source": [
    "function fft_rec_c(a, p, b, m)\n",
    "    n = length(p)\n",
    "    isone(n) && (b[1] = a[p[1]]; return m)\n",
    "    n2 = n ÷ 2\n",
    "    w = exp(-2 * pi * im / n)\n",
    "\n",
    "    p1 = [p[k] for k in 1:2:n]\n",
    "    p2 = [p[k] for k in 2:2:n]\n",
    "    y1 = Vector{Complex{Float64}}(undef, n2)\n",
    "    y2 = Vector{Complex{Float64}}(undef, n2)\n",
    "    m += 1\n",
    "    m = fft_rec_c(a, p1, y1, m)\n",
    "    m = fft_rec_c(a, p2, y2, m)\n",
    "    for k in 1:n2\n",
    "        t = w^(k - 1) * y2[k]\n",
    "        b[k] = y1[k] + t\n",
    "        b[k+n2] = y1[k] - t\n",
    "    end\n",
    "    return m\n",
    "end"
   ]
  },
  {
   "cell_type": "code",
   "execution_count": 5,
   "metadata": {},
   "outputs": [
    {
     "data": {
      "text/plain": [
       "fft_rec_c (generic function with 2 methods)"
      ]
     },
     "metadata": {},
     "output_type": "display_data"
    }
   ],
   "source": [
    "function fft_rec_c(a)\n",
    "    n = length(a)\n",
    "    @assert ispow2(n)\n",
    "    p = [k for k in 1:n]\n",
    "    b = Vector{Complex{Float64}}(undef, n)\n",
    "    m = fft_rec_c(a, p, b, 1)\n",
    "    return b\n",
    "end"
   ]
  },
  {
   "cell_type": "code",
   "execution_count": 6,
   "metadata": {},
   "outputs": [
    {
     "data": {
      "text/plain": [
       "4-element Vector{ComplexF64}:\n",
       " 100.0 + 0.0im\n",
       " -20.0 + 20.0im\n",
       " -20.0 + 0.0im\n",
       " -20.0 - 20.0im"
      ]
     },
     "metadata": {},
     "output_type": "display_data"
    }
   ],
   "source": [
    "fft_rec_c((10.0, 20.0, 30.0, 40.0))"
   ]
  },
  {
   "cell_type": "code",
   "execution_count": 7,
   "metadata": {},
   "outputs": [
    {
     "data": {
      "text/plain": [
       "\u001b[32m\u001b[1mTest Passed\u001b[22m\u001b[39m"
      ]
     },
     "metadata": {},
     "output_type": "display_data"
    }
   ],
   "source": [
    "test_fft(fft_rec_c)"
   ]
  },
  {
   "cell_type": "code",
   "execution_count": 8,
   "metadata": {},
   "outputs": [
    {
     "data": {
      "text/plain": [
       "mult_i (generic function with 1 method)"
      ]
     },
     "metadata": {},
     "output_type": "display_data"
    }
   ],
   "source": [
    "mult_r(x_r::T, x_i::T, y_r::T, y_i::T) where {T} =\n",
    "    x_r * y_r - x_i * y_i\n",
    "mult_i(x_r::T, x_i::T, y_r::T, y_i::T) where {T} =\n",
    "    x_r * y_i + x_i * y_r"
   ]
  },
  {
   "cell_type": "code",
   "execution_count": 9,
   "metadata": {},
   "outputs": [
    {
     "data": {
      "text/plain": [
       "fft_rec (generic function with 1 method)"
      ]
     },
     "metadata": {},
     "output_type": "display_data"
    }
   ],
   "source": [
    "function fft_rec(a, p, b_r, b_i, m)\n",
    "    n = length(p)\n",
    "    isone(n) && begin\n",
    "        b_r[1] = a[p[1]]\n",
    "        b_i[1] = 0.0\n",
    "        return m\n",
    "    end\n",
    "    n2 = n ÷ 2\n",
    "    w = exp(-2 * pi * im / n)\n",
    "\n",
    "    p1 = [p[k] for k in 1:2:n]\n",
    "    p2 = [p[k] for k in 2:2:n]\n",
    "    y1_r = Vector{Float64}(undef, n2)\n",
    "    y1_i = Vector{Float64}(undef, n2)\n",
    "    y2_r = Vector{Float64}(undef, n2)\n",
    "    y2_i = Vector{Float64}(undef, n2)\n",
    "    m += 1\n",
    "    m = fft_rec(a, p1, y1_r, y1_i, m)\n",
    "    m = fft_rec(a, p2, y2_r, y2_i, m)\n",
    "    for k in 1:n2\n",
    "        wk = w^(k - 1)\n",
    "        t_r = mult_r(real(wk), imag(wk), y2_r[k], y2_i[k])\n",
    "        t_i = mult_i(real(wk), imag(wk), y2_r[k], y2_i[k])\n",
    "        b_r[k] = y1_r[k] + t_r\n",
    "        b_i[k] = y1_i[k] + t_i\n",
    "        b_r[k+n2] = y1_r[k] - t_r\n",
    "        b_i[k+n2] = y1_i[k] - t_i\n",
    "    end\n",
    "    return m\n",
    "end"
   ]
  },
  {
   "cell_type": "code",
   "execution_count": 10,
   "metadata": {},
   "outputs": [
    {
     "data": {
      "text/plain": [
       "fft_rec (generic function with 2 methods)"
      ]
     },
     "metadata": {},
     "output_type": "display_data"
    }
   ],
   "source": [
    "function fft_rec(a)\n",
    "    n = length(a)\n",
    "    @assert ispow2(n)\n",
    "    p = [k for k in 1:n]\n",
    "    b_r = Vector{Float64}(undef, n)\n",
    "    b_i = Vector{Float64}(undef, n)\n",
    "    m = fft_rec(a, p, b_r, b_i, 1)\n",
    "    return [complex(b_r[k], b_i[k]) for k in 1:n]\n",
    "end"
   ]
  },
  {
   "cell_type": "code",
   "execution_count": 11,
   "metadata": {},
   "outputs": [
    {
     "data": {
      "text/plain": [
       "4-element Vector{ComplexF64}:\n",
       " 100.0 + 0.0im\n",
       " -20.0 + 20.0im\n",
       " -20.0 + 0.0im\n",
       " -20.0 - 20.0im"
      ]
     },
     "metadata": {},
     "output_type": "display_data"
    }
   ],
   "source": [
    "fft_rec((10.0, 20.0, 30.0, 40.0))"
   ]
  },
  {
   "cell_type": "code",
   "execution_count": 12,
   "metadata": {},
   "outputs": [
    {
     "data": {
      "text/plain": [
       "\u001b[32m\u001b[1mTest Passed\u001b[22m\u001b[39m"
      ]
     },
     "metadata": {},
     "output_type": "display_data"
    }
   ],
   "source": [
    "test_fft(fft_rec)"
   ]
  },
  {
   "cell_type": "code",
   "execution_count": 13,
   "metadata": {},
   "outputs": [
    {
     "data": {
      "text/plain": [
       "mult_i_gen1 (generic function with 1 method)"
      ]
     },
     "metadata": {},
     "output_type": "display_data"
    }
   ],
   "source": [
    "mult_r_gen1(x_r, x_i, y_r, y_i) =\n",
    "    :($x_r * $y_r - $x_i * $y_i)\n",
    "mult_i_gen1(x_r, x_i, y_r, y_i) =\n",
    "    :($x_r * $y_i + $x_i * $y_r)"
   ]
  },
  {
   "cell_type": "code",
   "execution_count": 14,
   "metadata": {},
   "outputs": [
    {
     "data": {
      "text/plain": [
       "fft_gen_impl1 (generic function with 1 method)"
      ]
     },
     "metadata": {},
     "output_type": "display_data"
    }
   ],
   "source": [
    "function fft_gen_impl1(p, b_r, b_i, m)\n",
    "    n = length(p)\n",
    "    es = Expr[]\n",
    "\n",
    "    if isone(n)\n",
    "        append!(es, (\n",
    "            :($(b_r[1]) = a[$(p[1])]),\n",
    "            :($(b_i[1]) = 0.0)\n",
    "        ))\n",
    "        return es, m\n",
    "    end\n",
    "\n",
    "    n2 = n ÷ 2\n",
    "    p1 = [p[k] for k in 1:2:n]\n",
    "    p2 = [p[k] for k in 2:2:n]\n",
    "\n",
    "    y1_r = [Symbol(\"y1_r_\", m, \"_\", k) for k in 1:n2]\n",
    "    y1_i = [Symbol(\"y1_i_\", m, \"_\", k) for k in 1:n2]\n",
    "    y2_r = [Symbol(\"y2_r_\", m, \"_\", k) for k in 1:n2]\n",
    "    y2_i = [Symbol(\"y2_i_\", m, \"_\", k) for k in 1:n2]\n",
    "    m += 1\n",
    "\n",
    "    es1, m = fft_gen_impl1(p1, y1_r, y1_i, m)\n",
    "    es2, m = fft_gen_impl1(p2, y2_r, y2_i, m)\n",
    "    append!(es, es1, es2)\n",
    "\n",
    "    w = exp(-2 * pi * im / n)\n",
    "\n",
    "    for k in 1:n2\n",
    "        wk = w^(k - 1)\n",
    "        t_r = Symbol(\"t_r_\", m)\n",
    "        t_i = Symbol(\"t_i_\", m)\n",
    "        m += 1\n",
    "\n",
    "        append!(es, (\n",
    "            :($t_r = $(mult_r_gen1(real(wk), imag(wk), y2_r[k], y2_i[k]))),\n",
    "            :($t_i = $(mult_i_gen1(real(wk), imag(wk), y2_r[k], y2_i[k]))),\n",
    "            :($(b_r[k]) = $(y1_r[k]) + $t_r),\n",
    "            :($(b_i[k]) = $(y1_i[k]) + $t_i),\n",
    "            :($(b_r[k+n2]) = $(y1_r[k]) - $t_r),\n",
    "            :($(b_i[k+n2]) = $(y1_i[k]) - $(t_i))\n",
    "        ))\n",
    "    end\n",
    "\n",
    "\n",
    "    return es, m\n",
    "end"
   ]
  },
  {
   "cell_type": "code",
   "execution_count": 15,
   "metadata": {},
   "outputs": [
    {
     "data": {
      "text/plain": [
       "fft_gen_impl1 (generic function with 2 methods)"
      ]
     },
     "metadata": {},
     "output_type": "display_data"
    }
   ],
   "source": [
    "function fft_gen_impl1(n)\n",
    "    @assert (n >= 1 && ispow2(n))\n",
    "\n",
    "    p = [k for k in 1:n]\n",
    "    b_r = [Symbol(\"y0_r_\", k) for k in 1:n]\n",
    "    b_i = [Symbol(\"y0_i_\", k) for k in 1:n]\n",
    "    es, m = fft_gen_impl1(p, b_r, b_i, 1)\n",
    "\n",
    "    b = [:(complex($(b_r[k]), $(b_i[k]))) for k in 1:n]\n",
    "    quote\n",
    "        $(es...)\n",
    "        return $(Expr(:vect, b...))\n",
    "    end\n",
    "\n",
    "end"
   ]
  },
  {
   "cell_type": "code",
   "execution_count": 16,
   "metadata": {},
   "outputs": [
    {
     "data": {
      "text/plain": [
       "quote\n",
       "    y1_r_2_1 = a[1]\n",
       "    y1_i_2_1 = 0.0\n",
       "    y2_r_2_1 = a[3]\n",
       "    y2_i_2_1 = 0.0\n",
       "    t_r_3 = 1.0y2_r_2_1 - 0.0y2_i_2_1\n",
       "    t_i_3 = 1.0y2_i_2_1 + 0.0y2_r_2_1\n",
       "    y1_r_1_1 = y1_r_2_1 + t_r_3\n",
       "    y1_i_1_1 = y1_i_2_1 + t_i_3\n",
       "    y1_r_1_2 = y1_r_2_1 - t_r_3\n",
       "    y1_i_1_2 = y1_i_2_1 - t_i_3\n",
       "    y1_r_4_1 = a[2]\n",
       "    y1_i_4_1 = 0.0\n",
       "    y2_r_4_1 = a[4]\n",
       "    y2_i_4_1 = 0.0\n",
       "    t_r_5 = 1.0y2_r_4_1 - 0.0y2_i_4_1\n",
       "    t_i_5 = 1.0y2_i_4_1 + 0.0y2_r_4_1\n",
       "    y2_r_1_1 = y1_r_4_1 + t_r_5\n",
       "    y2_i_1_1 = y1_i_4_1 + t_i_5\n",
       "    y2_r_1_2 = y1_r_4_1 - t_r_5\n",
       "    y2_i_1_2 = y1_i_4_1 - t_i_5\n",
       "    t_r_6 = 1.0y2_r_1_1 - 0.0y2_i_1_1\n",
       "    t_i_6 = 1.0y2_i_1_1 + 0.0y2_r_1_1\n",
       "    y0_r_1 = y1_r_1_1 + t_r_6\n",
       "    y0_i_1 = y1_i_1_1 + t_i_6\n",
       "    y0_r_3 = y1_r_1_1 - t_r_6\n",
       "    y0_i_3 = y1_i_1_1 - t_i_6\n",
       "    t_r_7 = 6.123233995736766e-17y2_r_1_2 - -1.0y2_i_1_2\n",
       "    t_i_7 = 6.123233995736766e-17y2_i_1_2 + -1.0y2_r_1_2\n",
       "    y0_r_2 = y1_r_1_2 + t_r_7\n",
       "    y0_i_2 = y1_i_1_2 + t_i_7\n",
       "    y0_r_4 = y1_r_1_2 - t_r_7\n",
       "    y0_i_4 = y1_i_1_2 - t_i_7\n",
       "    return [complex(y0_r_1, y0_i_1), complex(y0_r_2, y0_i_2), complex(y0_r_3, y0_i_3), complex(y0_r_4, y0_i_4)]\n",
       "end"
      ]
     },
     "metadata": {},
     "output_type": "display_data"
    }
   ],
   "source": [
    "fft_gen_impl1(4) |> cleanup"
   ]
  },
  {
   "cell_type": "code",
   "execution_count": 17,
   "metadata": {},
   "outputs": [
    {
     "data": {
      "text/plain": [
       "fft_gen1 (generic function with 1 method)"
      ]
     },
     "metadata": {},
     "output_type": "display_data"
    }
   ],
   "source": [
    "@generated function fft_gen1(a::NTuple{N,Float64}) where {N}\n",
    "    fft_gen_impl1(N)\n",
    "end"
   ]
  },
  {
   "cell_type": "code",
   "execution_count": 18,
   "metadata": {},
   "outputs": [
    {
     "data": {
      "text/plain": [
       "4-element Vector{ComplexF64}:\n",
       " 100.0 + 0.0im\n",
       " -20.0 + 20.0im\n",
       " -20.0 + 0.0im\n",
       " -20.0 - 20.0im"
      ]
     },
     "metadata": {},
     "output_type": "display_data"
    }
   ],
   "source": [
    "fft_gen1((10.0, 20.0, 30.0, 40.0))"
   ]
  },
  {
   "cell_type": "code",
   "execution_count": 19,
   "metadata": {},
   "outputs": [
    {
     "data": {
      "text/plain": [
       "\u001b[32m\u001b[1mTest Passed\u001b[22m\u001b[39m"
      ]
     },
     "metadata": {},
     "output_type": "display_data"
    }
   ],
   "source": [
    "test_fft(fft_gen1)"
   ]
  },
  {
   "cell_type": "markdown",
   "metadata": {},
   "source": [
    "## Абстрактная интерпретация (метавычисления)."
   ]
  },
  {
   "cell_type": "code",
   "execution_count": 20,
   "metadata": {},
   "outputs": [],
   "source": [
    "abstract type MVal end\n",
    "\n",
    "struct MCst <: MVal\n",
    "    v::Float64\n",
    "end\n",
    "\n",
    "struct MAny <: MVal\n",
    "    v\n",
    "end"
   ]
  },
  {
   "cell_type": "code",
   "execution_count": 21,
   "metadata": {},
   "outputs": [],
   "source": [
    "Base.hash(x::MCst, h::UInt) = hash(x.v, hash(MCst, h))\n",
    "Base.hash(x::MAny, h::UInt) = hash(x.v, hash(MAny, h))\n",
    "\n",
    "Base.:(==)(x::MVal, y::MVal) = x.v == y.v"
   ]
  },
  {
   "cell_type": "code",
   "execution_count": 22,
   "metadata": {},
   "outputs": [
    {
     "data": {
      "text/plain": [
       "add_m (generic function with 4 methods)"
      ]
     },
     "metadata": {},
     "output_type": "display_data"
    }
   ],
   "source": [
    "add_m(x::MVal, y::MVal) = MAny(:($(x.v) + $(y.v)))\n",
    "\n",
    "add_m(x::MCst, y::MCst) = MCst(x.v + y.v)\n",
    "\n",
    "function add_m(x::MCst, y::MAny)\n",
    "    if x.v == 0.0\n",
    "        y\n",
    "    else\n",
    "        MAny(:($(x.v) + $(y.v)))\n",
    "    end\n",
    "end\n",
    "\n",
    "function add_m(x::MAny, y::MCst)\n",
    "    if y.v == 0.0\n",
    "        x\n",
    "    else\n",
    "        MAny(:($(x.v) + $(y.v)))\n",
    "    end\n",
    "end"
   ]
  },
  {
   "cell_type": "code",
   "execution_count": 23,
   "metadata": {},
   "outputs": [
    {
     "data": {
      "text/plain": [
       "sub_m (generic function with 4 methods)"
      ]
     },
     "metadata": {},
     "output_type": "display_data"
    }
   ],
   "source": [
    "sub_m(x::MVal, y::MVal) = MAny(:($(x.v) - $(y.v)))\n",
    "\n",
    "sub_m(x::MCst, y::MCst) = MCst(x.v - y.v)\n",
    "\n",
    "function sub_m(x::MCst, y::MAny)\n",
    "    if x.v == 0.0\n",
    "        MAny(:(- $(y.v)))\n",
    "    else\n",
    "        MAny(:($(x.v) - $(y.v)))\n",
    "    end\n",
    "end\n",
    "\n",
    "function sub_m(x::MAny, y::MCst)\n",
    "    if y.v == 0.0\n",
    "        x\n",
    "    else\n",
    "        MAny(:($(x.v) - $(y.v)))\n",
    "    end\n",
    "end"
   ]
  },
  {
   "cell_type": "code",
   "execution_count": 24,
   "metadata": {},
   "outputs": [
    {
     "data": {
      "text/plain": [
       "mult_m (generic function with 4 methods)"
      ]
     },
     "metadata": {},
     "output_type": "display_data"
    }
   ],
   "source": [
    "mult_m(x::MVal, y::MVal) = MAny(:($(x.v) * $(y.v)))\n",
    "\n",
    "mult_m(x::MCst, y::MCst) = MCst(:($(x.v * y.v)))\n",
    "\n",
    "function mult_m(x::MCst, y::MAny)\n",
    "    if x.v == 0.0\n",
    "        MCst(0.0)\n",
    "    elseif x.v == 1.0\n",
    "        y\n",
    "    elseif x.v == -1.0\n",
    "        MAny(:(-$(y.v)))\n",
    "    else\n",
    "        MAny(:($(x.v) * $(y.v)))\n",
    "    end\n",
    "end\n",
    "\n",
    "function mult_m(x::MAny, y::MCst)\n",
    "    if y.v == 0.0\n",
    "        MCst(0.0)\n",
    "    elseif y.v == 1.0\n",
    "        x\n",
    "    elseif y.v == -1.0\n",
    "        MAny(:(-$(x.v)))\n",
    "    else\n",
    "        MAny(:($(x.v) * $(y.v)))\n",
    "    end\n",
    "end"
   ]
  },
  {
   "cell_type": "code",
   "execution_count": 25,
   "metadata": {},
   "outputs": [
    {
     "data": {
      "text/plain": [
       "MAny(:(10.0x))"
      ]
     },
     "metadata": {},
     "output_type": "display_data"
    }
   ],
   "source": [
    "mult_m(MCst(10.0), MAny(:x))"
   ]
  },
  {
   "cell_type": "code",
   "execution_count": 26,
   "metadata": {},
   "outputs": [
    {
     "data": {
      "text/plain": [
       "\u001b[32m\u001b[1mTest Passed\u001b[22m\u001b[39m"
      ]
     },
     "metadata": {},
     "output_type": "display_data"
    }
   ],
   "source": [
    "@test mult_m(MCst(2.0), MCst(3.0)) == MCst(6.0)\n",
    "@test mult_m(MCst(10.0), MAny(:x)) == MAny(:(10.0 * x))\n",
    "@test mult_m(MCst(0.0), MAny(:x)) == MCst(0.0)\n",
    "@test mult_m(MCst(1.0), MAny(:x)) == MAny(:x)\n",
    "@test mult_m(MCst(-1.0), MAny(:x)) == MAny(:(- x))\n",
    "@test mult_m(MAny(:x), MCst(20.0)) == MAny(:(x * 20.0))\n",
    "@test mult_m(MAny(:x), MCst(0.0)) == MCst(0.0)\n",
    "@test mult_m(MAny(:x), MCst(1.0)) == MAny(:x)\n",
    "@test mult_m(MAny(:x), MCst(-1.0)) == MAny(:(-x))\n",
    "@test mult_m(MAny(:x), MAny(:y)) == MAny(:(x * y))"
   ]
  },
  {
   "cell_type": "code",
   "execution_count": 27,
   "metadata": {},
   "outputs": [
    {
     "data": {
      "text/plain": [
       "mult_r_g (generic function with 1 method)"
      ]
     },
     "metadata": {},
     "output_type": "display_data"
    }
   ],
   "source": [
    "mult_r_g(x_r, x_i, y_r, y_i) =\n",
    "    sub_m(mult_m(x_r, y_r), mult_m(x_i, y_i))"
   ]
  },
  {
   "cell_type": "code",
   "execution_count": 28,
   "metadata": {},
   "outputs": [
    {
     "data": {
      "text/plain": [
       "mult_i_g (generic function with 1 method)"
      ]
     },
     "metadata": {},
     "output_type": "display_data"
    }
   ],
   "source": [
    "mult_i_g(x_r, x_i, y_r, y_i) =\n",
    "    add_m(mult_m(x_r, y_i), mult_m(x_i, y_r))"
   ]
  },
  {
   "cell_type": "code",
   "execution_count": 29,
   "metadata": {},
   "outputs": [
    {
     "data": {
      "text/plain": [
       "g (generic function with 2 methods)"
      ]
     },
     "metadata": {},
     "output_type": "display_data"
    }
   ],
   "source": [
    "g(::Symbol, x::MCst) = x\n",
    "g(s::Symbol, ::MAny) = MAny(s)"
   ]
  },
  {
   "cell_type": "code",
   "execution_count": 30,
   "metadata": {},
   "outputs": [
    {
     "data": {
      "text/plain": [
       "wp (generic function with 1 method)"
      ]
     },
     "metadata": {},
     "output_type": "display_data"
    }
   ],
   "source": [
    "function wp(n, j)\n",
    "    if j == 0\n",
    "        (1.0, 0.0)\n",
    "    elseif 2 * j == n\n",
    "        (-1.0, 0.0)\n",
    "    elseif 4 * j == n\n",
    "        (0.0, -1.0)\n",
    "    elseif 4 * j == 3 * n\n",
    "        (0.0, 1.0)\n",
    "    elseif mod(8 * j, n) == 0\n",
    "        @assert isodd((8 * j) ÷ n)\n",
    "        quadrant = 4 - ((((8 * j) ÷ n) - 1) ÷ 2)\n",
    "        cos_signs = 1.0, -1.0, -1.0, 1.0\n",
    "        sin_signs = 1.0, 1.0, -1.0, -1.0\n",
    "        csh = cos(pi / 4.0)\n",
    "        csh * cos_signs[quadrant], csh * sin_signs[quadrant]\n",
    "    else\n",
    "        theta = (-2 * j) * pi / n\n",
    "        cos(theta), sin(theta)\n",
    "    end\n",
    "end"
   ]
  },
  {
   "cell_type": "code",
   "execution_count": 31,
   "metadata": {},
   "outputs": [
    {
     "data": {
      "text/plain": [
       "16-element Vector{Tuple{Float64, Float64}}:\n",
       " (1.0, 0.0)\n",
       " (0.9238795325112867, -0.3826834323650898)\n",
       " (0.7071067811865476, -0.7071067811865476)\n",
       " (0.38268343236508984, -0.9238795325112867)\n",
       " (0.0, -1.0)\n",
       " (-0.3826834323650897, -0.9238795325112867)\n",
       " (-0.7071067811865476, -0.7071067811865476)\n",
       " (-0.9238795325112867, -0.3826834323650899)\n",
       " (-1.0, 0.0)\n",
       " (-0.9238795325112868, 0.38268343236508967)\n",
       " (-0.7071067811865476, 0.7071067811865476)\n",
       " (-0.38268343236509034, 0.9238795325112865)\n",
       " (0.0, 1.0)\n",
       " (0.38268343236509, 0.9238795325112866)\n",
       " (0.7071067811865476, 0.7071067811865476)\n",
       " (0.9238795325112865, 0.3826834323650904)"
      ]
     },
     "metadata": {},
     "output_type": "display_data"
    }
   ],
   "source": [
    "[wp(16, j) for j in 0:15]"
   ]
  },
  {
   "cell_type": "code",
   "execution_count": 32,
   "metadata": {},
   "outputs": [
    {
     "data": {
      "text/plain": [
       "fft_gen_impl2 (generic function with 1 method)"
      ]
     },
     "metadata": {},
     "output_type": "display_data"
    }
   ],
   "source": [
    "function fft_gen_impl2(p, b_r, b_i, d, m)\n",
    "    n = length(p)\n",
    "    es = Expr[]\n",
    "\n",
    "    if isone(n)\n",
    "        d[b_r[1]] = MAny(:(a[$(p[1])]))\n",
    "        d[b_i[1]] = MCst(0.0)\n",
    "        append!(es, (\n",
    "            :($(b_r[1]) = $(d[b_r[1]].v)),\n",
    "            :($(b_i[1]) = $(d[b_i[1]].v))\n",
    "        ))\n",
    "        return es, m\n",
    "    end\n",
    "\n",
    "    n2 = n ÷ 2\n",
    "    p1 = [p[k] for k in 1:2:n]\n",
    "    p2 = [p[k] for k in 2:2:n]\n",
    "\n",
    "    y1_r = [Symbol(\"y1_r_\", m, \"_\", k) for k in 1:n2]\n",
    "    y1_i = [Symbol(\"y1_i_\", m, \"_\", k) for k in 1:n2]\n",
    "    y2_r = [Symbol(\"y2_r_\", m, \"_\", k) for k in 1:n2]\n",
    "    y2_i = [Symbol(\"y2_i_\", m, \"_\", k) for k in 1:n2]\n",
    "    m += 1\n",
    "\n",
    "    es1, m = fft_gen_impl2(p1, y1_r, y1_i, d, m)\n",
    "    es2, m = fft_gen_impl2(p2, y2_r, y2_i, d, m)\n",
    "    append!(es, es1, es2)\n",
    "\n",
    "    for k in 1:n2\n",
    "        t_r = Symbol(\"t_r_\", m)\n",
    "        t_i = Symbol(\"t_i_\", m)\n",
    "        m += 1\n",
    "        \n",
    "        (wk_r, wk_i) = wp(n, k - 1)\n",
    "        t_r_m = mult_r_g(MCst(wk_r), MCst(wk_i), d[y2_r[k]], d[y2_i[k]])\n",
    "        t_i_m = mult_i_g(MCst(wk_r), MCst(wk_i), d[y2_r[k]], d[y2_i[k]])\n",
    "        b_r1_m = add_m(d[y1_r[k]], g(t_r, t_r_m))\n",
    "        d[b_r[k]] = g(b_r[k], b_r1_m)\n",
    "        b_i1_m = add_m(d[y1_i[k]], g(t_i, t_i_m))\n",
    "        d[b_i[k]] = g(b_i[k], b_i1_m)\n",
    "        b_r2_m = sub_m(d[y1_r[k]], g(t_r, t_r_m))\n",
    "        d[b_r[k+n2]] = g(b_r[k+n2], b_r2_m)\n",
    "        b_i2_m = sub_m(d[y1_i[k]], g(t_i, t_i_m))\n",
    "        d[b_i[k+n2]] = g(b_i[k+n2], b_i2_m)\n",
    "\n",
    "        append!(es, (\n",
    "            :($t_r = $(t_r_m.v)),\n",
    "            :($t_i = $(t_i_m.v)),\n",
    "            :($(b_r[k]) = $(b_r1_m.v)),\n",
    "            :($(b_i[k]) = $(b_i1_m.v)),\n",
    "            :($(b_r[k+n2]) = $(b_r2_m.v)),\n",
    "            :($(b_i[k+n2]) = $(b_i2_m.v))\n",
    "        ))\n",
    "    end\n",
    "\n",
    "    return es, m\n",
    "end"
   ]
  },
  {
   "cell_type": "code",
   "execution_count": 33,
   "metadata": {},
   "outputs": [
    {
     "data": {
      "text/plain": [
       "fft_gen_impl2 (generic function with 2 methods)"
      ]
     },
     "metadata": {},
     "output_type": "display_data"
    }
   ],
   "source": [
    "function fft_gen_impl2(n)\n",
    "    @assert (n >= 1 && ispow2(n))\n",
    "\n",
    "    p = [k for k in 1:n]\n",
    "    b_r = [Symbol(\"y0_r_\", k) for k in 1:n]\n",
    "    b_i = [Symbol(\"y0_i_\", k) for k in 1:n]\n",
    "    d = Dict{Symbol,MVal}()\n",
    "    es, m = fft_gen_impl2(p, b_r, b_i, d, 1)\n",
    "\n",
    "    b = [:(complex($(b_r[k]), $(b_i[k]))) for k in 1:n]\n",
    "    # println(d)\n",
    "    quote\n",
    "        $(es...)\n",
    "        return $(Expr(:vect, b...))\n",
    "    end\n",
    "\n",
    "end"
   ]
  },
  {
   "cell_type": "code",
   "execution_count": 34,
   "metadata": {},
   "outputs": [
    {
     "data": {
      "text/plain": [
       "quote\n",
       "    y1_r_3_1 = a[1]\n",
       "    y1_i_3_1 = 0.0\n",
       "    y2_r_3_1 = a[5]\n",
       "    y2_i_3_1 = 0.0\n",
       "    t_r_4 = a[5]\n",
       "    t_i_4 = 0.0\n",
       "    y1_r_2_1 = a[1] + t_r_4\n",
       "    y1_i_2_1 = 0.0\n",
       "    y1_r_2_2 = a[1] - t_r_4\n",
       "    y1_i_2_2 = 0.0\n",
       "    y1_r_5_1 = a[3]\n",
       "    y1_i_5_1 = 0.0\n",
       "    y2_r_5_1 = a[7]\n",
       "    y2_i_5_1 = 0.0\n",
       "    t_r_6 = a[7]\n",
       "    t_i_6 = 0.0\n",
       "    y2_r_2_1 = a[3] + t_r_6\n",
       "    y2_i_2_1 = 0.0\n",
       "    y2_r_2_2 = a[3] - t_r_6\n",
       "    y2_i_2_2 = 0.0\n",
       "    t_r_7 = y2_r_2_1\n",
       "    t_i_7 = 0.0\n",
       "    y1_r_1_1 = y1_r_2_1 + t_r_7\n",
       "    y1_i_1_1 = 0.0\n",
       "    y1_r_1_3 = y1_r_2_1 - t_r_7\n",
       "    y1_i_1_3 = 0.0\n",
       "    t_r_8 = 0.0\n",
       "    t_i_8 = -y2_r_2_2\n",
       "    y1_r_1_2 = y1_r_2_2\n",
       "    y1_i_1_2 = t_i_8\n",
       "    y1_r_1_4 = y1_r_2_2\n",
       "    y1_i_1_4 = -t_i_8\n",
       "    y1_r_10_1 = a[2]\n",
       "    y1_i_10_1 = 0.0\n",
       "    y2_r_10_1 = a[6]\n",
       "    y2_i_10_1 = 0.0\n",
       "    t_r_11 = a[6]\n",
       "    t_i_11 = 0.0\n",
       "    y1_r_9_1 = a[2] + t_r_11\n",
       "    y1_i_9_1 = 0.0\n",
       "    y1_r_9_2 = a[2] - t_r_11\n",
       "    y1_i_9_2 = 0.0\n",
       "    y1_r_12_1 = a[4]\n",
       "    y1_i_12_1 = 0.0\n",
       "    y2_r_12_1 = a[8]\n",
       "    y2_i_12_1 = 0.0\n",
       "    t_r_13 = a[8]\n",
       "    t_i_13 = 0.0\n",
       "    y2_r_9_1 = a[4] + t_r_13\n",
       "    y2_i_9_1 = 0.0\n",
       "    y2_r_9_2 = a[4] - t_r_13\n",
       "    y2_i_9_2 = 0.0\n",
       "    t_r_14 = y2_r_9_1\n",
       "    t_i_14 = 0.0\n",
       "    y2_r_1_1 = y1_r_9_1 + t_r_14\n",
       "    y2_i_1_1 = 0.0\n",
       "    y2_r_1_3 = y1_r_9_1 - t_r_14\n",
       "    y2_i_1_3 = 0.0\n",
       "    t_r_15 = 0.0\n",
       "    t_i_15 = -y2_r_9_2\n",
       "    y2_r_1_2 = y1_r_9_2\n",
       "    y2_i_1_2 = t_i_15\n",
       "    y2_r_1_4 = y1_r_9_2\n",
       "    y2_i_1_4 = -t_i_15\n",
       "    t_r_16 = y2_r_1_1\n",
       "    t_i_16 = 0.0\n",
       "    y0_r_1 = y1_r_1_1 + t_r_16\n",
       "    y0_i_1 = 0.0\n",
       "    y0_r_5 = y1_r_1_1 - t_r_16\n",
       "    y0_i_5 = 0.0\n",
       "    t_r_17 = 0.7071067811865476y2_r_1_2 - -0.7071067811865476y2_i_1_2\n",
       "    t_i_17 = 0.7071067811865476y2_i_1_2 + -0.7071067811865476y2_r_1_2\n",
       "    y0_r_2 = y1_r_1_2 + t_r_17\n",
       "    y0_i_2 = y1_i_1_2 + t_i_17\n",
       "    y0_r_6 = y1_r_1_2 - t_r_17\n",
       "    y0_i_6 = y1_i_1_2 - t_i_17\n",
       "    t_r_18 = 0.0\n",
       "    t_i_18 = -y2_r_1_3\n",
       "    y0_r_3 = y1_r_1_3\n",
       "    y0_i_3 = t_i_18\n",
       "    y0_r_7 = y1_r_1_3\n",
       "    y0_i_7 = -t_i_18\n",
       "    t_r_19 = -0.7071067811865476y2_r_1_4 - -0.7071067811865476y2_i_1_4\n",
       "    t_i_19 = -0.7071067811865476y2_i_1_4 + -0.7071067811865476y2_r_1_4\n",
       "    y0_r_4 = y1_r_1_4 + t_r_19\n",
       "    y0_i_4 = y1_i_1_4 + t_i_19\n",
       "    y0_r_8 = y1_r_1_4 - t_r_19\n",
       "    y0_i_8 = y1_i_1_4 - t_i_19\n",
       "    return [complex(y0_r_1, y0_i_1), complex(y0_r_2, y0_i_2), complex(y0_r_3, y0_i_3), complex(y0_r_4, y0_i_4), complex(y0_r_5, y0_i_5), complex(y0_r_6, y0_i_6), complex(y0_r_7, y0_i_7), complex(y0_r_8, y0_i_8)]\n",
       "end"
      ]
     },
     "metadata": {},
     "output_type": "display_data"
    }
   ],
   "source": [
    "fft_gen_impl2(8) |> cleanup"
   ]
  },
  {
   "cell_type": "code",
   "execution_count": 35,
   "metadata": {},
   "outputs": [
    {
     "data": {
      "text/plain": [
       "fft_gen2 (generic function with 1 method)"
      ]
     },
     "metadata": {},
     "output_type": "display_data"
    }
   ],
   "source": [
    "@generated function fft_gen2(a::NTuple{N,Float64}) where {N}\n",
    "    fft_gen_impl2(N)\n",
    "end"
   ]
  },
  {
   "cell_type": "code",
   "execution_count": 36,
   "metadata": {},
   "outputs": [
    {
     "data": {
      "text/plain": [
       "4-element Vector{ComplexF64}:\n",
       " 100.0 + 0.0im\n",
       " -20.0 + 20.0im\n",
       " -20.0 + 0.0im\n",
       " -20.0 - 20.0im"
      ]
     },
     "metadata": {},
     "output_type": "display_data"
    }
   ],
   "source": [
    "fft_gen2((10.0, 20.0, 30.0, 40.0))"
   ]
  },
  {
   "cell_type": "code",
   "execution_count": 37,
   "metadata": {},
   "outputs": [
    {
     "data": {
      "text/plain": [
       "\u001b[32m\u001b[1mTest Passed\u001b[22m\u001b[39m"
      ]
     },
     "metadata": {},
     "output_type": "display_data"
    }
   ],
   "source": [
    "test_fft(fft_gen2)"
   ]
  },
  {
   "cell_type": "markdown",
   "metadata": {},
   "source": [
    "## Без `MCst` и `MAny`\n",
    "\n",
    "Можно различать константы и без `MCst` и `MAny`.\n",
    "\n",
    "Но при этом (чуть-чуть) нарушается принцип, что \"нельзя заглядывать в генерируемый код\"."
   ]
  },
  {
   "cell_type": "code",
   "execution_count": 38,
   "metadata": {},
   "outputs": [
    {
     "data": {
      "text/plain": [
       "add_s (generic function with 4 methods)"
      ]
     },
     "metadata": {},
     "output_type": "display_data"
    }
   ],
   "source": [
    "\n",
    "add_s(x::Float64, y::Float64) =\n",
    "    :($(x + y))\n",
    "\n",
    "add_s(x::Float64, y) =\n",
    "    x == 0.0 ? y : :($x + $y)\n",
    "\n",
    "add_s(x, y::Float64) =\n",
    "    y == 0.0 ? x : :($x + $y)\n",
    "\n",
    "add_s(x, y) =\n",
    "    :($x + $y)"
   ]
  },
  {
   "cell_type": "code",
   "execution_count": 39,
   "metadata": {},
   "outputs": [
    {
     "data": {
      "text/plain": [
       "\u001b[32m\u001b[1mTest Passed\u001b[22m\u001b[39m"
      ]
     },
     "metadata": {},
     "output_type": "display_data"
    }
   ],
   "source": [
    "@test add_s(:(2.0), :(3.0)) == :(5.0)\n",
    "@test add_s(:(2.0), :(x)) == :(2.0 + x)\n",
    "@test add_s(:(0.0), :(x)) == :(x)\n",
    "@test add_s(:(x), :(2.0)) == :(x + 2.0)\n",
    "@test add_s(:(x), :(0.0)) == :(x)\n",
    "@test add_s(:(x), :(y)) == :(x + y)"
   ]
  },
  {
   "cell_type": "code",
   "execution_count": 40,
   "metadata": {},
   "outputs": [
    {
     "data": {
      "text/plain": [
       "sub_s (generic function with 4 methods)"
      ]
     },
     "metadata": {},
     "output_type": "display_data"
    }
   ],
   "source": [
    "sub_s(x::Float64, y::Float64) = :($(x - y))\n",
    "\n",
    "sub_s(x::Float64, y) =\n",
    "    x == 0.0 ? :(-$y) : :($x - $y)\n",
    "\n",
    "sub_s(x, y::Float64) =\n",
    "    y == 0.0 ? x : :($x - $y)\n",
    "\n",
    "sub_s(x, y) =\n",
    "    :($x - $y)"
   ]
  },
  {
   "cell_type": "code",
   "execution_count": 41,
   "metadata": {},
   "outputs": [
    {
     "data": {
      "text/plain": [
       "\u001b[32m\u001b[1mTest Passed\u001b[22m\u001b[39m"
      ]
     },
     "metadata": {},
     "output_type": "display_data"
    }
   ],
   "source": [
    "@test sub_s(:(5.0), :(2.0)) == :(3.0)\n",
    "@test sub_s(:(2.0), :(x)) == :(2.0 - x)\n",
    "@test sub_s(:(0.0), :(x)) == :(-x)\n",
    "@test sub_s(:(x), :(2.0)) == :(x - 2.0)\n",
    "@test sub_s(:(x), :(0.0)) == :(x)\n",
    "@test sub_s(:(x), :(y)) == :(x - y)"
   ]
  },
  {
   "cell_type": "code",
   "execution_count": 42,
   "metadata": {},
   "outputs": [
    {
     "data": {
      "text/plain": [
       "mult_s (generic function with 4 methods)"
      ]
     },
     "metadata": {},
     "output_type": "display_data"
    }
   ],
   "source": [
    "mult_s(x, y) = :($x * $y)\n",
    "\n",
    "mult_s(x::Float64, y::Float64) = :($(x * y))\n",
    "\n",
    "mult_s(x::Float64, y) =\n",
    "    if x == 0.0\n",
    "        :(0.0)\n",
    "    elseif x == 1.0\n",
    "        y\n",
    "    elseif x == -1.0\n",
    "        :(-$y)\n",
    "    else\n",
    "        :($x * $y)\n",
    "    end\n",
    "\n",
    "mult_s(x, y::Float64) =\n",
    "    if y == 0.0\n",
    "        :(0.0)\n",
    "    elseif y == 1.0\n",
    "        x\n",
    "    elseif y == -1.0\n",
    "        :(-$x)\n",
    "    else\n",
    "        :($x * $y)\n",
    "    end\n"
   ]
  },
  {
   "cell_type": "code",
   "execution_count": 43,
   "metadata": {},
   "outputs": [
    {
     "data": {
      "text/plain": [
       "\u001b[32m\u001b[1mTest Passed\u001b[22m\u001b[39m"
      ]
     },
     "metadata": {},
     "output_type": "display_data"
    }
   ],
   "source": [
    "@test mult_s(2.0, 3.0) == 6.0\n",
    "@test mult_s(10.0, :x) ==:(10.0 * x)\n",
    "@test mult_s(0.0, :x) == 0.0\n",
    "@test mult_s(1.0, :x) == :x\n",
    "@test mult_s(-1.0, :x) == :(- x)\n",
    "@test mult_s(:x, 20.0) == :(x * 20.0)\n",
    "@test mult_s(:x, 0.0) == 0.0\n",
    "@test mult_s(:x, 1.0) == :x\n",
    "@test mult_s(:x, -1.0) == :(-x)\n",
    "@test mult_s(:x, :y) == :(x * y)"
   ]
  },
  {
   "cell_type": "code",
   "execution_count": 44,
   "metadata": {},
   "outputs": [
    {
     "data": {
      "text/plain": [
       "mult_i_s (generic function with 1 method)"
      ]
     },
     "metadata": {},
     "output_type": "display_data"
    }
   ],
   "source": [
    "mult_r_s(x_r, x_i, y_r, y_i) =\n",
    "    if x_r == x_i\n",
    "        mult_s(x_r, sub_s(y_r, y_i))\n",
    "    elseif x_r == -x_i\n",
    "        mult_s(x_r, add_s(y_r, y_i))\n",
    "    else\n",
    "        sub_s(mult_s(x_r, y_r), mult_s(x_i, y_i))\n",
    "    end\n",
    "\n",
    "mult_i_s(x_r, x_i, y_r, y_i) =\n",
    "    if x_r == x_i\n",
    "        mult_s(x_r, add_s(y_i, y_r))\n",
    "    elseif x_r == -x_i\n",
    "        mult_s(x_r, sub_s(y_i, y_r))\n",
    "    else\n",
    "        add_s(mult_s(x_r, y_i), mult_s(x_i, y_r))\n",
    "    end"
   ]
  },
  {
   "cell_type": "code",
   "execution_count": 45,
   "metadata": {},
   "outputs": [
    {
     "data": {
      "text/plain": [
       "g_ass (generic function with 3 methods)"
      ]
     },
     "metadata": {},
     "output_type": "display_data"
    }
   ],
   "source": [
    "function g_ass(es, d, v::Symbol, c::Float64)\n",
    "    d[v] = c\n",
    "end\n",
    "\n",
    "function g_ass(es, d, v::Symbol, u::Symbol)\n",
    "    d[v] = u\n",
    "end\n",
    "\n",
    "function g_ass(es, d, v::Symbol, e)\n",
    "    d[v] = v\n",
    "    push!(es, :($v = $e))\n",
    "end"
   ]
  },
  {
   "cell_type": "code",
   "execution_count": 46,
   "metadata": {},
   "outputs": [
    {
     "data": {
      "text/plain": [
       "fft_gen_impl3 (generic function with 1 method)"
      ]
     },
     "metadata": {},
     "output_type": "display_data"
    }
   ],
   "source": [
    "function fft_gen_impl3(p, b_r, b_i, d, m)\n",
    "    n = length(p)\n",
    "    es = Expr[]\n",
    "\n",
    "    if isone(n)\n",
    "        g_ass(es, d, b_r[1], :(a[$(p[1])]))\n",
    "        g_ass(es, d, b_i[1], 0.0)\n",
    "        return es, m\n",
    "    end\n",
    "\n",
    "    n2 = n ÷ 2\n",
    "    p1 = [p[k] for k in 1:2:n]\n",
    "    p2 = [p[k] for k in 2:2:n]\n",
    "\n",
    "    y1_r = [Symbol(\"y1_r_\", m, \"_\", k) for k in 1:n2]\n",
    "    y1_i = [Symbol(\"y1_i_\", m, \"_\", k) for k in 1:n2]\n",
    "    y2_r = [Symbol(\"y2_r_\", m, \"_\", k) for k in 1:n2]\n",
    "    y2_i = [Symbol(\"y2_i_\", m, \"_\", k) for k in 1:n2]\n",
    "    m += 1\n",
    "\n",
    "    es1, m = fft_gen_impl3(p1, y1_r, y1_i, d, m)\n",
    "    es2, m = fft_gen_impl3(p2, y2_r, y2_i, d, m)\n",
    "    append!(es, es1, es2)\n",
    "\n",
    "    for k in 1:n2\n",
    "        t_r = Symbol(\"t_r_\", m)\n",
    "        t_i = Symbol(\"t_i_\", m)\n",
    "        m += 1\n",
    "\n",
    "        (wk_r, wk_i) = wp(n, k - 1)\n",
    "        g_ass(es, d, t_r,\n",
    "            mult_r_s(wk_r, wk_i, d[y2_r[k]], d[y2_i[k]]))\n",
    "        g_ass(es, d, t_i,\n",
    "            mult_i_s(wk_r, wk_i, d[y2_r[k]], d[y2_i[k]]))\n",
    "        g_ass(es, d, b_r[k],\n",
    "            add_s(d[y1_r[k]], d[t_r]))\n",
    "        g_ass(es, d, b_i[k],\n",
    "            add_s(d[y1_i[k]], d[t_i]))\n",
    "        g_ass(es, d, b_r[k+n2],\n",
    "            sub_s(d[y1_r[k]], d[t_r]))\n",
    "        g_ass(es, d, b_i[k+n2],\n",
    "            sub_s(d[y1_i[k]], d[t_i]))\n",
    "    end\n",
    "\n",
    "    return es, m\n",
    "end"
   ]
  },
  {
   "cell_type": "code",
   "execution_count": 47,
   "metadata": {},
   "outputs": [
    {
     "data": {
      "text/plain": [
       "fft_gen_impl3 (generic function with 2 methods)"
      ]
     },
     "metadata": {},
     "output_type": "display_data"
    }
   ],
   "source": [
    "function fft_gen_impl3(n)\n",
    "    @assert (n >= 1 && ispow2(n))\n",
    "\n",
    "    p = [k for k in 1:n]\n",
    "    b_r = [Symbol(\"y0_r_\", k) for k in 1:n]\n",
    "    b_i = [Symbol(\"y0_i_\", k) for k in 1:n]\n",
    "    d = Dict{Symbol,Any}()\n",
    "\n",
    "    es, m = fft_gen_impl3(p, b_r, b_i, d, 1)\n",
    "\n",
    "    b = [:(complex($(d[b_r[k]]), $(d[b_i[k]]))) for k in 1:n]\n",
    "    # println(d)\n",
    "    quote\n",
    "        $(es...)\n",
    "        return $(Expr(:vect, b...))\n",
    "    end\n",
    "\n",
    "end"
   ]
  },
  {
   "cell_type": "code",
   "execution_count": 48,
   "metadata": {},
   "outputs": [
    {
     "data": {
      "text/plain": [
       "quote\n",
       "    y1_r_3_1 = a[1]\n",
       "    y2_r_3_1 = a[5]\n",
       "    y1_r_2_1 = y1_r_3_1 + y2_r_3_1\n",
       "    y1_r_2_2 = y1_r_3_1 - y2_r_3_1\n",
       "    y1_r_5_1 = a[3]\n",
       "    y2_r_5_1 = a[7]\n",
       "    y2_r_2_1 = y1_r_5_1 + y2_r_5_1\n",
       "    y2_r_2_2 = y1_r_5_1 - y2_r_5_1\n",
       "    y1_r_1_1 = y1_r_2_1 + y2_r_2_1\n",
       "    y1_r_1_3 = y1_r_2_1 - y2_r_2_1\n",
       "    t_i_8 = -y2_r_2_2\n",
       "    y1_i_1_4 = -t_i_8\n",
       "    y1_r_10_1 = a[2]\n",
       "    y2_r_10_1 = a[6]\n",
       "    y1_r_9_1 = y1_r_10_1 + y2_r_10_1\n",
       "    y1_r_9_2 = y1_r_10_1 - y2_r_10_1\n",
       "    y1_r_12_1 = a[4]\n",
       "    y2_r_12_1 = a[8]\n",
       "    y2_r_9_1 = y1_r_12_1 + y2_r_12_1\n",
       "    y2_r_9_2 = y1_r_12_1 - y2_r_12_1\n",
       "    y2_r_1_1 = y1_r_9_1 + y2_r_9_1\n",
       "    y2_r_1_3 = y1_r_9_1 - y2_r_9_1\n",
       "    t_i_15 = -y2_r_9_2\n",
       "    y2_i_1_4 = -t_i_15\n",
       "    y0_r_1 = y1_r_1_1 + y2_r_1_1\n",
       "    y0_r_5 = y1_r_1_1 - y2_r_1_1\n",
       "    t_r_17 = 0.7071067811865476 * (y1_r_9_2 + t_i_15)\n",
       "    t_i_17 = 0.7071067811865476 * (t_i_15 - y1_r_9_2)\n",
       "    y0_r_2 = y1_r_2_2 + t_r_17\n",
       "    y0_i_2 = t_i_8 + t_i_17\n",
       "    y0_r_6 = y1_r_2_2 - t_r_17\n",
       "    y0_i_6 = t_i_8 - t_i_17\n",
       "    t_i_18 = -y2_r_1_3\n",
       "    y0_i_7 = -t_i_18\n",
       "    t_r_19 = -0.7071067811865476 * (y1_r_9_2 - y2_i_1_4)\n",
       "    t_i_19 = -0.7071067811865476 * (y2_i_1_4 + y1_r_9_2)\n",
       "    y0_r_4 = y1_r_2_2 + t_r_19\n",
       "    y0_i_4 = y1_i_1_4 + t_i_19\n",
       "    y0_r_8 = y1_r_2_2 - t_r_19\n",
       "    y0_i_8 = y1_i_1_4 - t_i_19\n",
       "    return [complex(y0_r_1, 0.0), complex(y0_r_2, y0_i_2), complex(y1_r_1_3, t_i_18), complex(y0_r_4, y0_i_4), complex(y0_r_5, 0.0), complex(y0_r_6, y0_i_6), complex(y1_r_1_3, y0_i_7), complex(y0_r_8, y0_i_8)]\n",
       "end"
      ]
     },
     "metadata": {},
     "output_type": "display_data"
    }
   ],
   "source": [
    "fft_gen_impl3(8) |> cleanup"
   ]
  },
  {
   "cell_type": "code",
   "execution_count": 49,
   "metadata": {},
   "outputs": [
    {
     "data": {
      "text/plain": [
       "fft_gen3 (generic function with 1 method)"
      ]
     },
     "metadata": {},
     "output_type": "display_data"
    }
   ],
   "source": [
    "@generated function fft_gen3(a::NTuple{N,Float64}) where {N}\n",
    "    fft_gen_impl3(N)\n",
    "end"
   ]
  },
  {
   "cell_type": "code",
   "execution_count": 50,
   "metadata": {},
   "outputs": [
    {
     "data": {
      "text/plain": [
       "4-element Vector{ComplexF64}:\n",
       " 100.0 + 0.0im\n",
       " -20.0 + 20.0im\n",
       " -20.0 + 0.0im\n",
       " -20.0 - 20.0im"
      ]
     },
     "metadata": {},
     "output_type": "display_data"
    }
   ],
   "source": [
    "fft_gen3((10.0, 20.0, 30.0, 40.0))"
   ]
  },
  {
   "cell_type": "code",
   "execution_count": 51,
   "metadata": {},
   "outputs": [
    {
     "data": {
      "text/plain": [
       "\u001b[32m\u001b[1mTest Passed\u001b[22m\u001b[39m"
      ]
     },
     "metadata": {},
     "output_type": "display_data"
    }
   ],
   "source": [
    "test_fft(fft_gen3)"
   ]
  }
 ],
 "metadata": {
  "kernelspec": {
   "display_name": "Julia 1.10.4",
   "language": "julia",
   "name": "julia-1.10"
  },
  "language_info": {
   "file_extension": ".jl",
   "mimetype": "application/julia",
   "name": "julia",
   "version": "1.10.4"
  }
 },
 "nbformat": 4,
 "nbformat_minor": 2
}
