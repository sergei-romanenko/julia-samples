{
 "cells": [
  {
   "cell_type": "markdown",
   "metadata": {},
   "source": [
    "### Peano numbers"
   ]
  },
  {
   "cell_type": "code",
   "execution_count": 85,
   "metadata": {},
   "outputs": [],
   "source": [
    "abstract type Peano end"
   ]
  },
  {
   "cell_type": "code",
   "execution_count": 86,
   "metadata": {},
   "outputs": [],
   "source": [
    "struct Zero <: Peano end"
   ]
  },
  {
   "cell_type": "code",
   "execution_count": 87,
   "metadata": {},
   "outputs": [],
   "source": [
    "struct Succ{T<:Peano} <: Peano\n",
    "\tprev::T\n",
    "end"
   ]
  },
  {
   "cell_type": "code",
   "execution_count": 88,
   "metadata": {},
   "outputs": [
    {
     "data": {
      "text/plain": [
       "DataType"
      ]
     },
     "metadata": {},
     "output_type": "display_data"
    }
   ],
   "source": [
    "typeof(Peano)"
   ]
  },
  {
   "cell_type": "code",
   "execution_count": 89,
   "metadata": {},
   "outputs": [
    {
     "data": {
      "text/plain": [
       "Zero()"
      ]
     },
     "metadata": {},
     "output_type": "display_data"
    }
   ],
   "source": [
    "p0 = Zero()"
   ]
  },
  {
   "cell_type": "code",
   "execution_count": 90,
   "metadata": {},
   "outputs": [
    {
     "data": {
      "text/plain": [
       "Succ{Zero}(Zero())"
      ]
     },
     "metadata": {},
     "output_type": "display_data"
    }
   ],
   "source": [
    "p1 = Succ(p0)"
   ]
  },
  {
   "cell_type": "code",
   "execution_count": 91,
   "metadata": {},
   "outputs": [
    {
     "data": {
      "text/plain": [
       "Succ{Zero}"
      ]
     },
     "metadata": {},
     "output_type": "display_data"
    }
   ],
   "source": [
    "typeof(p1)"
   ]
  },
  {
   "cell_type": "code",
   "execution_count": 92,
   "metadata": {},
   "outputs": [
    {
     "data": {
      "text/plain": [
       "Zero()"
      ]
     },
     "metadata": {},
     "output_type": "display_data"
    }
   ],
   "source": [
    "p1.prev"
   ]
  },
  {
   "cell_type": "code",
   "execution_count": 93,
   "metadata": {},
   "outputs": [
    {
     "data": {
      "text/plain": [
       "Succ{Succ{Zero}}(Succ{Zero}(Zero()))"
      ]
     },
     "metadata": {},
     "output_type": "display_data"
    }
   ],
   "source": [
    "p2 = Succ(p1)"
   ]
  },
  {
   "cell_type": "code",
   "execution_count": 94,
   "metadata": {},
   "outputs": [
    {
     "data": {
      "text/plain": [
       "Succ{Succ{Succ{Zero}}}(Succ{Succ{Zero}}(Succ{Zero}(Zero())))"
      ]
     },
     "metadata": {},
     "output_type": "display_data"
    }
   ],
   "source": [
    "p3 = Succ(p2)"
   ]
  },
  {
   "cell_type": "code",
   "execution_count": 95,
   "metadata": {},
   "outputs": [
    {
     "data": {
      "text/plain": [
       "true"
      ]
     },
     "metadata": {},
     "output_type": "display_data"
    }
   ],
   "source": [
    "Succ(Zero()) == p1"
   ]
  },
  {
   "cell_type": "markdown",
   "metadata": {},
   "source": [
    "### `add`"
   ]
  },
  {
   "cell_type": "code",
   "execution_count": 96,
   "metadata": {},
   "outputs": [
    {
     "data": {
      "text/plain": [
       "add (generic function with 2 methods)"
      ]
     },
     "metadata": {},
     "output_type": "display_data"
    }
   ],
   "source": [
    "add(x::Zero, y::Peano) = y"
   ]
  },
  {
   "cell_type": "code",
   "execution_count": 97,
   "metadata": {},
   "outputs": [
    {
     "data": {
      "text/plain": [
       "add (generic function with 2 methods)"
      ]
     },
     "metadata": {},
     "output_type": "display_data"
    }
   ],
   "source": [
    "add(x::Succ, y::Peano) = Succ(add(x.prev, y))"
   ]
  },
  {
   "cell_type": "code",
   "execution_count": 98,
   "metadata": {},
   "outputs": [
    {
     "data": {
      "text/plain": [
       "Succ{Succ{Succ{Succ{Succ{Zero}}}}}(Succ{Succ{Succ{Succ{Zero}}}}(Succ{Succ{Succ{Zero}}}(Succ{Succ{Zero}}(Succ{Zero}(Zero())))))"
      ]
     },
     "metadata": {},
     "output_type": "display_data"
    }
   ],
   "source": [
    "add(p2, p3)"
   ]
  },
  {
   "cell_type": "code",
   "execution_count": 99,
   "metadata": {},
   "outputs": [
    {
     "data": {
      "text/plain": [
       "CodeInfo(\n",
       "\u001b[90m1 ─\u001b[39m     return $(QuoteNode(Succ{Succ{Succ{Zero}}}(Succ{Succ{Zero}}(Succ{Zero}(Zero())))))\n",
       ") => Succ{Succ{Succ{Zero}}}"
      ]
     },
     "metadata": {},
     "output_type": "display_data"
    }
   ],
   "source": [
    "@code_typed add(p1, p2)"
   ]
  },
  {
   "cell_type": "markdown",
   "metadata": {},
   "source": [
    "```text\n",
    "ackermann(Z, n) = S(n);\n",
    "ackermann(S(m), Z) = ackermann(m, S(Z));\n",
    "ackermann(S(m), S(n)) = ackermann(m, a(S(m), n));\n",
    "```"
   ]
  },
  {
   "cell_type": "code",
   "execution_count": 100,
   "metadata": {},
   "outputs": [
    {
     "data": {
      "text/plain": [
       "ackerman (generic function with 3 methods)"
      ]
     },
     "metadata": {},
     "output_type": "display_data"
    }
   ],
   "source": [
    "ackerman(m::Zero, n::Peano) = Succ(n)"
   ]
  },
  {
   "cell_type": "code",
   "execution_count": 101,
   "metadata": {},
   "outputs": [
    {
     "data": {
      "text/plain": [
       "ackerman (generic function with 3 methods)"
      ]
     },
     "metadata": {},
     "output_type": "display_data"
    }
   ],
   "source": [
    "ackerman(m::Succ, n::Zero) = ackerman(m.prev, Succ(Zero()))"
   ]
  },
  {
   "cell_type": "code",
   "execution_count": 102,
   "metadata": {},
   "outputs": [
    {
     "data": {
      "text/plain": [
       "ackerman (generic function with 3 methods)"
      ]
     },
     "metadata": {},
     "output_type": "display_data"
    }
   ],
   "source": [
    "ackerman(m::Succ, n::Succ) = ackerman(m.prev, ackerman(m, n.prev))"
   ]
  },
  {
   "cell_type": "code",
   "execution_count": 103,
   "metadata": {},
   "outputs": [
    {
     "data": {
      "text/plain": [
       "Succ{Succ{Succ{Succ{Succ{Succ{Succ{Succ{Succ{Succ{Succ{Succ{Succ{Zero}}}}}}}}}}}}}(Succ{Succ{Succ{Succ{Succ{Succ{Succ{Succ{Succ{Succ{Succ{Succ{Zero}}}}}}}}}}}}(Succ{Succ{Succ{Succ{Succ{Succ{Succ{Succ{Succ{Succ{Succ{Zero}}}}}}}}}}}(Succ{Succ{Succ{Succ{Succ{Succ{Succ{Succ{Succ{Succ{Zero}}}}}}}}}}(Succ{Succ{Succ{Succ{Succ{Succ{Succ{Succ{Succ{Zero}}}}}}}}}(Succ{Succ{Succ{Succ{Succ{Succ{Succ{Succ{Zero}}}}}}}}(Succ{Succ{Succ{Succ{Succ{Succ{Succ{Zero}}}}}}}(Succ{Succ{Succ{Succ{Succ{Succ{Zero}}}}}}(Succ{Succ{Succ{Succ{Succ{Zero}}}}}(Succ{Succ{Succ{Succ{Zero}}}}(Succ{Succ{Succ{Zero}}}(Succ{Succ{Zero}}(Succ{Zero}(Zero())))))))))))))"
      ]
     },
     "metadata": {},
     "output_type": "display_data"
    }
   ],
   "source": [
    "ackerman(p3, p1)"
   ]
  },
  {
   "cell_type": "code",
   "execution_count": 104,
   "metadata": {},
   "outputs": [
    {
     "data": {
      "text/plain": [
       "svec(MethodInstance for ackerman(::\u001b[0mSucc{Succ{Succ{Zero}}}, ::\u001b[0mSucc{Zero}), MethodInstance for ackerman(::\u001b[0mSucc{Succ{Zero}}, ::\u001b[0mSucc{Zero}), MethodInstance for ackerman(::\u001b[0mSucc{Zero}, ::\u001b[0mSucc{Zero}), MethodInstance for ackerman(::\u001b[0mSucc{Zero}, ::\u001b[0mSucc{Succ{Succ{Zero}}}), MethodInstance for ackerman(::\u001b[0mSucc{Zero}, ::\u001b[0mSucc{Succ{Zero}}), MethodInstance for ackerman(::\u001b[0mSucc{Succ{Zero}}, ::\u001b[0mSucc{Succ{Succ{Succ{Succ{Zero}}}}}), MethodInstance for ackerman(::\u001b[0mSucc{Succ{Zero}}, ::\u001b[0mSucc{Succ{Succ{Succ{Zero}}}}), MethodInstance for ackerman(::\u001b[0mSucc{Succ{Zero}}, ::\u001b[0mSucc{Succ{Succ{Zero}}}), MethodInstance for ackerman(::\u001b[0mSucc{Succ{Zero}}, ::\u001b[0mSucc{Succ{Zero}}), MethodInstance for ackerman(::\u001b[0mSucc{Zero}, ::\u001b[0mSucc{Succ{Succ{Succ{Succ{Zero}}}}}), MethodInstance for ackerman(::\u001b[0mSucc{Zero}, ::\u001b[0mSucc{Succ{Succ{Succ{Zero}}}}), MethodInstance for ackerman(::\u001b[0mSucc{Zero}, ::\u001b[0mSucc{Succ{Succ{Succ{Succ{Succ{Succ{Zero}}}}}}}), MethodInstance for ackerman(::\u001b[0mSucc{Zero}, ::\u001b[0mSucc{Succ{Succ{Succ{Succ{Succ{Zero}}}}}}), MethodInstance for ackerman(::\u001b[0mSucc{Zero}, ::\u001b[0mSucc{Succ{Succ{Succ{Succ{Succ{Succ{Succ{Succ{Zero}}}}}}}}}), MethodInstance for ackerman(::\u001b[0mSucc{Zero}, ::\u001b[0mSucc{Succ{Succ{Succ{Succ{Succ{Succ{Succ{Zero}}}}}}}}), MethodInstance for ackerman(::\u001b[0mSucc{Zero}, ::\u001b[0mSucc{Succ{Succ{Succ{Succ{Succ{Succ{Succ{Succ{Succ{Succ{Zero}}}}}}}}}}}), MethodInstance for ackerman(::\u001b[0mSucc{Zero}, ::\u001b[0mSucc{Succ{Succ{Succ{Succ{Succ{Succ{Succ{Succ{Succ{Zero}}}}}}}}}}), #undef, #undef, #undef, #undef, #undef, #undef, #undef, #undef, #undef, MethodInstance for ackerman(::\u001b[0mSucc{Zero}, ::\u001b[0mSucc))"
      ]
     },
     "metadata": {},
     "output_type": "display_data"
    }
   ],
   "source": [
    "(@which ackerman(p3, p1)).specializations"
   ]
  },
  {
   "cell_type": "markdown",
   "metadata": {},
   "source": [
    "### `repeat`"
   ]
  },
  {
   "cell_type": "code",
   "execution_count": 105,
   "metadata": {},
   "outputs": [
    {
     "data": {
      "text/plain": [
       "repeat (generic function with 2 methods)"
      ]
     },
     "metadata": {},
     "output_type": "display_data"
    }
   ],
   "source": [
    "repeat(n::Zero, a) = ()"
   ]
  },
  {
   "cell_type": "code",
   "execution_count": 106,
   "metadata": {},
   "outputs": [
    {
     "data": {
      "text/plain": [
       "repeat (generic function with 2 methods)"
      ]
     },
     "metadata": {},
     "output_type": "display_data"
    }
   ],
   "source": [
    "repeat(n::Succ, a) = (a, repeat(n.prev, a))"
   ]
  },
  {
   "cell_type": "code",
   "execution_count": 107,
   "metadata": {},
   "outputs": [
    {
     "data": {
      "text/plain": [
       "(99, (99, (99, ())))"
      ]
     },
     "metadata": {},
     "output_type": "display_data"
    }
   ],
   "source": [
    "repeat(p3, 99)"
   ]
  },
  {
   "cell_type": "code",
   "execution_count": 108,
   "metadata": {},
   "outputs": [
    {
     "data": {
      "text/plain": [
       "CodeInfo(\n",
       "\u001b[90m1 ─\u001b[39m %1 = Core.tuple(a, ())\u001b[36m::Tuple{Int64, Tuple{}}\u001b[39m\n",
       "\u001b[90m│  \u001b[39m %2 = Core.tuple(a, %1)\u001b[36m::Tuple{Int64, Tuple{Int64, Tuple{}}}\u001b[39m\n",
       "\u001b[90m│  \u001b[39m %3 = Core.tuple(a, %2)\u001b[36m::Core.PartialStruct(Tuple{Int64, Tuple{Int64, Tuple{Int64, Tuple{}}}}, Any[Int64, Core.PartialStruct(Tuple{Int64, Tuple{Int64, Tuple{}}}, Any[Int64, Core.PartialStruct(Tuple{Int64, Tuple{}}, Any[Int64, Core.Const(())])])])\u001b[39m\n",
       "\u001b[90m└──\u001b[39m      return %3\n",
       ") => Tuple{Int64, Tuple{Int64, Tuple{Int64, Tuple{}}}}"
      ]
     },
     "metadata": {},
     "output_type": "display_data"
    }
   ],
   "source": [
    "@code_typed repeat(p3, 99)"
   ]
  },
  {
   "cell_type": "code",
   "execution_count": 109,
   "metadata": {},
   "outputs": [
    {
     "name": "stdout",
     "output_type": "stream",
     "text": [
      "\t\u001b[0m.text\n",
      "\u001b[90m; ┌ @ julia-pe-pluto.ipynb:1 within `repeat'\u001b[39m\n",
      "\t\u001b[96m\u001b[1mmovq\u001b[22m\u001b[39m\t\u001b[0m%rdi\u001b[0m, \u001b[0m%rax\n",
      "\t\u001b[96m\u001b[1mmovq\u001b[22m\u001b[39m\t\u001b[0m%rsi\u001b[0m, \u001b[33m(\u001b[39m\u001b[0m%rdi\u001b[33m)\u001b[39m\n",
      "\t\u001b[96m\u001b[1mmovq\u001b[22m\u001b[39m\t\u001b[0m%rsi\u001b[0m, \u001b[33m8\u001b[39m\u001b[33m(\u001b[39m\u001b[0m%rdi\u001b[33m)\u001b[39m\n",
      "\t\u001b[96m\u001b[1mmovq\u001b[22m\u001b[39m\t\u001b[0m%rsi\u001b[0m, \u001b[33m16\u001b[39m\u001b[33m(\u001b[39m\u001b[0m%rdi\u001b[33m)\u001b[39m\n",
      "\t\u001b[96m\u001b[1mretq\u001b[22m\u001b[39m\n",
      "\t\u001b[96m\u001b[1mnop\u001b[22m\u001b[39m\n",
      "\u001b[90m; └\u001b[39m\n"
     ]
    }
   ],
   "source": [
    "@code_native repeat(p3, 99)"
   ]
  },
  {
   "cell_type": "markdown",
   "metadata": {},
   "source": [
    "### `pw`"
   ]
  },
  {
   "cell_type": "code",
   "execution_count": 110,
   "metadata": {},
   "outputs": [
    {
     "data": {
      "text/plain": [
       "pw (generic function with 3 methods)"
      ]
     },
     "metadata": {},
     "output_type": "display_data"
    }
   ],
   "source": [
    "pw(n::Zero, x) = one(x)"
   ]
  },
  {
   "cell_type": "code",
   "execution_count": 111,
   "metadata": {},
   "outputs": [
    {
     "data": {
      "text/plain": [
       "pw (generic function with 3 methods)"
      ]
     },
     "metadata": {},
     "output_type": "display_data"
    }
   ],
   "source": [
    "pw(n::Succ, x) = x * pw(n.prev, x)"
   ]
  },
  {
   "cell_type": "code",
   "execution_count": 112,
   "metadata": {},
   "outputs": [
    {
     "data": {
      "text/plain": [
       "CodeInfo(\n",
       "\u001b[90m1 ─\u001b[39m %1 = Base.mul_int(x, 1)\u001b[36m::Int64\u001b[39m\n",
       "\u001b[90m│  \u001b[39m %2 = Base.mul_int(x, %1)\u001b[36m::Int64\u001b[39m\n",
       "\u001b[90m│  \u001b[39m %3 = Base.mul_int(x, %2)\u001b[36m::Int64\u001b[39m\n",
       "\u001b[90m└──\u001b[39m      return %3\n",
       ") => Int64"
      ]
     },
     "metadata": {},
     "output_type": "display_data"
    }
   ],
   "source": [
    "@code_typed pw(p3, 99)"
   ]
  },
  {
   "cell_type": "code",
   "execution_count": 113,
   "metadata": {},
   "outputs": [
    {
     "name": "stdout",
     "output_type": "stream",
     "text": [
      "\t\u001b[0m.text\n",
      "\u001b[90m; ┌ @ julia-pe-pluto.ipynb:1 within `pw' @ julia-pe-pluto.ipynb:1\u001b[39m\n",
      "\u001b[90m; │┌ @ int.jl:88 within `*'\u001b[39m\n",
      "\t\u001b[96m\u001b[1mmovq\u001b[22m\u001b[39m\t\u001b[0m%rdi\u001b[0m, \u001b[0m%rax\n",
      "\t\u001b[96m\u001b[1mimulq\u001b[22m\u001b[39m\t\u001b[0m%rdi\u001b[0m, \u001b[0m%rax\n",
      "\u001b[90m; │└\u001b[39m\n",
      "\u001b[90m; │ @ julia-pe-pluto.ipynb:1 within `pw'\u001b[39m\n",
      "\u001b[90m; │┌ @ int.jl:88 within `*'\u001b[39m\n",
      "\t\u001b[96m\u001b[1mimulq\u001b[22m\u001b[39m\t\u001b[0m%rdi\u001b[0m, \u001b[0m%rax\n",
      "\u001b[90m; │└\u001b[39m\n",
      "\t\u001b[96m\u001b[1mretq\u001b[22m\u001b[39m\n",
      "\t\u001b[96m\u001b[1mnopl\u001b[22m\u001b[39m\t\u001b[33m(\u001b[39m\u001b[0m%rax\u001b[33m)\u001b[39m\n",
      "\u001b[90m; └\u001b[39m\n"
     ]
    }
   ],
   "source": [
    "@code_native pw(p3, 99)"
   ]
  },
  {
   "cell_type": "markdown",
   "metadata": {},
   "source": [
    "### `Val(c)`"
   ]
  },
  {
   "cell_type": "code",
   "execution_count": 114,
   "metadata": {},
   "outputs": [
    {
     "data": {
      "text/plain": [
       "Val{99}()"
      ]
     },
     "metadata": {},
     "output_type": "display_data"
    }
   ],
   "source": [
    "Val(99)"
   ]
  },
  {
   "cell_type": "code",
   "execution_count": 115,
   "metadata": {},
   "outputs": [
    {
     "data": {
      "text/plain": [
       "Val{99}"
      ]
     },
     "metadata": {},
     "output_type": "display_data"
    }
   ],
   "source": [
    "typeof(Val(99))"
   ]
  },
  {
   "cell_type": "code",
   "execution_count": 116,
   "metadata": {},
   "outputs": [
    {
     "data": {
      "text/plain": [
       "Val{(1, 2, (3, 4))}"
      ]
     },
     "metadata": {},
     "output_type": "display_data"
    }
   ],
   "source": [
    "typeof(Val((1,2,(3,4))))"
   ]
  },
  {
   "cell_type": "markdown",
   "metadata": {},
   "source": [
    "### Extracting `c` from `Val(c)`"
   ]
  },
  {
   "cell_type": "code",
   "execution_count": 117,
   "metadata": {},
   "outputs": [
    {
     "data": {
      "text/plain": [
       "get_val (generic function with 1 method)"
      ]
     },
     "metadata": {},
     "output_type": "display_data"
    }
   ],
   "source": [
    "get_val(::Val{n}) where {n} = n"
   ]
  },
  {
   "cell_type": "code",
   "execution_count": 118,
   "metadata": {},
   "outputs": [
    {
     "data": {
      "text/plain": [
       "99"
      ]
     },
     "metadata": {},
     "output_type": "display_data"
    }
   ],
   "source": [
    "get_val(Val(99))"
   ]
  },
  {
   "cell_type": "code",
   "execution_count": 119,
   "metadata": {},
   "outputs": [
    {
     "data": {
      "text/plain": [
       "(1, 2, (3, 4))"
      ]
     },
     "metadata": {},
     "output_type": "display_data"
    }
   ],
   "source": [
    "get_val(Val((1,2,(3,4))))"
   ]
  },
  {
   "cell_type": "code",
   "execution_count": 120,
   "metadata": {},
   "outputs": [
    {
     "data": {
      "text/plain": [
       "(:A, :B, :C)"
      ]
     },
     "metadata": {},
     "output_type": "display_data"
    }
   ],
   "source": [
    "get_val(Val((:A, :B, :C)))"
   ]
  },
  {
   "cell_type": "markdown",
   "metadata": {},
   "source": [
    "### `pw(::Val{c}, x)`"
   ]
  },
  {
   "cell_type": "code",
   "execution_count": 121,
   "metadata": {},
   "outputs": [
    {
     "data": {
      "text/plain": [
       "pw_v (generic function with 3 methods)"
      ]
     },
     "metadata": {},
     "output_type": "display_data"
    }
   ],
   "source": [
    "pw_v(::Val{0}, x) = one(x)"
   ]
  },
  {
   "cell_type": "code",
   "execution_count": 122,
   "metadata": {},
   "outputs": [
    {
     "data": {
      "text/plain": [
       "pw_v (generic function with 3 methods)"
      ]
     },
     "metadata": {},
     "output_type": "display_data"
    }
   ],
   "source": [
    "pw_v(::Val{n}, x) where {n} = x * pw_v(Val(n-1), x)"
   ]
  },
  {
   "cell_type": "code",
   "execution_count": 123,
   "metadata": {},
   "outputs": [
    {
     "data": {
      "text/plain": [
       "pw_v (generic function with 3 methods)"
      ]
     },
     "metadata": {},
     "output_type": "display_data"
    }
   ],
   "source": [
    "pw_v(n::Integer, x) = pw_v(Val(n), x)"
   ]
  },
  {
   "cell_type": "code",
   "execution_count": 124,
   "metadata": {},
   "outputs": [
    {
     "data": {
      "text/plain": [
       "8.0"
      ]
     },
     "metadata": {},
     "output_type": "display_data"
    }
   ],
   "source": [
    "pw_v(3, 2.0)"
   ]
  },
  {
   "cell_type": "code",
   "execution_count": 125,
   "metadata": {},
   "outputs": [
    {
     "data": {
      "text/plain": [
       "100000"
      ]
     },
     "metadata": {},
     "output_type": "display_data"
    }
   ],
   "source": [
    "pw_v(5, 10)"
   ]
  },
  {
   "cell_type": "code",
   "execution_count": 126,
   "metadata": {},
   "outputs": [
    {
     "data": {
      "text/plain": [
       "CodeInfo(\n",
       "\u001b[90m1 ─\u001b[39m %1 = Base.mul_int(x, 1)\u001b[36m::Int64\u001b[39m\n",
       "\u001b[90m│  \u001b[39m %2 = Base.mul_int(x, %1)\u001b[36m::Int64\u001b[39m\n",
       "\u001b[90m│  \u001b[39m %3 = Base.mul_int(x, %2)\u001b[36m::Int64\u001b[39m\n",
       "\u001b[90m│  \u001b[39m %4 = Base.mul_int(x, %3)\u001b[36m::Int64\u001b[39m\n",
       "\u001b[90m│  \u001b[39m %5 = Base.mul_int(x, %4)\u001b[36m::Int64\u001b[39m\n",
       "\u001b[90m└──\u001b[39m      return %5\n",
       ") => Int64"
      ]
     },
     "metadata": {},
     "output_type": "display_data"
    }
   ],
   "source": [
    "@code_typed pw_v(Val(5), 10)"
   ]
  },
  {
   "cell_type": "markdown",
   "metadata": {},
   "source": [
    "### `one_of` - static `if`"
   ]
  },
  {
   "cell_type": "markdown",
   "metadata": {},
   "source": [
    "Note that `k` is decreasing, in order to induce the compiler to unfold the calls to `one_of`."
   ]
  },
  {
   "cell_type": "code",
   "execution_count": 127,
   "metadata": {},
   "outputs": [
    {
     "data": {
      "text/plain": [
       "one_of (generic function with 2 methods)"
      ]
     },
     "metadata": {},
     "output_type": "display_data"
    }
   ],
   "source": [
    "function one_of(::Val{s}, ::Val{k}, x) where {s, k}\n",
    "\tif k == 0\n",
    "\t\tfalse\n",
    "\telseif s[length(s) - k + 1] == x\n",
    "\t\ttrue\n",
    "\telse\n",
    "\t\tone_of(Val(s), Val(k-1), x)\n",
    "\tend\n",
    "end"
   ]
  },
  {
   "cell_type": "code",
   "execution_count": 128,
   "metadata": {},
   "outputs": [
    {
     "data": {
      "text/plain": [
       "one_of (generic function with 2 methods)"
      ]
     },
     "metadata": {},
     "output_type": "display_data"
    }
   ],
   "source": [
    "one_of(s::NTuple{N, T}, x) where {N, T} = one_of(Val(s), Val(N), x)"
   ]
  },
  {
   "cell_type": "code",
   "execution_count": 129,
   "metadata": {},
   "outputs": [
    {
     "data": {
      "text/plain": [
       "true"
      ]
     },
     "metadata": {},
     "output_type": "display_data"
    }
   ],
   "source": [
    "one_of((:A, :B, :C), :B)"
   ]
  },
  {
   "cell_type": "code",
   "execution_count": 130,
   "metadata": {},
   "outputs": [
    {
     "data": {
      "text/plain": [
       "false"
      ]
     },
     "metadata": {},
     "output_type": "display_data"
    }
   ],
   "source": [
    "one_of((:A, :B, :C), :D)"
   ]
  },
  {
   "cell_type": "code",
   "execution_count": 131,
   "metadata": {},
   "outputs": [
    {
     "data": {
      "text/plain": [
       "CodeInfo(\n",
       "\u001b[90m1 ──\u001b[39m       goto #3 if not false\n",
       "\u001b[90m2 ──\u001b[39m       nothing\u001b[90m::Nothing\u001b[39m\n",
       "\u001b[90m3 ┄─\u001b[39m %3  = (:A === x)\u001b[36m::Bool\u001b[39m\n",
       "\u001b[90m└───\u001b[39m       goto #5 if not %3\n",
       "\u001b[90m4 ──\u001b[39m       return true\n",
       "\u001b[90m5 ──\u001b[39m %6  = (:B === x)\u001b[36m::Bool\u001b[39m\n",
       "\u001b[90m└───\u001b[39m       goto #7 if not %6\n",
       "\u001b[90m6 ──\u001b[39m       goto #11\n",
       "\u001b[90m7 ──\u001b[39m %9  = (:C === x)\u001b[36m::Bool\u001b[39m\n",
       "\u001b[90m└───\u001b[39m       goto #9 if not %9\n",
       "\u001b[90m8 ──\u001b[39m       goto #10\n",
       "\u001b[90m9 ──\u001b[39m       goto #10\n",
       "\u001b[90m10 ┄\u001b[39m %13 = φ (#8 => true, #9 => false)\u001b[36m::Bool\u001b[39m\n",
       "\u001b[90m└───\u001b[39m       goto #11\n",
       "\u001b[90m11 ┄\u001b[39m %15 = φ (#6 => true, #10 => %13)\u001b[36m::Bool\u001b[39m\n",
       "\u001b[90m└───\u001b[39m       return %15\n",
       ") => Bool"
      ]
     },
     "metadata": {},
     "output_type": "display_data"
    }
   ],
   "source": [
    "@code_typed one_of(Val((:A, :B, :C)), Val(3), :D)"
   ]
  },
  {
   "cell_type": "code",
   "execution_count": 132,
   "metadata": {},
   "outputs": [
    {
     "name": "stdout",
     "output_type": "stream",
     "text": [
      "\t\u001b[0m.text\n",
      "\u001b[90m; ┌ @ julia-pe-pluto.ipynb:1 within `one_of'\u001b[39m\n",
      "\t\u001b[96m\u001b[1mmovabsq\u001b[22m\u001b[39m\t\u001b[33m$139787933886704\u001b[39m\u001b[0m, \u001b[0m%rax          \u001b[90m# imm = 0x7F22EA24A8F0\u001b[39m\n",
      "\u001b[90m; │ @ julia-pe-pluto.ipynb:4 within `one_of'\u001b[39m\n",
      "\u001b[90m; │┌ @ Base.jl:87 within `=='\u001b[39m\n",
      "\t\u001b[96m\u001b[1mcmpq\u001b[22m\u001b[39m\t\u001b[0m%rax\u001b[0m, \u001b[0m%rdi\n",
      "\t\u001b[96m\u001b[1msete\u001b[22m\u001b[39m\t\u001b[0m%al\n",
      "\t\u001b[96m\u001b[1mmovabsq\u001b[22m\u001b[39m\t\u001b[33m$139787933886744\u001b[39m\u001b[0m, \u001b[0m%rcx          \u001b[90m# imm = 0x7F22EA24A918\u001b[39m\n",
      "\t\u001b[96m\u001b[1mcmpq\u001b[22m\u001b[39m\t\u001b[0m%rcx\u001b[0m, \u001b[0m%rdi\n",
      "\t\u001b[96m\u001b[1msete\u001b[22m\u001b[39m\t\u001b[0m%cl\n",
      "\u001b[90m; │└\u001b[39m\n",
      "\t\u001b[96m\u001b[1morb\u001b[22m\u001b[39m\t\u001b[0m%al\u001b[0m, \u001b[0m%cl\n",
      "\t\u001b[96m\u001b[1mmovabsq\u001b[22m\u001b[39m\t\u001b[33m$139787934364920\u001b[39m\u001b[0m, \u001b[0m%rax          \u001b[90m# imm = 0x7F22EA2BF4F8\u001b[39m\n",
      "\t\u001b[96m\u001b[1mcmpq\u001b[22m\u001b[39m\t\u001b[0m%rax\u001b[0m, \u001b[0m%rdi\n",
      "\t\u001b[96m\u001b[1msete\u001b[22m\u001b[39m\t\u001b[0m%al\n",
      "\t\u001b[96m\u001b[1morb\u001b[22m\u001b[39m\t\u001b[0m%cl\u001b[0m, \u001b[0m%al\n",
      "\u001b[90m; │ @ julia-pe-pluto.ipynb:5 within `one_of'\u001b[39m\n",
      "\t\u001b[96m\u001b[1mretq\u001b[22m\u001b[39m\n",
      "\t\u001b[96m\u001b[1mnopw\u001b[22m\u001b[39m\t\u001b[0m%cs\u001b[0m:\u001b[33m(\u001b[39m\u001b[0m%rax\u001b[0m,\u001b[0m%rax\u001b[33m)\u001b[39m\n",
      "\u001b[90m; └\u001b[39m\n"
     ]
    }
   ],
   "source": [
    "@code_native one_of(Val((:A, :B, :C)), Val(3), :D)"
   ]
  }
 ],
 "metadata": {
  "kernelspec": {
   "display_name": "Julia 1.6.2",
   "language": "julia",
   "name": "julia-1.6"
  },
  "language_info": {
   "file_extension": ".jl",
   "mimetype": "application/julia",
   "name": "julia",
   "version": "1.6.2"
  },
  "orig_nbformat": 4
 },
 "nbformat": 4,
 "nbformat_minor": 2
}
