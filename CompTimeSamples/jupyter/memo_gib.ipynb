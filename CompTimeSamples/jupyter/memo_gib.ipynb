{
 "cells": [
  {
   "cell_type": "markdown",
   "metadata": {},
   "source": [
    "# Специализция вычислений функций Фибоначчи"
   ]
  },
  {
   "cell_type": "markdown",
   "metadata": {},
   "source": [
    "## Пререквизиты"
   ]
  },
  {
   "cell_type": "code",
   "execution_count": 1,
   "metadata": {},
   "outputs": [],
   "source": [
    "using Test\n",
    "using MacroTools: prettify"
   ]
  },
  {
   "cell_type": "markdown",
   "metadata": {},
   "source": [
    "## Числи Фибоначчи и числа \"Гибоначчи\""
   ]
  },
  {
   "cell_type": "code",
   "execution_count": 2,
   "metadata": {},
   "outputs": [
    {
     "data": {
      "text/plain": [
       "fib (generic function with 1 method)"
      ]
     },
     "metadata": {},
     "output_type": "display_data"
    }
   ],
   "source": [
    "fib(n) =\n",
    "    if n == 0\n",
    "        0\n",
    "    elseif n == 1\n",
    "        1\n",
    "    else\n",
    "        fib(n - 2) + fib(n - 1)\n",
    "    end"
   ]
  },
  {
   "cell_type": "code",
   "execution_count": 3,
   "metadata": {},
   "outputs": [
    {
     "data": {
      "text/plain": [
       "\u001b[32m\u001b[1mTest Passed\u001b[22m\u001b[39m"
      ]
     },
     "metadata": {},
     "output_type": "display_data"
    }
   ],
   "source": [
    "@test Tuple(fib(n) for n in 0:10) == (0, 1, 1, 2, 3, 5, 8, 13, 21, 34, 55)"
   ]
  },
  {
   "cell_type": "markdown",
   "metadata": {},
   "source": [
    "Проблема в том, что у `fib` - только один аргумент. А если мы хотим специализировать функцию по значениям некоторых аргументов, то этих аргументов должно быть ≥ 2.\n",
    "\n",
    "Посему, переходим к рассмотрению чисел \"Гибоначчи\"."
   ]
  },
  {
   "cell_type": "code",
   "execution_count": 4,
   "metadata": {},
   "outputs": [
    {
     "data": {
      "text/plain": [
       "gib (generic function with 1 method)"
      ]
     },
     "metadata": {},
     "output_type": "display_data"
    }
   ],
   "source": [
    "gib(n, x, y) =\n",
    "    if n == 0\n",
    "        x\n",
    "    elseif n == 1\n",
    "        y\n",
    "    else\n",
    "        gib(n - 2, x, y) + gib(n - 1, x, y)\n",
    "    end"
   ]
  },
  {
   "cell_type": "code",
   "execution_count": 5,
   "metadata": {},
   "outputs": [
    {
     "data": {
      "text/plain": [
       "\u001b[32m\u001b[1mTest Passed\u001b[22m\u001b[39m"
      ]
     },
     "metadata": {},
     "output_type": "display_data"
    }
   ],
   "source": [
    "@test Tuple(gib(n, 0, 1) for n in 0:10) ==\n",
    "      (0, 1, 1, 2, 3, 5, 8, 13, 21, 34, 55)\n",
    "@test Tuple(gib(n, 2, 3) for n in 0:10) ==\n",
    "      (2, 3, 5, 8, 13, 21, 34, 55, 89, 144, 233)"
   ]
  },
  {
   "cell_type": "markdown",
   "metadata": {},
   "source": [
    "## Мемоизация"
   ]
  },
  {
   "cell_type": "code",
   "execution_count": 6,
   "metadata": {},
   "outputs": [
    {
     "data": {
      "text/plain": [
       "gib_memo (generic function with 1 method)"
      ]
     },
     "metadata": {},
     "output_type": "display_data"
    }
   ],
   "source": [
    "function gib_memo!(d, n, x, y)\n",
    "    haskey(d, n) && return d[n]\n",
    "\n",
    "    r =\n",
    "        if n == 0\n",
    "            x\n",
    "        elseif n == 1\n",
    "            y\n",
    "        else\n",
    "            gib_memo!(d, n - 2, x, y) + gib_memo!(d, n - 1, x, y)\n",
    "        end\n",
    "\n",
    "    @show n; d[n] = r\n",
    "end\n",
    "\n",
    "function gib_memo(n, x, y)\n",
    "    d = Dict{Int64,Int64}()\n",
    "    gib_memo!(d, n, x, y)\n",
    "end"
   ]
  },
  {
   "cell_type": "code",
   "execution_count": 7,
   "metadata": {},
   "outputs": [
    {
     "name": "stdout",
     "output_type": "stream",
     "text": [
      "n = 0\n",
      "n = 1\n",
      "n = 2\n",
      "n = 3\n",
      "n = 4\n",
      "n = 5\n",
      "n = 6\n",
      "n = 7\n",
      "n = 8\n",
      "n = 9\n",
      "n = 10\n"
     ]
    },
    {
     "data": {
      "text/plain": [
       "233"
      ]
     },
     "metadata": {},
     "output_type": "display_data"
    }
   ],
   "source": [
    "gib_memo(10, 2, 3)"
   ]
  },
  {
   "cell_type": "markdown",
   "metadata": {},
   "source": [
    "## Превращаем вычислитель в генератор"
   ]
  },
  {
   "cell_type": "code",
   "execution_count": 8,
   "metadata": {},
   "outputs": [
    {
     "data": {
      "text/plain": [
       "gib_gen (generic function with 1 method)"
      ]
     },
     "metadata": {},
     "output_type": "display_data"
    }
   ],
   "source": [
    "function gib_gen!(d, es, n)\n",
    "    haskey(d, n) && return d[n]\n",
    "\n",
    "    d[n] =\n",
    "        if n == 0 (:x) elseif n == 1 (:y) else\n",
    "            g = Symbol(\"g_\", n)\n",
    "            push!(es, :($g = $(gib_gen!(d, es, n - 2)) + $(gib_gen!(d, es, n - 1))))\n",
    "            g\n",
    "        end\n",
    "end\n",
    "\n",
    "function gib_gen(n)\n",
    "    d = Dict{Int64,Any}()\n",
    "    es = Expr[]\n",
    "    r = gib_gen!(d, es, n)\n",
    "\n",
    "    quote $(es...); $r end\n",
    "end"
   ]
  },
  {
   "cell_type": "code",
   "execution_count": 9,
   "metadata": {},
   "outputs": [
    {
     "data": {
      "text/plain": [
       ":x"
      ]
     },
     "metadata": {},
     "output_type": "display_data"
    }
   ],
   "source": [
    "gib_gen(0) |> prettify"
   ]
  },
  {
   "cell_type": "code",
   "execution_count": 10,
   "metadata": {},
   "outputs": [
    {
     "data": {
      "text/plain": [
       ":y"
      ]
     },
     "metadata": {},
     "output_type": "display_data"
    }
   ],
   "source": [
    "gib_gen(1) |> prettify"
   ]
  },
  {
   "cell_type": "code",
   "execution_count": 11,
   "metadata": {},
   "outputs": [
    {
     "data": {
      "text/plain": [
       "quote\n",
       "    g_2 = x + y\n",
       "    g_3 = y + g_2\n",
       "    g_3\n",
       "end"
      ]
     },
     "metadata": {},
     "output_type": "display_data"
    }
   ],
   "source": [
    "gib_gen(3) |> prettify"
   ]
  },
  {
   "cell_type": "code",
   "execution_count": 12,
   "metadata": {},
   "outputs": [
    {
     "data": {
      "text/plain": [
       "quote\n",
       "    g_2 = x + y\n",
       "    g_3 = y + g_2\n",
       "    g_4 = g_2 + g_3\n",
       "    g_5 = g_3 + g_4\n",
       "    g_6 = g_4 + g_5\n",
       "    g_7 = g_5 + g_6\n",
       "    g_8 = g_6 + g_7\n",
       "    g_9 = g_7 + g_8\n",
       "    g_10 = g_8 + g_9\n",
       "    g_10\n",
       "end"
      ]
     },
     "metadata": {},
     "output_type": "display_data"
    }
   ],
   "source": [
    "gib_gen(10) |> prettify"
   ]
  },
  {
   "cell_type": "code",
   "execution_count": 13,
   "metadata": {},
   "outputs": [
    {
     "data": {
      "text/plain": [
       "gib_gen (generic function with 2 methods)"
      ]
     },
     "metadata": {},
     "output_type": "display_data"
    }
   ],
   "source": [
    "@generated function gib_gen(::Val{n}, x, y) where {n}\n",
    "    gib_gen(n)\n",
    "end"
   ]
  },
  {
   "cell_type": "code",
   "execution_count": 14,
   "metadata": {},
   "outputs": [
    {
     "data": {
      "text/plain": [
       "\u001b[32m\u001b[1mTest Passed\u001b[22m\u001b[39m"
      ]
     },
     "metadata": {},
     "output_type": "display_data"
    }
   ],
   "source": [
    "@test Tuple(gib_gen(Val(n), 2, 3) for n in 0:10) ==\n",
    "      (2, 3, 5, 8, 13, 21, 34, 55, 89, 144, 233)"
   ]
  },
  {
   "cell_type": "markdown",
   "metadata": {},
   "source": [
    "## Использование комбинаторов\n",
    "\n",
    "Потенциальная польза от этого может быть в том, что одно и то же определение функции может исполняться как с мемоизацией, так и без оной.\n",
    "\n",
    "Или один и тот же механизм мемоизации может использоваться для разных функций."
   ]
  },
  {
   "cell_type": "code",
   "execution_count": 15,
   "metadata": {},
   "outputs": [
    {
     "data": {
      "text/plain": [
       "fix (generic function with 1 method)"
      ]
     },
     "metadata": {},
     "output_type": "display_data"
    }
   ],
   "source": [
    "fix(f, xs...) = f((ys...) -> fix(f, ys...), xs...)"
   ]
  },
  {
   "cell_type": "code",
   "execution_count": 16,
   "metadata": {},
   "outputs": [
    {
     "data": {
      "text/plain": [
       "gib_step (generic function with 1 method)"
      ]
     },
     "metadata": {},
     "output_type": "display_data"
    }
   ],
   "source": [
    "gib_step(self, n, x, y) =\n",
    "    if n == 0\n",
    "        x\n",
    "    elseif n == 1\n",
    "        y\n",
    "    else\n",
    "        self(n - 2, x, y) + self(n - 1, x, y)\n",
    "    end"
   ]
  },
  {
   "cell_type": "code",
   "execution_count": 17,
   "metadata": {},
   "outputs": [
    {
     "data": {
      "text/plain": [
       "\u001b[32m\u001b[1mTest Passed\u001b[22m\u001b[39m"
      ]
     },
     "metadata": {},
     "output_type": "display_data"
    }
   ],
   "source": [
    "@test Tuple(fix(gib_step, n, 2, 3) for n in 0:10) ==\n",
    "      (2, 3, 5, 8, 13, 21, 34, 55, 89, 144, 233)"
   ]
  },
  {
   "cell_type": "markdown",
   "metadata": {},
   "source": [
    "А зачем? А затем, что можно добавить а `fix` дополнительные действия, которые будут совершаться перед вызовом функции и после оного."
   ]
  },
  {
   "cell_type": "code",
   "execution_count": 18,
   "metadata": {},
   "outputs": [
    {
     "data": {
      "text/plain": [
       "fix_trace (generic function with 1 method)"
      ]
     },
     "metadata": {},
     "output_type": "display_data"
    }
   ],
   "source": [
    "function fix_trace(f, xs...)\n",
    "    println(\"Calling \", string(f), string(xs))\n",
    "    r = f((ys...) -> fix_trace(f, ys...), xs...)\n",
    "    println(\"Returning \", string(f), string(xs), \" = \", r)\n",
    "    return r\n",
    "end"
   ]
  },
  {
   "cell_type": "code",
   "execution_count": 19,
   "metadata": {},
   "outputs": [
    {
     "name": "stdout",
     "output_type": "stream",
     "text": [
      "Calling gib_step(3, 2, 3)\n",
      "Calling gib_step(1, 2, 3)\n",
      "Returning gib_step(1, 2, 3) = 3\n",
      "Calling gib_step(2, 2, 3)\n",
      "Calling gib_step(0, 2, 3)\n",
      "Returning gib_step(0, 2, 3) = 2\n",
      "Calling gib_step(1, 2, 3)\n",
      "Returning gib_step(1, 2, 3) = 3\n",
      "Returning gib_step(2, 2, 3) = 5\n",
      "Returning gib_step(3, 2, 3) = 8\n"
     ]
    },
    {
     "data": {
      "text/plain": [
       "8"
      ]
     },
     "metadata": {},
     "output_type": "display_data"
    }
   ],
   "source": [
    "fix_trace(gib_step, 3, 2, 3)"
   ]
  },
  {
   "cell_type": "markdown",
   "metadata": {},
   "source": [
    "В частности, не меняя текст `fib_step`, можно подсунуть мемоизацию."
   ]
  },
  {
   "cell_type": "code",
   "execution_count": 20,
   "metadata": {},
   "outputs": [
    {
     "data": {
      "text/plain": [
       "fix_memo (generic function with 1 method)"
      ]
     },
     "metadata": {},
     "output_type": "display_data"
    }
   ],
   "source": [
    "function fix_memo!(d, f, xs...)\n",
    "    haskey(d, xs) && d[xs]\n",
    "    d[xs] = f((ys...) -> fix_memo!(d, f, ys...), xs...)\n",
    "end\n",
    "\n",
    "fix_memo(f, xs...) = fix_memo!(Dict(), f, xs... )"
   ]
  },
  {
   "cell_type": "code",
   "execution_count": 21,
   "metadata": {},
   "outputs": [
    {
     "data": {
      "text/plain": [
       "\u001b[32m\u001b[1mTest Passed\u001b[22m\u001b[39m"
      ]
     },
     "metadata": {},
     "output_type": "display_data"
    }
   ],
   "source": [
    "@test Tuple(fix_memo(gib_step, n, 2, 3) for n in 0:10) ==\n",
    "      (2, 3, 5, 8, 13, 21, 34, 55, 89, 144, 233)"
   ]
  },
  {
   "cell_type": "markdown",
   "metadata": {},
   "source": [
    "## А можно ли определить `fix_trace` и `fix_memo` через стандартный `fix`?\n",
    "\n",
    "(Непонятно, есть ли в этом практический смысл? Но, с точки зрения науки, - любопытно...)"
   ]
  },
  {
   "cell_type": "code",
   "execution_count": 22,
   "metadata": {},
   "outputs": [
    {
     "data": {
      "text/plain": [
       "trace_step (generic function with 1 method)"
      ]
     },
     "metadata": {},
     "output_type": "display_data"
    }
   ],
   "source": [
    "function trace_step(self, f, xs...)\n",
    "    println(\"Calling \", string(f), string(xs))\n",
    "    r = f((ys...) -> self(f, ys...), xs...)\n",
    "    println(\"Returning \", string(f), string(xs), \" = \", r)\n",
    "    return r\n",
    "end"
   ]
  },
  {
   "cell_type": "code",
   "execution_count": 23,
   "metadata": {},
   "outputs": [
    {
     "name": "stdout",
     "output_type": "stream",
     "text": [
      "Calling gib_step(3, 2, 3)\n",
      "Calling gib_step(1, 2, 3)\n",
      "Returning gib_step(1, 2, 3) = 3\n",
      "Calling gib_step(2, 2, 3)\n",
      "Calling gib_step(0, 2, 3)\n",
      "Returning gib_step(0, 2, 3) = 2\n",
      "Calling gib_step(1, 2, 3)\n",
      "Returning gib_step(1, 2, 3) = 3\n",
      "Returning gib_step(2, 2, 3) = 5\n",
      "Returning gib_step(3, 2, 3) = 8\n"
     ]
    },
    {
     "data": {
      "text/plain": [
       "8"
      ]
     },
     "metadata": {},
     "output_type": "display_data"
    }
   ],
   "source": [
    "fix(trace_step, gib_step, 3, 2, 3)"
   ]
  },
  {
   "cell_type": "markdown",
   "metadata": {},
   "source": [
    "И `fix_memo` можно переопределить через `fix`."
   ]
  },
  {
   "cell_type": "code",
   "execution_count": 24,
   "metadata": {},
   "outputs": [
    {
     "data": {
      "text/plain": [
       "mk_memo_step (generic function with 1 method)"
      ]
     },
     "metadata": {},
     "output_type": "display_data"
    }
   ],
   "source": [
    "function mk_memo_step()\n",
    "    d = Dict()\n",
    "\n",
    "    (self, f, xs...) -> begin\n",
    "        haskey(d, xs) && return d[xs]\n",
    "        r = f((ys...) -> self(f, ys...), xs...)\n",
    "        d[xs] = r\n",
    "    end\n",
    "end"
   ]
  },
  {
   "cell_type": "code",
   "execution_count": 25,
   "metadata": {},
   "outputs": [
    {
     "data": {
      "text/plain": [
       "\u001b[32m\u001b[1mTest Passed\u001b[22m\u001b[39m"
      ]
     },
     "metadata": {},
     "output_type": "display_data"
    }
   ],
   "source": [
    "@test Tuple(fix(mk_memo_step(), gib_step, n, 2, 3) for n in 0:10) ==\n",
    "    (2, 3, 5, 8, 13, 21, 34, 55, 89, 144, 233)"
   ]
  },
  {
   "cell_type": "markdown",
   "metadata": {},
   "source": [
    "## \"Коронный номер\": композиция двух \"инструментовок\"!"
   ]
  },
  {
   "cell_type": "code",
   "execution_count": 26,
   "metadata": {},
   "outputs": [
    {
     "data": {
      "text/plain": [
       "fix2 (generic function with 1 method)"
      ]
     },
     "metadata": {},
     "output_type": "display_data"
    }
   ],
   "source": [
    "fix2(g, f) =\n",
    "    (xs...) ->\n",
    "        f((ys...) -> g((zs...) ->\n",
    "                    fix2(g, f)(zs...), ys...), xs...)"
   ]
  },
  {
   "cell_type": "code",
   "execution_count": 27,
   "metadata": {},
   "outputs": [
    {
     "name": "stdout",
     "output_type": "stream",
     "text": [
      "Calling gib_step(3, 2, 3)\n",
      "Calling gib_step(0, 2, 3)\n",
      "Returning gib_step(0, 2, 3) = 2\n",
      "Calling gib_step(1, 2, 3)\n",
      "Returning gib_step(1, 2, 3) = 3\n",
      "Returning gib_step(3, 2, 3) = 8\n"
     ]
    },
    {
     "data": {
      "text/plain": [
       "\u001b[32m\u001b[1mTest Passed\u001b[22m\u001b[39m"
      ]
     },
     "metadata": {},
     "output_type": "display_data"
    }
   ],
   "source": [
    "@test fix2(mk_memo_step(), trace_step)(gib_step, 3, 2, 3) == 8\n"
   ]
  }
 ],
 "metadata": {
  "kernelspec": {
   "display_name": "Julia 1.11.3",
   "language": "julia",
   "name": "julia-1.11"
  },
  "language_info": {
   "file_extension": ".jl",
   "mimetype": "application/julia",
   "name": "julia",
   "version": "1.11.3"
  }
 },
 "nbformat": 4,
 "nbformat_minor": 2
}
