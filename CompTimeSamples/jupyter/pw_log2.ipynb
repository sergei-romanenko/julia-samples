{
 "cells": [
  {
   "cell_type": "code",
   "execution_count": 1,
   "metadata": {},
   "outputs": [],
   "source": [
    "using InteractiveUtils\n",
    "using Test\n",
    "using MacroTools: prettify"
   ]
  },
  {
   "cell_type": "markdown",
   "metadata": {},
   "source": [
    "## Исходное (рекурсивное) определение."
   ]
  },
  {
   "cell_type": "code",
   "execution_count": 2,
   "metadata": {},
   "outputs": [
    {
     "data": {
      "text/plain": [
       "pw (generic function with 1 method)"
      ]
     },
     "metadata": {},
     "output_type": "display_data"
    }
   ],
   "source": [
    "function pw(n, x::T) where {T}\n",
    "    if iszero(n)\n",
    "        one(T)\n",
    "    elseif isodd(n)\n",
    "        x * pw(n - 1, x)\n",
    "    else\n",
    "        t = pw(n ÷ 2, x)\n",
    "        t * t\n",
    "    end\n",
    "end"
   ]
  },
  {
   "cell_type": "code",
   "execution_count": 3,
   "metadata": {},
   "outputs": [
    {
     "data": {
      "text/plain": [
       "(\"\", \"Abc\", \"AbcAbc\", \"AbcAbcAbc\", \"AbcAbcAbcAbc\", \"AbcAbcAbcAbcAbc\")"
      ]
     },
     "metadata": {},
     "output_type": "display_data"
    }
   ],
   "source": [
    "Tuple(pw(n, \"Abc\") for n in 0:5)"
   ]
  },
  {
   "cell_type": "markdown",
   "metadata": {},
   "source": [
    "## Использование встроенного специализатора"
   ]
  },
  {
   "cell_type": "markdown",
   "metadata": {},
   "source": [
    "В джулию вделана специализация по типам аргументов."
   ]
  },
  {
   "cell_type": "code",
   "execution_count": 4,
   "metadata": {},
   "outputs": [
    {
     "data": {
      "text/plain": [
       "\u001b[32m\u001b[1mTest Passed\u001b[22m\u001b[39m"
      ]
     },
     "metadata": {},
     "output_type": "display_data"
    }
   ],
   "source": [
    "sq(x) = x * x\n",
    "\n",
    "@test sq(3) == 9\n",
    "@test sq(3.0) == 9.0\n",
    "@test sq(\"Abc\") == \"AbcAbc\""
   ]
  },
  {
   "cell_type": "code",
   "execution_count": 5,
   "metadata": {},
   "outputs": [
    {
     "data": {
      "text/plain": [
       "CodeInfo(\n",
       "\u001b[90m1 ─\u001b[39m %1 = Base.mul_int(x, x)\u001b[36m::Int64\u001b[39m\n",
       "\u001b[90m└──\u001b[39m      return %1\n",
       ") => Int64"
      ]
     },
     "metadata": {},
     "output_type": "display_data"
    }
   ],
   "source": [
    "@code_typed sq(3)"
   ]
  },
  {
   "cell_type": "code",
   "execution_count": 6,
   "metadata": {},
   "outputs": [
    {
     "data": {
      "text/plain": [
       "CodeInfo(\n",
       "\u001b[90m1 ─\u001b[39m %1 = Base.mul_float(x, x)\u001b[36m::Float64\u001b[39m\n",
       "\u001b[90m└──\u001b[39m      return %1\n",
       ") => Float64"
      ]
     },
     "metadata": {},
     "output_type": "display_data"
    }
   ],
   "source": [
    "@code_typed sq(3.0)"
   ]
  },
  {
   "cell_type": "code",
   "execution_count": 7,
   "metadata": {},
   "outputs": [
    {
     "data": {
      "text/plain": [
       "CodeInfo(\n",
       "\u001b[90m1 ─\u001b[39m %1 = invoke Base._string(x::String, x::Vararg{String})\u001b[36m::String\u001b[39m\n",
       "\u001b[90m└──\u001b[39m      return %1\n",
       ") => String"
      ]
     },
     "metadata": {},
     "output_type": "display_data"
    }
   ],
   "source": [
    "@code_typed sq(\"Abc\")"
   ]
  },
  {
   "cell_type": "markdown",
   "metadata": {},
   "source": [
    "А можно ли делать специализацию по **значениям** переменных (константам)?\n",
    "\n",
    "Ответ: можно. Но для этого константы нужно **превратить в типы**!"
   ]
  },
  {
   "cell_type": "code",
   "execution_count": 8,
   "metadata": {},
   "outputs": [],
   "source": [
    "struct Point{T}\n",
    "    x::T\n",
    "    y::T\n",
    "end"
   ]
  },
  {
   "cell_type": "code",
   "execution_count": 9,
   "metadata": {},
   "outputs": [
    {
     "data": {
      "text/plain": [
       "Point{Float64}(3.0, 5.0)"
      ]
     },
     "metadata": {},
     "output_type": "display_data"
    }
   ],
   "source": [
    "p = Point{Float64}(3.0, 5.0)"
   ]
  },
  {
   "cell_type": "code",
   "execution_count": 10,
   "metadata": {},
   "outputs": [
    {
     "data": {
      "text/plain": [
       "\u001b[32m\u001b[1mTest Passed\u001b[22m\u001b[39m"
      ]
     },
     "metadata": {},
     "output_type": "display_data"
    }
   ],
   "source": [
    "@test p.x == 3.0\n",
    "@test p.y == 5.0"
   ]
  },
  {
   "cell_type": "markdown",
   "metadata": {},
   "source": [
    "Структуры могут быть \"пустышками\": иметь **нулевое число полей**.\n",
    "\n",
    "Например, в стандартной библиотеке определяется тип `Val`:\n",
    "\n",
    "```julia\n",
    "struct Val{x} end\n",
    "\n",
    "Val(x) = Val{x}()\n",
    "```"
   ]
  },
  {
   "cell_type": "code",
   "execution_count": 11,
   "metadata": {},
   "outputs": [
    {
     "data": {
      "text/plain": [
       "Val{Float64}()"
      ]
     },
     "metadata": {},
     "output_type": "display_data"
    }
   ],
   "source": [
    "Val{Float64}()"
   ]
  },
  {
   "cell_type": "markdown",
   "metadata": {},
   "source": [
    "Полезная информация - в значении параметра типа, а не в полях.\n",
    "\n",
    "А \"прикол\" в том, что **параметр типа может быть не только типом, но и константой**!"
   ]
  },
  {
   "cell_type": "code",
   "execution_count": 12,
   "metadata": {},
   "outputs": [
    {
     "data": {
      "text/plain": [
       "Val{99}()"
      ]
     },
     "metadata": {},
     "output_type": "display_data"
    }
   ],
   "source": [
    "Val(99)"
   ]
  },
  {
   "cell_type": "markdown",
   "metadata": {},
   "source": [
    "\"Финт ушами\": хотим специализации по константам - превращаем константы в типы!"
   ]
  },
  {
   "cell_type": "code",
   "execution_count": 13,
   "metadata": {},
   "outputs": [
    {
     "data": {
      "text/plain": [
       "pw_pe (generic function with 1 method)"
      ]
     },
     "metadata": {},
     "output_type": "display_data"
    }
   ],
   "source": [
    "function pw_pe(::Val{n}, x::T) where {n, T}\n",
    "    if iszero(n)\n",
    "        one(T)\n",
    "    elseif isodd(n)\n",
    "        x * pw_pe(Val(n - 1), x)\n",
    "    else\n",
    "        t = pw_pe(Val(n ÷ 2), x)\n",
    "        t * t\n",
    "    end\n",
    "end"
   ]
  },
  {
   "cell_type": "code",
   "execution_count": 14,
   "metadata": {},
   "outputs": [
    {
     "data": {
      "text/plain": [
       "100000"
      ]
     },
     "metadata": {},
     "output_type": "display_data"
    }
   ],
   "source": [
    "pw_pe(Val(5), 10)"
   ]
  },
  {
   "cell_type": "code",
   "execution_count": 15,
   "metadata": {},
   "outputs": [
    {
     "data": {
      "text/plain": [
       "CodeInfo(\n",
       "\u001b[90m1 ─\u001b[39m      nothing\u001b[90m::Nothing\u001b[39m\n",
       "\u001b[90m│  \u001b[39m %2 = Base.mul_int(x, 1)\u001b[36m::Int64\u001b[39m\n",
       "\u001b[90m│  \u001b[39m %3 = Base.mul_int(%2, %2)\u001b[36m::Int64\u001b[39m\n",
       "\u001b[90m│  \u001b[39m %4 = Base.mul_int(%3, %3)\u001b[36m::Int64\u001b[39m\n",
       "\u001b[90m│  \u001b[39m %5 = Base.mul_int(x, %4)\u001b[36m::Int64\u001b[39m\n",
       "\u001b[90m└──\u001b[39m      return %5\n",
       ") => Int64"
      ]
     },
     "metadata": {},
     "output_type": "display_data"
    }
   ],
   "source": [
    "@code_typed pw_pe(Val(5), 10)"
   ]
  },
  {
   "cell_type": "markdown",
   "metadata": {},
   "source": [
    "## Generated functions"
   ]
  },
  {
   "cell_type": "markdown",
   "metadata": {},
   "source": [
    "Название - неправильное, надо было бы назвать \"generating\" (генерирующие)!\n",
    "\n",
    "Вспомним \"генерирующее расширение\" Ершова..."
   ]
  },
  {
   "cell_type": "markdown",
   "metadata": {},
   "source": [
    "Допустим, у нас есть такая (дурацкая) функция:"
   ]
  },
  {
   "cell_type": "code",
   "execution_count": 16,
   "metadata": {},
   "outputs": [
    {
     "data": {
      "text/plain": [
       "example_gen_run (generic function with 1 method)"
      ]
     },
     "metadata": {},
     "output_type": "display_data"
    }
   ],
   "source": [
    "function example_gen_run(x::T) where {T}\n",
    "    if T == Int64\n",
    "        x + x\n",
    "    elseif T == String\n",
    "        x * x\n",
    "    else\n",
    "        :Error\n",
    "    end\n",
    "end"
   ]
  },
  {
   "cell_type": "code",
   "execution_count": 17,
   "metadata": {},
   "outputs": [
    {
     "data": {
      "text/plain": [
       "\u001b[32m\u001b[1mTest Passed\u001b[22m\u001b[39m"
      ]
     },
     "metadata": {},
     "output_type": "display_data"
    }
   ],
   "source": [
    "@test example_gen_run(10) == 20\n",
    "@test example_gen_run(\"Abc\") == \"AbcAbc\"\n",
    "@test example_gen_run(10.0) == :Error"
   ]
  },
  {
   "cell_type": "markdown",
   "metadata": {},
   "source": [
    "Работает! Но - неэффективно. Ибо при вызове известен тип аргумента. Стало быть, ветвь `if`-а можно выбрать во время компиляции, а не во время исполнения!\n",
    "\n",
    "Переделываем эту функцию в \"генерирующую\" (исполняемую при компиляции и генерирующую код, который затем компилируется и исполняется)."
   ]
  },
  {
   "cell_type": "code",
   "execution_count": 18,
   "metadata": {},
   "outputs": [
    {
     "data": {
      "text/plain": [
       "example_gen (generic function with 1 method)"
      ]
     },
     "metadata": {},
     "output_type": "display_data"
    }
   ],
   "source": [
    "@generated function example_gen(x)\n",
    "    if x == Int64\n",
    "        :(x + x)\n",
    "    elseif x == String\n",
    "        :(x * x)\n",
    "    else\n",
    "        :(:Error)\n",
    "    end\n",
    "end"
   ]
  },
  {
   "cell_type": "code",
   "execution_count": 19,
   "metadata": {},
   "outputs": [
    {
     "data": {
      "text/plain": [
       "\u001b[32m\u001b[1mTest Passed\u001b[22m\u001b[39m"
      ]
     },
     "metadata": {},
     "output_type": "display_data"
    }
   ],
   "source": [
    "@test example_gen(10) == 20\n",
    "@test example_gen(\"Abc\") == \"AbcAbc\"\n",
    "@test example_gen(10.0) == :Error"
   ]
  },
  {
   "cell_type": "markdown",
   "metadata": {},
   "source": [
    "Но это - дурной стиль написания генераторов!\n",
    "\n",
    "Лучше вытащить реализацию генератора в отдельную функцию."
   ]
  },
  {
   "cell_type": "code",
   "execution_count": 20,
   "metadata": {},
   "outputs": [
    {
     "data": {
      "text/plain": [
       "example2_gen (generic function with 1 method)"
      ]
     },
     "metadata": {},
     "output_type": "display_data"
    }
   ],
   "source": [
    "function example2_impl(T)\n",
    "    if T == Int64\n",
    "        :(x + x)\n",
    "    elseif T == String\n",
    "        :(x * x)\n",
    "    else\n",
    "        :(:Error)\n",
    "    end\n",
    "end\n",
    "\n",
    "@generated function example2_gen(x::T) where {T}\n",
    "    example2_impl(T)\n",
    "end"
   ]
  },
  {
   "cell_type": "code",
   "execution_count": 21,
   "metadata": {},
   "outputs": [
    {
     "data": {
      "text/plain": [
       "\u001b[32m\u001b[1mTest Passed\u001b[22m\u001b[39m"
      ]
     },
     "metadata": {},
     "output_type": "display_data"
    }
   ],
   "source": [
    "@test example2_gen(10) == 20\n",
    "@test example2_gen(\"Abc\") == \"AbcAbc\"\n",
    "@test example2_gen(10.0) == :Error"
   ]
  },
  {
   "cell_type": "markdown",
   "metadata": {},
   "source": [
    "## \"Наивный\" генератор для `pw`"
   ]
  },
  {
   "cell_type": "code",
   "execution_count": 22,
   "metadata": {},
   "outputs": [
    {
     "data": {
      "text/plain": [
       "pw_gen_impl1 (generic function with 2 methods)"
      ]
     },
     "metadata": {},
     "output_type": "display_data"
    }
   ],
   "source": [
    "function pw_gen_impl1(n, T, x)\n",
    "    if iszero(n)\n",
    "        :($(one(T)))\n",
    "    elseif isodd(n)\n",
    "        :($x * $(pw_gen_impl1(n - 1, T, x)))\n",
    "    else\n",
    "        t = pw_gen_impl1(n ÷ 2, T, x)\n",
    "        :($t * $t)\n",
    "    end\n",
    "end\n",
    "\n",
    "function pw_gen_impl1(n, T)\n",
    "    pw_gen_impl1(n, T, :x)\n",
    "end"
   ]
  },
  {
   "cell_type": "code",
   "execution_count": 23,
   "metadata": {},
   "outputs": [
    {
     "data": {
      "text/plain": [
       "6-element Vector{Any}:\n",
       " 1\n",
       "  :(x * 1)\n",
       "  :((x * 1) * (x * 1))\n",
       "  :(x * ((x * 1) * (x * 1)))\n",
       "  :(((x * 1) * (x * 1)) * ((x * 1) * (x * 1)))\n",
       "  :(x * (((x * 1) * (x * 1)) * ((x * 1) * (x * 1))))"
      ]
     },
     "metadata": {},
     "output_type": "display_data"
    }
   ],
   "source": [
    "[pw_gen_impl1(n, Int) for n in 0:5]"
   ]
  },
  {
   "cell_type": "code",
   "execution_count": 24,
   "metadata": {},
   "outputs": [
    {
     "data": {
      "text/plain": [
       "6-element Vector{Any}:\n",
       " \"\"\n",
       " :(x * \"\")\n",
       " :((x * \"\") * (x * \"\"))\n",
       " :(x * ((x * \"\") * (x * \"\")))\n",
       " :(((x * \"\") * (x * \"\")) * ((x * \"\") * (x * \"\")))\n",
       " :(x * (((x * \"\") * (x * \"\")) * ((x * \"\") * (x * \"\"))))"
      ]
     },
     "metadata": {},
     "output_type": "display_data"
    }
   ],
   "source": [
    "[pw_gen_impl1(n, String) for n in 0:5]"
   ]
  },
  {
   "cell_type": "markdown",
   "metadata": {},
   "source": [
    "Недостаток - дублирование кода. Но, результат вычисления - правильный."
   ]
  },
  {
   "cell_type": "code",
   "execution_count": 25,
   "metadata": {},
   "outputs": [
    {
     "data": {
      "text/plain": [
       "pw_gen1 (generic function with 1 method)"
      ]
     },
     "metadata": {},
     "output_type": "display_data"
    }
   ],
   "source": [
    "@generated function pw_gen1(::Val{n}, x::T) where {n, T}\n",
    "    pw_gen_impl1(n, T)\n",
    "end"
   ]
  },
  {
   "cell_type": "code",
   "execution_count": 26,
   "metadata": {},
   "outputs": [
    {
     "data": {
      "text/plain": [
       "(\"\", \"Abc\", \"AbcAbc\", \"AbcAbcAbc\", \"AbcAbcAbcAbc\", \"AbcAbcAbcAbcAbc\")"
      ]
     },
     "metadata": {},
     "output_type": "display_data"
    }
   ],
   "source": [
    "Tuple(pw_gen1(Val(n), \"Abc\") for n in 0:5)"
   ]
  },
  {
   "cell_type": "code",
   "execution_count": 27,
   "metadata": {},
   "outputs": [
    {
     "data": {
      "text/plain": [
       "(1, 2, 4, 8, 16, 32)"
      ]
     },
     "metadata": {},
     "output_type": "display_data"
    }
   ],
   "source": [
    "Tuple(pw_gen1(Val(n), 2) for n in 0:5)"
   ]
  },
  {
   "cell_type": "markdown",
   "metadata": {},
   "source": [
    "## Введение промежуточных переменных"
   ]
  },
  {
   "cell_type": "code",
   "execution_count": 28,
   "metadata": {},
   "outputs": [
    {
     "data": {
      "text/plain": [
       "pw_gen_impl2 (generic function with 1 method)"
      ]
     },
     "metadata": {},
     "output_type": "display_data"
    }
   ],
   "source": [
    "function pw_gen_impl2(n, T)\n",
    "    if iszero(n)\n",
    "        :($(one(T)))\n",
    "    elseif isodd(n)\n",
    "        :(x * $(pw_gen_impl2(n - 1, T)))\n",
    "    else\n",
    "        quote\n",
    "            let t = $(pw_gen_impl2(n ÷ 2, T))\n",
    "                t * t\n",
    "            end\n",
    "        end\n",
    "    end\n",
    "end"
   ]
  },
  {
   "cell_type": "code",
   "execution_count": 29,
   "metadata": {},
   "outputs": [
    {
     "data": {
      "text/plain": [
       "8-element Vector{Any}:\n",
       " 1\n",
       "  :(x * 1)\n",
       "  :(let t = x * 1\n",
       "      t * t\n",
       "  end)\n",
       "  :(x * let t = x * 1\n",
       "          t * t\n",
       "      end)\n",
       "  :(let t = let t = x * 1\n",
       "              t * t\n",
       "          end\n",
       "      t * t\n",
       "  end)\n",
       "  :(x * let t = let t = x * 1\n",
       "                  t * t\n",
       "              end\n",
       "          t * t\n",
       "      end)\n",
       "  :(let t = x * let t = x * 1\n",
       "                  t * t\n",
       "              end\n",
       "      t * t\n",
       "  end)\n",
       "  :(x * let t = x * let t = x * 1\n",
       "                      t * t\n",
       "                  end\n",
       "          t * t\n",
       "      end)"
      ]
     },
     "metadata": {},
     "output_type": "display_data"
    }
   ],
   "source": [
    "[pw_gen_impl2(i, Int) |> prettify for i in 0:7]"
   ]
  },
  {
   "cell_type": "markdown",
   "metadata": {},
   "source": [
    "Проблема - распухание кода! Нужно вводить промежуточные переменные..."
   ]
  },
  {
   "cell_type": "markdown",
   "metadata": {},
   "source": [
    "## Генерация присваиваний для промежуточных результатов"
   ]
  },
  {
   "cell_type": "code",
   "execution_count": 30,
   "metadata": {},
   "outputs": [
    {
     "data": {
      "text/plain": [
       "pw_gen_impl3 (generic function with 2 methods)"
      ]
     },
     "metadata": {},
     "output_type": "display_data"
    }
   ],
   "source": [
    "function pw_gen_impl3(es, n, T)\n",
    "    r = Symbol(\"r_\", n)\n",
    "    t = Symbol(\"t_\", n)\n",
    "\n",
    "    if iszero(n)\n",
    "        push!(es, :($r = $(one(T))))\n",
    "    elseif isodd(n)\n",
    "        push!(es, :($r = x * $(pw_gen_impl3(es, n - 1, T))))\n",
    "    else\n",
    "        push!(es, :($t = $(pw_gen_impl3(es, n ÷ 2, T))))\n",
    "        push!(es, :($r = $t * $t))\n",
    "    end\n",
    "\n",
    "    return r\n",
    "end\n",
    "\n",
    "function pw_gen_impl3(n, T)\n",
    "    es = Expr[]\n",
    "    r = pw_gen_impl3(es, n, T)\n",
    "\n",
    "    quote\n",
    "        $(es...)\n",
    "        return $r\n",
    "    end\n",
    "end"
   ]
  },
  {
   "cell_type": "code",
   "execution_count": 31,
   "metadata": {},
   "outputs": [
    {
     "data": {
      "text/plain": [
       "6-element Vector{Expr}:\n",
       " quote\n",
       "    r_0 = 1\n",
       "    return r_0\n",
       "end\n",
       " quote\n",
       "    r_0 = 1\n",
       "    r_1 = x * r_0\n",
       "    return r_1\n",
       "end\n",
       " quote\n",
       "    r_0 = 1\n",
       "    r_1 = x * r_0\n",
       "    t_2 = r_1\n",
       "    r_2 = t_2 * t_2\n",
       "    return r_2\n",
       "end\n",
       " quote\n",
       "    r_0 = 1\n",
       "    r_1 = x * r_0\n",
       "    t_2 = r_1\n",
       "    r_2 = t_2 * t_2\n",
       "    r_3 = x * r_2\n",
       "    return r_3\n",
       "end\n",
       " quote\n",
       "    r_0 = 1\n",
       "    r_1 = x * r_0\n",
       "    t_2 = r_1\n",
       "    r_2 = t_2 * t_2\n",
       "    t_4 = r_2\n",
       "    r_4 = t_4 * t_4\n",
       "    return r_4\n",
       "end\n",
       " quote\n",
       "    r_0 = 1\n",
       "    r_1 = x * r_0\n",
       "    t_2 = r_1\n",
       "    r_2 = t_2 * t_2\n",
       "    t_4 = r_2\n",
       "    r_4 = t_4 * t_4\n",
       "    r_5 = x * r_4\n",
       "    return r_5\n",
       "end"
      ]
     },
     "metadata": {},
     "output_type": "display_data"
    }
   ],
   "source": [
    "[pw_gen_impl3(i, Int) |> prettify for i in 0:5]"
   ]
  },
  {
   "cell_type": "markdown",
   "metadata": {},
   "source": [
    "## Устранение лишних присваиваний"
   ]
  },
  {
   "cell_type": "markdown",
   "metadata": {},
   "source": [
    "Если переменной присваивается константа или значение другой переменной, то эту переменную можно легко устранить.\n",
    "\n",
    "Заводим словарь, в котором будем регистрировать (символические) значения переменных."
   ]
  },
  {
   "cell_type": "code",
   "execution_count": 32,
   "metadata": {},
   "outputs": [
    {
     "data": {
      "text/plain": [
       "ass! (generic function with 4 methods)"
      ]
     },
     "metadata": {},
     "output_type": "display_data"
    }
   ],
   "source": [
    "function ass!(es, d, s::Symbol, c::Int64)\n",
    "    d[s] = c\n",
    "end\n",
    "\n",
    "function ass!(es, d, s::Symbol, c::String)\n",
    "    d[s] = c\n",
    "end\n",
    "\n",
    "function ass!(es, d, s::Symbol, u::Symbol)\n",
    "    d[s] = u\n",
    "end\n",
    "\n",
    "function ass!(es, d, s::Symbol, e)\n",
    "    haskey(d, s) && return\n",
    "    d[s] = s\n",
    "    push!(es, :($s = $e))\n",
    "end"
   ]
  },
  {
   "cell_type": "markdown",
   "metadata": {},
   "source": [
    "Теперь генерация присваиваний будет происходить только внутри `ass!` (в случае необходимости)."
   ]
  },
  {
   "cell_type": "code",
   "execution_count": 33,
   "metadata": {},
   "outputs": [
    {
     "data": {
      "text/plain": [
       "pw_gen_impl4 (generic function with 2 methods)"
      ]
     },
     "metadata": {},
     "output_type": "display_data"
    }
   ],
   "source": [
    "function pw_gen_impl4(es, d, n, T)\n",
    "    r = Symbol(\"r_\", n)\n",
    "\n",
    "    haskey(d, r) && return d[r]\n",
    "\n",
    "    if iszero(n)\n",
    "        ass!(es, d, r, :($(one(T))))\n",
    "    elseif isodd(n)\n",
    "        ass!(es, d, r, :(x * $(pw_gen_impl4(es, d, n - 1, T))))\n",
    "    else\n",
    "        t = Symbol(\"t_\", n)\n",
    "        ass!(es, d, t, pw_gen_impl4(es, d, n ÷ 2, T))\n",
    "        dt = d[t]\n",
    "        ass!(es, d, r, :($dt * $dt))\n",
    "    end\n",
    "\n",
    "    return d[r]\n",
    "end\n",
    "\n",
    "function pw_gen_impl4(n, T)\n",
    "    es = Expr[]\n",
    "    d = Dict{Symbol,Any}()\n",
    "    r = pw_gen_impl4(es, d, n, T)\n",
    "\n",
    "    quote\n",
    "        $(es...)\n",
    "        return $r\n",
    "    end\n",
    "end"
   ]
  },
  {
   "cell_type": "code",
   "execution_count": 34,
   "metadata": {},
   "outputs": [
    {
     "data": {
      "text/plain": [
       "6-element Vector{Expr}:\n",
       " :(return 1)\n",
       " quote\n",
       "    r_1 = x * 1\n",
       "    return r_1\n",
       "end\n",
       " quote\n",
       "    r_1 = x * 1\n",
       "    r_2 = r_1 * r_1\n",
       "    return r_2\n",
       "end\n",
       " quote\n",
       "    r_1 = x * 1\n",
       "    r_2 = r_1 * r_1\n",
       "    r_3 = x * r_2\n",
       "    return r_3\n",
       "end\n",
       " quote\n",
       "    r_1 = x * 1\n",
       "    r_2 = r_1 * r_1\n",
       "    r_4 = r_2 * r_2\n",
       "    return r_4\n",
       "end\n",
       " quote\n",
       "    r_1 = x * 1\n",
       "    r_2 = r_1 * r_1\n",
       "    r_4 = r_2 * r_2\n",
       "    r_5 = x * r_4\n",
       "    return r_5\n",
       "end"
      ]
     },
     "metadata": {},
     "output_type": "display_data"
    }
   ],
   "source": [
    "[pw_gen_impl4(i, Int) |> prettify for i in 0:5]"
   ]
  },
  {
   "cell_type": "markdown",
   "metadata": {},
   "source": [
    "## Упрощение выражений через переписывание (`Metatheory.jl`)"
   ]
  },
  {
   "cell_type": "markdown",
   "metadata": {},
   "source": [
    "Выражения вида `e * 1` и `e * \"\"` можно упрощать до `e`.\n",
    "\n",
    "Для этого пустим в ход \"тяжёлую артиллерию\": `Metatheory.jl`.\n",
    "\n",
    "\"Стрельба из пушки по воробьям!\" В данном случае, конечно, можно было бы реализовать это упрощение \"вручную\", но, мы всё же используем `Metatheory.jl`, для отработки методики (и применения её в более сложных случаях)."
   ]
  },
  {
   "cell_type": "code",
   "execution_count": 35,
   "metadata": {},
   "outputs": [],
   "source": [
    "using Metatheory, Metatheory.Rewriters"
   ]
  },
  {
   "cell_type": "code",
   "execution_count": 36,
   "metadata": {},
   "outputs": [],
   "source": [
    "opt_rules = @theory e begin\n",
    "    e * 1 --> e\n",
    "    e * \"\" --> e\n",
    "end;"
   ]
  },
  {
   "cell_type": "code",
   "execution_count": 37,
   "metadata": {},
   "outputs": [
    {
     "data": {
      "text/plain": [
       "opt_expr (generic function with 1 method)"
      ]
     },
     "metadata": {},
     "output_type": "display_data"
    }
   ],
   "source": [
    "strategy = (#= Fixpoint ∘ =# Postwalk ∘ Chain)\n",
    "opt_expr(e) = strategy(opt_rules)(e)"
   ]
  },
  {
   "cell_type": "code",
   "execution_count": 38,
   "metadata": {},
   "outputs": [
    {
     "data": {
      "text/plain": [
       "\u001b[32m\u001b[1mTest Passed\u001b[22m\u001b[39m"
      ]
     },
     "metadata": {},
     "output_type": "display_data"
    }
   ],
   "source": [
    "@test opt_expr(:(x * 1)) == :x\n",
    "@test opt_expr(:((x * 1) * 1)) == :x\n",
    "@test opt_expr(:(x * 2)) == :(x * 2)\n",
    "@test opt_expr(:(x * \"\")) == :x"
   ]
  },
  {
   "cell_type": "code",
   "execution_count": 39,
   "metadata": {},
   "outputs": [
    {
     "data": {
      "text/plain": [
       "ass_o! (generic function with 1 method)"
      ]
     },
     "metadata": {},
     "output_type": "display_data"
    }
   ],
   "source": [
    "function ass_o!(es, d, s::Symbol, e)\n",
    "    ass!(es, d, s, opt_expr(e))\n",
    "end"
   ]
  },
  {
   "cell_type": "markdown",
   "metadata": {},
   "source": [
    "Заменяем `ass!` на `ass_o!`."
   ]
  },
  {
   "cell_type": "code",
   "execution_count": 40,
   "metadata": {},
   "outputs": [
    {
     "data": {
      "text/plain": [
       "pw_gen_impl5 (generic function with 2 methods)"
      ]
     },
     "metadata": {},
     "output_type": "display_data"
    }
   ],
   "source": [
    "function pw_gen_impl5(es, d, n, T)\n",
    "    r = Symbol(\"r_\", n)\n",
    "\n",
    "    haskey(d, r) && return d[r]\n",
    "\n",
    "    if iszero(n)\n",
    "        ass_o!(es, d, r, :($(one(T))))\n",
    "    elseif isodd(n)\n",
    "        ass_o!(es, d, r, :(x * $(pw_gen_impl5(es, d, n - 1, T))))\n",
    "    else\n",
    "        t = Symbol(\"t_\", n)\n",
    "        ass_o!(es, d, t, pw_gen_impl5(es, d, n ÷ 2, T))\n",
    "        dt = d[t]\n",
    "        ass_o!(es, d, r, :($dt * $dt))\n",
    "    end\n",
    "\n",
    "    return d[r]\n",
    "end\n",
    "\n",
    "function pw_gen_impl5(n, T)\n",
    "    es = Expr[]\n",
    "    d = Dict{Symbol,Any}()\n",
    "    r = pw_gen_impl5(es, d, n, T)\n",
    "\n",
    "    quote\n",
    "        $(es...)\n",
    "        return $r\n",
    "    end\n",
    "end"
   ]
  },
  {
   "cell_type": "code",
   "execution_count": 41,
   "metadata": {},
   "outputs": [
    {
     "data": {
      "text/plain": [
       "6-element Vector{Expr}:\n",
       " :(return 1)\n",
       " :(return x)\n",
       " quote\n",
       "    r_2 = x * x\n",
       "    return r_2\n",
       "end\n",
       " quote\n",
       "    r_2 = x * x\n",
       "    r_3 = x * r_2\n",
       "    return r_3\n",
       "end\n",
       " quote\n",
       "    r_2 = x * x\n",
       "    r_4 = r_2 * r_2\n",
       "    return r_4\n",
       "end\n",
       " quote\n",
       "    r_2 = x * x\n",
       "    r_4 = r_2 * r_2\n",
       "    r_5 = x * r_4\n",
       "    return r_5\n",
       "end"
      ]
     },
     "metadata": {},
     "output_type": "display_data"
    }
   ],
   "source": [
    "[pw_gen_impl5(i, Int) |> prettify for i in 0:5]"
   ]
  },
  {
   "cell_type": "code",
   "execution_count": 42,
   "metadata": {},
   "outputs": [
    {
     "data": {
      "text/plain": [
       "6-element Vector{Expr}:\n",
       " :(return \"\")\n",
       " :(return x)\n",
       " quote\n",
       "    r_2 = x * x\n",
       "    return r_2\n",
       "end\n",
       " quote\n",
       "    r_2 = x * x\n",
       "    r_3 = x * r_2\n",
       "    return r_3\n",
       "end\n",
       " quote\n",
       "    r_2 = x * x\n",
       "    r_4 = r_2 * r_2\n",
       "    return r_4\n",
       "end\n",
       " quote\n",
       "    r_2 = x * x\n",
       "    r_4 = r_2 * r_2\n",
       "    r_5 = x * r_4\n",
       "    return r_5\n",
       "end"
      ]
     },
     "metadata": {},
     "output_type": "display_data"
    }
   ],
   "source": [
    "[pw_gen_impl5(i, String) |> prettify for i in 0:5]"
   ]
  },
  {
   "cell_type": "code",
   "execution_count": 43,
   "metadata": {},
   "outputs": [
    {
     "data": {
      "text/plain": [
       "pw_gen5 (generic function with 1 method)"
      ]
     },
     "metadata": {},
     "output_type": "display_data"
    }
   ],
   "source": [
    "@generated function pw_gen5(::Val{n}, x::T) where {n, T}\n",
    "    pw_gen_impl5(n, T)\n",
    "end"
   ]
  },
  {
   "cell_type": "code",
   "execution_count": 44,
   "metadata": {},
   "outputs": [
    {
     "data": {
      "text/plain": [
       "(\"\", \"Abc\", \"AbcAbc\", \"AbcAbcAbc\", \"AbcAbcAbcAbc\", \"AbcAbcAbcAbcAbc\")"
      ]
     },
     "metadata": {},
     "output_type": "display_data"
    }
   ],
   "source": [
    "\n",
    "Tuple(pw_gen5(Val(n), \"Abc\") for n in 0:5)"
   ]
  },
  {
   "cell_type": "code",
   "execution_count": 45,
   "metadata": {},
   "outputs": [
    {
     "data": {
      "text/plain": [
       "(1, 2, 4, 8, 16, 32)"
      ]
     },
     "metadata": {},
     "output_type": "display_data"
    }
   ],
   "source": [
    "Tuple(pw_gen5(Val(n), 2) for n in 0:5)"
   ]
  }
 ],
 "metadata": {
  "kernelspec": {
   "display_name": "Julia 1.11.2",
   "language": "julia",
   "name": "julia-1.11"
  },
  "language_info": {
   "file_extension": ".jl",
   "mimetype": "application/julia",
   "name": "julia",
   "version": "1.11.2"
  }
 },
 "nbformat": 4,
 "nbformat_minor": 2
}
