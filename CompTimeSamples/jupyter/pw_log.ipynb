{
 "cells": [
  {
   "cell_type": "code",
   "execution_count": 1,
   "metadata": {},
   "outputs": [],
   "source": [
    "using CompTime, InteractiveUtils, MacroTools"
   ]
  },
  {
   "cell_type": "code",
   "execution_count": 2,
   "metadata": {},
   "outputs": [
    {
     "data": {
      "text/plain": [
       "MacroTools.flatten ∘ Base.remove_linenums!"
      ]
     },
     "metadata": {},
     "output_type": "display_data"
    }
   ],
   "source": [
    "cleanup = MacroTools.flatten ∘ Base.remove_linenums!"
   ]
  },
  {
   "cell_type": "code",
   "execution_count": 3,
   "metadata": {},
   "outputs": [
    {
     "data": {
      "text/plain": [
       "pw_rec (generic function with 1 method)"
      ]
     },
     "metadata": {},
     "output_type": "display_data"
    }
   ],
   "source": [
    "function pw_rec(n, x)\n",
    "    if iszero(n)\n",
    "        one(x)\n",
    "    elseif isone(n)\n",
    "        x\n",
    "    elseif isodd(n)\n",
    "        x * pw_rec(n - 1, x)\n",
    "    else\n",
    "        pw_rec(n ÷ 2, x * x)\n",
    "    end\n",
    "end"
   ]
  },
  {
   "cell_type": "code",
   "execution_count": 4,
   "metadata": {},
   "outputs": [
    {
     "data": {
      "text/plain": [
       "(\"\", \"Abc\", \"AbcAbc\", \"AbcAbcAbc\", \"AbcAbcAbcAbc\", \"AbcAbcAbcAbcAbc\")"
      ]
     },
     "metadata": {},
     "output_type": "display_data"
    }
   ],
   "source": [
    "Tuple(pw_rec(n, \"Abc\") for n in 0:5)"
   ]
  },
  {
   "cell_type": "code",
   "execution_count": 5,
   "metadata": {},
   "outputs": [
    {
     "data": {
      "text/plain": [
       "pw_rec_pe (generic function with 1 method)"
      ]
     },
     "metadata": {},
     "output_type": "display_data"
    }
   ],
   "source": [
    "function pw_rec_pe(::Val{n}, x) where {n}\n",
    "    if iszero(n)\n",
    "        one(x)\n",
    "    elseif isone(n)\n",
    "        x\n",
    "    elseif isodd(n)\n",
    "        x * pw_rec_pe(Val(n - 1), x)\n",
    "    else\n",
    "        pw_rec_pe(Val(n ÷ 2), x * x)\n",
    "    end\n",
    "end"
   ]
  },
  {
   "cell_type": "code",
   "execution_count": 6,
   "metadata": {},
   "outputs": [
    {
     "data": {
      "text/plain": [
       "(\"\", \"Abc\", \"AbcAbc\", \"AbcAbcAbc\", \"AbcAbcAbcAbc\", \"AbcAbcAbcAbcAbc\")"
      ]
     },
     "metadata": {},
     "output_type": "display_data"
    }
   ],
   "source": [
    "Tuple(pw_rec_pe(Val(n), \"Abc\") for n in 0:5)"
   ]
  },
  {
   "cell_type": "code",
   "execution_count": 7,
   "metadata": {},
   "outputs": [
    {
     "data": {
      "text/plain": [
       "CodeInfo(\n",
       "\u001b[90m1 ─\u001b[39m      nothing\u001b[90m::Nothing\u001b[39m\n",
       "\u001b[90m│  \u001b[39m      nothing\u001b[90m::Nothing\u001b[39m\n",
       "\u001b[90m│  \u001b[39m %3 = Base.mul_int(x, x)\u001b[36m::Int64\u001b[39m\n",
       "\u001b[90m│  \u001b[39m %4 = Base.mul_int(%3, %3)\u001b[36m::Int64\u001b[39m\n",
       "\u001b[90m│  \u001b[39m %5 = Base.mul_int(x, %4)\u001b[36m::Int64\u001b[39m\n",
       "\u001b[90m└──\u001b[39m      return %5\n",
       ") => Int64"
      ]
     },
     "metadata": {},
     "output_type": "display_data"
    }
   ],
   "source": [
    "@code_typed pw_rec_pe(Val(5), 10)"
   ]
  },
  {
   "cell_type": "code",
   "execution_count": 8,
   "metadata": {},
   "outputs": [
    {
     "data": {
      "text/plain": [
       "pw_tail_rec (generic function with 1 method)"
      ]
     },
     "metadata": {},
     "output_type": "display_data"
    }
   ],
   "source": [
    "function pw_tail_rec(n, x)\n",
    "    if iszero(n)\n",
    "        one(x)\n",
    "    else\n",
    "        pw_tail_rec(n, one(x), x)\n",
    "    end\n",
    "end"
   ]
  },
  {
   "cell_type": "code",
   "execution_count": 9,
   "metadata": {},
   "outputs": [
    {
     "data": {
      "text/plain": [
       "pw_tail_rec (generic function with 2 methods)"
      ]
     },
     "metadata": {},
     "output_type": "display_data"
    }
   ],
   "source": [
    "function pw_tail_rec(n, r, x)\n",
    "    @assert !iszero(n)\n",
    "    if isone(n)\n",
    "        r * x\n",
    "    elseif isodd(n)\n",
    "        pw_tail_rec(n - 1, r * x, x)\n",
    "    else\n",
    "        pw_tail_rec(n ÷ 2, r, x * x)\n",
    "    end\n",
    "end"
   ]
  },
  {
   "cell_type": "code",
   "execution_count": 10,
   "metadata": {},
   "outputs": [
    {
     "data": {
      "text/plain": [
       "(\"\", \"Abc\", \"AbcAbc\", \"AbcAbcAbc\", \"AbcAbcAbcAbc\", \"AbcAbcAbcAbcAbc\")"
      ]
     },
     "metadata": {},
     "output_type": "display_data"
    }
   ],
   "source": [
    "Tuple(pw_tail_rec(n, \"Abc\") for n = 0:5)"
   ]
  },
  {
   "cell_type": "code",
   "execution_count": 11,
   "metadata": {},
   "outputs": [
    {
     "data": {
      "text/plain": [
       "pw_loop (generic function with 1 method)"
      ]
     },
     "metadata": {},
     "output_type": "display_data"
    }
   ],
   "source": [
    "function pw_loop(n, x)\n",
    "    if iszero(n)\n",
    "        return one(x)\n",
    "    else\n",
    "        r = one(x)\n",
    "\n",
    "        while n > 1\n",
    "            if isodd(n)\n",
    "                r = r * x\n",
    "                n = n - 1\n",
    "            else\n",
    "                x = x * x\n",
    "                n = n ÷ 2\n",
    "            end\n",
    "        end\n",
    "\n",
    "        return r * x\n",
    "    end\n",
    "end"
   ]
  },
  {
   "cell_type": "code",
   "execution_count": 12,
   "metadata": {},
   "outputs": [
    {
     "data": {
      "text/plain": [
       "(\"\", \"Abc\", \"AbcAbc\", \"AbcAbcAbc\", \"AbcAbcAbcAbc\", \"AbcAbcAbcAbcAbc\")"
      ]
     },
     "metadata": {},
     "output_type": "display_data"
    }
   ],
   "source": [
    "Tuple(pw_loop(n, \"Abc\") for n = 0:5)"
   ]
  },
  {
   "cell_type": "code",
   "execution_count": 13,
   "metadata": {},
   "outputs": [
    {
     "data": {
      "text/plain": [
       "pw_gen (generic function with 1 method)"
      ]
     },
     "metadata": {},
     "output_type": "display_data"
    }
   ],
   "source": [
    "@generated function pw_gen(::Val{n}, x) where {n}\n",
    "    b = Expr[]\n",
    "\n",
    "    if iszero(n)\n",
    "        push!(b, :(return one(x)))\n",
    "    else\n",
    "        push!(b, :(r = one(x)))\n",
    "        k = n\n",
    "\n",
    "        while k > 1\n",
    "            if isodd(k)\n",
    "                push!(b, :(r = r * x))\n",
    "                k = k - 1\n",
    "            else\n",
    "                push!(b, :(x = x * x))\n",
    "                k = k ÷ 2\n",
    "            end\n",
    "        end\n",
    "\n",
    "        push!(b, :(return r * x))\n",
    "        \n",
    "    end\n",
    "    \n",
    "    b = quote $(b...) end\n",
    "    Core.println(string(cleanup(b)))\n",
    "    return b\n",
    "end"
   ]
  },
  {
   "cell_type": "code",
   "execution_count": 14,
   "metadata": {},
   "outputs": [
    {
     "name": "stdout",
     "output_type": "stream",
     "text": [
      "begin\n",
      "    r = one(x)\n",
      "    r = r * x\n",
      "    x = x * x\n",
      "    r = r * x\n",
      "    x = x * x\n",
      "    return r * x\n",
      "end\n"
     ]
    },
    {
     "data": {
      "text/plain": [
       "\"AbcAbcAbcAbcAbcAbcAbc\""
      ]
     },
     "metadata": {},
     "output_type": "display_data"
    }
   ],
   "source": [
    "pw_gen(Val(7), \"Abc\")"
   ]
  },
  {
   "cell_type": "code",
   "execution_count": 15,
   "metadata": {},
   "outputs": [
    {
     "data": {
      "text/plain": [
       "runtime (generic function with 1 method)"
      ]
     },
     "metadata": {},
     "output_type": "display_data"
    }
   ],
   "source": [
    "@ct_enable function pw_ct(@ct(n), x)\n",
    "    @ct_ctrl if iszero(n)\n",
    "        return one(x)\n",
    "    else\n",
    "        r = one(x)\n",
    "        @ct(k = n)\n",
    "\n",
    "        @ct_ctrl while k > 1\n",
    "            @ct_ctrl if isodd(k)\n",
    "                r = r * x\n",
    "                @ct(k = k - 1)\n",
    "            else\n",
    "                x = x * x\n",
    "                @ct(k = k ÷ 2)\n",
    "            end\n",
    "        end\n",
    "\n",
    "        return r * x\n",
    "    end\n",
    "end"
   ]
  },
  {
   "cell_type": "code",
   "execution_count": 16,
   "metadata": {},
   "outputs": [
    {
     "data": {
      "text/plain": [
       "(\"\", \"Abc\", \"AbcAbc\", \"AbcAbcAbc\", \"AbcAbcAbcAbc\", \"AbcAbcAbcAbcAbc\")"
      ]
     },
     "metadata": {},
     "output_type": "display_data"
    }
   ],
   "source": [
    "Tuple(pw_ct(Val{n}, \"Abc\") for n = 0:5)"
   ]
  },
  {
   "cell_type": "code",
   "execution_count": 17,
   "metadata": {},
   "outputs": [
    {
     "data": {
      "text/plain": [
       "(\"\", \"Abc\", \"AbcAbc\", \"AbcAbcAbc\", \"AbcAbcAbcAbc\", \"AbcAbcAbcAbcAbc\")"
      ]
     },
     "metadata": {},
     "output_type": "display_data"
    }
   ],
   "source": [
    "Tuple(runtime(pw_ct, n, \"Abc\") for n = 0:5)"
   ]
  },
  {
   "cell_type": "code",
   "execution_count": 18,
   "metadata": {},
   "outputs": [
    {
     "data": {
      "text/plain": [
       "(\"\", \"Abc\", \"AbcAbc\", \"AbcAbcAbc\", \"AbcAbcAbcAbc\", \"AbcAbcAbcAbcAbc\")"
      ]
     },
     "metadata": {},
     "output_type": "display_data"
    }
   ],
   "source": [
    "Tuple(comptime(pw_ct, Val{n}, \"Abc\") for n = 0:5)"
   ]
  },
  {
   "cell_type": "code",
   "execution_count": 19,
   "metadata": {},
   "outputs": [
    {
     "data": {
      "text/plain": [
       "CodeInfo(\n",
       "\u001b[90m1 ─\u001b[39m %1 = Base.mul_int(1, x)\u001b[36m::Int64\u001b[39m\n",
       "\u001b[90m│  \u001b[39m %2 = Base.mul_int(x, x)\u001b[36m::Int64\u001b[39m\n",
       "\u001b[90m│  \u001b[39m %3 = Base.mul_int(%2, %2)\u001b[36m::Int64\u001b[39m\n",
       "\u001b[90m│  \u001b[39m %4 = Base.mul_int(%1, %3)\u001b[36m::Int64\u001b[39m\n",
       "\u001b[90m└──\u001b[39m      return %4\n",
       ") => Int64"
      ]
     },
     "metadata": {},
     "output_type": "display_data"
    }
   ],
   "source": [
    "@code_typed pw_ct(Val{5}, 10)"
   ]
  },
  {
   "cell_type": "code",
   "execution_count": 20,
   "metadata": {},
   "outputs": [
    {
     "data": {
      "text/plain": [
       "quote\n",
       "    r = one(x)\n",
       "    5\n",
       "    r = r * x\n",
       "    4\n",
       "    x = x * x\n",
       "    2\n",
       "    x = x * x\n",
       "    1\n",
       "    return r * x\n",
       "end"
      ]
     },
     "metadata": {},
     "output_type": "display_data"
    }
   ],
   "source": [
    "debug(pw_ct, Val{5}, 10) |> cleanup"
   ]
  },
  {
   "cell_type": "code",
   "execution_count": 21,
   "metadata": {},
   "outputs": [
    {
     "data": {
      "text/plain": [
       "runtime (generic function with 2 methods)"
      ]
     },
     "metadata": {},
     "output_type": "display_data"
    }
   ],
   "source": [
    "@ct_enable function pw_opt_ct(@ct(n), x)\n",
    "    @ct_ctrl if iszero(n)\n",
    "        return one(x)\n",
    "    else\n",
    "        @ct(r1 = true)\n",
    "        @ct(k = n)\n",
    "\n",
    "        @ct_ctrl while k > 1\n",
    "            @ct_ctrl if isodd(k)\n",
    "                @ct_ctrl if r1\n",
    "                    r = x\n",
    "                    @ct(r1 = false)\n",
    "                else\n",
    "                    r = r * x\n",
    "                end\n",
    "                @ct(k = k - 1)\n",
    "            else\n",
    "                x = x * x\n",
    "                @ct(k = k ÷ 2)\n",
    "            end\n",
    "        end\n",
    "\n",
    "        @ct_ctrl if r1\n",
    "            return x\n",
    "        else\n",
    "            return r * x\n",
    "        end\n",
    "    end\n",
    "end"
   ]
  },
  {
   "cell_type": "code",
   "execution_count": 22,
   "metadata": {},
   "outputs": [
    {
     "data": {
      "text/plain": [
       "(\"\", \"Abc\", \"AbcAbc\", \"AbcAbcAbc\", \"AbcAbcAbcAbc\", \"AbcAbcAbcAbcAbc\")"
      ]
     },
     "metadata": {},
     "output_type": "display_data"
    }
   ],
   "source": [
    "Tuple(pw_opt_ct(Val{n}, \"Abc\") for n in 0:5)"
   ]
  },
  {
   "cell_type": "code",
   "execution_count": 23,
   "metadata": {},
   "outputs": [
    {
     "data": {
      "text/plain": [
       "CodeInfo(\n",
       "\u001b[90m1 ─\u001b[39m %1 = Base.mul_int(x, x)\u001b[36m::Int64\u001b[39m\n",
       "\u001b[90m│  \u001b[39m %2 = Base.mul_int(%1, %1)\u001b[36m::Int64\u001b[39m\n",
       "\u001b[90m│  \u001b[39m %3 = Base.mul_int(x, %2)\u001b[36m::Int64\u001b[39m\n",
       "\u001b[90m└──\u001b[39m      return %3\n",
       ") => Int64"
      ]
     },
     "metadata": {},
     "output_type": "display_data"
    }
   ],
   "source": [
    "@code_typed pw_opt_ct(Val{5}, 10)"
   ]
  },
  {
   "cell_type": "code",
   "execution_count": 24,
   "metadata": {},
   "outputs": [
    {
     "data": {
      "text/plain": [
       ":(return one(x))"
      ]
     },
     "metadata": {},
     "output_type": "display_data"
    }
   ],
   "source": [
    "debug(pw_opt_ct, Val{0}, 10) |> cleanup"
   ]
  },
  {
   "cell_type": "code",
   "execution_count": 25,
   "metadata": {},
   "outputs": [
    {
     "data": {
      "text/plain": [
       "quote\n",
       "    r = one(x)\n",
       "    1\n",
       "    return r * x\n",
       "end"
      ]
     },
     "metadata": {},
     "output_type": "display_data"
    }
   ],
   "source": [
    "debug(pw_ct, Val{1}, 10) |> cleanup"
   ]
  },
  {
   "cell_type": "code",
   "execution_count": 26,
   "metadata": {},
   "outputs": [
    {
     "data": {
      "text/plain": [
       "quote\n",
       "    true\n",
       "    4\n",
       "    x = x * x\n",
       "    2\n",
       "    x = x * x\n",
       "    1\n",
       "    return x\n",
       "end"
      ]
     },
     "metadata": {},
     "output_type": "display_data"
    }
   ],
   "source": [
    "debug(pw_opt_ct, Val{4}, 10) |> cleanup"
   ]
  },
  {
   "cell_type": "code",
   "execution_count": 27,
   "metadata": {},
   "outputs": [
    {
     "data": {
      "text/plain": [
       "quote\n",
       "    true\n",
       "    5\n",
       "    r = x\n",
       "    false\n",
       "    4\n",
       "    x = x * x\n",
       "    2\n",
       "    x = x * x\n",
       "    1\n",
       "    return r * x\n",
       "end"
      ]
     },
     "metadata": {},
     "output_type": "display_data"
    }
   ],
   "source": [
    "debug(pw_opt_ct, Val{5}, 10) |> cleanup"
   ]
  },
  {
   "cell_type": "code",
   "execution_count": 28,
   "metadata": {},
   "outputs": [
    {
     "data": {
      "text/plain": [
       "quote\n",
       "    true\n",
       "    7\n",
       "    r = x\n",
       "    false\n",
       "    6\n",
       "    x = x * x\n",
       "    3\n",
       "    r = r * x\n",
       "    2\n",
       "    x = x * x\n",
       "    1\n",
       "    return r * x\n",
       "end"
      ]
     },
     "metadata": {},
     "output_type": "display_data"
    }
   ],
   "source": [
    "debug(pw_opt_ct, Val{7}, 10) |> cleanup"
   ]
  }
 ],
 "metadata": {
  "kernelspec": {
   "display_name": "Julia 1.10.2",
   "language": "julia",
   "name": "julia-1.10"
  },
  "language_info": {
   "file_extension": ".jl",
   "mimetype": "application/julia",
   "name": "julia",
   "version": "1.10.2"
  }
 },
 "nbformat": 4,
 "nbformat_minor": 2
}
