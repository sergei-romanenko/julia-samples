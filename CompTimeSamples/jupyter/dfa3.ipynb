{
 "cells": [
  {
   "cell_type": "code",
   "execution_count": 1,
   "metadata": {},
   "outputs": [],
   "source": [
    "using InteractiveUtils"
   ]
  },
  {
   "cell_type": "code",
   "execution_count": 2,
   "metadata": {},
   "outputs": [],
   "source": [
    "abstract type List end"
   ]
  },
  {
   "cell_type": "code",
   "execution_count": 3,
   "metadata": {},
   "outputs": [],
   "source": [
    "struct Nil <: List end"
   ]
  },
  {
   "cell_type": "code",
   "execution_count": 4,
   "metadata": {},
   "outputs": [],
   "source": [
    "struct Cons <: List\n",
    "    hd\n",
    "    tl::List\n",
    "end"
   ]
  },
  {
   "cell_type": "code",
   "execution_count": 5,
   "metadata": {},
   "outputs": [
    {
     "data": {
      "text/plain": [
       "swap01 (generic function with 1 method)"
      ]
     },
     "metadata": {},
     "output_type": "display_data"
    }
   ],
   "source": [
    "swap01(xs::Nil) =\n",
    "    Nil()"
   ]
  },
  {
   "cell_type": "code",
   "execution_count": 6,
   "metadata": {},
   "outputs": [
    {
     "data": {
      "text/plain": [
       "swap01 (generic function with 2 methods)"
      ]
     },
     "metadata": {},
     "output_type": "display_data"
    }
   ],
   "source": [
    "swap01(xs::Cons) =\n",
    "    Cons(iszero(xs.hd) ? one(xs.hd) :\n",
    "         isone(xs.hd) ? zero(xs.hd) :\n",
    "         error(\"Invalid input: \", xs.t), swap01(xs.tl))"
   ]
  },
  {
   "cell_type": "code",
   "execution_count": 7,
   "metadata": {},
   "outputs": [
    {
     "data": {
      "text/plain": [
       "Cons(1, Cons(0, Cons(1, Nil())))"
      ]
     },
     "metadata": {},
     "output_type": "display_data"
    }
   ],
   "source": [
    "swap01(Cons(0, Cons(1, Cons(0, Nil()))))"
   ]
  },
  {
   "cell_type": "code",
   "execution_count": 8,
   "metadata": {},
   "outputs": [
    {
     "data": {
      "text/plain": [
       "((:s0, ((0, (:s0, :even)), (1, (:s1, :odd)))), (:s1, ((0, (:s1, :odd)), (1, (:s0, :even)))))"
      ]
     },
     "metadata": {},
     "output_type": "display_data"
    }
   ],
   "source": [
    "parity_table =\n",
    "    (:s0, (\n",
    "        (0, (:s0, :even)),\n",
    "        (1, (:s1, :odd)))),\n",
    "    (:s1, (\n",
    "        (0, (:s1, :odd)),\n",
    "        (1, (:s0, :even))))"
   ]
  },
  {
   "cell_type": "code",
   "execution_count": 9,
   "metadata": {},
   "outputs": [
    {
     "data": {
      "text/plain": [
       "dfa (generic function with 1 method)"
      ]
     },
     "metadata": {},
     "output_type": "display_data"
    }
   ],
   "source": [
    "function dfa(tbl, state, xs::Nil)\n",
    "    Nil()\n",
    "end"
   ]
  },
  {
   "cell_type": "code",
   "execution_count": 10,
   "metadata": {},
   "outputs": [
    {
     "data": {
      "text/plain": [
       "dfa (generic function with 2 methods)"
      ]
     },
     "metadata": {},
     "output_type": "display_data"
    }
   ],
   "source": [
    "function dfa(tbl, state, xs::Cons)\n",
    "    dfa(tbl, tbl, state, xs::Cons)\n",
    "end"
   ]
  },
  {
   "cell_type": "code",
   "execution_count": 11,
   "metadata": {},
   "outputs": [
    {
     "data": {
      "text/plain": [
       "dfa (generic function with 3 methods)"
      ]
     },
     "metadata": {},
     "output_type": "display_data"
    }
   ],
   "source": [
    "function dfa(tbl, tbl0, state, xs::Cons)\n",
    "    (s, tbl_r), tbl1... = tbl0\n",
    "    if s != state\n",
    "        dfa(tbl, tbl1, state, xs)\n",
    "    else\n",
    "        dfa_r(tbl, tbl_r, state, xs)\n",
    "    end\n",
    "end"
   ]
  },
  {
   "cell_type": "code",
   "execution_count": 12,
   "metadata": {},
   "outputs": [
    {
     "data": {
      "text/plain": [
       "dfa_r (generic function with 1 method)"
      ]
     },
     "metadata": {},
     "output_type": "display_data"
    }
   ],
   "source": [
    "function dfa_r(tbl, tbl_r, state, xs::Cons)\n",
    "    (x, (s, y)), tbl_r1... = tbl_r\n",
    "    if x != xs.hd\n",
    "        dfa_r(tbl, tbl_r1, state, xs)\n",
    "    else\n",
    "        Cons(y, dfa(tbl, s, xs.tl))\n",
    "    end\n",
    "end"
   ]
  },
  {
   "cell_type": "code",
   "execution_count": 13,
   "metadata": {},
   "outputs": [
    {
     "data": {
      "text/plain": [
       "Cons(:even, Cons(:odd, Cons(:odd, Cons(:even, Cons(:even, Nil())))))"
      ]
     },
     "metadata": {},
     "output_type": "display_data"
    }
   ],
   "source": [
    "dfa(parity_table, :s0, Cons(0, Cons(1, Cons(0, Cons(1, Cons(0, Nil()))))))"
   ]
  },
  {
   "cell_type": "code",
   "execution_count": 14,
   "metadata": {},
   "outputs": [
    {
     "data": {
      "text/plain": [
       "dfa_pe (generic function with 1 method)"
      ]
     },
     "metadata": {},
     "output_type": "display_data"
    }
   ],
   "source": [
    "function dfa_pe(::Val{tbl}, ::Val{state}, xs::Nil) where {tbl, state}\n",
    "    Nil()\n",
    "end"
   ]
  },
  {
   "cell_type": "code",
   "execution_count": 15,
   "metadata": {},
   "outputs": [
    {
     "data": {
      "text/plain": [
       "dfa_pe (generic function with 2 methods)"
      ]
     },
     "metadata": {},
     "output_type": "display_data"
    }
   ],
   "source": [
    "function dfa_pe(::Val{tbl}, ::Val{state}, xs::Cons) where {tbl, state}\n",
    "    dfa_pe(Val(tbl), Val(tbl), Val(state), xs::Cons)\n",
    "end"
   ]
  },
  {
   "cell_type": "code",
   "execution_count": 16,
   "metadata": {},
   "outputs": [
    {
     "data": {
      "text/plain": [
       "dfa_pe (generic function with 3 methods)"
      ]
     },
     "metadata": {},
     "output_type": "display_data"
    }
   ],
   "source": [
    "function dfa_pe(::Val{tbl}, ::Val{tbl0}, ::Val{state}, xs::Cons) where {tbl, tbl0, state}\n",
    "    (s, tbl_r), tbl1... = tbl0\n",
    "    if s != state\n",
    "        dfa_pe(Val(tbl), Val(tbl1), Val(state), xs)\n",
    "    else\n",
    "        dfa_r_pe(Val(tbl), Val(tbl_r), Val(state), xs)\n",
    "    end\n",
    "end"
   ]
  },
  {
   "cell_type": "code",
   "execution_count": 17,
   "metadata": {},
   "outputs": [
    {
     "data": {
      "text/plain": [
       "dfa_r_pe (generic function with 1 method)"
      ]
     },
     "metadata": {},
     "output_type": "display_data"
    }
   ],
   "source": [
    "function dfa_r_pe(::Val{tbl}, ::Val{tbl_r}, ::Val{state}, xs::Cons) where {tbl, tbl_r, state}\n",
    "    (x, (s, y)), tbl_r1... = tbl_r\n",
    "    if x != xs.hd\n",
    "        dfa_r_pe(Val(tbl), Val(tbl_r1), Val(state), xs)\n",
    "    else\n",
    "        Cons(y, dfa_pe(Val(tbl), Val(s), xs.tl))\n",
    "    end\n",
    "end"
   ]
  },
  {
   "cell_type": "code",
   "execution_count": 18,
   "metadata": {},
   "outputs": [
    {
     "data": {
      "text/plain": [
       "Nil()"
      ]
     },
     "metadata": {},
     "output_type": "display_data"
    }
   ],
   "source": [
    "dfa_pe(Val(parity_table), Val(:s0), Nil())"
   ]
  },
  {
   "cell_type": "code",
   "execution_count": 19,
   "metadata": {},
   "outputs": [
    {
     "data": {
      "text/plain": [
       "Cons(:even, Cons(:odd, Cons(:odd, Cons(:even, Cons(:even, Nil())))))"
      ]
     },
     "metadata": {},
     "output_type": "display_data"
    }
   ],
   "source": [
    "dfa_pe(Val(parity_table), Val(:s0), Cons(0, Cons(1, Cons(0, Cons(1, Cons(0, Nil()))))))"
   ]
  },
  {
   "cell_type": "code",
   "execution_count": 20,
   "metadata": {},
   "outputs": [
    {
     "data": {
      "text/plain": [
       "CodeInfo(\n",
       "\u001b[90m1 ─\u001b[39m      nothing\u001b[90m::Nothing\u001b[39m\n",
       "\u001b[90m│  \u001b[39m %2 = invoke Main.dfa_r_pe($(QuoteNode(Val{((:s0, ((0, (:s0, :even)), (1, (:s1, :odd)))), (:s1, ((0, (:s1, :odd)), (1, (:s0, :even)))))}()))::Val{((:s0, ((0, (:s0, :even)), (1, (:s1, :odd)))), (:s1, ((0, (:s1, :odd)), (1, (:s0, :even)))))}, $(QuoteNode(Val{((0, (:s0, :even)), (1, (:s1, :odd)))}()))::Val{((0, (:s0, :even)), (1, (:s1, :odd)))}, $(QuoteNode(Val{:s0}()))::Val{:s0}, xs::Cons)\u001b[36m::Cons\u001b[39m\n",
       "\u001b[90m└──\u001b[39m      return %2\n",
       ") => Cons"
      ]
     },
     "metadata": {},
     "output_type": "display_data"
    }
   ],
   "source": [
    "@code_typed dfa_pe(Val(parity_table), Val(parity_table), Val(:s0), Cons(0, Cons(1, Cons(0, Cons(1, Cons(0, Nil()))))))"
   ]
  }
 ],
 "metadata": {
  "kernelspec": {
   "display_name": "Julia 1.11.2",
   "language": "julia",
   "name": "julia-1.11"
  },
  "language_info": {
   "file_extension": ".jl",
   "mimetype": "application/julia",
   "name": "julia",
   "version": "1.11.2"
  }
 },
 "nbformat": 4,
 "nbformat_minor": 2
}
