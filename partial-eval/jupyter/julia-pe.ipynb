{
 "cells": [
  {
   "cell_type": "markdown",
   "metadata": {},
   "source": [
    "### Peano numbers"
   ]
  },
  {
   "cell_type": "code",
   "execution_count": 1,
   "metadata": {},
   "outputs": [],
   "source": [
    "abstract type Peano end"
   ]
  },
  {
   "cell_type": "code",
   "execution_count": 2,
   "metadata": {},
   "outputs": [],
   "source": [
    "struct Z <: Peano end"
   ]
  },
  {
   "cell_type": "code",
   "execution_count": 3,
   "metadata": {},
   "outputs": [],
   "source": [
    "struct S{T <: Peano} <: Peano end"
   ]
  },
  {
   "cell_type": "code",
   "execution_count": 4,
   "metadata": {},
   "outputs": [
    {
     "data": {
      "text/plain": [
       "DataType"
      ]
     },
     "metadata": {},
     "output_type": "display_data"
    }
   ],
   "source": [
    "typeof(Peano)"
   ]
  },
  {
   "cell_type": "code",
   "execution_count": 5,
   "metadata": {},
   "outputs": [
    {
     "data": {
      "text/plain": [
       "Z()"
      ]
     },
     "metadata": {},
     "output_type": "display_data"
    }
   ],
   "source": [
    "p0 = Z()"
   ]
  },
  {
   "cell_type": "code",
   "execution_count": 6,
   "metadata": {},
   "outputs": [
    {
     "data": {
      "text/plain": [
       "S{Z}()"
      ]
     },
     "metadata": {},
     "output_type": "display_data"
    }
   ],
   "source": [
    "p1 = S{Z}()"
   ]
  },
  {
   "cell_type": "code",
   "execution_count": 7,
   "metadata": {},
   "outputs": [
    {
     "data": {
      "text/plain": [
       "S{Z}"
      ]
     },
     "metadata": {},
     "output_type": "display_data"
    }
   ],
   "source": [
    "typeof(p1)"
   ]
  },
  {
   "cell_type": "code",
   "execution_count": 8,
   "metadata": {},
   "outputs": [
    {
     "data": {
      "text/plain": [
       "succ (generic function with 1 method)"
      ]
     },
     "metadata": {},
     "output_type": "display_data"
    }
   ],
   "source": [
    "succ(x::Peano) = S{typeof(x)}()"
   ]
  },
  {
   "cell_type": "code",
   "execution_count": 9,
   "metadata": {},
   "outputs": [
    {
     "data": {
      "text/plain": [
       "pred (generic function with 1 method)"
      ]
     },
     "metadata": {},
     "output_type": "display_data"
    }
   ],
   "source": [
    "pred(x::S{X}) where {X} = X()"
   ]
  },
  {
   "cell_type": "code",
   "execution_count": 10,
   "metadata": {},
   "outputs": [
    {
     "data": {
      "text/plain": [
       "Z()"
      ]
     },
     "metadata": {},
     "output_type": "display_data"
    }
   ],
   "source": [
    "pred(p1)"
   ]
  },
  {
   "cell_type": "code",
   "execution_count": 11,
   "metadata": {},
   "outputs": [
    {
     "data": {
      "text/plain": [
       "S{S{Z}}()"
      ]
     },
     "metadata": {},
     "output_type": "display_data"
    }
   ],
   "source": [
    "p2 = succ(p1)"
   ]
  },
  {
   "cell_type": "code",
   "execution_count": 12,
   "metadata": {},
   "outputs": [
    {
     "data": {
      "text/plain": [
       "S{Z}()"
      ]
     },
     "metadata": {},
     "output_type": "display_data"
    }
   ],
   "source": [
    "pred(p2)"
   ]
  },
  {
   "cell_type": "code",
   "execution_count": 13,
   "metadata": {},
   "outputs": [
    {
     "data": {
      "text/plain": [
       "S{S{S{Z}}}()"
      ]
     },
     "metadata": {},
     "output_type": "display_data"
    }
   ],
   "source": [
    "p3 = succ(p2)"
   ]
  },
  {
   "cell_type": "code",
   "execution_count": 14,
   "metadata": {},
   "outputs": [
    {
     "data": {
      "text/plain": [
       "true"
      ]
     },
     "metadata": {},
     "output_type": "display_data"
    }
   ],
   "source": [
    "succ(p0) === p1"
   ]
  },
  {
   "cell_type": "markdown",
   "metadata": {},
   "source": [
    "### `add`"
   ]
  },
  {
   "cell_type": "code",
   "execution_count": 15,
   "metadata": {},
   "outputs": [
    {
     "data": {
      "text/plain": [
       "add (generic function with 1 method)"
      ]
     },
     "metadata": {},
     "output_type": "display_data"
    }
   ],
   "source": [
    "add(x::Z, y::Peano) = y"
   ]
  },
  {
   "cell_type": "code",
   "execution_count": 16,
   "metadata": {},
   "outputs": [
    {
     "data": {
      "text/plain": [
       "add (generic function with 2 methods)"
      ]
     },
     "metadata": {},
     "output_type": "display_data"
    }
   ],
   "source": [
    "add(x::S, y::Peano) = succ(add(pred(x), y))"
   ]
  },
  {
   "cell_type": "code",
   "execution_count": 17,
   "metadata": {},
   "outputs": [
    {
     "data": {
      "text/plain": [
       "S{S{S{S{S{Z}}}}}()"
      ]
     },
     "metadata": {},
     "output_type": "display_data"
    }
   ],
   "source": [
    "add(p2, p3)"
   ]
  },
  {
   "cell_type": "code",
   "execution_count": 18,
   "metadata": {},
   "outputs": [
    {
     "data": {
      "text/plain": [
       "CodeInfo(\n",
       "\u001b[90m1 ─\u001b[39m     return $(QuoteNode(S{S{S{Z}}}()))\n",
       ") => S{S{S{Z}}}"
      ]
     },
     "metadata": {},
     "output_type": "display_data"
    }
   ],
   "source": [
    "@code_typed add(p1, p2)"
   ]
  },
  {
   "cell_type": "markdown",
   "metadata": {},
   "source": [
    "```text\n",
    "ackermann(Z, n) = S(n);\n",
    "ackermann(S(m), Z) = ackermann(m, S(Z));\n",
    "ackermann(S(m), S(n)) = ackermann(m, a(S(m), n));\n",
    "```"
   ]
  },
  {
   "cell_type": "code",
   "execution_count": 19,
   "metadata": {},
   "outputs": [
    {
     "data": {
      "text/plain": [
       "ackerman (generic function with 1 method)"
      ]
     },
     "metadata": {},
     "output_type": "display_data"
    }
   ],
   "source": [
    "ackerman(m::Z, n::Peano) = succ(n)"
   ]
  },
  {
   "cell_type": "code",
   "execution_count": 20,
   "metadata": {},
   "outputs": [
    {
     "data": {
      "text/plain": [
       "ackerman (generic function with 2 methods)"
      ]
     },
     "metadata": {},
     "output_type": "display_data"
    }
   ],
   "source": [
    "ackerman(m::S, n::Z) = ackerman(pred(m), succ(Z()))"
   ]
  },
  {
   "cell_type": "code",
   "execution_count": 21,
   "metadata": {},
   "outputs": [
    {
     "data": {
      "text/plain": [
       "ackerman (generic function with 3 methods)"
      ]
     },
     "metadata": {},
     "output_type": "display_data"
    }
   ],
   "source": [
    "ackerman(m::S, n::S) = ackerman(pred(m), ackerman(m, pred(n)))"
   ]
  },
  {
   "cell_type": "code",
   "execution_count": 22,
   "metadata": {},
   "outputs": [
    {
     "data": {
      "text/plain": [
       "S{S{S{S{S{S{S{S{S{S{S{S{S{Z}}}}}}}}}}}}}()"
      ]
     },
     "metadata": {},
     "output_type": "display_data"
    }
   ],
   "source": [
    "ackerman(p3, p1)"
   ]
  },
  {
   "cell_type": "code",
   "execution_count": 23,
   "metadata": {},
   "outputs": [
    {
     "data": {
      "text/plain": [
       "svec(MethodInstance for ackerman(::S{S{S{Z}}}, ::S{Z}), MethodInstance for ackerman(::S{S{Z}}, ::S{Z}), MethodInstance for ackerman(::S{Z}, ::S{Z}), MethodInstance for ackerman(::S{Z}, ::S{S{S{Z}}}), MethodInstance for ackerman(::S{Z}, ::S{S{Z}}), MethodInstance for ackerman(::S{S{Z}}, ::S{S{S{S{S{Z}}}}}), MethodInstance for ackerman(::S{S{Z}}, ::S{S{S{S{Z}}}}), MethodInstance for ackerman(::S{S{Z}}, ::S{S{S{Z}}}), MethodInstance for ackerman(::S{S{Z}}, ::S{S{Z}}), MethodInstance for ackerman(::S{Z}, ::S{S{S{S{S{Z}}}}}), MethodInstance for ackerman(::S{Z}, ::S{S{S{S{Z}}}}), MethodInstance for ackerman(::S{Z}, ::S{S{S{S{S{S{S{Z}}}}}}}), MethodInstance for ackerman(::S{Z}, ::S{S{S{S{S{S{Z}}}}}}), MethodInstance for ackerman(::S{Z}, ::S{S{S{S{S{S{S{S{S{Z}}}}}}}}}), MethodInstance for ackerman(::S{Z}, ::S{S{S{S{S{S{S{S{Z}}}}}}}}), MethodInstance for ackerman(::S{Z}, ::S{S{S{S{S{S{S{S{S{S{S{Z}}}}}}}}}}}), MethodInstance for ackerman(::S{Z}, ::S{S{S{S{S{S{S{S{S{S{Z}}}}}}}}}}), nothing, nothing, nothing, nothing, nothing, nothing, nothing, nothing, nothing, MethodInstance for ackerman(::S{Z}, ::S))"
      ]
     },
     "metadata": {},
     "output_type": "display_data"
    }
   ],
   "source": [
    "(@which ackerman(p3, p1)).specializations"
   ]
  },
  {
   "cell_type": "markdown",
   "metadata": {},
   "source": [
    "### `repeat`"
   ]
  },
  {
   "cell_type": "code",
   "execution_count": 24,
   "metadata": {},
   "outputs": [
    {
     "data": {
      "text/plain": [
       "repeat (generic function with 1 method)"
      ]
     },
     "metadata": {},
     "output_type": "display_data"
    }
   ],
   "source": [
    "repeat(n::Z, a) = ()"
   ]
  },
  {
   "cell_type": "code",
   "execution_count": 25,
   "metadata": {},
   "outputs": [
    {
     "data": {
      "text/plain": [
       "repeat (generic function with 2 methods)"
      ]
     },
     "metadata": {},
     "output_type": "display_data"
    }
   ],
   "source": [
    "repeat(n::S, a) = (a, repeat(pred(n), a))"
   ]
  },
  {
   "cell_type": "code",
   "execution_count": 26,
   "metadata": {},
   "outputs": [
    {
     "data": {
      "text/plain": [
       "(99, (99, (99, ())))"
      ]
     },
     "metadata": {},
     "output_type": "display_data"
    }
   ],
   "source": [
    "repeat(p3, 99)"
   ]
  },
  {
   "cell_type": "code",
   "execution_count": 27,
   "metadata": {},
   "outputs": [
    {
     "data": {
      "text/plain": [
       "CodeInfo(\n",
       "\u001b[90m1 ─\u001b[39m %1 = Core.tuple(a, ())\u001b[36m::Tuple{Int64, Tuple{}}\u001b[39m\n",
       "\u001b[90m│  \u001b[39m %2 = Core.tuple(a, %1)\u001b[36m::Tuple{Int64, Tuple{Int64, Tuple{}}}\u001b[39m\n",
       "\u001b[90m│  \u001b[39m %3 = Core.tuple(a, %2)\u001b[36m::Tuple{Int64, Tuple{Int64, Tuple{Int64, Tuple{}}}}\u001b[39m\n",
       "\u001b[90m└──\u001b[39m      return %3\n",
       ") => Tuple{Int64, Tuple{Int64, Tuple{Int64, Tuple{}}}}"
      ]
     },
     "metadata": {},
     "output_type": "display_data"
    }
   ],
   "source": [
    "@code_typed repeat(p3, 99)"
   ]
  },
  {
   "cell_type": "markdown",
   "metadata": {},
   "source": [
    "### `pw`"
   ]
  },
  {
   "cell_type": "code",
   "execution_count": 28,
   "metadata": {},
   "outputs": [
    {
     "data": {
      "text/plain": [
       "pw (generic function with 1 method)"
      ]
     },
     "metadata": {},
     "output_type": "display_data"
    }
   ],
   "source": [
    "pw(n::Z, x) = one(x)"
   ]
  },
  {
   "cell_type": "code",
   "execution_count": 29,
   "metadata": {},
   "outputs": [
    {
     "data": {
      "text/plain": [
       "pw (generic function with 2 methods)"
      ]
     },
     "metadata": {},
     "output_type": "display_data"
    }
   ],
   "source": [
    "pw(n::S, x) = x * pw(pred(n), x)"
   ]
  },
  {
   "cell_type": "code",
   "execution_count": 30,
   "metadata": {},
   "outputs": [
    {
     "data": {
      "text/plain": [
       "CodeInfo(\n",
       "\u001b[90m1 ─\u001b[39m %1 = Base.mul_int(x, 1)\u001b[36m::Int64\u001b[39m\n",
       "\u001b[90m│  \u001b[39m %2 = Base.mul_int(x, %1)\u001b[36m::Int64\u001b[39m\n",
       "\u001b[90m│  \u001b[39m %3 = Base.mul_int(x, %2)\u001b[36m::Int64\u001b[39m\n",
       "\u001b[90m└──\u001b[39m      return %3\n",
       ") => Int64"
      ]
     },
     "metadata": {},
     "output_type": "display_data"
    }
   ],
   "source": [
    "@code_typed pw(p3, 99)"
   ]
  },
  {
   "cell_type": "code",
   "execution_count": 31,
   "metadata": {},
   "outputs": [
    {
     "data": {
      "text/plain": [
       "CodeInfo(\n",
       "\u001b[90m1 ─\u001b[39m %1 = Base.mul_float(x, 1.0)\u001b[36m::Float64\u001b[39m\n",
       "\u001b[90m│  \u001b[39m %2 = Base.mul_float(x, %1)\u001b[36m::Float64\u001b[39m\n",
       "\u001b[90m└──\u001b[39m      return %2\n",
       ") => Float64"
      ]
     },
     "metadata": {},
     "output_type": "display_data"
    }
   ],
   "source": [
    "@code_typed pw(p2, 2.0)"
   ]
  },
  {
   "cell_type": "markdown",
   "metadata": {},
   "source": [
    "### `Val(c)`"
   ]
  },
  {
   "cell_type": "code",
   "execution_count": 32,
   "metadata": {},
   "outputs": [
    {
     "data": {
      "text/plain": [
       "Val{99}()"
      ]
     },
     "metadata": {},
     "output_type": "display_data"
    }
   ],
   "source": [
    "Val(99)"
   ]
  },
  {
   "cell_type": "code",
   "execution_count": 33,
   "metadata": {},
   "outputs": [
    {
     "data": {
      "text/plain": [
       "Val{99}"
      ]
     },
     "metadata": {},
     "output_type": "display_data"
    }
   ],
   "source": [
    "typeof(Val(99))"
   ]
  },
  {
   "cell_type": "code",
   "execution_count": 34,
   "metadata": {},
   "outputs": [
    {
     "data": {
      "text/plain": [
       "Val{(1, 2, (3, 4))}"
      ]
     },
     "metadata": {},
     "output_type": "display_data"
    }
   ],
   "source": [
    "typeof(Val((1,2,(3,4))))"
   ]
  },
  {
   "cell_type": "markdown",
   "metadata": {},
   "source": [
    "### Extracting `c` from `Val(c)`"
   ]
  },
  {
   "cell_type": "code",
   "execution_count": 35,
   "metadata": {},
   "outputs": [
    {
     "data": {
      "text/plain": [
       "get_val (generic function with 1 method)"
      ]
     },
     "metadata": {},
     "output_type": "display_data"
    }
   ],
   "source": [
    "get_val(::Val{n}) where {n} = n"
   ]
  },
  {
   "cell_type": "code",
   "execution_count": 36,
   "metadata": {},
   "outputs": [
    {
     "data": {
      "text/plain": [
       "99"
      ]
     },
     "metadata": {},
     "output_type": "display_data"
    }
   ],
   "source": [
    "get_val(Val(99))"
   ]
  },
  {
   "cell_type": "code",
   "execution_count": 37,
   "metadata": {},
   "outputs": [
    {
     "data": {
      "text/plain": [
       "(1, 2, (3, 4))"
      ]
     },
     "metadata": {},
     "output_type": "display_data"
    }
   ],
   "source": [
    "get_val(Val((1,2,(3,4))))"
   ]
  },
  {
   "cell_type": "code",
   "execution_count": 38,
   "metadata": {},
   "outputs": [
    {
     "data": {
      "text/plain": [
       "(:A, :B, :C)"
      ]
     },
     "metadata": {},
     "output_type": "display_data"
    }
   ],
   "source": [
    "get_val(Val((:A, :B, :C)))"
   ]
  },
  {
   "cell_type": "markdown",
   "metadata": {},
   "source": [
    "### `pw(::Val{c}, x)`"
   ]
  },
  {
   "cell_type": "code",
   "execution_count": 39,
   "metadata": {},
   "outputs": [
    {
     "data": {
      "text/plain": [
       "pw_v (generic function with 1 method)"
      ]
     },
     "metadata": {},
     "output_type": "display_data"
    }
   ],
   "source": [
    "pw_v(::Val{0}, x) = one(x)"
   ]
  },
  {
   "cell_type": "code",
   "execution_count": 40,
   "metadata": {},
   "outputs": [
    {
     "data": {
      "text/plain": [
       "pw_v (generic function with 2 methods)"
      ]
     },
     "metadata": {},
     "output_type": "display_data"
    }
   ],
   "source": [
    "pw_v(::Val{n}, x) where {n} = x * pw_v(Val(n-1), x)"
   ]
  },
  {
   "cell_type": "code",
   "execution_count": 41,
   "metadata": {},
   "outputs": [
    {
     "data": {
      "text/plain": [
       "pw_v (generic function with 3 methods)"
      ]
     },
     "metadata": {},
     "output_type": "display_data"
    }
   ],
   "source": [
    "pw_v(n::Integer, x) = pw_v(Val(n), x)"
   ]
  },
  {
   "cell_type": "code",
   "execution_count": 42,
   "metadata": {},
   "outputs": [
    {
     "data": {
      "text/plain": [
       "8.0"
      ]
     },
     "metadata": {},
     "output_type": "display_data"
    }
   ],
   "source": [
    "pw_v(3, 2.0)"
   ]
  },
  {
   "cell_type": "code",
   "execution_count": 43,
   "metadata": {},
   "outputs": [
    {
     "data": {
      "text/plain": [
       "100000"
      ]
     },
     "metadata": {},
     "output_type": "display_data"
    }
   ],
   "source": [
    "pw_v(5, 10)"
   ]
  },
  {
   "cell_type": "code",
   "execution_count": 44,
   "metadata": {},
   "outputs": [
    {
     "data": {
      "text/plain": [
       "CodeInfo(\n",
       "\u001b[90m1 ─\u001b[39m %1 = Base.mul_int(x, 1)\u001b[36m::Int64\u001b[39m\n",
       "\u001b[90m│  \u001b[39m %2 = Base.mul_int(x, %1)\u001b[36m::Int64\u001b[39m\n",
       "\u001b[90m│  \u001b[39m %3 = Base.mul_int(x, %2)\u001b[36m::Int64\u001b[39m\n",
       "\u001b[90m│  \u001b[39m %4 = Base.mul_int(x, %3)\u001b[36m::Int64\u001b[39m\n",
       "\u001b[90m│  \u001b[39m %5 = Base.mul_int(x, %4)\u001b[36m::Int64\u001b[39m\n",
       "\u001b[90m└──\u001b[39m      return %5\n",
       ") => Int64"
      ]
     },
     "metadata": {},
     "output_type": "display_data"
    }
   ],
   "source": [
    "@code_typed pw_v(Val(5), 10)"
   ]
  },
  {
   "cell_type": "markdown",
   "metadata": {},
   "source": [
    "### `one_of` - static `if`"
   ]
  },
  {
   "cell_type": "markdown",
   "metadata": {},
   "source": [
    "Note that `k` is decreasing, in order to induce the compiler to unfold the calls to `one_of`."
   ]
  },
  {
   "cell_type": "code",
   "execution_count": 45,
   "metadata": {},
   "outputs": [
    {
     "data": {
      "text/plain": [
       "one_of (generic function with 1 method)"
      ]
     },
     "metadata": {},
     "output_type": "display_data"
    }
   ],
   "source": [
    "one_of(x, s::NTuple{N, T}) where {N, T} = one_of(x, Val(s), Val(N))"
   ]
  },
  {
   "cell_type": "code",
   "execution_count": 46,
   "metadata": {},
   "outputs": [
    {
     "data": {
      "text/plain": [
       "one_of (generic function with 2 methods)"
      ]
     },
     "metadata": {},
     "output_type": "display_data"
    }
   ],
   "source": [
    "function one_of(x, ::Val{s}, ::Val{k}) where {s, k}\n",
    "\tif k == 0\n",
    "\t\tfalse\n",
    "\telseif s[k] == x\n",
    "\t\ttrue\n",
    "\telse\n",
    "\t\tone_of(x, Val(s), Val(k-1))\n",
    "\tend\n",
    "end"
   ]
  },
  {
   "cell_type": "code",
   "execution_count": 47,
   "metadata": {},
   "outputs": [
    {
     "data": {
      "text/plain": [
       "true"
      ]
     },
     "metadata": {},
     "output_type": "display_data"
    }
   ],
   "source": [
    "one_of(300, (100, 200, 300))"
   ]
  },
  {
   "cell_type": "code",
   "execution_count": 48,
   "metadata": {},
   "outputs": [
    {
     "data": {
      "text/plain": [
       "false"
      ]
     },
     "metadata": {},
     "output_type": "display_data"
    }
   ],
   "source": [
    "one_of(400, (100, 200, 300))"
   ]
  },
  {
   "cell_type": "code",
   "execution_count": 49,
   "metadata": {},
   "outputs": [
    {
     "data": {
      "text/plain": [
       "CodeInfo(\n",
       "\u001b[90m1 ─\u001b[39m %1 = Core.apply_type(Base.Val, s)\u001b[36m::Type{Val{_A}} where _A\u001b[39m\n",
       "\u001b[90m│  \u001b[39m %2 = %new(%1)\u001b[36m::Val\u001b[39m\n",
       "\u001b[90m│  \u001b[39m %3 = Main.one_of(x, %2, $(QuoteNode(Val{3}())))\u001b[36m::Bool\u001b[39m\n",
       "\u001b[90m└──\u001b[39m      return %3\n",
       ") => Bool"
      ]
     },
     "metadata": {},
     "output_type": "display_data"
    }
   ],
   "source": [
    "@code_typed one_of(300, (100, 200, 300))"
   ]
  },
  {
   "cell_type": "code",
   "execution_count": 50,
   "metadata": {},
   "outputs": [
    {
     "name": "stdout",
     "output_type": "stream",
     "text": [
      "\t"
     ]
    },
    {
     "name": "stdout",
     "output_type": "stream",
     "text": [
      "\u001b[0m.text\n",
      "\t\u001b[0m.file\t\u001b[0m\"one_of\"\n",
      "\t\u001b[0m.globl\t\u001b[0mjulia_one_of_2400               \u001b[90m# -- Begin function julia_one_of_2400\u001b[39m\n",
      "\t\u001b[0m.p2align\t\u001b[33m4\u001b[39m\u001b[0m, \u001b[33m0x90\u001b[39m\n",
      "\t\u001b[0m.type\t\u001b[0mjulia_one_of_2400\u001b[0m,\u001b[0m@function\n",
      "\u001b[91mjulia_one_of_2400:\u001b[39m                      \u001b[90m# @julia_one_of_2400\u001b[39m\n",
      "\u001b[90m; ┌ @ /home/roman/devel/Julia/julia-samples/partial-eval/jupyter/julia-pe.ipynb:1 within `one_of`\u001b[39m\n",
      "\t\u001b[0m.cfi_startproc\n",
      "\u001b[90m# %bb.0:                                # %top\u001b[39m\n",
      "\t\u001b[96m\u001b[1mpushq\u001b[22m\u001b[39m\t\u001b[0m%rbp\n",
      "\t\u001b[0m.cfi_def_cfa_offset \u001b[33m16\u001b[39m\n",
      "\t\u001b[0m.cfi_offset \u001b[0m%rbp\u001b[0m, \u001b[33m-16\u001b[39m\n",
      "\t\u001b[96m\u001b[1mmovq\u001b[22m\u001b[39m\t\u001b[0m%rsp\u001b[0m, \u001b[0m%rbp\n",
      "\t\u001b[0m.cfi_def_cfa_register \u001b[0m%rbp\n",
      "\u001b[90m; │ @ /home/roman/devel/Julia/julia-samples/partial-eval/jupyter/julia-pe.ipynb:4 within `one_of`\u001b[39m\n",
      "\u001b[90m; │┌ @ promotion.jl:499 within `==`\u001b[39m\n",
      "\t\u001b[96m\u001b[1mcmpq\u001b[22m\u001b[39m\t\u001b[33m$300\u001b[39m\u001b[0m, \u001b[0m%rdi                      \u001b[90m# imm = 0x12C\u001b[39m\n",
      "\t\u001b[96m\u001b[1msete\u001b[22m\u001b[39m\t\u001b[0m%cl\n",
      "\u001b[90m; │└\u001b[39m\n",
      "\t\u001b[96m\u001b[1mcmpq\u001b[22m\u001b[39m\t\u001b[33m$200\u001b[39m\u001b[0m, \u001b[0m%rdi\n",
      "\t\u001b[96m\u001b[1msete\u001b[22m\u001b[39m\t\u001b[0m%dl\n",
      "\t\u001b[96m\u001b[1mcmpq\u001b[22m\u001b[39m\t\u001b[33m$100\u001b[39m\u001b[0m, \u001b[0m%rdi\n",
      "\t\u001b[96m\u001b[1msete\u001b[22m\u001b[39m\t\u001b[0m%al\n",
      "\t\u001b[96m\u001b[1morb\u001b[22m\u001b[39m\t\u001b[0m%dl\u001b[0m, \u001b[0m%al\n",
      "\t\u001b[96m\u001b[1morb\u001b[22m\u001b[39m\t\u001b[0m%cl\u001b[0m, \u001b[0m%al\n",
      "\u001b[90m; │ @ /home/roman/devel/Julia/julia-samples/partial-eval/jupyter/julia-pe.ipynb within `one_of`\u001b[39m\n",
      "\t\u001b[96m\u001b[1mpopq\u001b[22m\u001b[39m\t\u001b[0m%rbp\n",
      "\t\u001b[0m.cfi_def_cfa \u001b[0m%rsp\u001b[0m, \u001b[33m8\u001b[39m\n",
      "\t\u001b[96m\u001b[1mretq\u001b[22m\u001b[39m\n",
      "\u001b[91m.Lfunc_end0:\u001b[39m\n",
      "\t\u001b[0m.size\t\u001b[0mjulia_one_of_2400\u001b[0m, \u001b[0m.Lfunc_end0-julia_one_of_2400\n",
      "\t\u001b[0m.cfi_endproc\n",
      "\u001b[90m; └\u001b[39m\n",
      "                                        \u001b[90m# -- End function\u001b[39m\n",
      "\t\u001b[0m.section\t\u001b[0m\".note.GNU-stack\"\u001b[0m,\u001b[0m\"\"\u001b[0m,\u001b[0m@progbits\n"
     ]
    }
   ],
   "source": [
    "@code_native one_of(500, Val((100, 200, 300)), Val(3))"
   ]
  },
  {
   "cell_type": "code",
   "execution_count": 51,
   "metadata": {},
   "outputs": [
    {
     "data": {
      "text/plain": [
       "CodeInfo(\n",
       "\u001b[90m1 ─\u001b[39m      nothing\u001b[90m::Nothing\u001b[39m\n",
       "\u001b[90m│  \u001b[39m %2 = (200 === x)\u001b[36m::Bool\u001b[39m\n",
       "\u001b[90m└──\u001b[39m      goto #3 if not %2\n",
       "\u001b[90m2 ─\u001b[39m      return true\n",
       "\u001b[90m3 ─\u001b[39m %5 = (100 === x)\u001b[36m::Bool\u001b[39m\n",
       "\u001b[90m└──\u001b[39m      goto #5 if not %5\n",
       "\u001b[90m4 ─\u001b[39m      goto #6\n",
       "\u001b[90m5 ─\u001b[39m      goto #6\n",
       "\u001b[90m6 ┄\u001b[39m %9 = φ (#4 => true, #5 => false)\u001b[36m::Bool\u001b[39m\n",
       "\u001b[90m└──\u001b[39m      return %9\n",
       ") => Bool"
      ]
     },
     "metadata": {},
     "output_type": "display_data"
    }
   ],
   "source": [
    "@code_typed one_of(300, Val((100, 200)), Val(2))"
   ]
  },
  {
   "cell_type": "code",
   "execution_count": 52,
   "metadata": {},
   "outputs": [
    {
     "name": "stdout",
     "output_type": "stream",
     "text": [
      "\t\u001b[0m.text\n",
      "\t\u001b[0m.file\t\u001b[0m\"one_of\"\n",
      "\t\u001b[0m.globl\t\u001b[0mjulia_one_of_2439               \u001b[90m# -- Begin function julia_one_of_2439\u001b[39m\n",
      "\t\u001b[0m.p2align\t\u001b[33m4\u001b[39m\u001b[0m, \u001b[33m0x90\u001b[39m\n",
      "\t\u001b[0m.type\t\u001b[0mjulia_one_of_2439\u001b[0m,\u001b[0m@function\n",
      "\u001b[91mjulia_one_of_2439:\u001b[39m                      \u001b[90m# @julia_one_of_2439\u001b[39m\n",
      "\u001b[90m; ┌ @ /home/roman/devel/Julia/julia-samples/partial-eval/jupyter/julia-pe.ipynb:1 within `one_of`\u001b[39m\n",
      "\t\u001b[0m.cfi_startproc\n",
      "\u001b[90m# %bb.0:                                # %top\u001b[39m\n",
      "\t\u001b[96m\u001b[1mpushq\u001b[22m\u001b[39m\t\u001b[0m%rbp\n",
      "\t\u001b[0m.cfi_def_cfa_offset \u001b[33m16\u001b[39m\n",
      "\t\u001b[0m.cfi_offset \u001b[0m%rbp\u001b[0m, \u001b[33m-16\u001b[39m\n",
      "\t\u001b[96m\u001b[1mmovq\u001b[22m\u001b[39m\t\u001b[0m%rsp\u001b[0m, \u001b[0m%rbp\n",
      "\t\u001b[0m.cfi_def_cfa_register \u001b[0m%rbp\n",
      "\u001b[90m; │ @ /home/roman/devel/Julia/julia-samples/partial-eval/jupyter/julia-pe.ipynb:4 within `one_of`\u001b[39m\n",
      "\u001b[90m; │┌ @ promotion.jl:499 within `==`\u001b[39m\n",
      "\t\u001b[96m\u001b[1mcmpq\u001b[22m\u001b[39m\t\u001b[33m$200\u001b[39m\u001b[0m, \u001b[0m%rdi\n",
      "\t\u001b[96m\u001b[1msete\u001b[22m\u001b[39m\t\u001b[0m%cl\n",
      "\u001b[90m; │└\u001b[39m\n",
      "\t\u001b[96m\u001b[1mcmpq\u001b[22m\u001b[39m\t\u001b[33m$100\u001b[39m\u001b[0m, \u001b[0m%rdi\n",
      "\t\u001b[96m\u001b[1msete\u001b[22m\u001b[39m\t\u001b[0m%al\n",
      "\t\u001b[96m\u001b[1morb\u001b[22m\u001b[39m\t\u001b[0m%cl\u001b[0m, \u001b[0m%al\n",
      "\u001b[90m; │ @ /home/roman/devel/Julia/julia-samples/partial-eval/jupyter/julia-pe.ipynb within `one_of`\u001b[39m\n",
      "\t\u001b[96m\u001b[1mpopq\u001b[22m\u001b[39m\t\u001b[0m%rbp\n",
      "\t\u001b[0m.cfi_def_cfa \u001b[0m%rsp\u001b[0m, \u001b[33m8\u001b[39m\n",
      "\t\u001b[96m\u001b[1mretq\u001b[22m\u001b[39m\n",
      "\u001b[91m.Lfunc_end0:\u001b[39m\n",
      "\t\u001b[0m.size\t\u001b[0mjulia_one_of_2439\u001b[0m, \u001b[0m.Lfunc_end0-julia_one_of_2439\n",
      "\t\u001b[0m.cfi_endproc\n",
      "\u001b[90m; └\u001b[39m\n",
      "                                        \u001b[90m# -- End function\u001b[39m\n",
      "\t\u001b[0m.section\t\u001b[0m\".note.GNU-stack\"\u001b[0m,\u001b[0m\"\"\u001b[0m,\u001b[0m@progbits\n"
     ]
    }
   ],
   "source": [
    "@code_native one_of(300, Val((100, 200)), Val(2))"
   ]
  },
  {
   "cell_type": "markdown",
   "metadata": {},
   "source": [
    "### `StaticNumbers`"
   ]
  },
  {
   "cell_type": "code",
   "execution_count": 53,
   "metadata": {},
   "outputs": [],
   "source": [
    "using StaticNumbers"
   ]
  },
  {
   "cell_type": "code",
   "execution_count": 54,
   "metadata": {},
   "outputs": [
    {
     "data": {
      "text/plain": [
       "2"
      ]
     },
     "metadata": {},
     "output_type": "display_data"
    }
   ],
   "source": [
    "d = 2"
   ]
  },
  {
   "cell_type": "code",
   "execution_count": 55,
   "metadata": {},
   "outputs": [
    {
     "data": {
      "text/plain": [
       "static(2)"
      ]
     },
     "metadata": {},
     "output_type": "display_data"
    }
   ],
   "source": [
    "s = static(2)"
   ]
  },
  {
   "cell_type": "markdown",
   "metadata": {},
   "source": [
    "The macro @stat makes the result of a computation a Static when all arguments are static or literals."
   ]
  },
  {
   "cell_type": "code",
   "execution_count": 56,
   "metadata": {},
   "outputs": [
    {
     "data": {
      "text/plain": [
       "static(4)"
      ]
     },
     "metadata": {},
     "output_type": "display_data"
    }
   ],
   "source": [
    "@stat s + s"
   ]
  },
  {
   "cell_type": "code",
   "execution_count": 57,
   "metadata": {},
   "outputs": [
    {
     "data": {
      "text/plain": [
       "static(4)"
      ]
     },
     "metadata": {},
     "output_type": "display_data"
    }
   ],
   "source": [
    "@stat s + 2"
   ]
  },
  {
   "cell_type": "code",
   "execution_count": 58,
   "metadata": {},
   "outputs": [
    {
     "data": {
      "text/plain": [
       "4"
      ]
     },
     "metadata": {},
     "output_type": "display_data"
    }
   ],
   "source": [
    "@stat s + d"
   ]
  },
  {
   "cell_type": "code",
   "execution_count": 59,
   "metadata": {},
   "outputs": [
    {
     "data": {
      "text/plain": [
       "(1, 4, 9, 16)"
      ]
     },
     "metadata": {},
     "output_type": "display_data"
    }
   ],
   "source": [
    "Tuple(i^2 for i in static(1:4)) # computed at compile time"
   ]
  },
  {
   "cell_type": "code",
   "execution_count": 60,
   "metadata": {},
   "outputs": [
    {
     "data": {
      "text/plain": [
       "CodeInfo(\n",
       "\u001b[90m1 ─\u001b[39m     return (1, 4, 9, 16)\n",
       ") => NTuple{4, Int64}"
      ]
     },
     "metadata": {},
     "output_type": "display_data"
    }
   ],
   "source": [
    "@code_typed Tuple(i^2 for i in static(1:4))"
   ]
  },
  {
   "cell_type": "code",
   "execution_count": 61,
   "metadata": {},
   "outputs": [
    {
     "data": {
      "text/plain": [
       "CodeInfo(\n",
       "\u001b[90m1 ─\u001b[39m %1 = invoke Base.collect(itr::Base.Generator{UnitRange{Int64}, var\"#15#16\"})\u001b[36m::Vector{Int64}\u001b[39m\n",
       "\u001b[90m│  \u001b[39m %2 = Core._apply_iterate(Base.iterate, Core.tuple, %1)\u001b[36m::Tuple{Vararg{Int64}}\u001b[39m\n",
       "\u001b[90m└──\u001b[39m      return %2\n",
       ") => Tuple{Vararg{Int64}}"
      ]
     },
     "metadata": {},
     "output_type": "display_data"
    }
   ],
   "source": [
    "@code_typed Tuple(i^2 for i in 1:4)"
   ]
  },
  {
   "cell_type": "code",
   "execution_count": 62,
   "metadata": {},
   "outputs": [
    {
     "data": {
      "text/plain": [
       "pw_s (generic function with 1 method)"
      ]
     },
     "metadata": {},
     "output_type": "display_data"
    }
   ],
   "source": [
    "pw_s(n, x) = iszero(n) ? one(x) : x * pw_s(static(n - 1), x)"
   ]
  },
  {
   "cell_type": "code",
   "execution_count": 63,
   "metadata": {},
   "outputs": [
    {
     "data": {
      "text/plain": [
       "\"aaa\""
      ]
     },
     "metadata": {},
     "output_type": "display_data"
    }
   ],
   "source": [
    "pw_s(3, \"a\")"
   ]
  },
  {
   "cell_type": "code",
   "execution_count": 64,
   "metadata": {},
   "outputs": [
    {
     "data": {
      "text/plain": [
       "CodeInfo(\n",
       "\u001b[90m1 ──\u001b[39m %1  = (n === 0)\u001b[36m::Bool\u001b[39m\n",
       "\u001b[90m└───\u001b[39m       goto #3 if not %1\n",
       "\u001b[90m2 ──\u001b[39m       return 1\n",
       "\u001b[90m3 ──\u001b[39m %4  = Base.sub_int(n, 1)\u001b[36m::Int64\u001b[39m\n",
       "\u001b[90m│   \u001b[39m %5  = Core.apply_type(StaticNumbers.StaticInteger, %4)\u001b[36m::Type{StaticInteger{_A}} where _A\u001b[39m\n",
       "\u001b[90m│   \u001b[39m %6  = (Core._compute_sparams)(StaticInteger{X}() where X\u001b[90m @\u001b[39m \u001b[90mStaticNumbers\u001b[39m \u001b[90m~/.julia/packages/StaticNumbers/StsSi/src/\u001b[39m\u001b[90m\u001b[4mStaticNumbers.jl:22\u001b[24m\u001b[39m, %5)\u001b[36m::Core.SimpleVector\u001b[39m\n",
       "\u001b[90m│   \u001b[39m %7  = (Core._svec_ref)(false, %6, 1)\u001b[36m::Any\u001b[39m\n",
       "\u001b[90m│   \u001b[39m %8  = (%7 isa StaticNumbers.Integer)\u001b[36m::Bool\u001b[39m\n",
       "\u001b[90m└───\u001b[39m       goto #8 if not %8\n",
       "\u001b[90m4 ──\u001b[39m %10 = (Core._svec_ref)(false, %6, 1)\u001b[36m::Any\u001b[39m\n",
       "\u001b[90m│   \u001b[39m %11 = (%10 isa StaticNumbers.Static)\u001b[36m::Bool\u001b[39m\n",
       "\u001b[90m│   \u001b[39m %12 = Base.not_int(%11)\u001b[36m::Bool\u001b[39m\n",
       "\u001b[90m└───\u001b[39m       goto #6 if not %12\n",
       "\u001b[90m5 ──\u001b[39m %14 = (Core._svec_ref)(false, %6, 1)\u001b[36m::Any\u001b[39m\n",
       "\u001b[90m│   \u001b[39m %15 = Base.typeof(%14)\u001b[36m::DataType\u001b[39m\n",
       "\u001b[90m│   \u001b[39m %16 = Base.getfield(%15, :name)\u001b[36m::Core.TypeName\u001b[39m\n",
       "\u001b[90m│   \u001b[39m %17 = Base.getfield(%16, :flags)\u001b[36m::UInt8\u001b[39m\n",
       "\u001b[90m│   \u001b[39m %18 = Base.and_int(%17, 0x02)\u001b[36m::UInt8\u001b[39m\n",
       "\u001b[90m│   \u001b[39m %19 = (%18 === 0x02)\u001b[36m::Bool\u001b[39m\n",
       "\u001b[90m│   \u001b[39m %20 = Base.not_int(%19)\u001b[36m::Bool\u001b[39m\n",
       "\u001b[90m└───\u001b[39m       goto #7\n",
       "\u001b[90m6 ──\u001b[39m       nothing\u001b[90m::Nothing\u001b[39m\n",
       "\u001b[90m7 ┄─\u001b[39m %23 = φ (#5 => %20, #6 => false)\u001b[36m::Bool\u001b[39m\n",
       "\u001b[90m└───\u001b[39m       goto #9\n",
       "\u001b[90m8 ──\u001b[39m       nothing\u001b[90m::Nothing\u001b[39m\n",
       "\u001b[90m9 ┄─\u001b[39m %26 = φ (#7 => %23, #8 => false)\u001b[36m::Bool\u001b[39m\n",
       "\u001b[90m└───\u001b[39m       goto #11 if not %26\n",
       "\u001b[90m10 ─\u001b[39m %28 = (Core._svec_ref)(false, %6, 1)\u001b[36m::Any\u001b[39m\n",
       "\u001b[90m│   \u001b[39m %29 = Core.apply_type(StaticNumbers.StaticInteger, %28)\u001b[36m::Type{StaticInteger{_A}} where _A\u001b[39m\n",
       "\u001b[90m│   \u001b[39m %30 = %new(%29)\u001b[36m::StaticInteger\u001b[39m\n",
       "\u001b[90m└───\u001b[39m       goto #12\n",
       "\u001b[90m11 ─\u001b[39m       StaticNumbers.throw(StaticNumbers.StaticError)\u001b[90m::Union{}\u001b[39m\n",
       "\u001b[90m└───\u001b[39m       unreachable\n",
       "\u001b[90m12 ─\u001b[39m       goto #13\n",
       "\u001b[90m13 ─\u001b[39m %35 = Main.pw_s(%30, x)\u001b[36m::Int64\u001b[39m\n",
       "\u001b[90m│   \u001b[39m %36 = Base.mul_int(x, %35)\u001b[36m::Int64\u001b[39m\n",
       "\u001b[90m└───\u001b[39m       return %36\n",
       ") => Int64"
      ]
     },
     "metadata": {},
     "output_type": "display_data"
    }
   ],
   "source": [
    "@code_typed pw_s(3, 10)"
   ]
  },
  {
   "cell_type": "code",
   "execution_count": 65,
   "metadata": {},
   "outputs": [
    {
     "data": {
      "text/plain": [
       "CodeInfo(\n",
       "\u001b[90m1 ─\u001b[39m      nothing\u001b[90m::Nothing\u001b[39m\n",
       "\u001b[90m│  \u001b[39m %2 = Base.mul_int(x, 1)\u001b[36m::Int64\u001b[39m\n",
       "\u001b[90m│  \u001b[39m %3 = Base.mul_int(x, %2)\u001b[36m::Int64\u001b[39m\n",
       "\u001b[90m│  \u001b[39m %4 = Base.mul_int(x, %3)\u001b[36m::Int64\u001b[39m\n",
       "\u001b[90m└──\u001b[39m      return %4\n",
       ") => Int64"
      ]
     },
     "metadata": {},
     "output_type": "display_data"
    }
   ],
   "source": [
    "@code_typed pw_s(static(3), 10)"
   ]
  },
  {
   "cell_type": "markdown",
   "metadata": {},
   "source": [
    "### Ackermann"
   ]
  },
  {
   "cell_type": "code",
   "execution_count": 66,
   "metadata": {},
   "outputs": [
    {
     "data": {
      "text/plain": [
       "ackermann (generic function with 1 method)"
      ]
     },
     "metadata": {},
     "output_type": "display_data"
    }
   ],
   "source": [
    "function ackermann(m,n)\n",
    "    if iszero(m)\n",
    "        n + one(n)\n",
    "    elseif iszero(n)\n",
    "        ackermann(@stat(m - one(m)), one(n))\n",
    "    else\n",
    "        ackermann(@stat(m - one(m)), ackermann(m, n - one(n)))\n",
    "    end\n",
    "end"
   ]
  },
  {
   "cell_type": "code",
   "execution_count": 67,
   "metadata": {},
   "outputs": [],
   "source": [
    "using BenchmarkTools"
   ]
  },
  {
   "cell_type": "code",
   "execution_count": 68,
   "metadata": {},
   "outputs": [
    {
     "name": "stdout",
     "output_type": "stream",
     "text": [
      "  14.077 s (0 allocations: 0 bytes)\n"
     ]
    },
    {
     "data": {
      "text/plain": [
       "65533"
      ]
     },
     "metadata": {},
     "output_type": "display_data"
    }
   ],
   "source": [
    "@btime ackermann(4, 1)"
   ]
  },
  {
   "cell_type": "code",
   "execution_count": 69,
   "metadata": {},
   "outputs": [
    {
     "name": "stdout",
     "output_type": "stream",
     "text": [
      "  2.068 s (0 allocations: 0 bytes)\n"
     ]
    },
    {
     "data": {
      "text/plain": [
       "65533"
      ]
     },
     "metadata": {},
     "output_type": "display_data"
    }
   ],
   "source": [
    "@btime ackermann(static(4), 1)"
   ]
  }
 ],
 "metadata": {
  "kernelspec": {
   "display_name": "Julia 1.11.3",
   "language": "julia",
   "name": "julia-1.11"
  },
  "language_info": {
   "file_extension": ".jl",
   "mimetype": "application/julia",
   "name": "julia",
   "version": "1.11.3"
  }
 },
 "nbformat": 4,
 "nbformat_minor": 2
}
