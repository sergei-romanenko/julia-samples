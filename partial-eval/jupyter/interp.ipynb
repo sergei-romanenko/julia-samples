{
 "cells": [
  {
   "cell_type": "code",
   "execution_count": 1,
   "metadata": {},
   "outputs": [],
   "source": [
    "abstract type Instr end"
   ]
  },
  {
   "cell_type": "code",
   "execution_count": 2,
   "metadata": {},
   "outputs": [
    {
     "data": {
      "text/plain": [
       "run! (generic function with 1 method)"
      ]
     },
     "metadata": {},
     "output_type": "display_data"
    }
   ],
   "source": [
    "function run!(instr::Instr, s::Vector)::Vector end"
   ]
  },
  {
   "cell_type": "code",
   "execution_count": 3,
   "metadata": {},
   "outputs": [],
   "source": [
    "struct Seq <: Instr\n",
    "    instr1::Instr\n",
    "    instr2::Instr\n",
    "end"
   ]
  },
  {
   "cell_type": "code",
   "execution_count": 4,
   "metadata": {},
   "outputs": [
    {
     "data": {
      "text/plain": [
       "run! (generic function with 2 methods)"
      ]
     },
     "metadata": {},
     "output_type": "display_data"
    }
   ],
   "source": [
    "function run!(i::Seq, s::Vector)\n",
    "    run!(i.instr1, s)\n",
    "    run!(i.instr2, s)\n",
    "end"
   ]
  },
  {
   "cell_type": "code",
   "execution_count": 5,
   "metadata": {},
   "outputs": [],
   "source": [
    "struct Push{T} <: Instr\n",
    "    val::T\n",
    "end"
   ]
  },
  {
   "cell_type": "code",
   "execution_count": 6,
   "metadata": {},
   "outputs": [
    {
     "data": {
      "text/plain": [
       "run! (generic function with 3 methods)"
      ]
     },
     "metadata": {},
     "output_type": "display_data"
    }
   ],
   "source": [
    "function run!(i::Push{T}, s::Vector) where {T}\n",
    "    push!(s, i.val)\n",
    "end"
   ]
  },
  {
   "cell_type": "code",
   "execution_count": 7,
   "metadata": {},
   "outputs": [],
   "source": [
    "struct Add <: Instr end"
   ]
  },
  {
   "cell_type": "code",
   "execution_count": 8,
   "metadata": {},
   "outputs": [
    {
     "data": {
      "text/plain": [
       "run! (generic function with 4 methods)"
      ]
     },
     "metadata": {},
     "output_type": "display_data"
    }
   ],
   "source": [
    "function run!(::Add, s::Vector)\n",
    "    x1 = pop!(s)\n",
    "    x2 = pop!(s)\n",
    "    push!(s, x2 + x1)\n",
    "end"
   ]
  },
  {
   "cell_type": "code",
   "execution_count": 9,
   "metadata": {},
   "outputs": [
    {
     "data": {
      "text/plain": [
       "1-element Vector{Int64}:\n",
       " 30"
      ]
     },
     "metadata": {},
     "output_type": "display_data"
    }
   ],
   "source": [
    "run!(Add(), Int[10, 20])"
   ]
  },
  {
   "cell_type": "code",
   "execution_count": 10,
   "metadata": {},
   "outputs": [
    {
     "data": {
      "text/plain": [
       "2-element Vector{Int64}:\n",
       " 10\n",
       " 20"
      ]
     },
     "metadata": {},
     "output_type": "display_data"
    }
   ],
   "source": [
    "run!(Push(20), Int[10])"
   ]
  },
  {
   "cell_type": "code",
   "execution_count": 11,
   "metadata": {},
   "outputs": [
    {
     "data": {
      "text/plain": [
       "2-element Vector{Int64}:\n",
       " 10\n",
       " 20"
      ]
     },
     "metadata": {},
     "output_type": "display_data"
    }
   ],
   "source": [
    "run!(Seq(Push(10), Push(20)), Int[])"
   ]
  },
  {
   "cell_type": "code",
   "execution_count": 12,
   "metadata": {},
   "outputs": [
    {
     "data": {
      "text/plain": [
       "run! (generic function with 5 methods)"
      ]
     },
     "metadata": {},
     "output_type": "display_data"
    }
   ],
   "source": [
    "function run!(iseq::Vector{<:Instr}, s::Array)\n",
    "    for i in iseq\n",
    "        run!(i, s)\n",
    "    end\n",
    "    s\n",
    "end"
   ]
  },
  {
   "cell_type": "code",
   "execution_count": 13,
   "metadata": {},
   "outputs": [
    {
     "data": {
      "text/plain": [
       "1-element Vector{Int64}:\n",
       " 30"
      ]
     },
     "metadata": {},
     "output_type": "display_data"
    }
   ],
   "source": [
    "run!(Instr[Push(10), Push(20), Add()], Int[])"
   ]
  },
  {
   "cell_type": "code",
   "execution_count": 14,
   "metadata": {},
   "outputs": [],
   "source": [
    "struct Op2 <: Instr\n",
    "    f::Function\n",
    "end"
   ]
  },
  {
   "cell_type": "code",
   "execution_count": 15,
   "metadata": {},
   "outputs": [
    {
     "data": {
      "text/plain": [
       "run! (generic function with 6 methods)"
      ]
     },
     "metadata": {},
     "output_type": "display_data"
    }
   ],
   "source": [
    "function run!(op2::Op2, s::Vector)\n",
    "    x1 = pop!(s)\n",
    "    x2 = pop!(s)\n",
    "    push!(s, op2.f(x2, x1))\n",
    "end"
   ]
  },
  {
   "cell_type": "code",
   "execution_count": 16,
   "metadata": {},
   "outputs": [
    {
     "data": {
      "text/plain": [
       "1-element Vector{String}:\n",
       " \"AaBb\""
      ]
     },
     "metadata": {},
     "output_type": "display_data"
    }
   ],
   "source": [
    "run!(Instr[Push(\"Aa\"), Push(\"Bb\"), Op2((*))], String[])"
   ]
  },
  {
   "cell_type": "code",
   "execution_count": 17,
   "metadata": {},
   "outputs": [
    {
     "data": {
      "text/plain": [
       "1-element Vector{Int64}:\n",
       " 30"
      ]
     },
     "metadata": {},
     "output_type": "display_data"
    }
   ],
   "source": [
    "run!(Seq(Push(10), Seq(Push(20), Op2((+)))), Int[])"
   ]
  },
  {
   "cell_type": "code",
   "execution_count": 18,
   "metadata": {},
   "outputs": [
    {
     "data": {
      "text/plain": [
       "CodeInfo(\n",
       "\u001b[90m1 ──\u001b[39m %1  = Base.bitcast(UInt64, 1)\u001b[36m::UInt64\u001b[39m\n",
       "\u001b[90m│   \u001b[39m %2  = Base.sub_int(%1, 0x0000000000000001)\u001b[36m::UInt64\u001b[39m\n",
       "\u001b[90m│   \u001b[39m %3  = Base.arraylen(iseq)\u001b[36m::Int64\u001b[39m\n",
       "\u001b[90m│   \u001b[39m %4  = Base.sle_int(0, %3)\u001b[36m::Bool\u001b[39m\n",
       "\u001b[90m│   \u001b[39m %5  = Base.bitcast(UInt64, %3)\u001b[36m::UInt64\u001b[39m\n",
       "\u001b[90m│   \u001b[39m %6  = Base.ult_int(%2, %5)\u001b[36m::Bool\u001b[39m\n",
       "\u001b[90m│   \u001b[39m %7  = Base.and_int(%4, %6)\u001b[36m::Bool\u001b[39m\n",
       "\u001b[90m└───\u001b[39m       goto #3 if not %7\n",
       "\u001b[90m2 ──\u001b[39m %9  = Base.arrayref(false, iseq, 1)\u001b[36m::Instr\u001b[39m\n",
       "\u001b[90m│   \u001b[39m %10 = Base.add_int(1, 1)\u001b[36m::Int64\u001b[39m\n",
       "\u001b[90m└───\u001b[39m       goto #4\n",
       "\u001b[90m3 ──\u001b[39m       goto #4\n",
       "\u001b[90m4 ┄─\u001b[39m %13 = φ (#2 => false, #3 => true)\u001b[36m::Bool\u001b[39m\n",
       "\u001b[90m│   \u001b[39m %14 = φ (#2 => %9)\u001b[36m::Instr\u001b[39m\n",
       "\u001b[90m│   \u001b[39m %15 = φ (#2 => %10)\u001b[36m::Int64\u001b[39m\n",
       "\u001b[90m└───\u001b[39m       goto #5\n",
       "\u001b[90m5 ──\u001b[39m %17 = Base.not_int(%13)\u001b[36m::Bool\u001b[39m\n",
       "\u001b[90m└───\u001b[39m       goto #11 if not %17\n",
       "\u001b[90m6 ┄─\u001b[39m %19 = φ (#5 => %14, #10 => %34)\u001b[36m::Instr\u001b[39m\n",
       "\u001b[90m│   \u001b[39m %20 = φ (#5 => %15, #10 => %35)\u001b[36m::Int64\u001b[39m\n",
       "\u001b[90m│   \u001b[39m       Main.run!(%19, s)\u001b[90m::Any\u001b[39m\n",
       "\u001b[90m│   \u001b[39m %22 = Base.bitcast(UInt64, %20)\u001b[36m::UInt64\u001b[39m\n",
       "\u001b[90m│   \u001b[39m %23 = Base.sub_int(%22, 0x0000000000000001)\u001b[36m::UInt64\u001b[39m\n",
       "\u001b[90m│   \u001b[39m %24 = Base.arraylen(iseq)\u001b[36m::Int64\u001b[39m\n",
       "\u001b[90m│   \u001b[39m %25 = Base.sle_int(0, %24)\u001b[36m::Bool\u001b[39m\n",
       "\u001b[90m│   \u001b[39m %26 = Base.bitcast(UInt64, %24)\u001b[36m::UInt64\u001b[39m\n",
       "\u001b[90m│   \u001b[39m %27 = Base.ult_int(%23, %26)\u001b[36m::Bool\u001b[39m\n",
       "\u001b[90m│   \u001b[39m %28 = Base.and_int(%25, %27)\u001b[36m::Bool\u001b[39m\n",
       "\u001b[90m└───\u001b[39m       goto #8 if not %28\n",
       "\u001b[90m7 ──\u001b[39m %30 = Base.arrayref(false, iseq, %20)\u001b[36m::Instr\u001b[39m\n",
       "\u001b[90m│   \u001b[39m %31 = Base.add_int(%20, 1)\u001b[36m::Int64\u001b[39m\n",
       "\u001b[90m└───\u001b[39m       goto #9\n",
       "\u001b[90m8 ──\u001b[39m       goto #9\n",
       "\u001b[90m9 ┄─\u001b[39m %34 = φ (#7 => %30)\u001b[36m::Instr\u001b[39m\n",
       "\u001b[90m│   \u001b[39m %35 = φ (#7 => %31)\u001b[36m::Int64\u001b[39m\n",
       "\u001b[90m│   \u001b[39m %36 = φ (#7 => false, #8 => true)\u001b[36m::Bool\u001b[39m\n",
       "\u001b[90m│   \u001b[39m %37 = Base.not_int(%36)\u001b[36m::Bool\u001b[39m\n",
       "\u001b[90m└───\u001b[39m       goto #11 if not %37\n",
       "\u001b[90m10 ─\u001b[39m       goto #6\n",
       "\u001b[90m11 ┄\u001b[39m       return s\n",
       ") => Vector{Int64}"
      ]
     },
     "metadata": {},
     "output_type": "display_data"
    }
   ],
   "source": [
    "@code_typed run!(Instr[Push(10), Push(20), Add()], Int[])"
   ]
  }
 ],
 "metadata": {
  "kernelspec": {
   "display_name": "Julia 1.8.1",
   "language": "julia",
   "name": "julia-1.8"
  },
  "language_info": {
   "file_extension": ".jl",
   "mimetype": "application/julia",
   "name": "julia",
   "version": "1.8.1"
  },
  "orig_nbformat": 4
 },
 "nbformat": 4,
 "nbformat_minor": 2
}
