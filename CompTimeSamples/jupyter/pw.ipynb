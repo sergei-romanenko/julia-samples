{
 "cells": [
  {
   "cell_type": "code",
   "execution_count": 1,
   "metadata": {},
   "outputs": [],
   "source": [
    "using CompTime, InteractiveUtils"
   ]
  },
  {
   "cell_type": "code",
   "execution_count": 2,
   "metadata": {},
   "outputs": [
    {
     "data": {
      "text/plain": [
       "pw_rec (generic function with 1 method)"
      ]
     },
     "metadata": {},
     "output_type": "display_data"
    }
   ],
   "source": [
    "function pw_rec(n, x)\n",
    "    if iszero(n)\n",
    "        one(x)\n",
    "    else\n",
    "        x * pw_rec(n - 1, x)\n",
    "    end\n",
    "end"
   ]
  },
  {
   "cell_type": "code",
   "execution_count": 3,
   "metadata": {},
   "outputs": [
    {
     "data": {
      "text/plain": [
       "\"AbcAbcAbc\""
      ]
     },
     "metadata": {},
     "output_type": "display_data"
    }
   ],
   "source": [
    "pw_rec(3, \"Abc\")"
   ]
  },
  {
   "cell_type": "code",
   "execution_count": 4,
   "metadata": {},
   "outputs": [
    {
     "data": {
      "text/plain": [
       "pw_loop (generic function with 1 method)"
      ]
     },
     "metadata": {},
     "output_type": "display_data"
    }
   ],
   "source": [
    "function pw_loop(n, x)\n",
    "    r = one(x)\n",
    "    for i in 1:n\n",
    "        r = r * x\n",
    "    end\n",
    "    return r\n",
    "end"
   ]
  },
  {
   "cell_type": "code",
   "execution_count": 5,
   "metadata": {},
   "outputs": [
    {
     "data": {
      "text/plain": [
       "\"AbcAbcAbc\""
      ]
     },
     "metadata": {},
     "output_type": "display_data"
    }
   ],
   "source": [
    "pw_loop(3, \"Abc\")"
   ]
  },
  {
   "cell_type": "code",
   "execution_count": 6,
   "metadata": {},
   "outputs": [
    {
     "data": {
      "text/plain": [
       "runtime (generic function with 1 method)"
      ]
     },
     "metadata": {},
     "output_type": "display_data"
    }
   ],
   "source": [
    "@ct_enable function pw_ct(@ct(n), x)\n",
    "    r = one(x)\n",
    "    @ct_ctrl for i in 1:n\n",
    "        r = r * x\n",
    "    end\n",
    "    return r\n",
    "end"
   ]
  },
  {
   "cell_type": "code",
   "execution_count": 7,
   "metadata": {},
   "outputs": [
    {
     "data": {
      "text/plain": [
       "pw_ct (generic function with 2 methods)"
      ]
     },
     "metadata": {},
     "output_type": "display_data"
    }
   ],
   "source": [
    "pw_ct(n, x) = pw_ct(Val{n}, x)"
   ]
  },
  {
   "cell_type": "code",
   "execution_count": 8,
   "metadata": {},
   "outputs": [
    {
     "data": {
      "text/plain": [
       "\"AbcAbcAbc\""
      ]
     },
     "metadata": {},
     "output_type": "display_data"
    }
   ],
   "source": [
    "pw_ct(3, \"Abc\")"
   ]
  },
  {
   "cell_type": "code",
   "execution_count": 9,
   "metadata": {},
   "outputs": [
    {
     "data": {
      "text/plain": [
       "\"AbcAbcAbc\""
      ]
     },
     "metadata": {},
     "output_type": "display_data"
    }
   ],
   "source": [
    "runtime(pw_ct, 3, \"Abc\")"
   ]
  },
  {
   "cell_type": "code",
   "execution_count": 10,
   "metadata": {},
   "outputs": [
    {
     "data": {
      "text/plain": [
       "\"AbcAbcAbc\""
      ]
     },
     "metadata": {},
     "output_type": "display_data"
    }
   ],
   "source": [
    "comptime(pw_ct, Val{3}, \"Abc\")"
   ]
  },
  {
   "cell_type": "code",
   "execution_count": 19,
   "metadata": {},
   "outputs": [
    {
     "data": {
      "text/plain": [
       "CodeInfo(\n",
       "\u001b[90m1 ─\u001b[39m %1 = Base.mul_int(1, x)\u001b[36m::Int64\u001b[39m\n",
       "\u001b[90m│  \u001b[39m %2 = Base.mul_int(%1, x)\u001b[36m::Int64\u001b[39m\n",
       "\u001b[90m│  \u001b[39m %3 = Base.mul_int(%2, x)\u001b[36m::Int64\u001b[39m\n",
       "\u001b[90m└──\u001b[39m      return %3\n",
       ") => Int64"
      ]
     },
     "metadata": {},
     "output_type": "display_data"
    }
   ],
   "source": [
    "@code_typed pw_ct(Val{3}, 10)"
   ]
  },
  {
   "cell_type": "code",
   "execution_count": 14,
   "metadata": {},
   "outputs": [
    {
     "data": {
      "text/plain": [
       "CodeInfo(\n",
       "\u001b[90m1 ─\u001b[39m       r = Main.one(x)\n",
       "\u001b[90m│  \u001b[39m %2  = 1:n\n",
       "\u001b[90m│  \u001b[39m       @_5 = Base.iterate(%2)\n",
       "\u001b[90m│  \u001b[39m %4  = @_5 === nothing\n",
       "\u001b[90m│  \u001b[39m %5  = Base.not_int(%4)\n",
       "\u001b[90m└──\u001b[39m       goto #4 if not %5\n",
       "\u001b[90m2 ┄\u001b[39m %7  = @_5\n",
       "\u001b[90m│  \u001b[39m       i = Core.getfield(%7, 1)\n",
       "\u001b[90m│  \u001b[39m %9  = Core.getfield(%7, 2)\n",
       "\u001b[90m│  \u001b[39m       r = r * x\n",
       "\u001b[90m│  \u001b[39m       @_5 = Base.iterate(%2, %9)\n",
       "\u001b[90m│  \u001b[39m %12 = @_5 === nothing\n",
       "\u001b[90m│  \u001b[39m %13 = Base.not_int(%12)\n",
       "\u001b[90m└──\u001b[39m       goto #4 if not %13\n",
       "\u001b[90m3 ─\u001b[39m       goto #2\n",
       "\u001b[90m4 ┄\u001b[39m       return r\n",
       ")"
      ]
     },
     "metadata": {},
     "output_type": "display_data"
    }
   ],
   "source": [
    "@code_lowered runtime(pw_ct, 3, 10)"
   ]
  },
  {
   "cell_type": "code",
   "execution_count": 15,
   "metadata": {},
   "outputs": [
    {
     "data": {
      "text/plain": [
       "quote\n",
       "    r = one(x)\n",
       "    begin\n",
       "        begin\n",
       "            r = r * x\n",
       "        end\n",
       "        begin\n",
       "            r = r * x\n",
       "        end\n",
       "        begin\n",
       "            r = r * x\n",
       "        end\n",
       "    end\n",
       "    return r\n",
       "end"
      ]
     },
     "metadata": {},
     "output_type": "display_data"
    }
   ],
   "source": [
    "debug(pw_ct, Val{3}, 10) |> Base.remove_linenums!"
   ]
  }
 ],
 "metadata": {
  "kernelspec": {
   "display_name": "Julia 1.10.0",
   "language": "julia",
   "name": "julia-1.10"
  },
  "language_info": {
   "file_extension": ".jl",
   "mimetype": "application/julia",
   "name": "julia",
   "version": "1.10.0"
  }
 },
 "nbformat": 4,
 "nbformat_minor": 2
}
