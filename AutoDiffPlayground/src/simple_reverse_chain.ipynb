{
 "cells": [
  {
   "cell_type": "markdown",
   "metadata": {},
   "source": [
    "# Simple reverse autodiff computational chain\n",
    "\n",
    "- [Simple reverse-mode Autodiff in Julia - Computational Chain - YouTube](https://www.youtube.com/watch?v=ARBf1R0jm_M)\n",
    "- <https://github.com/Ceyron/machine-learning-and-simulation/blob/main/english/adjoints_sensitivities_automatic_differentiation/simple_reverse_autodiff_computational_chain.jl>"
   ]
  },
  {
   "cell_type": "code",
   "execution_count": 1,
   "metadata": {},
   "outputs": [
    {
     "data": {
      "text/plain": [
       "2.2013533791690376"
      ]
     },
     "metadata": {},
     "output_type": "display_data"
    }
   ],
   "source": [
    "f(x) = exp(sin(sin(x)))\n",
    "\n",
    "f(2.0)"
   ]
  },
  {
   "cell_type": "code",
   "execution_count": 2,
   "metadata": {},
   "outputs": [
    {
     "data": {
      "text/plain": [
       "-0.562752038662712"
      ]
     },
     "metadata": {},
     "output_type": "display_data"
    }
   ],
   "source": [
    "\n",
    "∇f(x) = exp(sin(sin(x))) * cos(sin(x)) * cos(x)\n",
    "\n",
    "∇f(2.0)"
   ]
  },
  {
   "cell_type": "code",
   "execution_count": 3,
   "metadata": {},
   "outputs": [
    {
     "data": {
      "text/plain": [
       "-0.5627520671680486"
      ]
     },
     "metadata": {},
     "output_type": "display_data"
    }
   ],
   "source": [
    "\n",
    "(f(2.0 + 1e-8) - f(2.0)) / 1e-8"
   ]
  },
  {
   "cell_type": "code",
   "execution_count": 4,
   "metadata": {},
   "outputs": [
    {
     "data": {
      "text/plain": [
       "backprop_rule (generic function with 1 method)"
      ]
     },
     "metadata": {},
     "output_type": "display_data"
    }
   ],
   "source": [
    "function backprop_rule(::typeof(sin), x)\n",
    "    return sin(x), ∇x -> cos(x) * ∇x\n",
    "end"
   ]
  },
  {
   "cell_type": "code",
   "execution_count": 5,
   "metadata": {},
   "outputs": [
    {
     "data": {
      "text/plain": [
       "backprop_rule (generic function with 2 methods)"
      ]
     },
     "metadata": {},
     "output_type": "display_data"
    }
   ],
   "source": [
    "\n",
    "function backprop_rule(::typeof(exp), x)\n",
    "    y = exp(x)\n",
    "    return y, ∇x -> y * ∇x\n",
    "end"
   ]
  },
  {
   "cell_type": "code",
   "execution_count": 6,
   "metadata": {},
   "outputs": [
    {
     "data": {
      "text/plain": [
       "vjp (generic function with 1 method)"
      ]
     },
     "metadata": {},
     "output_type": "display_data"
    }
   ],
   "source": [
    "# vjp = Vector Jacobian product\n",
    "\n",
    "function vjp(chain, value)\n",
    "    stack = []\n",
    "\n",
    "    # Primal Pass\n",
    "    for operation in chain\n",
    "        value, pullback = backprop_rule(operation, value)\n",
    "        push!(stack, pullback)\n",
    "    end\n",
    "\n",
    "    function pullback(cotangent)\n",
    "        for back in reverse(stack)\n",
    "            cotangent = back(cotangent)\n",
    "        end\n",
    "        return cotangent\n",
    "    end\n",
    "\n",
    "    return value, pullback\n",
    "end"
   ]
  },
  {
   "cell_type": "code",
   "execution_count": 7,
   "metadata": {},
   "outputs": [
    {
     "data": {
      "text/plain": [
       "(2.2013533791690376, var\"#pullback#13\"{Vector{Any}}(Any[var\"#9#10\"{Float64}(2.0), var\"#9#10\"{Float64}(0.9092974268256817), var\"#11#12\"{Float64}(2.2013533791690376)]))"
      ]
     },
     "metadata": {},
     "output_type": "display_data"
    }
   ],
   "source": [
    "out, back = vjp([sin, sin, exp], 2.0)"
   ]
  },
  {
   "cell_type": "code",
   "execution_count": 8,
   "metadata": {},
   "outputs": [
    {
     "data": {
      "text/plain": [
       "-0.562752038662712"
      ]
     },
     "metadata": {},
     "output_type": "display_data"
    }
   ],
   "source": [
    "back(1.0)"
   ]
  },
  {
   "cell_type": "code",
   "execution_count": 9,
   "metadata": {},
   "outputs": [
    {
     "data": {
      "text/plain": [
       "val_and_grad (generic function with 1 method)"
      ]
     },
     "metadata": {},
     "output_type": "display_data"
    }
   ],
   "source": [
    "function val_and_grad(chain, x)\n",
    "    y, pullback = vjp(chain, x)\n",
    "    derivative = pullback(1.0)\n",
    "    return y, derivative\n",
    "end"
   ]
  },
  {
   "cell_type": "code",
   "execution_count": 10,
   "metadata": {},
   "outputs": [
    {
     "data": {
      "text/plain": [
       "(2.2013533791690376, -0.562752038662712)"
      ]
     },
     "metadata": {},
     "output_type": "display_data"
    }
   ],
   "source": [
    "val_and_grad([sin, sin, exp], 2.0)"
   ]
  },
  {
   "cell_type": "code",
   "execution_count": 11,
   "metadata": {},
   "outputs": [
    {
     "data": {
      "text/plain": [
       "(2.2013533791690376, -0.562752038662712)"
      ]
     },
     "metadata": {},
     "output_type": "display_data"
    }
   ],
   "source": [
    "f(2.0), ∇f(2.0)"
   ]
  }
 ],
 "metadata": {
  "kernelspec": {
   "display_name": "Julia 1.11.3",
   "language": "julia",
   "name": "julia-1.11"
  },
  "language_info": {
   "file_extension": ".jl",
   "mimetype": "application/julia",
   "name": "julia",
   "version": "1.11.3"
  }
 },
 "nbformat": 4,
 "nbformat_minor": 2
}
