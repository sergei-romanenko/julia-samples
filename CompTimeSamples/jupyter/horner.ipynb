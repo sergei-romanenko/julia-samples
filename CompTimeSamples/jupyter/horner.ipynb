{
 "cells": [
  {
   "cell_type": "code",
   "execution_count": 1,
   "metadata": {},
   "outputs": [],
   "source": [
    "using CompTime, InteractiveUtils"
   ]
  },
  {
   "cell_type": "markdown",
   "metadata": {},
   "source": [
    "Polynomial:\n",
    "\n",
    "$p(x) = a_1 + a_2 x + \\cdots + a_n x^{n-1}$\n"
   ]
  },
  {
   "cell_type": "markdown",
   "metadata": {},
   "source": [
    "Horner's method:\n",
    "\n",
    "$p(x) = (((a_n x  + a_{n-1}) x + a_{n-2}) x + \\cdots + a_{2})x + a_{1}$\n"
   ]
  },
  {
   "cell_type": "code",
   "execution_count": 2,
   "metadata": {},
   "outputs": [
    {
     "data": {
      "text/plain": [
       "horner (generic function with 1 method)"
      ]
     },
     "metadata": {},
     "output_type": "display_data"
    }
   ],
   "source": [
    "\"\"\"\n",
    "Evaluate a polynomial whose coefficients are given in ascending\n",
    "order in `c`, at the point `x`, using Horner's rule.\n",
    "\"\"\"\n",
    "\n",
    "function horner(a, x)\n",
    "    n = length(a)\n",
    "    y = a[n]\n",
    "\n",
    "    for k in n-1:-1:1\n",
    "        y = x * y + a[k]\n",
    "    end\n",
    "\n",
    "    return y\n",
    "end"
   ]
  },
  {
   "cell_type": "code",
   "execution_count": 3,
   "metadata": {},
   "outputs": [
    {
     "data": {
      "text/plain": [
       "4-element Vector{Int64}:\n",
       " -1\n",
       "  3\n",
       " -3\n",
       "  1"
      ]
     },
     "metadata": {},
     "output_type": "display_data"
    }
   ],
   "source": [
    "a = [-1, 3, -3, 1]"
   ]
  },
  {
   "cell_type": "code",
   "execution_count": 4,
   "metadata": {},
   "outputs": [
    {
     "data": {
      "text/plain": [
       "729"
      ]
     },
     "metadata": {},
     "output_type": "display_data"
    }
   ],
   "source": [
    "horner(a, 10)"
   ]
  },
  {
   "cell_type": "code",
   "execution_count": 5,
   "metadata": {},
   "outputs": [
    {
     "data": {
      "text/plain": [
       "CodeInfo(\n",
       "\u001b[90m1 ─\u001b[39m       n = Main.length(a)\n",
       "\u001b[90m│  \u001b[39m       y = Base.getindex(a, n)\n",
       "\u001b[90m│  \u001b[39m %3  = n - 1\n",
       "\u001b[90m│  \u001b[39m %4  = %3:-1:1\n",
       "\u001b[90m│  \u001b[39m       @_4 = Base.iterate(%4)\n",
       "\u001b[90m│  \u001b[39m %6  = @_4 === nothing\n",
       "\u001b[90m│  \u001b[39m %7  = Base.not_int(%6)\n",
       "\u001b[90m└──\u001b[39m       goto #4 if not %7\n",
       "\u001b[90m2 ┄\u001b[39m %9  = @_4\n",
       "\u001b[90m│  \u001b[39m       k = Core.getfield(%9, 1)\n",
       "\u001b[90m│  \u001b[39m %11 = Core.getfield(%9, 2)\n",
       "\u001b[90m│  \u001b[39m %12 = x * y\n",
       "\u001b[90m│  \u001b[39m %13 = Base.getindex(a, k)\n",
       "\u001b[90m│  \u001b[39m       y = %12 + %13\n",
       "\u001b[90m│  \u001b[39m       @_4 = Base.iterate(%4, %11)\n",
       "\u001b[90m│  \u001b[39m %16 = @_4 === nothing\n",
       "\u001b[90m│  \u001b[39m %17 = Base.not_int(%16)\n",
       "\u001b[90m└──\u001b[39m       goto #4 if not %17\n",
       "\u001b[90m3 ─\u001b[39m       goto #2\n",
       "\u001b[90m4 ┄\u001b[39m       return y\n",
       ")"
      ]
     },
     "metadata": {},
     "output_type": "display_data"
    }
   ],
   "source": [
    "@code_lowered horner(a, 10)"
   ]
  },
  {
   "cell_type": "code",
   "execution_count": 6,
   "metadata": {},
   "outputs": [
    {
     "data": {
      "text/plain": [
       "horner_tuple (generic function with 1 method)"
      ]
     },
     "metadata": {},
     "output_type": "display_data"
    }
   ],
   "source": [
    "function horner_tuple(c::NTuple{N,T}, x::T) where {N,T}\n",
    "    y = c[N]\n",
    "\n",
    "    for k in N-1:-1:1\n",
    "        y = x * y + c[k]\n",
    "    end\n",
    "\n",
    "    return y\n",
    "end"
   ]
  },
  {
   "cell_type": "code",
   "execution_count": 7,
   "metadata": {},
   "outputs": [
    {
     "data": {
      "text/plain": [
       "(-1, 3, -3, 1)"
      ]
     },
     "metadata": {},
     "output_type": "display_data"
    }
   ],
   "source": [
    "t = (-1, 3, -3, 1)"
   ]
  },
  {
   "cell_type": "code",
   "execution_count": 8,
   "metadata": {},
   "outputs": [
    {
     "data": {
      "text/plain": [
       "729"
      ]
     },
     "metadata": {},
     "output_type": "display_data"
    }
   ],
   "source": [
    "horner_tuple(t, 10)"
   ]
  },
  {
   "cell_type": "code",
   "execution_count": 9,
   "metadata": {},
   "outputs": [
    {
     "data": {
      "text/plain": [
       "CodeInfo(\n",
       "\u001b[90m1 ─\u001b[39m       y = Base.getindex(c, $(Expr(:static_parameter, 1)))\n",
       "\u001b[90m│  \u001b[39m %2  = $(Expr(:static_parameter, 1)) - 1\n",
       "\u001b[90m│  \u001b[39m %3  = %2:-1:1\n",
       "\u001b[90m│  \u001b[39m       @_4 = Base.iterate(%3)\n",
       "\u001b[90m│  \u001b[39m %5  = @_4 === nothing\n",
       "\u001b[90m│  \u001b[39m %6  = Base.not_int(%5)\n",
       "\u001b[90m└──\u001b[39m       goto #4 if not %6\n",
       "\u001b[90m2 ┄\u001b[39m %8  = @_4\n",
       "\u001b[90m│  \u001b[39m       k = Core.getfield(%8, 1)\n",
       "\u001b[90m│  \u001b[39m %10 = Core.getfield(%8, 2)\n",
       "\u001b[90m│  \u001b[39m %11 = x * y\n",
       "\u001b[90m│  \u001b[39m %12 = Base.getindex(c, k)\n",
       "\u001b[90m│  \u001b[39m       y = %11 + %12\n",
       "\u001b[90m│  \u001b[39m       @_4 = Base.iterate(%3, %10)\n",
       "\u001b[90m│  \u001b[39m %15 = @_4 === nothing\n",
       "\u001b[90m│  \u001b[39m %16 = Base.not_int(%15)\n",
       "\u001b[90m└──\u001b[39m       goto #4 if not %16\n",
       "\u001b[90m3 ─\u001b[39m       goto #2\n",
       "\u001b[90m4 ┄\u001b[39m       return y\n",
       ")"
      ]
     },
     "metadata": {},
     "output_type": "display_data"
    }
   ],
   "source": [
    "@code_lowered horner_tuple(t, 10)"
   ]
  },
  {
   "cell_type": "code",
   "execution_count": 10,
   "metadata": {},
   "outputs": [
    {
     "data": {
      "text/plain": [
       "horner_gen (generic function with 1 method)"
      ]
     },
     "metadata": {},
     "output_type": "display_data"
    }
   ],
   "source": [
    "@generated function horner_gen(c::NTuple{N,T}, x::T) where {N,T}\n",
    "    y = :(c[$N])\n",
    "\n",
    "    for k in N-1:-1:1\n",
    "        y = :(x * $y + c[$k])\n",
    "    end\n",
    "\n",
    "    return y\n",
    "end"
   ]
  },
  {
   "cell_type": "code",
   "execution_count": 11,
   "metadata": {},
   "outputs": [
    {
     "data": {
      "text/plain": [
       "729"
      ]
     },
     "metadata": {},
     "output_type": "display_data"
    }
   ],
   "source": [
    "horner_gen(t, 10)"
   ]
  },
  {
   "cell_type": "code",
   "execution_count": 12,
   "metadata": {},
   "outputs": [
    {
     "data": {
      "text/plain": [
       "CodeInfo(\n",
       "   \u001b[33m @ /home/roman/devel/Julia/julia-samples/CompTimeSamples/jupyter/horner.ipynb:1 within `horner_gen`\u001b[39m\n",
       "   \u001b[33m┌ @ /home/roman/devel/Julia/julia-samples/CompTimeSamples/jupyter/horner.ipynb within `macro expansion`\u001b[39m\n",
       "\u001b[90m1 ─\u001b[39m\u001b[33m│\u001b[39m %1  = Base.getindex(c, 4)\n",
       "\u001b[90m│  \u001b[39m\u001b[33m│\u001b[39m %2  = x * %1\n",
       "\u001b[90m│  \u001b[39m\u001b[33m│\u001b[39m %3  = Base.getindex(c, 3)\n",
       "\u001b[90m│  \u001b[39m\u001b[33m│\u001b[39m %4  = %2 + %3\n",
       "\u001b[90m│  \u001b[39m\u001b[33m│\u001b[39m %5  = x * %4\n",
       "\u001b[90m│  \u001b[39m\u001b[33m│\u001b[39m %6  = Base.getindex(c, 2)\n",
       "\u001b[90m│  \u001b[39m\u001b[33m│\u001b[39m %7  = %5 + %6\n",
       "\u001b[90m│  \u001b[39m\u001b[33m│\u001b[39m %8  = x * %7\n",
       "\u001b[90m│  \u001b[39m\u001b[33m│\u001b[39m %9  = Base.getindex(c, 1)\n",
       "\u001b[90m│  \u001b[39m\u001b[33m│\u001b[39m %10 = %8 + %9\n",
       "\u001b[90m└──\u001b[39m\u001b[33m│\u001b[39m       return %10\n",
       "   \u001b[33m└\u001b[39m\n",
       ")"
      ]
     },
     "metadata": {},
     "output_type": "display_data"
    }
   ],
   "source": [
    "@code_lowered horner_gen(t, 10)"
   ]
  },
  {
   "cell_type": "code",
   "execution_count": 13,
   "metadata": {},
   "outputs": [
    {
     "data": {
      "text/plain": [
       "runtime (generic function with 1 method)"
      ]
     },
     "metadata": {},
     "output_type": "display_data"
    }
   ],
   "source": [
    "@ct_enable function horner_ct(c::NTuple{N,T}, x::T) where {N,T}\n",
    "    y = c[N]\n",
    "\n",
    "    @ct_ctrl for k in N-1:-1:1\n",
    "        y = x * y + c[@ct(k)]\n",
    "    end\n",
    "\n",
    "    return y\n",
    "end"
   ]
  },
  {
   "cell_type": "code",
   "execution_count": 14,
   "metadata": {},
   "outputs": [
    {
     "data": {
      "text/plain": [
       "729"
      ]
     },
     "metadata": {},
     "output_type": "display_data"
    }
   ],
   "source": [
    "horner_ct(t, 10)"
   ]
  },
  {
   "cell_type": "code",
   "execution_count": 15,
   "metadata": {},
   "outputs": [
    {
     "data": {
      "text/plain": [
       "CodeInfo(\n",
       "   \u001b[33m @ /home/roman/.julia/packages/CompTime/Ppb3B/src/CompTime.jl:137 within `comptime`\u001b[39m\n",
       "   \u001b[33m┌ @ /home/roman/.julia/packages/CompTime/Ppb3B/src/CompTime.jl:137 within `macro expansion` @ /home/roman/devel/Julia/julia-samples/CompTimeSamples/jupyter/horner.ipynb:2\u001b[39m\n",
       "\u001b[90m1 ─\u001b[39m\u001b[33m│\u001b[39m       y = Base.getindex(c, $(Expr(:static_parameter, 1)))\n",
       "\u001b[90m│ \u001b[39m \u001b[33m│ @ /home/roman/.julia/packages/CompTime/Ppb3B/src/CompTime.jl:137 within `macro expansion` @ /home/roman/devel/Julia/julia-samples/CompTimeSamples/jupyter/horner.ipynb:5\u001b[39m\n",
       "\u001b[90m│  \u001b[39m\u001b[33m│\u001b[39m %2  = x * y\n",
       "\u001b[90m│  \u001b[39m\u001b[33m│\u001b[39m %3  = Base.getindex(c, 3)\n",
       "\u001b[90m│  \u001b[39m\u001b[33m│\u001b[39m       y = %2 + %3\n",
       "\u001b[90m│  \u001b[39m\u001b[33m│\u001b[39m %5  = x * y\n",
       "\u001b[90m│  \u001b[39m\u001b[33m│\u001b[39m %6  = Base.getindex(c, 2)\n",
       "\u001b[90m│  \u001b[39m\u001b[33m│\u001b[39m       y = %5 + %6\n",
       "\u001b[90m│  \u001b[39m\u001b[33m│\u001b[39m %8  = x * y\n",
       "\u001b[90m│  \u001b[39m\u001b[33m│\u001b[39m %9  = Base.getindex(c, 1)\n",
       "\u001b[90m│  \u001b[39m\u001b[33m│\u001b[39m       y = %8 + %9\n",
       "\u001b[90m│ \u001b[39m \u001b[33m│ @ /home/roman/.julia/packages/CompTime/Ppb3B/src/CompTime.jl:137 within `macro expansion` @ /home/roman/devel/Julia/julia-samples/CompTimeSamples/jupyter/horner.ipynb:8\u001b[39m\n",
       "\u001b[90m│  \u001b[39m\u001b[33m│\u001b[39m %11 = y\n",
       "\u001b[90m│ \u001b[39m \u001b[33m│ @ /home/roman/.julia/packages/CompTime/Ppb3B/src/CompTime.jl:137 within `macro expansion`\u001b[39m\n",
       "\u001b[90m└──\u001b[39m\u001b[33m│\u001b[39m       return %11\n",
       "   \u001b[33m└\u001b[39m\n",
       ")"
      ]
     },
     "metadata": {},
     "output_type": "display_data"
    }
   ],
   "source": [
    "@code_lowered comptime(horner_ct, t, 10)"
   ]
  },
  {
   "cell_type": "code",
   "execution_count": 16,
   "metadata": {},
   "outputs": [
    {
     "data": {
      "text/plain": [
       "quote\n",
       "    \u001b[90m#= /home/roman/devel/Julia/julia-samples/CompTimeSamples/jupyter/horner.ipynb:1 =#\u001b[39m\n",
       "    \u001b[90m#= /home/roman/devel/Julia/julia-samples/CompTimeSamples/jupyter/horner.ipynb:2 =#\u001b[39m\n",
       "    y = c[N]\n",
       "    \u001b[90m#= /home/roman/devel/Julia/julia-samples/CompTimeSamples/jupyter/horner.ipynb:4 =#\u001b[39m\n",
       "    begin\n",
       "        begin\n",
       "            \u001b[90m#= /home/roman/devel/Julia/julia-samples/CompTimeSamples/jupyter/horner.ipynb:5 =#\u001b[39m\n",
       "            y = x * y + c[3]\n",
       "            \u001b[90m#= /home/roman/devel/Julia/julia-samples/CompTimeSamples/jupyter/horner.ipynb:6 =#\u001b[39m\n",
       "        end\n",
       "        begin\n",
       "            \u001b[90m#= /home/roman/devel/Julia/julia-samples/CompTimeSamples/jupyter/horner.ipynb:5 =#\u001b[39m\n",
       "            y = x * y + c[2]\n",
       "            \u001b[90m#= /home/roman/devel/Julia/julia-samples/CompTimeSamples/jupyter/horner.ipynb:6 =#\u001b[39m\n",
       "        end\n",
       "        begin\n",
       "            \u001b[90m#= /home/roman/devel/Julia/julia-samples/CompTimeSamples/jupyter/horner.ipynb:5 =#\u001b[39m\n",
       "            y = x * y + c[1]\n",
       "            \u001b[90m#= /home/roman/devel/Julia/julia-samples/CompTimeSamples/jupyter/horner.ipynb:6 =#\u001b[39m\n",
       "        end\n",
       "    end\n",
       "    \u001b[90m#= /home/roman/devel/Julia/julia-samples/CompTimeSamples/jupyter/horner.ipynb:8 =#\u001b[39m\n",
       "    return y\n",
       "end"
      ]
     },
     "metadata": {},
     "output_type": "display_data"
    }
   ],
   "source": [
    "debug(horner_ct, t, 10)"
   ]
  }
 ],
 "metadata": {
  "kernelspec": {
   "display_name": "Julia 1.9.3",
   "language": "julia",
   "name": "julia-1.9"
  },
  "language_info": {
   "file_extension": ".jl",
   "mimetype": "application/julia",
   "name": "julia",
   "version": "1.9.3"
  }
 },
 "nbformat": 4,
 "nbformat_minor": 2
}
