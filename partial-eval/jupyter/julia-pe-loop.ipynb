{
 "cells": [
  {
   "cell_type": "code",
   "execution_count": 1,
   "metadata": {},
   "outputs": [
    {
     "data": {
      "text/plain": [
       "pw_loop (generic function with 1 method)"
      ]
     },
     "metadata": {},
     "output_type": "display_data"
    }
   ],
   "source": [
    "function pw_loop(n, x::T) where {T}\n",
    "    r = one(T)\n",
    "    for k in 1:n\n",
    "        r = r * x\n",
    "    end\n",
    "    return r\n",
    "end"
   ]
  },
  {
   "cell_type": "code",
   "execution_count": 2,
   "metadata": {},
   "outputs": [
    {
     "data": {
      "text/plain": [
       "\"AbcAbcAbc\""
      ]
     },
     "metadata": {},
     "output_type": "display_data"
    }
   ],
   "source": [
    "pw_loop(3, \"Abc\")"
   ]
  },
  {
   "cell_type": "code",
   "execution_count": 3,
   "metadata": {},
   "outputs": [
    {
     "data": {
      "text/plain": [
       "CodeInfo(\n",
       "\u001b[90m1 ──\u001b[39m %1  = Base.sle_int(1, n)\u001b[36m::Bool\u001b[39m\n",
       "\u001b[90m└───\u001b[39m       goto #3 if not %1\n",
       "\u001b[90m2 ──\u001b[39m       goto #4\n",
       "\u001b[90m3 ──\u001b[39m       goto #4\n",
       "\u001b[90m4 ┄─\u001b[39m %5  = φ (#2 => n, #3 => 0)\u001b[36m::Int64\u001b[39m\n",
       "\u001b[90m└───\u001b[39m       goto #5\n",
       "\u001b[90m5 ──\u001b[39m       goto #6\n",
       "\u001b[90m6 ──\u001b[39m %8  = Base.slt_int(%5, 1)\u001b[36m::Bool\u001b[39m\n",
       "\u001b[90m└───\u001b[39m       goto #8 if not %8\n",
       "\u001b[90m7 ──\u001b[39m       goto #9\n",
       "\u001b[90m8 ──\u001b[39m       goto #9\n",
       "\u001b[90m9 ┄─\u001b[39m %12 = φ (#7 => true, #8 => false)\u001b[36m::Bool\u001b[39m\n",
       "\u001b[90m│   \u001b[39m %13 = φ (#8 => 1)\u001b[36m::Int64\u001b[39m\n",
       "\u001b[90m│   \u001b[39m %14 = Base.not_int(%12)\u001b[36m::Bool\u001b[39m\n",
       "\u001b[90m└───\u001b[39m       goto #15 if not %14\n",
       "\u001b[90m10 ┄\u001b[39m %16 = φ (#9 => %13, #14 => %24)\u001b[36m::Int64\u001b[39m\n",
       "\u001b[90m│   \u001b[39m %17 = φ (#9 => 1, #14 => %18)\u001b[36m::Int64\u001b[39m\n",
       "\u001b[90m│   \u001b[39m %18 = Base.mul_int(%17, x)\u001b[36m::Int64\u001b[39m\n",
       "\u001b[90m│   \u001b[39m %19 = (%16 === %5)\u001b[36m::Bool\u001b[39m\n",
       "\u001b[90m└───\u001b[39m       goto #12 if not %19\n",
       "\u001b[90m11 ─\u001b[39m       goto #13\n",
       "\u001b[90m12 ─\u001b[39m %22 = Base.add_int(%16, 1)\u001b[36m::Int64\u001b[39m\n",
       "\u001b[90m└───\u001b[39m       goto #13\n",
       "\u001b[90m13 ┄\u001b[39m %24 = φ (#12 => %22)\u001b[36m::Int64\u001b[39m\n",
       "\u001b[90m│   \u001b[39m %25 = φ (#11 => true, #12 => false)\u001b[36m::Bool\u001b[39m\n",
       "\u001b[90m│   \u001b[39m %26 = Base.not_int(%25)\u001b[36m::Bool\u001b[39m\n",
       "\u001b[90m└───\u001b[39m       goto #15 if not %26\n",
       "\u001b[90m14 ─\u001b[39m       goto #10\n",
       "\u001b[90m15 ┄\u001b[39m %29 = φ (#13 => %18, #9 => 1)\u001b[36m::Int64\u001b[39m\n",
       "\u001b[90m└───\u001b[39m       return %29\n",
       ") => Int64"
      ]
     },
     "metadata": {},
     "output_type": "display_data"
    }
   ],
   "source": [
    "@code_typed pw_loop(3, 10)"
   ]
  },
  {
   "cell_type": "code",
   "execution_count": 4,
   "metadata": {},
   "outputs": [
    {
     "data": {
      "text/plain": [
       "pw_loop_pe (generic function with 1 method)"
      ]
     },
     "metadata": {},
     "output_type": "display_data"
    }
   ],
   "source": [
    "function pw_loop_pe(::Val{n}, x::T) where {n, T}\n",
    "    r = one(T)\n",
    "    for k in 1:n\n",
    "        r = r * x\n",
    "    end\n",
    "    return r\n",
    "end"
   ]
  },
  {
   "cell_type": "code",
   "execution_count": 7,
   "metadata": {},
   "outputs": [
    {
     "data": {
      "text/plain": [
       "\"AbcAbcAbc\""
      ]
     },
     "metadata": {},
     "output_type": "display_data"
    }
   ],
   "source": [
    "pw_loop_pe(Val(3), \"Abc\")"
   ]
  },
  {
   "cell_type": "code",
   "execution_count": 9,
   "metadata": {},
   "outputs": [
    {
     "data": {
      "text/plain": [
       "CodeInfo(\n",
       "\u001b[90m1 ─\u001b[39m       nothing\u001b[90m::Nothing\u001b[39m\n",
       "\u001b[90m2 ┄\u001b[39m %2  = φ (#1 => 1, #6 => %10)\u001b[36m::Int64\u001b[39m\n",
       "\u001b[90m│  \u001b[39m %3  = φ (#1 => 1, #6 => %4)\u001b[36m::Int64\u001b[39m\n",
       "\u001b[90m│  \u001b[39m %4  = Base.mul_int(%3, x)\u001b[36m::Int64\u001b[39m\n",
       "\u001b[90m│  \u001b[39m %5  = (%2 === 3)\u001b[36m::Bool\u001b[39m\n",
       "\u001b[90m└──\u001b[39m       goto #4 if not %5\n",
       "\u001b[90m3 ─\u001b[39m       goto #5\n",
       "\u001b[90m4 ─\u001b[39m %8  = Base.add_int(%2, 1)\u001b[36m::Int64\u001b[39m\n",
       "\u001b[90m└──\u001b[39m       goto #5\n",
       "\u001b[90m5 ┄\u001b[39m %10 = φ (#4 => %8)\u001b[36m::Int64\u001b[39m\n",
       "\u001b[90m│  \u001b[39m %11 = φ (#3 => true, #4 => false)\u001b[36m::Bool\u001b[39m\n",
       "\u001b[90m│  \u001b[39m %12 = Base.not_int(%11)\u001b[36m::Bool\u001b[39m\n",
       "\u001b[90m└──\u001b[39m       goto #7 if not %12\n",
       "\u001b[90m6 ─\u001b[39m       goto #2\n",
       "\u001b[90m7 ─\u001b[39m       return %4\n",
       ") => Int64"
      ]
     },
     "metadata": {},
     "output_type": "display_data"
    }
   ],
   "source": [
    "@code_typed pw_loop_pe(Val(3), 10)"
   ]
  },
  {
   "cell_type": "code",
   "execution_count": 11,
   "metadata": {},
   "outputs": [
    {
     "name": "stdout",
     "output_type": "stream",
     "text": [
      "\t\u001b[0m.text\n",
      "\t\u001b[0m.file\t\u001b[0m\"pw_loop_pe\"\n",
      "\t\u001b[0m.globl\t\u001b[0mjulia_pw_loop_pe_9235           \u001b[90m# -- Begin function julia_pw_loop_pe_9235\u001b[39m\n",
      "\t\u001b[0m.p2align\t\u001b[33m4\u001b[39m\u001b[0m, \u001b[33m0x90\u001b[39m\n",
      "\t\u001b[0m.type\t\u001b[0mjulia_pw_loop_pe_9235\u001b[0m,\u001b[0m@function\n",
      "\u001b[91mjulia_pw_loop_pe_9235:\u001b[39m                  \u001b[90m# @julia_pw_loop_pe_9235\u001b[39m\n",
      "\u001b[90m; Function Signature: pw_loop_pe(Base.Val{5}, Int64)\u001b[39m\n",
      "\u001b[90m; ┌ @ /home/roman/devel/Julia/julia-samples/partial-eval/jupyter/jl_notebook_cell_df34fa98e69747e1a8f8a730347b8e2f_W4sZmlsZQ==.jl:1 within `pw_loop_pe`\u001b[39m\n",
      "\u001b[90m# %bb.0:                                # %top\u001b[39m\n",
      "\u001b[90m; │ @ /home/roman/devel/Julia/julia-samples/partial-eval/jupyter/jl_notebook_cell_df34fa98e69747e1a8f8a730347b8e2f_W4sZmlsZQ==.jl within `pw_loop_pe`\u001b[39m\n",
      "\t\u001b[91m#DEBUG_VALUE:\u001b[39m \u001b[96m\u001b[1mpw_loop_pe\u001b[22m\u001b[39m\u001b[0m:\u001b[0mx \u001b[0m<- \u001b[93m$rdi\u001b[39m\n",
      "\t\u001b[96m\u001b[1mpush\u001b[22m\u001b[39m\t\u001b[0mrbp\n",
      "\t\u001b[96m\u001b[1mmov\u001b[22m\u001b[39m\t\u001b[0mrbp\u001b[0m, \u001b[0mrsp\n",
      "\u001b[90m; │ @ /home/roman/devel/Julia/julia-samples/partial-eval/jupyter/jl_notebook_cell_df34fa98e69747e1a8f8a730347b8e2f_W4sZmlsZQ==.jl:4 within `pw_loop_pe`\u001b[39m\n",
      "\u001b[90m; │┌ @ int.jl:88 within `*`\u001b[39m\n",
      "\t\u001b[96m\u001b[1mmov\u001b[22m\u001b[39m\t\u001b[0mrax\u001b[0m, \u001b[0mrdi\n",
      "\t\u001b[96m\u001b[1mimul\u001b[22m\u001b[39m\t\u001b[0mrax\u001b[0m, \u001b[0mrdi\n",
      "\t\u001b[96m\u001b[1mimul\u001b[22m\u001b[39m\t\u001b[0mrdi\u001b[0m, \u001b[0mrax\n",
      "\t\u001b[96m\u001b[1mimul\u001b[22m\u001b[39m\t\u001b[0mrax\u001b[0m, \u001b[0mrdi\n",
      "\u001b[90m; │└\u001b[39m\n",
      "\u001b[90m; │ @ /home/roman/devel/Julia/julia-samples/partial-eval/jupyter/jl_notebook_cell_df34fa98e69747e1a8f8a730347b8e2f_W4sZmlsZQ==.jl:6 within `pw_loop_pe`\u001b[39m\n",
      "\t\u001b[96m\u001b[1mpop\u001b[22m\u001b[39m\t\u001b[0mrbp\n",
      "\t\u001b[96m\u001b[1mret\u001b[22m\u001b[39m\n",
      "\u001b[91m.Lfunc_end0:\u001b[39m\n",
      "\t\u001b[0m.size\t\u001b[0mjulia_pw_loop_pe_9235\u001b[0m, \u001b[0m.Lfunc_end0-julia_pw_loop_pe_9235\n",
      "\u001b[90m; └\u001b[39m\n",
      "                                        \u001b[90m# -- End function\u001b[39m\n",
      "\t\u001b[0m.section\t\u001b[0m\".note.GNU-stack\"\u001b[0m,\u001b[0m\"\"\u001b[0m,\u001b[0m@progbits\n"
     ]
    }
   ],
   "source": [
    "@code_native pw_loop_pe(Val(5), 10)"
   ]
  }
 ],
 "metadata": {
  "kernelspec": {
   "display_name": "Julia 1.11.3",
   "language": "julia",
   "name": "julia-1.11"
  },
  "language_info": {
   "file_extension": ".jl",
   "mimetype": "application/julia",
   "name": "julia",
   "version": "1.11.3"
  }
 },
 "nbformat": 4,
 "nbformat_minor": 2
}
