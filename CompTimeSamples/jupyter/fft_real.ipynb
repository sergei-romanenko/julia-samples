{
 "cells": [
  {
   "cell_type": "code",
   "execution_count": 1,
   "metadata": {},
   "outputs": [],
   "source": [
    "using FFTW, Random, Test\n",
    "\n",
    "include(\"MacroUtils.jl\")\n",
    "using .MacroUtils: cleanup"
   ]
  },
  {
   "cell_type": "code",
   "execution_count": 2,
   "metadata": {},
   "outputs": [],
   "source": [
    "Random.seed!(1234)\n",
    "sample_vector_input = rand(32);\n",
    "sample_tuple_input = Tuple(sample_vector_input);"
   ]
  },
  {
   "cell_type": "code",
   "execution_count": 3,
   "metadata": {},
   "outputs": [
    {
     "data": {
      "text/plain": [
       "test_fft (generic function with 1 method)"
      ]
     },
     "metadata": {},
     "output_type": "display_data"
    }
   ],
   "source": [
    "function test_fft(fft)\n",
    "    @test FFTW.fft(sample_vector_input) ≈ fft(sample_tuple_input)\n",
    "end"
   ]
  },
  {
   "cell_type": "markdown",
   "metadata": {},
   "source": [
    "## Работа с комплексными числами"
   ]
  },
  {
   "cell_type": "code",
   "execution_count": 4,
   "metadata": {},
   "outputs": [
    {
     "data": {
      "text/plain": [
       "fft_rec_c (generic function with 1 method)"
      ]
     },
     "metadata": {},
     "output_type": "display_data"
    }
   ],
   "source": [
    "function fft_rec_c(a)\n",
    "    n = length(a)\n",
    "    @assert n > 0 && ispow2(n)\n",
    "\n",
    "    b = Vector{Complex{Float64}}(undef, n)\n",
    "\n",
    "    if isone(n)\n",
    "        b[1] = a[1]\n",
    "        return b\n",
    "    end\n",
    "\n",
    "    n2 = n ÷ 2\n",
    "    w = exp(-2 * pi * im / n)\n",
    "\n",
    "    a1 = [a[k] for k in 1:2:n]\n",
    "    a2 = [a[k] for k in 2:2:n]\n",
    "    y1 = fft_rec_c(a1)\n",
    "    y2 = fft_rec_c(a2)\n",
    "    for k in 1:n2\n",
    "        t = w^(k - 1) * y2[k]\n",
    "        b[k] = y1[k] + t\n",
    "        b[k+n2] = y1[k] - t\n",
    "    end\n",
    "    return b\n",
    "end"
   ]
  },
  {
   "cell_type": "code",
   "execution_count": 5,
   "metadata": {},
   "outputs": [
    {
     "data": {
      "text/plain": [
       "4-element Vector{ComplexF64}:\n",
       " 100.0 + 0.0im\n",
       " -20.0 + 20.0im\n",
       " -20.0 + 0.0im\n",
       " -20.0 - 20.0im"
      ]
     },
     "metadata": {},
     "output_type": "display_data"
    }
   ],
   "source": [
    "fft_rec_c((10.0, 20.0, 30.0, 40.0))"
   ]
  },
  {
   "cell_type": "code",
   "execution_count": 6,
   "metadata": {},
   "outputs": [
    {
     "data": {
      "text/plain": [
       "\u001b[32m\u001b[1mTest Passed\u001b[22m\u001b[39m"
      ]
     },
     "metadata": {},
     "output_type": "display_data"
    }
   ],
   "source": [
    "test_fft(fft_rec_c)"
   ]
  },
  {
   "cell_type": "markdown",
   "metadata": {},
   "source": [
    "## Переход к действительным числам"
   ]
  },
  {
   "cell_type": "code",
   "execution_count": 7,
   "metadata": {},
   "outputs": [
    {
     "data": {
      "text/plain": [
       "fft_rec_ (generic function with 1 method)"
      ]
     },
     "metadata": {},
     "output_type": "display_data"
    }
   ],
   "source": [
    "function fft_rec_(a)\n",
    "    n = length(a)\n",
    "    b_r = Vector{Float64}(undef, n)\n",
    "    b_i = Vector{Float64}(undef, n)\n",
    "\n",
    "    if isone(n)\n",
    "        b_r[1] = a[1]\n",
    "        b_i[1] = 0.0\n",
    "        return b_r, b_i\n",
    "    end\n",
    "\n",
    "    n2 = n ÷ 2\n",
    "\n",
    "    a1 = [a[k] for k in 1:2:n]\n",
    "    a2 = [a[k] for k in 2:2:n]\n",
    "    y1_r, y1_i = fft_rec_(a1)\n",
    "    y2_r, y2_i = fft_rec_(a2)\n",
    "\n",
    "    for k in 1:n2\n",
    "        theta = -2 * (k - 1) * pi / n\n",
    "        wk_r, wk_i = cos(theta), sin(theta)\n",
    "\n",
    "        t_r = wk_r * y2_r[k] - wk_i * y2_i[k]\n",
    "        t_i = wk_r * y2_i[k] + wk_i * y2_r[k]\n",
    "        b_r[k] = y1_r[k] + t_r\n",
    "        b_i[k] = y1_i[k] + t_i\n",
    "        b_r[k+n2] = y1_r[k] - t_r\n",
    "        b_i[k+n2] = y1_i[k] - t_i\n",
    "    end\n",
    "    return b_r, b_i\n",
    "end"
   ]
  },
  {
   "cell_type": "code",
   "execution_count": 8,
   "metadata": {},
   "outputs": [
    {
     "data": {
      "text/plain": [
       "fft_rec (generic function with 1 method)"
      ]
     },
     "metadata": {},
     "output_type": "display_data"
    }
   ],
   "source": [
    "function fft_rec(a)\n",
    "    n = length(a)\n",
    "    @assert n > 0 && ispow2(n)\n",
    "    b_r, b_i = fft_rec_(a)\n",
    "    return [complex(b_r[k], b_i[k]) for k in 1:n]\n",
    "end"
   ]
  },
  {
   "cell_type": "code",
   "execution_count": 9,
   "metadata": {},
   "outputs": [
    {
     "data": {
      "text/plain": [
       "4-element Vector{ComplexF64}:\n",
       " 100.0 + 0.0im\n",
       " -20.0 + 20.0im\n",
       " -20.0 + 0.0im\n",
       " -20.0 - 20.0im"
      ]
     },
     "metadata": {},
     "output_type": "display_data"
    }
   ],
   "source": [
    "fft_rec((10.0, 20.0, 30.0, 40.0))"
   ]
  },
  {
   "cell_type": "code",
   "execution_count": 10,
   "metadata": {},
   "outputs": [
    {
     "data": {
      "text/plain": [
       "\u001b[32m\u001b[1mTest Passed\u001b[22m\u001b[39m"
      ]
     },
     "metadata": {},
     "output_type": "display_data"
    }
   ],
   "source": [
    "test_fft(fft_rec)"
   ]
  },
  {
   "cell_type": "markdown",
   "metadata": {},
   "source": [
    "## Переделываем вычислитель в генератор"
   ]
  },
  {
   "cell_type": "code",
   "execution_count": 11,
   "metadata": {},
   "outputs": [
    {
     "data": {
      "text/plain": [
       "fft_gen_impl1! (generic function with 1 method)"
      ]
     },
     "metadata": {},
     "output_type": "display_data"
    }
   ],
   "source": [
    "function fft_gen_impl1!(a, es, m)\n",
    "    n = length(a)\n",
    "\n",
    "    b_r = [Symbol(\"b_r_\", m[], \"_\", k) for k in 1:n]\n",
    "    b_i = [Symbol(\"b_i_\", m[], \"_\", k) for k in 1:n]\n",
    "    m[] += 1\n",
    "\n",
    "    if isone(n)\n",
    "        append!(es, (\n",
    "            :($(b_r[1]) = $(a[1])),\n",
    "            :($(b_i[1]) = 0.0)\n",
    "        ))\n",
    "        return b_r, b_i\n",
    "    end\n",
    "\n",
    "    n2 = n ÷ 2\n",
    "    a1 = [a[k] for k in 1:2:n]\n",
    "    a2 = [a[k] for k in 2:2:n]\n",
    "    y1_r, y1_i = fft_gen_impl1!(a1, es, m)\n",
    "    y2_r, y2_i = fft_gen_impl1!(a2, es, m)\n",
    "\n",
    "    w = exp(-2 * pi * im / n)\n",
    "\n",
    "    for k in 1:n2\n",
    "        t_r = Symbol(\"t_r_\", m[])\n",
    "        t_i = Symbol(\"t_i_\", m[])\n",
    "        m[] += 1\n",
    "\n",
    "        theta = -2 * (k - 1) * pi / n\n",
    "        wk_r, wk_i = cos(theta), sin(theta)\n",
    "\n",
    "        append!(es, (\n",
    "            :($t_r = $wk_r * $(y2_r[k]) - $wk_i * $(y2_i[k])),\n",
    "            :($t_i = $wk_r * $(y2_i[k]) + $wk_i * $(y2_r[k])),\n",
    "            :($(b_r[k]) = $(y1_r[k]) + $t_r),\n",
    "            :($(b_i[k]) = $(y1_i[k]) + $t_i),\n",
    "            :($(b_r[k+n2]) = $(y1_r[k]) - $t_r),\n",
    "            :($(b_i[k+n2]) = $(y1_i[k]) - $(t_i))\n",
    "        ))\n",
    "    end\n",
    "\n",
    "\n",
    "    return b_r, b_i\n",
    "end"
   ]
  },
  {
   "cell_type": "code",
   "execution_count": 12,
   "metadata": {},
   "outputs": [
    {
     "data": {
      "text/plain": [
       "fft_gen_impl1 (generic function with 1 method)"
      ]
     },
     "metadata": {},
     "output_type": "display_data"
    }
   ],
   "source": [
    "function fft_gen_impl1(n)\n",
    "    @assert n > 0 && ispow2(n)\n",
    "\n",
    "    a = [:(a[$k]) for k in 1:n]\n",
    "    es = Expr[]\n",
    "    m = Ref(1)\n",
    "    b_r, b_i = fft_gen_impl1!(a, es, m)\n",
    "\n",
    "    b = [:(complex($(b_r[k]), $(b_i[k]))) for k in 1:n]\n",
    "    quote\n",
    "        $(es...)\n",
    "        return $(Expr(:vect, b...))\n",
    "    end\n",
    "\n",
    "end"
   ]
  },
  {
   "cell_type": "code",
   "execution_count": 13,
   "metadata": {},
   "outputs": [
    {
     "data": {
      "text/plain": [
       "quote\n",
       "    b_r_3_1 = a[1]\n",
       "    b_i_3_1 = 0.0\n",
       "    b_r_4_1 = a[3]\n",
       "    b_i_4_1 = 0.0\n",
       "    t_r_5 = 1.0b_r_4_1 - 0.0b_i_4_1\n",
       "    t_i_5 = 1.0b_i_4_1 + 0.0b_r_4_1\n",
       "    b_r_2_1 = b_r_3_1 + t_r_5\n",
       "    b_i_2_1 = b_i_3_1 + t_i_5\n",
       "    b_r_2_2 = b_r_3_1 - t_r_5\n",
       "    b_i_2_2 = b_i_3_1 - t_i_5\n",
       "    b_r_7_1 = a[2]\n",
       "    b_i_7_1 = 0.0\n",
       "    b_r_8_1 = a[4]\n",
       "    b_i_8_1 = 0.0\n",
       "    t_r_9 = 1.0b_r_8_1 - 0.0b_i_8_1\n",
       "    t_i_9 = 1.0b_i_8_1 + 0.0b_r_8_1\n",
       "    b_r_6_1 = b_r_7_1 + t_r_9\n",
       "    b_i_6_1 = b_i_7_1 + t_i_9\n",
       "    b_r_6_2 = b_r_7_1 - t_r_9\n",
       "    b_i_6_2 = b_i_7_1 - t_i_9\n",
       "    t_r_10 = 1.0b_r_6_1 - 0.0b_i_6_1\n",
       "    t_i_10 = 1.0b_i_6_1 + 0.0b_r_6_1\n",
       "    b_r_1_1 = b_r_2_1 + t_r_10\n",
       "    b_i_1_1 = b_i_2_1 + t_i_10\n",
       "    b_r_1_3 = b_r_2_1 - t_r_10\n",
       "    b_i_1_3 = b_i_2_1 - t_i_10\n",
       "    t_r_11 = 6.123233995736766e-17b_r_6_2 - -1.0b_i_6_2\n",
       "    t_i_11 = 6.123233995736766e-17b_i_6_2 + -1.0b_r_6_2\n",
       "    b_r_1_2 = b_r_2_2 + t_r_11\n",
       "    b_i_1_2 = b_i_2_2 + t_i_11\n",
       "    b_r_1_4 = b_r_2_2 - t_r_11\n",
       "    b_i_1_4 = b_i_2_2 - t_i_11\n",
       "    return [complex(b_r_1_1, b_i_1_1), complex(b_r_1_2, b_i_1_2), complex(b_r_1_3, b_i_1_3), complex(b_r_1_4, b_i_1_4)]\n",
       "end"
      ]
     },
     "metadata": {},
     "output_type": "display_data"
    }
   ],
   "source": [
    "fft_gen_impl1(4) |> cleanup"
   ]
  },
  {
   "cell_type": "code",
   "execution_count": 14,
   "metadata": {},
   "outputs": [
    {
     "data": {
      "text/plain": [
       "fft_gen1 (generic function with 1 method)"
      ]
     },
     "metadata": {},
     "output_type": "display_data"
    }
   ],
   "source": [
    "@generated function fft_gen1(a::NTuple{N,Float64}) where {N}\n",
    "    fft_gen_impl1(N)\n",
    "end"
   ]
  },
  {
   "cell_type": "code",
   "execution_count": 15,
   "metadata": {},
   "outputs": [
    {
     "data": {
      "text/plain": [
       "4-element Vector{ComplexF64}:\n",
       " 100.0 + 0.0im\n",
       " -20.0 + 20.0im\n",
       " -20.0 + 0.0im\n",
       " -20.0 - 20.0im"
      ]
     },
     "metadata": {},
     "output_type": "display_data"
    }
   ],
   "source": [
    "fft_gen1((10.0, 20.0, 30.0, 40.0))"
   ]
  },
  {
   "cell_type": "code",
   "execution_count": 16,
   "metadata": {},
   "outputs": [
    {
     "data": {
      "text/plain": [
       "\u001b[32m\u001b[1mTest Passed\u001b[22m\u001b[39m"
      ]
     },
     "metadata": {},
     "output_type": "display_data"
    }
   ],
   "source": [
    "test_fft(fft_gen1)"
   ]
  },
  {
   "cell_type": "markdown",
   "metadata": {},
   "source": [
    "## Замена приближенных числе на точные.</br>Обеспечение того, чтобы $sin (π / 4) = cos (π / 4)$."
   ]
  },
  {
   "cell_type": "code",
   "execution_count": 17,
   "metadata": {},
   "outputs": [
    {
     "data": {
      "text/plain": [
       "wp (generic function with 1 method)"
      ]
     },
     "metadata": {},
     "output_type": "display_data"
    }
   ],
   "source": [
    "function wp(n, j)\n",
    "    if j == 0\n",
    "        (1.0, 0.0)\n",
    "    elseif 2 * j == n\n",
    "        (-1.0, 0.0)\n",
    "    elseif 4 * j == n\n",
    "        (0.0, -1.0)\n",
    "    elseif 4 * j == 3 * n\n",
    "        (0.0, 1.0)\n",
    "    elseif mod(8 * j, n) == 0\n",
    "        @assert isodd((8 * j) ÷ n)\n",
    "        quadrant = 4 - ((((8 * j) ÷ n) - 1) ÷ 2)\n",
    "        cos_signs = 1.0, -1.0, -1.0, 1.0\n",
    "        sin_signs = 1.0, 1.0, -1.0, -1.0\n",
    "        csh = cos(pi / 4.0)\n",
    "        csh * cos_signs[quadrant], csh * sin_signs[quadrant]\n",
    "    else\n",
    "        theta = (-2 * j) * pi / n\n",
    "        cos(theta), sin(theta)\n",
    "    end\n",
    "end"
   ]
  },
  {
   "cell_type": "code",
   "execution_count": 18,
   "metadata": {},
   "outputs": [
    {
     "data": {
      "text/plain": [
       "16-element Vector{Tuple{Float64, Float64}}:\n",
       " (1.0, 0.0)\n",
       " (0.9238795325112867, -0.3826834323650898)\n",
       " (0.7071067811865476, -0.7071067811865476)\n",
       " (0.38268343236508984, -0.9238795325112867)\n",
       " (0.0, -1.0)\n",
       " (-0.3826834323650897, -0.9238795325112867)\n",
       " (-0.7071067811865476, -0.7071067811865476)\n",
       " (-0.9238795325112867, -0.3826834323650899)\n",
       " (-1.0, 0.0)\n",
       " (-0.9238795325112868, 0.38268343236508967)\n",
       " (-0.7071067811865476, 0.7071067811865476)\n",
       " (-0.38268343236509034, 0.9238795325112865)\n",
       " (0.0, 1.0)\n",
       " (0.38268343236509, 0.9238795325112866)\n",
       " (0.7071067811865476, 0.7071067811865476)\n",
       " (0.9238795325112865, 0.3826834323650904)"
      ]
     },
     "metadata": {},
     "output_type": "display_data"
    }
   ],
   "source": [
    "[wp(16, j) for j in 0:15]"
   ]
  },
  {
   "cell_type": "code",
   "execution_count": 19,
   "metadata": {},
   "outputs": [
    {
     "data": {
      "text/plain": [
       "fft_gen_impl2! (generic function with 1 method)"
      ]
     },
     "metadata": {},
     "output_type": "display_data"
    }
   ],
   "source": [
    "function fft_gen_impl2!(a, es, m)\n",
    "    n = length(a)\n",
    "\n",
    "    b_r = [Symbol(\"b_r_\", m[], \"_\", k) for k in 1:n]\n",
    "    b_i = [Symbol(\"b_i_\", m[], \"_\", k) for k in 1:n]\n",
    "    m[] += 1\n",
    "\n",
    "    if isone(n)\n",
    "        append!(es, (\n",
    "            :($(b_r[1]) = $(a[1])),\n",
    "            :($(b_i[1]) = 0.0)\n",
    "        ))\n",
    "        return b_r, b_i\n",
    "    end\n",
    "\n",
    "    n2 = n ÷ 2\n",
    "    a1 = [a[k] for k in 1:2:n]\n",
    "    a2 = [a[k] for k in 2:2:n]\n",
    "    y1_r, y1_i = fft_gen_impl2!(a1, es, m)\n",
    "    y2_r, y2_i = fft_gen_impl2!(a2, es, m)\n",
    "\n",
    "    for k in 1:n2\n",
    "        t_r = Symbol(\"t_r_\", m[])\n",
    "        t_i = Symbol(\"t_i_\", m[])\n",
    "        m[] += 1\n",
    "\n",
    "        wk_r, wk_i = wp(n, k - 1)\n",
    "        append!(es, (\n",
    "            :($t_r = $wk_r * $(y2_r[k]) - $wk_i * $(y2_i[k])),\n",
    "            :($t_i = $wk_r * $(y2_i[k]) + $wk_i * $(y2_r[k])),\n",
    "            :($(b_r[k]) = $(y1_r[k]) + $t_r),\n",
    "            :($(b_i[k]) = $(y1_i[k]) + $t_i),\n",
    "            :($(b_r[k+n2]) = $(y1_r[k]) - $t_r),\n",
    "            :($(b_i[k+n2]) = $(y1_i[k]) - $(t_i))\n",
    "        ))\n",
    "    end\n",
    "\n",
    "    return b_r, b_i\n",
    "end"
   ]
  },
  {
   "cell_type": "code",
   "execution_count": 20,
   "metadata": {},
   "outputs": [
    {
     "data": {
      "text/plain": [
       "fft_gen_impl2 (generic function with 1 method)"
      ]
     },
     "metadata": {},
     "output_type": "display_data"
    }
   ],
   "source": [
    "function fft_gen_impl2(n)\n",
    "    @assert n > 0 && ispow2(n)\n",
    "\n",
    "    es = Expr[]\n",
    "    m = Ref(1)\n",
    "    a = [:(a[$k]) for k in 1:n]\n",
    "    b_r, b_i = fft_gen_impl2!(a, es, m)\n",
    "\n",
    "    b = [:(complex($(b_r[k]), $(b_i[k]))) for k in 1:n]\n",
    "    quote\n",
    "        $(es...)\n",
    "        return $(Expr(:vect, b...))\n",
    "    end\n",
    "\n",
    "end"
   ]
  },
  {
   "cell_type": "code",
   "execution_count": 21,
   "metadata": {},
   "outputs": [
    {
     "data": {
      "text/plain": [
       "quote\n",
       "    b_r_3_1 = a[1]\n",
       "    b_i_3_1 = 0.0\n",
       "    b_r_4_1 = a[3]\n",
       "    b_i_4_1 = 0.0\n",
       "    t_r_5 = 1.0b_r_4_1 - 0.0b_i_4_1\n",
       "    t_i_5 = 1.0b_i_4_1 + 0.0b_r_4_1\n",
       "    b_r_2_1 = b_r_3_1 + t_r_5\n",
       "    b_i_2_1 = b_i_3_1 + t_i_5\n",
       "    b_r_2_2 = b_r_3_1 - t_r_5\n",
       "    b_i_2_2 = b_i_3_1 - t_i_5\n",
       "    b_r_7_1 = a[2]\n",
       "    b_i_7_1 = 0.0\n",
       "    b_r_8_1 = a[4]\n",
       "    b_i_8_1 = 0.0\n",
       "    t_r_9 = 1.0b_r_8_1 - 0.0b_i_8_1\n",
       "    t_i_9 = 1.0b_i_8_1 + 0.0b_r_8_1\n",
       "    b_r_6_1 = b_r_7_1 + t_r_9\n",
       "    b_i_6_1 = b_i_7_1 + t_i_9\n",
       "    b_r_6_2 = b_r_7_1 - t_r_9\n",
       "    b_i_6_2 = b_i_7_1 - t_i_9\n",
       "    t_r_10 = 1.0b_r_6_1 - 0.0b_i_6_1\n",
       "    t_i_10 = 1.0b_i_6_1 + 0.0b_r_6_1\n",
       "    b_r_1_1 = b_r_2_1 + t_r_10\n",
       "    b_i_1_1 = b_i_2_1 + t_i_10\n",
       "    b_r_1_3 = b_r_2_1 - t_r_10\n",
       "    b_i_1_3 = b_i_2_1 - t_i_10\n",
       "    t_r_11 = 0.0b_r_6_2 - -1.0b_i_6_2\n",
       "    t_i_11 = 0.0b_i_6_2 + -1.0b_r_6_2\n",
       "    b_r_1_2 = b_r_2_2 + t_r_11\n",
       "    b_i_1_2 = b_i_2_2 + t_i_11\n",
       "    b_r_1_4 = b_r_2_2 - t_r_11\n",
       "    b_i_1_4 = b_i_2_2 - t_i_11\n",
       "    return [complex(b_r_1_1, b_i_1_1), complex(b_r_1_2, b_i_1_2), complex(b_r_1_3, b_i_1_3), complex(b_r_1_4, b_i_1_4)]\n",
       "end"
      ]
     },
     "metadata": {},
     "output_type": "display_data"
    }
   ],
   "source": [
    "fft_gen_impl2(4) |> cleanup"
   ]
  },
  {
   "cell_type": "code",
   "execution_count": 22,
   "metadata": {},
   "outputs": [
    {
     "data": {
      "text/plain": [
       "fft_gen2 (generic function with 1 method)"
      ]
     },
     "metadata": {},
     "output_type": "display_data"
    }
   ],
   "source": [
    "@generated function fft_gen2(a::NTuple{N,Float64}) where {N}\n",
    "    fft_gen_impl2(N)\n",
    "end"
   ]
  },
  {
   "cell_type": "code",
   "execution_count": 23,
   "metadata": {},
   "outputs": [
    {
     "data": {
      "text/plain": [
       "4-element Vector{ComplexF64}:\n",
       " 100.0 + 0.0im\n",
       " -20.0 + 20.0im\n",
       " -20.0 + 0.0im\n",
       " -20.0 - 20.0im"
      ]
     },
     "metadata": {},
     "output_type": "display_data"
    }
   ],
   "source": [
    "fft_gen2((10.0, 20.0, 30.0, 40.0))"
   ]
  },
  {
   "cell_type": "code",
   "execution_count": 24,
   "metadata": {},
   "outputs": [
    {
     "data": {
      "text/plain": [
       "\u001b[32m\u001b[1mTest Passed\u001b[22m\u001b[39m"
      ]
     },
     "metadata": {},
     "output_type": "display_data"
    }
   ],
   "source": [
    "test_fft(fft_gen2)"
   ]
  },
  {
   "cell_type": "markdown",
   "metadata": {},
   "source": [
    "## Абстрактная интерпретация (метавычисления)."
   ]
  },
  {
   "cell_type": "code",
   "execution_count": 25,
   "metadata": {},
   "outputs": [],
   "source": [
    "abstract type MVal end\n",
    "\n",
    "struct MCst <: MVal\n",
    "    v::Float64\n",
    "end\n",
    "\n",
    "struct MAny <: MVal\n",
    "    v\n",
    "end"
   ]
  },
  {
   "cell_type": "code",
   "execution_count": 26,
   "metadata": {},
   "outputs": [],
   "source": [
    "Base.hash(x::MCst, h::UInt) = hash(x.v, hash(MCst, h))\n",
    "Base.hash(x::MAny, h::UInt) = hash(x.v, hash(MAny, h))\n",
    "\n",
    "Base.:(==)(x::MVal, y::MVal) = x.v == y.v"
   ]
  },
  {
   "cell_type": "code",
   "execution_count": 27,
   "metadata": {},
   "outputs": [
    {
     "data": {
      "text/plain": [
       "add_m (generic function with 4 methods)"
      ]
     },
     "metadata": {},
     "output_type": "display_data"
    }
   ],
   "source": [
    "add_m(x::MVal, y::MVal) = MAny(:($(x.v) + $(y.v)))\n",
    "\n",
    "add_m(x::MCst, y::MCst) = MCst(x.v + y.v)\n",
    "\n",
    "function add_m(x::MCst, y::MAny)\n",
    "    if x.v == 0.0\n",
    "        y\n",
    "    else\n",
    "        MAny(:($(x.v) + $(y.v)))\n",
    "    end\n",
    "end\n",
    "\n",
    "function add_m(x::MAny, y::MCst)\n",
    "    if y.v == 0.0\n",
    "        x\n",
    "    else\n",
    "        MAny(:($(x.v) + $(y.v)))\n",
    "    end\n",
    "end"
   ]
  },
  {
   "cell_type": "code",
   "execution_count": 28,
   "metadata": {},
   "outputs": [
    {
     "data": {
      "text/plain": [
       "sub_m (generic function with 4 methods)"
      ]
     },
     "metadata": {},
     "output_type": "display_data"
    }
   ],
   "source": [
    "sub_m(x::MVal, y::MVal) = MAny(:($(x.v) - $(y.v)))\n",
    "\n",
    "sub_m(x::MCst, y::MCst) = MCst(x.v - y.v)\n",
    "\n",
    "function sub_m(x::MCst, y::MAny)\n",
    "    if x.v == 0.0\n",
    "        MAny(:(- $(y.v)))\n",
    "    else\n",
    "        MAny(:($(x.v) - $(y.v)))\n",
    "    end\n",
    "end\n",
    "\n",
    "function sub_m(x::MAny, y::MCst)\n",
    "    if y.v == 0.0\n",
    "        x\n",
    "    else\n",
    "        MAny(:($(x.v) - $(y.v)))\n",
    "    end\n",
    "end"
   ]
  },
  {
   "cell_type": "code",
   "execution_count": 29,
   "metadata": {},
   "outputs": [
    {
     "data": {
      "text/plain": [
       "mult_m (generic function with 4 methods)"
      ]
     },
     "metadata": {},
     "output_type": "display_data"
    }
   ],
   "source": [
    "mult_m(x::MVal, y::MVal) = MAny(:($(x.v) * $(y.v)))\n",
    "\n",
    "mult_m(x::MCst, y::MCst) = MCst(x.v * y.v)\n",
    "\n",
    "function mult_m(x::MCst, y::MAny)\n",
    "    if x.v == 0.0\n",
    "        MCst(0.0)\n",
    "    elseif x.v == 1.0\n",
    "        y\n",
    "    elseif x.v == -1.0\n",
    "        MAny(:(-$(y.v)))\n",
    "    else\n",
    "        MAny(:($(x.v) * $(y.v)))\n",
    "    end\n",
    "end\n",
    "\n",
    "function mult_m(x::MAny, y::MCst)\n",
    "    if y.v == 0.0\n",
    "        MCst(0.0)\n",
    "    elseif y.v == 1.0\n",
    "        x\n",
    "    elseif y.v == -1.0\n",
    "        MAny(:(-$(x.v)))\n",
    "    else\n",
    "        MAny(:($(x.v) * $(y.v)))\n",
    "    end\n",
    "end"
   ]
  },
  {
   "cell_type": "code",
   "execution_count": 30,
   "metadata": {},
   "outputs": [
    {
     "data": {
      "text/plain": [
       "MAny(:(10.0x))"
      ]
     },
     "metadata": {},
     "output_type": "display_data"
    }
   ],
   "source": [
    "mult_m(MCst(10.0), MAny(:x))"
   ]
  },
  {
   "cell_type": "code",
   "execution_count": 31,
   "metadata": {},
   "outputs": [
    {
     "data": {
      "text/plain": [
       "\u001b[32m\u001b[1mTest Passed\u001b[22m\u001b[39m"
      ]
     },
     "metadata": {},
     "output_type": "display_data"
    }
   ],
   "source": [
    "@test mult_m(MCst(2.0), MCst(3.0)) == MCst(6.0)\n",
    "@test mult_m(MCst(10.0), MAny(:x)) == MAny(:(10.0 * x))\n",
    "@test mult_m(MCst(0.0), MAny(:x)) == MCst(0.0)\n",
    "@test mult_m(MCst(1.0), MAny(:x)) == MAny(:x)\n",
    "@test mult_m(MCst(-1.0), MAny(:x)) == MAny(:(- x))\n",
    "@test mult_m(MAny(:x), MCst(20.0)) == MAny(:(x * 20.0))\n",
    "@test mult_m(MAny(:x), MCst(0.0)) == MCst(0.0)\n",
    "@test mult_m(MAny(:x), MCst(1.0)) == MAny(:x)\n",
    "@test mult_m(MAny(:x), MCst(-1.0)) == MAny(:(-x))\n",
    "@test mult_m(MAny(:x), MAny(:y)) == MAny(:(x * y))"
   ]
  },
  {
   "cell_type": "code",
   "execution_count": 32,
   "metadata": {},
   "outputs": [
    {
     "data": {
      "text/plain": [
       "mult_i_g (generic function with 1 method)"
      ]
     },
     "metadata": {},
     "output_type": "display_data"
    }
   ],
   "source": [
    "mult_r_g(c_r, c_i, y_r, y_i) =\n",
    "    if c_r == c_i\n",
    "        mult_m(MCst(c_r), sub_m(y_r, y_i))\n",
    "    elseif c_r == -c_i\n",
    "        mult_m(MCst(c_r), add_m(y_r, y_i))\n",
    "    else\n",
    "        sub_m(mult_m(MCst(c_r), y_r), mult_m(MCst(c_i), y_i))\n",
    "    end\n",
    "\n",
    "mult_i_g(c_r, c_i, y_r, y_i) =\n",
    "    if c_r == c_i\n",
    "        mult_m(MCst(c_r), add_m(y_i, y_r))\n",
    "    elseif c_r == -c_i\n",
    "        mult_m(MCst(c_r), sub_m(y_i, y_r))\n",
    "    else\n",
    "        add_m(mult_m(MCst(c_r), y_i), mult_m(MCst(c_i), y_r))\n",
    "    end"
   ]
  },
  {
   "cell_type": "code",
   "execution_count": 33,
   "metadata": {},
   "outputs": [
    {
     "data": {
      "text/plain": [
       "ass_a! (generic function with 2 methods)"
      ]
     },
     "metadata": {},
     "output_type": "display_data"
    }
   ],
   "source": [
    "function ass_a!(es, d, s::Symbol, e::MCst)\n",
    "    d[s] = e\n",
    "end\n",
    "\n",
    "function ass_a!(es, d, s::Symbol, e::MAny)\n",
    "    if e.v isa Symbol\n",
    "        d[s] = e\n",
    "    else\n",
    "        d[s] = MAny(s)\n",
    "        push!(es, :($s = $(e.v)))\n",
    "    end\n",
    "end"
   ]
  },
  {
   "cell_type": "code",
   "execution_count": 34,
   "metadata": {},
   "outputs": [
    {
     "data": {
      "text/plain": [
       "fft_gen_impl3! (generic function with 1 method)"
      ]
     },
     "metadata": {},
     "output_type": "display_data"
    }
   ],
   "source": [
    "function fft_gen_impl3!(a, d, es, m)\n",
    "    n = length(a)\n",
    "\n",
    "    b_r = [Symbol(\"b_r_\", m[], \"_\", k) for k in 1:n]\n",
    "    b_i = [Symbol(\"b_i_\", m[], \"_\", k) for k in 1:n]\n",
    "    m[] += 1\n",
    "\n",
    "    if isone(n)\n",
    "        ass_a!(es, d, b_r[1], MAny(a[1]))\n",
    "        ass_a!(es, d, b_i[1], MCst(0.0))\n",
    "        return [d[b_r[1]]], [d[b_i[1]]]\n",
    "    end\n",
    "\n",
    "    n2 = n ÷ 2\n",
    "    a1 = [a[k] for k in 1:2:n]\n",
    "    a2 = [a[k] for k in 2:2:n]\n",
    "\n",
    "    y1_r, y1_i = fft_gen_impl3!(a1, d, es, m)\n",
    "    y2_r, y2_i = fft_gen_impl3!(a2, d, es, m)\n",
    "\n",
    "    for k in 1:n2\n",
    "        t_r = Symbol(\"t_r_\", m[])\n",
    "        t_i = Symbol(\"t_i_\", m[])\n",
    "        m[] += 1\n",
    "\n",
    "        (wk_r, wk_i) = wp(n, k - 1)\n",
    "        ass_a!(es, d, t_r,\n",
    "            mult_r_g(wk_r, wk_i, y2_r[k], y2_i[k]))\n",
    "        ass_a!(es, d, t_i,\n",
    "            mult_i_g(wk_r, wk_i, y2_r[k], y2_i[k]))\n",
    "        ass_a!(es, d, b_r[k],\n",
    "            add_m(y1_r[k], d[t_r]))\n",
    "        ass_a!(es, d, b_i[k],\n",
    "            add_m(y1_i[k], d[t_i]))\n",
    "        ass_a!(es, d, b_r[k+n2],\n",
    "            sub_m(y1_r[k], d[t_r]))\n",
    "        ass_a!(es, d, b_i[k+n2],\n",
    "            sub_m(y1_i[k], d[t_i]))\n",
    "    end\n",
    "\n",
    "    d_b_r = [d[b_r[k]] for k in 1:n]\n",
    "    d_b_i = [d[b_i[k]] for k in 1:n]\n",
    "    return d_b_r, d_b_i\n",
    "end"
   ]
  },
  {
   "cell_type": "code",
   "execution_count": 35,
   "metadata": {},
   "outputs": [
    {
     "data": {
      "text/plain": [
       "fft_gen_impl3 (generic function with 1 method)"
      ]
     },
     "metadata": {},
     "output_type": "display_data"
    }
   ],
   "source": [
    "function fft_gen_impl3(n)\n",
    "    @assert n > 0 && ispow2(n)\n",
    "\n",
    "    a = [:(a[$k]) for k in 1:n]\n",
    "    d = Dict{Symbol,MVal}()\n",
    "    es = Expr[]\n",
    "    m = Ref(1)\n",
    "    b_r, b_i = fft_gen_impl3!(a, d, es, m)\n",
    "\n",
    "    b = [:(complex($(b_r[k].v), $(b_i[k].v))) for k in 1:n]\n",
    "\n",
    "    quote\n",
    "        $(es...)\n",
    "        return $(Expr(:vect, b...))\n",
    "    end\n",
    "end"
   ]
  },
  {
   "cell_type": "code",
   "execution_count": 36,
   "metadata": {},
   "outputs": [
    {
     "data": {
      "text/plain": [
       "quote\n",
       "    b_r_4_1 = a[1]\n",
       "    b_r_5_1 = a[5]\n",
       "    b_r_3_1 = b_r_4_1 + b_r_5_1\n",
       "    b_r_3_2 = b_r_4_1 - b_r_5_1\n",
       "    b_r_8_1 = a[3]\n",
       "    b_r_9_1 = a[7]\n",
       "    b_r_7_1 = b_r_8_1 + b_r_9_1\n",
       "    b_r_7_2 = b_r_8_1 - b_r_9_1\n",
       "    b_r_2_1 = b_r_3_1 + b_r_7_1\n",
       "    b_r_2_3 = b_r_3_1 - b_r_7_1\n",
       "    t_i_12 = -b_r_7_2\n",
       "    b_i_2_4 = -t_i_12\n",
       "    b_r_15_1 = a[2]\n",
       "    b_r_16_1 = a[6]\n",
       "    b_r_14_1 = b_r_15_1 + b_r_16_1\n",
       "    b_r_14_2 = b_r_15_1 - b_r_16_1\n",
       "    b_r_19_1 = a[4]\n",
       "    b_r_20_1 = a[8]\n",
       "    b_r_18_1 = b_r_19_1 + b_r_20_1\n",
       "    b_r_18_2 = b_r_19_1 - b_r_20_1\n",
       "    b_r_13_1 = b_r_14_1 + b_r_18_1\n",
       "    b_r_13_3 = b_r_14_1 - b_r_18_1\n",
       "    t_i_23 = -b_r_18_2\n",
       "    b_i_13_4 = -t_i_23\n",
       "    b_r_1_1 = b_r_2_1 + b_r_13_1\n",
       "    b_r_1_5 = b_r_2_1 - b_r_13_1\n",
       "    t_r_25 = 0.7071067811865476 * (b_r_14_2 + t_i_23)\n",
       "    t_i_25 = 0.7071067811865476 * (t_i_23 - b_r_14_2)\n",
       "    b_r_1_2 = b_r_3_2 + t_r_25\n",
       "    b_i_1_2 = t_i_12 + t_i_25\n",
       "    b_r_1_6 = b_r_3_2 - t_r_25\n",
       "    b_i_1_6 = t_i_12 - t_i_25\n",
       "    t_i_26 = -b_r_13_3\n",
       "    b_i_1_7 = -t_i_26\n",
       "    t_r_27 = -0.7071067811865476 * (b_r_14_2 - b_i_13_4)\n",
       "    t_i_27 = -0.7071067811865476 * (b_i_13_4 + b_r_14_2)\n",
       "    b_r_1_4 = b_r_3_2 + t_r_27\n",
       "    b_i_1_4 = b_i_2_4 + t_i_27\n",
       "    b_r_1_8 = b_r_3_2 - t_r_27\n",
       "    b_i_1_8 = b_i_2_4 - t_i_27\n",
       "    return [complex(b_r_1_1, 0.0), complex(b_r_1_2, b_i_1_2), complex(b_r_2_3, t_i_26), complex(b_r_1_4, b_i_1_4), complex(b_r_1_5, 0.0), complex(b_r_1_6, b_i_1_6), complex(b_r_2_3, b_i_1_7), complex(b_r_1_8, b_i_1_8)]\n",
       "end"
      ]
     },
     "metadata": {},
     "output_type": "display_data"
    }
   ],
   "source": [
    "fft_gen_impl3(8) |> cleanup"
   ]
  },
  {
   "cell_type": "code",
   "execution_count": 37,
   "metadata": {},
   "outputs": [
    {
     "data": {
      "text/plain": [
       "fft_gen3 (generic function with 1 method)"
      ]
     },
     "metadata": {},
     "output_type": "display_data"
    }
   ],
   "source": [
    "@generated function fft_gen3(a::NTuple{N,Float64}) where {N}\n",
    "    fft_gen_impl3(N)\n",
    "end"
   ]
  },
  {
   "cell_type": "code",
   "execution_count": 38,
   "metadata": {},
   "outputs": [
    {
     "data": {
      "text/plain": [
       "4-element Vector{ComplexF64}:\n",
       " 100.0 + 0.0im\n",
       " -20.0 + 20.0im\n",
       " -20.0 + 0.0im\n",
       " -20.0 - 20.0im"
      ]
     },
     "metadata": {},
     "output_type": "display_data"
    }
   ],
   "source": [
    "fft_gen3((10.0, 20.0, 30.0, 40.0))"
   ]
  },
  {
   "cell_type": "code",
   "execution_count": 39,
   "metadata": {},
   "outputs": [
    {
     "data": {
      "text/plain": [
       "\u001b[32m\u001b[1mTest Passed\u001b[22m\u001b[39m"
      ]
     },
     "metadata": {},
     "output_type": "display_data"
    }
   ],
   "source": [
    "test_fft(fft_gen3)"
   ]
  },
  {
   "cell_type": "markdown",
   "metadata": {},
   "source": [
    "## Без `MCst` и `MAny`\n",
    "\n",
    "Можно различать константы и без `MCst` и `MAny`.\n",
    "\n",
    "Но при этом (чуть-чуть) нарушается принцип, что \"нельзя заглядывать в генерируемый код\"."
   ]
  },
  {
   "cell_type": "code",
   "execution_count": 40,
   "metadata": {},
   "outputs": [
    {
     "data": {
      "text/plain": [
       "add_s (generic function with 4 methods)"
      ]
     },
     "metadata": {},
     "output_type": "display_data"
    }
   ],
   "source": [
    "\n",
    "add_s(x::Float64, y::Float64) =\n",
    "    x + y\n",
    "\n",
    "add_s(x::Float64, y) =\n",
    "    x == 0.0 ? y : :($x + $y)\n",
    "\n",
    "add_s(x, y::Float64) =\n",
    "    y == 0.0 ? x : :($x + $y)\n",
    "\n",
    "add_s(x, y) =\n",
    "    :($x + $y)"
   ]
  },
  {
   "cell_type": "code",
   "execution_count": 41,
   "metadata": {},
   "outputs": [
    {
     "data": {
      "text/plain": [
       "\u001b[32m\u001b[1mTest Passed\u001b[22m\u001b[39m"
      ]
     },
     "metadata": {},
     "output_type": "display_data"
    }
   ],
   "source": [
    "@test add_s(:(2.0), :(3.0)) == :(5.0)\n",
    "@test add_s(:(2.0), :(x)) == :(2.0 + x)\n",
    "@test add_s(:(0.0), :(x)) == :(x)\n",
    "@test add_s(:(x), :(2.0)) == :(x + 2.0)\n",
    "@test add_s(:(x), :(0.0)) == :(x)\n",
    "@test add_s(:(x), :(y)) == :(x + y)"
   ]
  },
  {
   "cell_type": "code",
   "execution_count": 42,
   "metadata": {},
   "outputs": [
    {
     "data": {
      "text/plain": [
       "sub_s (generic function with 4 methods)"
      ]
     },
     "metadata": {},
     "output_type": "display_data"
    }
   ],
   "source": [
    "sub_s(x::Float64, y::Float64) =\n",
    "    x - y\n",
    "\n",
    "sub_s(x::Float64, y) =\n",
    "    x == 0.0 ? :(-$y) : :($x - $y)\n",
    "\n",
    "sub_s(x, y::Float64) =\n",
    "    y == 0.0 ? x : :($x - $y)\n",
    "\n",
    "sub_s(x, y) =\n",
    "    :($x - $y)"
   ]
  },
  {
   "cell_type": "code",
   "execution_count": 43,
   "metadata": {},
   "outputs": [
    {
     "data": {
      "text/plain": [
       "\u001b[32m\u001b[1mTest Passed\u001b[22m\u001b[39m"
      ]
     },
     "metadata": {},
     "output_type": "display_data"
    }
   ],
   "source": [
    "@test sub_s(:(5.0), :(2.0)) == :(3.0)\n",
    "@test sub_s(:(2.0), :(x)) == :(2.0 - x)\n",
    "@test sub_s(:(0.0), :(x)) == :(-x)\n",
    "@test sub_s(:(x), :(2.0)) == :(x - 2.0)\n",
    "@test sub_s(:(x), :(0.0)) == :(x)\n",
    "@test sub_s(:(x), :(y)) == :(x - y)"
   ]
  },
  {
   "cell_type": "code",
   "execution_count": 44,
   "metadata": {},
   "outputs": [
    {
     "data": {
      "text/plain": [
       "mult_s (generic function with 4 methods)"
      ]
     },
     "metadata": {},
     "output_type": "display_data"
    }
   ],
   "source": [
    "mult_s(x::Float64, y::Float64) =\n",
    "    x * y\n",
    "\n",
    "mult_s(x::Float64, y) =\n",
    "    if x == 0.0\n",
    "        0.0\n",
    "    elseif x == 1.0\n",
    "        y\n",
    "    elseif x == -1.0\n",
    "        :(-$y)\n",
    "    else\n",
    "        :($x * $y)\n",
    "    end\n",
    "\n",
    "mult_s(x, y::Float64) =\n",
    "    if y == 0.0\n",
    "        0.0\n",
    "    elseif y == 1.0\n",
    "        x\n",
    "    elseif y == -1.0\n",
    "        :(-$x)\n",
    "    else\n",
    "        :($x * $y)\n",
    "    end\n",
    "\n",
    "mult_s(x, y) =\n",
    "    :($x * $y)"
   ]
  },
  {
   "cell_type": "code",
   "execution_count": 45,
   "metadata": {},
   "outputs": [
    {
     "data": {
      "text/plain": [
       "\u001b[32m\u001b[1mTest Passed\u001b[22m\u001b[39m"
      ]
     },
     "metadata": {},
     "output_type": "display_data"
    }
   ],
   "source": [
    "@test mult_s(2.0, 3.0) == 6.0\n",
    "@test mult_s(10.0, :x) ==:(10.0 * x)\n",
    "@test mult_s(0.0, :x) == 0.0\n",
    "@test mult_s(1.0, :x) == :x\n",
    "@test mult_s(-1.0, :x) == :(- x)\n",
    "@test mult_s(:x, 20.0) == :(x * 20.0)\n",
    "@test mult_s(:x, 0.0) == 0.0\n",
    "@test mult_s(:x, 1.0) == :x\n",
    "@test mult_s(:x, -1.0) == :(-x)\n",
    "@test mult_s(:x, :y) == :(x * y)"
   ]
  },
  {
   "cell_type": "code",
   "execution_count": 46,
   "metadata": {},
   "outputs": [
    {
     "data": {
      "text/plain": [
       "mult_i_s (generic function with 1 method)"
      ]
     },
     "metadata": {},
     "output_type": "display_data"
    }
   ],
   "source": [
    "mult_r_s(c_r, c_i, y_r, y_i) =\n",
    "    if c_r == c_i\n",
    "        mult_s(c_r, sub_s(y_r, y_i))\n",
    "    elseif c_r == -c_i\n",
    "        mult_s(c_r, add_s(y_r, y_i))\n",
    "    else\n",
    "        sub_s(mult_s(c_r, y_r), mult_s(c_i, y_i))\n",
    "    end\n",
    "\n",
    "mult_i_s(c_r, c_i, y_r, y_i) =\n",
    "    if c_r == c_i\n",
    "        mult_s(c_r, add_s(y_i, y_r))\n",
    "    elseif c_r == -c_i\n",
    "        mult_s(c_r, sub_s(y_i, y_r))\n",
    "    else\n",
    "        add_s(mult_s(c_r, y_i), mult_s(c_i, y_r))\n",
    "    end"
   ]
  },
  {
   "cell_type": "code",
   "execution_count": 47,
   "metadata": {},
   "outputs": [
    {
     "data": {
      "text/plain": [
       "ass_e! (generic function with 3 methods)"
      ]
     },
     "metadata": {},
     "output_type": "display_data"
    }
   ],
   "source": [
    "function ass_e!(es, d, s::Symbol, c::Float64)\n",
    "    d[s] = c\n",
    "end\n",
    "\n",
    "function ass_e!(es, d, s::Symbol, u::Symbol)\n",
    "    d[s] = u\n",
    "end\n",
    "\n",
    "function ass_e!(es, d, s::Symbol, e)\n",
    "    d[s] = s\n",
    "    push!(es, :($s = $e))\n",
    "end"
   ]
  },
  {
   "cell_type": "code",
   "execution_count": 48,
   "metadata": {},
   "outputs": [
    {
     "data": {
      "text/plain": [
       "fft_gen_impl4! (generic function with 1 method)"
      ]
     },
     "metadata": {},
     "output_type": "display_data"
    }
   ],
   "source": [
    "function fft_gen_impl4!(a, d, es, m)\n",
    "    n = length(a)\n",
    "\n",
    "    b_r = [Symbol(\"b_r_\", m[], \"_\", k) for k in 1:n]\n",
    "    b_i = [Symbol(\"b_i_\", m[], \"_\", k) for k in 1:n]\n",
    "    m[] += 1\n",
    "\n",
    "    if isone(n)\n",
    "        ass_e!(es, d, b_r[1], a[1])\n",
    "        ass_e!(es, d, b_i[1], 0.0)\n",
    "        return [d[b_r[1]]], [d[b_i[1]]]\n",
    "    end\n",
    "\n",
    "    n2 = n ÷ 2\n",
    "    a1 = [a[k] for k in 1:2:n]\n",
    "    a2 = [a[k] for k in 2:2:n]\n",
    "\n",
    "    y1_r, y1_i = fft_gen_impl4!(a1, d, es, m)\n",
    "    y2_r, y2_i = fft_gen_impl4!(a2, d, es, m)\n",
    "\n",
    "    for k in 1:n2\n",
    "        t_r = Symbol(\"t_r_\", m[])\n",
    "        t_i = Symbol(\"t_i_\", m[])\n",
    "        m[] += 1\n",
    "\n",
    "        (wk_r, wk_i) = wp(n, k - 1)\n",
    "        ass_e!(es, d, t_r,\n",
    "            mult_r_s(wk_r, wk_i, y2_r[k], y2_i[k]))\n",
    "        ass_e!(es, d, t_i,\n",
    "            mult_i_s(wk_r, wk_i, y2_r[k], y2_i[k]))\n",
    "        ass_e!(es, d, b_r[k],\n",
    "            add_s(y1_r[k], d[t_r]))\n",
    "        ass_e!(es, d, b_i[k],\n",
    "            add_s(y1_i[k], d[t_i]))\n",
    "        ass_e!(es, d, b_r[k+n2],\n",
    "            sub_s(y1_r[k], d[t_r]))\n",
    "        ass_e!(es, d, b_i[k+n2],\n",
    "            sub_s(y1_i[k], d[t_i]))\n",
    "    end\n",
    "\n",
    "    d_b_r = [d[b_r[k]] for k in 1:n]\n",
    "    d_b_i = [d[b_i[k]] for k in 1:n]\n",
    "    return d_b_r, d_b_i\n",
    "end"
   ]
  },
  {
   "cell_type": "code",
   "execution_count": 49,
   "metadata": {},
   "outputs": [
    {
     "data": {
      "text/plain": [
       "fft_gen_impl4 (generic function with 1 method)"
      ]
     },
     "metadata": {},
     "output_type": "display_data"
    }
   ],
   "source": [
    "function fft_gen_impl4(n)\n",
    "    @assert n > 0 && ispow2(n)\n",
    "\n",
    "    a = [:(a[$k]) for k in 1:n]\n",
    "    d = Dict{Symbol,Any}()\n",
    "    es = Expr[]\n",
    "    m = Ref(1)\n",
    "\n",
    "    b_r, b_i = fft_gen_impl4!(a, d, es, m)\n",
    "\n",
    "    b = [:(complex($(b_r[k]), $(b_i[k]))) for k in 1:n]\n",
    "\n",
    "    quote\n",
    "        $(es...)\n",
    "        return $(Expr(:vect, b...))\n",
    "    end\n",
    "end"
   ]
  },
  {
   "cell_type": "code",
   "execution_count": 50,
   "metadata": {},
   "outputs": [
    {
     "data": {
      "text/plain": [
       "quote\n",
       "    b_r_4_1 = a[1]\n",
       "    b_r_5_1 = a[5]\n",
       "    b_r_3_1 = b_r_4_1 + b_r_5_1\n",
       "    b_r_3_2 = b_r_4_1 - b_r_5_1\n",
       "    b_r_8_1 = a[3]\n",
       "    b_r_9_1 = a[7]\n",
       "    b_r_7_1 = b_r_8_1 + b_r_9_1\n",
       "    b_r_7_2 = b_r_8_1 - b_r_9_1\n",
       "    b_r_2_1 = b_r_3_1 + b_r_7_1\n",
       "    b_r_2_3 = b_r_3_1 - b_r_7_1\n",
       "    t_i_12 = -b_r_7_2\n",
       "    b_i_2_4 = -t_i_12\n",
       "    b_r_15_1 = a[2]\n",
       "    b_r_16_1 = a[6]\n",
       "    b_r_14_1 = b_r_15_1 + b_r_16_1\n",
       "    b_r_14_2 = b_r_15_1 - b_r_16_1\n",
       "    b_r_19_1 = a[4]\n",
       "    b_r_20_1 = a[8]\n",
       "    b_r_18_1 = b_r_19_1 + b_r_20_1\n",
       "    b_r_18_2 = b_r_19_1 - b_r_20_1\n",
       "    b_r_13_1 = b_r_14_1 + b_r_18_1\n",
       "    b_r_13_3 = b_r_14_1 - b_r_18_1\n",
       "    t_i_23 = -b_r_18_2\n",
       "    b_i_13_4 = -t_i_23\n",
       "    b_r_1_1 = b_r_2_1 + b_r_13_1\n",
       "    b_r_1_5 = b_r_2_1 - b_r_13_1\n",
       "    t_r_25 = 0.7071067811865476 * (b_r_14_2 + t_i_23)\n",
       "    t_i_25 = 0.7071067811865476 * (t_i_23 - b_r_14_2)\n",
       "    b_r_1_2 = b_r_3_2 + t_r_25\n",
       "    b_i_1_2 = t_i_12 + t_i_25\n",
       "    b_r_1_6 = b_r_3_2 - t_r_25\n",
       "    b_i_1_6 = t_i_12 - t_i_25\n",
       "    t_i_26 = -b_r_13_3\n",
       "    b_i_1_7 = -t_i_26\n",
       "    t_r_27 = -0.7071067811865476 * (b_r_14_2 - b_i_13_4)\n",
       "    t_i_27 = -0.7071067811865476 * (b_i_13_4 + b_r_14_2)\n",
       "    b_r_1_4 = b_r_3_2 + t_r_27\n",
       "    b_i_1_4 = b_i_2_4 + t_i_27\n",
       "    b_r_1_8 = b_r_3_2 - t_r_27\n",
       "    b_i_1_8 = b_i_2_4 - t_i_27\n",
       "    return [complex(b_r_1_1, 0.0), complex(b_r_1_2, b_i_1_2), complex(b_r_2_3, t_i_26), complex(b_r_1_4, b_i_1_4), complex(b_r_1_5, 0.0), complex(b_r_1_6, b_i_1_6), complex(b_r_2_3, b_i_1_7), complex(b_r_1_8, b_i_1_8)]\n",
       "end"
      ]
     },
     "metadata": {},
     "output_type": "display_data"
    }
   ],
   "source": [
    "fft_gen_impl4(8) |> cleanup"
   ]
  },
  {
   "cell_type": "code",
   "execution_count": 51,
   "metadata": {},
   "outputs": [
    {
     "data": {
      "text/plain": [
       "fft_gen4 (generic function with 1 method)"
      ]
     },
     "metadata": {},
     "output_type": "display_data"
    }
   ],
   "source": [
    "@generated function fft_gen4(a::NTuple{N,Float64}) where {N}\n",
    "    fft_gen_impl4(N)\n",
    "end"
   ]
  },
  {
   "cell_type": "code",
   "execution_count": 52,
   "metadata": {},
   "outputs": [
    {
     "data": {
      "text/plain": [
       "4-element Vector{ComplexF64}:\n",
       " 100.0 + 0.0im\n",
       " -20.0 + 20.0im\n",
       " -20.0 + 0.0im\n",
       " -20.0 - 20.0im"
      ]
     },
     "metadata": {},
     "output_type": "display_data"
    }
   ],
   "source": [
    "fft_gen4((10.0, 20.0, 30.0, 40.0))"
   ]
  },
  {
   "cell_type": "code",
   "execution_count": 53,
   "metadata": {},
   "outputs": [
    {
     "data": {
      "text/plain": [
       "\u001b[32m\u001b[1mTest Passed\u001b[22m\u001b[39m"
      ]
     },
     "metadata": {},
     "output_type": "display_data"
    }
   ],
   "source": [
    "test_fft(fft_gen4)"
   ]
  },
  {
   "cell_type": "markdown",
   "metadata": {},
   "source": [
    "## Упрощение выражений через переписывание"
   ]
  },
  {
   "cell_type": "code",
   "execution_count": 54,
   "metadata": {},
   "outputs": [],
   "source": [
    "using MacroTools"
   ]
  },
  {
   "cell_type": "code",
   "execution_count": 55,
   "metadata": {},
   "outputs": [
    {
     "data": {
      "text/plain": [
       "opt_expr (generic function with 1 method)"
      ]
     },
     "metadata": {},
     "output_type": "display_data"
    }
   ],
   "source": [
    "function opt_step(e)\n",
    "    if @capture(e, x_Float64 + y_Float64)\n",
    "        x + y\n",
    "    elseif @capture(e, x_ + 0.0)\n",
    "        x\n",
    "    elseif @capture(e, 0.0 + y_)\n",
    "        y\n",
    "    elseif @capture(e, x_Float64 - y_Float64)\n",
    "        x - y\n",
    "    elseif @capture(e, x_ - 0.0)\n",
    "        x\n",
    "    elseif @capture(e, 0.0 - y_)\n",
    "        :(-$y)\n",
    "    elseif @capture(e, x_Float64 * y_Float64)\n",
    "        x * y\n",
    "    elseif @capture(e, x_ * 0.0)\n",
    "        0.0\n",
    "    elseif @capture(e, 0.0 * y_)\n",
    "        0.0\n",
    "    elseif @capture(e, x_ * 1.0)\n",
    "        x\n",
    "    elseif @capture(e, 1.0 * y_)\n",
    "        y\n",
    "    elseif @capture(e, x_ * -1.0)\n",
    "        :(-$x)\n",
    "    elseif @capture(e, -1.0 * y_)\n",
    "        :(-$y)\n",
    "    elseif @capture(e, x_ + (-y_))\n",
    "        :($x - $y)\n",
    "    elseif @capture(e, x_ - (-y_))\n",
    "        :($x + $y)\n",
    "    elseif @capture(e, c1_Float64 * x_ + c2_Float64 * y_) && c1 == c2\n",
    "        :($c1 * ($x + $y))\n",
    "    elseif @capture(e, c1_Float64 * x_ - c2_Float64 * y_) && c1 == c2\n",
    "        :($c1 * ($x - $y))\n",
    "    elseif @capture(e, c1_Float64 * x_ + c2_Float64 * y_) && c1 == -c2\n",
    "        :($c1 * ($x - $y))\n",
    "    elseif @capture(e, c1_Float64 * x_ - c2_Float64 * y_) && c1 == -c2\n",
    "        :($c1 * ($x + $y))\n",
    "    else\n",
    "        e\n",
    "    end\n",
    "end\n",
    "\n",
    "opt_expr(e) = MacroTools.postwalk(opt_step, e)"
   ]
  },
  {
   "cell_type": "code",
   "execution_count": 56,
   "metadata": {},
   "outputs": [
    {
     "data": {
      "text/plain": [
       "\u001b[32m\u001b[1mTest Passed\u001b[22m\u001b[39m"
      ]
     },
     "metadata": {},
     "output_type": "display_data"
    }
   ],
   "source": [
    "@test opt_expr(:(2.0 + 3.0)) == 5.0\n",
    "@test opt_expr(:(x + 0.0)) == :x\n",
    "@test opt_expr(:(0.0 + y)) == :y\n",
    "@test opt_expr(:(2.0 - 3.0)) == -1.0\n",
    "@test opt_expr(:(x - 0.0)) == :x\n",
    "@test opt_expr(:(0.0 - y)) == :(-y)\n",
    "@test opt_expr(:(2.0 * 3.0)) == 6.0\n",
    "@test opt_expr(:(x * 0.0)) == 0.0\n",
    "@test opt_expr(:(0.0 * y)) == 0.0\n",
    "@test opt_expr(:(u * 1.0)) == :u\n",
    "@test opt_expr(:(1.0 * v)) == :v\n",
    "@test opt_expr(:(u * -1.0)) == :(-u)\n",
    "@test opt_expr(:(u + (-v))) == :(u - v)\n",
    "@test opt_expr(:(u - (-v))) == :(u + v)\n",
    "@test opt_expr(:(10.0 * u + 10.0 * v)) == :(10.0 * (u + v))\n",
    "@test opt_expr(:(10.0 * u + 20.0 * v)) == :(10.0 * u + 20.0 * v)\n",
    "@test opt_expr(:(10.0 * u - 10.0 * v)) == :(10.0 * (u - v))\n",
    "@test opt_expr(:(10.0 * u - 20.0 * v)) == :(10.0 * u - 20.0 * v)\n",
    "@test opt_expr(:(10.0 * u + -10.0 * v)) == :(10.0 * (u - v))\n",
    "@test opt_expr(:(10.0 * u - -10.0 * v)) == :(10.0 * (u + v))"
   ]
  },
  {
   "cell_type": "code",
   "execution_count": 57,
   "metadata": {},
   "outputs": [
    {
     "data": {
      "text/plain": [
       "do_ass_o! (generic function with 3 methods)"
      ]
     },
     "metadata": {},
     "output_type": "display_data"
    }
   ],
   "source": [
    "function do_ass_o!(es, d, s::Symbol, c::Float64)\n",
    "    d[s] = c\n",
    "end\n",
    "\n",
    "function do_ass_o!(es, d, s::Symbol, u::Symbol)\n",
    "    d[s] = u\n",
    "end\n",
    "\n",
    "function do_ass_o!(es, d, s::Symbol, e)\n",
    "    d[s] = s\n",
    "    push!(es, :($s = $e))\n",
    "end"
   ]
  },
  {
   "cell_type": "code",
   "execution_count": 58,
   "metadata": {},
   "outputs": [
    {
     "data": {
      "text/plain": [
       "ass_o! (generic function with 1 method)"
      ]
     },
     "metadata": {},
     "output_type": "display_data"
    }
   ],
   "source": [
    "function ass_o!(es, d, s::Symbol, e)\n",
    "    do_ass_o!(es, d, s, opt_expr(e))\n",
    "end"
   ]
  },
  {
   "cell_type": "code",
   "execution_count": 59,
   "metadata": {},
   "outputs": [
    {
     "data": {
      "text/plain": [
       "fft_gen_impl5! (generic function with 1 method)"
      ]
     },
     "metadata": {},
     "output_type": "display_data"
    }
   ],
   "source": [
    "function fft_gen_impl5!(a, d, es, m)\n",
    "    n = length(a)\n",
    "\n",
    "    b_r = [Symbol(\"b_r_\", m[], \"_\", k) for k in 1:n]\n",
    "    b_i = [Symbol(\"b_i_\", m[], \"_\", k) for k in 1:n]\n",
    "    m[] += 1\n",
    "\n",
    "    if isone(n)\n",
    "        ass_o!(es, d, b_r[1], a[1])\n",
    "        ass_o!(es, d, b_i[1], 0.0)\n",
    "        return [d[b_r[1]]], [d[b_i[1]]]\n",
    "    end\n",
    "\n",
    "    n2 = n ÷ 2\n",
    "    a1 = [a[k] for k in 1:2:n]\n",
    "    a2 = [a[k] for k in 2:2:n]\n",
    "\n",
    "    y1_r, y1_i = fft_gen_impl5!(a1, d, es, m)\n",
    "    y2_r, y2_i = fft_gen_impl5!(a2, d, es, m)\n",
    "\n",
    "    for k in 1:n2\n",
    "        t_r = Symbol(\"t_r_\", m[])\n",
    "        t_i = Symbol(\"t_i_\", m[])\n",
    "        m[] += 1\n",
    "\n",
    "        (wk_r, wk_i) = wp(n, k - 1)\n",
    "        ass_o!(es, d, t_r,\n",
    "            :($wk_r * $(y2_r[k]) - $wk_i * $(y2_i[k])))\n",
    "        ass_o!(es, d, t_i,\n",
    "            :($wk_r * $(y2_i[k]) + $wk_i * $(y2_r[k])))\n",
    "        ass_o!(es, d, b_r[k],\n",
    "            :($(y1_r[k]) + $(d[t_r])))\n",
    "        ass_o!(es, d, b_i[k],\n",
    "            :($(y1_i[k]) + $(d[t_i])))\n",
    "        ass_o!(es, d, b_r[k+n2],\n",
    "            :($(y1_r[k]) - $(d[t_r])))\n",
    "        ass_o!(es, d, b_i[k+n2],\n",
    "            :($(y1_i[k]) - $(d[t_i])))\n",
    "    end\n",
    "\n",
    "    d_b_r = [d[b_r[k]] for k in 1:n]\n",
    "    d_b_i = [d[b_i[k]] for k in 1:n]\n",
    "    return d_b_r, d_b_i\n",
    "end"
   ]
  },
  {
   "cell_type": "code",
   "execution_count": 60,
   "metadata": {},
   "outputs": [
    {
     "data": {
      "text/plain": [
       "fft_gen_impl5 (generic function with 1 method)"
      ]
     },
     "metadata": {},
     "output_type": "display_data"
    }
   ],
   "source": [
    "function fft_gen_impl5(n)\n",
    "    @assert n > 0 && ispow2(n)\n",
    "\n",
    "    a = [:(a[$k]) for k in 1:n]\n",
    "    d = Dict{Symbol,Any}()\n",
    "    es = Expr[]\n",
    "    m = Ref(1)\n",
    "\n",
    "    b_r, b_i = fft_gen_impl5!(a, d, es, m)\n",
    "\n",
    "    b = [:(complex($(b_r[k]), $(b_i[k]))) for k in 1:n]\n",
    "\n",
    "    quote\n",
    "        $(es...)\n",
    "        return $(Expr(:vect, b...))\n",
    "    end\n",
    "end"
   ]
  },
  {
   "cell_type": "code",
   "execution_count": 61,
   "metadata": {},
   "outputs": [
    {
     "data": {
      "text/plain": [
       "quote\n",
       "    b_r_4_1 = a[1]\n",
       "    b_r_5_1 = a[5]\n",
       "    b_r_3_1 = b_r_4_1 + b_r_5_1\n",
       "    b_r_3_2 = b_r_4_1 - b_r_5_1\n",
       "    b_r_8_1 = a[3]\n",
       "    b_r_9_1 = a[7]\n",
       "    b_r_7_1 = b_r_8_1 + b_r_9_1\n",
       "    b_r_7_2 = b_r_8_1 - b_r_9_1\n",
       "    b_r_2_1 = b_r_3_1 + b_r_7_1\n",
       "    b_r_2_3 = b_r_3_1 - b_r_7_1\n",
       "    t_i_12 = -b_r_7_2\n",
       "    b_i_2_4 = -t_i_12\n",
       "    b_r_15_1 = a[2]\n",
       "    b_r_16_1 = a[6]\n",
       "    b_r_14_1 = b_r_15_1 + b_r_16_1\n",
       "    b_r_14_2 = b_r_15_1 - b_r_16_1\n",
       "    b_r_19_1 = a[4]\n",
       "    b_r_20_1 = a[8]\n",
       "    b_r_18_1 = b_r_19_1 + b_r_20_1\n",
       "    b_r_18_2 = b_r_19_1 - b_r_20_1\n",
       "    b_r_13_1 = b_r_14_1 + b_r_18_1\n",
       "    b_r_13_3 = b_r_14_1 - b_r_18_1\n",
       "    t_i_23 = -b_r_18_2\n",
       "    b_i_13_4 = -t_i_23\n",
       "    b_r_1_1 = b_r_2_1 + b_r_13_1\n",
       "    b_r_1_5 = b_r_2_1 - b_r_13_1\n",
       "    t_r_25 = 0.7071067811865476 * (b_r_14_2 + t_i_23)\n",
       "    t_i_25 = 0.7071067811865476 * (t_i_23 - b_r_14_2)\n",
       "    b_r_1_2 = b_r_3_2 + t_r_25\n",
       "    b_i_1_2 = t_i_12 + t_i_25\n",
       "    b_r_1_6 = b_r_3_2 - t_r_25\n",
       "    b_i_1_6 = t_i_12 - t_i_25\n",
       "    t_i_26 = -b_r_13_3\n",
       "    b_i_1_7 = -t_i_26\n",
       "    t_r_27 = -0.7071067811865476 * (b_r_14_2 - b_i_13_4)\n",
       "    t_i_27 = -0.7071067811865476 * (b_i_13_4 + b_r_14_2)\n",
       "    b_r_1_4 = b_r_3_2 + t_r_27\n",
       "    b_i_1_4 = b_i_2_4 + t_i_27\n",
       "    b_r_1_8 = b_r_3_2 - t_r_27\n",
       "    b_i_1_8 = b_i_2_4 - t_i_27\n",
       "    return [complex(b_r_1_1, 0.0), complex(b_r_1_2, b_i_1_2), complex(b_r_2_3, t_i_26), complex(b_r_1_4, b_i_1_4), complex(b_r_1_5, 0.0), complex(b_r_1_6, b_i_1_6), complex(b_r_2_3, b_i_1_7), complex(b_r_1_8, b_i_1_8)]\n",
       "end"
      ]
     },
     "metadata": {},
     "output_type": "display_data"
    }
   ],
   "source": [
    "fft_gen_impl5(8) |> cleanup"
   ]
  },
  {
   "cell_type": "code",
   "execution_count": 62,
   "metadata": {},
   "outputs": [
    {
     "data": {
      "text/plain": [
       "fft_gen5 (generic function with 1 method)"
      ]
     },
     "metadata": {},
     "output_type": "display_data"
    }
   ],
   "source": [
    "@generated function fft_gen5(a::NTuple{N,Float64}) where {N}\n",
    "    fft_gen_impl5(N)\n",
    "end"
   ]
  },
  {
   "cell_type": "code",
   "execution_count": 63,
   "metadata": {},
   "outputs": [
    {
     "data": {
      "text/plain": [
       "4-element Vector{ComplexF64}:\n",
       " 100.0 + 0.0im\n",
       " -20.0 + 20.0im\n",
       " -20.0 + 0.0im\n",
       " -20.0 - 20.0im"
      ]
     },
     "metadata": {},
     "output_type": "display_data"
    }
   ],
   "source": [
    "fft_gen5((10.0, 20.0, 30.0, 40.0))"
   ]
  },
  {
   "cell_type": "code",
   "execution_count": 64,
   "metadata": {},
   "outputs": [
    {
     "data": {
      "text/plain": [
       "\u001b[32m\u001b[1mTest Passed\u001b[22m\u001b[39m"
      ]
     },
     "metadata": {},
     "output_type": "display_data"
    }
   ],
   "source": [
    "test_fft(fft_gen5)"
   ]
  }
 ],
 "metadata": {
  "kernelspec": {
   "display_name": "Julia 1.10.5",
   "language": "julia",
   "name": "julia-1.10"
  },
  "language_info": {
   "file_extension": ".jl",
   "mimetype": "application/julia",
   "name": "julia",
   "version": "1.10.5"
  }
 },
 "nbformat": 4,
 "nbformat_minor": 2
}
