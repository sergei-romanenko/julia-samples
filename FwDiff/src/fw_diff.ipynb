{
 "cells": [
  {
   "cell_type": "markdown",
   "metadata": {},
   "source": [
    "# Forward differentiation"
   ]
  },
  {
   "cell_type": "markdown",
   "metadata": {},
   "source": [
    "See\n",
    "\n",
    "- [Simple forward-mode AD in Julia using Dual Numbers and Operator Overloading](https://www.youtube.com/watch?v=DfKKTE9XU0Q&list=PLISXH-iEM4JkHNH8Ji0ELDYcak7FD5gqa)\n",
    "\n",
    "- [Simple (scalar) forward-mode Automatic Differentiation with DualNumbers and operator overloading](https://github.com/Ceyron/machine-learning-and-simulation/blob/main/english/adjoints_sensitivities_automatic_differentiation/scalar_forward_ad_with_dual_numbers.jl)\n",
    "\n"
   ]
  },
  {
   "cell_type": "code",
   "execution_count": 1,
   "metadata": {},
   "outputs": [],
   "source": [
    "struct DualNumber{T}\n",
    "    real::T;\n",
    "    dual::T;\n",
    "end"
   ]
  },
  {
   "cell_type": "code",
   "execution_count": 2,
   "metadata": {},
   "outputs": [
    {
     "data": {
      "text/plain": [
       "DualNumber"
      ]
     },
     "metadata": {},
     "output_type": "display_data"
    }
   ],
   "source": [
    "DualNumber(x) = DualNumber(x, zero(x))"
   ]
  },
  {
   "cell_type": "code",
   "execution_count": 3,
   "metadata": {},
   "outputs": [
    {
     "data": {
      "text/plain": [
       "3.0"
      ]
     },
     "metadata": {},
     "output_type": "display_data"
    }
   ],
   "source": [
    "f(x) = x * x\n",
    "f_prime(x) = 2.0 * x\n",
    "x_point = 3.0"
   ]
  },
  {
   "cell_type": "code",
   "execution_count": 4,
   "metadata": {},
   "outputs": [
    {
     "data": {
      "text/plain": [
       "(9.0, 6.0)"
      ]
     },
     "metadata": {},
     "output_type": "display_data"
    }
   ],
   "source": [
    "f(x_point), f_prime(x_point)"
   ]
  },
  {
   "cell_type": "code",
   "execution_count": 5,
   "metadata": {},
   "outputs": [
    {
     "data": {
      "text/plain": [
       "pushforward (generic function with 1 method)"
      ]
     },
     "metadata": {},
     "output_type": "display_data"
    }
   ],
   "source": [
    "function pushforward(f, primal::Real, tangent::Real)\n",
    "    input = DualNumber(primal, tangent)\n",
    "    output = f(input)\n",
    "    primal_out = output.real\n",
    "    tangent_out = output.dual\n",
    "    return primal_out, tangent_out\n",
    "end"
   ]
  },
  {
   "cell_type": "code",
   "execution_count": 6,
   "metadata": {},
   "outputs": [
    {
     "data": {
      "text/plain": [
       "derivative (generic function with 1 method)"
      ]
     },
     "metadata": {},
     "output_type": "display_data"
    }
   ],
   "source": [
    "function derivative(f, x::Real)\n",
    "    v = one(x)\n",
    "    _, df_dx = pushforward(f, x, v)\n",
    "    return df_dx\n",
    "end"
   ]
  },
  {
   "cell_type": "code",
   "execution_count": 7,
   "metadata": {},
   "outputs": [
    {
     "data": {
      "text/plain": [
       "MethodError(*, (DualNumber{Float64}(3.0, 1.0), DualNumber{Float64}(3.0, 1.0)), 0x00000000000082cc)"
      ]
     },
     "metadata": {},
     "output_type": "display_data"
    }
   ],
   "source": [
    "try\n",
    "    derivative(f, x_point)\n",
    "catch e\n",
    "    e\n",
    "end"
   ]
  },
  {
   "cell_type": "markdown",
   "metadata": {},
   "source": [
    "$(f\\,g)' = f\\, g' + f'\\,g$"
   ]
  },
  {
   "cell_type": "code",
   "execution_count": 8,
   "metadata": {},
   "outputs": [],
   "source": [
    "Base.:*(x::DualNumber, y::DualNumber) =\n",
    "    DualNumber(x.real * y.real, x.real * y.dual + x.dual * y.real)\n",
    "Base.:*(x, y::DualNumber) =\n",
    "    DualNumber(x) * y"
   ]
  },
  {
   "cell_type": "code",
   "execution_count": 9,
   "metadata": {},
   "outputs": [
    {
     "data": {
      "text/plain": [
       "(9.0, 60.0)"
      ]
     },
     "metadata": {},
     "output_type": "display_data"
    }
   ],
   "source": [
    "pushforward(f, x_point, 10.0)"
   ]
  },
  {
   "cell_type": "code",
   "execution_count": 10,
   "metadata": {},
   "outputs": [
    {
     "data": {
      "text/plain": [
       "6.0"
      ]
     },
     "metadata": {},
     "output_type": "display_data"
    }
   ],
   "source": [
    "derivative(f, x_point)"
   ]
  },
  {
   "cell_type": "code",
   "execution_count": 11,
   "metadata": {},
   "outputs": [
    {
     "data": {
      "text/plain": [
       "(27.14112000805987, 17.010007503399553)"
      ]
     },
     "metadata": {},
     "output_type": "display_data"
    }
   ],
   "source": [
    "g(x) = 3.0 * x * x + sin(x)\n",
    "g_prime(x) = 6.0 * x + cos(x)\n",
    "\n",
    "g(x_point), g_prime(x_point)"
   ]
  },
  {
   "cell_type": "code",
   "execution_count": 12,
   "metadata": {},
   "outputs": [
    {
     "data": {
      "text/plain": [
       "MethodError(sin, (DualNumber{Float64}(3.0, 1.0),), 0x00000000000082d0)"
      ]
     },
     "metadata": {},
     "output_type": "display_data"
    }
   ],
   "source": [
    "try\n",
    "    derivative(g, x_point)\n",
    "catch e\n",
    "    e\n",
    "end"
   ]
  },
  {
   "cell_type": "markdown",
   "metadata": {},
   "source": [
    "- $(\\sin x)' = \\cos x$\n",
    "- $y = f(g(x)) ⇒ y' = f'(g(x))\\,g'(x) $"
   ]
  },
  {
   "cell_type": "code",
   "execution_count": 13,
   "metadata": {},
   "outputs": [],
   "source": [
    "Base.sin(z::DualNumber) = DualNumber(sin(z.real), cos(z.real) * z.dual)"
   ]
  },
  {
   "cell_type": "code",
   "execution_count": 14,
   "metadata": {},
   "outputs": [
    {
     "data": {
      "text/plain": [
       "MethodError(+, (DualNumber{Float64}(27.0, 18.0), DualNumber{Float64}(0.1411200080598672, -0.9899924966004454)), 0x00000000000082d1)"
      ]
     },
     "metadata": {},
     "output_type": "display_data"
    }
   ],
   "source": [
    "try\n",
    "    derivative(g, x_point)\n",
    "catch e\n",
    "    e\n",
    "end"
   ]
  },
  {
   "cell_type": "code",
   "execution_count": 15,
   "metadata": {},
   "outputs": [],
   "source": [
    "Base.:+(x::DualNumber, y::DualNumber) =\n",
    "    DualNumber(x.real + y.real, x.dual + y.dual)\n",
    "Base.:+(x, y::DualNumber) =\n",
    "    DualNumber(x) * y\n"
   ]
  },
  {
   "cell_type": "code",
   "execution_count": 16,
   "metadata": {},
   "outputs": [
    {
     "data": {
      "text/plain": [
       "17.010007503399553"
      ]
     },
     "metadata": {},
     "output_type": "display_data"
    }
   ],
   "source": [
    "derivative(g, x_point)"
   ]
  },
  {
   "cell_type": "markdown",
   "metadata": {},
   "source": [
    "See\n",
    "\n",
    "- [Automatic Differentiation in 10 minutes with Julia](https://www.youtube.com/watch?v=vAp6nUMrKYg)"
   ]
  },
  {
   "cell_type": "markdown",
   "metadata": {},
   "source": [
    "## Babylonian sqrt\n",
    "\n",
    "Repeat $t ← (t + x/t)/2$ until $t$ converges to $\\sqrt x$."
   ]
  },
  {
   "cell_type": "code",
   "execution_count": 17,
   "metadata": {},
   "outputs": [
    {
     "data": {
      "text/plain": [
       "babylonian (generic function with 1 method)"
      ]
     },
     "metadata": {},
     "output_type": "display_data"
    }
   ],
   "source": [
    "function babylonian(x; N=10)\n",
    "    t = (1.0 + x) / 2.0\n",
    "    for i = 2:N\n",
    "        t = (t + x / t) / 2.0\n",
    "    end\n",
    "    t\n",
    "end"
   ]
  },
  {
   "cell_type": "code",
   "execution_count": 18,
   "metadata": {},
   "outputs": [
    {
     "data": {
      "text/plain": [
       "(1.4142135623730951, 1.414213562373095)"
      ]
     },
     "metadata": {},
     "output_type": "display_data"
    }
   ],
   "source": [
    "sqrt(2.0), babylonian(2.0)"
   ]
  },
  {
   "cell_type": "code",
   "execution_count": 19,
   "metadata": {},
   "outputs": [
    {
     "data": {
      "text/plain": [
       "0.35355339059327373"
      ]
     },
     "metadata": {},
     "output_type": "display_data"
    }
   ],
   "source": [
    "sqrt_prime(x) = 0.5 / sqrt(x)\n",
    "sqrt_prime(2.0)"
   ]
  },
  {
   "cell_type": "code",
   "execution_count": 20,
   "metadata": {},
   "outputs": [
    {
     "data": {
      "text/plain": [
       "MethodError(/, (DualNumber{Float64}(2.0, 1.0), 2.0), 0x00000000000082d7)"
      ]
     },
     "metadata": {},
     "output_type": "display_data"
    }
   ],
   "source": [
    "try\n",
    "    derivative(babylonian, 2.0)\n",
    "catch e\n",
    "    e\n",
    "end"
   ]
  },
  {
   "cell_type": "markdown",
   "metadata": {},
   "source": [
    "$(f/g)' = (f'g - fg')/g^2$"
   ]
  },
  {
   "cell_type": "code",
   "execution_count": 21,
   "metadata": {},
   "outputs": [],
   "source": [
    "Base.:/(x::DualNumber, y::DualNumber) =\n",
    "    DualNumber(x.real / y.real, (x.dual * y.real - x.real * y.dual) / (y.real * y.real))\n",
    "Base.:/(x::DualNumber, y) =\n",
    "    x / DualNumber(y)"
   ]
  },
  {
   "cell_type": "code",
   "execution_count": 22,
   "metadata": {},
   "outputs": [
    {
     "data": {
      "text/plain": [
       "(0.35355339059327373, 0.35355339059327373)"
      ]
     },
     "metadata": {},
     "output_type": "display_data"
    }
   ],
   "source": [
    "derivative(babylonian, 2.0), sqrt_prime(2.0)"
   ]
  }
 ],
 "metadata": {
  "kernelspec": {
   "display_name": "Julia 1.9.4",
   "language": "julia",
   "name": "julia-1.9"
  },
  "language_info": {
   "file_extension": ".jl",
   "mimetype": "application/julia",
   "name": "julia",
   "version": "1.9.4"
  }
 },
 "nbformat": 4,
 "nbformat_minor": 2
}
