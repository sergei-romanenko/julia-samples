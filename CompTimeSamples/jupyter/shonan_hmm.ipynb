{
 "cells": [
  {
   "cell_type": "markdown",
   "metadata": {},
   "source": [
    "# Hidden Markov model\n",
    " \n",
    "Finding the probability of observing a particular state as the next state in the HMM involves a matrix-vector multiplication, where the matrix contains the state transition probabilities. Depending on the sparsity level of this matrix, some loops must be unrolled automatically (fully or partially), and the transformations $0 ∗ x = 0$ and $0 + x = x$ need to be performed."
   ]
  },
  {
   "cell_type": "markdown",
   "metadata": {},
   "source": [
    "Kenichi Asai posted a simplified version of the HMM problem. Given a general matrix-vector multiplication program that is used to compute the next state in HMM:\n",
    "\n",
    "<https://github.com/StagedHPC/shonan-challenge/tree/master/problems/hmm>"
   ]
  },
  {
   "cell_type": "markdown",
   "metadata": {},
   "source": [
    "A desired optimization is to unfold the loop for each row of a particular adjacency matrix if the number of elements of the row is below a certain threshold value."
   ]
  },
  {
   "cell_type": "markdown",
   "metadata": {},
   "source": [
    "The original program in C:"
   ]
  },
  {
   "cell_type": "markdown",
   "metadata": {},
   "source": [
    "\n",
    "```c\n",
    "int ∗hmm(int n, int ∗∗a, int ∗v) {\n",
    "  int ∗w = (int∗) calloc(n, sizeof (int)),\n",
    "  for (int i = 0, i < n; i++)\n",
    "    for (int j =0; j < n; j++)\n",
    "      w[i] += a[i][j] ∗ v[j];\n",
    "  return w;\n",
    "}\n",
    "```"
   ]
  },
  {
   "cell_type": "code",
   "execution_count": 1,
   "metadata": {},
   "outputs": [
    {
     "data": {
      "text/plain": [
       "hmm (generic function with 1 method)"
      ]
     },
     "metadata": {},
     "output_type": "display_data"
    }
   ],
   "source": [
    "function hmm(a::Matrix{T}, v::Vector{T}) where {T}\n",
    "    n = size(a, 1)\n",
    "    @assert size(a, 2) == n\n",
    "    @assert length(v) == n\n",
    "\n",
    "    w = zeros(T, size(v))\n",
    "    for i in 1:n, j in 1:n\n",
    "        w[i] += a[i, j] * v[j]\n",
    "    end\n",
    "    return w\n",
    "end"
   ]
  },
  {
   "cell_type": "code",
   "execution_count": 2,
   "metadata": {},
   "outputs": [],
   "source": [
    "using Test, CompTime"
   ]
  },
  {
   "cell_type": "code",
   "execution_count": 3,
   "metadata": {},
   "outputs": [],
   "source": [
    "include(\"MacroUtils.jl\")\n",
    "using .MacroUtils: cleanup"
   ]
  },
  {
   "cell_type": "code",
   "execution_count": 4,
   "metadata": {},
   "outputs": [
    {
     "data": {
      "text/plain": [
       "3×3 Matrix{Int64}:\n",
       " 11  12  13\n",
       " 21  22  23\n",
       " 31  32  33"
      ]
     },
     "metadata": {},
     "output_type": "display_data"
    }
   ],
   "source": [
    "A = [11 12 13; 21 22 23; 31 32 33]"
   ]
  },
  {
   "cell_type": "code",
   "execution_count": 5,
   "metadata": {},
   "outputs": [
    {
     "data": {
      "text/plain": [
       "3-element Vector{Int64}:\n",
       " 1\n",
       " 2\n",
       " 3"
      ]
     },
     "metadata": {},
     "output_type": "display_data"
    }
   ],
   "source": [
    "V3 = [1, 2, 3]"
   ]
  },
  {
   "cell_type": "code",
   "execution_count": 6,
   "metadata": {},
   "outputs": [
    {
     "data": {
      "text/plain": [
       "3-element Vector{Int64}:\n",
       "  74\n",
       " 134\n",
       " 194"
      ]
     },
     "metadata": {},
     "output_type": "display_data"
    }
   ],
   "source": [
    "expected3 = [74, 134, 194]"
   ]
  },
  {
   "cell_type": "code",
   "execution_count": 7,
   "metadata": {},
   "outputs": [
    {
     "data": {
      "text/plain": [
       "\u001b[32m\u001b[1mTest Passed\u001b[22m\u001b[39m"
      ]
     },
     "metadata": {},
     "output_type": "display_data"
    }
   ],
   "source": [
    "@test hmm(A, V3) == expected3"
   ]
  },
  {
   "cell_type": "markdown",
   "metadata": {},
   "source": [
    "First of all, let's replace the mutable array `a` with an immutable tuple of tuples."
   ]
  },
  {
   "cell_type": "code",
   "execution_count": 8,
   "metadata": {},
   "outputs": [
    {
     "data": {
      "text/plain": [
       "((11, 12, 13), (21, 22, 23), (31, 32, 33))"
      ]
     },
     "metadata": {},
     "output_type": "display_data"
    }
   ],
   "source": [
    "A3 = ((11, 12, 13), (21, 22, 23), (31, 32, 33))"
   ]
  },
  {
   "cell_type": "code",
   "execution_count": 9,
   "metadata": {},
   "outputs": [
    {
     "data": {
      "text/plain": [
       "hmm (generic function with 2 methods)"
      ]
     },
     "metadata": {},
     "output_type": "display_data"
    }
   ],
   "source": [
    "function hmm(a::NTuple{N, NTuple{N, T}}, v::Vector{T}) where {N, T}\n",
    "    @assert length(v) == N\n",
    "\n",
    "    w = zeros(T, N)\n",
    "    for i in 1:N, j in 1:N\n",
    "        w[i] += a[i][j] * v[j]\n",
    "    end\n",
    "    return w\n",
    "end"
   ]
  },
  {
   "cell_type": "code",
   "execution_count": 10,
   "metadata": {},
   "outputs": [
    {
     "data": {
      "text/plain": [
       "\u001b[32m\u001b[1mTest Passed\u001b[22m\u001b[39m"
      ]
     },
     "metadata": {},
     "output_type": "display_data"
    }
   ],
   "source": [
    "@test hmm(A3, V3) == expected3"
   ]
  },
  {
   "cell_type": "code",
   "execution_count": 11,
   "metadata": {},
   "outputs": [
    {
     "data": {
      "text/plain": [
       "hmm_rt (generic function with 1 method)"
      ]
     },
     "metadata": {},
     "output_type": "display_data"
    }
   ],
   "source": [
    "function hmm_rt(a, v::Vector{T}) where {T}\n",
    "    N = length(a)\n",
    "    @assert length(v) == N\n",
    "\n",
    "    w = zeros(T, N)\n",
    "    for i in 1:N\n",
    "        ai = a[i]\n",
    "        @assert length(ai) == N\n",
    "        for j in 1:N\n",
    "            w[i] += ai[j] * v[j]\n",
    "        end\n",
    "    end\n",
    "    return w\n",
    "end"
   ]
  },
  {
   "cell_type": "code",
   "execution_count": 12,
   "metadata": {},
   "outputs": [
    {
     "data": {
      "text/plain": [
       "\u001b[32m\u001b[1mTest Passed\u001b[22m\u001b[39m"
      ]
     },
     "metadata": {},
     "output_type": "display_data"
    }
   ],
   "source": [
    "@test hmm_rt(A3, V3) == expected3"
   ]
  },
  {
   "cell_type": "code",
   "execution_count": 13,
   "metadata": {},
   "outputs": [
    {
     "data": {
      "text/plain": [
       "runtime (generic function with 1 method)"
      ]
     },
     "metadata": {},
     "output_type": "display_data"
    }
   ],
   "source": [
    "@ct_enable function hmm_ct1(@ct(a), v::Vector{T}) where {T}\n",
    "    @ct(N = length(a))\n",
    "    @assert length(v) == @ct(N)\n",
    "\n",
    "    w = zeros(T, @ct(N))\n",
    "    for i in 1:@ct(N)\n",
    "        ai = a[i]\n",
    "        @assert length(ai) == @ct(N)\n",
    "        for j in 1:@ct(N)\n",
    "            w[i] += ai[j] * v[j]\n",
    "        end\n",
    "    end\n",
    "    return w\n",
    "end"
   ]
  },
  {
   "cell_type": "code",
   "execution_count": 14,
   "metadata": {},
   "outputs": [
    {
     "data": {
      "text/plain": [
       "quote\n",
       "    @assert length(v) == 3\n",
       "    w = zeros(T, 3)\n",
       "    for i = 1:3\n",
       "        ai = a[i]\n",
       "        @assert length(ai) == 3\n",
       "        for j = 1:3\n",
       "            w[i] += ai[j] * v[j]\n",
       "        end\n",
       "    end\n",
       "    return w\n",
       "end"
      ]
     },
     "metadata": {},
     "output_type": "display_data"
    }
   ],
   "source": [
    "debug(hmm_ct1, Val{A3}, V3) |> cleanup"
   ]
  },
  {
   "cell_type": "code",
   "execution_count": 15,
   "metadata": {},
   "outputs": [
    {
     "data": {
      "text/plain": [
       "\u001b[32m\u001b[1mTest Passed\u001b[22m\u001b[39m"
      ]
     },
     "metadata": {},
     "output_type": "display_data"
    }
   ],
   "source": [
    "@test hmm_ct1(Val{A3}, V3) == expected3"
   ]
  },
  {
   "cell_type": "code",
   "execution_count": 16,
   "metadata": {},
   "outputs": [
    {
     "data": {
      "text/plain": [
       "runtime (generic function with 2 methods)"
      ]
     },
     "metadata": {},
     "output_type": "display_data"
    }
   ],
   "source": [
    "@ct_enable function hmm_ct2(@ct(a), v::Vector{T}) where {T}\n",
    "    @ct(N = length(a))\n",
    "    @assert length(v) == @ct(N)\n",
    "\n",
    "    w = zeros(T, @ct(N))\n",
    "    @ct_ctrl for i in 1:N\n",
    "        ai = a[@ct(i)]\n",
    "        @assert length(ai) == @ct(N)\n",
    "        @ct_ctrl for j in 1:N\n",
    "            w[@ct(i)] += ai[@ct(j)] * v[@ct(j)]\n",
    "        end\n",
    "    end\n",
    "    return w\n",
    "end"
   ]
  },
  {
   "cell_type": "code",
   "execution_count": 17,
   "metadata": {},
   "outputs": [
    {
     "data": {
      "text/plain": [
       "quote\n",
       "    @assert length(v) == 3\n",
       "    w = zeros(T, 3)\n",
       "    ai = a[1]\n",
       "    @assert length(ai) == 3\n",
       "    w[1] += ai[1] * v[1]\n",
       "    w[1] += ai[2] * v[2]\n",
       "    w[1] += ai[3] * v[3]\n",
       "    ai = a[2]\n",
       "    @assert length(ai) == 3\n",
       "    w[2] += ai[1] * v[1]\n",
       "    w[2] += ai[2] * v[2]\n",
       "    w[2] += ai[3] * v[3]\n",
       "    ai = a[3]\n",
       "    @assert length(ai) == 3\n",
       "    w[3] += ai[1] * v[1]\n",
       "    w[3] += ai[2] * v[2]\n",
       "    w[3] += ai[3] * v[3]\n",
       "    return w\n",
       "end"
      ]
     },
     "metadata": {},
     "output_type": "display_data"
    }
   ],
   "source": [
    "debug(hmm_ct2, Val{A3}, V3) |> cleanup"
   ]
  },
  {
   "cell_type": "code",
   "execution_count": 18,
   "metadata": {},
   "outputs": [
    {
     "data": {
      "text/plain": [
       "\u001b[32m\u001b[1mTest Passed\u001b[22m\u001b[39m"
      ]
     },
     "metadata": {},
     "output_type": "display_data"
    }
   ],
   "source": [
    "@test hmm_ct2(Val{A3}, V3) == expected3"
   ]
  },
  {
   "cell_type": "code",
   "execution_count": 19,
   "metadata": {},
   "outputs": [
    {
     "data": {
      "text/plain": [
       "runtime (generic function with 3 methods)"
      ]
     },
     "metadata": {},
     "output_type": "display_data"
    }
   ],
   "source": [
    "@ct_enable function hmm_ct3(@ct(a), v::Vector{T}) where {T}\n",
    "    @ct(N = length(a))\n",
    "    @assert length(v) == @ct(N)\n",
    "\n",
    "    w = zeros(T, @ct(N))\n",
    "    @ct_ctrl for i in 1:N\n",
    "        @ct(ai = a[i])\n",
    "        @ct(@assert length(ai) == N)\n",
    "        @ct_ctrl for j in 1:N\n",
    "            w[@ct(i)] += @ct(ai[j]) * v[@ct(j)]\n",
    "        end\n",
    "    end\n",
    "    return w\n",
    "end"
   ]
  },
  {
   "cell_type": "code",
   "execution_count": 20,
   "metadata": {},
   "outputs": [
    {
     "data": {
      "text/plain": [
       "quote\n",
       "    @assert length(v) == 3\n",
       "    w = zeros(T, 3)\n",
       "    w[1] += 11 * v[1]\n",
       "    w[1] += 12 * v[2]\n",
       "    w[1] += 13 * v[3]\n",
       "    w[2] += 21 * v[1]\n",
       "    w[2] += 22 * v[2]\n",
       "    w[2] += 23 * v[3]\n",
       "    w[3] += 31 * v[1]\n",
       "    w[3] += 32 * v[2]\n",
       "    w[3] += 33 * v[3]\n",
       "    return w\n",
       "end"
      ]
     },
     "metadata": {},
     "output_type": "display_data"
    }
   ],
   "source": [
    "debug(hmm_ct3, Val{A3}, V3) |> cleanup"
   ]
  },
  {
   "cell_type": "code",
   "execution_count": 21,
   "metadata": {},
   "outputs": [
    {
     "data": {
      "text/plain": [
       "\u001b[32m\u001b[1mTest Passed\u001b[22m\u001b[39m"
      ]
     },
     "metadata": {},
     "output_type": "display_data"
    }
   ],
   "source": [
    "@test hmm_ct3(Val{A3}, V3) == expected3"
   ]
  },
  {
   "cell_type": "markdown",
   "metadata": {},
   "source": [
    "Now we can implement some optimizations.\n",
    "\n",
    "- Eliminate multiplication by `zero(T)` and `one(T)`.\n",
    "- Unroll the inner loop only is `length(ai) < threshold`."
   ]
  },
  {
   "cell_type": "code",
   "execution_count": 22,
   "metadata": {},
   "outputs": [
    {
     "data": {
      "text/plain": [
       "((2, 0, 0, 1, 0), (0, 0, 1, 0, 0), (0, 1, 0, 0, 0), (0, 0, 4, 5, 6), (0, 0, 1, 0, 1))"
      ]
     },
     "metadata": {},
     "output_type": "display_data"
    }
   ],
   "source": [
    "A5 =\n",
    "   (2, 0, 0, 1, 0),\n",
    "   (0, 0, 1, 0, 0),\n",
    "   (0, 1, 0, 0, 0),\n",
    "   (0, 0, 4, 5, 6),\n",
    "   (0, 0, 1, 0, 1)"
   ]
  },
  {
   "cell_type": "code",
   "execution_count": 23,
   "metadata": {},
   "outputs": [
    {
     "data": {
      "text/plain": [
       "5-element Vector{Int64}:\n",
       " 1\n",
       " 2\n",
       " 3\n",
       " 4\n",
       " 5"
      ]
     },
     "metadata": {},
     "output_type": "display_data"
    }
   ],
   "source": [
    "V5 = [1, 2, 3, 4, 5]"
   ]
  },
  {
   "cell_type": "code",
   "execution_count": 24,
   "metadata": {},
   "outputs": [
    {
     "data": {
      "text/plain": [
       "quote\n",
       "    @assert length(v) == 5\n",
       "    w = zeros(T, 5)\n",
       "    w[1] += 2 * v[1]\n",
       "    w[1] += 0 * v[2]\n",
       "    w[1] += 0 * v[3]\n",
       "    w[1] += 1 * v[4]\n",
       "    w[1] += 0 * v[5]\n",
       "    w[2] += 0 * v[1]\n",
       "    w[2] += 0 * v[2]\n",
       "    w[2] += 1 * v[3]\n",
       "    w[2] += 0 * v[4]\n",
       "    w[2] += 0 * v[5]\n",
       "    w[3] += 0 * v[1]\n",
       "    w[3] += 1 * v[2]\n",
       "    w[3] += 0 * v[3]\n",
       "    w[3] += 0 * v[4]\n",
       "    w[3] += 0 * v[5]\n",
       "    w[4] += 0 * v[1]\n",
       "    w[4] += 0 * v[2]\n",
       "    w[4] += 4 * v[3]\n",
       "    w[4] += 5 * v[4]\n",
       "    w[4] += 6 * v[5]\n",
       "    w[5] += 0 * v[1]\n",
       "    w[5] += 0 * v[2]\n",
       "    w[5] += 1 * v[3]\n",
       "    w[5] += 0 * v[4]\n",
       "    w[5] += 1 * v[5]\n",
       "    return w\n",
       "end"
      ]
     },
     "metadata": {},
     "output_type": "display_data"
    }
   ],
   "source": [
    "debug(hmm_ct3, Val{A5}, V5) |> cleanup"
   ]
  },
  {
   "cell_type": "code",
   "execution_count": 25,
   "metadata": {},
   "outputs": [
    {
     "data": {
      "text/plain": [
       "5-element Vector{Int64}:\n",
       "  6\n",
       "  3\n",
       "  2\n",
       " 62\n",
       "  8"
      ]
     },
     "metadata": {},
     "output_type": "display_data"
    }
   ],
   "source": [
    "expected5 = [6, 3, 2, 62, 8]"
   ]
  },
  {
   "cell_type": "code",
   "execution_count": 26,
   "metadata": {},
   "outputs": [
    {
     "data": {
      "text/plain": [
       "\u001b[32m\u001b[1mTest Passed\u001b[22m\u001b[39m"
      ]
     },
     "metadata": {},
     "output_type": "display_data"
    }
   ],
   "source": [
    "@test hmm_ct3(Val{A5}, V5) == expected5"
   ]
  },
  {
   "cell_type": "code",
   "execution_count": 27,
   "metadata": {},
   "outputs": [
    {
     "data": {
      "text/plain": [
       "runtime (generic function with 4 methods)"
      ]
     },
     "metadata": {},
     "output_type": "display_data"
    }
   ],
   "source": [
    "@ct_enable function hmm_ct_opt(@ct(a), v::Vector{T}) where {T}\n",
    "    @ct(N = length(a))\n",
    "    @assert length(v) == @ct(N)\n",
    "\n",
    "    w = zeros(T, @ct(N))\n",
    "    @ct_ctrl for i in 1:N\n",
    "        @ct(ai = a[i])\n",
    "        @ct(@assert length(ai) == N)\n",
    "        @ct_ctrl if sum(ai .!= 0) >= 3\n",
    "            for j in 1:@ct(N)\n",
    "                w[@ct(i)] += @ct(a[i])[j] * v[j]\n",
    "            end\n",
    "        else\n",
    "            @ct_ctrl for j in 1:N\n",
    "                @ct_ctrl if ai[j] == one(T)\n",
    "                    w[@ct(i)] += v[@ct(j)]\n",
    "                elseif ai[j] != zero(T)\n",
    "                    w[@ct(i)] += @ct(ai[j]) * v[@ct(j)]\n",
    "                end\n",
    "            end\n",
    "        end\n",
    "    end\n",
    "    return w\n",
    "end"
   ]
  },
  {
   "cell_type": "code",
   "execution_count": 28,
   "metadata": {},
   "outputs": [
    {
     "data": {
      "text/plain": [
       "quote\n",
       "    @assert length(v) == 5\n",
       "    w = zeros(T, 5)\n",
       "    w[1] += 2 * v[1]\n",
       "    w[1] += v[4]\n",
       "    w[2] += v[3]\n",
       "    w[3] += v[2]\n",
       "    for j = 1:5\n",
       "        w[4] += ((0, 0, 4, 5, 6))[j] * v[j]\n",
       "    end\n",
       "    w[5] += v[3]\n",
       "    w[5] += v[5]\n",
       "    return w\n",
       "end"
      ]
     },
     "metadata": {},
     "output_type": "display_data"
    }
   ],
   "source": [
    "debug(hmm_ct_opt, Val{A5}, V5) |> cleanup"
   ]
  },
  {
   "cell_type": "code",
   "execution_count": 29,
   "metadata": {},
   "outputs": [
    {
     "data": {
      "text/plain": [
       "\u001b[32m\u001b[1mTest Passed\u001b[22m\u001b[39m"
      ]
     },
     "metadata": {},
     "output_type": "display_data"
    }
   ],
   "source": [
    "@test hmm_ct_opt(Val{A5}, V5) == expected5"
   ]
  }
 ],
 "metadata": {
  "kernelspec": {
   "display_name": "Julia 1.10.4",
   "language": "julia",
   "name": "julia-1.10"
  },
  "language_info": {
   "file_extension": ".jl",
   "mimetype": "application/julia",
   "name": "julia",
   "version": "1.10.4"
  }
 },
 "nbformat": 4,
 "nbformat_minor": 2
}
