{
 "cells": [
  {
   "cell_type": "code",
   "execution_count": 1,
   "metadata": {},
   "outputs": [
    {
     "data": {
      "text/plain": [
       "mul2 (generic function with 1 method)"
      ]
     },
     "metadata": {},
     "output_type": "display_data"
    }
   ],
   "source": [
    "mul2(x) = x * 2"
   ]
  },
  {
   "cell_type": "code",
   "execution_count": 2,
   "metadata": {},
   "outputs": [
    {
     "data": {
      "text/plain": [
       "typeof(mul2) (singleton type of function mul2, subtype of Function)"
      ]
     },
     "metadata": {},
     "output_type": "display_data"
    }
   ],
   "source": [
    "typeof(mul2)"
   ]
  },
  {
   "cell_type": "code",
   "execution_count": 3,
   "metadata": {},
   "outputs": [
    {
     "data": {
      "text/plain": [
       "Function"
      ]
     },
     "metadata": {},
     "output_type": "display_data"
    }
   ],
   "source": [
    "supertype(typeof(mul2))"
   ]
  },
  {
   "cell_type": "code",
   "execution_count": 4,
   "metadata": {},
   "outputs": [
    {
     "data": {
      "text/plain": [
       "true"
      ]
     },
     "metadata": {},
     "output_type": "display_data"
    }
   ],
   "source": [
    "typeof(mul2) <: Function"
   ]
  },
  {
   "cell_type": "code",
   "execution_count": 5,
   "metadata": {},
   "outputs": [
    {
     "data": {
      "text/plain": [
       "mul3 (generic function with 1 method)"
      ]
     },
     "metadata": {},
     "output_type": "display_data"
    }
   ],
   "source": [
    "mul3(x) = x * 3"
   ]
  },
  {
   "cell_type": "code",
   "execution_count": 6,
   "metadata": {},
   "outputs": [
    {
     "data": {
      "text/plain": [
       "false"
      ]
     },
     "metadata": {},
     "output_type": "display_data"
    }
   ],
   "source": [
    "typeof(mul2) === typeof(mul3)"
   ]
  },
  {
   "cell_type": "code",
   "execution_count": 7,
   "metadata": {},
   "outputs": [
    {
     "data": {
      "text/plain": [
       "Main.mul3 ∘ Main.mul2"
      ]
     },
     "metadata": {},
     "output_type": "display_data"
    }
   ],
   "source": [
    "const mul6 = mul3 ∘ mul2"
   ]
  },
  {
   "cell_type": "code",
   "execution_count": 8,
   "metadata": {},
   "outputs": [
    {
     "data": {
      "text/plain": [
       "ComposedFunction{typeof(mul3), typeof(mul2)}"
      ]
     },
     "metadata": {},
     "output_type": "display_data"
    }
   ],
   "source": [
    "typeof(mul6)"
   ]
  },
  {
   "cell_type": "code",
   "execution_count": 9,
   "metadata": {},
   "outputs": [
    {
     "data": {
      "text/plain": [
       "60"
      ]
     },
     "metadata": {},
     "output_type": "display_data"
    }
   ],
   "source": [
    "mul6(10)"
   ]
  },
  {
   "cell_type": "code",
   "execution_count": 10,
   "metadata": {},
   "outputs": [
    {
     "data": {
      "text/plain": [
       "CodeInfo(\n",
       "\u001b[90m1 ─\u001b[39m %1 = Core.getfield(x, 1)\u001b[36m::Int64\u001b[39m\n",
       "\u001b[90m│  \u001b[39m %2 = Base.mul_int(%1, 2)\u001b[36m::Int64\u001b[39m\n",
       "\u001b[90m│  \u001b[39m %3 = Base.mul_int(%2, 3)\u001b[36m::Int64\u001b[39m\n",
       "\u001b[90m└──\u001b[39m      return %3\n",
       ") => Int64"
      ]
     },
     "metadata": {},
     "output_type": "display_data"
    }
   ],
   "source": [
    "@code_typed mul6(10)"
   ]
  },
  {
   "cell_type": "code",
   "execution_count": 11,
   "metadata": {},
   "outputs": [
    {
     "name": "stdout",
     "output_type": "stream",
     "text": [
      "\u001b[90m; Function Signature: (::Base.ComposedFunction{typeof(Main.mul3), typeof(Main.mul2)})(Int64)\u001b[39m\n",
      "\u001b[90m;  @ operators.jl:1050 within `ComposedFunction`\u001b[39m\n",
      "\u001b[95mdefine\u001b[39m \u001b[36mi64\u001b[39m \u001b[93m@julia_ComposedFunction_9078\u001b[39m\u001b[33m(\u001b[39m\u001b[36mi64\u001b[39m \u001b[95msignext\u001b[39m \u001b[0m%\"x\u001b[33m[\u001b[39m\u001b[33m1\u001b[39m\u001b[33m]\u001b[39m\u001b[0m::Int64\"\u001b[33m)\u001b[39m \u001b[0m#0 \u001b[33m{\u001b[39m\n",
      "\u001b[91mtop:\u001b[39m\n",
      "\u001b[90m; ┌ @ operators.jl:1050 within `#_#113`\u001b[39m\n",
      "\u001b[90m; │┌ @ operators.jl:1053 within `call_composed`\u001b[39m\n",
      "\u001b[90m; ││┌ @ /home/roman/devel/Julia/julia-samples/partial-eval/jupyter/jl_notebook_cell_df34fa98e69747e1a8f8a730347b8e2f_W4sZmlsZQ==.jl:1 within `mul3`\u001b[39m\n",
      "\u001b[90m; │││┌ @ int.jl:88 within `*`\u001b[39m\n",
      "      \u001b[0m%0 \u001b[0m= \u001b[96m\u001b[1mmul\u001b[22m\u001b[39m \u001b[36mi64\u001b[39m \u001b[0m%\"x\u001b[33m[\u001b[39m\u001b[33m1\u001b[39m\u001b[33m]\u001b[39m\u001b[0m::Int64\"\u001b[0m, \u001b[33m6\u001b[39m\n",
      "\u001b[90m; └└└└\u001b[39m\n",
      "  \u001b[96m\u001b[1mret\u001b[22m\u001b[39m \u001b[36mi64\u001b[39m \u001b[0m%0\n",
      "\u001b[33m}\u001b[39m\n"
     ]
    }
   ],
   "source": [
    "@code_llvm mul6(10)"
   ]
  },
  {
   "cell_type": "code",
   "execution_count": 12,
   "metadata": {},
   "outputs": [
    {
     "name": "stdout",
     "output_type": "stream",
     "text": [
      "\t\u001b[0m.text\n",
      "\t\u001b[0m.file\t\u001b[0m\"ComposedFunction\"\n",
      "\t\u001b[0m.globl\t\u001b[0mjulia_ComposedFunction_9306     \u001b[90m# -- Begin function julia_ComposedFunction_9306\u001b[39m\n",
      "\t\u001b[0m.p2align\t\u001b[33m4\u001b[39m\u001b[0m, \u001b[33m0x90\u001b[39m\n",
      "\t\u001b[0m.type\t\u001b[0mjulia_ComposedFunction_9306\u001b[0m,\u001b[0m@function\n",
      "\u001b[91mjulia_ComposedFunction_9306:\u001b[39m            \u001b[90m# @julia_ComposedFunction_9306\u001b[39m\n",
      "\u001b[90m; Function Signature: (::Base.ComposedFunction{typeof(Main.mul3), typeof(Main.mul2)})(Int64)\u001b[39m\n",
      "\u001b[90m; ┌ @ operators.jl:1050 within `ComposedFunction`\u001b[39m\n",
      "\u001b[90m# %bb.0:                                # %top\u001b[39m\n",
      "\u001b[90m; │ @ operators.jl within `ComposedFunction`\u001b[39m\n",
      "\t\u001b[91m#DEBUG_VALUE:\u001b[39m \u001b[0mComposedFunction\u001b[0m:\u001b[0mx... \u001b[0m<- \u001b[93m$rdi\u001b[39m\n",
      "\t\u001b[96m\u001b[1mpush\u001b[22m\u001b[39m\t\u001b[0mrbp\n",
      "\t\u001b[96m\u001b[1mmov\u001b[22m\u001b[39m\t\u001b[0mrbp\u001b[0m, \u001b[0mrsp\n",
      "\u001b[90m; │ @ operators.jl:1050 within `ComposedFunction`\u001b[39m\n",
      "\u001b[90m; │┌ @ operators.jl:1050 within `#_#113`\u001b[39m\n",
      "\u001b[90m; ││┌ @ operators.jl:1053 within `call_composed`\u001b[39m\n",
      "\u001b[90m; │││┌ @ /home/roman/devel/Julia/julia-samples/partial-eval/jupyter/jl_notebook_cell_df34fa98e69747e1a8f8a730347b8e2f_W4sZmlsZQ==.jl:1 within `mul3`\u001b[39m\n",
      "\u001b[90m; ││││┌ @ int.jl:88 within `*`\u001b[39m\n",
      "\t\u001b[96m\u001b[1madd\u001b[22m\u001b[39m\t\u001b[0mrdi\u001b[0m, \u001b[0mrdi\n",
      "\t\u001b[96m\u001b[1mlea\u001b[22m\u001b[39m\t\u001b[0mrax\u001b[0m, \u001b[33m[\u001b[39m\u001b[0mrdi \u001b[0m+ \u001b[33m2\u001b[39m\u001b[0m*\u001b[0mrdi\u001b[33m]\u001b[39m\n",
      "\u001b[90m; │└└└└\u001b[39m\n",
      "\t\u001b[96m\u001b[1mpop\u001b[22m\u001b[39m\t\u001b[0mrbp\n",
      "\t\u001b[96m\u001b[1mret\u001b[22m\u001b[39m\n",
      "\u001b[91m.Lfunc_end0:\u001b[39m\n",
      "\t\u001b[0m.size\t\u001b[0mjulia_ComposedFunction_9306\u001b[0m, \u001b[0m.Lfunc_end0-julia_ComposedFunction_9306\n",
      "\u001b[90m; └\u001b[39m\n",
      "                                        \u001b[90m# -- End function\u001b[39m\n",
      "\t\u001b[0m.section\t\u001b[0m\".note.GNU-stack\"\u001b[0m,\u001b[0m\"\"\u001b[0m,\u001b[0m@progbits\n"
     ]
    }
   ],
   "source": [
    "@code_native mul6(10)"
   ]
  }
 ],
 "metadata": {
  "kernelspec": {
   "display_name": "Julia 1.11.3",
   "language": "julia",
   "name": "julia-1.11"
  },
  "language_info": {
   "file_extension": ".jl",
   "mimetype": "application/julia",
   "name": "julia",
   "version": "1.11.3"
  }
 },
 "nbformat": 4,
 "nbformat_minor": 2
}
