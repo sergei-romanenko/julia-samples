{
 "cells": [
  {
   "cell_type": "code",
   "execution_count": 1,
   "metadata": {},
   "outputs": [],
   "source": [
    "using InteractiveUtils"
   ]
  },
  {
   "cell_type": "code",
   "execution_count": 2,
   "metadata": {},
   "outputs": [],
   "source": [
    "abstract type List{N} end"
   ]
  },
  {
   "cell_type": "code",
   "execution_count": 3,
   "metadata": {},
   "outputs": [],
   "source": [
    "struct Nil{T} <: List{T} end"
   ]
  },
  {
   "cell_type": "code",
   "execution_count": 4,
   "metadata": {},
   "outputs": [],
   "source": [
    "struct Cons{T} <: List{T}\n",
    "    hd::T\n",
    "    tl::List{T}\n",
    "end"
   ]
  },
  {
   "cell_type": "code",
   "execution_count": 5,
   "metadata": {},
   "outputs": [
    {
     "data": {
      "text/plain": [
       "swap01 (generic function with 1 method)"
      ]
     },
     "metadata": {},
     "output_type": "display_data"
    }
   ],
   "source": [
    "swap01(xs::Nil{T}) where {T} =\n",
    "    Nil{T}()"
   ]
  },
  {
   "cell_type": "code",
   "execution_count": 6,
   "metadata": {},
   "outputs": [
    {
     "data": {
      "text/plain": [
       "swap01 (generic function with 2 methods)"
      ]
     },
     "metadata": {},
     "output_type": "display_data"
    }
   ],
   "source": [
    "swap01(xs::Cons{T}) where {T} =\n",
    "    Cons(iszero(xs.hd) ? one(T) :\n",
    "         isone(xs.hd) ? zero(T) :\n",
    "         error(\"Invalid input: \", xs.t), swap01(xs.tl))"
   ]
  },
  {
   "cell_type": "code",
   "execution_count": 7,
   "metadata": {},
   "outputs": [
    {
     "data": {
      "text/plain": [
       "Cons{Int64}(1, Cons{Int64}(0, Cons{Int64}(1, Nil{Int64}())))"
      ]
     },
     "metadata": {},
     "output_type": "display_data"
    }
   ],
   "source": [
    "swap01(Cons(0, Cons(1, Cons(0, Nil{Int}()))))"
   ]
  },
  {
   "cell_type": "code",
   "execution_count": 8,
   "metadata": {},
   "outputs": [
    {
     "data": {
      "text/plain": [
       "Tuple{Vararg{Tuple{T, Tuple{Symbol, R}}}} where {T, R}"
      ]
     },
     "metadata": {},
     "output_type": "display_data"
    }
   ],
   "source": [
    "TrTableRow{T, R} = Tuple{Vararg{Tuple{T, Tuple{Symbol, R}}}}"
   ]
  },
  {
   "cell_type": "code",
   "execution_count": 9,
   "metadata": {},
   "outputs": [
    {
     "data": {
      "text/plain": [
       "Tuple{Vararg{Tuple{Symbol, Tuple{Vararg{Tuple{T, Tuple{Symbol, R}}}}}}} where {T, R}"
      ]
     },
     "metadata": {},
     "output_type": "display_data"
    }
   ],
   "source": [
    "TrTable{T,R} = Tuple{Vararg{Tuple{Symbol,\n",
    "    TrTableRow{T,R}\n",
    "}}}"
   ]
  },
  {
   "cell_type": "code",
   "execution_count": 10,
   "metadata": {},
   "outputs": [
    {
     "data": {
      "text/plain": [
       "((:s0, ((0, (:s0, :even)), (1, (:s1, :odd)))), (:s1, ((0, (:s1, :odd)), (1, (:s0, :even)))))"
      ]
     },
     "metadata": {},
     "output_type": "display_data"
    }
   ],
   "source": [
    "parity_table::TrTable{Int,Symbol} =\n",
    "    (:s0, (\n",
    "        (0, (:s0, :even)),\n",
    "        (1, (:s1, :odd)))),\n",
    "    (:s1, (\n",
    "        (0, (:s1, :odd)),\n",
    "        (1, (:s0, :even))))"
   ]
  },
  {
   "cell_type": "code",
   "execution_count": 11,
   "metadata": {},
   "outputs": [
    {
     "data": {
      "text/plain": [
       "dfa (generic function with 1 method)"
      ]
     },
     "metadata": {},
     "output_type": "display_data"
    }
   ],
   "source": [
    "function dfa(tbl::TrTable{T,R}, state::Symbol, xs::List{T})::List{R} where {T,R} end"
   ]
  },
  {
   "cell_type": "code",
   "execution_count": 12,
   "metadata": {},
   "outputs": [
    {
     "data": {
      "text/plain": [
       "dfa (generic function with 2 methods)"
      ]
     },
     "metadata": {},
     "output_type": "display_data"
    }
   ],
   "source": [
    "function dfa(tbl::TrTable{T,R}, state::Symbol, xs::Nil{T})::List{R} where {T, R}\n",
    "    Nil{R}()\n",
    "end"
   ]
  },
  {
   "cell_type": "code",
   "execution_count": 13,
   "metadata": {},
   "outputs": [
    {
     "data": {
      "text/plain": [
       "dfa (generic function with 3 methods)"
      ]
     },
     "metadata": {},
     "output_type": "display_data"
    }
   ],
   "source": [
    "function dfa(tbl::TrTable{T,R}, tbl0::TrTable{T,R}, state::Symbol, xs::Cons{T})::List{R} where {T,R}\n",
    "    (s, tbl_r), tbl1... = tbl0\n",
    "    if s != state\n",
    "        dfa(tbl, tbl1, state, xs)\n",
    "    else\n",
    "        dfa(tbl, tbl_r, state, xs)\n",
    "    end\n",
    "end"
   ]
  },
  {
   "cell_type": "code",
   "execution_count": 25,
   "metadata": {},
   "outputs": [
    {
     "data": {
      "text/plain": [
       "dfa (generic function with 5 methods)"
      ]
     },
     "metadata": {},
     "output_type": "display_data"
    }
   ],
   "source": [
    "function dfa(tbl::TrTable{T,R}, tbl_r::TrTableRow{T,R}, state::Symbol, xs::Cons{T})::List{R} where {T,R}\n",
    "    (x, (s, y)), tbl_r1... = tbl_r\n",
    "    if x != xs.hd\n",
    "        dfa(tbl, tbl_r1, state, xs)\n",
    "    else\n",
    "        Cons(y, dfa(tbl, s, xs.tl))\n",
    "    end\n",
    "end"
   ]
  },
  {
   "cell_type": "code",
   "execution_count": 26,
   "metadata": {},
   "outputs": [
    {
     "data": {
      "text/plain": [
       "dfa (generic function with 5 methods)"
      ]
     },
     "metadata": {},
     "output_type": "display_data"
    }
   ],
   "source": [
    "function dfa(tbl::TrTable{T,R}, state::Symbol, xs::Cons{T})::List{R} where {T,R}\n",
    "    dfa(tbl, tbl, state, xs)\n",
    "end"
   ]
  },
  {
   "cell_type": "code",
   "execution_count": 27,
   "metadata": {},
   "outputs": [
    {
     "data": {
      "text/plain": [
       "Cons{Symbol}(:even, Cons{Symbol}(:odd, Cons{Symbol}(:odd, Cons{Symbol}(:even, Cons{Symbol}(:even, Nil{Symbol}())))))"
      ]
     },
     "metadata": {},
     "output_type": "display_data"
    }
   ],
   "source": [
    "dfa(parity_table, :s0, Cons(0, Cons(1, Cons(0, Cons(1, Cons(0, Nil{Int}()))))))"
   ]
  }
 ],
 "metadata": {
  "kernelspec": {
   "display_name": "Julia 1.10.4",
   "language": "julia",
   "name": "julia-1.10"
  },
  "language_info": {
   "file_extension": ".jl",
   "mimetype": "application/julia",
   "name": "julia",
   "version": "1.10.4"
  }
 },
 "nbformat": 4,
 "nbformat_minor": 2
}
