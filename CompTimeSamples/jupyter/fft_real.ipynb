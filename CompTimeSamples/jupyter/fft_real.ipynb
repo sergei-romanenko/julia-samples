{
 "cells": [
  {
   "cell_type": "code",
   "execution_count": 1,
   "metadata": {},
   "outputs": [],
   "source": [
    "using FFTW, Random, Test\n",
    "\n",
    "include(\"MacroUtils.jl\")\n",
    "using .MacroUtils: cleanup"
   ]
  },
  {
   "cell_type": "code",
   "execution_count": 2,
   "metadata": {},
   "outputs": [],
   "source": [
    "Random.seed!(1234)\n",
    "sample_vector_input = rand(32);\n",
    "sample_tuple_input = Tuple(sample_vector_input);"
   ]
  },
  {
   "cell_type": "code",
   "execution_count": 3,
   "metadata": {},
   "outputs": [
    {
     "data": {
      "text/plain": [
       "test_fft (generic function with 1 method)"
      ]
     },
     "metadata": {},
     "output_type": "display_data"
    }
   ],
   "source": [
    "function test_fft(fft)\n",
    "    @test FFTW.fft(sample_vector_input) ≈ fft(sample_tuple_input)\n",
    "end"
   ]
  },
  {
   "cell_type": "code",
   "execution_count": 4,
   "metadata": {},
   "outputs": [
    {
     "data": {
      "text/plain": [
       "fft_rec_c (generic function with 1 method)"
      ]
     },
     "metadata": {},
     "output_type": "display_data"
    }
   ],
   "source": [
    "function fft_rec_c(a, p, b, m)\n",
    "    n = length(p)\n",
    "    isone(n) && (b[1] = a[p[1]]; return m)\n",
    "    n2 = n ÷ 2\n",
    "    w = exp(-2 * pi * im / n)\n",
    "\n",
    "    p1 = [p[k] for k in 1:2:n]\n",
    "    p2 = [p[k] for k in 2:2:n]\n",
    "    y1 = Vector{Complex{Float64}}(undef, n2)\n",
    "    y2 = Vector{Complex{Float64}}(undef, n2)\n",
    "    m += 1\n",
    "    m = fft_rec_c(a, p1, y1, m)\n",
    "    m = fft_rec_c(a, p2, y2, m)\n",
    "    for k in 1:n2\n",
    "        t = w^(k - 1) * y2[k]\n",
    "        b[k] = y1[k] + t\n",
    "        b[k+n2] = y1[k] - t\n",
    "    end\n",
    "    return m\n",
    "end"
   ]
  },
  {
   "cell_type": "code",
   "execution_count": 5,
   "metadata": {},
   "outputs": [
    {
     "data": {
      "text/plain": [
       "fft_rec_c (generic function with 2 methods)"
      ]
     },
     "metadata": {},
     "output_type": "display_data"
    }
   ],
   "source": [
    "function fft_rec_c(a)\n",
    "    n = length(a)\n",
    "    @assert ispow2(n)\n",
    "    p = [k for k in 1:n]\n",
    "    b = Vector{Complex{Float64}}(undef, n)\n",
    "    m = fft_rec_c(a, p, b, 1)\n",
    "    return b\n",
    "end"
   ]
  },
  {
   "cell_type": "code",
   "execution_count": 6,
   "metadata": {},
   "outputs": [
    {
     "data": {
      "text/plain": [
       "4-element Vector{ComplexF64}:\n",
       " 100.0 + 0.0im\n",
       " -20.0 + 20.0im\n",
       " -20.0 + 0.0im\n",
       " -20.0 - 20.0im"
      ]
     },
     "metadata": {},
     "output_type": "display_data"
    }
   ],
   "source": [
    "fft_rec_c((10.0, 20.0, 30.0, 40.0))"
   ]
  },
  {
   "cell_type": "code",
   "execution_count": 7,
   "metadata": {},
   "outputs": [
    {
     "data": {
      "text/plain": [
       "\u001b[32m\u001b[1mTest Passed\u001b[22m\u001b[39m"
      ]
     },
     "metadata": {},
     "output_type": "display_data"
    }
   ],
   "source": [
    "test_fft(fft_rec_c)"
   ]
  },
  {
   "cell_type": "code",
   "execution_count": 8,
   "metadata": {},
   "outputs": [
    {
     "data": {
      "text/plain": [
       "mult_i (generic function with 1 method)"
      ]
     },
     "metadata": {},
     "output_type": "display_data"
    }
   ],
   "source": [
    "mult_r(x_r::T, x_i::T, y_r::T, y_i::T) where {T} =\n",
    "    x_r * y_r - x_i * y_i\n",
    "mult_i(x_r::T, x_i::T, y_r::T, y_i::T) where {T} =\n",
    "    x_r * y_i + x_i * y_r"
   ]
  },
  {
   "cell_type": "code",
   "execution_count": 9,
   "metadata": {},
   "outputs": [
    {
     "data": {
      "text/plain": [
       "fft_rec (generic function with 1 method)"
      ]
     },
     "metadata": {},
     "output_type": "display_data"
    }
   ],
   "source": [
    "function fft_rec(a, p, b_r, b_i, m)\n",
    "    n = length(p)\n",
    "    isone(n) && begin\n",
    "        b_r[1] = a[p[1]]\n",
    "        b_i[1] = 0.0\n",
    "        return m\n",
    "    end\n",
    "    n2 = n ÷ 2\n",
    "    w = exp(-2 * pi * im / n)\n",
    "\n",
    "    p1 = [p[k] for k in 1:2:n]\n",
    "    p2 = [p[k] for k in 2:2:n]\n",
    "    y1_r = Vector{Float64}(undef, n2)\n",
    "    y1_i = Vector{Float64}(undef, n2)\n",
    "    y2_r = Vector{Float64}(undef, n2)\n",
    "    y2_i = Vector{Float64}(undef, n2)\n",
    "    m += 1\n",
    "    m = fft_rec(a, p1, y1_r, y1_i, m)\n",
    "    m = fft_rec(a, p2, y2_r, y2_i, m)\n",
    "    for k in 1:n2\n",
    "        wk = w^(k - 1)\n",
    "        t_r = mult_r(real(wk), imag(wk), y2_r[k], y2_i[k])\n",
    "        t_i = mult_i(real(wk), imag(wk), y2_r[k], y2_i[k])\n",
    "        b_r[k] = y1_r[k] + t_r\n",
    "        b_i[k] = y1_i[k] + t_i\n",
    "        b_r[k+n2] = y1_r[k] - t_r\n",
    "        b_i[k+n2] = y1_i[k] - t_i\n",
    "    end\n",
    "    return m\n",
    "end"
   ]
  },
  {
   "cell_type": "code",
   "execution_count": 10,
   "metadata": {},
   "outputs": [
    {
     "data": {
      "text/plain": [
       "fft_rec (generic function with 2 methods)"
      ]
     },
     "metadata": {},
     "output_type": "display_data"
    }
   ],
   "source": [
    "function fft_rec(a)\n",
    "    n = length(a)\n",
    "    @assert ispow2(n)\n",
    "    p = [k for k in 1:n]\n",
    "    b_r = Vector{Float64}(undef, n)\n",
    "    b_i = Vector{Float64}(undef, n)\n",
    "    m = fft_rec(a, p, b_r, b_i, 1)\n",
    "    return [complex(b_r[k], b_i[k]) for k in 1:n]\n",
    "end"
   ]
  },
  {
   "cell_type": "code",
   "execution_count": 11,
   "metadata": {},
   "outputs": [
    {
     "data": {
      "text/plain": [
       "4-element Vector{ComplexF64}:\n",
       " 100.0 + 0.0im\n",
       " -20.0 + 20.0im\n",
       " -20.0 + 0.0im\n",
       " -20.0 - 20.0im"
      ]
     },
     "metadata": {},
     "output_type": "display_data"
    }
   ],
   "source": [
    "fft_rec((10.0, 20.0, 30.0, 40.0))"
   ]
  },
  {
   "cell_type": "code",
   "execution_count": 12,
   "metadata": {},
   "outputs": [
    {
     "data": {
      "text/plain": [
       "\u001b[32m\u001b[1mTest Passed\u001b[22m\u001b[39m"
      ]
     },
     "metadata": {},
     "output_type": "display_data"
    }
   ],
   "source": [
    "test_fft(fft_rec)"
   ]
  },
  {
   "cell_type": "code",
   "execution_count": 13,
   "metadata": {},
   "outputs": [
    {
     "data": {
      "text/plain": [
       "mult_i_gen1 (generic function with 1 method)"
      ]
     },
     "metadata": {},
     "output_type": "display_data"
    }
   ],
   "source": [
    "mult_r_gen1(x_r, x_i, y_r, y_i) =\n",
    "    :($x_r * $y_r - $x_i * $y_i)\n",
    "mult_i_gen1(x_r, x_i, y_r, y_i) =\n",
    "    :($x_r * $y_i + $x_i * $y_r)"
   ]
  },
  {
   "cell_type": "code",
   "execution_count": 14,
   "metadata": {},
   "outputs": [
    {
     "data": {
      "text/plain": [
       "fft_gen_impl1 (generic function with 1 method)"
      ]
     },
     "metadata": {},
     "output_type": "display_data"
    }
   ],
   "source": [
    "function fft_gen_impl1(p, b_r, b_i, m)\n",
    "    n = length(p)\n",
    "    es = Expr[]\n",
    "\n",
    "    if isone(n)\n",
    "        append!(es, (\n",
    "            :($(b_r[1]) = a[$(p[1])]),\n",
    "            :($(b_i[1]) = 0.0)\n",
    "        ))\n",
    "        return es, m\n",
    "    end\n",
    "\n",
    "    n2 = n ÷ 2\n",
    "    p1 = [p[k] for k in 1:2:n]\n",
    "    p2 = [p[k] for k in 2:2:n]\n",
    "\n",
    "    y1_r = [Symbol(\"y1_r_\", m, \"_\", k) for k in 1:n2]\n",
    "    y1_i = [Symbol(\"y1_i_\", m, \"_\", k) for k in 1:n2]\n",
    "    y2_r = [Symbol(\"y2_r_\", m, \"_\", k) for k in 1:n2]\n",
    "    y2_i = [Symbol(\"y2_i_\", m, \"_\", k) for k in 1:n2]\n",
    "    m += 1\n",
    "\n",
    "    es1, m = fft_gen_impl1(p1, y1_r, y1_i, m)\n",
    "    es2, m = fft_gen_impl1(p2, y2_r, y2_i, m)\n",
    "    append!(es, es1, es2)\n",
    "\n",
    "    w = exp(-2 * pi * im / n)\n",
    "\n",
    "    for k in 1:n2\n",
    "        wk = w^(k - 1)\n",
    "        t_r = Symbol(\"t_r_\", m)\n",
    "        t_i = Symbol(\"t_i_\", m)\n",
    "        m += 1\n",
    "\n",
    "        append!(es, (\n",
    "            :($t_r = $(mult_r_gen1(real(wk), imag(wk), y2_r[k], y2_i[k]))),\n",
    "            :($t_i = $(mult_i_gen1(real(wk), imag(wk), y2_r[k], y2_i[k]))),\n",
    "            :($(b_r[k]) = $(y1_r[k]) + $t_r),\n",
    "            :($(b_i[k]) = $(y1_i[k]) + $t_i),\n",
    "            :($(b_r[k+n2]) = $(y1_r[k]) - $t_r),\n",
    "            :($(b_i[k+n2]) = $(y1_i[k]) - $(t_i))\n",
    "        ))\n",
    "    end\n",
    "\n",
    "\n",
    "    return es, m\n",
    "end"
   ]
  },
  {
   "cell_type": "code",
   "execution_count": 15,
   "metadata": {},
   "outputs": [
    {
     "data": {
      "text/plain": [
       "fft_gen_impl1 (generic function with 2 methods)"
      ]
     },
     "metadata": {},
     "output_type": "display_data"
    }
   ],
   "source": [
    "function fft_gen_impl1(n)\n",
    "    @assert (n >= 1 && ispow2(n))\n",
    "\n",
    "    p = [k for k in 1:n]\n",
    "    b_r = [Symbol(\"y0_r_\", k) for k in 1:n]\n",
    "    b_i = [Symbol(\"y0_i_\", k) for k in 1:n]\n",
    "    es, m = fft_gen_impl1(p, b_r, b_i, 1)\n",
    "\n",
    "    b = [:(complex($(b_r[k]), $(b_i[k]))) for k in 1:n]\n",
    "    quote\n",
    "        $(es...)\n",
    "        return $(Expr(:vect, b...))\n",
    "    end\n",
    "\n",
    "end"
   ]
  },
  {
   "cell_type": "code",
   "execution_count": 16,
   "metadata": {},
   "outputs": [
    {
     "data": {
      "text/plain": [
       "quote\n",
       "    y1_r_2_1 = a[1]\n",
       "    y1_i_2_1 = 0.0\n",
       "    y2_r_2_1 = a[3]\n",
       "    y2_i_2_1 = 0.0\n",
       "    t_r_3 = 1.0y2_r_2_1 - 0.0y2_i_2_1\n",
       "    t_i_3 = 1.0y2_i_2_1 + 0.0y2_r_2_1\n",
       "    y1_r_1_1 = y1_r_2_1 + t_r_3\n",
       "    y1_i_1_1 = y1_i_2_1 + t_i_3\n",
       "    y1_r_1_2 = y1_r_2_1 - t_r_3\n",
       "    y1_i_1_2 = y1_i_2_1 - t_i_3\n",
       "    y1_r_4_1 = a[2]\n",
       "    y1_i_4_1 = 0.0\n",
       "    y2_r_4_1 = a[4]\n",
       "    y2_i_4_1 = 0.0\n",
       "    t_r_5 = 1.0y2_r_4_1 - 0.0y2_i_4_1\n",
       "    t_i_5 = 1.0y2_i_4_1 + 0.0y2_r_4_1\n",
       "    y2_r_1_1 = y1_r_4_1 + t_r_5\n",
       "    y2_i_1_1 = y1_i_4_1 + t_i_5\n",
       "    y2_r_1_2 = y1_r_4_1 - t_r_5\n",
       "    y2_i_1_2 = y1_i_4_1 - t_i_5\n",
       "    t_r_6 = 1.0y2_r_1_1 - 0.0y2_i_1_1\n",
       "    t_i_6 = 1.0y2_i_1_1 + 0.0y2_r_1_1\n",
       "    y0_r_1 = y1_r_1_1 + t_r_6\n",
       "    y0_i_1 = y1_i_1_1 + t_i_6\n",
       "    y0_r_3 = y1_r_1_1 - t_r_6\n",
       "    y0_i_3 = y1_i_1_1 - t_i_6\n",
       "    t_r_7 = 6.123233995736766e-17y2_r_1_2 - -1.0y2_i_1_2\n",
       "    t_i_7 = 6.123233995736766e-17y2_i_1_2 + -1.0y2_r_1_2\n",
       "    y0_r_2 = y1_r_1_2 + t_r_7\n",
       "    y0_i_2 = y1_i_1_2 + t_i_7\n",
       "    y0_r_4 = y1_r_1_2 - t_r_7\n",
       "    y0_i_4 = y1_i_1_2 - t_i_7\n",
       "    return [complex(y0_r_1, y0_i_1), complex(y0_r_2, y0_i_2), complex(y0_r_3, y0_i_3), complex(y0_r_4, y0_i_4)]\n",
       "end"
      ]
     },
     "metadata": {},
     "output_type": "display_data"
    }
   ],
   "source": [
    "fft_gen_impl1(4) |> cleanup"
   ]
  },
  {
   "cell_type": "code",
   "execution_count": 17,
   "metadata": {},
   "outputs": [
    {
     "data": {
      "text/plain": [
       "fft_gen1 (generic function with 1 method)"
      ]
     },
     "metadata": {},
     "output_type": "display_data"
    }
   ],
   "source": [
    "@generated function fft_gen1(a::NTuple{N,Float64}) where {N}\n",
    "    fft_gen_impl1(N)\n",
    "end"
   ]
  },
  {
   "cell_type": "code",
   "execution_count": 18,
   "metadata": {},
   "outputs": [
    {
     "data": {
      "text/plain": [
       "4-element Vector{ComplexF64}:\n",
       " 100.0 + 0.0im\n",
       " -20.0 + 20.0im\n",
       " -20.0 + 0.0im\n",
       " -20.0 - 20.0im"
      ]
     },
     "metadata": {},
     "output_type": "display_data"
    }
   ],
   "source": [
    "fft_gen1((10.0, 20.0, 30.0, 40.0))"
   ]
  },
  {
   "cell_type": "code",
   "execution_count": 19,
   "metadata": {},
   "outputs": [
    {
     "data": {
      "text/plain": [
       "\u001b[32m\u001b[1mTest Passed\u001b[22m\u001b[39m"
      ]
     },
     "metadata": {},
     "output_type": "display_data"
    }
   ],
   "source": [
    "test_fft(fft_gen1)"
   ]
  },
  {
   "cell_type": "markdown",
   "metadata": {},
   "source": [
    "Абстрактная интерпретация (метавычисления)."
   ]
  },
  {
   "cell_type": "code",
   "execution_count": 20,
   "metadata": {},
   "outputs": [],
   "source": [
    "abstract type MVal end\n",
    "\n",
    "struct MCst <: MVal\n",
    "    v::Float64\n",
    "end\n",
    "\n",
    "struct MAny <: MVal\n",
    "    v\n",
    "end"
   ]
  },
  {
   "cell_type": "code",
   "execution_count": 21,
   "metadata": {},
   "outputs": [],
   "source": [
    "Base.hash(x::MCst, h::UInt) = hash(x.v, hash(MCst, h))\n",
    "Base.hash(x::MAny, h::UInt) = hash(x.v, hash(MAny, h))\n",
    "\n",
    "Base.:(==)(x::MVal, y::MVal) = x.v == y.v"
   ]
  },
  {
   "cell_type": "code",
   "execution_count": 22,
   "metadata": {},
   "outputs": [
    {
     "data": {
      "text/plain": [
       "add_m (generic function with 2 methods)"
      ]
     },
     "metadata": {},
     "output_type": "display_data"
    }
   ],
   "source": [
    "add_m(x::MVal, y::MVal) = MAny(:($(x.v) + $(y.v)))\n",
    "\n",
    "add_m(x::MCst, y::MCst) = MCst(x.v + y.v)"
   ]
  },
  {
   "cell_type": "code",
   "execution_count": 23,
   "metadata": {},
   "outputs": [
    {
     "data": {
      "text/plain": [
       "sub_m (generic function with 4 methods)"
      ]
     },
     "metadata": {},
     "output_type": "display_data"
    }
   ],
   "source": [
    "sub_m(x::MVal, y::MVal) = MAny(:($(x.v) - $(y.v)))\n",
    "\n",
    "sub_m(x::MCst, y::MCst) = MCst(x.v - y.v)\n",
    "\n",
    "function sub_m(x::MCst, y::MAny)\n",
    "    if x.v == 0.0\n",
    "        MAny(:(- $(y.v)))\n",
    "    else\n",
    "        MAny(:($(x.v) - $(y.v)))\n",
    "    end\n",
    "end\n",
    "\n",
    "function sub_m(x::MAny, y::MCst)\n",
    "    if y.v == 0.0\n",
    "        x\n",
    "    else\n",
    "        MAny(:($(x.v) - $(y.v)))\n",
    "    end\n",
    "end"
   ]
  },
  {
   "cell_type": "code",
   "execution_count": 24,
   "metadata": {},
   "outputs": [
    {
     "data": {
      "text/plain": [
       "mult_m (generic function with 4 methods)"
      ]
     },
     "metadata": {},
     "output_type": "display_data"
    }
   ],
   "source": [
    "mult_m(x::MVal, y::MVal) = MAny(:($(x.v) * $(y.v)))\n",
    "\n",
    "mult_m(x::MCst, y::MCst) = MCst(:($(x.v * y.v)))\n",
    "\n",
    "function mult_m(x::MCst, y::MAny)\n",
    "    if x.v == 0.0\n",
    "        MCst(0.0)\n",
    "    elseif x.v == 1.0\n",
    "        y\n",
    "    else\n",
    "        MAny(:($(x.v) * $(y.v)))\n",
    "    end\n",
    "end\n",
    "\n",
    "function mult_m(x::MAny, y::MCst)\n",
    "    if y.v == 0.0\n",
    "        MCst(0.0)\n",
    "    elseif y.v == 1.0\n",
    "        x\n",
    "    else\n",
    "        MAny(:($(x.v) * $(y.v)))\n",
    "    end\n",
    "end"
   ]
  },
  {
   "cell_type": "code",
   "execution_count": 25,
   "metadata": {},
   "outputs": [
    {
     "data": {
      "text/plain": [
       "MAny(:(10.0x))"
      ]
     },
     "metadata": {},
     "output_type": "display_data"
    }
   ],
   "source": [
    "mult_m(MCst(10.0), MAny(:x))"
   ]
  },
  {
   "cell_type": "code",
   "execution_count": 26,
   "metadata": {},
   "outputs": [
    {
     "data": {
      "text/plain": [
       "\u001b[32m\u001b[1mTest Passed\u001b[22m\u001b[39m"
      ]
     },
     "metadata": {},
     "output_type": "display_data"
    }
   ],
   "source": [
    "@test mult_m(MCst(2.0), MCst(3.0)) == MCst(6.0)\n",
    "@test mult_m(MCst(10.0), MAny(:x)) == MAny(:(10.0 * x))\n",
    "@test mult_m(MCst(0.0), MAny(:x)) == MCst(0.0)\n",
    "@test mult_m(MCst(1.0), MAny(:x)) == MAny(:x)\n",
    "@test mult_m(MAny(:x), MCst(20.0)) == MAny(:(x * 20.0))\n",
    "@test mult_m(MAny(:x), MCst(0.0)) == MCst(0.0)\n",
    "@test mult_m(MAny(:x), MCst(1.0)) == MAny(:x)\n",
    "@test mult_m(MAny(:x), MAny(:y)) == MAny(:(x * y))"
   ]
  },
  {
   "cell_type": "code",
   "execution_count": 27,
   "metadata": {},
   "outputs": [
    {
     "data": {
      "text/plain": [
       "mult_r_g (generic function with 1 method)"
      ]
     },
     "metadata": {},
     "output_type": "display_data"
    }
   ],
   "source": [
    "mult_r_g(x_r, x_i, y_r, y_i) =\n",
    "    sub_m(mult_m(x_r, y_r), mult_m(x_i, y_i))"
   ]
  },
  {
   "cell_type": "code",
   "execution_count": 28,
   "metadata": {},
   "outputs": [
    {
     "data": {
      "text/plain": [
       "mult_i_g (generic function with 1 method)"
      ]
     },
     "metadata": {},
     "output_type": "display_data"
    }
   ],
   "source": [
    "mult_i_g(x_r, x_i, y_r, y_i) =\n",
    "    add_m(mult_m(x_r, y_i), mult_m(x_i, y_r))"
   ]
  },
  {
   "cell_type": "code",
   "execution_count": 29,
   "metadata": {},
   "outputs": [
    {
     "data": {
      "text/plain": [
       "g (generic function with 2 methods)"
      ]
     },
     "metadata": {},
     "output_type": "display_data"
    }
   ],
   "source": [
    "g(::Symbol, x::MCst) = x\n",
    "g(s::Symbol, ::MAny) = MAny(s)"
   ]
  },
  {
   "cell_type": "code",
   "execution_count": 30,
   "metadata": {},
   "outputs": [
    {
     "data": {
      "text/plain": [
       "fft_gen_impl2 (generic function with 1 method)"
      ]
     },
     "metadata": {},
     "output_type": "display_data"
    }
   ],
   "source": [
    "function fft_gen_impl2(p, b_r, b_i, d, m)\n",
    "    n = length(p)\n",
    "    es = Expr[]\n",
    "\n",
    "    if isone(n)\n",
    "        d[b_r[1]] = MAny(:(a[$(p[1])]))\n",
    "        d[b_i[1]] = MCst(0.0)\n",
    "        append!(es, (\n",
    "            :($(b_r[1]) = $(d[b_r[1]].v)),\n",
    "            :($(b_i[1]) = $(d[b_i[1]].v))\n",
    "        ))\n",
    "        return es, m\n",
    "    end\n",
    "\n",
    "    n2 = n ÷ 2\n",
    "    p1 = [p[k] for k in 1:2:n]\n",
    "    p2 = [p[k] for k in 2:2:n]\n",
    "\n",
    "    y1_r = [Symbol(\"y1_r_\", m, \"_\", k) for k in 1:n2]\n",
    "    y1_i = [Symbol(\"y1_i_\", m, \"_\", k) for k in 1:n2]\n",
    "    y2_r = [Symbol(\"y2_r_\", m, \"_\", k) for k in 1:n2]\n",
    "    y2_i = [Symbol(\"y2_i_\", m, \"_\", k) for k in 1:n2]\n",
    "    m += 1\n",
    "\n",
    "    es1, m = fft_gen_impl2(p1, y1_r, y1_i, d, m)\n",
    "    es2, m = fft_gen_impl2(p2, y2_r, y2_i, d, m)\n",
    "    append!(es, es1, es2)\n",
    "\n",
    "    w = exp(-2 * pi * im / n)\n",
    "\n",
    "    for k in 1:n2\n",
    "        wk = w^(k - 1)\n",
    "        t_r = Symbol(\"t_r_\", m)\n",
    "        t_i = Symbol(\"t_i_\", m)\n",
    "        m += 1\n",
    "\n",
    "        t_r_m = mult_r_g(MCst(real(wk)), MCst(imag(wk)), d[y2_r[k]], d[y2_i[k]])\n",
    "        t_i_m = mult_i_g(MCst(real(wk)), MCst(imag(wk)), d[y2_r[k]], d[y2_i[k]])\n",
    "        b_r1_m = add_m(d[y1_r[k]], g(t_r, t_r_m))\n",
    "        d[b_r[k]] = g(b_r[k], b_r1_m)\n",
    "        b_i1_m = add_m(d[y1_i[k]], g(t_i, t_i_m))\n",
    "        d[b_i[k]] = g(b_i[k], b_i1_m)\n",
    "        b_r2_m = sub_m(d[y1_r[k]], g(t_r, t_r_m))\n",
    "        d[b_r[k+n2]] = g(b_r[k+n2], b_r2_m)\n",
    "        b_i2_m = sub_m(d[y1_i[k]], g(t_i, t_i_m))\n",
    "        d[b_i[k+n2]] = g(b_i[k+n2], b_i2_m)\n",
    "\n",
    "        append!(es, (\n",
    "            :($t_r = $(t_r_m.v)),\n",
    "            :($t_i = $(t_i_m.v)),\n",
    "            :($(b_r[k]) = $(b_r1_m.v)),\n",
    "            :($(b_i[k]) = $(b_i1_m.v)),\n",
    "            :($(b_r[k+n2]) = $(b_r2_m.v)),\n",
    "            :($(b_i[k+n2]) = $(b_i2_m.v))\n",
    "        ))\n",
    "    end\n",
    "\n",
    "    return es, m\n",
    "end"
   ]
  },
  {
   "cell_type": "code",
   "execution_count": 31,
   "metadata": {},
   "outputs": [
    {
     "data": {
      "text/plain": [
       "fft_gen_impl2 (generic function with 2 methods)"
      ]
     },
     "metadata": {},
     "output_type": "display_data"
    }
   ],
   "source": [
    "function fft_gen_impl2(n)\n",
    "    @assert (n >= 1 && ispow2(n))\n",
    "\n",
    "    p = [k for k in 1:n]\n",
    "    b_r = [Symbol(\"y0_r_\", k) for k in 1:n]\n",
    "    b_i = [Symbol(\"y0_i_\", k) for k in 1:n]\n",
    "    d = Dict{Symbol,MVal}()\n",
    "    es, m = fft_gen_impl2(p, b_r, b_i, d, 1)\n",
    "\n",
    "    b = [:(complex($(b_r[k]), $(b_i[k]))) for k in 1:n]\n",
    "    # println(d)\n",
    "    quote\n",
    "        $(es...)\n",
    "        return $(Expr(:vect, b...))\n",
    "    end\n",
    "\n",
    "end"
   ]
  },
  {
   "cell_type": "code",
   "execution_count": 32,
   "metadata": {},
   "outputs": [
    {
     "data": {
      "text/plain": [
       "quote\n",
       "    y1_r_2_1 = a[1]\n",
       "    y1_i_2_1 = 0.0\n",
       "    y2_r_2_1 = a[3]\n",
       "    y2_i_2_1 = 0.0\n",
       "    t_r_3 = a[3]\n",
       "    t_i_3 = 0.0\n",
       "    y1_r_1_1 = a[1] + t_r_3\n",
       "    y1_i_1_1 = 0.0\n",
       "    y1_r_1_2 = a[1] - t_r_3\n",
       "    y1_i_1_2 = 0.0\n",
       "    y1_r_4_1 = a[2]\n",
       "    y1_i_4_1 = 0.0\n",
       "    y2_r_4_1 = a[4]\n",
       "    y2_i_4_1 = 0.0\n",
       "    t_r_5 = a[4]\n",
       "    t_i_5 = 0.0\n",
       "    y2_r_1_1 = a[2] + t_r_5\n",
       "    y2_i_1_1 = 0.0\n",
       "    y2_r_1_2 = a[2] - t_r_5\n",
       "    y2_i_1_2 = 0.0\n",
       "    t_r_6 = y2_r_1_1\n",
       "    t_i_6 = 0.0\n",
       "    y0_r_1 = y1_r_1_1 + t_r_6\n",
       "    y0_i_1 = 0.0\n",
       "    y0_r_3 = y1_r_1_1 - t_r_6\n",
       "    y0_i_3 = 0.0\n",
       "    t_r_7 = 6.123233995736766e-17y2_r_1_2\n",
       "    t_i_7 = 0.0 + -1.0y2_r_1_2\n",
       "    y0_r_2 = y1_r_1_2 + t_r_7\n",
       "    y0_i_2 = 0.0 + t_i_7\n",
       "    y0_r_4 = y1_r_1_2 - t_r_7\n",
       "    y0_i_4 = -t_i_7\n",
       "    return [complex(y0_r_1, y0_i_1), complex(y0_r_2, y0_i_2), complex(y0_r_3, y0_i_3), complex(y0_r_4, y0_i_4)]\n",
       "end"
      ]
     },
     "metadata": {},
     "output_type": "display_data"
    }
   ],
   "source": [
    "fft_gen_impl2(4) |> cleanup"
   ]
  },
  {
   "cell_type": "code",
   "execution_count": 33,
   "metadata": {},
   "outputs": [
    {
     "data": {
      "text/plain": [
       "fft_gen2 (generic function with 1 method)"
      ]
     },
     "metadata": {},
     "output_type": "display_data"
    }
   ],
   "source": [
    "@generated function fft_gen2(a::NTuple{N,Float64}) where {N}\n",
    "    fft_gen_impl2(N)\n",
    "end"
   ]
  },
  {
   "cell_type": "code",
   "execution_count": 34,
   "metadata": {},
   "outputs": [
    {
     "data": {
      "text/plain": [
       "4-element Vector{ComplexF64}:\n",
       " 100.0 + 0.0im\n",
       " -20.0 + 20.0im\n",
       " -20.0 + 0.0im\n",
       " -20.0 - 20.0im"
      ]
     },
     "metadata": {},
     "output_type": "display_data"
    }
   ],
   "source": [
    "fft_gen2((10.0, 20.0, 30.0, 40.0))"
   ]
  },
  {
   "cell_type": "code",
   "execution_count": 35,
   "metadata": {},
   "outputs": [
    {
     "data": {
      "text/plain": [
       "\u001b[32m\u001b[1mTest Passed\u001b[22m\u001b[39m"
      ]
     },
     "metadata": {},
     "output_type": "display_data"
    }
   ],
   "source": [
    "test_fft(fft_gen2)"
   ]
  }
 ],
 "metadata": {
  "kernelspec": {
   "display_name": "Julia 1.10.4",
   "language": "julia",
   "name": "julia-1.10"
  },
  "language_info": {
   "file_extension": ".jl",
   "mimetype": "application/julia",
   "name": "julia",
   "version": "1.10.4"
  }
 },
 "nbformat": 4,
 "nbformat_minor": 2
}
