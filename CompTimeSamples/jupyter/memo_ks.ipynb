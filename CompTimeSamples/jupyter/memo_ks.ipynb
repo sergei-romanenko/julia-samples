{
 "cells": [
  {
   "cell_type": "markdown",
   "metadata": {},
   "source": [
    "# 0/1 Knapsack problem"
   ]
  },
  {
   "cell_type": "code",
   "execution_count": 1,
   "metadata": {},
   "outputs": [
    {
     "data": {
      "text/plain": [
       "ks (generic function with 2 methods)"
      ]
     },
     "metadata": {},
     "output_type": "display_data"
    }
   ],
   "source": [
    "function ks(i, w, wt, vl)\n",
    "    if i == 0\n",
    "        0\n",
    "    elseif w == 0\n",
    "        0\n",
    "    elseif wt[i] > w\n",
    "        ks(i - 1, w, wt, vl)\n",
    "    else\n",
    "        r1 = ks(i - 1, w - wt[i], wt, vl)\n",
    "        r2 = ks(i - 1, w, wt, vl)\n",
    "        max(vl[i] + r1, r2)\n",
    "    end\n",
    "end\n",
    "\n",
    "ks(w, wt, vl) = ks(length(wt), w, wt, vl)"
   ]
  },
  {
   "cell_type": "code",
   "execution_count": 2,
   "metadata": {},
   "outputs": [],
   "source": [
    "using Test"
   ]
  },
  {
   "cell_type": "code",
   "execution_count": 3,
   "metadata": {},
   "outputs": [
    {
     "data": {
      "text/plain": [
       "\u001b[32m\u001b[1mTest Passed\u001b[22m\u001b[39m"
      ]
     },
     "metadata": {},
     "output_type": "display_data"
    }
   ],
   "source": [
    "@test ks(50, (10, 20, 30), (100, 200, 300)) == 500"
   ]
  },
  {
   "cell_type": "markdown",
   "metadata": {},
   "source": [
    "## Специализация по `w` и `wt`"
   ]
  },
  {
   "cell_type": "code",
   "execution_count": 4,
   "metadata": {},
   "outputs": [],
   "source": [
    "using MacroTools: prettify"
   ]
  },
  {
   "cell_type": "code",
   "execution_count": 5,
   "metadata": {},
   "outputs": [
    {
     "data": {
      "text/plain": [
       "ks_gen_impl1 (generic function with 2 methods)"
      ]
     },
     "metadata": {},
     "output_type": "display_data"
    }
   ],
   "source": [
    "function ks_gen_impl1(i, w, wt)\n",
    "    if i == 0\n",
    "        0\n",
    "    elseif w == 0\n",
    "        0\n",
    "    elseif wt[i] > w\n",
    "        ks_gen_impl1(i - 1, w, wt)\n",
    "    else\n",
    "        r1 = ks_gen_impl1(i - 1, w - wt[i], wt)\n",
    "        r2 = ks_gen_impl1(i - 1, w, wt)\n",
    "        :(max(vl[$i] + $r1, $r2))\n",
    "    end\n",
    "end\n",
    "\n",
    "ks_gen_impl1(w, wt) = ks_gen_impl1(length(wt), w, wt)"
   ]
  },
  {
   "cell_type": "code",
   "execution_count": 6,
   "metadata": {},
   "outputs": [
    {
     "data": {
      "text/plain": [
       ":(max(vl[3] + max(vl[2] + 0, max(vl[1] + 0, 0)), max(vl[2] + max(vl[1] + 0, 0), max(vl[1] + 0, 0))))"
      ]
     },
     "metadata": {},
     "output_type": "display_data"
    }
   ],
   "source": [
    "ks_gen_impl1(50, (10, 20, 30)) |> prettify"
   ]
  },
  {
   "cell_type": "markdown",
   "metadata": {},
   "source": [
    "## Мемоизация"
   ]
  },
  {
   "cell_type": "code",
   "execution_count": 7,
   "metadata": {},
   "outputs": [
    {
     "data": {
      "text/plain": [
       "ass! (generic function with 3 methods)"
      ]
     },
     "metadata": {},
     "output_type": "display_data"
    }
   ],
   "source": [
    "function ass!(es, d, s::Symbol, c::Int64)\n",
    "    d[s] = c\n",
    "end\n",
    "\n",
    "function ass!(es, d, s::Symbol, u::Symbol)\n",
    "    d[s] = u\n",
    "end\n",
    "\n",
    "function ass!(es, d, s::Symbol, e)\n",
    "    haskey(d, s) && return\n",
    "    d[s] = s\n",
    "    push!(es, :($s = $e))\n",
    "end"
   ]
  },
  {
   "cell_type": "code",
   "execution_count": 8,
   "metadata": {},
   "outputs": [
    {
     "data": {
      "text/plain": [
       "ks_gen_impl2! (generic function with 1 method)"
      ]
     },
     "metadata": {},
     "output_type": "display_data"
    }
   ],
   "source": [
    "function ks_gen_impl2!(es, d, i, w, wt)\n",
    "    r = Symbol(\"r_\", i, \"_\", w)\n",
    "\n",
    "    if haskey(d, r)\n",
    "        return d[r]\n",
    "    end\n",
    "\n",
    "    if i == 0\n",
    "        ass!(es, d, r, 0)\n",
    "    elseif w == 0\n",
    "        ass!(es, d, r, 0)\n",
    "    elseif wt[i] > w\n",
    "        ass!(es, d, r, ks_gen_impl2!(es, d, i - 1, w, wt))\n",
    "    else\n",
    "        r1 = ks_gen_impl2!(es, d, i - 1, w - wt[i], wt)\n",
    "        r2 = ks_gen_impl2!(es, d, i - 1, w, wt)\n",
    "        ass!(es, d, r, :(max(vl[$i] + $r1, $r2)))\n",
    "    end\n",
    "    return d[r]\n",
    "end"
   ]
  },
  {
   "cell_type": "code",
   "execution_count": 9,
   "metadata": {},
   "outputs": [
    {
     "data": {
      "text/plain": [
       "ks_gen_impl2 (generic function with 1 method)"
      ]
     },
     "metadata": {},
     "output_type": "display_data"
    }
   ],
   "source": [
    "function ks_gen_impl2(w, wt)\n",
    "    es = Expr[]\n",
    "    d = Dict{Symbol,Any}()\n",
    "    r = ks_gen_impl2!(es, d, length(wt), w, wt)\n",
    "\n",
    "    quote\n",
    "        $(es...)\n",
    "        return $r\n",
    "    end\n",
    "end"
   ]
  },
  {
   "cell_type": "code",
   "execution_count": 10,
   "metadata": {},
   "outputs": [
    {
     "data": {
      "text/plain": [
       "quote\n",
       "    r_1_20 = max(vl[1] + 0, 0)\n",
       "    r_2_20 = max(vl[2] + 0, r_1_20)\n",
       "    r_1_30 = max(vl[1] + 0, 0)\n",
       "    r_1_50 = max(vl[1] + 0, 0)\n",
       "    r_2_50 = max(vl[2] + r_1_30, r_1_50)\n",
       "    r_3_50 = max(vl[3] + r_2_20, r_2_50)\n",
       "    return r_3_50\n",
       "end"
      ]
     },
     "metadata": {},
     "output_type": "display_data"
    }
   ],
   "source": [
    "ks_gen_impl2(50, (10, 20, 30)) |> prettify"
   ]
  },
  {
   "cell_type": "code",
   "execution_count": 11,
   "metadata": {},
   "outputs": [
    {
     "data": {
      "text/plain": [
       "add_s (generic function with 2 methods)"
      ]
     },
     "metadata": {},
     "output_type": "display_data"
    }
   ],
   "source": [
    "add_s(x, y::Int64) =\n",
    "    if y == 0\n",
    "        x\n",
    "    else\n",
    "        :($x + $y)\n",
    "    end\n",
    "\n",
    "add_s(x, y) = :($x + $y)"
   ]
  },
  {
   "cell_type": "code",
   "execution_count": 12,
   "metadata": {},
   "outputs": [
    {
     "data": {
      "text/plain": [
       "max_s (generic function with 2 methods)"
      ]
     },
     "metadata": {},
     "output_type": "display_data"
    }
   ],
   "source": [
    "max_s(x, y::Int64) =\n",
    "    if y == 0\n",
    "        x\n",
    "    else\n",
    "        :(max($x, $y))\n",
    "    end\n",
    "\n",
    "max_s(x, y) = :(max($x, $y))"
   ]
  },
  {
   "cell_type": "code",
   "execution_count": 13,
   "metadata": {},
   "outputs": [
    {
     "data": {
      "text/plain": [
       "ks_gen_impl3! (generic function with 1 method)"
      ]
     },
     "metadata": {},
     "output_type": "display_data"
    }
   ],
   "source": [
    "function ks_gen_impl3!(es, d, i, w, wt)\n",
    "    r = Symbol(\"r_\", i, \"_\", w)\n",
    "\n",
    "    if haskey(d, r)\n",
    "        return d[r]\n",
    "    end\n",
    "\n",
    "    if i == 0\n",
    "        ass!(es, d, r, 0)\n",
    "    elseif w == 0\n",
    "        ass!(es, d, r, 0)\n",
    "    elseif wt[i] > w\n",
    "        ass!(es, d, r, ks_gen_impl3!(es, d, i - 1, w, wt))\n",
    "    else\n",
    "        r1 = ks_gen_impl3!(es, d, i - 1, w - wt[i], wt)\n",
    "        r2 = ks_gen_impl3!(es, d, i - 1, w, wt)\n",
    "        vl_i = Symbol(\"vl_\", i)\n",
    "        ass!(es, d, vl_i, :(vl[$i]))\n",
    "        ass!(es, d, r, max_s(add_s(vl_i, r1), r2))\n",
    "    end\n",
    "    return d[r]\n",
    "end"
   ]
  },
  {
   "cell_type": "code",
   "execution_count": 14,
   "metadata": {},
   "outputs": [
    {
     "data": {
      "text/plain": [
       "ks_gen_impl3 (generic function with 1 method)"
      ]
     },
     "metadata": {},
     "output_type": "display_data"
    }
   ],
   "source": [
    "function ks_gen_impl3(w, wt)\n",
    "    es = Expr[]\n",
    "    d = Dict{Symbol,Any}()\n",
    "    r = ks_gen_impl3!(es, d, length(wt), w, wt)\n",
    "\n",
    "    quote\n",
    "        $(es...)\n",
    "        return $r\n",
    "    end\n",
    "end"
   ]
  },
  {
   "cell_type": "code",
   "execution_count": 15,
   "metadata": {},
   "outputs": [
    {
     "data": {
      "text/plain": [
       "quote\n",
       "    vl_1 = vl[1]\n",
       "    vl_2 = vl[2]\n",
       "    r_2_20 = max(vl_2, vl_1)\n",
       "    r_2_50 = max(vl_2 + vl_1, vl_1)\n",
       "    vl_3 = vl[3]\n",
       "    r_3_50 = max(vl_3 + r_2_20, r_2_50)\n",
       "    return r_3_50\n",
       "end"
      ]
     },
     "metadata": {},
     "output_type": "display_data"
    }
   ],
   "source": [
    "ks_gen_impl3(50, (10, 20, 30)) |> prettify"
   ]
  },
  {
   "cell_type": "code",
   "execution_count": 16,
   "metadata": {},
   "outputs": [
    {
     "data": {
      "text/plain": [
       "quote\n",
       "    vl_2 = vl[2]\n",
       "    vl_4 = vl[4]\n",
       "    r_4_20 = max(vl_4, vl_2)\n",
       "    r_4_30 = max(vl_4 + vl_2, vl_2)\n",
       "    vl_3 = vl[3]\n",
       "    r_3_60 = max(vl_3 + vl_2, vl_2)\n",
       "    r_4_60 = max(vl_4 + vl_2, r_3_60)\n",
       "    vl_5 = vl[5]\n",
       "    r_5_60 = max(vl_5 + r_4_30, r_4_60)\n",
       "    vl_6 = vl[6]\n",
       "    r_6_60 = max(vl_6 + r_4_20, r_5_60)\n",
       "    vl_7 = vl[7]\n",
       "    r_7_60 = max(vl_7, r_6_60)\n",
       "    return r_7_60\n",
       "end"
      ]
     },
     "metadata": {},
     "output_type": "display_data"
    }
   ],
   "source": [
    "ks_gen_impl3(60, (70, 10, 50, 20, 30, 40, 60)) |> prettify"
   ]
  },
  {
   "cell_type": "code",
   "execution_count": 17,
   "metadata": {},
   "outputs": [
    {
     "data": {
      "text/plain": [
       "ks_gen3 (generic function with 1 method)"
      ]
     },
     "metadata": {},
     "output_type": "display_data"
    }
   ],
   "source": [
    "@generated function ks_gen3(::Val{w}, ::Val{wl}, vl) where {w,wl}\n",
    "    ks_gen_impl3(w, wl)\n",
    "end"
   ]
  },
  {
   "cell_type": "code",
   "execution_count": 18,
   "metadata": {},
   "outputs": [
    {
     "data": {
      "text/plain": [
       "\u001b[32m\u001b[1mTest Passed\u001b[22m\u001b[39m"
      ]
     },
     "metadata": {},
     "output_type": "display_data"
    }
   ],
   "source": [
    "@test ks_gen3(Val(50), Val((10, 20, 30)), (100, 200, 300)) == 500"
   ]
  },
  {
   "cell_type": "markdown",
   "metadata": {},
   "source": [
    "## Дополнительная оптимизация"
   ]
  },
  {
   "cell_type": "code",
   "execution_count": 19,
   "metadata": {},
   "outputs": [],
   "source": [
    "using MacroTools: postwalk, @capture"
   ]
  },
  {
   "cell_type": "code",
   "execution_count": 20,
   "metadata": {},
   "outputs": [
    {
     "data": {
      "text/plain": [
       "opt_expr (generic function with 1 method)"
      ]
     },
     "metadata": {},
     "output_type": "display_data"
    }
   ],
   "source": [
    "function opt_step(e)\n",
    "    if @capture(e, x_ + 0)\n",
    "        x\n",
    "    elseif @capture(e, max(x_, 0))\n",
    "        x\n",
    "    elseif @capture(e, max(x_ + y1_, y2_)) && y1 == y2\n",
    "        :($x + $y1)\n",
    "    else\n",
    "        e\n",
    "    end\n",
    "end\n",
    "\n",
    "opt_expr(e) = postwalk(opt_step, e)"
   ]
  },
  {
   "cell_type": "code",
   "execution_count": 21,
   "metadata": {},
   "outputs": [
    {
     "data": {
      "text/plain": [
       "\u001b[32m\u001b[1mTest Passed\u001b[22m\u001b[39m"
      ]
     },
     "metadata": {},
     "output_type": "display_data"
    }
   ],
   "source": [
    "@test opt_expr(:(a + c)) == :(a + c)\n",
    "@test opt_expr(:(a + 0)) == :a\n",
    "\n",
    "@test opt_expr(:(max(a, c))) == :(max(a, c))\n",
    "@test opt_expr(:(max(a, 0))) == :a\n",
    "\n",
    "@test opt_expr(:(max(a + b, c))) == :(max(a + b, c))\n",
    "@test opt_expr(:(max(a + (b + c), b + c))) == :(a + (b + c))\n",
    "\n",
    "@test opt_expr(:(max(a + b, b + 0))) == :(a + b)"
   ]
  },
  {
   "cell_type": "code",
   "execution_count": 22,
   "metadata": {},
   "outputs": [
    {
     "data": {
      "text/plain": [
       "ks_gen_impl4! (generic function with 1 method)"
      ]
     },
     "metadata": {},
     "output_type": "display_data"
    }
   ],
   "source": [
    "function ks_gen_impl4!(es, d, i, w, wt)\n",
    "    r = Symbol(\"r_\", i, \"_\", w)\n",
    "\n",
    "    if haskey(d, r)\n",
    "        return d[r]\n",
    "    end\n",
    "\n",
    "    if i == 0\n",
    "        ass!(es, d, r, 0)\n",
    "    elseif w == 0\n",
    "        ass!(es, d, r, 0)\n",
    "    elseif wt[i] > w\n",
    "        ass!(es, d, r, ks_gen_impl4!(es, d, i - 1, w, wt))\n",
    "    else\n",
    "        r1 = ks_gen_impl4!(es, d, i - 1, w - wt[i], wt)\n",
    "        r2 = ks_gen_impl4!(es, d, i - 1, w, wt)\n",
    "        vl_i = Symbol(\"vl_\", i)\n",
    "        ass!(es, d, vl_i, :(vl[$i]))\n",
    "        ass!(es, d, r, opt_expr(\n",
    "            :(max($vl_i + $r1, $r2))\n",
    "        ))\n",
    "    end\n",
    "    return d[r]\n",
    "end"
   ]
  },
  {
   "cell_type": "code",
   "execution_count": 23,
   "metadata": {},
   "outputs": [
    {
     "data": {
      "text/plain": [
       "ks_gen_impl4 (generic function with 1 method)"
      ]
     },
     "metadata": {},
     "output_type": "display_data"
    }
   ],
   "source": [
    "function ks_gen_impl4(w, wt)\n",
    "    es = Expr[]\n",
    "    d = Dict{Symbol,Any}()\n",
    "    r = ks_gen_impl4!(es, d, length(wt), w, wt)\n",
    "\n",
    "    quote\n",
    "        $(es...)\n",
    "        return $r\n",
    "    end\n",
    "end"
   ]
  },
  {
   "cell_type": "code",
   "execution_count": 24,
   "metadata": {},
   "outputs": [
    {
     "data": {
      "text/plain": [
       "quote\n",
       "    vl_1 = vl[1]\n",
       "    vl_2 = vl[2]\n",
       "    r_2_20 = max(vl_2, vl_1)\n",
       "    r_2_50 = vl_2 + vl_1\n",
       "    vl_3 = vl[3]\n",
       "    r_3_50 = max(vl_3 + r_2_20, r_2_50)\n",
       "    return r_3_50\n",
       "end"
      ]
     },
     "metadata": {},
     "output_type": "display_data"
    }
   ],
   "source": [
    "ks_gen_impl4(50, (10, 20, 30)) |> prettify"
   ]
  },
  {
   "cell_type": "code",
   "execution_count": 25,
   "metadata": {},
   "outputs": [
    {
     "data": {
      "text/plain": [
       "quote\n",
       "    vl_2 = vl[2]\n",
       "    vl_4 = vl[4]\n",
       "    r_4_20 = max(vl_4, vl_2)\n",
       "    r_4_30 = vl_4 + vl_2\n",
       "    vl_3 = vl[3]\n",
       "    r_3_60 = vl_3 + vl_2\n",
       "    r_4_60 = max(vl_4 + vl_2, r_3_60)\n",
       "    vl_5 = vl[5]\n",
       "    r_5_60 = max(vl_5 + r_4_30, r_4_60)\n",
       "    vl_6 = vl[6]\n",
       "    r_6_60 = max(vl_6 + r_4_20, r_5_60)\n",
       "    vl_7 = vl[7]\n",
       "    r_7_60 = max(vl_7, r_6_60)\n",
       "    return r_7_60\n",
       "end"
      ]
     },
     "metadata": {},
     "output_type": "display_data"
    }
   ],
   "source": [
    "ks_gen_impl4(60, (70, 10, 50, 20, 30, 40, 60)) |> prettify"
   ]
  },
  {
   "cell_type": "code",
   "execution_count": 26,
   "metadata": {},
   "outputs": [
    {
     "data": {
      "text/plain": [
       "ks_gen4 (generic function with 1 method)"
      ]
     },
     "metadata": {},
     "output_type": "display_data"
    }
   ],
   "source": [
    "@generated function ks_gen4(::Val{w}, ::Val{wl}, vl) where {w,wl}\n",
    "    ks_gen_impl4(w, wl)\n",
    "end"
   ]
  },
  {
   "cell_type": "code",
   "execution_count": 27,
   "metadata": {},
   "outputs": [
    {
     "data": {
      "text/plain": [
       "\u001b[32m\u001b[1mTest Passed\u001b[22m\u001b[39m"
      ]
     },
     "metadata": {},
     "output_type": "display_data"
    }
   ],
   "source": [
    "@test ks_gen4(Val(50), Val((10, 20, 30)), (100, 200, 300)) == 500"
   ]
  }
 ],
 "metadata": {
  "kernelspec": {
   "display_name": "Julia 1.11.3",
   "language": "julia",
   "name": "julia-1.11"
  },
  "language_info": {
   "file_extension": ".jl",
   "mimetype": "application/julia",
   "name": "julia",
   "version": "1.11.3"
  }
 },
 "nbformat": 4,
 "nbformat_minor": 2
}
