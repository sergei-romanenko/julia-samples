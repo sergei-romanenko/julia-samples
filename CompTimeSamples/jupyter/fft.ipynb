{
 "cells": [
  {
   "cell_type": "code",
   "execution_count": 1,
   "metadata": {},
   "outputs": [],
   "source": [
    "using FFTW, Random, Test"
   ]
  },
  {
   "cell_type": "code",
   "execution_count": 2,
   "metadata": {},
   "outputs": [],
   "source": [
    "include(\"MacroUtils.jl\")\n",
    "using .MacroUtils: cleanup"
   ]
  },
  {
   "cell_type": "markdown",
   "metadata": {},
   "source": [
    "Test data"
   ]
  },
  {
   "cell_type": "code",
   "execution_count": 3,
   "metadata": {},
   "outputs": [],
   "source": [
    "Random.seed!(1234)\n",
    "sample_vector_input = rand(32);\n",
    "sample_tuple_input = Tuple(sample_vector_input);"
   ]
  },
  {
   "cell_type": "code",
   "execution_count": 4,
   "metadata": {},
   "outputs": [
    {
     "data": {
      "text/plain": [
       "test_fft (generic function with 1 method)"
      ]
     },
     "metadata": {},
     "output_type": "display_data"
    }
   ],
   "source": [
    "function test_fft(fft)\n",
    "    @test FFTW.fft(sample_vector_input) ≈ fft(sample_tuple_input)\n",
    "end"
   ]
  },
  {
   "cell_type": "code",
   "execution_count": 5,
   "metadata": {},
   "outputs": [
    {
     "data": {
      "text/plain": [
       "fft_rec (generic function with 1 method)"
      ]
     },
     "metadata": {},
     "output_type": "display_data"
    }
   ],
   "source": [
    "function fft_rec(a)\n",
    "    n = length(a)\n",
    "    @assert ispow2(n)\n",
    "    isone(n) && return a\n",
    "    n2 = n ÷ 2\n",
    "    w = exp(-2 * pi * im / n)\n",
    "\n",
    "    a1 = [a[k] for k in 1:2:n]\n",
    "    a2 = [a[k] for k in 2:2:n]\n",
    "    y1 = fft_rec(a1)\n",
    "    y2 = fft_rec(a2)\n",
    "\n",
    "    wk = [w^(k - 1) for k in 1:n2]\n",
    "    z1 = [y1[k] + wk[k] * y2[k] for k in 1:n2]\n",
    "    z2 = [y1[k] - wk[k] * y2[k] for k in 1:n2]\n",
    "    return vcat(z1, z2)\n",
    "end"
   ]
  },
  {
   "cell_type": "code",
   "execution_count": 6,
   "metadata": {},
   "outputs": [
    {
     "data": {
      "text/plain": [
       "4-element Vector{ComplexF64}:\n",
       " 100.0 + 0.0im\n",
       " -20.0 + 20.0im\n",
       " -20.0 + 0.0im\n",
       " -20.0 - 20.0im"
      ]
     },
     "metadata": {},
     "output_type": "display_data"
    }
   ],
   "source": [
    "fft_rec((10, 20, 30, 40))"
   ]
  },
  {
   "cell_type": "code",
   "execution_count": 7,
   "metadata": {},
   "outputs": [
    {
     "data": {
      "text/plain": [
       "\u001b[32m\u001b[1mTest Passed\u001b[22m\u001b[39m"
      ]
     },
     "metadata": {},
     "output_type": "display_data"
    }
   ],
   "source": [
    "test_fft(fft_rec)"
   ]
  },
  {
   "cell_type": "code",
   "execution_count": 8,
   "metadata": {},
   "outputs": [
    {
     "data": {
      "text/plain": [
       "fft_rec2 (generic function with 1 method)"
      ]
     },
     "metadata": {},
     "output_type": "display_data"
    }
   ],
   "source": [
    "function fft_rec2(a, b)\n",
    "    n = length(a)\n",
    "    @assert ispow2(n)\n",
    "    isone(n) && (b[1] = a[1]; return a)\n",
    "    n2 = n ÷ 2\n",
    "    w = exp(-2 * pi * im / n)\n",
    "\n",
    "    a1 = [a[k] for k in 1:2:n]\n",
    "    a2 = [a[k] for k in 2:2:n]\n",
    "    y1 = Vector{Complex{Float64}}(undef, n2)\n",
    "    y2 = Vector{Complex{Float64}}(undef, n2)\n",
    "    fft_rec2(a1, y1)\n",
    "    fft_rec2(a2, y2)\n",
    "    for k in 1:n2\n",
    "        wky = w^(k - 1) * y2[k]\n",
    "        b[k]    = y1[k] + wky\n",
    "        b[k+n2] = y1[k] - wky\n",
    "    end\n",
    "    return\n",
    "end"
   ]
  },
  {
   "cell_type": "code",
   "execution_count": 9,
   "metadata": {},
   "outputs": [
    {
     "data": {
      "text/plain": [
       "fft_rec2 (generic function with 2 methods)"
      ]
     },
     "metadata": {},
     "output_type": "display_data"
    }
   ],
   "source": [
    "function fft_rec2(a)\n",
    "    b = Vector{Complex{Float64}}(undef, length(a))\n",
    "    fft_rec2(a, b)\n",
    "    return b\n",
    "end"
   ]
  },
  {
   "cell_type": "code",
   "execution_count": 10,
   "metadata": {},
   "outputs": [
    {
     "data": {
      "text/plain": [
       "4-element Vector{ComplexF64}:\n",
       " 100.0 + 0.0im\n",
       " -20.0 + 20.0im\n",
       " -20.0 + 0.0im\n",
       " -20.0 - 20.0im"
      ]
     },
     "metadata": {},
     "output_type": "display_data"
    }
   ],
   "source": [
    "fft_rec2((10.0, 20.0, 30.0, 40.0))"
   ]
  },
  {
   "cell_type": "code",
   "execution_count": 11,
   "metadata": {},
   "outputs": [
    {
     "data": {
      "text/plain": [
       "\u001b[32m\u001b[1mTest Passed\u001b[22m\u001b[39m"
      ]
     },
     "metadata": {},
     "output_type": "display_data"
    }
   ],
   "source": [
    "test_fft(fft_rec2)"
   ]
  },
  {
   "cell_type": "code",
   "execution_count": 12,
   "metadata": {},
   "outputs": [
    {
     "data": {
      "text/plain": [
       "fft_rec3 (generic function with 1 method)"
      ]
     },
     "metadata": {},
     "output_type": "display_data"
    }
   ],
   "source": [
    "function fft_rec3(a, p, b)\n",
    "    n = length(p)\n",
    "    isone(n) && (b[1] = a[p[1]]; return a)\n",
    "    n2 = n ÷ 2\n",
    "    w = exp(-2 * pi * im / n)\n",
    "\n",
    "    p1 = [p[k] for k in 1:2:n]\n",
    "    p2 = [p[k] for k in 2:2:n]\n",
    "    y1 = Vector{Complex{Float64}}(undef, n2)\n",
    "    y2 = Vector{Complex{Float64}}(undef, n2)\n",
    "    fft_rec3(a, p1, y1)\n",
    "    fft_rec3(a, p2, y2)\n",
    "    for k in 1:n2\n",
    "        wky = w^(k - 1) * y2[k]\n",
    "        b[k]    = y1[k] + wky\n",
    "        b[k+n2] = y1[k] - wky\n",
    "    end\n",
    "    return\n",
    "end"
   ]
  },
  {
   "cell_type": "code",
   "execution_count": 13,
   "metadata": {},
   "outputs": [
    {
     "data": {
      "text/plain": [
       "fft_rec3 (generic function with 2 methods)"
      ]
     },
     "metadata": {},
     "output_type": "display_data"
    }
   ],
   "source": [
    "function fft_rec3(a)\n",
    "    n = length(a)\n",
    "    @assert ispow2(n)\n",
    "    p = [k for k in 1:n]\n",
    "    b = Vector{Complex{Float64}}(undef, length(a))\n",
    "    fft_rec3(a, p, b)\n",
    "    return b\n",
    "end"
   ]
  },
  {
   "cell_type": "code",
   "execution_count": 14,
   "metadata": {},
   "outputs": [
    {
     "data": {
      "text/plain": [
       "4-element Vector{ComplexF64}:\n",
       " 100.0 + 0.0im\n",
       " -20.0 + 20.0im\n",
       " -20.0 + 0.0im\n",
       " -20.0 - 20.0im"
      ]
     },
     "metadata": {},
     "output_type": "display_data"
    }
   ],
   "source": [
    "fft_rec3((10.0, 20.0, 30.0, 40.0))"
   ]
  },
  {
   "cell_type": "code",
   "execution_count": 15,
   "metadata": {},
   "outputs": [
    {
     "data": {
      "text/plain": [
       "\u001b[32m\u001b[1mTest Passed\u001b[22m\u001b[39m"
      ]
     },
     "metadata": {},
     "output_type": "display_data"
    }
   ],
   "source": [
    "test_fft(fft_rec3)"
   ]
  },
  {
   "cell_type": "code",
   "execution_count": 16,
   "metadata": {},
   "outputs": [
    {
     "data": {
      "text/plain": [
       "fft_rec4 (generic function with 1 method)"
      ]
     },
     "metadata": {},
     "output_type": "display_data"
    }
   ],
   "source": [
    "function fft_rec4(a, p, b, m)\n",
    "    n = length(p)\n",
    "    isone(n) && (b[1] = a[p[1]]; return m)\n",
    "    n2 = n ÷ 2\n",
    "    w = exp(-2 * pi * im / n)\n",
    "\n",
    "    p1 = [p[k] for k in 1:2:n]\n",
    "    p2 = [p[k] for k in 2:2:n]\n",
    "    y1 = Vector{Complex{Float64}}(undef, n2)\n",
    "    m += 1\n",
    "    y2 = Vector{Complex{Float64}}(undef, n2)\n",
    "    m = fft_rec4(a, p1, y1, m)\n",
    "    m = fft_rec4(a, p2, y2, m)\n",
    "    for k in 1:n2\n",
    "        wky = w^(k - 1) * y2[k]\n",
    "        b[k]    = y1[k] + wky\n",
    "        b[k+n2] = y1[k] - wky\n",
    "    end\n",
    "    return m\n",
    "end"
   ]
  },
  {
   "cell_type": "code",
   "execution_count": 17,
   "metadata": {},
   "outputs": [
    {
     "data": {
      "text/plain": [
       "fft_rec4 (generic function with 2 methods)"
      ]
     },
     "metadata": {},
     "output_type": "display_data"
    }
   ],
   "source": [
    "function fft_rec4(a)\n",
    "    n = length(a)\n",
    "    @assert ispow2(n)\n",
    "    p = [k for k in 1:n]\n",
    "    b = Vector{Complex{Float64}}(undef, length(a))\n",
    "    m = fft_rec4(a, p, b, 1)\n",
    "    return b\n",
    "end"
   ]
  },
  {
   "cell_type": "code",
   "execution_count": 18,
   "metadata": {},
   "outputs": [
    {
     "data": {
      "text/plain": [
       "4-element Vector{ComplexF64}:\n",
       " 100.0 + 0.0im\n",
       " -20.0 + 20.0im\n",
       " -20.0 + 0.0im\n",
       " -20.0 - 20.0im"
      ]
     },
     "metadata": {},
     "output_type": "display_data"
    }
   ],
   "source": [
    "fft_rec4((10.0, 20.0, 30.0, 40.0))"
   ]
  },
  {
   "cell_type": "code",
   "execution_count": 19,
   "metadata": {},
   "outputs": [
    {
     "data": {
      "text/plain": [
       "\u001b[32m\u001b[1mTest Passed\u001b[22m\u001b[39m"
      ]
     },
     "metadata": {},
     "output_type": "display_data"
    }
   ],
   "source": [
    "test_fft(fft_rec4)"
   ]
  },
  {
   "cell_type": "code",
   "execution_count": 20,
   "metadata": {},
   "outputs": [
    {
     "data": {
      "text/plain": [
       "fft_gen_impl1 (generic function with 1 method)"
      ]
     },
     "metadata": {},
     "output_type": "display_data"
    }
   ],
   "source": [
    "function fft_gen_impl1(p, b, m)\n",
    "    n = length(p)\n",
    "    es = Expr[]\n",
    "\n",
    "    if isone(n)\n",
    "        push!(es, :($b[1] = a[$(p[1])]))\n",
    "        return es, m\n",
    "    end\n",
    "\n",
    "    n2 = n ÷ 2\n",
    "    p1 = [p[k] for k in 1:2:n]\n",
    "    p2 = [p[k] for k in 2:2:n]\n",
    "\n",
    "    y1 = Symbol(\"y1_\", m)\n",
    "    y2 = Symbol(\"y2_\", m)\n",
    "    m += 1\n",
    "\n",
    "    push!(es, :($y1 = Vector{Complex{Float64}}(undef, $n2)))\n",
    "    push!(es, :($y2 = Vector{Complex{Float64}}(undef, $n2)))\n",
    "\n",
    "    es1, m = fft_gen_impl1(p1, y1, m)\n",
    "    es2, m = fft_gen_impl1(p2, y2, m)\n",
    "    append!(es, es1, es2)\n",
    "\n",
    "    w = exp(-2 * pi * im / n)\n",
    "\n",
    "    for k in 1:n2\n",
    "        wky = Symbol(\"wky\", m)\n",
    "        m += 1\n",
    "        push!(es, :($wky = $(w^(k - 1)) * $y2[$k]))\n",
    "        push!(es, :($b[$k] = $y1[$k] + $wky))\n",
    "        push!(es, :($b[$(k + n2)] = $y1[$k] - $wky))\n",
    "    end\n",
    "    return es, m\n",
    "end"
   ]
  },
  {
   "cell_type": "code",
   "execution_count": 21,
   "metadata": {},
   "outputs": [
    {
     "data": {
      "text/plain": [
       "fft_gen_impl1 (generic function with 2 methods)"
      ]
     },
     "metadata": {},
     "output_type": "display_data"
    }
   ],
   "source": [
    "function fft_gen_impl1(n)\n",
    "    @assert (n >= 1 && ispow2(n))\n",
    "    p = [k for k in 1:n]\n",
    "    b = Symbol(\"y0\")\n",
    "    es, m = fft_gen_impl1(p, b, 1)\n",
    "\n",
    "    quote\n",
    "        $b = Vector{Complex{Float64}}(undef, $n)\n",
    "        $(es...)\n",
    "        return $b\n",
    "    end\n",
    "end"
   ]
  },
  {
   "cell_type": "code",
   "execution_count": 22,
   "metadata": {},
   "outputs": [
    {
     "data": {
      "text/plain": [
       "quote\n",
       "    y0 = Vector{Complex{Float64}}(undef, 8)\n",
       "    y1_1 = Vector{Complex{Float64}}(undef, 4)\n",
       "    y2_1 = Vector{Complex{Float64}}(undef, 4)\n",
       "    y1_2 = Vector{Complex{Float64}}(undef, 2)\n",
       "    y2_2 = Vector{Complex{Float64}}(undef, 2)\n",
       "    y1_3 = Vector{Complex{Float64}}(undef, 1)\n",
       "    y2_3 = Vector{Complex{Float64}}(undef, 1)\n",
       "    y1_3[1] = a[1]\n",
       "    y2_3[1] = a[5]\n",
       "    wky4 = (1.0 + 0.0im) * y2_3[1]\n",
       "    y1_2[1] = y1_3[1] + wky4\n",
       "    y1_2[2] = y1_3[1] - wky4\n",
       "    y1_5 = Vector{Complex{Float64}}(undef, 1)\n",
       "    y2_5 = Vector{Complex{Float64}}(undef, 1)\n",
       "    y1_5[1] = a[3]\n",
       "    y2_5[1] = a[7]\n",
       "    wky6 = (1.0 + 0.0im) * y2_5[1]\n",
       "    y2_2[1] = y1_5[1] + wky6\n",
       "    y2_2[2] = y1_5[1] - wky6\n",
       "    wky7 = (1.0 + 0.0im) * y2_2[1]\n",
       "    y1_1[1] = y1_2[1] + wky7\n",
       "    y1_1[3] = y1_2[1] - wky7\n",
       "    wky8 = (6.123233995736766e-17 - 1.0im) * y2_2[2]\n",
       "    y1_1[2] = y1_2[2] + wky8\n",
       "    y1_1[4] = y1_2[2] - wky8\n",
       "    y1_9 = Vector{Complex{Float64}}(undef, 2)\n",
       "    y2_9 = Vector{Complex{Float64}}(undef, 2)\n",
       "    y1_10 = Vector{Complex{Float64}}(undef, 1)\n",
       "    y2_10 = Vector{Complex{Float64}}(undef, 1)\n",
       "    y1_10[1] = a[2]\n",
       "    y2_10[1] = a[6]\n",
       "    wky11 = (1.0 + 0.0im) * y2_10[1]\n",
       "    y1_9[1] = y1_10[1] + wky11\n",
       "    y1_9[2] = y1_10[1] - wky11\n",
       "    y1_12 = Vector{Complex{Float64}}(undef, 1)\n",
       "    y2_12 = Vector{Complex{Float64}}(undef, 1)\n",
       "    y1_12[1] = a[4]\n",
       "    y2_12[1] = a[8]\n",
       "    wky13 = (1.0 + 0.0im) * y2_12[1]\n",
       "    y2_9[1] = y1_12[1] + wky13\n",
       "    y2_9[2] = y1_12[1] - wky13\n",
       "    wky14 = (1.0 + 0.0im) * y2_9[1]\n",
       "    y2_1[1] = y1_9[1] + wky14\n",
       "    y2_1[3] = y1_9[1] - wky14\n",
       "    wky15 = (6.123233995736766e-17 - 1.0im) * y2_9[2]\n",
       "    y2_1[2] = y1_9[2] + wky15\n",
       "    y2_1[4] = y1_9[2] - wky15\n",
       "    wky16 = (1.0 + 0.0im) * y2_1[1]\n",
       "    y0[1] = y1_1[1] + wky16\n",
       "    y0[5] = y1_1[1] - wky16\n",
       "    wky17 = (0.7071067811865476 - 0.7071067811865475im) * y2_1[2]\n",
       "    y0[2] = y1_1[2] + wky17\n",
       "    y0[6] = y1_1[2] - wky17\n",
       "    wky18 = (2.220446049250313e-16 - 1.0im) * y2_1[3]\n",
       "    y0[3] = y1_1[3] + wky18\n",
       "    y0[7] = y1_1[3] - wky18\n",
       "    wky19 = (-0.7071067811865474 - 0.7071067811865477im) * y2_1[4]\n",
       "    y0[4] = y1_1[4] + wky19\n",
       "    y0[8] = y1_1[4] - wky19\n",
       "    return y0\n",
       "end"
      ]
     },
     "metadata": {},
     "output_type": "display_data"
    }
   ],
   "source": [
    "fft_gen_impl1(8) |> cleanup"
   ]
  },
  {
   "cell_type": "code",
   "execution_count": 23,
   "metadata": {},
   "outputs": [
    {
     "data": {
      "text/plain": [
       "fft_gen1 (generic function with 1 method)"
      ]
     },
     "metadata": {},
     "output_type": "display_data"
    }
   ],
   "source": [
    "@generated function fft_gen1(a::NTuple{N, Float64}) where {N}\n",
    "    fft_gen_impl1(N)\n",
    "end"
   ]
  },
  {
   "cell_type": "code",
   "execution_count": 24,
   "metadata": {},
   "outputs": [
    {
     "data": {
      "text/plain": [
       "4-element Vector{ComplexF64}:\n",
       " 100.0 + 0.0im\n",
       " -20.0 + 20.0im\n",
       " -20.0 + 0.0im\n",
       " -20.0 - 20.0im"
      ]
     },
     "metadata": {},
     "output_type": "display_data"
    }
   ],
   "source": [
    "fft_gen1((10.0, 20.0, 30.0, 40.0))"
   ]
  },
  {
   "cell_type": "code",
   "execution_count": 25,
   "metadata": {},
   "outputs": [
    {
     "data": {
      "text/plain": [
       "\u001b[32m\u001b[1mTest Passed\u001b[22m\u001b[39m"
      ]
     },
     "metadata": {},
     "output_type": "display_data"
    }
   ],
   "source": [
    "test_fft(fft_gen1)"
   ]
  },
  {
   "cell_type": "code",
   "execution_count": 58,
   "metadata": {},
   "outputs": [
    {
     "data": {
      "text/plain": [
       "fft_gen_impl2 (generic function with 2 methods)"
      ]
     },
     "metadata": {},
     "output_type": "display_data"
    }
   ],
   "source": [
    "function fft_gen_impl2(p, b, m)\n",
    "    n = length(p)\n",
    "    es = Expr[]\n",
    "\n",
    "    if isone(n)\n",
    "        push!(es, :($(b[1]) = a[$(p[1])]))\n",
    "        return es, m\n",
    "    end\n",
    "\n",
    "    n2 = n ÷ 2\n",
    "    p1 = [p[k] for k in 1:2:n]\n",
    "    p2 = [p[k] for k in 2:2:n]\n",
    "\n",
    "    y1 = [Symbol(\"y1_\", m, k) for k in 1:n2]\n",
    "    y2 = [Symbol(\"y2_\", m, k) for k in 1:n2]\n",
    "    m += 1\n",
    "\n",
    "    es1, m = fft_gen_impl2(p1, y1, m)\n",
    "    es2, m = fft_gen_impl2(p2, y2, m)\n",
    "    append!(es, es1, es2)\n",
    "\n",
    "    w = exp(-2 * pi * im / n)\n",
    "\n",
    "    for k in 1:n2\n",
    "        wky = Symbol(\"wky\", m)\n",
    "        m += 1\n",
    "        push!(es, :($wky = $(w^(k - 1)) * $(y2[k])))\n",
    "        push!(es, :($(b[k]) = $(y1[k]) + $wky))\n",
    "        push!(es, :($(b[k + n2]) = $(y1[k]) - $wky))\n",
    "    end\n",
    "    return es, m\n",
    "end"
   ]
  },
  {
   "cell_type": "code",
   "execution_count": 59,
   "metadata": {},
   "outputs": [
    {
     "data": {
      "text/plain": [
       "fft_gen_impl2 (generic function with 2 methods)"
      ]
     },
     "metadata": {},
     "output_type": "display_data"
    }
   ],
   "source": [
    "function fft_gen_impl2(n)\n",
    "    @assert (n >= 1 && ispow2(n))\n",
    "    p = [k for k in 1:n]\n",
    "    b = [Symbol(\"y0_\", k) for  k in 1:n]\n",
    "    es, m = fft_gen_impl2(p, b, 1)\n",
    "\n",
    "    quote\n",
    "        $(es...)\n",
    "        return $(Expr(:vect, b...))\n",
    "    end\n",
    "end"
   ]
  },
  {
   "cell_type": "code",
   "execution_count": 60,
   "metadata": {},
   "outputs": [
    {
     "data": {
      "text/plain": [
       "quote\n",
       "    y1_31 = a[1]\n",
       "    y2_31 = a[5]\n",
       "    wky4 = (1.0 + 0.0im) * y2_31\n",
       "    y1_21 = y1_31 + wky4\n",
       "    y1_22 = y1_31 - wky4\n",
       "    y1_51 = a[3]\n",
       "    y2_51 = a[7]\n",
       "    wky6 = (1.0 + 0.0im) * y2_51\n",
       "    y2_21 = y1_51 + wky6\n",
       "    y2_22 = y1_51 - wky6\n",
       "    wky7 = (1.0 + 0.0im) * y2_21\n",
       "    y1_11 = y1_21 + wky7\n",
       "    y1_13 = y1_21 - wky7\n",
       "    wky8 = (6.123233995736766e-17 - 1.0im) * y2_22\n",
       "    y1_12 = y1_22 + wky8\n",
       "    y1_14 = y1_22 - wky8\n",
       "    y1_101 = a[2]\n",
       "    y2_101 = a[6]\n",
       "    wky11 = (1.0 + 0.0im) * y2_101\n",
       "    y1_91 = y1_101 + wky11\n",
       "    y1_92 = y1_101 - wky11\n",
       "    y1_121 = a[4]\n",
       "    y2_121 = a[8]\n",
       "    wky13 = (1.0 + 0.0im) * y2_121\n",
       "    y2_91 = y1_121 + wky13\n",
       "    y2_92 = y1_121 - wky13\n",
       "    wky14 = (1.0 + 0.0im) * y2_91\n",
       "    y2_11 = y1_91 + wky14\n",
       "    y2_13 = y1_91 - wky14\n",
       "    wky15 = (6.123233995736766e-17 - 1.0im) * y2_92\n",
       "    y2_12 = y1_92 + wky15\n",
       "    y2_14 = y1_92 - wky15\n",
       "    wky16 = (1.0 + 0.0im) * y2_11\n",
       "    y0_1 = y1_11 + wky16\n",
       "    y0_5 = y1_11 - wky16\n",
       "    wky17 = (0.7071067811865476 - 0.7071067811865475im) * y2_12\n",
       "    y0_2 = y1_12 + wky17\n",
       "    y0_6 = y1_12 - wky17\n",
       "    wky18 = (2.220446049250313e-16 - 1.0im) * y2_13\n",
       "    y0_3 = y1_13 + wky18\n",
       "    y0_7 = y1_13 - wky18\n",
       "    wky19 = (-0.7071067811865474 - 0.7071067811865477im) * y2_14\n",
       "    y0_4 = y1_14 + wky19\n",
       "    y0_8 = y1_14 - wky19\n",
       "    return [y0_1, y0_2, y0_3, y0_4, y0_5, y0_6, y0_7, y0_8]\n",
       "end"
      ]
     },
     "metadata": {},
     "output_type": "display_data"
    }
   ],
   "source": [
    "fft_gen_impl2(8) |> cleanup"
   ]
  },
  {
   "cell_type": "code",
   "execution_count": 61,
   "metadata": {},
   "outputs": [
    {
     "data": {
      "text/plain": [
       "fft_gen2 (generic function with 1 method)"
      ]
     },
     "metadata": {},
     "output_type": "display_data"
    }
   ],
   "source": [
    "@generated function fft_gen2(a::NTuple{N, Float64}) where {N}\n",
    "    fft_gen_impl2(N)\n",
    "end"
   ]
  },
  {
   "cell_type": "code",
   "execution_count": 62,
   "metadata": {},
   "outputs": [
    {
     "data": {
      "text/plain": [
       "4-element Vector{ComplexF64}:\n",
       " 100.0 + 0.0im\n",
       " -20.0 + 20.0im\n",
       " -20.0 + 0.0im\n",
       " -20.0 - 20.0im"
      ]
     },
     "metadata": {},
     "output_type": "display_data"
    }
   ],
   "source": [
    "fft_gen2((10.0, 20.0, 30.0, 40.0))"
   ]
  },
  {
   "cell_type": "code",
   "execution_count": 63,
   "metadata": {},
   "outputs": [
    {
     "data": {
      "text/plain": [
       "\u001b[32m\u001b[1mTest Passed\u001b[22m\u001b[39m"
      ]
     },
     "metadata": {},
     "output_type": "display_data"
    }
   ],
   "source": [
    "test_fft(fft_gen2)"
   ]
  }
 ],
 "metadata": {
  "kernelspec": {
   "display_name": "Julia 1.10.4",
   "language": "julia",
   "name": "julia-1.10"
  },
  "language_info": {
   "file_extension": ".jl",
   "mimetype": "application/julia",
   "name": "julia",
   "version": "1.10.4"
  }
 },
 "nbformat": 4,
 "nbformat_minor": 2
}
