{
 "cells": [
  {
   "cell_type": "code",
   "execution_count": 1,
   "metadata": {},
   "outputs": [],
   "source": [
    "using CompTime, InteractiveUtils"
   ]
  },
  {
   "cell_type": "code",
   "execution_count": 2,
   "metadata": {},
   "outputs": [
    {
     "data": {
      "text/plain": [
       "pw_rec (generic function with 1 method)"
      ]
     },
     "metadata": {},
     "output_type": "display_data"
    }
   ],
   "source": [
    "function pw_rec(n, x)\n",
    "    if iszero(n)\n",
    "        one(x)\n",
    "    else\n",
    "        x * pw_rec(n - 1, x)\n",
    "    end\n",
    "end"
   ]
  },
  {
   "cell_type": "code",
   "execution_count": 3,
   "metadata": {},
   "outputs": [
    {
     "data": {
      "text/plain": [
       "\"AbcAbcAbc\""
      ]
     },
     "metadata": {},
     "output_type": "display_data"
    }
   ],
   "source": [
    "pw_rec(3, \"Abc\")"
   ]
  },
  {
   "cell_type": "code",
   "execution_count": 4,
   "metadata": {},
   "outputs": [
    {
     "data": {
      "text/plain": [
       "pw_loop (generic function with 1 method)"
      ]
     },
     "metadata": {},
     "output_type": "display_data"
    }
   ],
   "source": [
    "function pw_loop(n, x)\n",
    "    r = one(x)\n",
    "    for i in 1:n\n",
    "        r = r * x\n",
    "    end\n",
    "    return r\n",
    "end"
   ]
  },
  {
   "cell_type": "code",
   "execution_count": 5,
   "metadata": {},
   "outputs": [
    {
     "data": {
      "text/plain": [
       "\"AbcAbcAbc\""
      ]
     },
     "metadata": {},
     "output_type": "display_data"
    }
   ],
   "source": [
    "pw_loop(3, \"Abc\")"
   ]
  },
  {
   "cell_type": "code",
   "execution_count": 6,
   "metadata": {},
   "outputs": [
    {
     "data": {
      "text/plain": [
       "runtime (generic function with 1 method)"
      ]
     },
     "metadata": {},
     "output_type": "display_data"
    }
   ],
   "source": [
    "@ct_enable function pw_ct(@ct(n), x)\n",
    "    r = one(x)\n",
    "    @ct_ctrl for i in 1:n\n",
    "        r = r * x\n",
    "    end\n",
    "    return r\n",
    "end"
   ]
  },
  {
   "cell_type": "code",
   "execution_count": 7,
   "metadata": {},
   "outputs": [
    {
     "data": {
      "text/plain": [
       "pw_ct (generic function with 2 methods)"
      ]
     },
     "metadata": {},
     "output_type": "display_data"
    }
   ],
   "source": [
    "pw_ct(n, x) = pw_ct(Val{n}, x)"
   ]
  },
  {
   "cell_type": "code",
   "execution_count": 8,
   "metadata": {},
   "outputs": [
    {
     "data": {
      "text/plain": [
       "\"AbcAbcAbc\""
      ]
     },
     "metadata": {},
     "output_type": "display_data"
    }
   ],
   "source": [
    "pw_ct(3, \"Abc\")"
   ]
  },
  {
   "cell_type": "code",
   "execution_count": 9,
   "metadata": {},
   "outputs": [
    {
     "data": {
      "text/plain": [
       "\"AbcAbcAbc\""
      ]
     },
     "metadata": {},
     "output_type": "display_data"
    }
   ],
   "source": [
    "runtime(pw_ct, 3, \"Abc\")"
   ]
  },
  {
   "cell_type": "code",
   "execution_count": 10,
   "metadata": {},
   "outputs": [
    {
     "data": {
      "text/plain": [
       "\"AbcAbcAbc\""
      ]
     },
     "metadata": {},
     "output_type": "display_data"
    }
   ],
   "source": [
    "comptime(pw_ct, Val{3}, \"Abc\")"
   ]
  },
  {
   "cell_type": "code",
   "execution_count": 11,
   "metadata": {},
   "outputs": [
    {
     "data": {
      "text/plain": [
       "CodeInfo(\n",
       "\u001b[90m1 ─\u001b[39m %1 = Base.mul_int(1, x)\u001b[36m::Int64\u001b[39m\n",
       "\u001b[90m│  \u001b[39m %2 = Base.mul_int(%1, x)\u001b[36m::Int64\u001b[39m\n",
       "\u001b[90m│  \u001b[39m %3 = Base.mul_int(%2, x)\u001b[36m::Int64\u001b[39m\n",
       "\u001b[90m└──\u001b[39m      return %3\n",
       ") => Int64"
      ]
     },
     "metadata": {},
     "output_type": "display_data"
    }
   ],
   "source": [
    "@code_typed pw_ct(Val{3}, 10)"
   ]
  },
  {
   "cell_type": "code",
   "execution_count": 12,
   "metadata": {},
   "outputs": [],
   "source": [
    "# @code_typed (runtime(pw_ct, 3, 10))"
   ]
  },
  {
   "cell_type": "code",
   "execution_count": 13,
   "metadata": {},
   "outputs": [
    {
     "data": {
      "text/plain": [
       "quote\n",
       "    \u001b[90m#= /home/roman/devel/Julia/julia-samples/CompTimeSamples/jupyter/pw.ipynb:1 =#\u001b[39m\n",
       "    \u001b[90m#= /home/roman/devel/Julia/julia-samples/CompTimeSamples/jupyter/pw.ipynb:2 =#\u001b[39m\n",
       "    r = one(x)\n",
       "    \u001b[90m#= /home/roman/devel/Julia/julia-samples/CompTimeSamples/jupyter/pw.ipynb:3 =#\u001b[39m\n",
       "    begin\n",
       "        begin\n",
       "            \u001b[90m#= /home/roman/devel/Julia/julia-samples/CompTimeSamples/jupyter/pw.ipynb:4 =#\u001b[39m\n",
       "            r = r * x\n",
       "            \u001b[90m#= /home/roman/devel/Julia/julia-samples/CompTimeSamples/jupyter/pw.ipynb:5 =#\u001b[39m\n",
       "        end\n",
       "        begin\n",
       "            \u001b[90m#= /home/roman/devel/Julia/julia-samples/CompTimeSamples/jupyter/pw.ipynb:4 =#\u001b[39m\n",
       "            r = r * x\n",
       "            \u001b[90m#= /home/roman/devel/Julia/julia-samples/CompTimeSamples/jupyter/pw.ipynb:5 =#\u001b[39m\n",
       "        end\n",
       "        begin\n",
       "            \u001b[90m#= /home/roman/devel/Julia/julia-samples/CompTimeSamples/jupyter/pw.ipynb:4 =#\u001b[39m\n",
       "            r = r * x\n",
       "            \u001b[90m#= /home/roman/devel/Julia/julia-samples/CompTimeSamples/jupyter/pw.ipynb:5 =#\u001b[39m\n",
       "        end\n",
       "    end\n",
       "    \u001b[90m#= /home/roman/devel/Julia/julia-samples/CompTimeSamples/jupyter/pw.ipynb:6 =#\u001b[39m\n",
       "    return r\n",
       "end"
      ]
     },
     "metadata": {},
     "output_type": "display_data"
    }
   ],
   "source": [
    "debug(pw_ct, Val{3}, 10)"
   ]
  }
 ],
 "metadata": {
  "kernelspec": {
   "display_name": "Julia 1.9.3",
   "language": "julia",
   "name": "julia-1.9"
  },
  "language_info": {
   "file_extension": ".jl",
   "mimetype": "application/julia",
   "name": "julia",
   "version": "1.9.3"
  }
 },
 "nbformat": 4,
 "nbformat_minor": 2
}
