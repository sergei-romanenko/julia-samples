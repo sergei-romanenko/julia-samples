{
 "cells": [
  {
   "cell_type": "code",
   "execution_count": 1,
   "metadata": {},
   "outputs": [],
   "source": [
    "using CompTime"
   ]
  },
  {
   "cell_type": "code",
   "execution_count": 2,
   "metadata": {},
   "outputs": [],
   "source": [
    "include(\"MacroUtils.jl\")\n",
    "using .MacroUtils: cleanup"
   ]
  },
  {
   "cell_type": "code",
   "execution_count": 3,
   "metadata": {},
   "outputs": [
    {
     "data": {
      "text/plain": [
       "dfa_parity (generic function with 1 method)"
      ]
     },
     "metadata": {},
     "output_type": "display_data"
    }
   ],
   "source": [
    "function dfa_parity(xs)\n",
    "    ys = ()\n",
    "    state = :s0\n",
    "    for x in xs\n",
    "        if state == :s0\n",
    "            x == 0 && (ys = (ys..., :even); state = :s0; continue)\n",
    "            x == 1 && (ys = (ys..., :odd); state = :s1; continue)\n",
    "            error(\"Unexpected input: \", x)\n",
    "        elseif state == :s1\n",
    "            x == 0 && (ys = (ys..., :odd); state = :s1; continue)\n",
    "            x == 1 && (ys = (ys..., :even); state = :s0; continue)\n",
    "            error(\"Unexpected input: \", x)\n",
    "        end\n",
    "    end\n",
    "    return ys\n",
    "end"
   ]
  },
  {
   "cell_type": "code",
   "execution_count": 4,
   "metadata": {},
   "outputs": [
    {
     "data": {
      "text/plain": [
       "(:even, :odd, :odd, :even, :even)"
      ]
     },
     "metadata": {},
     "output_type": "display_data"
    }
   ],
   "source": [
    "dfa_parity((0, 1, 0, 1, 0))"
   ]
  },
  {
   "cell_type": "code",
   "execution_count": 5,
   "metadata": {},
   "outputs": [
    {
     "data": {
      "text/plain": [
       "dfa_parity_goto (generic function with 1 method)"
      ]
     },
     "metadata": {},
     "output_type": "display_data"
    }
   ],
   "source": [
    "function dfa_parity_goto(xs)\n",
    "    ys = ()\n",
    "    xs_it = iterate(xs)\n",
    "    @goto s0\n",
    "\n",
    "    @label s0\n",
    "    xs_it !== nothing || return ys\n",
    "    x, xs_state = xs_it\n",
    "    xs_it = iterate(xs, xs_state)\n",
    "    x == 0 && (ys = (ys..., :even); @goto s0)\n",
    "    x == 1 && (ys = (ys..., :odd); @goto s1)\n",
    "    error(\"Unexpected input: \", x)\n",
    "\n",
    "    @label s1\n",
    "    xs_it !== nothing || return ys\n",
    "    x, xs_state = xs_it\n",
    "    xs_it = iterate(xs, xs_state)\n",
    "    x == 0 && (ys = (ys..., :odd); @goto s1)\n",
    "    x == 1 && (ys = (ys..., :even); @goto s0)\n",
    "    error(\"Unexpected input: \", x)\n",
    "end"
   ]
  },
  {
   "cell_type": "code",
   "execution_count": 6,
   "metadata": {},
   "outputs": [
    {
     "data": {
      "text/plain": [
       "(:even, :odd, :odd, :even, :even)"
      ]
     },
     "metadata": {},
     "output_type": "display_data"
    }
   ],
   "source": [
    "dfa_parity_goto((0, 1, 0, 1, 0))"
   ]
  },
  {
   "cell_type": "code",
   "execution_count": 7,
   "metadata": {},
   "outputs": [],
   "source": [
    "# @code_lowered dfa_parity_goto((0, 1, 0, 1, 0))"
   ]
  },
  {
   "cell_type": "code",
   "execution_count": 8,
   "metadata": {},
   "outputs": [
    {
     "data": {
      "text/plain": [
       "((:s0, ((0, :s0, :even), (1, :s1, :odd))), (:s1, ((0, :s1, :odd), (1, :s0, :even))))"
      ]
     },
     "metadata": {},
     "output_type": "display_data"
    }
   ],
   "source": [
    "parity_table =\n",
    "    (:s0, (\n",
    "        (0, :s0, :even),\n",
    "        (1, :s1, :odd))),\n",
    "    (:s1, (\n",
    "        (0, :s1, :odd),\n",
    "        (1, :s0, :even)))"
   ]
  },
  {
   "cell_type": "code",
   "execution_count": 9,
   "metadata": {},
   "outputs": [
    {
     "data": {
      "text/plain": [
       "dfa_gen_impl (generic function with 1 method)"
      ]
     },
     "metadata": {},
     "output_type": "display_data"
    }
   ],
   "source": [
    "function dfa_gen_impl(::Val{tbl}, ::Val{start}, xs) where {tbl,start}\n",
    "    es = Expr[]\n",
    "\n",
    "    for (s, tbl_s) in tbl\n",
    "        push!(es, :(@label $s))\n",
    "        push!(es, :(xs_it !== nothing || return ys))\n",
    "        push!(es, :((x, xs_state) = xs_it))\n",
    "        push!(es, :(xs_it = iterate(xs, xs_state)))\n",
    "        for (x0, g, w) in tbl_s\n",
    "            push!(es, :(x == $x0 && (ys = (ys..., $(Expr(:quote, w))); @goto $g)))\n",
    "        end\n",
    "        push!(es, :(error(\"Unexpected input: \", x)))\n",
    "    end\n",
    "\n",
    "    return quote\n",
    "        ys = ()\n",
    "        xs_it = iterate(xs)\n",
    "        @goto $start\n",
    "        $(es...)\n",
    "    end\n",
    "end"
   ]
  },
  {
   "cell_type": "code",
   "execution_count": 10,
   "metadata": {},
   "outputs": [
    {
     "data": {
      "text/plain": [
       "quote\n",
       "    ys = ()\n",
       "    xs_it = iterate(xs)\n",
       "    @goto s0\n",
       "    @label s0\n",
       "    xs_it !== nothing || return ys\n",
       "    (x, xs_state) = xs_it\n",
       "    xs_it = iterate(xs, xs_state)\n",
       "    x == 0 && begin\n",
       "            ys = (ys..., :even)\n",
       "            @goto s0\n",
       "        end\n",
       "    x == 1 && begin\n",
       "            ys = (ys..., :odd)\n",
       "            @goto s1\n",
       "        end\n",
       "    error(\"Unexpected input: \", x)\n",
       "    @label s1\n",
       "    xs_it !== nothing || return ys\n",
       "    (x, xs_state) = xs_it\n",
       "    xs_it = iterate(xs, xs_state)\n",
       "    x == 0 && begin\n",
       "            ys = (ys..., :odd)\n",
       "            @goto s1\n",
       "        end\n",
       "    x == 1 && begin\n",
       "            ys = (ys..., :even)\n",
       "            @goto s0\n",
       "        end\n",
       "    error(\"Unexpected input: \", x)\n",
       "end"
      ]
     },
     "metadata": {},
     "output_type": "display_data"
    }
   ],
   "source": [
    "dfa_gen_impl(Val(parity_table), Val(:s0), (0, 1, 0, 1, 0)) |> cleanup"
   ]
  },
  {
   "cell_type": "code",
   "execution_count": 11,
   "metadata": {},
   "outputs": [
    {
     "data": {
      "text/plain": [
       "dfa_gen (generic function with 1 method)"
      ]
     },
     "metadata": {},
     "output_type": "display_data"
    }
   ],
   "source": [
    "@generated function dfa_gen(::Val{tbl}, ::Val{start}, xs) where {tbl,start}\n",
    "    dfa_gen_impl(Val(tbl), Val(start), xs)\n",
    "end"
   ]
  },
  {
   "cell_type": "code",
   "execution_count": 12,
   "metadata": {},
   "outputs": [
    {
     "data": {
      "text/plain": [
       "(:even, :odd, :odd, :even, :even)"
      ]
     },
     "metadata": {},
     "output_type": "display_data"
    }
   ],
   "source": [
    "dfa_gen(Val(parity_table), Val(:s0), (0, 1, 0, 1, 0))"
   ]
  },
  {
   "cell_type": "code",
   "execution_count": 13,
   "metadata": {},
   "outputs": [],
   "source": [
    "# `@label @ct( )`` and `@goto @ct( )`` doesn't work as expected!\n",
    "# Besides, how to turn ``:s0`` to `s0`?\n",
    "\n",
    "#= \n",
    "@ct_enable function dfa_gen_ct(@ct(tbl), @ct(start), xs)\n",
    "    ys = ()\n",
    "    xs_it = iterate(xs)\n",
    "    @goto @ct(start)\n",
    "\n",
    "    @ct_ctrl for (s, tbl_s) in tbl\n",
    "        @label @ct(s)\n",
    "        xs_it !== nothing || return ys\n",
    "        (x, xs_state) = xs_it\n",
    "        xs_it = iterate(xs, xs_state)\n",
    "        @ct_ctrl for (x0, g, r) in tbl_s\n",
    "            x == @ct(x0) && begin\n",
    "                ys = (ys..., @ct(r))\n",
    "                @goto @ct(g)\n",
    "            end\n",
    "        end\n",
    "        error(\"Unexpected input: \", x)\n",
    "    end\n",
    "end\n",
    " =#"
   ]
  },
  {
   "cell_type": "code",
   "execution_count": 14,
   "metadata": {},
   "outputs": [],
   "source": [
    "# debug(dfa_gen_ct, Val{parity_table}, Val{:s0}, (0, 1, 0, 1, 0)) |> cleanup"
   ]
  },
  {
   "cell_type": "code",
   "execution_count": 15,
   "metadata": {},
   "outputs": [],
   "source": [
    "# dfa_gen_ct(Val{parity_table}, Val{:s0}, (0, 1, 0, 1, 0))"
   ]
  }
 ],
 "metadata": {
  "kernelspec": {
   "display_name": "Julia 1.10.5",
   "language": "julia",
   "name": "julia-1.10"
  },
  "language_info": {
   "file_extension": ".jl",
   "mimetype": "application/julia",
   "name": "julia",
   "version": "1.10.5"
  }
 },
 "nbformat": 4,
 "nbformat_minor": 2
}
