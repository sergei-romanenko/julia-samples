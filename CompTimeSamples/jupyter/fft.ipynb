{
 "cells": [
  {
   "cell_type": "code",
   "execution_count": 1,
   "metadata": {},
   "outputs": [],
   "source": [
    "using FFTW, Random, Test"
   ]
  },
  {
   "cell_type": "markdown",
   "metadata": {},
   "source": [
    "Test data"
   ]
  },
  {
   "cell_type": "code",
   "execution_count": 2,
   "metadata": {},
   "outputs": [],
   "source": [
    "Random.seed!(1234)\n",
    "fftw_sample_input = rand(1024);"
   ]
  },
  {
   "cell_type": "code",
   "execution_count": 3,
   "metadata": {},
   "outputs": [
    {
     "data": {
      "text/plain": [
       "test_fft (generic function with 1 method)"
      ]
     },
     "metadata": {},
     "output_type": "display_data"
    }
   ],
   "source": [
    "function test_fft(fft)\n",
    "    @test FFTW.fft(fftw_sample_input) ≈ fft(fftw_sample_input)\n",
    "end"
   ]
  },
  {
   "cell_type": "code",
   "execution_count": 4,
   "metadata": {},
   "outputs": [],
   "source": [
    "# function fft(dir, l)\n",
    "#     n = length(l)\n",
    "#     @assert ispow2(n)\n",
    "#     if (isone(n))\n",
    "#         l\n",
    "#     else\n",
    "#         l1 = [v[i] for i in 1 : 2 : n ]\n",
    "#         l2 = [v[i] for i in 2 : 2 : n ]\n",
    "#         y0 = fft(dir, l1)\n",
    "#         y1 = fft(dir, l2)\n",
    "#         merge(dir, y0, y1)\n",
    "#     end\n",
    "# end"
   ]
  },
  {
   "cell_type": "code",
   "execution_count": 5,
   "metadata": {},
   "outputs": [],
   "source": [
    "# w(dir, n. j) = ?"
   ]
  },
  {
   "cell_type": "code",
   "execution_count": 6,
   "metadata": {},
   "outputs": [],
   "source": [
    "# function merge(dir, l1, l2)\n",
    "#     n1 = length(l1)\n",
    "#     n2 = length(l2)\n",
    "#     @assert n1 == n2\n",
    "#     n = n1 + n2\n",
    "#     let rec mg l1 l2 j =\n",
    "#         match (l1, l2) with\n",
    "#         (x::xs, y::ys) ->\n",
    "#             let z1 = mult (w dir n j, y) in\n",
    "#             let zx = add (x, z1) in\n",
    "#             let zy = sub (x, z1) in\n",
    "#             let (a,b) = (mg xs ys (j+1)) in\n",
    "#             (zx::a, zy::b)\n",
    "#         | _ -> ([], []) in\n",
    "#     let (a,b) = mg l1 l2 0\n",
    "#          in (a @ b)\n",
    "# end"
   ]
  },
  {
   "cell_type": "code",
   "execution_count": 7,
   "metadata": {},
   "outputs": [
    {
     "data": {
      "text/plain": [
       "naive_dft (generic function with 1 method)"
      ]
     },
     "metadata": {},
     "output_type": "display_data"
    }
   ],
   "source": [
    "function naive_dft(x)\n",
    "    N = length(x)\n",
    "    k = reshape(0:(N-1), 1, :)\n",
    "    n = 0:(N-1)\n",
    "    M = @. exp(-2 * im * π * k * n / N)\n",
    "    M * x\n",
    "end"
   ]
  },
  {
   "cell_type": "code",
   "execution_count": 8,
   "metadata": {},
   "outputs": [
    {
     "data": {
      "text/plain": [
       "\u001b[32m\u001b[1mTest Passed\u001b[22m\u001b[39m"
      ]
     },
     "metadata": {},
     "output_type": "display_data"
    }
   ],
   "source": [
    "test_fft(naive_dft)"
   ]
  },
  {
   "cell_type": "code",
   "execution_count": 9,
   "metadata": {},
   "outputs": [
    {
     "data": {
      "text/plain": [
       "naive_dft2 (generic function with 1 method)"
      ]
     },
     "metadata": {},
     "output_type": "display_data"
    }
   ],
   "source": [
    "function naive_dft2(x)\n",
    "    @show N = length(x)\n",
    "    @show k = reshape(0:(N-1), 1, :)\n",
    "    n = 0:(N-1)\n",
    "    M = @. exp(-2 * im * π * k * n / N)\n",
    "    M * x\n",
    "end"
   ]
  },
  {
   "cell_type": "code",
   "execution_count": 10,
   "metadata": {},
   "outputs": [
    {
     "name": "stdout",
     "output_type": "stream",
     "text": [
      "N = length(x) = 4\n",
      "k = reshape(0:N - 1, 1, :) = [0 1 2 3]\n"
     ]
    },
    {
     "data": {
      "text/plain": [
       "4-element Vector{ComplexF64}:\n",
       "               100.0 + 0.0im\n",
       " -20.000000000000007 + 19.999999999999996im\n",
       "               -20.0 - 9.797174393178823e-15im\n",
       " -19.999999999999982 - 20.00000000000001im"
      ]
     },
     "metadata": {},
     "output_type": "display_data"
    }
   ],
   "source": [
    "naive_dft2([10, 20, 30, 40])"
   ]
  },
  {
   "cell_type": "code",
   "execution_count": 11,
   "metadata": {},
   "outputs": [
    {
     "data": {
      "text/plain": [
       "dft_rec (generic function with 1 method)"
      ]
     },
     "metadata": {},
     "output_type": "display_data"
    }
   ],
   "source": [
    "function dft_rec(a)\n",
    "    n = length(a)\n",
    "    @assert ispow2(n)\n",
    "    isone(n) && return a\n",
    "    n2 = n ÷ 2\n",
    "    w = exp(-2 * pi * im / n)\n",
    "\n",
    "    a1 = [a[k] for k in 1:2:n]\n",
    "    a2 = [a[k] for k in 2:2:n]\n",
    "    y1 = dft_rec(a1)\n",
    "    y2 = dft_rec(a2)\n",
    "\n",
    "    wk = [w^(k - 1) for k in 1:n2]\n",
    "    z1 = [y1[k] + wk[k] * y2[k] for k in 1:n2]\n",
    "    z2 = [y1[k] - wk[k] * y2[k] for k in 1:n2]\n",
    "    return vcat(z1, z2)\n",
    "end"
   ]
  },
  {
   "cell_type": "code",
   "execution_count": 12,
   "metadata": {},
   "outputs": [
    {
     "data": {
      "text/plain": [
       "4-element Vector{ComplexF64}:\n",
       " 100.0 + 0.0im\n",
       " -20.0 + 20.0im\n",
       " -20.0 + 0.0im\n",
       " -20.0 - 20.0im"
      ]
     },
     "metadata": {},
     "output_type": "display_data"
    }
   ],
   "source": [
    "dft_rec([10, 20, 30, 40])"
   ]
  },
  {
   "cell_type": "code",
   "execution_count": 13,
   "metadata": {},
   "outputs": [
    {
     "data": {
      "text/plain": [
       "\u001b[32m\u001b[1mTest Passed\u001b[22m\u001b[39m"
      ]
     },
     "metadata": {},
     "output_type": "display_data"
    }
   ],
   "source": [
    "test_fft(dft_rec)"
   ]
  },
  {
   "cell_type": "code",
   "execution_count": 14,
   "metadata": {},
   "outputs": [
    {
     "data": {
      "text/plain": [
       "dft_rec2 (generic function with 1 method)"
      ]
     },
     "metadata": {},
     "output_type": "display_data"
    }
   ],
   "source": [
    "function dft_rec2(a::Vector{T}, b::Vector{Complex{T}}) where {T}\n",
    "    n = length(a)\n",
    "    @assert ispow2(n)\n",
    "    isone(n) && (b[1] = a[1]; return a)\n",
    "    n2 = n ÷ 2\n",
    "    w = exp(-2 * pi * im / n)\n",
    "\n",
    "    a1 = [a[k] for k in 1:2:n]\n",
    "    a2 = [a[k] for k in 2:2:n]\n",
    "    y1 = Vector{Complex{T}}(undef, n2)\n",
    "    y2 = Vector{Complex{T}}(undef, n2)\n",
    "    dft_rec2(a1, y1)\n",
    "    dft_rec2(a2, y2)\n",
    "    wk = [w^(k - 1) for k in 1:n2]\n",
    "    for k in 1:n2\n",
    "        wky2 = wk[k] * y2[k]\n",
    "        b[k]    = y1[k] + wky2\n",
    "        b[k+n2] = y1[k] - wky2\n",
    "    end\n",
    "    return\n",
    "end"
   ]
  },
  {
   "cell_type": "code",
   "execution_count": 15,
   "metadata": {},
   "outputs": [
    {
     "data": {
      "text/plain": [
       "dft_rec2 (generic function with 2 methods)"
      ]
     },
     "metadata": {},
     "output_type": "display_data"
    }
   ],
   "source": [
    "function dft_rec2(a::Vector{T}) where {T}\n",
    "    b = Vector{Complex{T}}(undef, length(a))\n",
    "    dft_rec2(a, b)\n",
    "    return b\n",
    "end"
   ]
  },
  {
   "cell_type": "code",
   "execution_count": 16,
   "metadata": {},
   "outputs": [
    {
     "data": {
      "text/plain": [
       "4-element Vector{ComplexF64}:\n",
       " 100.0 + 0.0im\n",
       " -20.0 + 20.0im\n",
       " -20.0 + 0.0im\n",
       " -20.0 - 20.0im"
      ]
     },
     "metadata": {},
     "output_type": "display_data"
    }
   ],
   "source": [
    "dft_rec2([10.0, 20.0, 30.0, 40.0])"
   ]
  },
  {
   "cell_type": "code",
   "execution_count": 17,
   "metadata": {},
   "outputs": [
    {
     "data": {
      "text/plain": [
       "\u001b[32m\u001b[1mTest Passed\u001b[22m\u001b[39m"
      ]
     },
     "metadata": {},
     "output_type": "display_data"
    }
   ],
   "source": [
    "test_fft(dft_rec2)"
   ]
  },
  {
   "cell_type": "code",
   "execution_count": 18,
   "metadata": {},
   "outputs": [
    {
     "data": {
      "text/plain": [
       "dft_rec3 (generic function with 1 method)"
      ]
     },
     "metadata": {},
     "output_type": "display_data"
    }
   ],
   "source": [
    "function dft_rec3(a::Vector{T}, p, b::Vector{Complex{T}}) where {T}\n",
    "    n = length(p)\n",
    "    isone(n) && (b[1] = a[p[1]]; return a)\n",
    "    n2 = n ÷ 2\n",
    "    w = exp(-2 * pi * im / n)\n",
    "\n",
    "    p1 = [p[k] for k in 1:2:n]\n",
    "    p2 = [p[k] for k in 2:2:n]\n",
    "    y1 = Vector{Complex{T}}(undef, n2)\n",
    "    y2 = Vector{Complex{T}}(undef, n2)\n",
    "    dft_rec3(a, p1, y1)\n",
    "    dft_rec3(a, p2, y2)\n",
    "    wk = [w^(k - 1) for k in 1:n2]\n",
    "    for k in 1:n2\n",
    "        wky2 = wk[k] * y2[k]\n",
    "        b[k]    = y1[k] + wky2\n",
    "        b[k+n2] = y1[k] - wky2\n",
    "    end\n",
    "    return\n",
    "end"
   ]
  },
  {
   "cell_type": "code",
   "execution_count": 19,
   "metadata": {},
   "outputs": [
    {
     "data": {
      "text/plain": [
       "dft_rec3 (generic function with 2 methods)"
      ]
     },
     "metadata": {},
     "output_type": "display_data"
    }
   ],
   "source": [
    "function dft_rec3(a::Vector{T}) where {T}\n",
    "    n = length(a)\n",
    "    @assert ispow2(n)\n",
    "    p = [k for k in 1:n]\n",
    "    b = Vector{Complex{T}}(undef, length(a))\n",
    "    dft_rec3(a, p, b)\n",
    "    return b\n",
    "end"
   ]
  },
  {
   "cell_type": "code",
   "execution_count": 20,
   "metadata": {},
   "outputs": [
    {
     "data": {
      "text/plain": [
       "4-element Vector{ComplexF64}:\n",
       " 100.0 + 0.0im\n",
       " -20.0 + 20.0im\n",
       " -20.0 + 0.0im\n",
       " -20.0 - 20.0im"
      ]
     },
     "metadata": {},
     "output_type": "display_data"
    }
   ],
   "source": [
    "dft_rec3([10.0, 20.0, 30.0, 40.0])"
   ]
  },
  {
   "cell_type": "code",
   "execution_count": 21,
   "metadata": {},
   "outputs": [
    {
     "data": {
      "text/plain": [
       "\u001b[32m\u001b[1mTest Passed\u001b[22m\u001b[39m"
      ]
     },
     "metadata": {},
     "output_type": "display_data"
    }
   ],
   "source": [
    "test_fft(dft_rec3)"
   ]
  }
 ],
 "metadata": {
  "kernelspec": {
   "display_name": "Julia 1.10.4",
   "language": "julia",
   "name": "julia-1.10"
  },
  "language_info": {
   "file_extension": ".jl",
   "mimetype": "application/julia",
   "name": "julia",
   "version": "1.10.4"
  }
 },
 "nbformat": 4,
 "nbformat_minor": 2
}
