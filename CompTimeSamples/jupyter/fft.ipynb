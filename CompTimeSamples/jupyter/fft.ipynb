{
 "cells": [
  {
   "cell_type": "code",
   "execution_count": 1,
   "metadata": {},
   "outputs": [],
   "source": [
    "using FFTW, Random, Test"
   ]
  },
  {
   "cell_type": "code",
   "execution_count": 2,
   "metadata": {},
   "outputs": [],
   "source": [
    "include(\"MacroUtils.jl\")\n",
    "using .MacroUtils: cleanup"
   ]
  },
  {
   "cell_type": "markdown",
   "metadata": {},
   "source": [
    "Test data"
   ]
  },
  {
   "cell_type": "code",
   "execution_count": 3,
   "metadata": {},
   "outputs": [],
   "source": [
    "Random.seed!(1234)\n",
    "sample_vector_input = rand(32);\n",
    "sample_tuple_input = Tuple(sample_vector_input);"
   ]
  },
  {
   "cell_type": "code",
   "execution_count": 4,
   "metadata": {},
   "outputs": [
    {
     "data": {
      "text/plain": [
       "test_fft (generic function with 1 method)"
      ]
     },
     "metadata": {},
     "output_type": "display_data"
    }
   ],
   "source": [
    "function test_fft(fft)\n",
    "    @test FFTW.fft(sample_vector_input) ≈ fft(sample_tuple_input)\n",
    "end"
   ]
  },
  {
   "cell_type": "markdown",
   "metadata": {},
   "source": [
    "$$\\omega_n = e^{-2\\pi i / n}"
   ]
  },
  {
   "cell_type": "markdown",
   "metadata": {},
   "source": [
    "$$ b_l = \\sum_{k=1}^{n} \\omega_n^{(k-1)(l-1)} a_k$$"
   ]
  },
  {
   "cell_type": "code",
   "execution_count": 5,
   "metadata": {},
   "outputs": [
    {
     "data": {
      "text/plain": [
       "dft (generic function with 1 method)"
      ]
     },
     "metadata": {},
     "output_type": "display_data"
    }
   ],
   "source": [
    "function dft(a)\n",
    "    n = length(a)\n",
    "    @assert (n >= 1 && ispow2(n))\n",
    "    w = exp(-2 * pi * im / n)\n",
    "    wk = [w^(k - 1) for k in 1:n]\n",
    "    # @show wk\n",
    "    b = [sum([wk[k]^(l - 1) * a[k] for k in 1:n]) for l in 1:n]\n",
    "    return b\n",
    "end"
   ]
  },
  {
   "cell_type": "code",
   "execution_count": 6,
   "metadata": {},
   "outputs": [
    {
     "data": {
      "text/plain": [
       "4-element Vector{ComplexF64}:\n",
       "               100.0 + 0.0im\n",
       " -20.000000000000007 + 19.999999999999996im\n",
       "               -20.0 - 9.797174393178823e-15im\n",
       " -19.999999999999982 - 20.00000000000001im"
      ]
     },
     "metadata": {},
     "output_type": "display_data"
    }
   ],
   "source": [
    "dft((10, 20, 30, 40))"
   ]
  },
  {
   "cell_type": "code",
   "execution_count": 7,
   "metadata": {},
   "outputs": [
    {
     "data": {
      "text/plain": [
       "\u001b[32m\u001b[1mTest Passed\u001b[22m\u001b[39m"
      ]
     },
     "metadata": {},
     "output_type": "display_data"
    }
   ],
   "source": [
    "test_fft(dft)"
   ]
  },
  {
   "cell_type": "code",
   "execution_count": 8,
   "metadata": {},
   "outputs": [
    {
     "data": {
      "text/plain": [
       "fft_rec (generic function with 1 method)"
      ]
     },
     "metadata": {},
     "output_type": "display_data"
    }
   ],
   "source": [
    "function fft_rec(a)\n",
    "    n = length(a)\n",
    "    @assert ispow2(n)\n",
    "    isone(n) && return a\n",
    "    n2 = n ÷ 2\n",
    "    w = exp(-2 * pi * im / n)\n",
    "\n",
    "    a1 = [a[k] for k in 1:2:n]\n",
    "    a2 = [a[k] for k in 2:2:n]\n",
    "    y1 = fft_rec(a1)\n",
    "    y2 = fft_rec(a2)\n",
    "\n",
    "    wk = [w^(k - 1) for k in 1:n2]\n",
    "    z1 = [y1[k] + wk[k] * y2[k] for k in 1:n2]\n",
    "    z2 = [y1[k] - wk[k] * y2[k] for k in 1:n2]\n",
    "    return vcat(z1, z2)\n",
    "end"
   ]
  },
  {
   "cell_type": "code",
   "execution_count": 9,
   "metadata": {},
   "outputs": [
    {
     "data": {
      "text/plain": [
       "4-element Vector{ComplexF64}:\n",
       " 100.0 + 0.0im\n",
       " -20.0 + 20.0im\n",
       " -20.0 + 0.0im\n",
       " -20.0 - 20.0im"
      ]
     },
     "metadata": {},
     "output_type": "display_data"
    }
   ],
   "source": [
    "fft_rec((10, 20, 30, 40))"
   ]
  },
  {
   "cell_type": "code",
   "execution_count": 10,
   "metadata": {},
   "outputs": [
    {
     "data": {
      "text/plain": [
       "\u001b[32m\u001b[1mTest Passed\u001b[22m\u001b[39m"
      ]
     },
     "metadata": {},
     "output_type": "display_data"
    }
   ],
   "source": [
    "test_fft(fft_rec)"
   ]
  },
  {
   "cell_type": "code",
   "execution_count": 11,
   "metadata": {},
   "outputs": [
    {
     "data": {
      "text/plain": [
       "fft_rec2 (generic function with 1 method)"
      ]
     },
     "metadata": {},
     "output_type": "display_data"
    }
   ],
   "source": [
    "function fft_rec2(a)\n",
    "    n = length(a)\n",
    "    @assert ispow2(n)\n",
    "\n",
    "    b = Vector{Complex{Float64}}(undef, n)\n",
    "\n",
    "    if isone(n)\n",
    "        b[1] = a[1]\n",
    "        return b\n",
    "    end\n",
    "\n",
    "    n2 = n ÷ 2\n",
    "    w = exp(-2 * pi * im / n)\n",
    "\n",
    "    a1 = [a[k] for k in 1:2:n]\n",
    "    a2 = [a[k] for k in 2:2:n]\n",
    "    y1 = fft_rec2(a1)\n",
    "    y2 = fft_rec2(a2)\n",
    "    for k in 1:n2\n",
    "        t = w^(k - 1) * y2[k]\n",
    "        b[k] = y1[k] + t\n",
    "        b[k+n2] = y1[k] - t\n",
    "    end\n",
    "\n",
    "    return b\n",
    "end"
   ]
  },
  {
   "cell_type": "code",
   "execution_count": 12,
   "metadata": {},
   "outputs": [
    {
     "data": {
      "text/plain": [
       "4-element Vector{ComplexF64}:\n",
       " 100.0 + 0.0im\n",
       " -20.0 + 20.0im\n",
       " -20.0 + 0.0im\n",
       " -20.0 - 20.0im"
      ]
     },
     "metadata": {},
     "output_type": "display_data"
    }
   ],
   "source": [
    "fft_rec2((10.0, 20.0, 30.0, 40.0))"
   ]
  },
  {
   "cell_type": "code",
   "execution_count": 13,
   "metadata": {},
   "outputs": [
    {
     "data": {
      "text/plain": [
       "\u001b[32m\u001b[1mTest Passed\u001b[22m\u001b[39m"
      ]
     },
     "metadata": {},
     "output_type": "display_data"
    }
   ],
   "source": [
    "test_fft(fft_rec2)"
   ]
  },
  {
   "cell_type": "code",
   "execution_count": 14,
   "metadata": {},
   "outputs": [
    {
     "data": {
      "text/plain": [
       "fft_gen_impl1! (generic function with 1 method)"
      ]
     },
     "metadata": {},
     "output_type": "display_data"
    }
   ],
   "source": [
    "function fft_gen_impl1!(a, es, m)\n",
    "    n = length(a)\n",
    "\n",
    "    b = Symbol(\"y_\", m[])\n",
    "    m[] += 1\n",
    "    push!(es, :($b = Vector{Complex{Float64}}(undef, $n)))\n",
    "\n",
    "    if isone(n)\n",
    "        push!(es, :($b[1] = $(a[1])))\n",
    "        return b\n",
    "    end\n",
    "\n",
    "    n2 = n ÷ 2\n",
    "    a1 = [a[k] for k in 1:2:n]\n",
    "    a2 = [a[k] for k in 2:2:n]\n",
    "\n",
    "    y1 = fft_gen_impl1!(a1, es, m)\n",
    "    y2 = fft_gen_impl1!(a2, es, m)\n",
    "\n",
    "    w = exp(-2 * pi * im / n)\n",
    "\n",
    "    for k in 1:n2\n",
    "        t = Symbol(\"t_\", m[])\n",
    "        m[] += 1\n",
    "        append!(es, (\n",
    "            :($t = $(w^(k - 1)) * $y2[$k]),\n",
    "            :($b[$k] = $y1[$k] + $t),\n",
    "            :($b[$(k + n2)] = $y1[$k] - $t)\n",
    "        ))\n",
    "    end\n",
    "    return b\n",
    "end"
   ]
  },
  {
   "cell_type": "code",
   "execution_count": 15,
   "metadata": {},
   "outputs": [
    {
     "data": {
      "text/plain": [
       "fft_gen_impl1 (generic function with 1 method)"
      ]
     },
     "metadata": {},
     "output_type": "display_data"
    }
   ],
   "source": [
    "function fft_gen_impl1(n)\n",
    "    @assert (n >= 1 && ispow2(n))\n",
    "    a = [:(a[$k]) for k in 1:n]\n",
    "    es = Expr[]\n",
    "    m = Ref(1)\n",
    "    b = fft_gen_impl1!(a, es, m)\n",
    "\n",
    "    quote\n",
    "        $(es...)\n",
    "        return $b\n",
    "    end\n",
    "end"
   ]
  },
  {
   "cell_type": "code",
   "execution_count": 16,
   "metadata": {},
   "outputs": [
    {
     "data": {
      "text/plain": [
       "quote\n",
       "    y_1 = Vector{Complex{Float64}}(undef, 8)\n",
       "    y_2 = Vector{Complex{Float64}}(undef, 4)\n",
       "    y_3 = Vector{Complex{Float64}}(undef, 2)\n",
       "    y_4 = Vector{Complex{Float64}}(undef, 1)\n",
       "    y_4[1] = a[1]\n",
       "    y_5 = Vector{Complex{Float64}}(undef, 1)\n",
       "    y_5[1] = a[5]\n",
       "    t_6 = (1.0 + 0.0im) * y_5[1]\n",
       "    y_3[1] = y_4[1] + t_6\n",
       "    y_3[2] = y_4[1] - t_6\n",
       "    y_7 = Vector{Complex{Float64}}(undef, 2)\n",
       "    y_8 = Vector{Complex{Float64}}(undef, 1)\n",
       "    y_8[1] = a[3]\n",
       "    y_9 = Vector{Complex{Float64}}(undef, 1)\n",
       "    y_9[1] = a[7]\n",
       "    t_10 = (1.0 + 0.0im) * y_9[1]\n",
       "    y_7[1] = y_8[1] + t_10\n",
       "    y_7[2] = y_8[1] - t_10\n",
       "    t_11 = (1.0 + 0.0im) * y_7[1]\n",
       "    y_2[1] = y_3[1] + t_11\n",
       "    y_2[3] = y_3[1] - t_11\n",
       "    t_12 = (6.123233995736766e-17 - 1.0im) * y_7[2]\n",
       "    y_2[2] = y_3[2] + t_12\n",
       "    y_2[4] = y_3[2] - t_12\n",
       "    y_13 = Vector{Complex{Float64}}(undef, 4)\n",
       "    y_14 = Vector{Complex{Float64}}(undef, 2)\n",
       "    y_15 = Vector{Complex{Float64}}(undef, 1)\n",
       "    y_15[1] = a[2]\n",
       "    y_16 = Vector{Complex{Float64}}(undef, 1)\n",
       "    y_16[1] = a[6]\n",
       "    t_17 = (1.0 + 0.0im) * y_16[1]\n",
       "    y_14[1] = y_15[1] + t_17\n",
       "    y_14[2] = y_15[1] - t_17\n",
       "    y_18 = Vector{Complex{Float64}}(undef, 2)\n",
       "    y_19 = Vector{Complex{Float64}}(undef, 1)\n",
       "    y_19[1] = a[4]\n",
       "    y_20 = Vector{Complex{Float64}}(undef, 1)\n",
       "    y_20[1] = a[8]\n",
       "    t_21 = (1.0 + 0.0im) * y_20[1]\n",
       "    y_18[1] = y_19[1] + t_21\n",
       "    y_18[2] = y_19[1] - t_21\n",
       "    t_22 = (1.0 + 0.0im) * y_18[1]\n",
       "    y_13[1] = y_14[1] + t_22\n",
       "    y_13[3] = y_14[1] - t_22\n",
       "    t_23 = (6.123233995736766e-17 - 1.0im) * y_18[2]\n",
       "    y_13[2] = y_14[2] + t_23\n",
       "    y_13[4] = y_14[2] - t_23\n",
       "    t_24 = (1.0 + 0.0im) * y_13[1]\n",
       "    y_1[1] = y_2[1] + t_24\n",
       "    y_1[5] = y_2[1] - t_24\n",
       "    t_25 = (0.7071067811865476 - 0.7071067811865475im) * y_13[2]\n",
       "    y_1[2] = y_2[2] + t_25\n",
       "    y_1[6] = y_2[2] - t_25\n",
       "    t_26 = (2.220446049250313e-16 - 1.0im) * y_13[3]\n",
       "    y_1[3] = y_2[3] + t_26\n",
       "    y_1[7] = y_2[3] - t_26\n",
       "    t_27 = (-0.7071067811865474 - 0.7071067811865477im) * y_13[4]\n",
       "    y_1[4] = y_2[4] + t_27\n",
       "    y_1[8] = y_2[4] - t_27\n",
       "    return y_1\n",
       "end"
      ]
     },
     "metadata": {},
     "output_type": "display_data"
    }
   ],
   "source": [
    "fft_gen_impl1(8) |> cleanup"
   ]
  },
  {
   "cell_type": "code",
   "execution_count": 17,
   "metadata": {},
   "outputs": [
    {
     "data": {
      "text/plain": [
       "fft_gen1 (generic function with 1 method)"
      ]
     },
     "metadata": {},
     "output_type": "display_data"
    }
   ],
   "source": [
    "@generated function fft_gen1(a::NTuple{N, Float64}) where {N}\n",
    "    fft_gen_impl1(N)\n",
    "end"
   ]
  },
  {
   "cell_type": "code",
   "execution_count": 18,
   "metadata": {},
   "outputs": [
    {
     "data": {
      "text/plain": [
       "4-element Vector{ComplexF64}:\n",
       " 100.0 + 0.0im\n",
       " -20.0 + 20.0im\n",
       " -20.0 + 0.0im\n",
       " -20.0 - 20.0im"
      ]
     },
     "metadata": {},
     "output_type": "display_data"
    }
   ],
   "source": [
    "fft_gen1((10.0, 20.0, 30.0, 40.0))"
   ]
  },
  {
   "cell_type": "code",
   "execution_count": 19,
   "metadata": {},
   "outputs": [
    {
     "data": {
      "text/plain": [
       "\u001b[32m\u001b[1mTest Passed\u001b[22m\u001b[39m"
      ]
     },
     "metadata": {},
     "output_type": "display_data"
    }
   ],
   "source": [
    "test_fft(fft_gen1)"
   ]
  },
  {
   "cell_type": "code",
   "execution_count": 20,
   "metadata": {},
   "outputs": [
    {
     "data": {
      "text/plain": [
       "fft_gen_impl2! (generic function with 1 method)"
      ]
     },
     "metadata": {},
     "output_type": "display_data"
    }
   ],
   "source": [
    "function fft_gen_impl2!(a, es, m)\n",
    "    n = length(a)\n",
    "\n",
    "    b = [Symbol(\"y_\", m[], \"_\", k) for k in 1:n]\n",
    "    m[] += 1\n",
    "\n",
    "    if isone(n)\n",
    "        push!(es, :($(b[1]) = $(a[1])))\n",
    "        return b\n",
    "    end\n",
    "\n",
    "    n2 = n ÷ 2\n",
    "    a1 = [a[k] for k in 1:2:n]\n",
    "    a2 = [a[k] for k in 2:2:n]\n",
    "\n",
    "    y1 = fft_gen_impl2!(a1, es, m)\n",
    "    y2 = fft_gen_impl2!(a2, es, m)\n",
    "\n",
    "    w = exp(-2 * pi * im / n)\n",
    "\n",
    "    for k in 1:n2\n",
    "        t = Symbol(\"t_\", m[])\n",
    "        m[] += 1\n",
    "        append!(es, (\n",
    "            :($t = $(w^(k - 1)) * $(y2[k])),\n",
    "            :($(b[k]) = $(y1[k]) + $t),\n",
    "            :($(b[k+n2]) = $(y1[k]) - $t)\n",
    "        ))\n",
    "    end\n",
    "    return b\n",
    "end"
   ]
  },
  {
   "cell_type": "code",
   "execution_count": 21,
   "metadata": {},
   "outputs": [
    {
     "data": {
      "text/plain": [
       "fft_gen_impl2 (generic function with 1 method)"
      ]
     },
     "metadata": {},
     "output_type": "display_data"
    }
   ],
   "source": [
    "function fft_gen_impl2(n)\n",
    "    @assert (n >= 1 && ispow2(n))\n",
    "    a = [:(a[$k]) for k in 1:n]\n",
    "    es = Expr[]\n",
    "    m = Ref(1)\n",
    "\n",
    "    b = fft_gen_impl2!(a, es, m)\n",
    "\n",
    "    quote\n",
    "        $(es...)\n",
    "        return $(Expr(:vect, b...))\n",
    "    end\n",
    "end"
   ]
  },
  {
   "cell_type": "code",
   "execution_count": 22,
   "metadata": {},
   "outputs": [
    {
     "data": {
      "text/plain": [
       "quote\n",
       "    y_4_1 = a[1]\n",
       "    y_5_1 = a[5]\n",
       "    t_6 = (1.0 + 0.0im) * y_5_1\n",
       "    y_3_1 = y_4_1 + t_6\n",
       "    y_3_2 = y_4_1 - t_6\n",
       "    y_8_1 = a[3]\n",
       "    y_9_1 = a[7]\n",
       "    t_10 = (1.0 + 0.0im) * y_9_1\n",
       "    y_7_1 = y_8_1 + t_10\n",
       "    y_7_2 = y_8_1 - t_10\n",
       "    t_11 = (1.0 + 0.0im) * y_7_1\n",
       "    y_2_1 = y_3_1 + t_11\n",
       "    y_2_3 = y_3_1 - t_11\n",
       "    t_12 = (6.123233995736766e-17 - 1.0im) * y_7_2\n",
       "    y_2_2 = y_3_2 + t_12\n",
       "    y_2_4 = y_3_2 - t_12\n",
       "    y_15_1 = a[2]\n",
       "    y_16_1 = a[6]\n",
       "    t_17 = (1.0 + 0.0im) * y_16_1\n",
       "    y_14_1 = y_15_1 + t_17\n",
       "    y_14_2 = y_15_1 - t_17\n",
       "    y_19_1 = a[4]\n",
       "    y_20_1 = a[8]\n",
       "    t_21 = (1.0 + 0.0im) * y_20_1\n",
       "    y_18_1 = y_19_1 + t_21\n",
       "    y_18_2 = y_19_1 - t_21\n",
       "    t_22 = (1.0 + 0.0im) * y_18_1\n",
       "    y_13_1 = y_14_1 + t_22\n",
       "    y_13_3 = y_14_1 - t_22\n",
       "    t_23 = (6.123233995736766e-17 - 1.0im) * y_18_2\n",
       "    y_13_2 = y_14_2 + t_23\n",
       "    y_13_4 = y_14_2 - t_23\n",
       "    t_24 = (1.0 + 0.0im) * y_13_1\n",
       "    y_1_1 = y_2_1 + t_24\n",
       "    y_1_5 = y_2_1 - t_24\n",
       "    t_25 = (0.7071067811865476 - 0.7071067811865475im) * y_13_2\n",
       "    y_1_2 = y_2_2 + t_25\n",
       "    y_1_6 = y_2_2 - t_25\n",
       "    t_26 = (2.220446049250313e-16 - 1.0im) * y_13_3\n",
       "    y_1_3 = y_2_3 + t_26\n",
       "    y_1_7 = y_2_3 - t_26\n",
       "    t_27 = (-0.7071067811865474 - 0.7071067811865477im) * y_13_4\n",
       "    y_1_4 = y_2_4 + t_27\n",
       "    y_1_8 = y_2_4 - t_27\n",
       "    return [y_1_1, y_1_2, y_1_3, y_1_4, y_1_5, y_1_6, y_1_7, y_1_8]\n",
       "end"
      ]
     },
     "metadata": {},
     "output_type": "display_data"
    }
   ],
   "source": [
    "fft_gen_impl2(8) |> cleanup"
   ]
  },
  {
   "cell_type": "code",
   "execution_count": 23,
   "metadata": {},
   "outputs": [
    {
     "data": {
      "text/plain": [
       "fft_gen2 (generic function with 1 method)"
      ]
     },
     "metadata": {},
     "output_type": "display_data"
    }
   ],
   "source": [
    "@generated function fft_gen2(a::NTuple{N, Float64}) where {N}\n",
    "    fft_gen_impl2(N)\n",
    "end"
   ]
  },
  {
   "cell_type": "code",
   "execution_count": 24,
   "metadata": {},
   "outputs": [
    {
     "data": {
      "text/plain": [
       "4-element Vector{ComplexF64}:\n",
       " 100.0 + 0.0im\n",
       " -20.0 + 20.0im\n",
       " -20.0 + 0.0im\n",
       " -20.0 - 20.0im"
      ]
     },
     "metadata": {},
     "output_type": "display_data"
    }
   ],
   "source": [
    "fft_gen2((10.0, 20.0, 30.0, 40.0))"
   ]
  },
  {
   "cell_type": "code",
   "execution_count": 25,
   "metadata": {},
   "outputs": [
    {
     "data": {
      "text/plain": [
       "\u001b[32m\u001b[1mTest Passed\u001b[22m\u001b[39m"
      ]
     },
     "metadata": {},
     "output_type": "display_data"
    }
   ],
   "source": [
    "test_fft(fft_gen2)"
   ]
  },
  {
   "cell_type": "code",
   "execution_count": 26,
   "metadata": {},
   "outputs": [
    {
     "data": {
      "text/plain": [
       "wmi (generic function with 1 method)"
      ]
     },
     "metadata": {},
     "output_type": "display_data"
    }
   ],
   "source": [
    "wp1(n, l) = mod(l, n) == 0\n",
    "wm1(n, l) = 4 * mod(n - l, n) == 2 * n\n",
    "wpi(n, l) = 4 * mod(n - l, n) == n\n",
    "wmi(n, l) = 4 * mod(n - l, n) == 3 * n"
   ]
  },
  {
   "cell_type": "code",
   "execution_count": 38,
   "metadata": {},
   "outputs": [
    {
     "data": {
      "text/plain": [
       "4×8 Matrix{Bool}:\n",
       " 1  0  0  0  0  0  0  0\n",
       " 0  0  0  0  1  0  0  0\n",
       " 0  0  0  0  0  0  1  0\n",
       " 0  0  1  0  0  0  0  0"
      ]
     },
     "metadata": {},
     "output_type": "display_data"
    }
   ],
   "source": [
    "[\n",
    "    [wp1(8, k) for k in 0:7]'\n",
    "    [wm1(8, k) for k in 0:7]'\n",
    "    [wpi(8, k) for k in 0:7]'\n",
    "    [wmi(8, k) for k in 0:7]'\n",
    "]\n"
   ]
  },
  {
   "cell_type": "code",
   "execution_count": 28,
   "metadata": {},
   "outputs": [
    {
     "data": {
      "text/plain": [
       "butterfly (generic function with 1 method)"
      ]
     },
     "metadata": {},
     "output_type": "display_data"
    }
   ],
   "source": [
    "function butterfly(n, k, w, b1, b2, y1, y2, t)\n",
    "    if wp1(n, k - 1)\n",
    "        :($b1 = $y1 + $y2),\n",
    "        :($b2 = $y1 - $y2)\n",
    "    elseif wm1(n, k - 1)\n",
    "        :($b1 = $y1 - $y2),\n",
    "        :($b2 = $y1 + $y2)\n",
    "    elseif wpi(n, k - 1)\n",
    "        :($t = im * $y2),\n",
    "        :($b1 = $y1 + $t),\n",
    "        :($b2 = $y1 - $t)\n",
    "    elseif wmi(n, k - 1)\n",
    "        :($t = -im * $y2),\n",
    "        :($b1 = $y1 + $t),\n",
    "        :($b2 = $y1 - $t)\n",
    "    else\n",
    "        :($t = $(w^(k - 1)) * $y2),\n",
    "        :($b1 = $y1 + $t),\n",
    "        :($b2 = $y1 - $t)\n",
    "    end\n",
    "end"
   ]
  },
  {
   "cell_type": "code",
   "execution_count": 29,
   "metadata": {},
   "outputs": [
    {
     "data": {
      "text/plain": [
       "fft_gen_impl3! (generic function with 1 method)"
      ]
     },
     "metadata": {},
     "output_type": "display_data"
    }
   ],
   "source": [
    "function fft_gen_impl3!(a, es, m)\n",
    "    n = length(a)\n",
    "\n",
    "    b = [Symbol(\"y_\", m[], \"_\", k) for k in 1:n]\n",
    "    m[] += 1\n",
    "\n",
    "    if isone(n)\n",
    "        push!(es, :($(b[1]) = $(a[1])))\n",
    "        return b\n",
    "    end\n",
    "\n",
    "    n2 = n ÷ 2\n",
    "    a1 = [a[k] for k in 1:2:n]\n",
    "    a2 = [a[k] for k in 2:2:n]\n",
    "\n",
    "    y1 = fft_gen_impl3!(a1, es, m)\n",
    "    y2 = fft_gen_impl3!(a2, es, m)\n",
    "\n",
    "    w = exp(-2 * pi * im / n)\n",
    "\n",
    "    for k in 1:n2\n",
    "        t = Symbol(\"t_\", m[])\n",
    "        m[] += 1\n",
    "        append!(es, butterfly(n, k, w, b[k], b[k+n2], y1[k], y2[k], t))\n",
    "    end\n",
    "    return b\n",
    "end"
   ]
  },
  {
   "cell_type": "code",
   "execution_count": 30,
   "metadata": {},
   "outputs": [
    {
     "data": {
      "text/plain": [
       "fft_gen_impl3 (generic function with 1 method)"
      ]
     },
     "metadata": {},
     "output_type": "display_data"
    }
   ],
   "source": [
    "function fft_gen_impl3(n)\n",
    "    @assert (n >= 1 && ispow2(n))\n",
    "    a = [:(a[$k]) for k in 1:n]\n",
    "    es = Expr[]\n",
    "    m = Ref(1)\n",
    "\n",
    "    b = fft_gen_impl3!(a, es, m)\n",
    "\n",
    "    quote\n",
    "        $(es...)\n",
    "        return $(Expr(:vect, b...))\n",
    "    end\n",
    "end"
   ]
  },
  {
   "cell_type": "code",
   "execution_count": 31,
   "metadata": {},
   "outputs": [
    {
     "data": {
      "text/plain": [
       "quote\n",
       "    y_4_1 = a[1]\n",
       "    y_5_1 = a[5]\n",
       "    y_3_1 = y_4_1 + y_5_1\n",
       "    y_3_2 = y_4_1 - y_5_1\n",
       "    y_8_1 = a[3]\n",
       "    y_9_1 = a[7]\n",
       "    y_7_1 = y_8_1 + y_9_1\n",
       "    y_7_2 = y_8_1 - y_9_1\n",
       "    y_2_1 = y_3_1 + y_7_1\n",
       "    y_2_3 = y_3_1 - y_7_1\n",
       "    t_12 = -im * y_7_2\n",
       "    y_2_2 = y_3_2 + t_12\n",
       "    y_2_4 = y_3_2 - t_12\n",
       "    y_15_1 = a[2]\n",
       "    y_16_1 = a[6]\n",
       "    y_14_1 = y_15_1 + y_16_1\n",
       "    y_14_2 = y_15_1 - y_16_1\n",
       "    y_19_1 = a[4]\n",
       "    y_20_1 = a[8]\n",
       "    y_18_1 = y_19_1 + y_20_1\n",
       "    y_18_2 = y_19_1 - y_20_1\n",
       "    y_13_1 = y_14_1 + y_18_1\n",
       "    y_13_3 = y_14_1 - y_18_1\n",
       "    t_23 = -im * y_18_2\n",
       "    y_13_2 = y_14_2 + t_23\n",
       "    y_13_4 = y_14_2 - t_23\n",
       "    y_1_1 = y_2_1 + y_13_1\n",
       "    y_1_5 = y_2_1 - y_13_1\n",
       "    t_25 = (0.7071067811865476 - 0.7071067811865475im) * y_13_2\n",
       "    y_1_2 = y_2_2 + t_25\n",
       "    y_1_6 = y_2_2 - t_25\n",
       "    t_26 = -im * y_13_3\n",
       "    y_1_3 = y_2_3 + t_26\n",
       "    y_1_7 = y_2_3 - t_26\n",
       "    t_27 = (-0.7071067811865474 - 0.7071067811865477im) * y_13_4\n",
       "    y_1_4 = y_2_4 + t_27\n",
       "    y_1_8 = y_2_4 - t_27\n",
       "    return [y_1_1, y_1_2, y_1_3, y_1_4, y_1_5, y_1_6, y_1_7, y_1_8]\n",
       "end"
      ]
     },
     "metadata": {},
     "output_type": "display_data"
    }
   ],
   "source": [
    "fft_gen_impl3(8) |> cleanup"
   ]
  },
  {
   "cell_type": "code",
   "execution_count": 32,
   "metadata": {},
   "outputs": [
    {
     "data": {
      "text/plain": [
       "fft_gen3 (generic function with 1 method)"
      ]
     },
     "metadata": {},
     "output_type": "display_data"
    }
   ],
   "source": [
    "@generated function fft_gen3(a::NTuple{N, Float64}) where {N}\n",
    "    fft_gen_impl3(N)\n",
    "end"
   ]
  },
  {
   "cell_type": "code",
   "execution_count": 33,
   "metadata": {},
   "outputs": [
    {
     "data": {
      "text/plain": [
       "4-element Vector{ComplexF64}:\n",
       " 100.0 + 0.0im\n",
       " -20.0 + 20.0im\n",
       " -20.0 + 0.0im\n",
       " -20.0 - 20.0im"
      ]
     },
     "metadata": {},
     "output_type": "display_data"
    }
   ],
   "source": [
    "fft_gen3((10.0, 20.0, 30.0, 40.0))"
   ]
  },
  {
   "cell_type": "code",
   "execution_count": 34,
   "metadata": {},
   "outputs": [
    {
     "data": {
      "text/plain": [
       "\u001b[32m\u001b[1mTest Passed\u001b[22m\u001b[39m"
      ]
     },
     "metadata": {},
     "output_type": "display_data"
    }
   ],
   "source": [
    "test_fft(fft_gen3)"
   ]
  }
 ],
 "metadata": {
  "kernelspec": {
   "display_name": "Julia 1.11.3",
   "language": "julia",
   "name": "julia-1.11"
  },
  "language_info": {
   "file_extension": ".jl",
   "mimetype": "application/julia",
   "name": "julia",
   "version": "1.11.3"
  }
 },
 "nbformat": 4,
 "nbformat_minor": 2
}
