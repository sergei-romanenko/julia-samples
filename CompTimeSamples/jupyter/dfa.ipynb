{
 "cells": [
  {
   "cell_type": "code",
   "execution_count": 1,
   "metadata": {},
   "outputs": [],
   "source": [
    "using InteractiveUtils"
   ]
  },
  {
   "cell_type": "code",
   "execution_count": 2,
   "metadata": {},
   "outputs": [
    {
     "data": {
      "text/plain": [
       "ff (generic function with 1 method)"
      ]
     },
     "metadata": {},
     "output_type": "display_data"
    }
   ],
   "source": [
    "ff(f, x) = f(f(x))"
   ]
  },
  {
   "cell_type": "code",
   "execution_count": 3,
   "metadata": {},
   "outputs": [
    {
     "data": {
      "text/plain": [
       "18"
      ]
     },
     "metadata": {},
     "output_type": "display_data"
    }
   ],
   "source": [
    "ff(x -> 3 * x, 2)"
   ]
  },
  {
   "cell_type": "code",
   "execution_count": 4,
   "metadata": {},
   "outputs": [
    {
     "data": {
      "text/plain": [
       "CodeInfo(\n",
       "\u001b[90m1 ─\u001b[39m %1 = Base.mul_int(3, x)\u001b[36m::Int64\u001b[39m\n",
       "\u001b[90m│  \u001b[39m %2 = Base.mul_int(3, %1)\u001b[36m::Int64\u001b[39m\n",
       "\u001b[90m└──\u001b[39m      return %2\n",
       ") => Int64"
      ]
     },
     "metadata": {},
     "output_type": "display_data"
    }
   ],
   "source": [
    "@code_typed ff(x -> 3 * x, 2)"
   ]
  },
  {
   "cell_type": "code",
   "execution_count": 5,
   "metadata": {},
   "outputs": [
    {
     "data": {
      "text/plain": [
       "mult2_seq (generic function with 1 method)"
      ]
     },
     "metadata": {},
     "output_type": "display_data"
    }
   ],
   "source": [
    "function mult2_seq(xs)\n",
    "    ys = ()\n",
    "    for x in xs\n",
    "        ys = ys..., x * 2\n",
    "    end\n",
    "    return ys\n",
    "end"
   ]
  },
  {
   "cell_type": "code",
   "execution_count": 6,
   "metadata": {},
   "outputs": [
    {
     "data": {
      "text/plain": [
       "(20, 40, 60)"
      ]
     },
     "metadata": {},
     "output_type": "display_data"
    }
   ],
   "source": [
    "mult2_seq((10, 20, 30))"
   ]
  },
  {
   "cell_type": "code",
   "execution_count": 7,
   "metadata": {},
   "outputs": [
    {
     "data": {
      "text/plain": [
       "3-element Vector{Int64}:\n",
       " 2\n",
       " 4\n",
       " 6"
      ]
     },
     "metadata": {},
     "output_type": "display_data"
    }
   ],
   "source": [
    "map(x -> 2 * x, [1, 2, 3])"
   ]
  },
  {
   "cell_type": "code",
   "execution_count": 8,
   "metadata": {},
   "outputs": [
    {
     "data": {
      "text/plain": [
       "CodeInfo(\n",
       "\u001b[90m1 ─\u001b[39m %1 = Base.Generator(f, A)\n",
       "\u001b[90m│  \u001b[39m %2 = Base.collect_similar(A, %1)\n",
       "\u001b[90m└──\u001b[39m      return %2\n",
       ")"
      ]
     },
     "metadata": {},
     "output_type": "display_data"
    }
   ],
   "source": [
    "@code_lowered map(x -> 2 * x, [1, 2, 3])"
   ]
  },
  {
   "cell_type": "code",
   "execution_count": 9,
   "metadata": {},
   "outputs": [
    {
     "data": {
      "text/plain": [
       "dfa_parity (generic function with 1 method)"
      ]
     },
     "metadata": {},
     "output_type": "display_data"
    }
   ],
   "source": [
    "function dfa_parity(xs)\n",
    "    ys = ()\n",
    "    state = :s0\n",
    "    for x in xs\n",
    "        if state == :s0\n",
    "            if x == 0\n",
    "                state = :s0\n",
    "                ys = ys..., :even\n",
    "            elseif x == 1\n",
    "                state = :s1\n",
    "                ys = ys..., :odd\n",
    "            else\n",
    "                error(\"Unexpected input: \", x)\n",
    "            end\n",
    "        elseif state == :s1\n",
    "            if x == 0\n",
    "                state = :s1\n",
    "                ys = ys..., :odd\n",
    "            elseif x == 1\n",
    "                state = :s0\n",
    "                ys = ys..., :even\n",
    "            else\n",
    "                error(\"Unexpected input: \", x)\n",
    "            end\n",
    "        end\n",
    "    end\n",
    "    return ys\n",
    "end"
   ]
  },
  {
   "cell_type": "code",
   "execution_count": 10,
   "metadata": {},
   "outputs": [
    {
     "data": {
      "text/plain": [
       "(:even, :odd, :odd, :even, :even)"
      ]
     },
     "metadata": {},
     "output_type": "display_data"
    }
   ],
   "source": [
    "dfa_parity((0, 1, 0, 1, 0))"
   ]
  },
  {
   "cell_type": "code",
   "execution_count": 11,
   "metadata": {},
   "outputs": [
    {
     "data": {
      "text/plain": [
       "dfa_run (generic function with 1 method)"
      ]
     },
     "metadata": {},
     "output_type": "display_data"
    }
   ],
   "source": [
    "function dfa_run(tr, start, xs)\n",
    "    ys = ()\n",
    "    state = start\n",
    "    for x in xs\n",
    "        (s, y) = tr(state, x)\n",
    "        state = s\n",
    "        ys = ys..., y\n",
    "    end\n",
    "    return ys\n",
    "end"
   ]
  },
  {
   "cell_type": "code",
   "execution_count": 12,
   "metadata": {},
   "outputs": [
    {
     "data": {
      "text/plain": [
       "tr_parity1 (generic function with 1 method)"
      ]
     },
     "metadata": {},
     "output_type": "display_data"
    }
   ],
   "source": [
    "function tr_parity1(state, x)\n",
    "    if state == :s0\n",
    "        if x == 0\n",
    "            :s0, :even\n",
    "        elseif x == 1\n",
    "            :s1, :odd\n",
    "        else\n",
    "            error(\"Unexpected input: \", x)\n",
    "        end\n",
    "    elseif state == :s1\n",
    "        if x == 0\n",
    "            :s1, :odd\n",
    "        elseif x == 1\n",
    "            :s0, :even\n",
    "        else\n",
    "            error(\"Unexpected input: \", x)\n",
    "        end\n",
    "    end\n",
    "end"
   ]
  },
  {
   "cell_type": "code",
   "execution_count": 13,
   "metadata": {},
   "outputs": [
    {
     "data": {
      "text/plain": [
       "(:even, :odd, :odd, :even, :even)"
      ]
     },
     "metadata": {},
     "output_type": "display_data"
    }
   ],
   "source": [
    "dfa_run(tr_parity1, :s0, (0, 1, 0, 1, 0))"
   ]
  },
  {
   "cell_type": "code",
   "execution_count": 14,
   "metadata": {},
   "outputs": [
    {
     "data": {
      "text/plain": [
       "((:s0, ((0, (:s0, :even)), (1, (:s1, :odd)))), (:s1, ((0, (:s1, :odd)), (1, (:s0, :even)))))"
      ]
     },
     "metadata": {},
     "output_type": "display_data"
    }
   ],
   "source": [
    "parity_table =\n",
    "    (:s0, (\n",
    "        (0, (:s0, :even)),\n",
    "        (1, (:s1, :odd)))),\n",
    "    (:s1, (\n",
    "        (0, (:s1, :odd)),\n",
    "        (1, (:s0, :even))))"
   ]
  },
  {
   "cell_type": "code",
   "execution_count": 15,
   "metadata": {},
   "outputs": [
    {
     "data": {
      "text/plain": [
       "tr_select (generic function with 1 method)"
      ]
     },
     "metadata": {},
     "output_type": "display_data"
    }
   ],
   "source": [
    "function tr_select(tbl, state, input)\n",
    "    for (s, r) in tbl\n",
    "        if s == state\n",
    "            for (x, t) in r\n",
    "                if x == input\n",
    "                    return t\n",
    "                end\n",
    "            end\n",
    "            error(\"Unknown input: \", input)\n",
    "        end\n",
    "    end\n",
    "    error(\"Unknown state: \", state)\n",
    "end"
   ]
  },
  {
   "cell_type": "code",
   "execution_count": 16,
   "metadata": {},
   "outputs": [
    {
     "data": {
      "text/plain": [
       "(:s0, :even)"
      ]
     },
     "metadata": {},
     "output_type": "display_data"
    }
   ],
   "source": [
    "tr_select(parity_table, :s1, 1)"
   ]
  },
  {
   "cell_type": "code",
   "execution_count": 17,
   "metadata": {},
   "outputs": [
    {
     "data": {
      "text/plain": [
       "dfa_run_tbl (generic function with 1 method)"
      ]
     },
     "metadata": {},
     "output_type": "display_data"
    }
   ],
   "source": [
    "function dfa_run_tbl(tbl, start, xs)\n",
    "    ys = ()\n",
    "    state = start\n",
    "    for input in xs\n",
    "        state, y = tr_select(tbl, state, input)\n",
    "        ys = ys..., y\n",
    "    end\n",
    "    return ys\n",
    "end"
   ]
  },
  {
   "cell_type": "code",
   "execution_count": 18,
   "metadata": {},
   "outputs": [
    {
     "data": {
      "text/plain": [
       "(:even, :odd, :odd, :even, :even)"
      ]
     },
     "metadata": {},
     "output_type": "display_data"
    }
   ],
   "source": [
    "dfa_run_tbl(parity_table, :s0, (0, 1, 0, 1, 0))"
   ]
  },
  {
   "cell_type": "code",
   "execution_count": 19,
   "metadata": {},
   "outputs": [],
   "source": [
    "using CompTime"
   ]
  },
  {
   "cell_type": "code",
   "execution_count": 20,
   "metadata": {},
   "outputs": [],
   "source": [
    "include(\"MacroUtils.jl\")\n",
    "using .MacroUtils: cleanup"
   ]
  },
  {
   "cell_type": "code",
   "execution_count": 21,
   "metadata": {},
   "outputs": [
    {
     "data": {
      "text/plain": [
       "runtime (generic function with 1 method)"
      ]
     },
     "metadata": {},
     "output_type": "display_data"
    }
   ],
   "source": [
    "@ct_enable function tr_select_ct(@ct(tbl), @ct(state), input)\n",
    "    @ct_ctrl for (s, r) in tbl\n",
    "        @ct_ctrl if s == state\n",
    "            @ct_ctrl for (x, t) in r\n",
    "                if @ct(x) == input\n",
    "                    return @ct(t)\n",
    "                end\n",
    "            end\n",
    "            error(\"Unknown input: \", input)        \n",
    "        end\n",
    "    end\n",
    "    error(\"Unknown state: \", state)\n",
    "end"
   ]
  },
  {
   "cell_type": "code",
   "execution_count": 22,
   "metadata": {},
   "outputs": [
    {
     "data": {
      "text/plain": [
       "quote\n",
       "    if 0 == input\n",
       "        return (:s1, :odd)\n",
       "    end\n",
       "    if 1 == input\n",
       "        return (:s0, :even)\n",
       "    end\n",
       "    error(\"Unknown input: \", input)\n",
       "    error(\"Unknown state: \", state)\n",
       "end"
      ]
     },
     "metadata": {},
     "output_type": "display_data"
    }
   ],
   "source": [
    "debug(tr_select_ct, Val{parity_table}, Val{:s1}, 1) |> cleanup"
   ]
  },
  {
   "cell_type": "code",
   "execution_count": 23,
   "metadata": {},
   "outputs": [
    {
     "data": {
      "text/plain": [
       "(:s0, :even)"
      ]
     },
     "metadata": {},
     "output_type": "display_data"
    }
   ],
   "source": [
    "tr_select_ct(Val{parity_table}, Val{:s1}, 1)"
   ]
  },
  {
   "cell_type": "code",
   "execution_count": 24,
   "metadata": {},
   "outputs": [],
   "source": [
    "# @ct_enable function dfa_run_tbl_ct(@ct(tbl), @ct(start), xs)\n",
    "#     ys = ()\n",
    "#     @ct state = start\n",
    "#     for input in xs\n",
    "#         s, y = tr_select_ct(@ct(tbl), @ct(state), input)\n",
    "#         @ct state = s\n",
    "#         ys = ys..., y\n",
    "#     end\n",
    "#     return ys\n",
    "# end"
   ]
  },
  {
   "cell_type": "code",
   "execution_count": 25,
   "metadata": {},
   "outputs": [],
   "source": [
    "# dfa_run_tbl_ct(Val{parity_table}, Val{:s0}, (0, 1, 0, 1, 0))"
   ]
  },
  {
   "cell_type": "code",
   "execution_count": 26,
   "metadata": {},
   "outputs": [],
   "source": [
    "# debug(dfa_run_tbl_ct, Val{parity_table}, Val{:s0}, (0, 1, 0, 1, 0)) |> cleanup"
   ]
  },
  {
   "cell_type": "code",
   "execution_count": 27,
   "metadata": {},
   "outputs": [
    {
     "data": {
      "text/plain": [
       "tr_select_state (generic function with 1 method)"
      ]
     },
     "metadata": {},
     "output_type": "display_data"
    }
   ],
   "source": [
    "function tr_select_state(tbl, state)\n",
    "    (s, tbl_s), r... = tbl\n",
    "    if s == state\n",
    "        return tbl_s\n",
    "    else\n",
    "        tr_select_state(r, state)\n",
    "    end\n",
    "end"
   ]
  },
  {
   "cell_type": "code",
   "execution_count": 28,
   "metadata": {},
   "outputs": [
    {
     "data": {
      "text/plain": [
       "tr_select_input (generic function with 1 method)"
      ]
     },
     "metadata": {},
     "output_type": "display_data"
    }
   ],
   "source": [
    "function tr_select_input(tbl_s, input)\n",
    "    (x, t), r... = tbl_s\n",
    "    if x == input\n",
    "        t\n",
    "    else\n",
    "        tr_select_input(r, input)\n",
    "    end\n",
    "end"
   ]
  },
  {
   "cell_type": "code",
   "execution_count": 29,
   "metadata": {},
   "outputs": [
    {
     "data": {
      "text/plain": [
       "dfa_run_tbl2 (generic function with 1 method)"
      ]
     },
     "metadata": {},
     "output_type": "display_data"
    }
   ],
   "source": [
    "function dfa_run_tbl2(tbl, start, xs)\n",
    "    ys = ()\n",
    "    state = start\n",
    "    for input in xs\n",
    "        tbl_s = tr_select_state(tbl, state)\n",
    "        state, y = tr_select_input(tbl_s, input)\n",
    "        ys = ys..., y\n",
    "    end\n",
    "    return ys\n",
    "end"
   ]
  },
  {
   "cell_type": "code",
   "execution_count": 30,
   "metadata": {},
   "outputs": [
    {
     "data": {
      "text/plain": [
       "(:even, :odd, :odd, :even, :even)"
      ]
     },
     "metadata": {},
     "output_type": "display_data"
    }
   ],
   "source": [
    "dfa_run_tbl2(parity_table, :s0, (0, 1, 0, 1, 0))"
   ]
  },
  {
   "cell_type": "code",
   "execution_count": 31,
   "metadata": {},
   "outputs": [
    {
     "data": {
      "text/plain": [
       "dfa_run_tbl3 (generic function with 1 method)"
      ]
     },
     "metadata": {},
     "output_type": "display_data"
    }
   ],
   "source": [
    "function dfa_run_tbl3(tbl, state, xs)\n",
    "    if isempty(xs)\n",
    "        ()\n",
    "    else\n",
    "        x, xs_... = xs\n",
    "        tbl_s = tr_select_state(tbl, state)\n",
    "        state_, y = tr_select_input(tbl_s, x)\n",
    "        y, dfa_run_tbl3(tbl, state_, xs_)...\n",
    "    end\n",
    "end"
   ]
  },
  {
   "cell_type": "code",
   "execution_count": 32,
   "metadata": {},
   "outputs": [
    {
     "data": {
      "text/plain": [
       "(:even, :odd, :odd, :even, :even)"
      ]
     },
     "metadata": {},
     "output_type": "display_data"
    }
   ],
   "source": [
    "dfa_run_tbl3(parity_table, :s0, (0, 1, 0, 1, 0))"
   ]
  },
  {
   "cell_type": "code",
   "execution_count": 33,
   "metadata": {},
   "outputs": [
    {
     "data": {
      "text/plain": [
       "tr_select_input_cont (generic function with 1 method)"
      ]
     },
     "metadata": {},
     "output_type": "display_data"
    }
   ],
   "source": [
    "function tr_select_input_cont(tbl_s, input, cont)\n",
    "    (x, (s, y)), r... = tbl_s\n",
    "    if x == input\n",
    "        cont(s , y)\n",
    "    else\n",
    "        tr_select_input_cont(r, input, cont)\n",
    "    end\n",
    "end"
   ]
  },
  {
   "cell_type": "code",
   "execution_count": 34,
   "metadata": {},
   "outputs": [
    {
     "data": {
      "text/plain": [
       "((0, (:s1, :odd)), (1, (:s0, :even)))"
      ]
     },
     "metadata": {},
     "output_type": "display_data"
    }
   ],
   "source": [
    "parity_table[2][2]"
   ]
  },
  {
   "cell_type": "code",
   "execution_count": 35,
   "metadata": {},
   "outputs": [
    {
     "data": {
      "text/plain": [
       "(:s0, :even)"
      ]
     },
     "metadata": {},
     "output_type": "display_data"
    }
   ],
   "source": [
    "tr_select_input_cont(parity_table[2][2], 1, (s, y) -> (s, y))"
   ]
  },
  {
   "cell_type": "code",
   "execution_count": 36,
   "metadata": {},
   "outputs": [
    {
     "data": {
      "text/plain": [
       "dfa_run_cont (generic function with 1 method)"
      ]
     },
     "metadata": {},
     "output_type": "display_data"
    }
   ],
   "source": [
    "function dfa_run_cont(tbl, state, xs)\n",
    "    if isempty(xs)\n",
    "        ()\n",
    "    else\n",
    "        x, xs_... = xs\n",
    "        tbl_s = tr_select_state(tbl, state)\n",
    "        tr_select_input_cont(tbl_s, x,\n",
    "            (s, y) -> (y, dfa_run_cont(tbl, s, xs_)...)\n",
    "        )\n",
    "    end\n",
    "end"
   ]
  },
  {
   "cell_type": "code",
   "execution_count": 37,
   "metadata": {},
   "outputs": [
    {
     "data": {
      "text/plain": [
       "(:even, :odd, :odd, :even, :even)"
      ]
     },
     "metadata": {},
     "output_type": "display_data"
    }
   ],
   "source": [
    "dfa_run_cont(parity_table, :s0, (0, 1, 0, 1, 0))"
   ]
  },
  {
   "cell_type": "code",
   "execution_count": 38,
   "metadata": {},
   "outputs": [
    {
     "data": {
      "text/plain": [
       "tr_select_state_pe (generic function with 1 method)"
      ]
     },
     "metadata": {},
     "output_type": "display_data"
    }
   ],
   "source": [
    "function tr_select_state_pe(::Val{tbl}, ::Val{state}) where {tbl,state}\n",
    "    (s, tbl_s), r... = tbl\n",
    "    if s == state\n",
    "        Val(tbl_s)\n",
    "    else\n",
    "        tr_select_state_pe(Val(r), Val(state))\n",
    "    end\n",
    "end"
   ]
  },
  {
   "cell_type": "code",
   "execution_count": 39,
   "metadata": {},
   "outputs": [
    {
     "data": {
      "text/plain": [
       "Val{((0, (:s1, :odd)), (1, (:s0, :even)))}()"
      ]
     },
     "metadata": {},
     "output_type": "display_data"
    }
   ],
   "source": [
    "tr_select_state_pe(Val(parity_table), Val(:s1))"
   ]
  },
  {
   "cell_type": "code",
   "execution_count": 40,
   "metadata": {},
   "outputs": [
    {
     "data": {
      "text/plain": [
       "tr_select_input_cont_pe (generic function with 1 method)"
      ]
     },
     "metadata": {},
     "output_type": "display_data"
    }
   ],
   "source": [
    "function tr_select_input_cont_pe(::Val{tbl_s}, input, cont) where {tbl_s}\n",
    "    (x, (s, y)), r... = tbl_s\n",
    "    if x == input\n",
    "        cont(Val(s), y)\n",
    "    else\n",
    "        tr_select_input_cont_pe(Val(r), input, cont)\n",
    "    end\n",
    "end"
   ]
  },
  {
   "cell_type": "code",
   "execution_count": 41,
   "metadata": {},
   "outputs": [
    {
     "data": {
      "text/plain": [
       "(Val{:s0}(), :even)"
      ]
     },
     "metadata": {},
     "output_type": "display_data"
    }
   ],
   "source": [
    "tr_select_input_cont_pe(Val(parity_table[2][2]), 1, (s, y) -> (s, y))"
   ]
  },
  {
   "cell_type": "code",
   "execution_count": 42,
   "metadata": {},
   "outputs": [],
   "source": [
    "# function dfa_run_cont_pe(::Val{tbl}, ::Val{state}, xs) where {tbl, state}\n",
    "#     if isempty(xs)\n",
    "#         ()\n",
    "#     else\n",
    "#         x, xs_... = xs\n",
    "#         tbl_s = tr_select_state_pe(Val(tbl), Val(state))\n",
    "#         tr_select_input_cont_pe(tbl_s, x,\n",
    "#             (vs, y) -> (y, dfa_run_cont_pe(Val(tbl), vs, xs_)...)\n",
    "#         )\n",
    "#     end\n",
    "# end"
   ]
  },
  {
   "cell_type": "code",
   "execution_count": 43,
   "metadata": {},
   "outputs": [
    {
     "data": {
      "text/plain": [
       "dfa_run_cont_pe (generic function with 1 method)"
      ]
     },
     "metadata": {},
     "output_type": "display_data"
    }
   ],
   "source": [
    "function dfa_run_cont_pe(::Val{tbl}, ::Val{state}, xs, ys) where {tbl,state}\n",
    "    if isempty(xs)\n",
    "        ys\n",
    "    else\n",
    "        x, xs_... = xs\n",
    "        tbl_s = tr_select_state_pe(Val(tbl), Val(state))\n",
    "        tr_select_input_cont_pe(tbl_s, x,\n",
    "            (vs, y) -> begin\n",
    "                push!(ys, y)\n",
    "                dfa_run_cont_pe(Val(tbl), vs, xs_, ys)\n",
    "            end\n",
    "        )\n",
    "    end\n",
    "end"
   ]
  },
  {
   "cell_type": "code",
   "execution_count": 44,
   "metadata": {},
   "outputs": [
    {
     "data": {
      "text/plain": [
       "5-element Vector{Symbol}:\n",
       " :even\n",
       " :odd\n",
       " :odd\n",
       " :even\n",
       " :even"
      ]
     },
     "metadata": {},
     "output_type": "display_data"
    }
   ],
   "source": [
    "# dfa_run_cont_pe(Val(parity_table), Val(:s0), [0, 1, 0, 1, 0])\n",
    "dfa_run_cont_pe(Val(parity_table), Val(:s0), [0, 1, 0, 1, 0], Symbol[])"
   ]
  },
  {
   "cell_type": "code",
   "execution_count": 45,
   "metadata": {},
   "outputs": [
    {
     "data": {
      "text/plain": [
       "CodeInfo(\n",
       "\u001b[90m1 ──\u001b[39m %1  = Base.arraylen(xs)\u001b[36m::Int64\u001b[39m\n",
       "\u001b[90m│   \u001b[39m %2  = (%1 === 0)\u001b[36m::Bool\u001b[39m\n",
       "\u001b[90m└───\u001b[39m       goto #3 if not %2\n",
       "\u001b[90m2 ──\u001b[39m       return ys\n",
       "\u001b[90m3 ──\u001b[39m %5  = Base.arrayref(true, xs, 1)\u001b[36m::Int64\u001b[39m\n",
       "\u001b[90m│   \u001b[39m %6  = Base.arraysize(xs, 1)\u001b[36m::Int64\u001b[39m\n",
       "\u001b[90m│   \u001b[39m %7  = Base.slt_int(%6, 0)\u001b[36m::Bool\u001b[39m\n",
       "\u001b[90m│   \u001b[39m %8  = Core.ifelse(%7, 0, %6)\u001b[36m::Int64\u001b[39m\n",
       "\u001b[90m│   \u001b[39m %9  = Base.sle_int(2, %8)\u001b[36m::Bool\u001b[39m\n",
       "\u001b[90m└───\u001b[39m       goto #5 if not %9\n",
       "\u001b[90m4 ──\u001b[39m       goto #6\n",
       "\u001b[90m5 ──\u001b[39m       goto #6\n",
       "\u001b[90m6 ┄─\u001b[39m %13 = φ (#4 => %8, #5 => 1)\u001b[36m::Int64\u001b[39m\n",
       "\u001b[90m│   \u001b[39m %14 = %new(UnitRange{Int64}, 2, %13)\u001b[36m::UnitRange{Int64}\u001b[39m\n",
       "\u001b[90m└───\u001b[39m       goto #7\n",
       "\u001b[90m7 ──\u001b[39m       goto #8\n",
       "\u001b[90m8 ──\u001b[39m       goto #13 if not true\n",
       "\u001b[90m9 ──\u001b[39m %18 = Core.tuple(%14)\u001b[36m::Tuple{UnitRange{Int64}}\u001b[39m\n",
       "\u001b[90m│   \u001b[39m %19 = Base.arraysize(xs, 1)\u001b[36m::Int64\u001b[39m\n",
       "\u001b[90m│   \u001b[39m %20 = Base.slt_int(%19, 0)\u001b[36m::Bool\u001b[39m\n",
       "\u001b[90m│   \u001b[39m %21 = Core.ifelse(%20, 0, %19)\u001b[36m::Int64\u001b[39m\n",
       "\u001b[90m│   \u001b[39m %22 = Base.slt_int(%13, 2)\u001b[36m::Bool\u001b[39m\n",
       "\u001b[90m│   \u001b[39m %23 = Base.sub_int(2, 1)\u001b[36m::Int64\u001b[39m\n",
       "\u001b[90m│   \u001b[39m %24 = Base.bitcast(UInt64, %23)\u001b[36m::UInt64\u001b[39m\n",
       "\u001b[90m│   \u001b[39m %25 = Base.bitcast(UInt64, %21)\u001b[36m::UInt64\u001b[39m\n",
       "\u001b[90m│   \u001b[39m %26 = Base.ult_int(%24, %25)\u001b[36m::Bool\u001b[39m\n",
       "\u001b[90m│   \u001b[39m %27 = Base.sub_int(%13, 1)\u001b[36m::Int64\u001b[39m\n",
       "\u001b[90m│   \u001b[39m %28 = Base.bitcast(UInt64, %27)\u001b[36m::UInt64\u001b[39m\n",
       "\u001b[90m│   \u001b[39m %29 = Base.bitcast(UInt64, %21)\u001b[36m::UInt64\u001b[39m\n",
       "\u001b[90m│   \u001b[39m %30 = Base.ult_int(%28, %29)\u001b[36m::Bool\u001b[39m\n",
       "\u001b[90m│   \u001b[39m %31 = Base.and_int(%26, %30)\u001b[36m::Bool\u001b[39m\n",
       "\u001b[90m│   \u001b[39m %32 = Base.or_int(%22, %31)\u001b[36m::Bool\u001b[39m\n",
       "\u001b[90m└───\u001b[39m       goto #11 if not %32\n",
       "\u001b[90m10 ─\u001b[39m       goto #12\n",
       "\u001b[90m11 ─\u001b[39m       invoke Base.throw_boundserror(xs::Vector{Int64}, %18::Tuple{UnitRange{Int64}})\u001b[90m::Union{}\u001b[39m\n",
       "\u001b[90m└───\u001b[39m       unreachable\n",
       "\u001b[90m12 ─\u001b[39m       nothing\u001b[90m::Nothing\u001b[39m\n",
       "\u001b[90m13 ┄\u001b[39m %38 = Base.sub_int(%13, 2)\u001b[36m::Int64\u001b[39m\n",
       "\u001b[90m│   \u001b[39m %39 = Base.add_int(1, %38)\u001b[36m::Int64\u001b[39m\n",
       "\u001b[90m│   \u001b[39m %40 = Base.sub_int(%13, 2)\u001b[36m::Int64\u001b[39m\n",
       "\u001b[90m│   \u001b[39m %41 = Base.add_int(1, %40)\u001b[36m::Int64\u001b[39m\n",
       "\u001b[90m│   \u001b[39m %42 = Base.slt_int(%41, 0)\u001b[36m::Bool\u001b[39m\n",
       "\u001b[90m│   \u001b[39m %43 = Core.ifelse(%42, 0, %41)\u001b[36m::Int64\u001b[39m\n",
       "\u001b[90m│   \u001b[39m %44 = $(Expr(:foreigncall, :(:jl_alloc_array_1d), Vector{Int64}, svec(Any, Int64), 0, :(:ccall), Vector{Int64}, :(%43), :(%43)))\u001b[36m::Vector{Int64}\u001b[39m\n",
       "\u001b[90m│   \u001b[39m %45 = Base.slt_int(0, %39)\u001b[36m::Bool\u001b[39m\n",
       "\u001b[90m└───\u001b[39m       goto #15 if not %45\n",
       "\u001b[90m14 ─\u001b[39m       invoke Base._copyto_impl!(%44::Vector{Int64}, 1::Int64, xs::Vector{Int64}, 2::Int64, %39::Int64)\u001b[90m::Vector{Int64}\u001b[39m\n",
       "\u001b[90m15 ┄\u001b[39m       goto #16\n",
       "\u001b[90m16 ─\u001b[39m       goto #17\n",
       "\u001b[90m17 ─\u001b[39m %50 = %new(var\"#24#25\"{((:s0, ((0, (:s0, :even)), (1, (:s1, :odd)))), (:s1, ((0, (:s1, :odd)), (1, (:s0, :even))))), Vector{Symbol}, Vector{Int64}}, ys, %44)\u001b[36m::var\"#24#25\"{((:s0, ((0, (:s0, :even)), (1, (:s1, :odd)))), (:s1, ((0, (:s1, :odd)), (1, (:s0, :even))))), Vector{Symbol}, Vector{Int64}}\u001b[39m\n",
       "\u001b[90m│   \u001b[39m %51 = (0 === %5)\u001b[36m::Bool\u001b[39m\n",
       "\u001b[90m└───\u001b[39m       goto #19 if not %51\n",
       "\u001b[90m18 ─\u001b[39m %53 = invoke %50($(QuoteNode(Val{:s0}()))::Val{:s0}, :even::Symbol)\u001b[36m::Any\u001b[39m\n",
       "\u001b[90m└───\u001b[39m       goto #20\n",
       "\u001b[90m19 ─\u001b[39m %55 = invoke Main.tr_select_input_cont_pe($(QuoteNode(Val{((1, (:s1, :odd)),)}()))::Val{((1, (:s1, :odd)),)}, %5::Int64, %50::var\"#24#25\"{((:s0, ((0, (:s0, :even)), (1, (:s1, :odd)))), (:s1, ((0, (:s1, :odd)), (1, (:s0, :even))))), Vector{Symbol}, Vector{Int64}})\u001b[36m::Any\u001b[39m\n",
       "\u001b[90m└───\u001b[39m       goto #20\n",
       "\u001b[90m20 ┄\u001b[39m %57 = φ (#18 => %53, #19 => %55)\u001b[36m::Any\u001b[39m\n",
       "\u001b[90m└───\u001b[39m       return %57\n",
       ") => Any"
      ]
     },
     "metadata": {},
     "output_type": "display_data"
    }
   ],
   "source": [
    "# @code_typed dfa_run_cont_pe(Val(parity_table), Val(:s0), [0, 1, 0, 1, 0])\n",
    "@code_typed dfa_run_cont_pe(Val(parity_table), Val(:s0), [0, 1, 0, 1, 0], Symbol[])"
   ]
  }
 ],
 "metadata": {
  "kernelspec": {
   "display_name": "Julia 1.10.5",
   "language": "julia",
   "name": "julia-1.10"
  },
  "language_info": {
   "file_extension": ".jl",
   "mimetype": "application/julia",
   "name": "julia",
   "version": "1.10.5"
  }
 },
 "nbformat": 4,
 "nbformat_minor": 2
}
