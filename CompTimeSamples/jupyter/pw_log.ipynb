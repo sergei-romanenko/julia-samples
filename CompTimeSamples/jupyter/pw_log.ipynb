{
 "cells": [
  {
   "cell_type": "code",
   "execution_count": 1,
   "metadata": {},
   "outputs": [],
   "source": [
    "using CompTime, InteractiveUtils, MacroTools"
   ]
  },
  {
   "cell_type": "code",
   "execution_count": 2,
   "metadata": {},
   "outputs": [
    {
     "data": {
      "text/plain": [
       "pw_log_rec (generic function with 1 method)"
      ]
     },
     "metadata": {},
     "output_type": "display_data"
    }
   ],
   "source": [
    "function pw_log_rec(n, x)\n",
    "    if iszero(n)\n",
    "        one(x)\n",
    "    elseif isone(n)\n",
    "        x\n",
    "    elseif isodd(n)\n",
    "        x * pw_log_rec(n - 1, x)\n",
    "    else\n",
    "        pw_log_rec(n ÷ 2, x * x)\n",
    "    end\n",
    "end"
   ]
  },
  {
   "cell_type": "code",
   "execution_count": 3,
   "metadata": {},
   "outputs": [
    {
     "data": {
      "text/plain": [
       "\"\""
      ]
     },
     "metadata": {},
     "output_type": "display_data"
    }
   ],
   "source": [
    "pw_log_rec(0, \"Abc\")"
   ]
  },
  {
   "cell_type": "code",
   "execution_count": 4,
   "metadata": {},
   "outputs": [
    {
     "data": {
      "text/plain": [
       "\"Abc\""
      ]
     },
     "metadata": {},
     "output_type": "display_data"
    }
   ],
   "source": [
    "pw_log_rec(1, \"Abc\")"
   ]
  },
  {
   "cell_type": "code",
   "execution_count": 5,
   "metadata": {},
   "outputs": [
    {
     "data": {
      "text/plain": [
       "\"AbcAbcAbcAbcAbc\""
      ]
     },
     "metadata": {},
     "output_type": "display_data"
    }
   ],
   "source": [
    "pw_log_rec(5, \"Abc\")"
   ]
  },
  {
   "cell_type": "code",
   "execution_count": 6,
   "metadata": {},
   "outputs": [
    {
     "data": {
      "text/plain": [
       "pw_log_loop (generic function with 1 method)"
      ]
     },
     "metadata": {},
     "output_type": "display_data"
    }
   ],
   "source": [
    "function pw_log_loop(n, x)\n",
    "    r = one(x)\n",
    "\n",
    "    while n > 0\n",
    "        if isodd(n)\n",
    "            r = r * x\n",
    "        end\n",
    "        n = n ÷ 2\n",
    "        x = x * x\n",
    "    end\n",
    "\n",
    "    return r\n",
    "end"
   ]
  },
  {
   "cell_type": "code",
   "execution_count": 7,
   "metadata": {},
   "outputs": [
    {
     "data": {
      "text/plain": [
       "\"\""
      ]
     },
     "metadata": {},
     "output_type": "display_data"
    }
   ],
   "source": [
    "pw_log_loop(0, \"Abc\")"
   ]
  },
  {
   "cell_type": "code",
   "execution_count": 8,
   "metadata": {},
   "outputs": [
    {
     "data": {
      "text/plain": [
       "\"Abc\""
      ]
     },
     "metadata": {},
     "output_type": "display_data"
    }
   ],
   "source": [
    "pw_log_loop(1, \"Abc\")"
   ]
  },
  {
   "cell_type": "code",
   "execution_count": 9,
   "metadata": {},
   "outputs": [
    {
     "data": {
      "text/plain": [
       "\"AbcAbcAbcAbcAbc\""
      ]
     },
     "metadata": {},
     "output_type": "display_data"
    }
   ],
   "source": [
    "pw_log_loop(5, \"Abc\")"
   ]
  },
  {
   "cell_type": "code",
   "execution_count": 10,
   "metadata": {},
   "outputs": [
    {
     "data": {
      "text/plain": [
       "runtime (generic function with 1 method)"
      ]
     },
     "metadata": {},
     "output_type": "display_data"
    }
   ],
   "source": [
    "@ct_enable function pw_log_ct(@ct(n), x)\n",
    "    @ct(k = n)\n",
    "    r = one(x)\n",
    "\n",
    "    @ct_ctrl while k > 0\n",
    "        @ct_ctrl if isodd(k)\n",
    "            r = r * x\n",
    "        end\n",
    "        @ct(k = k ÷ 2)\n",
    "        x = x * x\n",
    "    end\n",
    "\n",
    "    return r\n",
    "\n",
    "end"
   ]
  },
  {
   "cell_type": "code",
   "execution_count": 11,
   "metadata": {},
   "outputs": [
    {
     "data": {
      "text/plain": [
       "\"AbcAbcAbcAbcAbc\""
      ]
     },
     "metadata": {},
     "output_type": "display_data"
    }
   ],
   "source": [
    "pw_log_ct(Val{5}, \"Abc\")"
   ]
  },
  {
   "cell_type": "code",
   "execution_count": 12,
   "metadata": {},
   "outputs": [
    {
     "data": {
      "text/plain": [
       "\"AbcAbcAbcAbcAbc\""
      ]
     },
     "metadata": {},
     "output_type": "display_data"
    }
   ],
   "source": [
    "runtime(pw_log_ct, 5, \"Abc\")"
   ]
  },
  {
   "cell_type": "code",
   "execution_count": 13,
   "metadata": {},
   "outputs": [
    {
     "data": {
      "text/plain": [
       "\"AbcAbcAbcAbcAbc\""
      ]
     },
     "metadata": {},
     "output_type": "display_data"
    }
   ],
   "source": [
    "comptime(pw_log_ct, Val{5}, \"Abc\")"
   ]
  },
  {
   "cell_type": "code",
   "execution_count": 14,
   "metadata": {},
   "outputs": [
    {
     "data": {
      "text/plain": [
       "CodeInfo(\n",
       "\u001b[90m1 ─\u001b[39m %1 = Base.mul_int(1, x)\u001b[36m::Int64\u001b[39m\n",
       "\u001b[90m│  \u001b[39m %2 = Base.mul_int(x, x)\u001b[36m::Int64\u001b[39m\n",
       "\u001b[90m│  \u001b[39m %3 = Base.mul_int(%2, %2)\u001b[36m::Int64\u001b[39m\n",
       "\u001b[90m│  \u001b[39m %4 = Base.mul_int(%1, %3)\u001b[36m::Int64\u001b[39m\n",
       "\u001b[90m└──\u001b[39m      return %4\n",
       ") => Int64"
      ]
     },
     "metadata": {},
     "output_type": "display_data"
    }
   ],
   "source": [
    "@code_typed pw_log_ct(Val{5}, 10)"
   ]
  },
  {
   "cell_type": "code",
   "execution_count": 15,
   "metadata": {},
   "outputs": [
    {
     "data": {
      "text/plain": [
       "CodeInfo(\n",
       "\u001b[90m1 ─\u001b[39m      x@_7 = x@_4\n",
       "\u001b[90m│  \u001b[39m      k = n\n",
       "\u001b[90m└──\u001b[39m      r = Main.one(x@_7)\n",
       "\u001b[90m2 ┄\u001b[39m %4 = k > 0\n",
       "\u001b[90m└──\u001b[39m      goto #6 if not %4\n",
       "\u001b[90m3 ─\u001b[39m %6 = Main.isodd(k)\n",
       "\u001b[90m└──\u001b[39m      goto #5 if not %6\n",
       "\u001b[90m4 ─\u001b[39m      r = r * x@_7\n",
       "\u001b[90m5 ┄\u001b[39m      k = k ÷ 2\n",
       "\u001b[90m│  \u001b[39m      x@_7 = x@_7 * x@_7\n",
       "\u001b[90m└──\u001b[39m      goto #2\n",
       "\u001b[90m6 ─\u001b[39m      return r\n",
       ")"
      ]
     },
     "metadata": {},
     "output_type": "display_data"
    }
   ],
   "source": [
    "@code_lowered runtime(pw_log_ct, 3, 10)"
   ]
  },
  {
   "cell_type": "code",
   "execution_count": 16,
   "metadata": {},
   "outputs": [
    {
     "data": {
      "text/plain": [
       "quote\n",
       "    5\n",
       "    r = one(x)\n",
       "    r = r * x\n",
       "    2\n",
       "    x = x * x\n",
       "    nothing\n",
       "    1\n",
       "    x = x * x\n",
       "    r = r * x\n",
       "    0\n",
       "    x = x * x\n",
       "    return r\n",
       "end"
      ]
     },
     "metadata": {},
     "output_type": "display_data"
    }
   ],
   "source": [
    "debug(pw_log_ct, Val{5}, 10) |> Base.remove_linenums! |> MacroTools.flatten"
   ]
  }
 ],
 "metadata": {
  "kernelspec": {
   "display_name": "Julia 1.10.2",
   "language": "julia",
   "name": "julia-1.10"
  },
  "language_info": {
   "file_extension": ".jl",
   "mimetype": "application/julia",
   "name": "julia",
   "version": "1.10.2"
  }
 },
 "nbformat": 4,
 "nbformat_minor": 2
}
