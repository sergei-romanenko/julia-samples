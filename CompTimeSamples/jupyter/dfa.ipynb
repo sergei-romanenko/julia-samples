{
 "cells": [
  {
   "cell_type": "code",
   "execution_count": 1,
   "metadata": {},
   "outputs": [
    {
     "data": {
      "text/plain": [
       "mult2_seq (generic function with 1 method)"
      ]
     },
     "metadata": {},
     "output_type": "display_data"
    }
   ],
   "source": [
    "function mult2_seq(xs)\n",
    "    ys = ()\n",
    "    for x in xs\n",
    "        ys = (ys..., x * 2)\n",
    "    end\n",
    "    return ys\n",
    "end"
   ]
  },
  {
   "cell_type": "code",
   "execution_count": 2,
   "metadata": {},
   "outputs": [
    {
     "data": {
      "text/plain": [
       "(2, 4, 6)"
      ]
     },
     "metadata": {},
     "output_type": "display_data"
    }
   ],
   "source": [
    "mult2_seq((1, 2, 3))"
   ]
  },
  {
   "cell_type": "code",
   "execution_count": 3,
   "metadata": {},
   "outputs": [
    {
     "data": {
      "text/plain": [
       "dfa_parity (generic function with 1 method)"
      ]
     },
     "metadata": {},
     "output_type": "display_data"
    }
   ],
   "source": [
    "function dfa_parity(xs)\n",
    "    ys = ()\n",
    "    state = :s0\n",
    "    for x in xs\n",
    "        if state == :s0\n",
    "            if x == 0\n",
    "                state = :s0\n",
    "                ys = (ys..., :even)\n",
    "            elseif x == 1\n",
    "                state = :s1\n",
    "                ys = (ys..., :odd)\n",
    "            else\n",
    "                error(\"Unexpected input: \", x)\n",
    "            end\n",
    "        elseif state == :s1\n",
    "            if x == 0\n",
    "                state = :s1\n",
    "                ys = (ys..., :odd)\n",
    "            elseif x == 1\n",
    "                state = :s0\n",
    "                ys = (ys..., :even)\n",
    "            else\n",
    "                error(\"Unexpected input: \", x)\n",
    "            end\n",
    "        end\n",
    "    end\n",
    "    return ys\n",
    "end"
   ]
  },
  {
   "cell_type": "code",
   "execution_count": 4,
   "metadata": {},
   "outputs": [
    {
     "data": {
      "text/plain": [
       "(:even, :odd, :odd, :even, :even)"
      ]
     },
     "metadata": {},
     "output_type": "display_data"
    }
   ],
   "source": [
    "dfa_parity((0, 1, 0, 1, 0))"
   ]
  },
  {
   "cell_type": "code",
   "execution_count": 5,
   "metadata": {},
   "outputs": [
    {
     "data": {
      "text/plain": [
       "dfa_run (generic function with 1 method)"
      ]
     },
     "metadata": {},
     "output_type": "display_data"
    }
   ],
   "source": [
    "function dfa_run(tr, start, xs)\n",
    "    ys = ()\n",
    "    state = start\n",
    "    for x in xs\n",
    "        (s, y) = tr(state, x)\n",
    "        state = s\n",
    "        ys = (ys..., y)\n",
    "    end\n",
    "    return ys\n",
    "end"
   ]
  },
  {
   "cell_type": "code",
   "execution_count": 6,
   "metadata": {},
   "outputs": [
    {
     "data": {
      "text/plain": [
       "tr_parity1 (generic function with 1 method)"
      ]
     },
     "metadata": {},
     "output_type": "display_data"
    }
   ],
   "source": [
    "function tr_parity1(state, x)\n",
    "    if state == :s0\n",
    "        if x == 0\n",
    "            :s0, :even\n",
    "        elseif x == 1\n",
    "            :s1, :odd\n",
    "        else\n",
    "            error(\"Unexpected input: \", x)\n",
    "        end\n",
    "    elseif state == :s1\n",
    "        if x == 0\n",
    "            :s1, :odd\n",
    "        elseif x == 1\n",
    "            :s0, :even\n",
    "        else\n",
    "            error(\"Unexpected input: \", x)\n",
    "        end\n",
    "    end\n",
    "end"
   ]
  },
  {
   "cell_type": "code",
   "execution_count": 7,
   "metadata": {},
   "outputs": [
    {
     "data": {
      "text/plain": [
       "(:even, :odd, :odd, :even, :even)"
      ]
     },
     "metadata": {},
     "output_type": "display_data"
    }
   ],
   "source": [
    "dfa_run(tr_parity1, :s0, (0, 1, 0, 1, 0))"
   ]
  },
  {
   "cell_type": "code",
   "execution_count": 8,
   "metadata": {},
   "outputs": [
    {
     "data": {
      "text/plain": [
       "((:s0, ((0, (:s0, :even)), (1, (:s1, :odd)))), (:s1, ((0, (:s1, :odd)), (1, (:s0, :even)))))"
      ]
     },
     "metadata": {},
     "output_type": "display_data"
    }
   ],
   "source": [
    "parity_table = (\n",
    "    (:s0, (\n",
    "        (0, (:s0, :even)),\n",
    "        (1, (:s1, :odd)))),\n",
    "    (:s1, (\n",
    "        (0, (:s1, :odd)),\n",
    "        (1, (:s0, :even))))\n",
    ")"
   ]
  },
  {
   "cell_type": "code",
   "execution_count": 9,
   "metadata": {},
   "outputs": [
    {
     "data": {
      "text/plain": [
       "tr_select (generic function with 1 method)"
      ]
     },
     "metadata": {},
     "output_type": "display_data"
    }
   ],
   "source": [
    "function tr_select(tbl, state, input)\n",
    "    for (s, r) in tbl\n",
    "        if s == state\n",
    "            for (x, t) in r\n",
    "                if x == input\n",
    "                    return t\n",
    "                end\n",
    "            end\n",
    "            error(\"Unknown input: \", input)        \n",
    "        end\n",
    "    end\n",
    "    error(\"Unknown state: \", state)\n",
    "end"
   ]
  },
  {
   "cell_type": "code",
   "execution_count": 10,
   "metadata": {},
   "outputs": [
    {
     "data": {
      "text/plain": [
       "(:s0, :even)"
      ]
     },
     "metadata": {},
     "output_type": "display_data"
    }
   ],
   "source": [
    "tr_select(parity_table, :s1, 1)"
   ]
  },
  {
   "cell_type": "code",
   "execution_count": 11,
   "metadata": {},
   "outputs": [
    {
     "data": {
      "text/plain": [
       "dfa_run_tbl (generic function with 1 method)"
      ]
     },
     "metadata": {},
     "output_type": "display_data"
    }
   ],
   "source": [
    "function dfa_run_tbl(tbl, start, xs)\n",
    "    ys = ()\n",
    "    state = start\n",
    "    for input in xs\n",
    "        (s, y) = tr_select(tbl, state, input)\n",
    "        state = s\n",
    "        ys = (ys..., y)\n",
    "    end\n",
    "    return ys\n",
    "end"
   ]
  },
  {
   "cell_type": "code",
   "execution_count": 12,
   "metadata": {},
   "outputs": [
    {
     "data": {
      "text/plain": [
       "(:even, :odd, :odd, :even, :even)"
      ]
     },
     "metadata": {},
     "output_type": "display_data"
    }
   ],
   "source": [
    "dfa_run_tbl(parity_table, :s0, (0, 1, 0, 1, 0))"
   ]
  },
  {
   "cell_type": "code",
   "execution_count": 13,
   "metadata": {},
   "outputs": [],
   "source": [
    "using CompTime"
   ]
  },
  {
   "cell_type": "code",
   "execution_count": 14,
   "metadata": {},
   "outputs": [],
   "source": [
    "include(\"MacroUtils.jl\")\n",
    "using .MacroUtils: cleanup"
   ]
  },
  {
   "cell_type": "code",
   "execution_count": 15,
   "metadata": {},
   "outputs": [
    {
     "data": {
      "text/plain": [
       "runtime (generic function with 1 method)"
      ]
     },
     "metadata": {},
     "output_type": "display_data"
    }
   ],
   "source": [
    "@ct_enable function tr_select_ct(@ct(tbl), @ct(state), input)\n",
    "    @ct_ctrl for (s, r) in tbl\n",
    "        @ct_ctrl if s == state\n",
    "            @ct_ctrl for (x, t) in r\n",
    "                if @ct(x) == input\n",
    "                    return @ct(t)\n",
    "                end\n",
    "            end\n",
    "            error(\"Unknown input: \", input)        \n",
    "        end\n",
    "    end\n",
    "    error(\"Unknown state: \", state)\n",
    "end"
   ]
  },
  {
   "cell_type": "code",
   "execution_count": 16,
   "metadata": {},
   "outputs": [
    {
     "data": {
      "text/plain": [
       "quote\n",
       "    if 0 == input\n",
       "        return (:s1, :odd)\n",
       "    end\n",
       "    if 1 == input\n",
       "        return (:s0, :even)\n",
       "    end\n",
       "    error(\"Unknown input: \", input)\n",
       "    error(\"Unknown state: \", state)\n",
       "end"
      ]
     },
     "metadata": {},
     "output_type": "display_data"
    }
   ],
   "source": [
    "debug(tr_select_ct, Val{parity_table}, Val{:s1}, 1) |> cleanup"
   ]
  },
  {
   "cell_type": "code",
   "execution_count": 17,
   "metadata": {},
   "outputs": [
    {
     "data": {
      "text/plain": [
       "(:s0, :even)"
      ]
     },
     "metadata": {},
     "output_type": "display_data"
    }
   ],
   "source": [
    "tr_select_ct(Val{parity_table}, Val{:s1}, 1)"
   ]
  },
  {
   "cell_type": "code",
   "execution_count": 30,
   "metadata": {},
   "outputs": [
    {
     "data": {
      "text/plain": [
       "runtime (generic function with 2 methods)"
      ]
     },
     "metadata": {},
     "output_type": "display_data"
    }
   ],
   "source": [
    "@ct_enable function dfa_run_tbl_ct(@ct(tbl), @ct(start), xs)\n",
    "    ys = ()\n",
    "    @ct state = start\n",
    "    for input in xs\n",
    "        (s, y) = tr_select(@ct(tbl), @ct(state), input)\n",
    "        @ct state = s\n",
    "        ys = (ys..., y)\n",
    "    end\n",
    "    return ys\n",
    "end"
   ]
  },
  {
   "cell_type": "code",
   "execution_count": 31,
   "metadata": {},
   "outputs": [
    {
     "ename": "UndefVarError",
     "evalue": "UndefVarError: `s` not defined",
     "output_type": "error",
     "traceback": [
      "UndefVarError: `s` not defined\n",
      "\n",
      "Stacktrace:\n",
      " [1] generate_code(::typeof(dfa_run_tbl_ct), ::Type{Type{Val{((:s0, ((0, (:s0, :even)), (1, (:s1, :odd)))), (:s1, ((0, (:s1, :odd)), (1, (:s0, :even)))))}}}, ::Type{Type{Val{:s0}}}, ::Type)\n",
      "   @ Main ./none:0\n",
      " [2] #s72#13\n",
      "   @ ~/.julia/packages/CompTime/Ppb3B/src/CompTime.jl:138 [inlined]\n",
      " [3] var\"#s72#13\"(tbl::Any, start::Any, ::Any, ::Any, 235::Any, 236::Any, xs::Any)\n",
      "   @ Main ./none:0\n",
      " [4] (::Core.GeneratedFunctionStub)(::UInt64, ::LineNumberNode, ::Any, ::Vararg{Any})\n",
      "   @ Core ./boot.jl:602\n",
      " [5] dfa_run_tbl_ct(235::Type{Val{((:s0, ((0, (:s0, :even)), (1, (:s1, :odd)))), (:s1, ((0, (:s1, :odd)), (1, (:s0, :even)))))}}, 236::Type{Val{:s0}}, xs::NTuple{5, Int64})\n",
      "   @ Main ./none:0\n",
      " [6] top-level scope\n",
      "   @ ~/devel/Julia/julia-samples/CompTimeSamples/jupyter/dfa.ipynb:1"
     ]
    }
   ],
   "source": [
    "dfa_run_tbl_ct(Val{parity_table}, Val{:s0}, (0, 1, 0, 1, 0))"
   ]
  },
  {
   "cell_type": "code",
   "execution_count": 32,
   "metadata": {},
   "outputs": [
    {
     "ename": "UndefVarError",
     "evalue": "UndefVarError: `s` not defined",
     "output_type": "error",
     "traceback": [
      "UndefVarError: `s` not defined\n",
      "\n",
      "Stacktrace:\n",
      " [1] generate_code(::typeof(dfa_run_tbl_ct), ::Type{Type{Val{((:s0, ((0, (:s0, :even)), (1, (:s1, :odd)))), (:s1, ((0, (:s1, :odd)), (1, (:s0, :even)))))}}}, ::Type{Type{Val{:s0}}}, ::Type)\n",
      "   @ Main ./none:0\n",
      " [2] debug(::Function, ::Type, ::Vararg{Any})\n",
      "   @ CompTime ~/.julia/packages/CompTime/Ppb3B/src/CompTime.jl:20\n",
      " [3] top-level scope\n",
      "   @ ~/devel/Julia/julia-samples/CompTimeSamples/jupyter/dfa.ipynb:1"
     ]
    }
   ],
   "source": [
    "debug(dfa_run_tbl_ct, Val{parity_table}, Val{:s0}, (0, 1, 0, 1, 0)) |> cleanup"
   ]
  }
 ],
 "metadata": {
  "kernelspec": {
   "display_name": "Julia 1.10.4",
   "language": "julia",
   "name": "julia-1.10"
  },
  "language_info": {
   "file_extension": ".jl",
   "mimetype": "application/julia",
   "name": "julia",
   "version": "1.10.4"
  }
 },
 "nbformat": 4,
 "nbformat_minor": 2
}
