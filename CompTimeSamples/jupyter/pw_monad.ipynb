{
 "cells": [
  {
   "cell_type": "code",
   "execution_count": 1,
   "metadata": {},
   "outputs": [],
   "source": [
    "include(\"MacroUtils.jl\")\n",
    "using .MacroUtils: cleanup"
   ]
  },
  {
   "cell_type": "code",
   "execution_count": 2,
   "metadata": {},
   "outputs": [
    {
     "data": {
      "text/plain": [
       "pw (generic function with 1 method)"
      ]
     },
     "metadata": {},
     "output_type": "display_data"
    }
   ],
   "source": [
    "function pw(n, x::T) where {T}\n",
    "    if iszero(n)\n",
    "        one(T)\n",
    "    elseif isodd(n)\n",
    "        x * pw(n - 1, x)\n",
    "    else\n",
    "        r = pw(n ÷ 2, x)\n",
    "        r * r\n",
    "    end\n",
    "end"
   ]
  },
  {
   "cell_type": "code",
   "execution_count": 3,
   "metadata": {},
   "outputs": [
    {
     "data": {
      "text/plain": [
       "(\"\", \"Abc\", \"AbcAbc\", \"AbcAbcAbc\", \"AbcAbcAbcAbc\", \"AbcAbcAbcAbcAbc\")"
      ]
     },
     "metadata": {},
     "output_type": "display_data"
    }
   ],
   "source": [
    "Tuple(pw(n, \"Abc\") for n in 0:5)"
   ]
  },
  {
   "cell_type": "code",
   "execution_count": 4,
   "metadata": {},
   "outputs": [
    {
     "data": {
      "text/plain": [
       "pw_pe (generic function with 1 method)"
      ]
     },
     "metadata": {},
     "output_type": "display_data"
    }
   ],
   "source": [
    "function pw_pe(::Val{n}, x::T) where {n,T}\n",
    "    if iszero(n)\n",
    "        one(T)\n",
    "    elseif isodd(n)\n",
    "        x * pw_pe(Val(n - 1), x)\n",
    "    else\n",
    "        r = pw_pe(Val(n ÷ 2), x)\n",
    "        r * r\n",
    "    end\n",
    "end"
   ]
  },
  {
   "cell_type": "code",
   "execution_count": 5,
   "metadata": {},
   "outputs": [
    {
     "data": {
      "text/plain": [
       "(\"\", \"Abc\", \"AbcAbc\", \"AbcAbcAbc\", \"AbcAbcAbcAbc\", \"AbcAbcAbcAbcAbc\")"
      ]
     },
     "metadata": {},
     "output_type": "display_data"
    }
   ],
   "source": [
    "Tuple(pw_pe(Val(n), \"Abc\") for n in 0:5)"
   ]
  },
  {
   "cell_type": "code",
   "execution_count": 6,
   "metadata": {},
   "outputs": [
    {
     "data": {
      "text/plain": [
       "CodeInfo(\n",
       "\u001b[90m1 ─\u001b[39m      nothing\u001b[90m::Nothing\u001b[39m\n",
       "\u001b[90m│  \u001b[39m %2 = Base.mul_int(x, 1)\u001b[36m::Int64\u001b[39m\n",
       "\u001b[90m│  \u001b[39m %3 = Base.mul_int(%2, %2)\u001b[36m::Int64\u001b[39m\n",
       "\u001b[90m│  \u001b[39m %4 = Base.mul_int(%3, %3)\u001b[36m::Int64\u001b[39m\n",
       "\u001b[90m│  \u001b[39m %5 = Base.mul_int(x, %4)\u001b[36m::Int64\u001b[39m\n",
       "\u001b[90m└──\u001b[39m      return %5\n",
       ") => Int64"
      ]
     },
     "metadata": {},
     "output_type": "display_data"
    }
   ],
   "source": [
    "@code_typed pw_pe(Val(5), 10)"
   ]
  },
  {
   "cell_type": "markdown",
   "metadata": {},
   "source": [
    "Лишнее умножение на `1`!\n",
    "\n",
    "Можно побороть с помощью абстрактной интерпретации. Но специализатор в Джулии не умеет работать с частично статическими значениями. Поэтому, придётся работать с парой: (абстрактное значение, конкретное значение)."
   ]
  },
  {
   "cell_type": "code",
   "execution_count": 7,
   "metadata": {},
   "outputs": [
    {
     "data": {
      "text/plain": [
       "pw_abs (generic function with 1 method)"
      ]
     },
     "metadata": {},
     "output_type": "display_data"
    }
   ],
   "source": [
    "function pw_abs(n, x::T) where {T}\n",
    "    if iszero(n)\n",
    "        true, one(T)\n",
    "    elseif isodd(n)\n",
    "        r_one, r = pw_abs(n - 1, x)\n",
    "        false, r_one ? x : x * r\n",
    "    else\n",
    "        r_one, r = pw_abs(n ÷ 2, x)\n",
    "        r_one, r_one ? one(T) : r * r\n",
    "    end\n",
    "end"
   ]
  },
  {
   "cell_type": "code",
   "execution_count": 8,
   "metadata": {},
   "outputs": [
    {
     "data": {
      "text/plain": [
       "(\"\", \"Abc\", \"AbcAbc\", \"AbcAbcAbc\", \"AbcAbcAbcAbc\", \"AbcAbcAbcAbcAbc\")"
      ]
     },
     "metadata": {},
     "output_type": "display_data"
    }
   ],
   "source": [
    "Tuple(pw_abs(n, \"Abc\")[2] for n in 0:5)"
   ]
  },
  {
   "cell_type": "code",
   "execution_count": 9,
   "metadata": {},
   "outputs": [
    {
     "data": {
      "text/plain": [
       "pw_abs_pe (generic function with 1 method)"
      ]
     },
     "metadata": {},
     "output_type": "display_data"
    }
   ],
   "source": [
    "function pw_abs_pe(::Val{n}, x::T) where {n, T}\n",
    "    if iszero(n)\n",
    "        Val(true), one(T)\n",
    "    elseif isodd(n)\n",
    "        r_one, r = pw_abs_pe(Val(n - 1), x)\n",
    "        Val(false), r_one isa Val{true} ? x : x * r\n",
    "    else\n",
    "        r_one, r = pw_abs_pe(Val(n ÷ 2), x)\n",
    "        r_one, r_one isa Val{true} ? one(T) : r * r\n",
    "    end\n",
    "end"
   ]
  },
  {
   "cell_type": "code",
   "execution_count": 10,
   "metadata": {},
   "outputs": [
    {
     "data": {
      "text/plain": [
       "(\"\", \"Abc\", \"AbcAbc\", \"AbcAbcAbc\", \"AbcAbcAbcAbc\", \"AbcAbcAbcAbcAbc\")"
      ]
     },
     "metadata": {},
     "output_type": "display_data"
    }
   ],
   "source": [
    "Tuple(pw_abs_pe(Val(n), \"Abc\")[2] for n in 0:5)"
   ]
  },
  {
   "cell_type": "code",
   "execution_count": 11,
   "metadata": {},
   "outputs": [
    {
     "data": {
      "text/plain": [
       "CodeInfo(\n",
       "\u001b[90m1 ─\u001b[39m      nothing\u001b[90m::Nothing\u001b[39m\n",
       "\u001b[90m│  \u001b[39m %2 = Base.mul_int(x, x)\u001b[36m::Int64\u001b[39m\n",
       "\u001b[90m│  \u001b[39m %3 = Base.mul_int(%2, %2)\u001b[36m::Int64\u001b[39m\n",
       "\u001b[90m│  \u001b[39m %4 = Base.mul_int(x, %3)\u001b[36m::Int64\u001b[39m\n",
       "\u001b[90m│  \u001b[39m %5 = Core.tuple($(QuoteNode(Val{false}())), %4)\u001b[36m::Tuple{Val{false}, Int64}\u001b[39m\n",
       "\u001b[90m└──\u001b[39m      return %5\n",
       ") => Tuple{Val{false}, Int64}"
      ]
     },
     "metadata": {},
     "output_type": "display_data"
    }
   ],
   "source": [
    "@code_typed pw_abs_pe(Val(5), 10)"
   ]
  },
  {
   "cell_type": "markdown",
   "metadata": {},
   "source": [
    "Теперь попробуем сделать то же самое с помощью `@generated`."
   ]
  },
  {
   "cell_type": "code",
   "execution_count": 12,
   "metadata": {},
   "outputs": [
    {
     "data": {
      "text/plain": [
       "pw_gen_impl1 (generic function with 1 method)"
      ]
     },
     "metadata": {},
     "output_type": "display_data"
    }
   ],
   "source": [
    "function pw_gen_impl1(n)\n",
    "    if iszero(n)\n",
    "        :(1.0)\n",
    "    elseif isodd(n)\n",
    "        :(x * $(pw_gen_impl1(n - 1)))\n",
    "    else\n",
    "        r = pw_gen_impl1(n ÷ 2)\n",
    "        :($r * $r)\n",
    "    end\n",
    "end"
   ]
  },
  {
   "cell_type": "code",
   "execution_count": 13,
   "metadata": {},
   "outputs": [
    {
     "data": {
      "text/plain": [
       ":(x * (((x * 1.0) * (x * 1.0)) * ((x * 1.0) * (x * 1.0))))"
      ]
     },
     "metadata": {},
     "output_type": "display_data"
    }
   ],
   "source": [
    "pw_gen_impl1(5) |> cleanup"
   ]
  },
  {
   "cell_type": "markdown",
   "metadata": {},
   "source": [
    "Недостатки: (1) умножение на 1.0 и (2) дублирование кода."
   ]
  },
  {
   "cell_type": "code",
   "execution_count": 14,
   "metadata": {},
   "outputs": [
    {
     "data": {
      "text/plain": [
       "pw_gen1 (generic function with 1 method)"
      ]
     },
     "metadata": {},
     "output_type": "display_data"
    }
   ],
   "source": [
    "@generated function pw_gen1(::Val{n}, x::Float64) where {n}\n",
    "    pw_gen_impl1(n)\n",
    "end"
   ]
  },
  {
   "cell_type": "code",
   "execution_count": 15,
   "metadata": {},
   "outputs": [
    {
     "data": {
      "text/plain": [
       "(1.0, 10.0, 100.0, 1000.0, 10000.0, 100000.0)"
      ]
     },
     "metadata": {},
     "output_type": "display_data"
    }
   ],
   "source": [
    "Tuple(pw_gen1(Val(n), 10.0) for n in 0:5)"
   ]
  },
  {
   "cell_type": "code",
   "execution_count": 16,
   "metadata": {},
   "outputs": [
    {
     "data": {
      "text/plain": [
       "pw_gen_impl2 (generic function with 1 method)"
      ]
     },
     "metadata": {},
     "output_type": "display_data"
    }
   ],
   "source": [
    "function pw_gen_impl2(n)\n",
    "    if iszero(n)\n",
    "        :(1.0)\n",
    "    elseif isodd(n)\n",
    "        :(x * $(pw_gen_impl2(n - 1)))\n",
    "    else\n",
    "        quote\n",
    "            r = $(pw_gen_impl2(n ÷ 2))\n",
    "            r * r\n",
    "        end\n",
    "    end\n",
    "end"
   ]
  },
  {
   "cell_type": "code",
   "execution_count": 17,
   "metadata": {},
   "outputs": [
    {
     "data": {
      "text/plain": [
       ":(x * begin\n",
       "          r = begin\n",
       "                  r = x * 1.0\n",
       "                  r * r\n",
       "              end\n",
       "          r * r\n",
       "      end)"
      ]
     },
     "metadata": {},
     "output_type": "display_data"
    }
   ],
   "source": [
    "pw_gen_impl2(5) |> cleanup"
   ]
  },
  {
   "cell_type": "markdown",
   "metadata": {},
   "source": [
    "\n",
    "Недостатки: (1) умножение на 1.0 и (2) слишком много вложенных `begin ... end`.\n",
    "\n",
    "А хочется получить линейную программу. Но для этого придётся генерировать имена переменных!"
   ]
  },
  {
   "cell_type": "markdown",
   "metadata": {},
   "source": [
    "Немного продвигаемся  в сторону линейной программы."
   ]
  },
  {
   "cell_type": "code",
   "execution_count": 18,
   "metadata": {},
   "outputs": [
    {
     "data": {
      "text/plain": [
       "pw_gen_impl3 (generic function with 1 method)"
      ]
     },
     "metadata": {},
     "output_type": "display_data"
    }
   ],
   "source": [
    "function pw_gen_impl3(n)\n",
    "    if iszero(n)\n",
    "        :(1.0)\n",
    "    elseif isodd(n)\n",
    "        quote\n",
    "            r = $(pw_gen_impl3(n - 1))\n",
    "            x * r\n",
    "        end\n",
    "    else\n",
    "        quote\n",
    "            r = $(pw_gen_impl3(n ÷ 2))\n",
    "            r * r\n",
    "        end\n",
    "    end\n",
    "end"
   ]
  },
  {
   "cell_type": "code",
   "execution_count": 19,
   "metadata": {},
   "outputs": [
    {
     "data": {
      "text/plain": [
       "quote\n",
       "    r = begin\n",
       "            r = begin\n",
       "                    r = begin\n",
       "                            r = 1.0\n",
       "                            x * r\n",
       "                        end\n",
       "                    r * r\n",
       "                end\n",
       "            r * r\n",
       "        end\n",
       "    x * r\n",
       "end"
      ]
     },
     "metadata": {},
     "output_type": "display_data"
    }
   ],
   "source": [
    "pw_gen_impl3(5) |> cleanup"
   ]
  },
  {
   "cell_type": "code",
   "execution_count": 20,
   "metadata": {},
   "outputs": [
    {
     "data": {
      "text/plain": [
       "pw_gen3 (generic function with 1 method)"
      ]
     },
     "metadata": {},
     "output_type": "display_data"
    }
   ],
   "source": [
    "@generated function pw_gen3(::Val{n}, x::Float64) where {n}\n",
    "    pw_gen_impl3(n)\n",
    "end"
   ]
  },
  {
   "cell_type": "code",
   "execution_count": 21,
   "metadata": {},
   "outputs": [
    {
     "data": {
      "text/plain": [
       "(1.0, 10.0, 100.0, 1000.0, 10000.0, 100000.0)"
      ]
     },
     "metadata": {},
     "output_type": "display_data"
    }
   ],
   "source": [
    "Tuple(pw_gen3(Val(n), 10.0) for n in 0:5)"
   ]
  },
  {
   "cell_type": "markdown",
   "metadata": {},
   "source": [
    "Делаем генерацию переменных и генерацию линейной программы."
   ]
  },
  {
   "cell_type": "code",
   "execution_count": 22,
   "metadata": {},
   "outputs": [
    {
     "data": {
      "text/plain": [
       "pw_gen_impl4! (generic function with 1 method)"
      ]
     },
     "metadata": {},
     "output_type": "display_data"
    }
   ],
   "source": [
    "function pw_gen_impl4!(n, es, m)\n",
    "    r = Symbol(\"r_\", m[])\n",
    "    m[] += 1\n",
    "\n",
    "    if iszero(n)\n",
    "        push!(es, :($r = 1.0))\n",
    "    elseif isodd(n)\n",
    "        r1 = pw_gen_impl4!(n - 1, es, m)\n",
    "        push!(es, :($r = x * $r1))\n",
    "    else\n",
    "        r1 = pw_gen_impl4!(n ÷ 2, es, m)\n",
    "        push!(es, :($r = $r1 * $r1))\n",
    "    end\n",
    "\n",
    "    return r\n",
    "end"
   ]
  },
  {
   "cell_type": "code",
   "execution_count": 23,
   "metadata": {},
   "outputs": [
    {
     "data": {
      "text/plain": [
       "pw_gen_impl4 (generic function with 1 method)"
      ]
     },
     "metadata": {},
     "output_type": "display_data"
    }
   ],
   "source": [
    "function pw_gen_impl4(n)\n",
    "    es = Expr[]\n",
    "    m = Ref(1)\n",
    "    r = pw_gen_impl4!(n, es, m)\n",
    "\n",
    "    quote\n",
    "        $(es...)\n",
    "        return $r\n",
    "    end\n",
    "end"
   ]
  },
  {
   "cell_type": "code",
   "execution_count": 24,
   "metadata": {},
   "outputs": [
    {
     "data": {
      "text/plain": [
       "pw_gen4 (generic function with 1 method)"
      ]
     },
     "metadata": {},
     "output_type": "display_data"
    }
   ],
   "source": [
    "@generated function pw_gen4(::Val{n}, x::Float64) where {n}\n",
    "    pw_gen_impl4(n)\n",
    "end"
   ]
  },
  {
   "cell_type": "code",
   "execution_count": 25,
   "metadata": {},
   "outputs": [
    {
     "data": {
      "text/plain": [
       "(1.0, 10.0, 100.0, 1000.0, 10000.0, 100000.0)"
      ]
     },
     "metadata": {},
     "output_type": "display_data"
    }
   ],
   "source": [
    "Tuple(pw_gen4(Val(n), 10.0) for n in 0:5)"
   ]
  },
  {
   "cell_type": "code",
   "execution_count": 26,
   "metadata": {},
   "outputs": [
    {
     "data": {
      "text/plain": [
       "quote\n",
       "    r_5 = 1.0\n",
       "    r_4 = x * r_5\n",
       "    r_3 = r_4 * r_4\n",
       "    r_2 = r_3 * r_3\n",
       "    r_1 = x * r_2\n",
       "    return r_1\n",
       "end"
      ]
     },
     "metadata": {},
     "output_type": "display_data"
    }
   ],
   "source": [
    "pw_gen_impl4(5) |> cleanup"
   ]
  },
  {
   "cell_type": "markdown",
   "metadata": {},
   "source": [
    "Недостатки: (1) умножение на `1.0`, (2) лишние присваивания.\n",
    "\n",
    "Побороть можно с помощью абстрактной интерпретации: (1) отслеживая, когда происходит умножение на `1.0` и (2) отслеживая, когда символическим значением переменной является число или идентификатор.\n",
    "\n",
    "Но в данном случае можно обойтись без создания особого типа данных для абстрактных значений, поскольку в Джулии константные выражения представлены просто константами."
   ]
  },
  {
   "cell_type": "code",
   "execution_count": 27,
   "metadata": {},
   "outputs": [
    {
     "data": {
      "text/plain": [
       "mult_s (generic function with 2 methods)"
      ]
     },
     "metadata": {},
     "output_type": "display_data"
    }
   ],
   "source": [
    "mult_s(x, y::Float64) =\n",
    "    y == 1.0 ? x : :($x * $y)\n",
    "\n",
    "mult_s(x, y) =\n",
    "    :($x * $y)"
   ]
  },
  {
   "cell_type": "code",
   "execution_count": 28,
   "metadata": {},
   "outputs": [
    {
     "data": {
      "text/plain": [
       "ass! (generic function with 3 methods)"
      ]
     },
     "metadata": {},
     "output_type": "display_data"
    }
   ],
   "source": [
    "function ass!(es, d, s::Symbol, c::Float64)\n",
    "    d[s] = c\n",
    "end\n",
    "\n",
    "function ass!(es, d, s::Symbol, u::Symbol)\n",
    "    d[s] = u\n",
    "end\n",
    "\n",
    "function ass!(es, d, s::Symbol, e)\n",
    "    d[s] = s\n",
    "    push!(es, :($s = $e))\n",
    "end"
   ]
  },
  {
   "cell_type": "code",
   "execution_count": 29,
   "metadata": {},
   "outputs": [
    {
     "data": {
      "text/plain": [
       "pw_gen_impl5! (generic function with 1 method)"
      ]
     },
     "metadata": {},
     "output_type": "display_data"
    }
   ],
   "source": [
    "function pw_gen_impl5!(n, d, es, m)\n",
    "    r = Symbol(\"r_\", m[])\n",
    "    m[] += 1\n",
    "\n",
    "    if iszero(n)\n",
    "        ass!(es, d, r, 1.0)\n",
    "    elseif isodd(n)\n",
    "        r1 = pw_gen_impl5!(n - 1, d, es, m)\n",
    "        ass!(es, d, r, mult_s(:x, r1))\n",
    "    else\n",
    "        r1 = pw_gen_impl5!(n ÷ 2, d, es, m)\n",
    "        ass!(es, d, r, mult_s(r1, r1))\n",
    "    end\n",
    "\n",
    "    return d[r]\n",
    "end"
   ]
  },
  {
   "cell_type": "code",
   "execution_count": 30,
   "metadata": {},
   "outputs": [
    {
     "data": {
      "text/plain": [
       "pw_gen_impl5 (generic function with 1 method)"
      ]
     },
     "metadata": {},
     "output_type": "display_data"
    }
   ],
   "source": [
    "function pw_gen_impl5(n)\n",
    "    d = Dict{Symbol,Any}()\n",
    "    es = Expr[]\n",
    "    m = Ref(1)\n",
    "    r = pw_gen_impl5!(n, d, es, m)\n",
    "\n",
    "    quote\n",
    "        $(es...)\n",
    "        return $r\n",
    "    end\n",
    "end"
   ]
  },
  {
   "cell_type": "code",
   "execution_count": 31,
   "metadata": {},
   "outputs": [
    {
     "data": {
      "text/plain": [
       "pw_gen5 (generic function with 1 method)"
      ]
     },
     "metadata": {},
     "output_type": "display_data"
    }
   ],
   "source": [
    "@generated function pw_gen5(::Val{n}, x::Float64) where {n}\n",
    "    pw_gen_impl5(n)\n",
    "end"
   ]
  },
  {
   "cell_type": "code",
   "execution_count": 32,
   "metadata": {},
   "outputs": [
    {
     "data": {
      "text/plain": [
       "(1.0, 10.0, 100.0, 1000.0, 10000.0, 100000.0)"
      ]
     },
     "metadata": {},
     "output_type": "display_data"
    }
   ],
   "source": [
    "Tuple(pw_gen5(Val(n), 10.0) for n in 0:5)"
   ]
  },
  {
   "cell_type": "code",
   "execution_count": 33,
   "metadata": {},
   "outputs": [
    {
     "data": {
      "text/plain": [
       "quote\n",
       "    r_3 = x * x\n",
       "    r_2 = r_3 * r_3\n",
       "    r_1 = x * r_2\n",
       "    return r_1\n",
       "end"
      ]
     },
     "metadata": {},
     "output_type": "display_data"
    }
   ],
   "source": [
    "pw_gen_impl5(5) |> cleanup"
   ]
  },
  {
   "cell_type": "code",
   "execution_count": 34,
   "metadata": {},
   "outputs": [
    {
     "data": {
      "text/plain": [
       ":(return 1.0)"
      ]
     },
     "metadata": {},
     "output_type": "display_data"
    }
   ],
   "source": [
    "pw_gen_impl5(0) |> cleanup"
   ]
  },
  {
   "cell_type": "code",
   "execution_count": 35,
   "metadata": {},
   "outputs": [
    {
     "data": {
      "text/plain": [
       ":(return x)"
      ]
     },
     "metadata": {},
     "output_type": "display_data"
    }
   ],
   "source": [
    "pw_gen_impl5(1) |> cleanup"
   ]
  },
  {
   "cell_type": "code",
   "execution_count": 36,
   "metadata": {},
   "outputs": [
    {
     "data": {
      "text/plain": [
       "quote\n",
       "    r_1 = x * x\n",
       "    return r_1\n",
       "end"
      ]
     },
     "metadata": {},
     "output_type": "display_data"
    }
   ],
   "source": [
    "pw_gen_impl5(2) |> cleanup"
   ]
  }
 ],
 "metadata": {
  "kernelspec": {
   "display_name": "Julia 1.10.4",
   "language": "julia",
   "name": "julia-1.10"
  },
  "language_info": {
   "file_extension": ".jl",
   "mimetype": "application/julia",
   "name": "julia",
   "version": "1.10.4"
  }
 },
 "nbformat": 4,
 "nbformat_minor": 2
}
