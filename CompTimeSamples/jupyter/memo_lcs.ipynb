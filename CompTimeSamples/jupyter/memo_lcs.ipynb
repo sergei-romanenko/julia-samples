{
 "cells": [
  {
   "cell_type": "markdown",
   "metadata": {},
   "source": [
    "# Longest Common Subsequence"
   ]
  },
  {
   "cell_type": "markdown",
   "metadata": {},
   "source": [
    "Заданы две строки s1 и s2. Требуется найти длину самой длинной общей подпоследовательности. Если общей подпоследовательности нет - выдать 0.\n",
    "\n",
    "Подпоследовательность - это строка, сгенерированная из исходной строки путем удаления 0 или более символов и без изменения относительного порядка остальных символов.\n",
    "\n",
    "Например, подпоследовательностями “ABC” являются “”, “A”, “B”, “C”, “AB”, “AC”, “BC” и “ABC”.\n",
    "\n",
    "В общем случае, строка длины $n$ имеет $2^n$ подпоследовательностей."
   ]
  },
  {
   "cell_type": "markdown",
   "metadata": {},
   "source": [
    "\"Наивный\" алгоритм. Время - $O(2^{\\min(m,n)})$, память - $O(\\min(m, n))$"
   ]
  },
  {
   "cell_type": "code",
   "execution_count": 1,
   "metadata": {},
   "outputs": [
    {
     "data": {
      "text/plain": [
       "lcs (generic function with 2 methods)"
      ]
     },
     "metadata": {},
     "output_type": "display_data"
    }
   ],
   "source": [
    "# A Naive recursive implementation of LCS problem\n",
    "\n",
    "# Returns length of LCS for s1[1:i], s2[1:j]\n",
    "function lcs(i, j, s1, s2)\n",
    "    if (i == 0 || j == 0)\n",
    "        0\n",
    "    elseif (s1[i] == s2[j])\n",
    "        1 + lcs(i - 1, j - 1, s1, s2)\n",
    "    else\n",
    "        max(lcs(i, j - 1, s1, s2), lcs(i - 1, j, s1, s2))\n",
    "    end\n",
    "end\n",
    "\n",
    "lcs(s1, s2) = lcs(length(s1), length(s2), s1, s2)"
   ]
  },
  {
   "cell_type": "code",
   "execution_count": 2,
   "metadata": {},
   "outputs": [],
   "source": [
    "using Test"
   ]
  },
  {
   "cell_type": "code",
   "execution_count": 3,
   "metadata": {},
   "outputs": [
    {
     "data": {
      "text/plain": [
       "\u001b[32m\u001b[1mTest Passed\u001b[22m\u001b[39m"
      ]
     },
     "metadata": {},
     "output_type": "display_data"
    }
   ],
   "source": [
    "\n",
    "@test lcs(\"ABC\", \"ACD\") == 2\n",
    "# The longest common subsequence is “GTAB”.\n",
    "@test lcs(\"AGGTAB\", \"GXTXAYB\") == 4\n",
    "@test lcs(\"ABC\", \"CBA\") == 1"
   ]
  },
  {
   "cell_type": "markdown",
   "metadata": {},
   "source": [
    "## Специализация по `i` и `j`"
   ]
  },
  {
   "cell_type": "markdown",
   "metadata": {},
   "source": [
    "- Peter Thiemann. 1999. **Combinators for program generation.** J. Funct. Program. 9, 5 (September 1999), 483–525. https://doi.org/10.1017/S0956796899003469\n",
    "\n",
    "- Kedar Swadi, Walid Taha, Oleg Kiselyov. 2005. **Staging dynamic programming algorithms**. Unpublished manuscript (April 2005), available from: <http://www.cs.rice.edu/~taha/publications.html>.\n",
    "\n",
    "- Yukiyoshi Kameyama, Oleg Kiselyov, and Chung-chieh Shan. 2009. **Shifting the stage: staging with delimited control.** In Proceedings of the 2009 ACM SIGPLAN workshop on Partial evaluation and program manipulation (PEPM '09). Association for Computing Machinery, New York, NY, USA, 111–120. <https://doi.org/10.1145/1480945.1480962>\n",
    "\n",
    "- Oleg Kiselyov. 2010. **Delimited control in OCaml, abstractly and concretely: system description.** In Proceedings of the 10th international conference on Functional and Logic Programming (FLOPS'10). Springer-Verlag, Berlin, Heidelberg, 304–320. https://doi.org/10.1007/978-3-642-12251-4_22"
   ]
  },
  {
   "cell_type": "code",
   "execution_count": 4,
   "metadata": {},
   "outputs": [],
   "source": [
    "include(\"MacroUtils.jl\")\n",
    "using .MacroUtils: cleanup"
   ]
  },
  {
   "cell_type": "markdown",
   "metadata": {},
   "source": [
    "\"Наивный\" генератор. Получается одно громадное выражение, в котором есть совпадающие подвыражения."
   ]
  },
  {
   "cell_type": "code",
   "execution_count": 5,
   "metadata": {},
   "outputs": [
    {
     "data": {
      "text/plain": [
       "lcs_gen_impl1 (generic function with 1 method)"
      ]
     },
     "metadata": {},
     "output_type": "display_data"
    }
   ],
   "source": [
    "function lcs_gen_impl1(i, j)\n",
    "    if (i == 0 || j == 0)\n",
    "        0\n",
    "    else\n",
    "        quote\n",
    "            if (s1[$i] == s2[$j])\n",
    "                1 + $(lcs_gen_impl1(i - 1, j - 1))\n",
    "            else\n",
    "                max($(lcs_gen_impl1(i, j - 1)), $(lcs_gen_impl1(i - 1, j)))\n",
    "            end\n",
    "        end\n",
    "    end\n",
    "end"
   ]
  },
  {
   "cell_type": "code",
   "execution_count": 6,
   "metadata": {},
   "outputs": [
    {
     "data": {
      "text/plain": [
       ":(if s1[2] == s2[3]\n",
       "      1 + if s1[1] == s2[2]\n",
       "              1 + 0\n",
       "          else\n",
       "              max(if s1[1] == s2[1]\n",
       "                      1 + 0\n",
       "                  else\n",
       "                      max(0, 0)\n",
       "                  end, 0)\n",
       "          end\n",
       "  else\n",
       "      max(if s1[2] == s2[2]\n",
       "              1 + if s1[1] == s2[1]\n",
       "                      1 + 0\n",
       "                  else\n",
       "                      max(0, 0)\n",
       "                  end\n",
       "          else\n",
       "              max(if s1[2] == s2[1]\n",
       "                      1 + 0\n",
       "                  else\n",
       "                      max(0, if s1[1] == s2[1]\n",
       "                              1 + 0\n",
       "                          else\n",
       "                              max(0, 0)\n",
       "                          end)\n",
       "                  end, if s1[1] == s2[2]\n",
       "                      1 + 0\n",
       "                  else\n",
       "                      max(if s1[1] == s2[1]\n",
       "                              1 + 0\n",
       "                          else\n",
       "                              max(0, 0)\n",
       "                          end, 0)\n",
       "                  end)\n",
       "          end, if s1[1] == s2[3]\n",
       "              1 + 0\n",
       "          else\n",
       "              max(if s1[1] == s2[2]\n",
       "                      1 + 0\n",
       "                  else\n",
       "                      max(if s1[1] == s2[1]\n",
       "                              1 + 0\n",
       "                          else\n",
       "                              max(0, 0)\n",
       "                          end, 0)\n",
       "                  end, 0)\n",
       "          end)\n",
       "  end)"
      ]
     },
     "metadata": {},
     "output_type": "display_data"
    }
   ],
   "source": [
    "lcs_gen_impl1(2, 3) |> cleanup"
   ]
  },
  {
   "cell_type": "markdown",
   "metadata": {},
   "source": [
    "Не очень хорошо, когда выражения получаются слишком большими. (Это может \"взорвать\" компилятор, и читать трудно.)\n",
    "\n",
    "Посему, введём переменные для промежуточных результатов.\n",
    "\n",
    "Ну, а ещё - введение переменных - это подготовка мемоизации."
   ]
  },
  {
   "cell_type": "code",
   "execution_count": 7,
   "metadata": {},
   "outputs": [
    {
     "data": {
      "text/plain": [
       "lcs_gen_impl2 (generic function with 1 method)"
      ]
     },
     "metadata": {},
     "output_type": "display_data"
    }
   ],
   "source": [
    "function lcs_gen_impl2(i, j)\n",
    "    if (i == 0 || j == 0)\n",
    "        0\n",
    "    else\n",
    "        r0 = Symbol(\"r_\", i - 1, \"_\", j - 1)\n",
    "        r1 = Symbol(\"r_\", i, \"_\", j - 1)\n",
    "        r2 = Symbol(\"r_\", i - 1, \"_\", j)\n",
    "        quote\n",
    "            if (s1[$i] == s2[$j])\n",
    "                let\n",
    "                    local $r0 = $(lcs_gen_impl2(i - 1, j - 1))\n",
    "                    1 + $r0\n",
    "                end\n",
    "            else\n",
    "                let\n",
    "                    local $r1 = $(lcs_gen_impl2(i, j - 1))\n",
    "                    local $r2 = $(lcs_gen_impl2(i - 1, j))\n",
    "                    max($r1, $r2)\n",
    "                end\n",
    "            end\n",
    "        end\n",
    "    end\n",
    "end"
   ]
  },
  {
   "cell_type": "code",
   "execution_count": 8,
   "metadata": {},
   "outputs": [
    {
     "data": {
      "text/plain": [
       ":(if s1[2] == s2[3]\n",
       "      let\n",
       "          local r_1_2 = if s1[1] == s2[2]\n",
       "                      let\n",
       "                          local r_0_1 = 0\n",
       "                          1 + r_0_1\n",
       "                      end\n",
       "                  else\n",
       "                      let\n",
       "                          local r_1_1 = if s1[1] == s2[1]\n",
       "                                      let\n",
       "                                          local r_0_0 = 0\n",
       "                                          1 + r_0_0\n",
       "                                      end\n",
       "                                  else\n",
       "                                      let\n",
       "                                          local r_1_0 = 0\n",
       "                                          local r_0_1 = 0\n",
       "                                          max(r_1_0, r_0_1)\n",
       "                                      end\n",
       "                                  end\n",
       "                          local r_0_2 = 0\n",
       "                          max(r_1_1, r_0_2)\n",
       "                      end\n",
       "                  end\n",
       "          1 + r_1_2\n",
       "      end\n",
       "  else\n",
       "      let\n",
       "          local r_2_2 = if s1[2] == s2[2]\n",
       "                      let\n",
       "                          local r_1_1 = if s1[1] == s2[1]\n",
       "                                      let\n",
       "                                          local r_0_0 = 0\n",
       "                                          1 + r_0_0\n",
       "                                      end\n",
       "                                  else\n",
       "                                      let\n",
       "                                          local r_1_0 = 0\n",
       "                                          local r_0_1 = 0\n",
       "                                          max(r_1_0, r_0_1)\n",
       "                                      end\n",
       "                                  end\n",
       "                          1 + r_1_1\n",
       "                      end\n",
       "                  else\n",
       "                      let\n",
       "                          local r_2_1 = if s1[2] == s2[1]\n",
       "                                      let\n",
       "                                          local r_1_0 = 0\n",
       "                                          1 + r_1_0\n",
       "                                      end\n",
       "                                  else\n",
       "                                      let\n",
       "                                          local r_2_0 = 0\n",
       "                                          local r_1_1 = if s1[1] == s2[1]\n",
       "                                                      let\n",
       "                                                          local r_0_0 = 0\n",
       "                                                          1 + r_0_0\n",
       "                                                      end\n",
       "                                                  else\n",
       "                                                      let\n",
       "                                                          local r_1_0 = 0\n",
       "                                                          local r_0_1 = 0\n",
       "                                                          max(r_1_0, r_0_1)\n",
       "                                                      end\n",
       "                                                  end\n",
       "                                          max(r_2_0, r_1_1)\n",
       "                                      end\n",
       "                                  end\n",
       "                          local r_1_2 = if s1[1] == s2[2]\n",
       "                                      let\n",
       "                                          local r_0_1 = 0\n",
       "                                          1 + r_0_1\n",
       "                                      end\n",
       "                                  else\n",
       "                                      let\n",
       "                                          local r_1_1 = if s1[1] == s2[1]\n",
       "                                                      let\n",
       "                                                          local r_0_0 = 0\n",
       "                                                          1 + r_0_0\n",
       "                                                      end\n",
       "                                                  else\n",
       "                                                      let\n",
       "                                                          local r_1_0 = 0\n",
       "                                                          local r_0_1 = 0\n",
       "                                                          max(r_1_0, r_0_1)\n",
       "                                                      end\n",
       "                                                  end\n",
       "                                          local r_0_2 = 0\n",
       "                                          max(r_1_1, r_0_2)\n",
       "                                      end\n",
       "                                  end\n",
       "                          max(r_2_1, r_1_2)\n",
       "                      end\n",
       "                  end\n",
       "          local r_1_3 = if s1[1] == s2[3]\n",
       "                      let\n",
       "                          local r_0_2 = 0\n",
       "                          1 + r_0_2\n",
       "                      end\n",
       "                  else\n",
       "                      let\n",
       "                          local r_1_2 = if s1[1] == s2[2]\n",
       "                                      let\n",
       "                                          local r_0_1 = 0\n",
       "                                          1 + r_0_1\n",
       "                                      end\n",
       "                                  else\n",
       "                                      let\n",
       "                                          local r_1_1 = if s1[1] == s2[1]\n",
       "                                                      let\n",
       "                                                          local r_0_0 = 0\n",
       "                                                          1 + r_0_0\n",
       "                                                      end\n",
       "                                                  else\n",
       "                                                      let\n",
       "                                                          local r_1_0 = 0\n",
       "                                                          local r_0_1 = 0\n",
       "                                                          max(r_1_0, r_0_1)\n",
       "                                                      end\n",
       "                                                  end\n",
       "                                          local r_0_2 = 0\n",
       "                                          max(r_1_1, r_0_2)\n",
       "                                      end\n",
       "                                  end\n",
       "                          local r_0_3 = 0\n",
       "                          max(r_1_2, r_0_3)\n",
       "                      end\n",
       "                  end\n",
       "          max(r_2_2, r_1_3)\n",
       "      end\n",
       "  end)"
      ]
     },
     "metadata": {},
     "output_type": "display_data"
    }
   ],
   "source": [
    "lcs_gen_impl2(2, 3) |> cleanup"
   ]
  },
  {
   "cell_type": "markdown",
   "metadata": {},
   "source": [
    "Недостаток сгенерированной программы в том, что одни и те же выражения повторяются в программе несколько раз."
   ]
  },
  {
   "cell_type": "code",
   "execution_count": 9,
   "metadata": {},
   "outputs": [
    {
     "data": {
      "text/plain": [
       "lcs_gen2 (generic function with 1 method)"
      ]
     },
     "metadata": {},
     "output_type": "display_data"
    }
   ],
   "source": [
    "@generated function lcs_gen2(::Val{i}, ::Val{j}, s1, s2) where {i,j}\n",
    "    lcs_gen_impl2(i, j)\n",
    "end"
   ]
  },
  {
   "cell_type": "code",
   "execution_count": 10,
   "metadata": {},
   "outputs": [
    {
     "data": {
      "text/plain": [
       "lcs_gen2 (generic function with 2 methods)"
      ]
     },
     "metadata": {},
     "output_type": "display_data"
    }
   ],
   "source": [
    "function lcs_gen2(s1, s2)\n",
    "    lcs_gen2(Val(length(s1)), Val(length(s2)), s1, s2)\n",
    "end"
   ]
  },
  {
   "cell_type": "code",
   "execution_count": 11,
   "metadata": {},
   "outputs": [
    {
     "data": {
      "text/plain": [
       "\u001b[32m\u001b[1mTest Passed\u001b[22m\u001b[39m"
      ]
     },
     "metadata": {},
     "output_type": "display_data"
    }
   ],
   "source": [
    "@test lcs_gen2(\"ABC\", \"ACD\") == 2\n",
    "# The longest common subsequence is “GTAB”.\n",
    "# @test lcs_gen2(\"AGGTAB\", \"GXTXAYB\") == 4\n",
    "@test lcs_gen2(\"ABC\", \"CBA\") == 1"
   ]
  },
  {
   "cell_type": "markdown",
   "metadata": {},
   "source": [
    "Можно вынести присваивания из-под `if (s1[i] == s2[j])`. Тогда будут выполняться лишние вычисления, но асимптотика от этого не изменится."
   ]
  },
  {
   "cell_type": "code",
   "execution_count": 12,
   "metadata": {},
   "outputs": [
    {
     "data": {
      "text/plain": [
       "lcs_gen_impl3 (generic function with 1 method)"
      ]
     },
     "metadata": {},
     "output_type": "display_data"
    }
   ],
   "source": [
    "function lcs_gen_impl3(i, j)\n",
    "    if (i == 0 || j == 0)\n",
    "        0\n",
    "    else\n",
    "        r0 = Symbol(\"r_\", i - 1, \"_\", j - 1)\n",
    "        r1 = Symbol(\"r_\", i, \"_\", j - 1)\n",
    "        r2 = Symbol(\"r_\", i - 1, \"_\", j)\n",
    "        quote\n",
    "            $r0 = $(lcs_gen_impl3(i - 1, j - 1))\n",
    "            $r1 = $(lcs_gen_impl3(i, j - 1))\n",
    "            $r2 = $(lcs_gen_impl3(i - 1, j))\n",
    "            if (s1[$i] == s2[$j])\n",
    "                1 + $r0\n",
    "            else\n",
    "                max($r1, $r2)\n",
    "            end\n",
    "        end\n",
    "    end\n",
    "end"
   ]
  },
  {
   "cell_type": "code",
   "execution_count": 13,
   "metadata": {},
   "outputs": [
    {
     "data": {
      "text/plain": [
       "quote\n",
       "    r_1_2 = begin\n",
       "            r_0_1 = 0\n",
       "            r_1_1 = begin\n",
       "                    r_0_0 = 0\n",
       "                    r_1_0 = 0\n",
       "                    r_0_1 = 0\n",
       "                    if s1[1] == s2[1]\n",
       "                        1 + r_0_0\n",
       "                    else\n",
       "                        max(r_1_0, r_0_1)\n",
       "                    end\n",
       "                end\n",
       "            r_0_2 = 0\n",
       "            if s1[1] == s2[2]\n",
       "                1 + r_0_1\n",
       "            else\n",
       "                max(r_1_1, r_0_2)\n",
       "            end\n",
       "        end\n",
       "    r_2_2 = begin\n",
       "            r_1_1 = begin\n",
       "                    r_0_0 = 0\n",
       "                    r_1_0 = 0\n",
       "                    r_0_1 = 0\n",
       "                    if s1[1] == s2[1]\n",
       "                        1 + r_0_0\n",
       "                    else\n",
       "                        max(r_1_0, r_0_1)\n",
       "                    end\n",
       "                end\n",
       "            r_2_1 = begin\n",
       "                    r_1_0 = 0\n",
       "                    r_2_0 = 0\n",
       "                    r_1_1 = begin\n",
       "                            r_0_0 = 0\n",
       "                            r_1_0 = 0\n",
       "                            r_0_1 = 0\n",
       "                            if s1[1] == s2[1]\n",
       "                                1 + r_0_0\n",
       "                            else\n",
       "                                max(r_1_0, r_0_1)\n",
       "                            end\n",
       "                        end\n",
       "                    if s1[2] == s2[1]\n",
       "                        1 + r_1_0\n",
       "                    else\n",
       "                        max(r_2_0, r_1_1)\n",
       "                    end\n",
       "                end\n",
       "            r_1_2 = begin\n",
       "                    r_0_1 = 0\n",
       "                    r_1_1 = begin\n",
       "                            r_0_0 = 0\n",
       "                            r_1_0 = 0\n",
       "                            r_0_1 = 0\n",
       "                            if s1[1] == s2[1]\n",
       "                                1 + r_0_0\n",
       "                            else\n",
       "                                max(r_1_0, r_0_1)\n",
       "                            end\n",
       "                        end\n",
       "                    r_0_2 = 0\n",
       "                    if s1[1] == s2[2]\n",
       "                        1 + r_0_1\n",
       "                    else\n",
       "                        max(r_1_1, r_0_2)\n",
       "                    end\n",
       "                end\n",
       "            if s1[2] == s2[2]\n",
       "                1 + r_1_1\n",
       "            else\n",
       "                max(r_2_1, r_1_2)\n",
       "            end\n",
       "        end\n",
       "    r_1_3 = begin\n",
       "            r_0_2 = 0\n",
       "            r_1_2 = begin\n",
       "                    r_0_1 = 0\n",
       "                    r_1_1 = begin\n",
       "                            r_0_0 = 0\n",
       "                            r_1_0 = 0\n",
       "                            r_0_1 = 0\n",
       "                            if s1[1] == s2[1]\n",
       "                                1 + r_0_0\n",
       "                            else\n",
       "                                max(r_1_0, r_0_1)\n",
       "                            end\n",
       "                        end\n",
       "                    r_0_2 = 0\n",
       "                    if s1[1] == s2[2]\n",
       "                        1 + r_0_1\n",
       "                    else\n",
       "                        max(r_1_1, r_0_2)\n",
       "                    end\n",
       "                end\n",
       "            r_0_3 = 0\n",
       "            if s1[1] == s2[3]\n",
       "                1 + r_0_2\n",
       "            else\n",
       "                max(r_1_2, r_0_3)\n",
       "            end\n",
       "        end\n",
       "    if s1[2] == s2[3]\n",
       "        1 + r_1_2\n",
       "    else\n",
       "        max(r_2_2, r_1_3)\n",
       "    end\n",
       "end"
      ]
     },
     "metadata": {},
     "output_type": "display_data"
    }
   ],
   "source": [
    "lcs_gen_impl3(2, 3) |> cleanup"
   ]
  },
  {
   "cell_type": "markdown",
   "metadata": {},
   "source": [
    "Теперь недостаток в том, что одно и то же выражение вычисляется и присваивается несколько раз.\n",
    "\n",
    "Кроме того, генерируются переменные, которым присваиваются константы.\n",
    "\n",
    "Можно решить эти две проблемы, заведя словарь, в котором будет регистрироваться, какие подвыражения уже вычислялись, а какие - нет.\n",
    "\n",
    "В результате получим асимптотику: время - $O(m * n)$, память - $O(m * n)$."
   ]
  },
  {
   "cell_type": "code",
   "execution_count": 14,
   "metadata": {},
   "outputs": [
    {
     "data": {
      "text/plain": [
       "ass! (generic function with 3 methods)"
      ]
     },
     "metadata": {},
     "output_type": "display_data"
    }
   ],
   "source": [
    "function ass!(es, d, s::Symbol, c::Int64)\n",
    "    d[s] = c\n",
    "end\n",
    "\n",
    "function ass!(es, d, s::Symbol, u::Symbol)\n",
    "    d[s] = u\n",
    "end\n",
    "\n",
    "function ass!(es, d, s::Symbol, e)\n",
    "    haskey(d, s) && return\n",
    "    d[s] = s\n",
    "    push!(es, :($s = $e))\n",
    "end"
   ]
  },
  {
   "cell_type": "code",
   "execution_count": 15,
   "metadata": {},
   "outputs": [
    {
     "data": {
      "text/plain": [
       "lcs_gen_impl4! (generic function with 1 method)"
      ]
     },
     "metadata": {},
     "output_type": "display_data"
    }
   ],
   "source": [
    "function lcs_gen_impl4!(es, d, i, j)\n",
    "    r = Symbol(\"r_\", i, \"_\", j)\n",
    "\n",
    "    if haskey(d, r)\n",
    "        return d[r]\n",
    "    end\n",
    "\n",
    "    if (i == 0 || j == 0)\n",
    "        ass!(es, d, r, 0)\n",
    "    else\n",
    "        r0 = lcs_gen_impl4!(es, d, i - 1, j - 1)\n",
    "        r1 = lcs_gen_impl4!(es, d, i, j - 1)\n",
    "        r2 = lcs_gen_impl4!(es, d, i - 1, j)\n",
    "        ass!(es, d, r, :(\n",
    "            s1[$i] == s2[$j] ? 1 + $r0 : max($r1, $r2)\n",
    "        ))\n",
    "    end\n",
    "\n",
    "    return d[r]\n",
    "end"
   ]
  },
  {
   "cell_type": "code",
   "execution_count": 16,
   "metadata": {},
   "outputs": [
    {
     "data": {
      "text/plain": [
       "lcs_gen_impl4 (generic function with 1 method)"
      ]
     },
     "metadata": {},
     "output_type": "display_data"
    }
   ],
   "source": [
    "function lcs_gen_impl4(i, j)\n",
    "    es = Expr[]\n",
    "    d = Dict{Symbol,Any}()\n",
    "    r = lcs_gen_impl4!(es, d, i, j)\n",
    "\n",
    "    quote\n",
    "        $(es...)\n",
    "        return $r\n",
    "    end\n",
    "end"
   ]
  },
  {
   "cell_type": "code",
   "execution_count": 17,
   "metadata": {},
   "outputs": [
    {
     "data": {
      "text/plain": [
       "quote\n",
       "    r_1_1 = if s1[1] == s2[1]\n",
       "            1 + 0\n",
       "        else\n",
       "            max(0, 0)\n",
       "        end\n",
       "    r_1_2 = if s1[1] == s2[2]\n",
       "            1 + 0\n",
       "        else\n",
       "            max(r_1_1, 0)\n",
       "        end\n",
       "    r_2_1 = if s1[2] == s2[1]\n",
       "            1 + 0\n",
       "        else\n",
       "            max(0, r_1_1)\n",
       "        end\n",
       "    r_2_2 = if s1[2] == s2[2]\n",
       "            1 + r_1_1\n",
       "        else\n",
       "            max(r_2_1, r_1_2)\n",
       "        end\n",
       "    r_1_3 = if s1[1] == s2[3]\n",
       "            1 + 0\n",
       "        else\n",
       "            max(r_1_2, 0)\n",
       "        end\n",
       "    r_2_3 = if s1[2] == s2[3]\n",
       "            1 + r_1_2\n",
       "        else\n",
       "            max(r_2_2, r_1_3)\n",
       "        end\n",
       "    return r_2_3\n",
       "end"
      ]
     },
     "metadata": {},
     "output_type": "display_data"
    }
   ],
   "source": [
    "lcs_gen_impl4(2, 3) |> cleanup"
   ]
  },
  {
   "cell_type": "code",
   "execution_count": 18,
   "metadata": {},
   "outputs": [
    {
     "data": {
      "text/plain": [
       "lcs_gen4 (generic function with 1 method)"
      ]
     },
     "metadata": {},
     "output_type": "display_data"
    }
   ],
   "source": [
    "@generated function lcs_gen4(::Val{i}, ::Val{j}, s1, s2) where {i,j}\n",
    "    lcs_gen_impl4(i, j)\n",
    "end"
   ]
  },
  {
   "cell_type": "code",
   "execution_count": 19,
   "metadata": {},
   "outputs": [
    {
     "data": {
      "text/plain": [
       "lcs_gen4 (generic function with 2 methods)"
      ]
     },
     "metadata": {},
     "output_type": "display_data"
    }
   ],
   "source": [
    "function lcs_gen4(s1, s2)\n",
    "    lcs_gen4(Val(length(s1)), Val(length(s2)), s1, s2)\n",
    "end"
   ]
  },
  {
   "cell_type": "code",
   "execution_count": 20,
   "metadata": {},
   "outputs": [
    {
     "data": {
      "text/plain": [
       "\u001b[32m\u001b[1mTest Passed\u001b[22m\u001b[39m"
      ]
     },
     "metadata": {},
     "output_type": "display_data"
    }
   ],
   "source": [
    "@test lcs_gen4(\"ABC\", \"ACD\") == 2\n",
    "# The longest common subsequence is “GTAB”.\n",
    "@test lcs_gen4(\"AGGTAB\", \"GXTXAYB\") == 4\n",
    "@test lcs_gen4(\"ABC\", \"CBA\") == 1"
   ]
  },
  {
   "cell_type": "markdown",
   "metadata": {},
   "source": [
    "## Упрощение выражений через переписывание (Metatheory.jl)"
   ]
  },
  {
   "cell_type": "code",
   "execution_count": 21,
   "metadata": {},
   "outputs": [],
   "source": [
    "using Metatheory, Metatheory.Rewriters"
   ]
  },
  {
   "cell_type": "code",
   "execution_count": 22,
   "metadata": {},
   "outputs": [],
   "source": [
    "opt_rules = @theory c c1 c2 x y begin\n",
    "\n",
    "    x::Int64 + y::Int64 => x + y\n",
    "\n",
    "    max(0, y) --> y\n",
    "    max(x, 0) --> x\n",
    "\n",
    "end;"
   ]
  },
  {
   "cell_type": "code",
   "execution_count": 23,
   "metadata": {},
   "outputs": [
    {
     "data": {
      "text/plain": [
       "opt_expr (generic function with 1 method)"
      ]
     },
     "metadata": {},
     "output_type": "display_data"
    }
   ],
   "source": [
    "strategy = (#= Fixpoint ∘ =# Postwalk ∘ Chain)\n",
    "opt_expr(e) = strategy(opt_rules)(e)"
   ]
  },
  {
   "cell_type": "code",
   "execution_count": 24,
   "metadata": {},
   "outputs": [
    {
     "data": {
      "text/plain": [
       "\u001b[32m\u001b[1mTest Passed\u001b[22m\u001b[39m"
      ]
     },
     "metadata": {},
     "output_type": "display_data"
    }
   ],
   "source": [
    "@test opt_expr(:(2 + 3)) == 5\n",
    "@test opt_expr(:(max(10, 0))) == 10\n",
    "@test opt_expr(:(max(0, 20))) == 20\n",
    "@test opt_expr(:(true ? 1 + 2 : 3 + 4)) == :(true ? 3 : 7)"
   ]
  },
  {
   "cell_type": "code",
   "execution_count": 25,
   "metadata": {},
   "outputs": [
    {
     "data": {
      "text/plain": [
       "ass_o! (generic function with 1 method)"
      ]
     },
     "metadata": {},
     "output_type": "display_data"
    }
   ],
   "source": [
    "function ass_o!(es, d, s::Symbol, e)\n",
    "    ass!(es, d, s, opt_expr(e))\n",
    "end"
   ]
  },
  {
   "cell_type": "code",
   "execution_count": 26,
   "metadata": {},
   "outputs": [
    {
     "data": {
      "text/plain": [
       "lcs_gen_impl5! (generic function with 1 method)"
      ]
     },
     "metadata": {},
     "output_type": "display_data"
    }
   ],
   "source": [
    "function lcs_gen_impl5!(es, d, i, j)\n",
    "    r = Symbol(\"r_\", i, \"_\", j)\n",
    "\n",
    "    if haskey(d, r)\n",
    "        return d[r]\n",
    "    end\n",
    "\n",
    "    if (i == 0 || j == 0)\n",
    "        ass_o!(es, d, r, 0)\n",
    "    else\n",
    "        r0 = lcs_gen_impl5!(es, d, i - 1, j - 1)\n",
    "        r1 = lcs_gen_impl5!(es, d, i, j - 1)\n",
    "        r2 = lcs_gen_impl5!(es, d, i - 1, j)\n",
    "        ass_o!(es, d, r, :(\n",
    "            s1[$i] == s2[$j] ? 1 + $r0 : max($r1, $r2)\n",
    "        ))\n",
    "    end\n",
    "\n",
    "    return d[r]\n",
    "end"
   ]
  },
  {
   "cell_type": "code",
   "execution_count": 27,
   "metadata": {},
   "outputs": [
    {
     "data": {
      "text/plain": [
       "lcs_gen_impl5 (generic function with 1 method)"
      ]
     },
     "metadata": {},
     "output_type": "display_data"
    }
   ],
   "source": [
    "function lcs_gen_impl5(i, j)\n",
    "    es = Expr[]\n",
    "    d = Dict{Symbol,Any}()\n",
    "    r = lcs_gen_impl5!(es, d, i, j)\n",
    "\n",
    "    quote\n",
    "        $(es...)\n",
    "        return $r\n",
    "    end\n",
    "end"
   ]
  },
  {
   "cell_type": "code",
   "execution_count": 28,
   "metadata": {},
   "outputs": [
    {
     "data": {
      "text/plain": [
       "quote\n",
       "    r_1_1 = if s1[1] == s2[1]\n",
       "            1\n",
       "        else\n",
       "            0\n",
       "        end\n",
       "    r_1_2 = if s1[1] == s2[2]\n",
       "            1\n",
       "        else\n",
       "            r_1_1\n",
       "        end\n",
       "    r_2_1 = if s1[2] == s2[1]\n",
       "            1\n",
       "        else\n",
       "            r_1_1\n",
       "        end\n",
       "    r_2_2 = if s1[2] == s2[2]\n",
       "            1 + r_1_1\n",
       "        else\n",
       "            max(r_2_1, r_1_2)\n",
       "        end\n",
       "    r_1_3 = if s1[1] == s2[3]\n",
       "            1\n",
       "        else\n",
       "            r_1_2\n",
       "        end\n",
       "    r_2_3 = if s1[2] == s2[3]\n",
       "            1 + r_1_2\n",
       "        else\n",
       "            max(r_2_2, r_1_3)\n",
       "        end\n",
       "    return r_2_3\n",
       "end"
      ]
     },
     "metadata": {},
     "output_type": "display_data"
    }
   ],
   "source": [
    "lcs_gen_impl5(2, 3) |> cleanup"
   ]
  },
  {
   "cell_type": "code",
   "execution_count": 29,
   "metadata": {},
   "outputs": [
    {
     "data": {
      "text/plain": [
       "lcs_gen5 (generic function with 1 method)"
      ]
     },
     "metadata": {},
     "output_type": "display_data"
    }
   ],
   "source": [
    "@generated function lcs_gen5(::Val{i}, ::Val{j}, s1, s2) where {i,j}\n",
    "    lcs_gen_impl5(i, j)\n",
    "end"
   ]
  },
  {
   "cell_type": "code",
   "execution_count": 30,
   "metadata": {},
   "outputs": [
    {
     "data": {
      "text/plain": [
       "lcs_gen5 (generic function with 2 methods)"
      ]
     },
     "metadata": {},
     "output_type": "display_data"
    }
   ],
   "source": [
    "function lcs_gen5(s1, s2)\n",
    "    lcs_gen5(Val(length(s1)), Val(length(s2)), s1, s2)\n",
    "end"
   ]
  },
  {
   "cell_type": "code",
   "execution_count": 31,
   "metadata": {},
   "outputs": [
    {
     "data": {
      "text/plain": [
       "\u001b[32m\u001b[1mTest Passed\u001b[22m\u001b[39m"
      ]
     },
     "metadata": {},
     "output_type": "display_data"
    }
   ],
   "source": [
    "@test lcs_gen5(\"ABC\", \"ACD\") == 2\n",
    "# # The longest common subsequence is “GTAB”.\n",
    "@test lcs_gen5(\"AGGTAB\", \"GXTXAYB\") == 4\n",
    "@test lcs_gen5(\"ABC\", \"CBA\") == 1"
   ]
  }
 ],
 "metadata": {
  "kernelspec": {
   "display_name": "Julia 1.10.5",
   "language": "julia",
   "name": "julia-1.10"
  },
  "language_info": {
   "file_extension": ".jl",
   "mimetype": "application/julia",
   "name": "julia",
   "version": "1.10.5"
  }
 },
 "nbformat": 4,
 "nbformat_minor": 2
}
