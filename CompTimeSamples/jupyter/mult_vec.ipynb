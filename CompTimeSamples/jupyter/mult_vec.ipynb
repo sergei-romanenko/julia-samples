{
 "cells": [
  {
   "cell_type": "code",
   "execution_count": 1,
   "metadata": {},
   "outputs": [],
   "source": [
    "using CompTime, InteractiveUtils"
   ]
  },
  {
   "cell_type": "code",
   "execution_count": 2,
   "metadata": {},
   "outputs": [
    {
     "data": {
      "text/plain": [
       "mult_vec (generic function with 1 method)"
      ]
     },
     "metadata": {},
     "output_type": "display_data"
    }
   ],
   "source": [
    "function mult_vec(v::AbstractVector{T}) where {T}\n",
    "    l = length(v)\n",
    "    r = one(T)\n",
    "    for i in 1:l\n",
    "        r = r * v[i]\n",
    "    end\n",
    "    return r\n",
    "end"
   ]
  },
  {
   "cell_type": "code",
   "execution_count": 3,
   "metadata": {},
   "outputs": [
    {
     "data": {
      "text/plain": [
       "\"abc\""
      ]
     },
     "metadata": {},
     "output_type": "display_data"
    }
   ],
   "source": [
    "mult_vec([\"a\", \"b\", \"c\"])"
   ]
  },
  {
   "cell_type": "code",
   "execution_count": 4,
   "metadata": {},
   "outputs": [
    {
     "data": {
      "text/plain": [
       "runtime (generic function with 1 method)"
      ]
     },
     "metadata": {},
     "output_type": "display_data"
    }
   ],
   "source": [
    "@ct_enable function mult_vec_ct(v::AbstractVector{T}, @ct(l)) where {T}\n",
    "    r = one(T)\n",
    "    @ct_ctrl for i in 1:l\n",
    "        r = r * v[@ct(i)]\n",
    "    end\n",
    "\n",
    "    return r\n",
    "end"
   ]
  },
  {
   "cell_type": "code",
   "execution_count": 5,
   "metadata": {},
   "outputs": [
    {
     "data": {
      "text/plain": [
       "\"abc\""
      ]
     },
     "metadata": {},
     "output_type": "display_data"
    }
   ],
   "source": [
    "mult_vec_ct([\"a\", \"b\", \"c\"], Val{3})"
   ]
  },
  {
   "cell_type": "code",
   "execution_count": 6,
   "metadata": {},
   "outputs": [
    {
     "data": {
      "text/plain": [
       "mult_vec_ct (generic function with 2 methods)"
      ]
     },
     "metadata": {},
     "output_type": "display_data"
    }
   ],
   "source": [
    "mult_vec_ct(v::AbstractVector{T}) where {T} = mult_vec_ct(v, Val{length(v)})"
   ]
  },
  {
   "cell_type": "code",
   "execution_count": 7,
   "metadata": {},
   "outputs": [
    {
     "data": {
      "text/plain": [
       "\"abc\""
      ]
     },
     "metadata": {},
     "output_type": "display_data"
    }
   ],
   "source": [
    "mult_vec_ct([\"a\", \"b\", \"c\"])"
   ]
  },
  {
   "cell_type": "code",
   "execution_count": 8,
   "metadata": {},
   "outputs": [
    {
     "data": {
      "text/plain": [
       "CodeInfo(\n",
       "\u001b[90m1 ─\u001b[39m %1 = Base.arrayref(true, v, 1)\u001b[36m::Int64\u001b[39m\n",
       "\u001b[90m│  \u001b[39m %2 = Base.mul_int(1, %1)\u001b[36m::Int64\u001b[39m\n",
       "\u001b[90m│  \u001b[39m %3 = Base.arrayref(true, v, 2)\u001b[36m::Int64\u001b[39m\n",
       "\u001b[90m│  \u001b[39m %4 = Base.mul_int(%2, %3)\u001b[36m::Int64\u001b[39m\n",
       "\u001b[90m│  \u001b[39m %5 = Base.arrayref(true, v, 3)\u001b[36m::Int64\u001b[39m\n",
       "\u001b[90m│  \u001b[39m %6 = Base.mul_int(%4, %5)\u001b[36m::Int64\u001b[39m\n",
       "\u001b[90m└──\u001b[39m      return %6\n",
       ") => Int64"
      ]
     },
     "metadata": {},
     "output_type": "display_data"
    }
   ],
   "source": [
    "@code_typed mult_vec_ct([3, 4, 5], Val{3})"
   ]
  },
  {
   "cell_type": "code",
   "execution_count": 9,
   "metadata": {},
   "outputs": [
    {
     "data": {
      "text/plain": [
       "quote\n",
       "    \u001b[90m#= /home/roman/devel/Julia/julia-samples/CompTimeSamples/jupyter/mult_vec.ipynb:1 =#\u001b[39m\n",
       "    \u001b[90m#= /home/roman/devel/Julia/julia-samples/CompTimeSamples/jupyter/mult_vec.ipynb:2 =#\u001b[39m\n",
       "    r = one(T)\n",
       "    \u001b[90m#= /home/roman/devel/Julia/julia-samples/CompTimeSamples/jupyter/mult_vec.ipynb:3 =#\u001b[39m\n",
       "    begin\n",
       "        begin\n",
       "            \u001b[90m#= /home/roman/devel/Julia/julia-samples/CompTimeSamples/jupyter/mult_vec.ipynb:4 =#\u001b[39m\n",
       "            r = r * v[1]\n",
       "            \u001b[90m#= /home/roman/devel/Julia/julia-samples/CompTimeSamples/jupyter/mult_vec.ipynb:5 =#\u001b[39m\n",
       "        end\n",
       "        begin\n",
       "            \u001b[90m#= /home/roman/devel/Julia/julia-samples/CompTimeSamples/jupyter/mult_vec.ipynb:4 =#\u001b[39m\n",
       "            r = r * v[2]\n",
       "            \u001b[90m#= /home/roman/devel/Julia/julia-samples/CompTimeSamples/jupyter/mult_vec.ipynb:5 =#\u001b[39m\n",
       "        end\n",
       "        begin\n",
       "            \u001b[90m#= /home/roman/devel/Julia/julia-samples/CompTimeSamples/jupyter/mult_vec.ipynb:4 =#\u001b[39m\n",
       "            r = r * v[3]\n",
       "            \u001b[90m#= /home/roman/devel/Julia/julia-samples/CompTimeSamples/jupyter/mult_vec.ipynb:5 =#\u001b[39m\n",
       "        end\n",
       "    end\n",
       "    \u001b[90m#= /home/roman/devel/Julia/julia-samples/CompTimeSamples/jupyter/mult_vec.ipynb:7 =#\u001b[39m\n",
       "    return r\n",
       "end"
      ]
     },
     "metadata": {},
     "output_type": "display_data"
    }
   ],
   "source": [
    "debug(mult_vec_ct, [3, 4, 5], Val{3})"
   ]
  }
 ],
 "metadata": {
  "kernelspec": {
   "display_name": "Julia 1.9.3",
   "language": "julia",
   "name": "julia-1.9"
  },
  "language_info": {
   "file_extension": ".jl",
   "mimetype": "application/julia",
   "name": "julia",
   "version": "1.9.3"
  }
 },
 "nbformat": 4,
 "nbformat_minor": 2
}
