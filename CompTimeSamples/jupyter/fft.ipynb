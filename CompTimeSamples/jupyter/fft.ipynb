{
 "cells": [
  {
   "cell_type": "code",
   "execution_count": 1,
   "metadata": {},
   "outputs": [],
   "source": [
    "# function fft(dir, l)\n",
    "#     n = length(l)\n",
    "#     @assert ispow2(n)\n",
    "#     if (isone(n))\n",
    "#         l\n",
    "#     else\n",
    "#         l1 = [v[i] for i in 1 : 2 : n ]\n",
    "#         l2 = [v[i] for i in 2 : 2 : n ]\n",
    "#         y0 = fft(dir, l1)\n",
    "#         y1 = fft(dir, l2)\n",
    "#         merge(dir, y0, y1)\n",
    "#     end\n",
    "# end"
   ]
  },
  {
   "cell_type": "code",
   "execution_count": 2,
   "metadata": {},
   "outputs": [],
   "source": [
    "# w(dir, n. j) = ?"
   ]
  },
  {
   "cell_type": "code",
   "execution_count": 3,
   "metadata": {},
   "outputs": [],
   "source": [
    "# function merge(dir, l1, l2)\n",
    "#     n1 = length(l1)\n",
    "#     n2 = length(l2)\n",
    "#     @assert n1 == n2\n",
    "#     n = n1 + n2\n",
    "#     let rec mg l1 l2 j =\n",
    "#         match (l1, l2) with\n",
    "#         (x::xs, y::ys) ->\n",
    "#             let z1 = mult (w dir n j, y) in\n",
    "#             let zx = add (x, z1) in\n",
    "#             let zy = sub (x, z1) in\n",
    "#             let (a,b) = (mg xs ys (j+1)) in\n",
    "#             (zx::a, zy::b)\n",
    "#         | _ -> ([], []) in\n",
    "#     let (a,b) = mg l1 l2 0\n",
    "#          in (a @ b)\n",
    "# end"
   ]
  },
  {
   "cell_type": "code",
   "execution_count": 4,
   "metadata": {},
   "outputs": [
    {
     "data": {
      "text/plain": [
       "naive_dft (generic function with 1 method)"
      ]
     },
     "metadata": {},
     "output_type": "display_data"
    }
   ],
   "source": [
    "function naive_dft(x)\n",
    "    N = length(x)\n",
    "    k = reshape(0:(N-1), 1, :)\n",
    "    n = 0:(N-1)\n",
    "    M = @. exp(-2 * im * π * k * n / N)\n",
    "    M * x\n",
    "end"
   ]
  },
  {
   "cell_type": "code",
   "execution_count": 5,
   "metadata": {},
   "outputs": [],
   "source": [
    "using FFTW"
   ]
  },
  {
   "cell_type": "code",
   "execution_count": 6,
   "metadata": {},
   "outputs": [
    {
     "data": {
      "text/plain": [
       "true"
      ]
     },
     "metadata": {},
     "output_type": "display_data"
    }
   ],
   "source": [
    "a = rand(1024)\n",
    "b = FFTW.fft(a)\n",
    "c = naive_dft(a)\n",
    "b ≈ c"
   ]
  },
  {
   "cell_type": "code",
   "execution_count": 7,
   "metadata": {},
   "outputs": [
    {
     "data": {
      "text/plain": [
       "naive_dft2 (generic function with 1 method)"
      ]
     },
     "metadata": {},
     "output_type": "display_data"
    }
   ],
   "source": [
    "function naive_dft2(x)\n",
    "    @show N = length(x)\n",
    "    @show k = reshape(0:(N-1), 1, :)\n",
    "    n = 0:(N-1)\n",
    "    M = @. exp(-2 * im * π * k * n / N)\n",
    "    M * x\n",
    "end"
   ]
  },
  {
   "cell_type": "code",
   "execution_count": 8,
   "metadata": {},
   "outputs": [
    {
     "name": "stdout",
     "output_type": "stream",
     "text": [
      "N = length(x) = 4\n",
      "k = reshape(0:N - 1, 1, :) = [0 1 2 3]\n"
     ]
    },
    {
     "data": {
      "text/plain": [
       "4-element Vector{ComplexF64}:\n",
       "               100.0 + 0.0im\n",
       " -20.000000000000007 + 19.999999999999996im\n",
       "               -20.0 - 9.797174393178823e-15im\n",
       " -19.999999999999982 - 20.00000000000001im"
      ]
     },
     "metadata": {},
     "output_type": "display_data"
    }
   ],
   "source": [
    "naive_dft2([10, 20, 30, 40])"
   ]
  },
  {
   "cell_type": "code",
   "execution_count": 9,
   "metadata": {},
   "outputs": [
    {
     "data": {
      "text/plain": [
       "dft_rec (generic function with 1 method)"
      ]
     },
     "metadata": {},
     "output_type": "display_data"
    }
   ],
   "source": [
    "function dft_rec(a)\n",
    "    n = length(a)\n",
    "    @assert ispow2(n)\n",
    "    isone(n) && return a\n",
    "    n2 = n ÷ 2\n",
    "    wn = exp(-2 * pi * im / n)\n",
    "\n",
    "    a1 = [a[k] for k in 1:2:n]\n",
    "    a2 = [a[k] for k in 2:2:n]\n",
    "    y1 = dft_rec(a1)\n",
    "    y2 = dft_rec(a2)\n",
    "\n",
    "    wnk = [wn^(k - 1) for k in 1:n2]\n",
    "    z1 = [y1[k] + wnk[k] * y2[k] for k in 1:n2]\n",
    "    z2 = [y1[k] - wnk[k] * y2[k] for k in 1:n2]\n",
    "    return vcat(z1, z2)\n",
    "end"
   ]
  },
  {
   "cell_type": "code",
   "execution_count": 14,
   "metadata": {},
   "outputs": [
    {
     "data": {
      "text/plain": [
       "4-element Vector{ComplexF64}:\n",
       " 100.0 + 0.0im\n",
       " -20.0 + 20.0im\n",
       " -20.0 + 0.0im\n",
       " -20.0 - 20.0im"
      ]
     },
     "metadata": {},
     "output_type": "display_data"
    }
   ],
   "source": [
    "dft_rec([10, 20, 30, 40])"
   ]
  },
  {
   "cell_type": "code",
   "execution_count": 15,
   "metadata": {},
   "outputs": [
    {
     "data": {
      "text/plain": [
       "true"
      ]
     },
     "metadata": {},
     "output_type": "display_data"
    }
   ],
   "source": [
    "a = rand(1024)\n",
    "b = FFTW.fft(a)\n",
    "c = dft_rec(a)\n",
    "b ≈ c"
   ]
  }
 ],
 "metadata": {
  "kernelspec": {
   "display_name": "Julia 1.10.4",
   "language": "julia",
   "name": "julia-1.10"
  },
  "language_info": {
   "file_extension": ".jl",
   "mimetype": "application/julia",
   "name": "julia",
   "version": "1.10.4"
  }
 },
 "nbformat": 4,
 "nbformat_minor": 2
}
