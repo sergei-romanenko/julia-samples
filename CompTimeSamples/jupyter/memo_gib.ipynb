{
 "cells": [
  {
   "cell_type": "markdown",
   "metadata": {},
   "source": [
    "# Специализция вычислений функций Фибоначчи"
   ]
  },
  {
   "cell_type": "markdown",
   "metadata": {},
   "source": [
    "## Числи Фибоначчи и числа \"Гибоначчи\""
   ]
  },
  {
   "cell_type": "code",
   "execution_count": 1,
   "metadata": {},
   "outputs": [
    {
     "data": {
      "text/plain": [
       "fib (generic function with 1 method)"
      ]
     },
     "metadata": {},
     "output_type": "display_data"
    }
   ],
   "source": [
    "fib(n) =\n",
    "    if n == 0\n",
    "        0\n",
    "    elseif n == 1\n",
    "        1\n",
    "    else\n",
    "        fib(n - 2) + fib(n - 1)\n",
    "    end"
   ]
  },
  {
   "cell_type": "code",
   "execution_count": 2,
   "metadata": {},
   "outputs": [
    {
     "data": {
      "text/plain": [
       "(0, 1, 1, 2, 3, 5, 8, 13, 21, 34, 55)"
      ]
     },
     "metadata": {},
     "output_type": "display_data"
    }
   ],
   "source": [
    "Tuple(fib(n) for n in 0:10)"
   ]
  },
  {
   "cell_type": "markdown",
   "metadata": {},
   "source": [
    "Проблема в том, что у `fib` - только один аргумент. А если мы хотим специализировать функцию по значениям некоторых аргументов, то этих аргументов должно быть ≥ 2.\n",
    "\n",
    "Посему, переходим к рассмотрению чисел \"Гибоначчи\"."
   ]
  },
  {
   "cell_type": "code",
   "execution_count": 3,
   "metadata": {},
   "outputs": [
    {
     "data": {
      "text/plain": [
       "gib (generic function with 1 method)"
      ]
     },
     "metadata": {},
     "output_type": "display_data"
    }
   ],
   "source": [
    "gib(n, x, y) =\n",
    "    if n == 0\n",
    "        x\n",
    "    elseif n == 1\n",
    "        y\n",
    "    else\n",
    "        gib(n - 2, x, y) + gib(n - 1, x, y)\n",
    "    end"
   ]
  },
  {
   "cell_type": "code",
   "execution_count": 4,
   "metadata": {},
   "outputs": [
    {
     "data": {
      "text/plain": [
       "(55, 233)"
      ]
     },
     "metadata": {},
     "output_type": "display_data"
    }
   ],
   "source": [
    "gib(10, 0, 1), gib(10, 2, 3)"
   ]
  },
  {
   "cell_type": "markdown",
   "metadata": {},
   "source": [
    "## Мемоизация"
   ]
  },
  {
   "cell_type": "code",
   "execution_count": 5,
   "metadata": {},
   "outputs": [
    {
     "data": {
      "text/plain": [
       "gib_memo (generic function with 1 method)"
      ]
     },
     "metadata": {},
     "output_type": "display_data"
    }
   ],
   "source": [
    "function gib_memo!(d, n, x, y)\n",
    "    if haskey(d, (n, x, y))\n",
    "        return d[(n, x, y)]\n",
    "    end\n",
    "\n",
    "    r =\n",
    "        if n == 0\n",
    "            x\n",
    "        elseif n == 1\n",
    "            y\n",
    "        else\n",
    "            gib_memo!(d, n - 2, x, y) + gib_memo!(d, n - 1, x, y)\n",
    "        end\n",
    "\n",
    "    @show n\n",
    "    d[(n, x, y)] = r\n",
    "    return r\n",
    "end\n",
    "\n",
    "function gib_memo(n, x, y)\n",
    "    d = Dict{NTuple{3,Int64},Int64}()\n",
    "    gib_memo!(d, n, x, y)\n",
    "end"
   ]
  },
  {
   "cell_type": "code",
   "execution_count": 6,
   "metadata": {},
   "outputs": [
    {
     "name": "stdout",
     "output_type": "stream",
     "text": [
      "n = 0\n",
      "n = 1\n",
      "n = 2\n",
      "n = 3\n",
      "n = 4\n",
      "n = 5\n",
      "n = 6\n",
      "n = 7\n",
      "n = 8\n",
      "n = 9\n",
      "n = 10\n"
     ]
    },
    {
     "data": {
      "text/plain": [
       "233"
      ]
     },
     "metadata": {},
     "output_type": "display_data"
    }
   ],
   "source": [
    "gib_memo(10, 2, 3)"
   ]
  },
  {
   "cell_type": "markdown",
   "metadata": {},
   "source": [
    "## Превращаем вычислитель в генератор\n",
    "\n",
    "Теперь ключом будет только `n`."
   ]
  },
  {
   "cell_type": "code",
   "execution_count": 7,
   "metadata": {},
   "outputs": [],
   "source": [
    "include(\"MacroUtils.jl\")\n",
    "using .MacroUtils: cleanup"
   ]
  },
  {
   "cell_type": "code",
   "execution_count": 8,
   "metadata": {},
   "outputs": [
    {
     "data": {
      "text/plain": [
       "gib_gen (generic function with 1 method)"
      ]
     },
     "metadata": {},
     "output_type": "display_data"
    }
   ],
   "source": [
    "function gib_gen!(d, es, n)\n",
    "    if haskey(d, n)\n",
    "        return d[n]\n",
    "    end\n",
    "\n",
    "    r =\n",
    "        if n == 0\n",
    "            :x\n",
    "        elseif n == 1\n",
    "            :y\n",
    "        else\n",
    "            g = Symbol(\"g_\", n)\n",
    "            push!(es, :($g = $(gib_gen!(d, es, n - 2)) + $(gib_gen!(d, es, n - 1))))\n",
    "            g\n",
    "        end\n",
    "\n",
    "    # @show n\n",
    "    d[n] = r\n",
    "    return r\n",
    "end\n",
    "\n",
    "function gib_gen(n)\n",
    "    d = Dict{Int64,Any}()\n",
    "    es = Expr[]\n",
    "    r = gib_gen!(d, es, n)\n",
    "\n",
    "    quote\n",
    "        $(es...)\n",
    "        return $r\n",
    "    end\n",
    "end"
   ]
  },
  {
   "cell_type": "code",
   "execution_count": 9,
   "metadata": {},
   "outputs": [
    {
     "data": {
      "text/plain": [
       ":(return x)"
      ]
     },
     "metadata": {},
     "output_type": "display_data"
    }
   ],
   "source": [
    "gib_gen(0) |> cleanup"
   ]
  },
  {
   "cell_type": "code",
   "execution_count": 10,
   "metadata": {},
   "outputs": [
    {
     "data": {
      "text/plain": [
       ":(return y)"
      ]
     },
     "metadata": {},
     "output_type": "display_data"
    }
   ],
   "source": [
    "gib_gen(1) |> cleanup"
   ]
  },
  {
   "cell_type": "code",
   "execution_count": 11,
   "metadata": {},
   "outputs": [
    {
     "data": {
      "text/plain": [
       "quote\n",
       "    g_2 = x + y\n",
       "    g_3 = y + g_2\n",
       "    return g_3\n",
       "end"
      ]
     },
     "metadata": {},
     "output_type": "display_data"
    }
   ],
   "source": [
    "gib_gen(3) |> cleanup"
   ]
  },
  {
   "cell_type": "code",
   "execution_count": 12,
   "metadata": {},
   "outputs": [
    {
     "data": {
      "text/plain": [
       "quote\n",
       "    g_2 = x + y\n",
       "    g_3 = y + g_2\n",
       "    g_4 = g_2 + g_3\n",
       "    g_5 = g_3 + g_4\n",
       "    g_6 = g_4 + g_5\n",
       "    g_7 = g_5 + g_6\n",
       "    g_8 = g_6 + g_7\n",
       "    g_9 = g_7 + g_8\n",
       "    g_10 = g_8 + g_9\n",
       "    return g_10\n",
       "end"
      ]
     },
     "metadata": {},
     "output_type": "display_data"
    }
   ],
   "source": [
    "gib_gen(10) |> cleanup"
   ]
  },
  {
   "cell_type": "code",
   "execution_count": 13,
   "metadata": {},
   "outputs": [
    {
     "data": {
      "text/plain": [
       "gib_gen (generic function with 2 methods)"
      ]
     },
     "metadata": {},
     "output_type": "display_data"
    }
   ],
   "source": [
    "@generated function gib_gen(::Val{n}, x, y) where {n}\n",
    "    gib_gen(n)\n",
    "end"
   ]
  },
  {
   "cell_type": "code",
   "execution_count": 14,
   "metadata": {},
   "outputs": [
    {
     "data": {
      "text/plain": [
       "233"
      ]
     },
     "metadata": {},
     "output_type": "display_data"
    }
   ],
   "source": [
    "gib_gen(Val(10), 2, 3)"
   ]
  },
  {
   "cell_type": "markdown",
   "metadata": {},
   "source": [
    "## Использование комбинаторов\n",
    "\n",
    "Потенциальная польза от этого может быть в том, что одно и то же определение функции может исполняться как с мемоизацией, так и без оной.\n",
    "\n",
    "Или один и тот же механизм мемоизации может использоваться для разных функций."
   ]
  },
  {
   "cell_type": "code",
   "execution_count": 15,
   "metadata": {},
   "outputs": [
    {
     "data": {
      "text/plain": [
       "fib_step (generic function with 1 method)"
      ]
     },
     "metadata": {},
     "output_type": "display_data"
    }
   ],
   "source": [
    "fib_step(self, n) =\n",
    "    if n == 0\n",
    "        0\n",
    "    elseif n == 1\n",
    "        1\n",
    "    else\n",
    "        self(n - 2) + self(n - 1)\n",
    "    end"
   ]
  },
  {
   "cell_type": "code",
   "execution_count": 16,
   "metadata": {},
   "outputs": [
    {
     "data": {
      "text/plain": [
       "fix (generic function with 1 method)"
      ]
     },
     "metadata": {},
     "output_type": "display_data"
    }
   ],
   "source": [
    "fix(f, x) = f(x1 -> fix(f, x1), x)"
   ]
  },
  {
   "cell_type": "code",
   "execution_count": 17,
   "metadata": {},
   "outputs": [
    {
     "data": {
      "text/plain": [
       "55"
      ]
     },
     "metadata": {},
     "output_type": "display_data"
    }
   ],
   "source": [
    "fix(fib_step, 10)"
   ]
  },
  {
   "cell_type": "markdown",
   "metadata": {},
   "source": [
    "А зачем? А затем, что можно добавить а `fix` дополнительные действия, которые будут совершаться перед вызовом функции и после оного."
   ]
  },
  {
   "cell_type": "code",
   "execution_count": 18,
   "metadata": {},
   "outputs": [
    {
     "data": {
      "text/plain": [
       "fix_trace (generic function with 1 method)"
      ]
     },
     "metadata": {},
     "output_type": "display_data"
    }
   ],
   "source": [
    "function fix_trace(f, x)\n",
    "    println(\"Calling \", string(f), \"(\", x, \")\")\n",
    "    r = f(x1 -> fix_trace(f, x1), x)\n",
    "    println(\"Returning \", string(f), \"(\", x, \") = \", r)\n",
    "    return r\n",
    "end"
   ]
  },
  {
   "cell_type": "code",
   "execution_count": 19,
   "metadata": {},
   "outputs": [
    {
     "name": "stdout",
     "output_type": "stream",
     "text": [
      "Calling fib_step(3)\n",
      "Calling fib_step(1)\n",
      "Returning fib_step(1) = 1\n",
      "Calling fib_step(2)\n",
      "Calling fib_step(0)\n",
      "Returning fib_step(0) = 0\n",
      "Calling fib_step(1)\n",
      "Returning fib_step(1) = 1\n",
      "Returning fib_step(2) = 1\n",
      "Returning fib_step(3) = 2\n"
     ]
    },
    {
     "data": {
      "text/plain": [
       "2"
      ]
     },
     "metadata": {},
     "output_type": "display_data"
    }
   ],
   "source": [
    "fix_trace(fib_step, 3)"
   ]
  },
  {
   "cell_type": "markdown",
   "metadata": {},
   "source": [
    "В частности, не меняя текст `fib_step`, можно подсунуть мемоизацию."
   ]
  },
  {
   "cell_type": "code",
   "execution_count": 20,
   "metadata": {},
   "outputs": [
    {
     "data": {
      "text/plain": [
       "fix_memo (generic function with 2 methods)"
      ]
     },
     "metadata": {},
     "output_type": "display_data"
    }
   ],
   "source": [
    "function fix_memo(d, f, x)\n",
    "    if haskey(d, x)\n",
    "        d[x]\n",
    "    else\n",
    "        r = f(x1 -> fix_memo(d, f, x1), x)\n",
    "        d[x] = r\n",
    "        r\n",
    "    end\n",
    "end\n",
    "\n",
    "function fix_memo(f, x)\n",
    "    d = Dict()\n",
    "    fix_memo(d, f, x)\n",
    "end"
   ]
  },
  {
   "cell_type": "code",
   "execution_count": 21,
   "metadata": {},
   "outputs": [
    {
     "data": {
      "text/plain": [
       "55"
      ]
     },
     "metadata": {},
     "output_type": "display_data"
    }
   ],
   "source": [
    "fix_memo(fib_step, 10)"
   ]
  },
  {
   "cell_type": "markdown",
   "metadata": {},
   "source": [
    "## А можно ли определить `fix_trace` и `fix_memo` через стандартный `fix`?\n",
    "\n",
    "(Непонятно, есть ли в этом практический смысл? Но, с точки зрения науки, - любопытно...)"
   ]
  },
  {
   "cell_type": "code",
   "execution_count": 22,
   "metadata": {},
   "outputs": [
    {
     "data": {
      "text/plain": [
       "trace_step (generic function with 1 method)"
      ]
     },
     "metadata": {},
     "output_type": "display_data"
    }
   ],
   "source": [
    "function trace_step(self, fx)\n",
    "    f = fx[1]\n",
    "    x = fx[2]\n",
    "    println(\"Calling \", string(f), \"(\", x, \")\")\n",
    "    r = f(x1 -> self((f, x1)), x)\n",
    "    println(\"Returning \", string(f), \"(\", x, \") = \", r)\n",
    "    return r\n",
    "end"
   ]
  },
  {
   "cell_type": "code",
   "execution_count": 23,
   "metadata": {},
   "outputs": [
    {
     "name": "stdout",
     "output_type": "stream",
     "text": [
      "Calling fib_step(3)\n",
      "Calling fib_step(1)\n",
      "Returning fib_step(1) = 1\n",
      "Calling fib_step(2)\n",
      "Calling fib_step(0)\n",
      "Returning fib_step(0) = 0\n",
      "Calling fib_step(1)\n",
      "Returning fib_step(1) = 1\n",
      "Returning fib_step(2) = 1\n",
      "Returning fib_step(3) = 2\n"
     ]
    },
    {
     "data": {
      "text/plain": [
       "2"
      ]
     },
     "metadata": {},
     "output_type": "display_data"
    }
   ],
   "source": [
    "fix(trace_step, (fib_step, 3))"
   ]
  },
  {
   "cell_type": "markdown",
   "metadata": {},
   "source": [
    "И `fix_memo` можно переопределить через `fix`."
   ]
  },
  {
   "cell_type": "code",
   "execution_count": 24,
   "metadata": {},
   "outputs": [
    {
     "data": {
      "text/plain": [
       "mk_memo_step (generic function with 1 method)"
      ]
     },
     "metadata": {},
     "output_type": "display_data"
    }
   ],
   "source": [
    "function mk_memo_step()\n",
    "    d = Dict()\n",
    "\n",
    "    (self, fx) -> begin\n",
    "        f = fx[1]\n",
    "        x = fx[2]\n",
    "\n",
    "        if haskey(d, x)\n",
    "            d[x]\n",
    "        else\n",
    "            r = f(x1 -> self((f, x1)), x)\n",
    "            d[x] = r\n",
    "            r\n",
    "        end\n",
    "    end\n",
    "end"
   ]
  },
  {
   "cell_type": "code",
   "execution_count": 25,
   "metadata": {},
   "outputs": [
    {
     "data": {
      "text/plain": [
       "55"
      ]
     },
     "metadata": {},
     "output_type": "display_data"
    }
   ],
   "source": [
    "fix(mk_memo_step(), (fib_step, 10))"
   ]
  },
  {
   "cell_type": "code",
   "execution_count": 26,
   "metadata": {},
   "outputs": [
    {
     "data": {
      "text/plain": [
       "fix2 (generic function with 1 method)"
      ]
     },
     "metadata": {},
     "output_type": "display_data"
    }
   ],
   "source": [
    "fix2(g, f) = x -> f(x1 -> g(x2 -> fix2(g, f)(x2), x1), x)"
   ]
  },
  {
   "cell_type": "code",
   "execution_count": 27,
   "metadata": {},
   "outputs": [
    {
     "name": "stdout",
     "output_type": "stream",
     "text": [
      "Calling fib_step(3)\n",
      "Calling fib_step(0)\n",
      "Returning fib_step(0) = 0\n",
      "Calling fib_step(1)\n",
      "Returning fib_step(1) = 1\n",
      "Returning fib_step(3) = 2\n"
     ]
    },
    {
     "data": {
      "text/plain": [
       "2"
      ]
     },
     "metadata": {},
     "output_type": "display_data"
    }
   ],
   "source": [
    "fix2(mk_memo_step(), trace_step)((fib_step, 3))"
   ]
  }
 ],
 "metadata": {
  "kernelspec": {
   "display_name": "Julia 1.10.5",
   "language": "julia",
   "name": "julia-1.10"
  },
  "language_info": {
   "file_extension": ".jl",
   "mimetype": "application/julia",
   "name": "julia",
   "version": "1.10.5"
  }
 },
 "nbformat": 4,
 "nbformat_minor": 2
}
