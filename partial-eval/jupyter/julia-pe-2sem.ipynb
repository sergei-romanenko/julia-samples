{
 "cells": [
  {
   "cell_type": "code",
   "execution_count": 8,
   "metadata": {},
   "outputs": [
    {
     "data": {
      "text/plain": [
       "pw (generic function with 1 method)"
      ]
     },
     "metadata": {},
     "output_type": "display_data"
    }
   ],
   "source": [
    "function pw(n, x)\n",
    "  if iszero(n)\n",
    "    one(x)\n",
    "  else\n",
    "    x * pw(n-1, x)\n",
    "  end\n",
    "end"
   ]
  },
  {
   "cell_type": "code",
   "execution_count": 9,
   "metadata": {},
   "outputs": [
    {
     "data": {
      "text/plain": [
       "\"AbcAbcAbc\""
      ]
     },
     "metadata": {},
     "output_type": "display_data"
    }
   ],
   "source": [
    "pw(3, \"Abc\")"
   ]
  },
  {
   "cell_type": "code",
   "execution_count": 10,
   "metadata": {},
   "outputs": [
    {
     "data": {
      "text/plain": [
       "CodeInfo(\n",
       "\u001b[90m1 ─\u001b[39m %1  = (n === 0)\u001b[36m::Bool\u001b[39m\n",
       "\u001b[90m└──\u001b[39m       goto #3 if not %1\n",
       "\u001b[90m2 ─\u001b[39m       return 1\n",
       "\u001b[90m3 ─\u001b[39m %4  = Base.sub_int(n, 1)\u001b[36m::Int64\u001b[39m\n",
       "\u001b[90m│  \u001b[39m %5  = (%4 === 0)\u001b[36m::Bool\u001b[39m\n",
       "\u001b[90m└──\u001b[39m       goto #5 if not %5\n",
       "\u001b[90m4 ─\u001b[39m       goto #6\n",
       "\u001b[90m5 ─\u001b[39m %8  = Base.sub_int(%4, 1)\u001b[36m::Int64\u001b[39m\n",
       "\u001b[90m│  \u001b[39m %9  = invoke Main.pw(%8::Int64, _3::Int64)\u001b[36m::Int64\u001b[39m\n",
       "\u001b[90m│  \u001b[39m %10 = Base.mul_int(x, %9)\u001b[36m::Int64\u001b[39m\n",
       "\u001b[90m└──\u001b[39m       goto #6\n",
       "\u001b[90m6 ┄\u001b[39m %12 = φ (#4 => 1, #5 => %10)\u001b[36m::Int64\u001b[39m\n",
       "\u001b[90m│  \u001b[39m %13 = Base.mul_int(x, %12)\u001b[36m::Int64\u001b[39m\n",
       "\u001b[90m└──\u001b[39m       return %13\n",
       ") => Int64"
      ]
     },
     "metadata": {},
     "output_type": "display_data"
    }
   ],
   "source": [
    "@code_typed pw(3, 10)"
   ]
  },
  {
   "cell_type": "markdown",
   "metadata": {},
   "source": [
    "`pw(Val(3), 10)`  \n",
    "`MethodError: no method matching zero(::Val{3})`"
   ]
  },
  {
   "cell_type": "code",
   "execution_count": 11,
   "metadata": {},
   "outputs": [],
   "source": [
    "import Base: -"
   ]
  },
  {
   "cell_type": "code",
   "execution_count": 12,
   "metadata": {},
   "outputs": [],
   "source": [
    "Base.iszero(::Val{n}) where {n} = iszero(n)"
   ]
  },
  {
   "cell_type": "code",
   "execution_count": 13,
   "metadata": {},
   "outputs": [
    {
     "data": {
      "text/plain": [
       "false"
      ]
     },
     "metadata": {},
     "output_type": "display_data"
    }
   ],
   "source": [
    "iszero(Val(3))"
   ]
  },
  {
   "cell_type": "code",
   "execution_count": 14,
   "metadata": {},
   "outputs": [],
   "source": [
    "Base.one(::Val{n}) where {n} = one(n)"
   ]
  },
  {
   "cell_type": "code",
   "execution_count": 15,
   "metadata": {},
   "outputs": [
    {
     "data": {
      "text/plain": [
       "1"
      ]
     },
     "metadata": {},
     "output_type": "display_data"
    }
   ],
   "source": [
    "one(Val(3))"
   ]
  },
  {
   "cell_type": "code",
   "execution_count": 16,
   "metadata": {},
   "outputs": [
    {
     "data": {
      "text/plain": [
       "- (generic function with 198 methods)"
      ]
     },
     "metadata": {},
     "output_type": "display_data"
    }
   ],
   "source": [
    "-(::Val{m}, n) where {m} = Val(m - n)"
   ]
  },
  {
   "cell_type": "code",
   "execution_count": 17,
   "metadata": {},
   "outputs": [
    {
     "data": {
      "text/plain": [
       "Val{1}()"
      ]
     },
     "metadata": {},
     "output_type": "display_data"
    }
   ],
   "source": [
    "Val(3) - 2"
   ]
  },
  {
   "cell_type": "code",
   "execution_count": 18,
   "metadata": {},
   "outputs": [
    {
     "data": {
      "text/plain": [
       "Val{2}()"
      ]
     },
     "metadata": {},
     "output_type": "display_data"
    }
   ],
   "source": [
    "Val(3) - one(Val(3))"
   ]
  },
  {
   "cell_type": "code",
   "execution_count": 19,
   "metadata": {},
   "outputs": [
    {
     "data": {
      "text/plain": [
       "1000"
      ]
     },
     "metadata": {},
     "output_type": "display_data"
    }
   ],
   "source": [
    "pw(Val(3), 10)"
   ]
  },
  {
   "cell_type": "code",
   "execution_count": 20,
   "metadata": {},
   "outputs": [
    {
     "data": {
      "text/plain": [
       "CodeInfo(\n",
       "\u001b[90m1 ─\u001b[39m      goto #3 if not false\n",
       "\u001b[90m2 ─\u001b[39m      nothing\u001b[90m::Nothing\u001b[39m\n",
       "\u001b[90m3 ┄\u001b[39m %3 = Base.mul_int(x, 1)\u001b[36m::Int64\u001b[39m\n",
       "\u001b[90m│  \u001b[39m %4 = Base.mul_int(x, %3)\u001b[36m::Int64\u001b[39m\n",
       "\u001b[90m│  \u001b[39m %5 = Base.mul_int(x, %4)\u001b[36m::Int64\u001b[39m\n",
       "\u001b[90m└──\u001b[39m      return %5\n",
       ") => Int64"
      ]
     },
     "metadata": {},
     "output_type": "display_data"
    }
   ],
   "source": [
    "@code_typed pw(Val(3), 10)"
   ]
  },
  {
   "cell_type": "code",
   "execution_count": 21,
   "metadata": {},
   "outputs": [
    {
     "data": {
      "text/plain": [
       "ackermann (generic function with 1 method)"
      ]
     },
     "metadata": {},
     "output_type": "display_data"
    }
   ],
   "source": [
    "function ackermann(m, n)\n",
    "  if iszero(m)\n",
    "    n + one(n)\n",
    "  elseif iszero(n)\n",
    "    ackermann((m - one(m)), one(n))\n",
    "  else\n",
    "    ackermann((m - one(m)), ackermann(m, n - one(n)))\n",
    "  end\n",
    "end    "
   ]
  },
  {
   "cell_type": "code",
   "execution_count": 22,
   "metadata": {},
   "outputs": [
    {
     "data": {
      "text/plain": [
       "29"
      ]
     },
     "metadata": {},
     "output_type": "display_data"
    }
   ],
   "source": [
    "ackermann(3, 2)"
   ]
  },
  {
   "cell_type": "code",
   "execution_count": 23,
   "metadata": {},
   "outputs": [],
   "source": [
    "# @code_typed ackerman(3, 2)"
   ]
  },
  {
   "cell_type": "code",
   "execution_count": 24,
   "metadata": {},
   "outputs": [],
   "source": [
    "using BenchmarkTools"
   ]
  },
  {
   "cell_type": "code",
   "execution_count": 25,
   "metadata": {},
   "outputs": [
    {
     "name": "stdout",
     "output_type": "stream",
     "text": [
      "  13.965 s (0 allocations: 0 bytes)\n"
     ]
    },
    {
     "data": {
      "text/plain": [
       "65533"
      ]
     },
     "metadata": {},
     "output_type": "display_data"
    }
   ],
   "source": [
    "@btime ackermann(4, 1)"
   ]
  },
  {
   "cell_type": "code",
   "execution_count": 26,
   "metadata": {},
   "outputs": [
    {
     "name": "stdout",
     "output_type": "stream",
     "text": [
      "  2.045 s (0 allocations: 0 bytes)\n"
     ]
    },
    {
     "data": {
      "text/plain": [
       "65533"
      ]
     },
     "metadata": {},
     "output_type": "display_data"
    }
   ],
   "source": [
    "@btime ackermann(Val(4), 1)"
   ]
  }
 ],
 "metadata": {
  "kernelspec": {
   "display_name": "Julia 1.6.2",
   "language": "julia",
   "name": "julia-1.6"
  },
  "language_info": {
   "file_extension": ".jl",
   "mimetype": "application/julia",
   "name": "julia",
   "version": "1.6.2"
  }
 },
 "nbformat": 4,
 "nbformat_minor": 2
}
