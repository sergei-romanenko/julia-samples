{
 "cells": [
  {
   "cell_type": "code",
   "execution_count": 1,
   "metadata": {},
   "outputs": [],
   "source": [
    "using CompTime, InteractiveUtils"
   ]
  },
  {
   "cell_type": "code",
   "execution_count": 2,
   "metadata": {},
   "outputs": [
    {
     "data": {
      "text/plain": [
       "mult_vec (generic function with 1 method)"
      ]
     },
     "metadata": {},
     "output_type": "display_data"
    }
   ],
   "source": [
    "function mult_vec(v::AbstractVector{T}) where {T}\n",
    "    l = length(v)\n",
    "    r = one(T)\n",
    "    for i in 1:l\n",
    "        r = r * v[i]\n",
    "    end\n",
    "    return r\n",
    "end"
   ]
  },
  {
   "cell_type": "code",
   "execution_count": 3,
   "metadata": {},
   "outputs": [
    {
     "data": {
      "text/plain": [
       "\"abc\""
      ]
     },
     "metadata": {},
     "output_type": "display_data"
    }
   ],
   "source": [
    "mult_vec([\"a\", \"b\", \"c\"])"
   ]
  },
  {
   "cell_type": "code",
   "execution_count": 4,
   "metadata": {},
   "outputs": [
    {
     "data": {
      "text/plain": [
       "runtime (generic function with 1 method)"
      ]
     },
     "metadata": {},
     "output_type": "display_data"
    }
   ],
   "source": [
    "@ct_enable function mult_vec_ct(v::AbstractVector{T}, @ct(l)) where {T}\n",
    "    r = one(T)\n",
    "    @ct_ctrl for i in 1:l\n",
    "        r = r * v[@ct(i)]\n",
    "    end\n",
    "    return r\n",
    "end"
   ]
  },
  {
   "cell_type": "code",
   "execution_count": 5,
   "metadata": {},
   "outputs": [
    {
     "data": {
      "text/plain": [
       "\"abc\""
      ]
     },
     "metadata": {},
     "output_type": "display_data"
    }
   ],
   "source": [
    "mult_vec_ct([\"a\", \"b\", \"c\"], Val{3})"
   ]
  },
  {
   "cell_type": "code",
   "execution_count": 6,
   "metadata": {},
   "outputs": [
    {
     "data": {
      "text/plain": [
       "mult_vec_ct (generic function with 2 methods)"
      ]
     },
     "metadata": {},
     "output_type": "display_data"
    }
   ],
   "source": [
    "mult_vec_ct(v::AbstractVector{T}) where {T} = mult_vec_ct(v, Val{length(v)})"
   ]
  },
  {
   "cell_type": "code",
   "execution_count": 7,
   "metadata": {},
   "outputs": [
    {
     "data": {
      "text/plain": [
       "\"abc\""
      ]
     },
     "metadata": {},
     "output_type": "display_data"
    }
   ],
   "source": [
    "mult_vec_ct([\"a\", \"b\", \"c\"])"
   ]
  },
  {
   "cell_type": "code",
   "execution_count": 8,
   "metadata": {},
   "outputs": [
    {
     "data": {
      "text/plain": [
       "CodeInfo(\n",
       "\u001b[90m1 ─\u001b[39m %1 = Base.arrayref(true, v, 1)\u001b[36m::Int64\u001b[39m\n",
       "\u001b[90m│  \u001b[39m %2 = Base.mul_int(1, %1)\u001b[36m::Int64\u001b[39m\n",
       "\u001b[90m│  \u001b[39m %3 = Base.arrayref(true, v, 2)\u001b[36m::Int64\u001b[39m\n",
       "\u001b[90m│  \u001b[39m %4 = Base.mul_int(%2, %3)\u001b[36m::Int64\u001b[39m\n",
       "\u001b[90m│  \u001b[39m %5 = Base.arrayref(true, v, 3)\u001b[36m::Int64\u001b[39m\n",
       "\u001b[90m│  \u001b[39m %6 = Base.mul_int(%4, %5)\u001b[36m::Int64\u001b[39m\n",
       "\u001b[90m└──\u001b[39m      return %6\n",
       ") => Int64"
      ]
     },
     "metadata": {},
     "output_type": "display_data"
    }
   ],
   "source": [
    "@code_typed mult_vec_ct([3, 4, 5], Val{3})"
   ]
  },
  {
   "cell_type": "code",
   "execution_count": 9,
   "metadata": {},
   "outputs": [
    {
     "data": {
      "text/plain": [
       "quote\n",
       "    r = one(T)\n",
       "    begin\n",
       "        begin\n",
       "            r = r * v[1]\n",
       "        end\n",
       "        begin\n",
       "            r = r * v[2]\n",
       "        end\n",
       "        begin\n",
       "            r = r * v[3]\n",
       "        end\n",
       "    end\n",
       "    return r\n",
       "end"
      ]
     },
     "metadata": {},
     "output_type": "display_data"
    }
   ],
   "source": [
    "debug(mult_vec_ct, [3, 4, 5], Val{3}) |> Base.remove_linenums!"
   ]
  },
  {
   "cell_type": "code",
   "execution_count": 10,
   "metadata": {},
   "outputs": [
    {
     "data": {
      "text/plain": [
       "runtime (generic function with 2 methods)"
      ]
     },
     "metadata": {},
     "output_type": "display_data"
    }
   ],
   "source": [
    "@ct_enable function mult_vec_adaptive(v::AbstractVector{T}, @ct(l)) where {T}\n",
    "    r = one(T)\n",
    "    @ct_ctrl if l < 5\n",
    "        @ct_ctrl for i in 1:l\n",
    "            r = r * v[@ct(i)]\n",
    "        end\n",
    "    else\n",
    "        for i in 1:l\n",
    "            r = r * v[i]\n",
    "        end\n",
    "    end\n",
    "    return r\n",
    "end"
   ]
  },
  {
   "cell_type": "code",
   "execution_count": 11,
   "metadata": {},
   "outputs": [
    {
     "data": {
      "text/plain": [
       "\"abcde\""
      ]
     },
     "metadata": {},
     "output_type": "display_data"
    }
   ],
   "source": [
    "mult_vec_adaptive([\"a\", \"b\", \"c\", \"d\",\"e\"], Val{5})"
   ]
  },
  {
   "cell_type": "code",
   "execution_count": 12,
   "metadata": {},
   "outputs": [
    {
     "data": {
      "text/plain": [
       "quote\n",
       "    r = one(T)\n",
       "    begin\n",
       "        for i = 1:l\n",
       "            r = r * v[i]\n",
       "        end\n",
       "    end\n",
       "    return r\n",
       "end"
      ]
     },
     "metadata": {},
     "output_type": "display_data"
    }
   ],
   "source": [
    "debug(mult_vec_adaptive, [\"a\", \"b\", \"c\", \"d\",\"e\"], Val{5}) |> Base.remove_linenums!"
   ]
  },
  {
   "cell_type": "code",
   "execution_count": 13,
   "metadata": {},
   "outputs": [
    {
     "data": {
      "text/plain": [
       "\"abc\""
      ]
     },
     "metadata": {},
     "output_type": "display_data"
    }
   ],
   "source": [
    "mult_vec_adaptive([\"a\", \"b\", \"c\"], Val{3})"
   ]
  },
  {
   "cell_type": "code",
   "execution_count": 14,
   "metadata": {},
   "outputs": [
    {
     "data": {
      "text/plain": [
       "quote\n",
       "    r = one(T)\n",
       "    begin\n",
       "        begin\n",
       "            begin\n",
       "                r = r * v[1]\n",
       "            end\n",
       "            begin\n",
       "                r = r * v[2]\n",
       "            end\n",
       "            begin\n",
       "                r = r * v[3]\n",
       "            end\n",
       "        end\n",
       "    end\n",
       "    return r\n",
       "end"
      ]
     },
     "metadata": {},
     "output_type": "display_data"
    }
   ],
   "source": [
    "debug(mult_vec_adaptive, [\"a\", \"b\", \"c\"], Val{3}) |> Base.remove_linenums!"
   ]
  }
 ],
 "metadata": {
  "kernelspec": {
   "display_name": "Julia 1.9.3",
   "language": "julia",
   "name": "julia-1.9"
  },
  "language_info": {
   "file_extension": ".jl",
   "mimetype": "application/julia",
   "name": "julia",
   "version": "1.9.3"
  }
 },
 "nbformat": 4,
 "nbformat_minor": 2
}
