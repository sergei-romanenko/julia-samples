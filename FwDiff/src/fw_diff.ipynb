{
 "cells": [
  {
   "cell_type": "markdown",
   "metadata": {},
   "source": [
    "See\n",
    "\n",
    "- [Simple forward-mode AD in Julia using Dual Numbers and Operator Overloading](https://www.youtube.com/watch?v=DfKKTE9XU0Q&list=PLISXH-iEM4JkHNH8Ji0ELDYcak7FD5gqa)\n",
    "\n",
    "- [Simple (scalar) forward-mode Automatic Differentiation with\n",
    "DualNumbers and operator overloading](https://github.com/Ceyron/machine-learning-and-simulation/blob/main/english/adjoints_sensitivities_automatic_differentiation/scalar_forward_ad_with_dual_numbers.jl)\n",
    "\n"
   ]
  },
  {
   "cell_type": "code",
   "execution_count": 1,
   "metadata": {},
   "outputs": [],
   "source": [
    "struct DualNumber{T}\n",
    "    real::T;\n",
    "    dual::T;\n",
    "end"
   ]
  },
  {
   "cell_type": "code",
   "execution_count": 2,
   "metadata": {},
   "outputs": [
    {
     "data": {
      "text/plain": [
       "DualNumber"
      ]
     },
     "execution_count": 2,
     "metadata": {},
     "output_type": "execute_result"
    }
   ],
   "source": [
    "DualNumber(x) = DualNumber(x, zero(x))"
   ]
  },
  {
   "cell_type": "code",
   "execution_count": 3,
   "metadata": {},
   "outputs": [
    {
     "data": {
      "text/plain": [
       "3.0"
      ]
     },
     "execution_count": 3,
     "metadata": {},
     "output_type": "execute_result"
    }
   ],
   "source": [
    "f(x) = x * x\n",
    "f_prime(x) = 2.0 * x\n",
    "x_point = 3.0"
   ]
  },
  {
   "cell_type": "code",
   "execution_count": 4,
   "metadata": {},
   "outputs": [
    {
     "data": {
      "text/plain": [
       "(9.0, 6.0)"
      ]
     },
     "execution_count": 4,
     "metadata": {},
     "output_type": "execute_result"
    }
   ],
   "source": [
    "f(x_point), f_prime(x_point)"
   ]
  },
  {
   "cell_type": "code",
   "execution_count": 5,
   "metadata": {},
   "outputs": [
    {
     "data": {
      "text/plain": [
       "pushforward (generic function with 1 method)"
      ]
     },
     "execution_count": 5,
     "metadata": {},
     "output_type": "execute_result"
    }
   ],
   "source": [
    "function pushforward(f, primal::Real, tangent::Real)\n",
    "    input = DualNumber(primal, tangent)\n",
    "    output = f(input)\n",
    "    primal_out = output.real\n",
    "    tangent_out = output.dual\n",
    "    return primal_out, tangent_out\n",
    "end"
   ]
  },
  {
   "cell_type": "code",
   "execution_count": 6,
   "metadata": {},
   "outputs": [
    {
     "data": {
      "text/plain": [
       "derivative (generic function with 1 method)"
      ]
     },
     "execution_count": 6,
     "metadata": {},
     "output_type": "execute_result"
    }
   ],
   "source": [
    "function derivative(f, x::Real)\n",
    "    v = one(x)\n",
    "    _, df_dx = pushforward(f, x, v)\n",
    "    return df_dx\n",
    "end"
   ]
  },
  {
   "cell_type": "code",
   "execution_count": 7,
   "metadata": {},
   "outputs": [
    {
     "ename": "LoadError",
     "evalue": "MethodError: no method matching *(::DualNumber{Float64}, ::DualNumber{Float64})\n\n\u001b[0mClosest candidates are:\n\u001b[0m  *(::Any, ::Any, \u001b[91m::Any\u001b[39m, \u001b[91m::Any...\u001b[39m)\n\u001b[0m\u001b[90m   @\u001b[39m \u001b[90mBase\u001b[39m \u001b[90m\u001b[4moperators.jl:578\u001b[24m\u001b[39m\n",
     "output_type": "error",
     "traceback": [
      "MethodError: no method matching *(::DualNumber{Float64}, ::DualNumber{Float64})\n\n\u001b[0mClosest candidates are:\n\u001b[0m  *(::Any, ::Any, \u001b[91m::Any\u001b[39m, \u001b[91m::Any...\u001b[39m)\n\u001b[0m\u001b[90m   @\u001b[39m \u001b[90mBase\u001b[39m \u001b[90m\u001b[4moperators.jl:578\u001b[24m\u001b[39m\n",
      "",
      "Stacktrace:",
      " [1] f(x::DualNumber{Float64})",
      "   @ Main ./In[3]:1",
      " [2] pushforward(f::typeof(f), primal::Float64, tangent::Float64)",
      "   @ Main ./In[5]:3",
      " [3] derivative(f::Function, x::Float64)",
      "   @ Main ./In[6]:3",
      " [4] top-level scope",
      "   @ In[7]:1"
     ]
    }
   ],
   "source": [
    "derivative(f, x_point)"
   ]
  },
  {
   "cell_type": "markdown",
   "metadata": {},
   "source": [
    "$(f\\,g)' = f\\, g' + f'\\,g$"
   ]
  },
  {
   "cell_type": "code",
   "execution_count": 8,
   "metadata": {},
   "outputs": [],
   "source": [
    "Base.:*(x::DualNumber, y::DualNumber) =\n",
    "    DualNumber(x.real * y.real, x.real * y.dual + x.dual * y.real)\n",
    "Base.:*(x, y::DualNumber) =\n",
    "    DualNumber(x) * y"
   ]
  },
  {
   "cell_type": "code",
   "execution_count": 9,
   "metadata": {},
   "outputs": [
    {
     "data": {
      "text/plain": [
       "(9.0, 60.0)"
      ]
     },
     "execution_count": 9,
     "metadata": {},
     "output_type": "execute_result"
    }
   ],
   "source": [
    "pushforward(f, x_point, 10.0)"
   ]
  },
  {
   "cell_type": "code",
   "execution_count": 10,
   "metadata": {},
   "outputs": [
    {
     "data": {
      "text/plain": [
       "6.0"
      ]
     },
     "execution_count": 10,
     "metadata": {},
     "output_type": "execute_result"
    }
   ],
   "source": [
    "derivative(f, x_point)"
   ]
  },
  {
   "cell_type": "code",
   "execution_count": 11,
   "metadata": {},
   "outputs": [
    {
     "data": {
      "text/plain": [
       "(27.14112000805987, 17.010007503399553)"
      ]
     },
     "execution_count": 11,
     "metadata": {},
     "output_type": "execute_result"
    }
   ],
   "source": [
    "g(x) = 3.0 * x * x + sin(x)\n",
    "g_prime(x) = 6.0 * x + cos(x)\n",
    "\n",
    "g(x_point), g_prime(x_point)"
   ]
  },
  {
   "cell_type": "code",
   "execution_count": 12,
   "metadata": {},
   "outputs": [
    {
     "ename": "LoadError",
     "evalue": "MethodError: no method matching sin(::DualNumber{Float64})\n\n\u001b[0mClosest candidates are:\n\u001b[0m  sin(\u001b[91m::T\u001b[39m) where T<:Union{Float32, Float64}\n\u001b[0m\u001b[90m   @\u001b[39m \u001b[90mBase\u001b[39m \u001b[90mspecial/\u001b[39m\u001b[90m\u001b[4mtrig.jl:29\u001b[24m\u001b[39m\n\u001b[0m  sin(\u001b[91m::LinearAlgebra.Diagonal\u001b[39m)\n\u001b[0m\u001b[90m   @\u001b[39m \u001b[36mLinearAlgebra\u001b[39m \u001b[90m~/.julia/juliaup/julia-1.9.4+0.x64.linux.gnu/share/julia/stdlib/v1.9/LinearAlgebra/src/\u001b[39m\u001b[90m\u001b[4mdiagonal.jl:678\u001b[24m\u001b[39m\n\u001b[0m  sin(\u001b[91m::LinearAlgebra.UniformScaling\u001b[39m)\n\u001b[0m\u001b[90m   @\u001b[39m \u001b[36mLinearAlgebra\u001b[39m \u001b[90m~/.julia/juliaup/julia-1.9.4+0.x64.linux.gnu/share/julia/stdlib/v1.9/LinearAlgebra/src/\u001b[39m\u001b[90m\u001b[4muniformscaling.jl:173\u001b[24m\u001b[39m\n\u001b[0m  ...\n",
     "output_type": "error",
     "traceback": [
      "MethodError: no method matching sin(::DualNumber{Float64})\n\n\u001b[0mClosest candidates are:\n\u001b[0m  sin(\u001b[91m::T\u001b[39m) where T<:Union{Float32, Float64}\n\u001b[0m\u001b[90m   @\u001b[39m \u001b[90mBase\u001b[39m \u001b[90mspecial/\u001b[39m\u001b[90m\u001b[4mtrig.jl:29\u001b[24m\u001b[39m\n\u001b[0m  sin(\u001b[91m::LinearAlgebra.Diagonal\u001b[39m)\n\u001b[0m\u001b[90m   @\u001b[39m \u001b[36mLinearAlgebra\u001b[39m \u001b[90m~/.julia/juliaup/julia-1.9.4+0.x64.linux.gnu/share/julia/stdlib/v1.9/LinearAlgebra/src/\u001b[39m\u001b[90m\u001b[4mdiagonal.jl:678\u001b[24m\u001b[39m\n\u001b[0m  sin(\u001b[91m::LinearAlgebra.UniformScaling\u001b[39m)\n\u001b[0m\u001b[90m   @\u001b[39m \u001b[36mLinearAlgebra\u001b[39m \u001b[90m~/.julia/juliaup/julia-1.9.4+0.x64.linux.gnu/share/julia/stdlib/v1.9/LinearAlgebra/src/\u001b[39m\u001b[90m\u001b[4muniformscaling.jl:173\u001b[24m\u001b[39m\n\u001b[0m  ...\n",
      "",
      "Stacktrace:",
      " [1] g(x::DualNumber{Float64})",
      "   @ Main ./In[11]:1",
      " [2] pushforward(f::typeof(g), primal::Float64, tangent::Float64)",
      "   @ Main ./In[5]:3",
      " [3] derivative(f::Function, x::Float64)",
      "   @ Main ./In[6]:3",
      " [4] top-level scope",
      "   @ In[12]:1"
     ]
    }
   ],
   "source": [
    "derivative(g, x_point)"
   ]
  },
  {
   "cell_type": "markdown",
   "metadata": {},
   "source": [
    "- $(\\sin x)' = \\cos x$\n",
    "- $y = f(g(x)) ⇒ y' = f'(g(x))\\,g'(x) $"
   ]
  },
  {
   "cell_type": "code",
   "execution_count": 13,
   "metadata": {},
   "outputs": [],
   "source": [
    "Base.sin(z::DualNumber) = DualNumber(sin(z.real), cos(z.real) * z.dual)"
   ]
  },
  {
   "cell_type": "code",
   "execution_count": 14,
   "metadata": {},
   "outputs": [
    {
     "ename": "LoadError",
     "evalue": "MethodError: no method matching +(::DualNumber{Float64}, ::DualNumber{Float64})\n\n\u001b[0mClosest candidates are:\n\u001b[0m  +(::Any, ::Any, \u001b[91m::Any\u001b[39m, \u001b[91m::Any...\u001b[39m)\n\u001b[0m\u001b[90m   @\u001b[39m \u001b[90mBase\u001b[39m \u001b[90m\u001b[4moperators.jl:578\u001b[24m\u001b[39m\n",
     "output_type": "error",
     "traceback": [
      "MethodError: no method matching +(::DualNumber{Float64}, ::DualNumber{Float64})\n\n\u001b[0mClosest candidates are:\n\u001b[0m  +(::Any, ::Any, \u001b[91m::Any\u001b[39m, \u001b[91m::Any...\u001b[39m)\n\u001b[0m\u001b[90m   @\u001b[39m \u001b[90mBase\u001b[39m \u001b[90m\u001b[4moperators.jl:578\u001b[24m\u001b[39m\n",
      "",
      "Stacktrace:",
      " [1] g(x::DualNumber{Float64})",
      "   @ Main ./In[11]:1",
      " [2] pushforward(f::typeof(g), primal::Float64, tangent::Float64)",
      "   @ Main ./In[5]:3",
      " [3] derivative(f::Function, x::Float64)",
      "   @ Main ./In[6]:3",
      " [4] top-level scope",
      "   @ In[14]:1"
     ]
    }
   ],
   "source": [
    "derivative(g, x_point)"
   ]
  },
  {
   "cell_type": "code",
   "execution_count": 15,
   "metadata": {},
   "outputs": [],
   "source": [
    "Base.:+(x::DualNumber, y::DualNumber) =\n",
    "    DualNumber(x.real + y.real, x.dual + y.dual)\n",
    "Base.:+(x, y::DualNumber) =\n",
    "    DualNumber(x) * y\n"
   ]
  },
  {
   "cell_type": "code",
   "execution_count": 16,
   "metadata": {},
   "outputs": [
    {
     "data": {
      "text/plain": [
       "17.010007503399553"
      ]
     },
     "execution_count": 16,
     "metadata": {},
     "output_type": "execute_result"
    }
   ],
   "source": [
    "derivative(g, x_point)"
   ]
  },
  {
   "cell_type": "markdown",
   "metadata": {},
   "source": [
    "See\n",
    "\n",
    "- [Automatic Differentiation in 10 minutes with Julia](https://www.youtube.com/watch?v=vAp6nUMrKYg)"
   ]
  },
  {
   "cell_type": "markdown",
   "metadata": {},
   "source": [
    "## Babylonian sqrt\n",
    "\n",
    "Repeat $t ← (t + x/t)/2$ until $t$ converges to $\\sqrt x$."
   ]
  },
  {
   "cell_type": "code",
   "execution_count": 18,
   "metadata": {},
   "outputs": [
    {
     "data": {
      "text/plain": [
       "babylonian (generic function with 1 method)"
      ]
     },
     "execution_count": 18,
     "metadata": {},
     "output_type": "execute_result"
    }
   ],
   "source": [
    "function babylonian(x; N=10)\n",
    "    t = (1.0 + x) / 2.0\n",
    "    for i = 2:N\n",
    "        t = (t + x / t) / 2.0\n",
    "    end\n",
    "    t\n",
    "end"
   ]
  },
  {
   "cell_type": "code",
   "execution_count": 19,
   "metadata": {},
   "outputs": [
    {
     "data": {
      "text/plain": [
       "(1.4142135623730951, 1.414213562373095)"
      ]
     },
     "execution_count": 19,
     "metadata": {},
     "output_type": "execute_result"
    }
   ],
   "source": [
    "√ 2.0, babylonian(2.0)"
   ]
  },
  {
   "cell_type": "code",
   "execution_count": 20,
   "metadata": {},
   "outputs": [
    {
     "data": {
      "text/plain": [
       "0.35355339059327373"
      ]
     },
     "execution_count": 20,
     "metadata": {},
     "output_type": "execute_result"
    }
   ],
   "source": [
    "sqrt_prime(x) = 0.5 / √ x\n",
    "sqrt_prime(2.0)"
   ]
  },
  {
   "cell_type": "code",
   "execution_count": 22,
   "metadata": {},
   "outputs": [
    {
     "ename": "LoadError",
     "evalue": "MethodError: no method matching /(::DualNumber{Float64}, ::Float64)\n\n\u001b[0mClosest candidates are:\n\u001b[0m  /(\u001b[91m::T\u001b[39m, ::T) where T<:Union{Float16, Float32, Float64}\n\u001b[0m\u001b[90m   @\u001b[39m \u001b[90mBase\u001b[39m \u001b[90m\u001b[4mfloat.jl:411\u001b[24m\u001b[39m\n\u001b[0m  /(\u001b[91m::StridedArray{P}\u001b[39m, ::Real) where P<:Dates.Period\n\u001b[0m\u001b[90m   @\u001b[39m \u001b[32mDates\u001b[39m \u001b[90m~/.julia/juliaup/julia-1.9.4+0.x64.linux.gnu/share/julia/stdlib/v1.9/Dates/src/\u001b[39m\u001b[90m\u001b[4mdeprecated.jl:44\u001b[24m\u001b[39m\n\u001b[0m  /(\u001b[91m::Union{SparseArrays.AbstractCompressedVector{Tv, Ti}, SubArray{Tv, 1, <:SparseArrays.AbstractSparseMatrixCSC{Tv, Ti}, Tuple{Base.Slice{Base.OneTo{Int64}}, Int64}, false}, SubArray{Tv, 1, <:SparseArrays.AbstractSparseVector{Tv, Ti}, Tuple{Base.Slice{Base.OneTo{Int64}}}, false}} where {Tv, Ti}\u001b[39m, ::Number)\n\u001b[0m\u001b[90m   @\u001b[39m \u001b[33mSparseArrays\u001b[39m \u001b[90m~/.julia/juliaup/julia-1.9.4+0.x64.linux.gnu/share/julia/stdlib/v1.9/SparseArrays/src/\u001b[39m\u001b[90m\u001b[4msparsevector.jl:1654\u001b[24m\u001b[39m\n\u001b[0m  ...\n",
     "output_type": "error",
     "traceback": [
      "MethodError: no method matching /(::DualNumber{Float64}, ::Float64)\n\n\u001b[0mClosest candidates are:\n\u001b[0m  /(\u001b[91m::T\u001b[39m, ::T) where T<:Union{Float16, Float32, Float64}\n\u001b[0m\u001b[90m   @\u001b[39m \u001b[90mBase\u001b[39m \u001b[90m\u001b[4mfloat.jl:411\u001b[24m\u001b[39m\n\u001b[0m  /(\u001b[91m::StridedArray{P}\u001b[39m, ::Real) where P<:Dates.Period\n\u001b[0m\u001b[90m   @\u001b[39m \u001b[32mDates\u001b[39m \u001b[90m~/.julia/juliaup/julia-1.9.4+0.x64.linux.gnu/share/julia/stdlib/v1.9/Dates/src/\u001b[39m\u001b[90m\u001b[4mdeprecated.jl:44\u001b[24m\u001b[39m\n\u001b[0m  /(\u001b[91m::Union{SparseArrays.AbstractCompressedVector{Tv, Ti}, SubArray{Tv, 1, <:SparseArrays.AbstractSparseMatrixCSC{Tv, Ti}, Tuple{Base.Slice{Base.OneTo{Int64}}, Int64}, false}, SubArray{Tv, 1, <:SparseArrays.AbstractSparseVector{Tv, Ti}, Tuple{Base.Slice{Base.OneTo{Int64}}}, false}} where {Tv, Ti}\u001b[39m, ::Number)\n\u001b[0m\u001b[90m   @\u001b[39m \u001b[33mSparseArrays\u001b[39m \u001b[90m~/.julia/juliaup/julia-1.9.4+0.x64.linux.gnu/share/julia/stdlib/v1.9/SparseArrays/src/\u001b[39m\u001b[90m\u001b[4msparsevector.jl:1654\u001b[24m\u001b[39m\n\u001b[0m  ...\n",
      "",
      "Stacktrace:",
      " [1] babylonian(x::DualNumber{Float64}; N::Int64)",
      "   @ Main ./In[18]:2",
      " [2] babylonian(x::DualNumber{Float64})",
      "   @ Main ./In[18]:1",
      " [3] pushforward(f::typeof(babylonian), primal::Float64, tangent::Float64)",
      "   @ Main ./In[5]:3",
      " [4] derivative(f::Function, x::Float64)",
      "   @ Main ./In[6]:3",
      " [5] top-level scope",
      "   @ In[22]:1"
     ]
    }
   ],
   "source": [
    "derivative(babylonian, 2.0)"
   ]
  },
  {
   "cell_type": "markdown",
   "metadata": {},
   "source": [
    "$(f/g)' = (f'g - fg')/g^2$"
   ]
  },
  {
   "cell_type": "code",
   "execution_count": 23,
   "metadata": {},
   "outputs": [],
   "source": [
    "Base.:/(x::DualNumber, y::DualNumber) =\n",
    "    DualNumber(x.real / y.real, (x.dual * y.real - x.real * y.dual) / (y.real * y.real))\n",
    "Base.:/(x::DualNumber, y) =\n",
    "    x / DualNumber(y)"
   ]
  },
  {
   "cell_type": "code",
   "execution_count": 24,
   "metadata": {},
   "outputs": [
    {
     "data": {
      "text/plain": [
       "(0.35355339059327373, 0.35355339059327373)"
      ]
     },
     "execution_count": 24,
     "metadata": {},
     "output_type": "execute_result"
    }
   ],
   "source": [
    "derivative(babylonian, 2.0), sqrt_prime(2.0)"
   ]
  }
 ],
 "metadata": {
  "kernelspec": {
   "display_name": "Julia 1.9.4",
   "language": "julia",
   "name": "julia-1.9"
  },
  "language_info": {
   "file_extension": ".jl",
   "mimetype": "application/julia",
   "name": "julia",
   "version": "1.9.4"
  }
 },
 "nbformat": 4,
 "nbformat_minor": 2
}
